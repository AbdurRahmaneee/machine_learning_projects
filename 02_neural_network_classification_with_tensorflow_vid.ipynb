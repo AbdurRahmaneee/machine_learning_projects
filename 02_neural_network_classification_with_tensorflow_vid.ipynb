{
  "nbformat": 4,
  "nbformat_minor": 0,
  "metadata": {
    "colab": {
      "name": "02_neural_network_classification_with_tensorflow_vid.ipynb",
      "provenance": [],
      "collapsed_sections": [],
      "authorship_tag": "ABX9TyM59KkFDrVinXGfrvkhKJZy",
      "include_colab_link": true
    },
    "kernelspec": {
      "name": "python3",
      "display_name": "Python 3"
    },
    "language_info": {
      "name": "python"
    },
    "gpuClass": "standard",
    "accelerator": "GPU"
  },
  "cells": [
    {
      "cell_type": "markdown",
      "metadata": {
        "id": "view-in-github",
        "colab_type": "text"
      },
      "source": [
        "<a href=\"https://colab.research.google.com/github/AbdurRahmaneee/machine_learning_projects/blob/main/02_neural_network_classification_with_tensorflow_vid.ipynb\" target=\"_parent\"><img src=\"https://colab.research.google.com/assets/colab-badge.svg\" alt=\"Open In Colab\"/></a>"
      ]
    },
    {
      "cell_type": "markdown",
      "source": [
        "# Introduction to neural network classification with Tensorflow\n",
        "In this noteboook we're going to learn how to write neural networks for classification problems.\n",
        "\n",
        "A classification problem is where you try to classify something as one thing or another.\n",
        "A few types of classification\n",
        "* Binary classification\n",
        "* Multiclass classification\n",
        "* Multilabel classification"
      ],
      "metadata": {
        "id": "MACW4XOEvzow"
      }
    },
    {
      "cell_type": "code",
      "source": [
        "## Creating data to view and fit\n",
        "from sklearn.datasets import make_circles\n",
        "\n",
        "# Make 1000 examples\n",
        "n_samples = 1000\n",
        "\n",
        "# Create circles\n",
        "X, y = make_circles(n_samples,\n",
        "                    noise=0.03,\n",
        "                    random_state=42)"
      ],
      "metadata": {
        "id": "sqLuHzT67rmy"
      },
      "execution_count": null,
      "outputs": []
    },
    {
      "cell_type": "code",
      "source": [
        "# Check out features\n",
        "X[:10]"
      ],
      "metadata": {
        "id": "jpeM07vFLAna",
        "colab": {
          "base_uri": "https://localhost:8080/"
        },
        "outputId": "58b3de4c-5974-4907-9e88-77a9dd7c2db6"
      },
      "execution_count": null,
      "outputs": [
        {
          "output_type": "execute_result",
          "data": {
            "text/plain": [
              "array([[ 0.75424625,  0.23148074],\n",
              "       [-0.75615888,  0.15325888],\n",
              "       [-0.81539193,  0.17328203],\n",
              "       [-0.39373073,  0.69288277],\n",
              "       [ 0.44220765, -0.89672343],\n",
              "       [-0.47964637,  0.67643477],\n",
              "       [-0.01364836,  0.80334872],\n",
              "       [ 0.77151327,  0.14775959],\n",
              "       [-0.16932234, -0.79345575],\n",
              "       [-0.1214858 ,  1.02150905]])"
            ]
          },
          "metadata": {},
          "execution_count": 2
        }
      ]
    },
    {
      "cell_type": "code",
      "source": [
        "#Check the labels\n",
        "y[:10]"
      ],
      "metadata": {
        "id": "GOVyLc6RQ0Hq",
        "colab": {
          "base_uri": "https://localhost:8080/"
        },
        "outputId": "49acb252-3ce6-4399-db13-fe59bd7906e6"
      },
      "execution_count": null,
      "outputs": [
        {
          "output_type": "execute_result",
          "data": {
            "text/plain": [
              "array([1, 1, 1, 1, 0, 1, 1, 1, 1, 0])"
            ]
          },
          "metadata": {},
          "execution_count": 3
        }
      ]
    },
    {
      "cell_type": "markdown",
      "source": [
        "Our data is a little hard to understand right now... let's visualize it\n"
      ],
      "metadata": {
        "id": "Yl7qjyXgRkj-"
      }
    },
    {
      "cell_type": "code",
      "source": [
        "import pandas as pd\n",
        "circles = pd.DataFrame({\"X1\":X[:, 0], \"X0\":X[:, 1], \"label\":y})\n",
        "circles\n"
      ],
      "metadata": {
        "id": "T0DgOQJRSVAd",
        "colab": {
          "base_uri": "https://localhost:8080/",
          "height": 424
        },
        "outputId": "7de19097-13d3-4b56-ce98-59a5e527567d"
      },
      "execution_count": null,
      "outputs": [
        {
          "output_type": "execute_result",
          "data": {
            "text/plain": [
              "           X1        X0  label\n",
              "0    0.754246  0.231481      1\n",
              "1   -0.756159  0.153259      1\n",
              "2   -0.815392  0.173282      1\n",
              "3   -0.393731  0.692883      1\n",
              "4    0.442208 -0.896723      0\n",
              "..        ...       ...    ...\n",
              "995  0.244054  0.944125      0\n",
              "996 -0.978655 -0.272373      0\n",
              "997 -0.136900 -0.810012      1\n",
              "998  0.670362 -0.767502      0\n",
              "999  0.281057  0.963824      0\n",
              "\n",
              "[1000 rows x 3 columns]"
            ],
            "text/html": [
              "\n",
              "  <div id=\"df-af64683d-2f32-4d7a-ac95-7b4801ba88ef\">\n",
              "    <div class=\"colab-df-container\">\n",
              "      <div>\n",
              "<style scoped>\n",
              "    .dataframe tbody tr th:only-of-type {\n",
              "        vertical-align: middle;\n",
              "    }\n",
              "\n",
              "    .dataframe tbody tr th {\n",
              "        vertical-align: top;\n",
              "    }\n",
              "\n",
              "    .dataframe thead th {\n",
              "        text-align: right;\n",
              "    }\n",
              "</style>\n",
              "<table border=\"1\" class=\"dataframe\">\n",
              "  <thead>\n",
              "    <tr style=\"text-align: right;\">\n",
              "      <th></th>\n",
              "      <th>X1</th>\n",
              "      <th>X0</th>\n",
              "      <th>label</th>\n",
              "    </tr>\n",
              "  </thead>\n",
              "  <tbody>\n",
              "    <tr>\n",
              "      <th>0</th>\n",
              "      <td>0.754246</td>\n",
              "      <td>0.231481</td>\n",
              "      <td>1</td>\n",
              "    </tr>\n",
              "    <tr>\n",
              "      <th>1</th>\n",
              "      <td>-0.756159</td>\n",
              "      <td>0.153259</td>\n",
              "      <td>1</td>\n",
              "    </tr>\n",
              "    <tr>\n",
              "      <th>2</th>\n",
              "      <td>-0.815392</td>\n",
              "      <td>0.173282</td>\n",
              "      <td>1</td>\n",
              "    </tr>\n",
              "    <tr>\n",
              "      <th>3</th>\n",
              "      <td>-0.393731</td>\n",
              "      <td>0.692883</td>\n",
              "      <td>1</td>\n",
              "    </tr>\n",
              "    <tr>\n",
              "      <th>4</th>\n",
              "      <td>0.442208</td>\n",
              "      <td>-0.896723</td>\n",
              "      <td>0</td>\n",
              "    </tr>\n",
              "    <tr>\n",
              "      <th>...</th>\n",
              "      <td>...</td>\n",
              "      <td>...</td>\n",
              "      <td>...</td>\n",
              "    </tr>\n",
              "    <tr>\n",
              "      <th>995</th>\n",
              "      <td>0.244054</td>\n",
              "      <td>0.944125</td>\n",
              "      <td>0</td>\n",
              "    </tr>\n",
              "    <tr>\n",
              "      <th>996</th>\n",
              "      <td>-0.978655</td>\n",
              "      <td>-0.272373</td>\n",
              "      <td>0</td>\n",
              "    </tr>\n",
              "    <tr>\n",
              "      <th>997</th>\n",
              "      <td>-0.136900</td>\n",
              "      <td>-0.810012</td>\n",
              "      <td>1</td>\n",
              "    </tr>\n",
              "    <tr>\n",
              "      <th>998</th>\n",
              "      <td>0.670362</td>\n",
              "      <td>-0.767502</td>\n",
              "      <td>0</td>\n",
              "    </tr>\n",
              "    <tr>\n",
              "      <th>999</th>\n",
              "      <td>0.281057</td>\n",
              "      <td>0.963824</td>\n",
              "      <td>0</td>\n",
              "    </tr>\n",
              "  </tbody>\n",
              "</table>\n",
              "<p>1000 rows × 3 columns</p>\n",
              "</div>\n",
              "      <button class=\"colab-df-convert\" onclick=\"convertToInteractive('df-af64683d-2f32-4d7a-ac95-7b4801ba88ef')\"\n",
              "              title=\"Convert this dataframe to an interactive table.\"\n",
              "              style=\"display:none;\">\n",
              "        \n",
              "  <svg xmlns=\"http://www.w3.org/2000/svg\" height=\"24px\"viewBox=\"0 0 24 24\"\n",
              "       width=\"24px\">\n",
              "    <path d=\"M0 0h24v24H0V0z\" fill=\"none\"/>\n",
              "    <path d=\"M18.56 5.44l.94 2.06.94-2.06 2.06-.94-2.06-.94-.94-2.06-.94 2.06-2.06.94zm-11 1L8.5 8.5l.94-2.06 2.06-.94-2.06-.94L8.5 2.5l-.94 2.06-2.06.94zm10 10l.94 2.06.94-2.06 2.06-.94-2.06-.94-.94-2.06-.94 2.06-2.06.94z\"/><path d=\"M17.41 7.96l-1.37-1.37c-.4-.4-.92-.59-1.43-.59-.52 0-1.04.2-1.43.59L10.3 9.45l-7.72 7.72c-.78.78-.78 2.05 0 2.83L4 21.41c.39.39.9.59 1.41.59.51 0 1.02-.2 1.41-.59l7.78-7.78 2.81-2.81c.8-.78.8-2.07 0-2.86zM5.41 20L4 18.59l7.72-7.72 1.47 1.35L5.41 20z\"/>\n",
              "  </svg>\n",
              "      </button>\n",
              "      \n",
              "  <style>\n",
              "    .colab-df-container {\n",
              "      display:flex;\n",
              "      flex-wrap:wrap;\n",
              "      gap: 12px;\n",
              "    }\n",
              "\n",
              "    .colab-df-convert {\n",
              "      background-color: #E8F0FE;\n",
              "      border: none;\n",
              "      border-radius: 50%;\n",
              "      cursor: pointer;\n",
              "      display: none;\n",
              "      fill: #1967D2;\n",
              "      height: 32px;\n",
              "      padding: 0 0 0 0;\n",
              "      width: 32px;\n",
              "    }\n",
              "\n",
              "    .colab-df-convert:hover {\n",
              "      background-color: #E2EBFA;\n",
              "      box-shadow: 0px 1px 2px rgba(60, 64, 67, 0.3), 0px 1px 3px 1px rgba(60, 64, 67, 0.15);\n",
              "      fill: #174EA6;\n",
              "    }\n",
              "\n",
              "    [theme=dark] .colab-df-convert {\n",
              "      background-color: #3B4455;\n",
              "      fill: #D2E3FC;\n",
              "    }\n",
              "\n",
              "    [theme=dark] .colab-df-convert:hover {\n",
              "      background-color: #434B5C;\n",
              "      box-shadow: 0px 1px 3px 1px rgba(0, 0, 0, 0.15);\n",
              "      filter: drop-shadow(0px 1px 2px rgba(0, 0, 0, 0.3));\n",
              "      fill: #FFFFFF;\n",
              "    }\n",
              "  </style>\n",
              "\n",
              "      <script>\n",
              "        const buttonEl =\n",
              "          document.querySelector('#df-af64683d-2f32-4d7a-ac95-7b4801ba88ef button.colab-df-convert');\n",
              "        buttonEl.style.display =\n",
              "          google.colab.kernel.accessAllowed ? 'block' : 'none';\n",
              "\n",
              "        async function convertToInteractive(key) {\n",
              "          const element = document.querySelector('#df-af64683d-2f32-4d7a-ac95-7b4801ba88ef');\n",
              "          const dataTable =\n",
              "            await google.colab.kernel.invokeFunction('convertToInteractive',\n",
              "                                                     [key], {});\n",
              "          if (!dataTable) return;\n",
              "\n",
              "          const docLinkHtml = 'Like what you see? Visit the ' +\n",
              "            '<a target=\"_blank\" href=https://colab.research.google.com/notebooks/data_table.ipynb>data table notebook</a>'\n",
              "            + ' to learn more about interactive tables.';\n",
              "          element.innerHTML = '';\n",
              "          dataTable['output_type'] = 'display_data';\n",
              "          await google.colab.output.renderOutput(dataTable, element);\n",
              "          const docLink = document.createElement('div');\n",
              "          docLink.innerHTML = docLinkHtml;\n",
              "          element.appendChild(docLink);\n",
              "        }\n",
              "      </script>\n",
              "    </div>\n",
              "  </div>\n",
              "  "
            ]
          },
          "metadata": {},
          "execution_count": 4
        }
      ]
    },
    {
      "cell_type": "code",
      "source": [
        "circles[\"label\"].value_counts()"
      ],
      "metadata": {
        "id": "yuVo8qm86SmB",
        "colab": {
          "base_uri": "https://localhost:8080/"
        },
        "outputId": "dd5443ae-cb97-4282-a2bf-23d85c8c80f9"
      },
      "execution_count": null,
      "outputs": [
        {
          "output_type": "execute_result",
          "data": {
            "text/plain": [
              "1    500\n",
              "0    500\n",
              "Name: label, dtype: int64"
            ]
          },
          "metadata": {},
          "execution_count": 5
        }
      ]
    },
    {
      "cell_type": "code",
      "source": [
        "# Visualize with a plot\n",
        "import matplotlib.pyplot as plt\n",
        "plt.scatter(X[:, 0], X[:, 1], c=y, cmap=plt.cm.RdYlBu)"
      ],
      "metadata": {
        "colab": {
          "base_uri": "https://localhost:8080/",
          "height": 283
        },
        "id": "a0kriXDgjvcM",
        "outputId": "36ed22e7-1cd1-40fd-86ed-c4b49850dd77"
      },
      "execution_count": null,
      "outputs": [
        {
          "output_type": "execute_result",
          "data": {
            "text/plain": [
              "<matplotlib.collections.PathCollection at 0x7f0627244a50>"
            ]
          },
          "metadata": {},
          "execution_count": 6
        },
        {
          "output_type": "display_data",
          "data": {
            "text/plain": [
              "<Figure size 432x288 with 1 Axes>"
            ],
            "image/png": "[encoded data removed]"
          },
          "metadata": {
            "needs_background": "light"
          }
        }
      ]
    },
    {
      "cell_type": "markdown",
      "source": [
        "## Input Output shapes"
      ],
      "metadata": {
        "id": "hGxMkOlQlF0w"
      }
    },
    {
      "cell_type": "code",
      "source": [
        "# Check the shapes of our features and labels\n",
        "X.shape, y.shape"
      ],
      "metadata": {
        "colab": {
          "base_uri": "https://localhost:8080/"
        },
        "id": "jK8DyLJDnZwB",
        "outputId": "26bab4fb-8cbb-44eb-8feb-58e58169edfc"
      },
      "execution_count": null,
      "outputs": [
        {
          "output_type": "execute_result",
          "data": {
            "text/plain": [
              "((1000, 2), (1000,))"
            ]
          },
          "metadata": {},
          "execution_count": 7
        }
      ]
    },
    {
      "cell_type": "code",
      "source": [
        "# How many samples we're working with\n",
        "len(X), len(y)"
      ],
      "metadata": {
        "colab": {
          "base_uri": "https://localhost:8080/"
        },
        "id": "nE-VhIQYnqox",
        "outputId": "ea1d74a1-7eb4-47e4-b44e-721299de3681"
      },
      "execution_count": null,
      "outputs": [
        {
          "output_type": "execute_result",
          "data": {
            "text/plain": [
              "(1000, 1000)"
            ]
          },
          "metadata": {},
          "execution_count": 8
        }
      ]
    },
    {
      "cell_type": "code",
      "source": [
        "# View te first example of features and labels \n",
        "X[0], y[0]"
      ],
      "metadata": {
        "colab": {
          "base_uri": "https://localhost:8080/"
        },
        "id": "0uB7mfmGoF6P",
        "outputId": "94e60c8b-b54f-45b2-c2fe-00774bd0afba"
      },
      "execution_count": null,
      "outputs": [
        {
          "output_type": "execute_result",
          "data": {
            "text/plain": [
              "(array([0.75424625, 0.23148074]), 1)"
            ]
          },
          "metadata": {},
          "execution_count": 9
        }
      ]
    },
    {
      "cell_type": "markdown",
      "source": [
        "## Steps in modeling\n",
        "\n",
        "the steps in modelling with Tensorflow are typically:\n",
        "\n",
        "1. Create or import the model\n",
        "2. Compile a model\n",
        "3. Fit the model\n",
        "4. Evaluate the model\n",
        "5. Tweak\n",
        "6. Evaluate"
      ],
      "metadata": {
        "id": "esinAa0hoRoh"
      }
    },
    {
      "cell_type": "code",
      "source": [
        "# Import tensorflow\n",
        "import tensorflow as tf\n",
        "tf.__version__"
      ],
      "metadata": {
        "colab": {
          "base_uri": "https://localhost:8080/",
          "height": 36
        },
        "id": "shuidsngyfNZ",
        "outputId": "d816e20f-e1ee-4468-f5d5-28f549206cd1"
      },
      "execution_count": null,
      "outputs": [
        {
          "output_type": "execute_result",
          "data": {
            "text/plain": [
              "'2.8.2'"
            ],
            "application/vnd.google.colaboratory.intrinsic+json": {
              "type": "string"
            }
          },
          "metadata": {},
          "execution_count": 10
        }
      ]
    },
    {
      "cell_type": "code",
      "source": [
        "# Set the random  seed\n",
        "tf.random.set_seed(42)\n",
        "\n",
        "# 1. Create the model using the Squential API\n",
        "model_1 = tf.keras.Sequential([\n",
        "    tf.keras.layers.Dense(1)\n",
        "])\n",
        "\n",
        "# 2. compile the model\n",
        "model_1.compile(loss=tf.keras.losses.BinaryCrossentropy(),\n",
        "                optimizer=tf.keras.optimizers.SGD(),\n",
        "                metrics=[\"accuracy\"])\n",
        "\n",
        "# 3. Fit the model\n",
        "model_1.fit(X, y, epochs=5)"
      ],
      "metadata": {
        "colab": {
          "base_uri": "https://localhost:8080/"
        },
        "id": "2F_GPnp2ogGI",
        "outputId": "ef7ed118-a8f8-4fac-d6c4-a015e1fe03a1"
      },
      "execution_count": null,
      "outputs": [
        {
          "output_type": "stream",
          "name": "stdout",
          "text": [
            "Epoch 1/5\n",
            "32/32 [==============================] - 6s 5ms/step - loss: 2.8544 - accuracy: 0.4600\n",
            "Epoch 2/5\n",
            "32/32 [==============================] - 0s 3ms/step - loss: 0.7131 - accuracy: 0.5430\n",
            "Epoch 3/5\n",
            "32/32 [==============================] - 0s 4ms/step - loss: 0.6973 - accuracy: 0.5090\n",
            "Epoch 4/5\n",
            "32/32 [==============================] - 0s 4ms/step - loss: 0.6950 - accuracy: 0.5010\n",
            "Epoch 5/5\n",
            "32/32 [==============================] - 0s 4ms/step - loss: 0.6942 - accuracy: 0.4830\n"
          ]
        },
        {
          "output_type": "execute_result",
          "data": {
            "text/plain": [
              "<keras.callbacks.History at 0x7f05b00719d0>"
            ]
          },
          "metadata": {},
          "execution_count": 11
        }
      ]
    },
    {
      "cell_type": "code",
      "source": [
        "# Let's try and improve our model by training for longer...\n",
        "model_1.fit(X, y, epochs=200, verbose=0)\n",
        "model_1.evaluate(X, y) # wrong method but only for the sake of testing things we arre doing this"
      ],
      "metadata": {
        "colab": {
          "base_uri": "https://localhost:8080/"
        },
        "id": "qqfdfokuy1JF",
        "outputId": "5d4f6ae5-3166-4275-f5d5-6091d5765828"
      },
      "execution_count": null,
      "outputs": [
        {
          "output_type": "stream",
          "name": "stdout",
          "text": [
            "32/32 [==============================] - 0s 2ms/step - loss: 0.6935 - accuracy: 0.5000\n"
          ]
        },
        {
          "output_type": "execute_result",
          "data": {
            "text/plain": [
              "[0.6934829950332642, 0.5]"
            ]
          },
          "metadata": {},
          "execution_count": 12
        }
      ]
    },
    {
      "cell_type": "markdown",
      "source": [
        "Since we're working on a binary classification problem and our model is getting around ~50% accuracy.. It's performing as if it's guessing. So let's step things up a notch and add an extra layer."
      ],
      "metadata": {
        "id": "Sg04B57uziuT"
      }
    },
    {
      "cell_type": "code",
      "source": [
        "# Set the random seed\n",
        "tf.random.set_seed(42)\n",
        "\n",
        "# 1. Create the model, this time with 2 layers\n",
        "model_2 = tf.keras.Sequential([\n",
        "    tf.keras.layers.Dense(1),\n",
        "    tf.keras.layers.Dense(1)\n",
        "])\n",
        "\n",
        "# 2. Compile the model\n",
        "model_2.compile(loss=tf.keras.losses.BinaryCrossentropy(),\n",
        "                optimizer=tf.keras.optimizers.SGD(),\n",
        "                metrics=[\"accuracy\"])\n",
        "\n",
        "# 3. Fit the model\n",
        "model_2.fit(X, y, epochs=100, verbose=0)\n",
        "\n",
        "\n"
      ],
      "metadata": {
        "colab": {
          "base_uri": "https://localhost:8080/"
        },
        "id": "VBjpbEvc4kAA",
        "outputId": "cb80bb75-1795-4eb8-a794-b94ef49e13fe"
      },
      "execution_count": null,
      "outputs": [
        {
          "output_type": "execute_result",
          "data": {
            "text/plain": [
              "<keras.callbacks.History at 0x7f054a3dfe90>"
            ]
          },
          "metadata": {},
          "execution_count": 13
        }
      ]
    },
    {
      "cell_type": "code",
      "source": [
        "# 4. Evaluate the model\n",
        "model_2.evaluate(X, y) # just checking .. not the way it should be\n"
      ],
      "metadata": {
        "colab": {
          "base_uri": "https://localhost:8080/"
        },
        "id": "xg3UnjCL5max",
        "outputId": "bf906841-ccb6-4dd0-9caf-6272ed74ef3d"
      },
      "execution_count": null,
      "outputs": [
        {
          "output_type": "stream",
          "name": "stdout",
          "text": [
            "32/32 [==============================] - 0s 2ms/step - loss: 0.6933 - accuracy: 0.5000\n"
          ]
        },
        {
          "output_type": "execute_result",
          "data": {
            "text/plain": [
              "[0.6933314800262451, 0.5]"
            ]
          },
          "metadata": {},
          "execution_count": 14
        }
      ]
    },
    {
      "cell_type": "code",
      "source": [
        "circles[\"label\"].value_counts()"
      ],
      "metadata": {
        "colab": {
          "base_uri": "https://localhost:8080/"
        },
        "id": "R2LseRDlY8-s",
        "outputId": "1f550675-043d-486a-cd86-44baada79a72"
      },
      "execution_count": null,
      "outputs": [
        {
          "output_type": "execute_result",
          "data": {
            "text/plain": [
              "1    500\n",
              "0    500\n",
              "Name: label, dtype: int64"
            ]
          },
          "metadata": {},
          "execution_count": 15
        }
      ]
    },
    {
      "cell_type": "markdown",
      "source": [
        "## Improving our model\n",
        "\n",
        "Let's look into our bag of tricks to see how we can improve our model.\n",
        "\n",
        "1. Create a model - we might add more layers or increase the number of hidden units within a layer.\n",
        "2. Compiling a model - here we might choose a different optimization function such as Adam instead of SGD.\n",
        "3. Fitting a model - perhaps we might fit our model for more epochs (leave it training for longer)\n",
        "\n"
      ],
      "metadata": {
        "id": "_UREXlNc55PI"
      }
    },
    {
      "cell_type": "code",
      "source": [
        "# set the random seed\n",
        "tf.random .set_seed(42)\n",
        "\n",
        "# 1. Create the model (this time 3 layers)\n",
        "model_3 = tf.keras.Sequential([\n",
        "    tf.keras.layers.Dense(100), # add 100 dense neurons\n",
        "    tf.keras.layers.Dense(10), # add another layer with 10 neurons\n",
        "    tf.keras.layers.Dense(1)\n",
        "])\n",
        "\n",
        "# 2. Compile the model\n",
        "model_3.compile(loss=tf.keras.losses.BinaryCrossentropy(),\n",
        "                optimizer=tf.keras.optimizers.Adam(),\n",
        "                metrics=[\"accuracy\"])\n",
        "\n",
        "# 3. Fit the model\n",
        "model_3.fit(X, y, epochs=100, verbose=0)"
      ],
      "metadata": {
        "id": "hCrKpahdZX-8",
        "colab": {
          "base_uri": "https://localhost:8080/"
        },
        "outputId": "2a6df729-5fd7-4878-ecbb-dc47b522be7c"
      },
      "execution_count": null,
      "outputs": [
        {
          "output_type": "execute_result",
          "data": {
            "text/plain": [
              "<keras.callbacks.History at 0x7f054a3372d0>"
            ]
          },
          "metadata": {},
          "execution_count": 16
        }
      ]
    },
    {
      "cell_type": "code",
      "source": [
        "# Evaluate the model\n",
        "model_3.evaluate(X, y)"
      ],
      "metadata": {
        "colab": {
          "base_uri": "https://localhost:8080/"
        },
        "id": "Gf6iU-Dmc5H1",
        "outputId": "7f5a639a-bb4c-494f-f706-5c48c8116f68"
      },
      "execution_count": null,
      "outputs": [
        {
          "output_type": "stream",
          "name": "stdout",
          "text": [
            "32/32 [==============================] - 0s 2ms/step - loss: 0.6980 - accuracy: 0.5090\n"
          ]
        },
        {
          "output_type": "execute_result",
          "data": {
            "text/plain": [
              "[0.6980189681053162, 0.5090000033378601]"
            ]
          },
          "metadata": {},
          "execution_count": 17
        }
      ]
    },
    {
      "cell_type": "code",
      "source": [
        "model_2.summary()"
      ],
      "metadata": {
        "colab": {
          "base_uri": "https://localhost:8080/"
        },
        "id": "hArx74oIbY4N",
        "outputId": "8ed8a481-92b8-45c7-8cec-922e465cfecb"
      },
      "execution_count": null,
      "outputs": [
        {
          "output_type": "stream",
          "name": "stdout",
          "text": [
            "Model: \"sequential_1\"\n",
            "_________________________________________________________________\n",
            " Layer (type)                Output Shape              Param #   \n",
            "=================================================================\n",
            " dense_1 (Dense)             (None, 1)                 3         \n",
            "                                                                 \n",
            " dense_2 (Dense)             (None, 1)                 2         \n",
            "                                                                 \n",
            "=================================================================\n",
            "Total params: 5\n",
            "Trainable params: 5\n",
            "Non-trainable params: 0\n",
            "_________________________________________________________________\n"
          ]
        }
      ]
    },
    {
      "cell_type": "code",
      "source": [
        "model_3.predict(X)"
      ],
      "metadata": {
        "id": "9tuhuhWvbbWe",
        "colab": {
          "base_uri": "https://localhost:8080/"
        },
        "outputId": "ffa6f4d2-86b0-43b3-ade0-d3274f0ff81a"
      },
      "execution_count": null,
      "outputs": [
        {
          "output_type": "execute_result",
          "data": {
            "text/plain": [
              "array([[0.48797876],\n",
              "       [0.5587215 ],\n",
              "       [0.5627682 ],\n",
              "       [0.5704468 ],\n",
              "       [0.4413178 ],\n",
              "       [0.57380956],\n",
              "       [0.5576471 ],\n",
              "       [0.48250753],\n",
              "       [0.47739536],\n",
              "       [0.5750267 ],\n",
              "       [0.5146474 ],\n",
              "       [0.530954  ],\n",
              "       [0.56436497],\n",
              "       [0.45786664],\n",
              "       [0.45048124],\n",
              "       [0.4611847 ],\n",
              "       [0.5403366 ],\n",
              "       [0.4636816 ],\n",
              "       [0.5477953 ],\n",
              "       [0.5035373 ],\n",
              "       [0.5063538 ],\n",
              "       [0.5876872 ],\n",
              "       [0.45886254],\n",
              "       [0.49128175],\n",
              "       [0.5830689 ],\n",
              "       [0.5702522 ],\n",
              "       [0.55244625],\n",
              "       [0.46319488],\n",
              "       [0.45762724],\n",
              "       [0.45438197],\n",
              "       [0.47853085],\n",
              "       [0.5785489 ],\n",
              "       [0.5554612 ],\n",
              "       [0.46345052],\n",
              "       [0.45831457],\n",
              "       [0.5897556 ],\n",
              "       [0.5723804 ],\n",
              "       [0.52979374],\n",
              "       [0.45860222],\n",
              "       [0.5110102 ],\n",
              "       [0.49972537],\n",
              "       [0.54636717],\n",
              "       [0.5107675 ],\n",
              "       [0.4579871 ],\n",
              "       [0.52209777],\n",
              "       [0.5386615 ],\n",
              "       [0.4486503 ],\n",
              "       [0.5443676 ],\n",
              "       [0.43544194],\n",
              "       [0.49363074],\n",
              "       [0.52276033],\n",
              "       [0.46450862],\n",
              "       [0.5528677 ],\n",
              "       [0.5225192 ],\n",
              "       [0.48314872],\n",
              "       [0.48770514],\n",
              "       [0.5528327 ],\n",
              "       [0.47156677],\n",
              "       [0.5810503 ],\n",
              "       [0.50450385],\n",
              "       [0.51855135],\n",
              "       [0.5021414 ],\n",
              "       [0.5016075 ],\n",
              "       [0.58518505],\n",
              "       [0.5440359 ],\n",
              "       [0.5728104 ],\n",
              "       [0.5664941 ],\n",
              "       [0.47381335],\n",
              "       [0.5214848 ],\n",
              "       [0.5014738 ],\n",
              "       [0.55510324],\n",
              "       [0.45800066],\n",
              "       [0.533176  ],\n",
              "       [0.55732006],\n",
              "       [0.525113  ],\n",
              "       [0.53067553],\n",
              "       [0.5633826 ],\n",
              "       [0.49422807],\n",
              "       [0.5403799 ],\n",
              "       [0.5145039 ],\n",
              "       [0.56711155],\n",
              "       [0.51632017],\n",
              "       [0.53748834],\n",
              "       [0.5224242 ],\n",
              "       [0.50226814],\n",
              "       [0.50769687],\n",
              "       [0.46975332],\n",
              "       [0.56796235],\n",
              "       [0.5528528 ],\n",
              "       [0.49885377],\n",
              "       [0.4516447 ],\n",
              "       [0.4418832 ],\n",
              "       [0.48667222],\n",
              "       [0.58233494],\n",
              "       [0.5300386 ],\n",
              "       [0.4340549 ],\n",
              "       [0.5449733 ],\n",
              "       [0.5427735 ],\n",
              "       [0.51794666],\n",
              "       [0.49621654],\n",
              "       [0.56339365],\n",
              "       [0.4712417 ],\n",
              "       [0.4535297 ],\n",
              "       [0.5546845 ],\n",
              "       [0.5603381 ],\n",
              "       [0.5690857 ],\n",
              "       [0.5103524 ],\n",
              "       [0.45556876],\n",
              "       [0.5824947 ],\n",
              "       [0.4562598 ],\n",
              "       [0.49071354],\n",
              "       [0.50502706],\n",
              "       [0.46991342],\n",
              "       [0.50863075],\n",
              "       [0.53654003],\n",
              "       [0.43832082],\n",
              "       [0.5867373 ],\n",
              "       [0.46415016],\n",
              "       [0.49697003],\n",
              "       [0.525052  ],\n",
              "       [0.46017683],\n",
              "       [0.43710062],\n",
              "       [0.5701599 ],\n",
              "       [0.55801827],\n",
              "       [0.5743599 ],\n",
              "       [0.5137667 ],\n",
              "       [0.5269607 ],\n",
              "       [0.44198686],\n",
              "       [0.47200742],\n",
              "       [0.52193207],\n",
              "       [0.5407083 ],\n",
              "       [0.48075813],\n",
              "       [0.54784083],\n",
              "       [0.46940833],\n",
              "       [0.49087206],\n",
              "       [0.51215154],\n",
              "       [0.56369334],\n",
              "       [0.58088803],\n",
              "       [0.48335826],\n",
              "       [0.5280514 ],\n",
              "       [0.4982367 ],\n",
              "       [0.55989426],\n",
              "       [0.5664958 ],\n",
              "       [0.5402063 ],\n",
              "       [0.46060997],\n",
              "       [0.45324057],\n",
              "       [0.5119664 ],\n",
              "       [0.5650194 ],\n",
              "       [0.50315   ],\n",
              "       [0.49986342],\n",
              "       [0.5644649 ],\n",
              "       [0.5811912 ],\n",
              "       [0.4635595 ],\n",
              "       [0.44012284],\n",
              "       [0.45459592],\n",
              "       [0.44468787],\n",
              "       [0.512666  ],\n",
              "       [0.5683064 ],\n",
              "       [0.51543957],\n",
              "       [0.46162698],\n",
              "       [0.54280525],\n",
              "       [0.5409759 ],\n",
              "       [0.5627584 ],\n",
              "       [0.57011956],\n",
              "       [0.47409818],\n",
              "       [0.57026035],\n",
              "       [0.52294415],\n",
              "       [0.57258254],\n",
              "       [0.50850874],\n",
              "       [0.5129677 ],\n",
              "       [0.4663222 ],\n",
              "       [0.45220545],\n",
              "       [0.55755603],\n",
              "       [0.46759742],\n",
              "       [0.4504538 ],\n",
              "       [0.46580267],\n",
              "       [0.55620706],\n",
              "       [0.5539815 ],\n",
              "       [0.51640624],\n",
              "       [0.5711471 ],\n",
              "       [0.4548174 ],\n",
              "       [0.5716362 ],\n",
              "       [0.45597818],\n",
              "       [0.49003065],\n",
              "       [0.49064377],\n",
              "       [0.5755713 ],\n",
              "       [0.47027278],\n",
              "       [0.46109387],\n",
              "       [0.45438477],\n",
              "       [0.55486965],\n",
              "       [0.45588052],\n",
              "       [0.49816877],\n",
              "       [0.56907284],\n",
              "       [0.58391446],\n",
              "       [0.5830427 ],\n",
              "       [0.4468241 ],\n",
              "       [0.48933408],\n",
              "       [0.5833359 ],\n",
              "       [0.5498224 ],\n",
              "       [0.5288148 ],\n",
              "       [0.48511297],\n",
              "       [0.49472034],\n",
              "       [0.5715706 ],\n",
              "       [0.5119813 ],\n",
              "       [0.49446356],\n",
              "       [0.5386713 ],\n",
              "       [0.586382  ],\n",
              "       [0.45264018],\n",
              "       [0.46115246],\n",
              "       [0.50221723],\n",
              "       [0.52216053],\n",
              "       [0.5792105 ],\n",
              "       [0.4540447 ],\n",
              "       [0.4980707 ],\n",
              "       [0.5638175 ],\n",
              "       [0.4885737 ],\n",
              "       [0.5705441 ],\n",
              "       [0.562174  ],\n",
              "       [0.4563051 ],\n",
              "       [0.56562823],\n",
              "       [0.5180292 ],\n",
              "       [0.5618265 ],\n",
              "       [0.46153268],\n",
              "       [0.5030207 ],\n",
              "       [0.45773   ],\n",
              "       [0.46396866],\n",
              "       [0.5020241 ],\n",
              "       [0.47392195],\n",
              "       [0.4552381 ],\n",
              "       [0.49675807],\n",
              "       [0.48326442],\n",
              "       [0.47114247],\n",
              "       [0.4538627 ],\n",
              "       [0.5280091 ],\n",
              "       [0.49031377],\n",
              "       [0.4883245 ],\n",
              "       [0.5749598 ],\n",
              "       [0.45282498],\n",
              "       [0.58910406],\n",
              "       [0.4927381 ],\n",
              "       [0.46622264],\n",
              "       [0.582618  ],\n",
              "       [0.48133183],\n",
              "       [0.5209825 ],\n",
              "       [0.52057195],\n",
              "       [0.559872  ],\n",
              "       [0.4400592 ],\n",
              "       [0.5289961 ],\n",
              "       [0.5333007 ],\n",
              "       [0.5325407 ],\n",
              "       [0.53265923],\n",
              "       [0.46726465],\n",
              "       [0.52940357],\n",
              "       [0.46245992],\n",
              "       [0.4494431 ],\n",
              "       [0.5014109 ],\n",
              "       [0.48380157],\n",
              "       [0.4514936 ],\n",
              "       [0.45112962],\n",
              "       [0.46843907],\n",
              "       [0.5652962 ],\n",
              "       [0.44670573],\n",
              "       [0.54403496],\n",
              "       [0.55249834],\n",
              "       [0.47090647],\n",
              "       [0.47032523],\n",
              "       [0.52204025],\n",
              "       [0.45566905],\n",
              "       [0.55923   ],\n",
              "       [0.45280537],\n",
              "       [0.45498207],\n",
              "       [0.56425077],\n",
              "       [0.4593873 ],\n",
              "       [0.5629336 ],\n",
              "       [0.48915732],\n",
              "       [0.47753632],\n",
              "       [0.5879376 ],\n",
              "       [0.54672396],\n",
              "       [0.53201   ],\n",
              "       [0.5294543 ],\n",
              "       [0.5312519 ],\n",
              "       [0.52453065],\n",
              "       [0.5685848 ],\n",
              "       [0.53048205],\n",
              "       [0.5829291 ],\n",
              "       [0.56955653],\n",
              "       [0.47295496],\n",
              "       [0.4415671 ],\n",
              "       [0.57412183],\n",
              "       [0.4564964 ],\n",
              "       [0.45383352],\n",
              "       [0.5228786 ],\n",
              "       [0.4728887 ],\n",
              "       [0.44389948],\n",
              "       [0.4640609 ],\n",
              "       [0.44353014],\n",
              "       [0.45254403],\n",
              "       [0.44256073],\n",
              "       [0.46985787],\n",
              "       [0.58316195],\n",
              "       [0.49842063],\n",
              "       [0.43967122],\n",
              "       [0.45414382],\n",
              "       [0.441037  ],\n",
              "       [0.5354715 ],\n",
              "       [0.4536723 ],\n",
              "       [0.4840677 ],\n",
              "       [0.5234557 ],\n",
              "       [0.4532833 ],\n",
              "       [0.52013415],\n",
              "       [0.53958035],\n",
              "       [0.49044845],\n",
              "       [0.5290096 ],\n",
              "       [0.5670008 ],\n",
              "       [0.44325694],\n",
              "       [0.439765  ],\n",
              "       [0.57382286],\n",
              "       [0.47398585],\n",
              "       [0.56533355],\n",
              "       [0.5797732 ],\n",
              "       [0.529913  ],\n",
              "       [0.57747465],\n",
              "       [0.51962656],\n",
              "       [0.5577778 ],\n",
              "       [0.5343543 ],\n",
              "       [0.47747007],\n",
              "       [0.47940385],\n",
              "       [0.45135617],\n",
              "       [0.57017785],\n",
              "       [0.57024133],\n",
              "       [0.5681456 ],\n",
              "       [0.50619197],\n",
              "       [0.56356245],\n",
              "       [0.55336636],\n",
              "       [0.4610155 ],\n",
              "       [0.5068994 ],\n",
              "       [0.5705405 ],\n",
              "       [0.5069662 ],\n",
              "       [0.465189  ],\n",
              "       [0.49290144],\n",
              "       [0.4474733 ],\n",
              "       [0.44248646],\n",
              "       [0.5865113 ],\n",
              "       [0.56647056],\n",
              "       [0.4507627 ],\n",
              "       [0.44001803],\n",
              "       [0.508486  ],\n",
              "       [0.45880806],\n",
              "       [0.54348963],\n",
              "       [0.45213357],\n",
              "       [0.5896788 ],\n",
              "       [0.5434919 ],\n",
              "       [0.46230155],\n",
              "       [0.5258051 ],\n",
              "       [0.52752304],\n",
              "       [0.5739086 ],\n",
              "       [0.52201337],\n",
              "       [0.43615308],\n",
              "       [0.49245408],\n",
              "       [0.5764632 ],\n",
              "       [0.440317  ],\n",
              "       [0.5305379 ],\n",
              "       [0.5750875 ],\n",
              "       [0.44149804],\n",
              "       [0.58492017],\n",
              "       [0.4851721 ],\n",
              "       [0.5388972 ],\n",
              "       [0.5874017 ],\n",
              "       [0.44887033],\n",
              "       [0.47669566],\n",
              "       [0.5844954 ],\n",
              "       [0.56950974],\n",
              "       [0.57748055],\n",
              "       [0.5888508 ],\n",
              "       [0.46744764],\n",
              "       [0.5555099 ],\n",
              "       [0.45104593],\n",
              "       [0.5299606 ],\n",
              "       [0.4560971 ],\n",
              "       [0.50993127],\n",
              "       [0.56593657],\n",
              "       [0.5802764 ],\n",
              "       [0.5287161 ],\n",
              "       [0.5713105 ],\n",
              "       [0.57852066],\n",
              "       [0.4554677 ],\n",
              "       [0.47774056],\n",
              "       [0.57022345],\n",
              "       [0.46481356],\n",
              "       [0.53969735],\n",
              "       [0.58780897],\n",
              "       [0.49677387],\n",
              "       [0.5706973 ],\n",
              "       [0.5545286 ],\n",
              "       [0.5330524 ],\n",
              "       [0.5142661 ],\n",
              "       [0.44621637],\n",
              "       [0.44014856],\n",
              "       [0.5502559 ],\n",
              "       [0.4701371 ],\n",
              "       [0.4792986 ],\n",
              "       [0.4449729 ],\n",
              "       [0.49813524],\n",
              "       [0.4932284 ],\n",
              "       [0.55051845],\n",
              "       [0.5695236 ],\n",
              "       [0.45503086],\n",
              "       [0.49205884],\n",
              "       [0.50753033],\n",
              "       [0.4738086 ],\n",
              "       [0.48525167],\n",
              "       [0.45172396],\n",
              "       [0.53265315],\n",
              "       [0.54842645],\n",
              "       [0.50800747],\n",
              "       [0.5704293 ],\n",
              "       [0.5719571 ],\n",
              "       [0.49626106],\n",
              "       [0.4850822 ],\n",
              "       [0.44146568],\n",
              "       [0.47935024],\n",
              "       [0.5679311 ],\n",
              "       [0.45135444],\n",
              "       [0.52319366],\n",
              "       [0.4377723 ],\n",
              "       [0.46376568],\n",
              "       [0.53523344],\n",
              "       [0.5135405 ],\n",
              "       [0.56528205],\n",
              "       [0.5467286 ],\n",
              "       [0.5352394 ],\n",
              "       [0.4659384 ],\n",
              "       [0.47353736],\n",
              "       [0.4424114 ],\n",
              "       [0.5411628 ],\n",
              "       [0.4717229 ],\n",
              "       [0.58875614],\n",
              "       [0.46100113],\n",
              "       [0.46452036],\n",
              "       [0.550825  ],\n",
              "       [0.57727987],\n",
              "       [0.52297544],\n",
              "       [0.45892838],\n",
              "       [0.5712916 ],\n",
              "       [0.50274485],\n",
              "       [0.52746004],\n",
              "       [0.5585106 ],\n",
              "       [0.58647037],\n",
              "       [0.57286257],\n",
              "       [0.5711194 ],\n",
              "       [0.53217953],\n",
              "       [0.46937773],\n",
              "       [0.44534835],\n",
              "       [0.5849368 ],\n",
              "       [0.56211084],\n",
              "       [0.5639499 ],\n",
              "       [0.46231678],\n",
              "       [0.5720912 ],\n",
              "       [0.45931864],\n",
              "       [0.4415106 ],\n",
              "       [0.52439344],\n",
              "       [0.55709565],\n",
              "       [0.5383372 ],\n",
              "       [0.45819804],\n",
              "       [0.4481974 ],\n",
              "       [0.55492634],\n",
              "       [0.5607649 ],\n",
              "       [0.43939435],\n",
              "       [0.48627427],\n",
              "       [0.44142672],\n",
              "       [0.44690466],\n",
              "       [0.5393664 ],\n",
              "       [0.45071176],\n",
              "       [0.5388897 ],\n",
              "       [0.48368603],\n",
              "       [0.46545336],\n",
              "       [0.4544065 ],\n",
              "       [0.45249444],\n",
              "       [0.5478133 ],\n",
              "       [0.53989   ],\n",
              "       [0.54640955],\n",
              "       [0.54451936],\n",
              "       [0.47653714],\n",
              "       [0.44572574],\n",
              "       [0.49511388],\n",
              "       [0.4954655 ],\n",
              "       [0.4981949 ],\n",
              "       [0.48914856],\n",
              "       [0.5862858 ],\n",
              "       [0.45875716],\n",
              "       [0.46313557],\n",
              "       [0.54282796],\n",
              "       [0.54918337],\n",
              "       [0.5518146 ],\n",
              "       [0.44193226],\n",
              "       [0.58486855],\n",
              "       [0.44037622],\n",
              "       [0.44285473],\n",
              "       [0.47277546],\n",
              "       [0.46436688],\n",
              "       [0.5760217 ],\n",
              "       [0.586606  ],\n",
              "       [0.4446304 ],\n",
              "       [0.45414174],\n",
              "       [0.52378803],\n",
              "       [0.45661098],\n",
              "       [0.57116485],\n",
              "       [0.45261893],\n",
              "       [0.458768  ],\n",
              "       [0.55265915],\n",
              "       [0.5553392 ],\n",
              "       [0.49858686],\n",
              "       [0.488131  ],\n",
              "       [0.47333017],\n",
              "       [0.49740973],\n",
              "       [0.54499215],\n",
              "       [0.58093214],\n",
              "       [0.5927671 ],\n",
              "       [0.4649641 ],\n",
              "       [0.48062307],\n",
              "       [0.47065598],\n",
              "       [0.56896216],\n",
              "       [0.47914466],\n",
              "       [0.48469442],\n",
              "       [0.44096667],\n",
              "       [0.5059478 ],\n",
              "       [0.49643162],\n",
              "       [0.58865154],\n",
              "       [0.55484515],\n",
              "       [0.54514325],\n",
              "       [0.51041996],\n",
              "       [0.52250487],\n",
              "       [0.55718756],\n",
              "       [0.53530663],\n",
              "       [0.48401862],\n",
              "       [0.4408192 ],\n",
              "       [0.5829372 ],\n",
              "       [0.5275477 ],\n",
              "       [0.5610435 ],\n",
              "       [0.44076586],\n",
              "       [0.588219  ],\n",
              "       [0.5455878 ],\n",
              "       [0.5683793 ],\n",
              "       [0.45777276],\n",
              "       [0.56426114],\n",
              "       [0.45289198],\n",
              "       [0.47856542],\n",
              "       [0.50241774],\n",
              "       [0.53596944],\n",
              "       [0.56647474],\n",
              "       [0.5630399 ],\n",
              "       [0.44746798],\n",
              "       [0.57244307],\n",
              "       [0.5097773 ],\n",
              "       [0.4765266 ],\n",
              "       [0.45558953],\n",
              "       [0.4607326 ],\n",
              "       [0.54830027],\n",
              "       [0.50184816],\n",
              "       [0.477814  ],\n",
              "       [0.5856234 ],\n",
              "       [0.47009683],\n",
              "       [0.49611717],\n",
              "       [0.5596558 ],\n",
              "       [0.55065495],\n",
              "       [0.43626466],\n",
              "       [0.5741368 ],\n",
              "       [0.51323086],\n",
              "       [0.4855284 ],\n",
              "       [0.45605525],\n",
              "       [0.5802417 ],\n",
              "       [0.5648088 ],\n",
              "       [0.53012717],\n",
              "       [0.50921005],\n",
              "       [0.47543484],\n",
              "       [0.45370302],\n",
              "       [0.5752258 ],\n",
              "       [0.44258243],\n",
              "       [0.44679347],\n",
              "       [0.5588287 ],\n",
              "       [0.5015425 ],\n",
              "       [0.48054746],\n",
              "       [0.5085407 ],\n",
              "       [0.5263262 ],\n",
              "       [0.51618266],\n",
              "       [0.44321695],\n",
              "       [0.4986244 ],\n",
              "       [0.5529788 ],\n",
              "       [0.49550384],\n",
              "       [0.58600664],\n",
              "       [0.56447655],\n",
              "       [0.4992537 ],\n",
              "       [0.5726957 ],\n",
              "       [0.55042195],\n",
              "       [0.47585538],\n",
              "       [0.5802747 ],\n",
              "       [0.5308377 ],\n",
              "       [0.5451352 ],\n",
              "       [0.5229109 ],\n",
              "       [0.55985695],\n",
              "       [0.47283006],\n",
              "       [0.569884  ],\n",
              "       [0.49908748],\n",
              "       [0.5566674 ],\n",
              "       [0.56793   ],\n",
              "       [0.45883375],\n",
              "       [0.58805084],\n",
              "       [0.5618083 ],\n",
              "       [0.5554852 ],\n",
              "       [0.54769343],\n",
              "       [0.5840543 ],\n",
              "       [0.51864696],\n",
              "       [0.5422481 ],\n",
              "       [0.56933814],\n",
              "       [0.56766653],\n",
              "       [0.5735384 ],\n",
              "       [0.4592386 ],\n",
              "       [0.48280394],\n",
              "       [0.46375278],\n",
              "       [0.49703455],\n",
              "       [0.45596373],\n",
              "       [0.5798628 ],\n",
              "       [0.47932878],\n",
              "       [0.5832792 ],\n",
              "       [0.47524413],\n",
              "       [0.4797202 ],\n",
              "       [0.5004672 ],\n",
              "       [0.46364808],\n",
              "       [0.45268747],\n",
              "       [0.4827546 ],\n",
              "       [0.4567242 ],\n",
              "       [0.44714117],\n",
              "       [0.5377872 ],\n",
              "       [0.56605226],\n",
              "       [0.46661833],\n",
              "       [0.5754494 ],\n",
              "       [0.48470592],\n",
              "       [0.453053  ],\n",
              "       [0.43734822],\n",
              "       [0.45641336],\n",
              "       [0.4625619 ],\n",
              "       [0.57586265],\n",
              "       [0.48991445],\n",
              "       [0.45692307],\n",
              "       [0.45831385],\n",
              "       [0.4411886 ],\n",
              "       [0.45950514],\n",
              "       [0.48354623],\n",
              "       [0.5687643 ],\n",
              "       [0.49051887],\n",
              "       [0.58144796],\n",
              "       [0.48464814],\n",
              "       [0.47537178],\n",
              "       [0.47533554],\n",
              "       [0.45521167],\n",
              "       [0.49638134],\n",
              "       [0.5306675 ],\n",
              "       [0.4588894 ],\n",
              "       [0.5858019 ],\n",
              "       [0.46101335],\n",
              "       [0.58012635],\n",
              "       [0.5221312 ],\n",
              "       [0.46760118],\n",
              "       [0.5503354 ],\n",
              "       [0.55791664],\n",
              "       [0.58062965],\n",
              "       [0.5710067 ],\n",
              "       [0.5485379 ],\n",
              "       [0.44393414],\n",
              "       [0.4361314 ],\n",
              "       [0.5506281 ],\n",
              "       [0.53208935],\n",
              "       [0.5342649 ],\n",
              "       [0.5724929 ],\n",
              "       [0.56600726],\n",
              "       [0.5081947 ],\n",
              "       [0.58197486],\n",
              "       [0.44368926],\n",
              "       [0.44981503],\n",
              "       [0.5814361 ],\n",
              "       [0.567134  ],\n",
              "       [0.49005157],\n",
              "       [0.5455233 ],\n",
              "       [0.46924356],\n",
              "       [0.514468  ],\n",
              "       [0.48764706],\n",
              "       [0.43894744],\n",
              "       [0.5713752 ],\n",
              "       [0.561333  ],\n",
              "       [0.51666915],\n",
              "       [0.5531785 ],\n",
              "       [0.52117276],\n",
              "       [0.55844235],\n",
              "       [0.5638569 ],\n",
              "       [0.4625724 ],\n",
              "       [0.5559871 ],\n",
              "       [0.54680204],\n",
              "       [0.5239561 ],\n",
              "       [0.4420454 ],\n",
              "       [0.5812286 ],\n",
              "       [0.5255966 ],\n",
              "       [0.559094  ],\n",
              "       [0.45784926],\n",
              "       [0.504116  ],\n",
              "       [0.465412  ],\n",
              "       [0.45322227],\n",
              "       [0.58113617],\n",
              "       [0.5756982 ],\n",
              "       [0.5625747 ],\n",
              "       [0.45377195],\n",
              "       [0.5575262 ],\n",
              "       [0.56670797],\n",
              "       [0.47748253],\n",
              "       [0.4457948 ],\n",
              "       [0.49774677],\n",
              "       [0.5852514 ],\n",
              "       [0.5674541 ],\n",
              "       [0.4810174 ],\n",
              "       [0.5488481 ],\n",
              "       [0.5787283 ],\n",
              "       [0.4559054 ],\n",
              "       [0.5851974 ],\n",
              "       [0.5475754 ],\n",
              "       [0.5404521 ],\n",
              "       [0.5272949 ],\n",
              "       [0.4427783 ],\n",
              "       [0.56629634],\n",
              "       [0.5859678 ],\n",
              "       [0.585108  ],\n",
              "       [0.436286  ],\n",
              "       [0.5664884 ],\n",
              "       [0.44193965],\n",
              "       [0.4554309 ],\n",
              "       [0.5434116 ],\n",
              "       [0.46127936],\n",
              "       [0.49505246],\n",
              "       [0.46479675],\n",
              "       [0.5648379 ],\n",
              "       [0.56353587],\n",
              "       [0.44714463],\n",
              "       [0.53028286],\n",
              "       [0.54215515],\n",
              "       [0.5618417 ],\n",
              "       [0.4578551 ],\n",
              "       [0.58228344],\n",
              "       [0.56176925],\n",
              "       [0.45588154],\n",
              "       [0.54820365],\n",
              "       [0.51762867],\n",
              "       [0.453434  ],\n",
              "       [0.55438805],\n",
              "       [0.46649522],\n",
              "       [0.54841685],\n",
              "       [0.4528664 ],\n",
              "       [0.46356678],\n",
              "       [0.47364497],\n",
              "       [0.54745364],\n",
              "       [0.5046425 ],\n",
              "       [0.44216597],\n",
              "       [0.4595326 ],\n",
              "       [0.55987376],\n",
              "       [0.5709757 ],\n",
              "       [0.5777357 ],\n",
              "       [0.47354326],\n",
              "       [0.54649836],\n",
              "       [0.5689725 ],\n",
              "       [0.46025565],\n",
              "       [0.46768275],\n",
              "       [0.4893844 ],\n",
              "       [0.574147  ],\n",
              "       [0.5303179 ],\n",
              "       [0.57124436],\n",
              "       [0.5008289 ],\n",
              "       [0.5627199 ],\n",
              "       [0.44115582],\n",
              "       [0.45809376],\n",
              "       [0.5718112 ],\n",
              "       [0.46978742],\n",
              "       [0.5525752 ],\n",
              "       [0.55051786],\n",
              "       [0.5579096 ],\n",
              "       [0.5592352 ],\n",
              "       [0.53421354],\n",
              "       [0.45421395],\n",
              "       [0.4547229 ],\n",
              "       [0.57812136],\n",
              "       [0.45244724],\n",
              "       [0.5121694 ],\n",
              "       [0.44335797],\n",
              "       [0.47822192],\n",
              "       [0.47763792],\n",
              "       [0.5633546 ],\n",
              "       [0.4661004 ],\n",
              "       [0.45081076],\n",
              "       [0.4580507 ],\n",
              "       [0.55294937],\n",
              "       [0.47912413],\n",
              "       [0.51672214],\n",
              "       [0.56313694],\n",
              "       [0.4874337 ],\n",
              "       [0.5098205 ],\n",
              "       [0.46048033],\n",
              "       [0.5296019 ],\n",
              "       [0.5213034 ],\n",
              "       [0.5344078 ],\n",
              "       [0.56820536],\n",
              "       [0.57243025],\n",
              "       [0.5843519 ],\n",
              "       [0.48514444],\n",
              "       [0.49236387],\n",
              "       [0.49682832],\n",
              "       [0.5794596 ],\n",
              "       [0.5687609 ],\n",
              "       [0.46021536],\n",
              "       [0.478605  ],\n",
              "       [0.48549914],\n",
              "       [0.45182845],\n",
              "       [0.5622251 ],\n",
              "       [0.5454688 ],\n",
              "       [0.51435757],\n",
              "       [0.56981355],\n",
              "       [0.55474985],\n",
              "       [0.5270756 ],\n",
              "       [0.571724  ],\n",
              "       [0.44027787],\n",
              "       [0.51127404],\n",
              "       [0.4614777 ],\n",
              "       [0.5808918 ],\n",
              "       [0.44756317],\n",
              "       [0.52386165],\n",
              "       [0.4449161 ],\n",
              "       [0.5420759 ],\n",
              "       [0.48611173],\n",
              "       [0.5789233 ],\n",
              "       [0.46519676],\n",
              "       [0.54143596],\n",
              "       [0.5650319 ],\n",
              "       [0.45067853],\n",
              "       [0.54651505],\n",
              "       [0.5545132 ],\n",
              "       [0.5035653 ],\n",
              "       [0.56646055],\n",
              "       [0.57142866],\n",
              "       [0.55370015],\n",
              "       [0.5195146 ],\n",
              "       [0.566154  ],\n",
              "       [0.5218943 ],\n",
              "       [0.4400839 ],\n",
              "       [0.46887   ],\n",
              "       [0.49931392],\n",
              "       [0.48766577],\n",
              "       [0.535413  ],\n",
              "       [0.49158832],\n",
              "       [0.5827952 ],\n",
              "       [0.57535726],\n",
              "       [0.4838622 ],\n",
              "       [0.46833003],\n",
              "       [0.5761122 ],\n",
              "       [0.45399246],\n",
              "       [0.5336554 ],\n",
              "       [0.45516598],\n",
              "       [0.5318081 ],\n",
              "       [0.43943003],\n",
              "       [0.5738975 ],\n",
              "       [0.4483896 ],\n",
              "       [0.53670233],\n",
              "       [0.4604521 ],\n",
              "       [0.57013315],\n",
              "       [0.5173334 ],\n",
              "       [0.444583  ],\n",
              "       [0.56430376],\n",
              "       [0.5689651 ],\n",
              "       [0.46532905],\n",
              "       [0.48504314],\n",
              "       [0.48949468],\n",
              "       [0.46083996],\n",
              "       [0.5179579 ],\n",
              "       [0.50867474],\n",
              "       [0.4733298 ],\n",
              "       [0.58429635],\n",
              "       [0.49739572],\n",
              "       [0.457649  ],\n",
              "       [0.45514584],\n",
              "       [0.5860258 ],\n",
              "       [0.5481975 ],\n",
              "       [0.57919836],\n",
              "       [0.5290242 ],\n",
              "       [0.50758874],\n",
              "       [0.4643446 ],\n",
              "       [0.48849475],\n",
              "       [0.55090445],\n",
              "       [0.5670175 ],\n",
              "       [0.56642914],\n",
              "       [0.5261553 ],\n",
              "       [0.5706068 ],\n",
              "       [0.56247437],\n",
              "       [0.5659994 ],\n",
              "       [0.44446543],\n",
              "       [0.44006076],\n",
              "       [0.4704586 ],\n",
              "       [0.5034133 ],\n",
              "       [0.4724222 ],\n",
              "       [0.548723  ],\n",
              "       [0.58768207],\n",
              "       [0.5801924 ],\n",
              "       [0.5105459 ],\n",
              "       [0.561517  ],\n",
              "       [0.44439512],\n",
              "       [0.57307476],\n",
              "       [0.4458029 ],\n",
              "       [0.50290483],\n",
              "       [0.5375786 ],\n",
              "       [0.55582434],\n",
              "       [0.514354  ],\n",
              "       [0.45352504],\n",
              "       [0.46261433],\n",
              "       [0.45354438],\n",
              "       [0.46646982],\n",
              "       [0.5111064 ],\n",
              "       [0.5331253 ],\n",
              "       [0.5846143 ],\n",
              "       [0.48867425],\n",
              "       [0.53671616],\n",
              "       [0.47747687],\n",
              "       [0.44262233],\n",
              "       [0.4374606 ],\n",
              "       [0.46433842],\n",
              "       [0.5409778 ],\n",
              "       [0.48895556],\n",
              "       [0.45895615],\n",
              "       [0.51468444],\n",
              "       [0.48074841],\n",
              "       [0.537474  ],\n",
              "       [0.5693501 ],\n",
              "       [0.47247687],\n",
              "       [0.5082181 ],\n",
              "       [0.539028  ],\n",
              "       [0.45059416],\n",
              "       [0.5444223 ],\n",
              "       [0.5823229 ],\n",
              "       [0.4901456 ],\n",
              "       [0.4683292 ],\n",
              "       [0.56258845],\n",
              "       [0.5047957 ],\n",
              "       [0.4531486 ],\n",
              "       [0.46566582],\n",
              "       [0.47422922],\n",
              "       [0.49866632],\n",
              "       [0.5662936 ],\n",
              "       [0.519405  ],\n",
              "       [0.4716527 ],\n",
              "       [0.51373756],\n",
              "       [0.5714393 ],\n",
              "       [0.58228403],\n",
              "       [0.52911174],\n",
              "       [0.5699668 ],\n",
              "       [0.44791862],\n",
              "       [0.5698169 ],\n",
              "       [0.47982448],\n",
              "       [0.5111253 ],\n",
              "       [0.4469586 ],\n",
              "       [0.50960946],\n",
              "       [0.47950137],\n",
              "       [0.551562  ],\n",
              "       [0.5610631 ],\n",
              "       [0.4806857 ],\n",
              "       [0.5080664 ],\n",
              "       [0.4394202 ],\n",
              "       [0.5877959 ],\n",
              "       [0.53974456],\n",
              "       [0.45817646],\n",
              "       [0.58601624],\n",
              "       [0.45076728],\n",
              "       [0.5101084 ],\n",
              "       [0.44303936],\n",
              "       [0.45788836],\n",
              "       [0.4814552 ],\n",
              "       [0.54411256],\n",
              "       [0.515308  ],\n",
              "       [0.57208294],\n",
              "       [0.57359165],\n",
              "       [0.57283956],\n",
              "       [0.4717954 ],\n",
              "       [0.54962814],\n",
              "       [0.45683035],\n",
              "       [0.5419089 ],\n",
              "       [0.4412607 ],\n",
              "       [0.49274796],\n",
              "       [0.5820486 ],\n",
              "       [0.45010024],\n",
              "       [0.5593857 ],\n",
              "       [0.551012  ],\n",
              "       [0.47613153],\n",
              "       [0.56886154],\n",
              "       [0.52725744],\n",
              "       [0.5525987 ],\n",
              "       [0.5463243 ],\n",
              "       [0.474872  ],\n",
              "       [0.437101  ],\n",
              "       [0.55184555]], dtype=float32)"
            ]
          },
          "metadata": {},
          "execution_count": 19
        }
      ]
    },
    {
      "cell_type": "markdown",
      "source": [
        "from tensorflow.python.ops.array_ops import meshgrid\n",
        "To visualize our model's predictions, let's create a function  `plot_decision_boundary()`, this function will:\n",
        "\n",
        "* Take in trained model, feature (X) and label (y)\n",
        "* Create a meshgrid of the different X values\n",
        "* Make predictions across the meshgrid\n",
        "* Plot the predictions as well as the line between zones (where each unique class falls)\n"
      ],
      "metadata": {
        "id": "Ry1CafB9DJ0Y"
      }
    },
    {
      "cell_type": "code",
      "source": [
        "import numpy as np"
      ],
      "metadata": {
        "id": "tf-v7SVGSSLy"
      },
      "execution_count": null,
      "outputs": []
    },
    {
      "cell_type": "code",
      "source": [
        "import numpy as np\n",
        "\n",
        "def plot_decision_boundary(model, X, y):\n",
        "  \"\"\"\n",
        "  Plots the decision boundary created by a model predicting on X\n",
        "  \"\"\"\n",
        "  x_min, x_max = X[:, 0].min() - 0.1, X[:, 0].max() + 0.1\n",
        "  y_min, y_max = X[:, 1].min() - 0.1, X[:, 1].max() + 0.1\n",
        "  xx, yy = np.meshgrid(np.linspace(x_min, x_max, 100),\n",
        "                       np.linspace(y_min, y_max, 100))\n",
        "  # Create X value (we're going to make predictions on these)\n",
        "  x_in = np.c_[xx.ravel(), yy.ravel()] # stack 2D arrays together\n",
        "\n",
        "  # Make predictions\n",
        "  y_pred =  model.predict(x_in)\n",
        "\n",
        "  # Check for multi-class \n",
        "  if len(y_pred[0] > 1):\n",
        "    print(\"doing multiclass classification\")\n",
        "    # We have to reshape our prediction to get them ready for plotting\n",
        "    y_pred = np.argmax(y_pred, axis=1).reshape(xx.shape)\n",
        "  else:\n",
        "    print(\"doing binary classification\")\n",
        "    y_pred = np.round(y_pred).reshape(xx.shape)\n",
        "\n",
        "  # Plot the decision boundary\n",
        "  plt.contourf(xx, yy, y_pred, cmap=plt.cm.RdYlBu, alpha=0.7)\n",
        "  plt.scatter(X[:, 0], X[:, 1], c=y, s=40, cmap=plt.cm.RdYlBu)\n",
        "  plt.xlim(xx.min(), yy.max())"
      ],
      "metadata": {
        "id": "8uVuaHUDKBLr"
      },
      "execution_count": null,
      "outputs": []
    },
    {
      "cell_type": "code",
      "source": [
        "# Check out the predcitions our model is making\n",
        "plot_decision_boundary(model_3,\n",
        "                       X,\n",
        "                       y)"
      ],
      "metadata": {
        "colab": {
          "base_uri": "https://localhost:8080/",
          "height": 283
        },
        "id": "u5dGUhbHkwgw",
        "outputId": "7600aa54-6618-4d61-9dce-bc574b0f5168"
      },
      "execution_count": null,
      "outputs": [
        {
          "output_type": "stream",
          "name": "stdout",
          "text": [
            "doing multiclass classification\n"
          ]
        },
        {
          "output_type": "display_data",
          "data": {
            "text/plain": [
              "<Figure size 432x288 with 1 Axes>"
            ],
            "image/png": "[encoded data removed]"
          },
          "metadata": {
            "needs_background": "light"
          }
        }
      ]
    },
    {
      "cell_type": "code",
      "source": [
        "x_min, x_max = X[:, 0].min() - 0.1, X[:, 0].max() + 0.1\n",
        "y_min, y_max = X[:, 1].min() - 0.1, X[:, 1].max() + 0.1\n",
        "x_min, x_max, y_min, y_max"
      ],
      "metadata": {
        "colab": {
          "base_uri": "https://localhost:8080/"
        },
        "id": "GIo6UNFfOeph",
        "outputId": "aa4d58c0-1210-4e2e-c012-c1105538b90a"
      },
      "execution_count": null,
      "outputs": [
        {
          "output_type": "execute_result",
          "data": {
            "text/plain": [
              "(-1.1595024599098636,\n",
              " 1.1337117525463374,\n",
              " -1.1677683182718437,\n",
              " 1.1360036756154805)"
            ]
          },
          "metadata": {},
          "execution_count": 23
        }
      ]
    },
    {
      "cell_type": "code",
      "source": [
        "xx, yy = np.meshgrid(np.linspace(x_min, x_max, 10),\n",
        "                       np.linspace(y_min, y_max, 100))\n",
        "xx"
      ],
      "metadata": {
        "colab": {
          "base_uri": "https://localhost:8080/"
        },
        "id": "f9_uOgTXOrhl",
        "outputId": "dc8123b6-d144-4f34-b749-f3f4272ac2cb"
      },
      "execution_count": null,
      "outputs": [
        {
          "output_type": "execute_result",
          "data": {
            "text/plain": [
              "array([[-1.15950246, -0.90470088, -0.6498993 , -0.39509772, -0.14029614,\n",
              "         0.11450544,  0.36930702,  0.62410859,  0.87891017,  1.13371175],\n",
              "       [-1.15950246, -0.90470088, -0.6498993 , -0.39509772, -0.14029614,\n",
              "         0.11450544,  0.36930702,  0.62410859,  0.87891017,  1.13371175],\n",
              "       [-1.15950246, -0.90470088, -0.6498993 , -0.39509772, -0.14029614,\n",
              "         0.11450544,  0.36930702,  0.62410859,  0.87891017,  1.13371175],\n",
              "       [-1.15950246, -0.90470088, -0.6498993 , -0.39509772, -0.14029614,\n",
              "         0.11450544,  0.36930702,  0.62410859,  0.87891017,  1.13371175],\n",
              "       [-1.15950246, -0.90470088, -0.6498993 , -0.39509772, -0.14029614,\n",
              "         0.11450544,  0.36930702,  0.62410859,  0.87891017,  1.13371175],\n",
              "       [-1.15950246, -0.90470088, -0.6498993 , -0.39509772, -0.14029614,\n",
              "         0.11450544,  0.36930702,  0.62410859,  0.87891017,  1.13371175],\n",
              "       [-1.15950246, -0.90470088, -0.6498993 , -0.39509772, -0.14029614,\n",
              "         0.11450544,  0.36930702,  0.62410859,  0.87891017,  1.13371175],\n",
              "       [-1.15950246, -0.90470088, -0.6498993 , -0.39509772, -0.14029614,\n",
              "         0.11450544,  0.36930702,  0.62410859,  0.87891017,  1.13371175],\n",
              "       [-1.15950246, -0.90470088, -0.6498993 , -0.39509772, -0.14029614,\n",
              "         0.11450544,  0.36930702,  0.62410859,  0.87891017,  1.13371175],\n",
              "       [-1.15950246, -0.90470088, -0.6498993 , -0.39509772, -0.14029614,\n",
              "         0.11450544,  0.36930702,  0.62410859,  0.87891017,  1.13371175],\n",
              "       [-1.15950246, -0.90470088, -0.6498993 , -0.39509772, -0.14029614,\n",
              "         0.11450544,  0.36930702,  0.62410859,  0.87891017,  1.13371175],\n",
              "       [-1.15950246, -0.90470088, -0.6498993 , -0.39509772, -0.14029614,\n",
              "         0.11450544,  0.36930702,  0.62410859,  0.87891017,  1.13371175],\n",
              "       [-1.15950246, -0.90470088, -0.6498993 , -0.39509772, -0.14029614,\n",
              "         0.11450544,  0.36930702,  0.62410859,  0.87891017,  1.13371175],\n",
              "       [-1.15950246, -0.90470088, -0.6498993 , -0.39509772, -0.14029614,\n",
              "         0.11450544,  0.36930702,  0.62410859,  0.87891017,  1.13371175],\n",
              "       [-1.15950246, -0.90470088, -0.6498993 , -0.39509772, -0.14029614,\n",
              "         0.11450544,  0.36930702,  0.62410859,  0.87891017,  1.13371175],\n",
              "       [-1.15950246, -0.90470088, -0.6498993 , -0.39509772, -0.14029614,\n",
              "         0.11450544,  0.36930702,  0.62410859,  0.87891017,  1.13371175],\n",
              "       [-1.15950246, -0.90470088, -0.6498993 , -0.39509772, -0.14029614,\n",
              "         0.11450544,  0.36930702,  0.62410859,  0.87891017,  1.13371175],\n",
              "       [-1.15950246, -0.90470088, -0.6498993 , -0.39509772, -0.14029614,\n",
              "         0.11450544,  0.36930702,  0.62410859,  0.87891017,  1.13371175],\n",
              "       [-1.15950246, -0.90470088, -0.6498993 , -0.39509772, -0.14029614,\n",
              "         0.11450544,  0.36930702,  0.62410859,  0.87891017,  1.13371175],\n",
              "       [-1.15950246, -0.90470088, -0.6498993 , -0.39509772, -0.14029614,\n",
              "         0.11450544,  0.36930702,  0.62410859,  0.87891017,  1.13371175],\n",
              "       [-1.15950246, -0.90470088, -0.6498993 , -0.39509772, -0.14029614,\n",
              "         0.11450544,  0.36930702,  0.62410859,  0.87891017,  1.13371175],\n",
              "       [-1.15950246, -0.90470088, -0.6498993 , -0.39509772, -0.14029614,\n",
              "         0.11450544,  0.36930702,  0.62410859,  0.87891017,  1.13371175],\n",
              "       [-1.15950246, -0.90470088, -0.6498993 , -0.39509772, -0.14029614,\n",
              "         0.11450544,  0.36930702,  0.62410859,  0.87891017,  1.13371175],\n",
              "       [-1.15950246, -0.90470088, -0.6498993 , -0.39509772, -0.14029614,\n",
              "         0.11450544,  0.36930702,  0.62410859,  0.87891017,  1.13371175],\n",
              "       [-1.15950246, -0.90470088, -0.6498993 , -0.39509772, -0.14029614,\n",
              "         0.11450544,  0.36930702,  0.62410859,  0.87891017,  1.13371175],\n",
              "       [-1.15950246, -0.90470088, -0.6498993 , -0.39509772, -0.14029614,\n",
              "         0.11450544,  0.36930702,  0.62410859,  0.87891017,  1.13371175],\n",
              "       [-1.15950246, -0.90470088, -0.6498993 , -0.39509772, -0.14029614,\n",
              "         0.11450544,  0.36930702,  0.62410859,  0.87891017,  1.13371175],\n",
              "       [-1.15950246, -0.90470088, -0.6498993 , -0.39509772, -0.14029614,\n",
              "         0.11450544,  0.36930702,  0.62410859,  0.87891017,  1.13371175],\n",
              "       [-1.15950246, -0.90470088, -0.6498993 , -0.39509772, -0.14029614,\n",
              "         0.11450544,  0.36930702,  0.62410859,  0.87891017,  1.13371175],\n",
              "       [-1.15950246, -0.90470088, -0.6498993 , -0.39509772, -0.14029614,\n",
              "         0.11450544,  0.36930702,  0.62410859,  0.87891017,  1.13371175],\n",
              "       [-1.15950246, -0.90470088, -0.6498993 , -0.39509772, -0.14029614,\n",
              "         0.11450544,  0.36930702,  0.62410859,  0.87891017,  1.13371175],\n",
              "       [-1.15950246, -0.90470088, -0.6498993 , -0.39509772, -0.14029614,\n",
              "         0.11450544,  0.36930702,  0.62410859,  0.87891017,  1.13371175],\n",
              "       [-1.15950246, -0.90470088, -0.6498993 , -0.39509772, -0.14029614,\n",
              "         0.11450544,  0.36930702,  0.62410859,  0.87891017,  1.13371175],\n",
              "       [-1.15950246, -0.90470088, -0.6498993 , -0.39509772, -0.14029614,\n",
              "         0.11450544,  0.36930702,  0.62410859,  0.87891017,  1.13371175],\n",
              "       [-1.15950246, -0.90470088, -0.6498993 , -0.39509772, -0.14029614,\n",
              "         0.11450544,  0.36930702,  0.62410859,  0.87891017,  1.13371175],\n",
              "       [-1.15950246, -0.90470088, -0.6498993 , -0.39509772, -0.14029614,\n",
              "         0.11450544,  0.36930702,  0.62410859,  0.87891017,  1.13371175],\n",
              "       [-1.15950246, -0.90470088, -0.6498993 , -0.39509772, -0.14029614,\n",
              "         0.11450544,  0.36930702,  0.62410859,  0.87891017,  1.13371175],\n",
              "       [-1.15950246, -0.90470088, -0.6498993 , -0.39509772, -0.14029614,\n",
              "         0.11450544,  0.36930702,  0.62410859,  0.87891017,  1.13371175],\n",
              "       [-1.15950246, -0.90470088, -0.6498993 , -0.39509772, -0.14029614,\n",
              "         0.11450544,  0.36930702,  0.62410859,  0.87891017,  1.13371175],\n",
              "       [-1.15950246, -0.90470088, -0.6498993 , -0.39509772, -0.14029614,\n",
              "         0.11450544,  0.36930702,  0.62410859,  0.87891017,  1.13371175],\n",
              "       [-1.15950246, -0.90470088, -0.6498993 , -0.39509772, -0.14029614,\n",
              "         0.11450544,  0.36930702,  0.62410859,  0.87891017,  1.13371175],\n",
              "       [-1.15950246, -0.90470088, -0.6498993 , -0.39509772, -0.14029614,\n",
              "         0.11450544,  0.36930702,  0.62410859,  0.87891017,  1.13371175],\n",
              "       [-1.15950246, -0.90470088, -0.6498993 , -0.39509772, -0.14029614,\n",
              "         0.11450544,  0.36930702,  0.62410859,  0.87891017,  1.13371175],\n",
              "       [-1.15950246, -0.90470088, -0.6498993 , -0.39509772, -0.14029614,\n",
              "         0.11450544,  0.36930702,  0.62410859,  0.87891017,  1.13371175],\n",
              "       [-1.15950246, -0.90470088, -0.6498993 , -0.39509772, -0.14029614,\n",
              "         0.11450544,  0.36930702,  0.62410859,  0.87891017,  1.13371175],\n",
              "       [-1.15950246, -0.90470088, -0.6498993 , -0.39509772, -0.14029614,\n",
              "         0.11450544,  0.36930702,  0.62410859,  0.87891017,  1.13371175],\n",
              "       [-1.15950246, -0.90470088, -0.6498993 , -0.39509772, -0.14029614,\n",
              "         0.11450544,  0.36930702,  0.62410859,  0.87891017,  1.13371175],\n",
              "       [-1.15950246, -0.90470088, -0.6498993 , -0.39509772, -0.14029614,\n",
              "         0.11450544,  0.36930702,  0.62410859,  0.87891017,  1.13371175],\n",
              "       [-1.15950246, -0.90470088, -0.6498993 , -0.39509772, -0.14029614,\n",
              "         0.11450544,  0.36930702,  0.62410859,  0.87891017,  1.13371175],\n",
              "       [-1.15950246, -0.90470088, -0.6498993 , -0.39509772, -0.14029614,\n",
              "         0.11450544,  0.36930702,  0.62410859,  0.87891017,  1.13371175],\n",
              "       [-1.15950246, -0.90470088, -0.6498993 , -0.39509772, -0.14029614,\n",
              "         0.11450544,  0.36930702,  0.62410859,  0.87891017,  1.13371175],\n",
              "       [-1.15950246, -0.90470088, -0.6498993 , -0.39509772, -0.14029614,\n",
              "         0.11450544,  0.36930702,  0.62410859,  0.87891017,  1.13371175],\n",
              "       [-1.15950246, -0.90470088, -0.6498993 , -0.39509772, -0.14029614,\n",
              "         0.11450544,  0.36930702,  0.62410859,  0.87891017,  1.13371175],\n",
              "       [-1.15950246, -0.90470088, -0.6498993 , -0.39509772, -0.14029614,\n",
              "         0.11450544,  0.36930702,  0.62410859,  0.87891017,  1.13371175],\n",
              "       [-1.15950246, -0.90470088, -0.6498993 , -0.39509772, -0.14029614,\n",
              "         0.11450544,  0.36930702,  0.62410859,  0.87891017,  1.13371175],\n",
              "       [-1.15950246, -0.90470088, -0.6498993 , -0.39509772, -0.14029614,\n",
              "         0.11450544,  0.36930702,  0.62410859,  0.87891017,  1.13371175],\n",
              "       [-1.15950246, -0.90470088, -0.6498993 , -0.39509772, -0.14029614,\n",
              "         0.11450544,  0.36930702,  0.62410859,  0.87891017,  1.13371175],\n",
              "       [-1.15950246, -0.90470088, -0.6498993 , -0.39509772, -0.14029614,\n",
              "         0.11450544,  0.36930702,  0.62410859,  0.87891017,  1.13371175],\n",
              "       [-1.15950246, -0.90470088, -0.6498993 , -0.39509772, -0.14029614,\n",
              "         0.11450544,  0.36930702,  0.62410859,  0.87891017,  1.13371175],\n",
              "       [-1.15950246, -0.90470088, -0.6498993 , -0.39509772, -0.14029614,\n",
              "         0.11450544,  0.36930702,  0.62410859,  0.87891017,  1.13371175],\n",
              "       [-1.15950246, -0.90470088, -0.6498993 , -0.39509772, -0.14029614,\n",
              "         0.11450544,  0.36930702,  0.62410859,  0.87891017,  1.13371175],\n",
              "       [-1.15950246, -0.90470088, -0.6498993 , -0.39509772, -0.14029614,\n",
              "         0.11450544,  0.36930702,  0.62410859,  0.87891017,  1.13371175],\n",
              "       [-1.15950246, -0.90470088, -0.6498993 , -0.39509772, -0.14029614,\n",
              "         0.11450544,  0.36930702,  0.62410859,  0.87891017,  1.13371175],\n",
              "       [-1.15950246, -0.90470088, -0.6498993 , -0.39509772, -0.14029614,\n",
              "         0.11450544,  0.36930702,  0.62410859,  0.87891017,  1.13371175],\n",
              "       [-1.15950246, -0.90470088, -0.6498993 , -0.39509772, -0.14029614,\n",
              "         0.11450544,  0.36930702,  0.62410859,  0.87891017,  1.13371175],\n",
              "       [-1.15950246, -0.90470088, -0.6498993 , -0.39509772, -0.14029614,\n",
              "         0.11450544,  0.36930702,  0.62410859,  0.87891017,  1.13371175],\n",
              "       [-1.15950246, -0.90470088, -0.6498993 , -0.39509772, -0.14029614,\n",
              "         0.11450544,  0.36930702,  0.62410859,  0.87891017,  1.13371175],\n",
              "       [-1.15950246, -0.90470088, -0.6498993 , -0.39509772, -0.14029614,\n",
              "         0.11450544,  0.36930702,  0.62410859,  0.87891017,  1.13371175],\n",
              "       [-1.15950246, -0.90470088, -0.6498993 , -0.39509772, -0.14029614,\n",
              "         0.11450544,  0.36930702,  0.62410859,  0.87891017,  1.13371175],\n",
              "       [-1.15950246, -0.90470088, -0.6498993 , -0.39509772, -0.14029614,\n",
              "         0.11450544,  0.36930702,  0.62410859,  0.87891017,  1.13371175],\n",
              "       [-1.15950246, -0.90470088, -0.6498993 , -0.39509772, -0.14029614,\n",
              "         0.11450544,  0.36930702,  0.62410859,  0.87891017,  1.13371175],\n",
              "       [-1.15950246, -0.90470088, -0.6498993 , -0.39509772, -0.14029614,\n",
              "         0.11450544,  0.36930702,  0.62410859,  0.87891017,  1.13371175],\n",
              "       [-1.15950246, -0.90470088, -0.6498993 , -0.39509772, -0.14029614,\n",
              "         0.11450544,  0.36930702,  0.62410859,  0.87891017,  1.13371175],\n",
              "       [-1.15950246, -0.90470088, -0.6498993 , -0.39509772, -0.14029614,\n",
              "         0.11450544,  0.36930702,  0.62410859,  0.87891017,  1.13371175],\n",
              "       [-1.15950246, -0.90470088, -0.6498993 , -0.39509772, -0.14029614,\n",
              "         0.11450544,  0.36930702,  0.62410859,  0.87891017,  1.13371175],\n",
              "       [-1.15950246, -0.90470088, -0.6498993 , -0.39509772, -0.14029614,\n",
              "         0.11450544,  0.36930702,  0.62410859,  0.87891017,  1.13371175],\n",
              "       [-1.15950246, -0.90470088, -0.6498993 , -0.39509772, -0.14029614,\n",
              "         0.11450544,  0.36930702,  0.62410859,  0.87891017,  1.13371175],\n",
              "       [-1.15950246, -0.90470088, -0.6498993 , -0.39509772, -0.14029614,\n",
              "         0.11450544,  0.36930702,  0.62410859,  0.87891017,  1.13371175],\n",
              "       [-1.15950246, -0.90470088, -0.6498993 , -0.39509772, -0.14029614,\n",
              "         0.11450544,  0.36930702,  0.62410859,  0.87891017,  1.13371175],\n",
              "       [-1.15950246, -0.90470088, -0.6498993 , -0.39509772, -0.14029614,\n",
              "         0.11450544,  0.36930702,  0.62410859,  0.87891017,  1.13371175],\n",
              "       [-1.15950246, -0.90470088, -0.6498993 , -0.39509772, -0.14029614,\n",
              "         0.11450544,  0.36930702,  0.62410859,  0.87891017,  1.13371175],\n",
              "       [-1.15950246, -0.90470088, -0.6498993 , -0.39509772, -0.14029614,\n",
              "         0.11450544,  0.36930702,  0.62410859,  0.87891017,  1.13371175],\n",
              "       [-1.15950246, -0.90470088, -0.6498993 , -0.39509772, -0.14029614,\n",
              "         0.11450544,  0.36930702,  0.62410859,  0.87891017,  1.13371175],\n",
              "       [-1.15950246, -0.90470088, -0.6498993 , -0.39509772, -0.14029614,\n",
              "         0.11450544,  0.36930702,  0.62410859,  0.87891017,  1.13371175],\n",
              "       [-1.15950246, -0.90470088, -0.6498993 , -0.39509772, -0.14029614,\n",
              "         0.11450544,  0.36930702,  0.62410859,  0.87891017,  1.13371175],\n",
              "       [-1.15950246, -0.90470088, -0.6498993 , -0.39509772, -0.14029614,\n",
              "         0.11450544,  0.36930702,  0.62410859,  0.87891017,  1.13371175],\n",
              "       [-1.15950246, -0.90470088, -0.6498993 , -0.39509772, -0.14029614,\n",
              "         0.11450544,  0.36930702,  0.62410859,  0.87891017,  1.13371175],\n",
              "       [-1.15950246, -0.90470088, -0.6498993 , -0.39509772, -0.14029614,\n",
              "         0.11450544,  0.36930702,  0.62410859,  0.87891017,  1.13371175],\n",
              "       [-1.15950246, -0.90470088, -0.6498993 , -0.39509772, -0.14029614,\n",
              "         0.11450544,  0.36930702,  0.62410859,  0.87891017,  1.13371175],\n",
              "       [-1.15950246, -0.90470088, -0.6498993 , -0.39509772, -0.14029614,\n",
              "         0.11450544,  0.36930702,  0.62410859,  0.87891017,  1.13371175],\n",
              "       [-1.15950246, -0.90470088, -0.6498993 , -0.39509772, -0.14029614,\n",
              "         0.11450544,  0.36930702,  0.62410859,  0.87891017,  1.13371175],\n",
              "       [-1.15950246, -0.90470088, -0.6498993 , -0.39509772, -0.14029614,\n",
              "         0.11450544,  0.36930702,  0.62410859,  0.87891017,  1.13371175],\n",
              "       [-1.15950246, -0.90470088, -0.6498993 , -0.39509772, -0.14029614,\n",
              "         0.11450544,  0.36930702,  0.62410859,  0.87891017,  1.13371175],\n",
              "       [-1.15950246, -0.90470088, -0.6498993 , -0.39509772, -0.14029614,\n",
              "         0.11450544,  0.36930702,  0.62410859,  0.87891017,  1.13371175],\n",
              "       [-1.15950246, -0.90470088, -0.6498993 , -0.39509772, -0.14029614,\n",
              "         0.11450544,  0.36930702,  0.62410859,  0.87891017,  1.13371175],\n",
              "       [-1.15950246, -0.90470088, -0.6498993 , -0.39509772, -0.14029614,\n",
              "         0.11450544,  0.36930702,  0.62410859,  0.87891017,  1.13371175],\n",
              "       [-1.15950246, -0.90470088, -0.6498993 , -0.39509772, -0.14029614,\n",
              "         0.11450544,  0.36930702,  0.62410859,  0.87891017,  1.13371175],\n",
              "       [-1.15950246, -0.90470088, -0.6498993 , -0.39509772, -0.14029614,\n",
              "         0.11450544,  0.36930702,  0.62410859,  0.87891017,  1.13371175],\n",
              "       [-1.15950246, -0.90470088, -0.6498993 , -0.39509772, -0.14029614,\n",
              "         0.11450544,  0.36930702,  0.62410859,  0.87891017,  1.13371175],\n",
              "       [-1.15950246, -0.90470088, -0.6498993 , -0.39509772, -0.14029614,\n",
              "         0.11450544,  0.36930702,  0.62410859,  0.87891017,  1.13371175]])"
            ]
          },
          "metadata": {},
          "execution_count": 24
        }
      ]
    },
    {
      "cell_type": "code",
      "source": [
        "a = [1, 3, 5]\n",
        "b = [3 , 45 ,6]\n",
        "a, b"
      ],
      "metadata": {
        "colab": {
          "base_uri": "https://localhost:8080/"
        },
        "id": "dNp4zbLaUNZJ",
        "outputId": "44bc801c-f8a5-4978-f6db-3b301d125e91"
      },
      "execution_count": null,
      "outputs": [
        {
          "output_type": "execute_result",
          "data": {
            "text/plain": [
              "([1, 3, 5], [3, 45, 6])"
            ]
          },
          "metadata": {},
          "execution_count": 25
        }
      ]
    },
    {
      "cell_type": "code",
      "source": [
        "np.c_[a, b]"
      ],
      "metadata": {
        "colab": {
          "base_uri": "https://localhost:8080/"
        },
        "id": "212XRAqHVAcj",
        "outputId": "7974243f-9e17-449f-ab4e-7fbdb2064062"
      },
      "execution_count": null,
      "outputs": [
        {
          "output_type": "execute_result",
          "data": {
            "text/plain": [
              "array([[ 1,  3],\n",
              "       [ 3, 45],\n",
              "       [ 5,  6]])"
            ]
          },
          "metadata": {},
          "execution_count": 26
        }
      ]
    },
    {
      "cell_type": "code",
      "source": [
        "xx.ravel()"
      ],
      "metadata": {
        "colab": {
          "base_uri": "https://localhost:8080/"
        },
        "id": "3xqvbajoVUDz",
        "outputId": "3acd16bd-a55a-48b3-a221-9ba6daa08e60"
      },
      "execution_count": null,
      "outputs": [
        {
          "output_type": "execute_result",
          "data": {
            "text/plain": [
              "array([-1.15950246, -0.90470088, -0.6498993 , -0.39509772, -0.14029614,\n",
              "        0.11450544,  0.36930702,  0.62410859,  0.87891017,  1.13371175,\n",
              "       -1.15950246, -0.90470088, -0.6498993 , -0.39509772, -0.14029614,\n",
              "        0.11450544,  0.36930702,  0.62410859,  0.87891017,  1.13371175,\n",
              "       -1.15950246, -0.90470088, -0.6498993 , -0.39509772, -0.14029614,\n",
              "        0.11450544,  0.36930702,  0.62410859,  0.87891017,  1.13371175,\n",
              "       -1.15950246, -0.90470088, -0.6498993 , -0.39509772, -0.14029614,\n",
              "        0.11450544,  0.36930702,  0.62410859,  0.87891017,  1.13371175,\n",
              "       -1.15950246, -0.90470088, -0.6498993 , -0.39509772, -0.14029614,\n",
              "        0.11450544,  0.36930702,  0.62410859,  0.87891017,  1.13371175,\n",
              "       -1.15950246, -0.90470088, -0.6498993 , -0.39509772, -0.14029614,\n",
              "        0.11450544,  0.36930702,  0.62410859,  0.87891017,  1.13371175,\n",
              "       -1.15950246, -0.90470088, -0.6498993 , -0.39509772, -0.14029614,\n",
              "        0.11450544,  0.36930702,  0.62410859,  0.87891017,  1.13371175,\n",
              "       -1.15950246, -0.90470088, -0.6498993 , -0.39509772, -0.14029614,\n",
              "        0.11450544,  0.36930702,  0.62410859,  0.87891017,  1.13371175,\n",
              "       -1.15950246, -0.90470088, -0.6498993 , -0.39509772, -0.14029614,\n",
              "        0.11450544,  0.36930702,  0.62410859,  0.87891017,  1.13371175,\n",
              "       -1.15950246, -0.90470088, -0.6498993 , -0.39509772, -0.14029614,\n",
              "        0.11450544,  0.36930702,  0.62410859,  0.87891017,  1.13371175,\n",
              "       -1.15950246, -0.90470088, -0.6498993 , -0.39509772, -0.14029614,\n",
              "        0.11450544,  0.36930702,  0.62410859,  0.87891017,  1.13371175,\n",
              "       -1.15950246, -0.90470088, -0.6498993 , -0.39509772, -0.14029614,\n",
              "        0.11450544,  0.36930702,  0.62410859,  0.87891017,  1.13371175,\n",
              "       -1.15950246, -0.90470088, -0.6498993 , -0.39509772, -0.14029614,\n",
              "        0.11450544,  0.36930702,  0.62410859,  0.87891017,  1.13371175,\n",
              "       -1.15950246, -0.90470088, -0.6498993 , -0.39509772, -0.14029614,\n",
              "        0.11450544,  0.36930702,  0.62410859,  0.87891017,  1.13371175,\n",
              "       -1.15950246, -0.90470088, -0.6498993 , -0.39509772, -0.14029614,\n",
              "        0.11450544,  0.36930702,  0.62410859,  0.87891017,  1.13371175,\n",
              "       -1.15950246, -0.90470088, -0.6498993 , -0.39509772, -0.14029614,\n",
              "        0.11450544,  0.36930702,  0.62410859,  0.87891017,  1.13371175,\n",
              "       -1.15950246, -0.90470088, -0.6498993 , -0.39509772, -0.14029614,\n",
              "        0.11450544,  0.36930702,  0.62410859,  0.87891017,  1.13371175,\n",
              "       -1.15950246, -0.90470088, -0.6498993 , -0.39509772, -0.14029614,\n",
              "        0.11450544,  0.36930702,  0.62410859,  0.87891017,  1.13371175,\n",
              "       -1.15950246, -0.90470088, -0.6498993 , -0.39509772, -0.14029614,\n",
              "        0.11450544,  0.36930702,  0.62410859,  0.87891017,  1.13371175,\n",
              "       -1.15950246, -0.90470088, -0.6498993 , -0.39509772, -0.14029614,\n",
              "        0.11450544,  0.36930702,  0.62410859,  0.87891017,  1.13371175,\n",
              "       -1.15950246, -0.90470088, -0.6498993 , -0.39509772, -0.14029614,\n",
              "        0.11450544,  0.36930702,  0.62410859,  0.87891017,  1.13371175,\n",
              "       -1.15950246, -0.90470088, -0.6498993 , -0.39509772, -0.14029614,\n",
              "        0.11450544,  0.36930702,  0.62410859,  0.87891017,  1.13371175,\n",
              "       -1.15950246, -0.90470088, -0.6498993 , -0.39509772, -0.14029614,\n",
              "        0.11450544,  0.36930702,  0.62410859,  0.87891017,  1.13371175,\n",
              "       -1.15950246, -0.90470088, -0.6498993 , -0.39509772, -0.14029614,\n",
              "        0.11450544,  0.36930702,  0.62410859,  0.87891017,  1.13371175,\n",
              "       -1.15950246, -0.90470088, -0.6498993 , -0.39509772, -0.14029614,\n",
              "        0.11450544,  0.36930702,  0.62410859,  0.87891017,  1.13371175,\n",
              "       -1.15950246, -0.90470088, -0.6498993 , -0.39509772, -0.14029614,\n",
              "        0.11450544,  0.36930702,  0.62410859,  0.87891017,  1.13371175,\n",
              "       -1.15950246, -0.90470088, -0.6498993 , -0.39509772, -0.14029614,\n",
              "        0.11450544,  0.36930702,  0.62410859,  0.87891017,  1.13371175,\n",
              "       -1.15950246, -0.90470088, -0.6498993 , -0.39509772, -0.14029614,\n",
              "        0.11450544,  0.36930702,  0.62410859,  0.87891017,  1.13371175,\n",
              "       -1.15950246, -0.90470088, -0.6498993 , -0.39509772, -0.14029614,\n",
              "        0.11450544,  0.36930702,  0.62410859,  0.87891017,  1.13371175,\n",
              "       -1.15950246, -0.90470088, -0.6498993 , -0.39509772, -0.14029614,\n",
              "        0.11450544,  0.36930702,  0.62410859,  0.87891017,  1.13371175,\n",
              "       -1.15950246, -0.90470088, -0.6498993 , -0.39509772, -0.14029614,\n",
              "        0.11450544,  0.36930702,  0.62410859,  0.87891017,  1.13371175,\n",
              "       -1.15950246, -0.90470088, -0.6498993 , -0.39509772, -0.14029614,\n",
              "        0.11450544,  0.36930702,  0.62410859,  0.87891017,  1.13371175,\n",
              "       -1.15950246, -0.90470088, -0.6498993 , -0.39509772, -0.14029614,\n",
              "        0.11450544,  0.36930702,  0.62410859,  0.87891017,  1.13371175,\n",
              "       -1.15950246, -0.90470088, -0.6498993 , -0.39509772, -0.14029614,\n",
              "        0.11450544,  0.36930702,  0.62410859,  0.87891017,  1.13371175,\n",
              "       -1.15950246, -0.90470088, -0.6498993 , -0.39509772, -0.14029614,\n",
              "        0.11450544,  0.36930702,  0.62410859,  0.87891017,  1.13371175,\n",
              "       -1.15950246, -0.90470088, -0.6498993 , -0.39509772, -0.14029614,\n",
              "        0.11450544,  0.36930702,  0.62410859,  0.87891017,  1.13371175,\n",
              "       -1.15950246, -0.90470088, -0.6498993 , -0.39509772, -0.14029614,\n",
              "        0.11450544,  0.36930702,  0.62410859,  0.87891017,  1.13371175,\n",
              "       -1.15950246, -0.90470088, -0.6498993 , -0.39509772, -0.14029614,\n",
              "        0.11450544,  0.36930702,  0.62410859,  0.87891017,  1.13371175,\n",
              "       -1.15950246, -0.90470088, -0.6498993 , -0.39509772, -0.14029614,\n",
              "        0.11450544,  0.36930702,  0.62410859,  0.87891017,  1.13371175,\n",
              "       -1.15950246, -0.90470088, -0.6498993 , -0.39509772, -0.14029614,\n",
              "        0.11450544,  0.36930702,  0.62410859,  0.87891017,  1.13371175,\n",
              "       -1.15950246, -0.90470088, -0.6498993 , -0.39509772, -0.14029614,\n",
              "        0.11450544,  0.36930702,  0.62410859,  0.87891017,  1.13371175,\n",
              "       -1.15950246, -0.90470088, -0.6498993 , -0.39509772, -0.14029614,\n",
              "        0.11450544,  0.36930702,  0.62410859,  0.87891017,  1.13371175,\n",
              "       -1.15950246, -0.90470088, -0.6498993 , -0.39509772, -0.14029614,\n",
              "        0.11450544,  0.36930702,  0.62410859,  0.87891017,  1.13371175,\n",
              "       -1.15950246, -0.90470088, -0.6498993 , -0.39509772, -0.14029614,\n",
              "        0.11450544,  0.36930702,  0.62410859,  0.87891017,  1.13371175,\n",
              "       -1.15950246, -0.90470088, -0.6498993 , -0.39509772, -0.14029614,\n",
              "        0.11450544,  0.36930702,  0.62410859,  0.87891017,  1.13371175,\n",
              "       -1.15950246, -0.90470088, -0.6498993 , -0.39509772, -0.14029614,\n",
              "        0.11450544,  0.36930702,  0.62410859,  0.87891017,  1.13371175,\n",
              "       -1.15950246, -0.90470088, -0.6498993 , -0.39509772, -0.14029614,\n",
              "        0.11450544,  0.36930702,  0.62410859,  0.87891017,  1.13371175,\n",
              "       -1.15950246, -0.90470088, -0.6498993 , -0.39509772, -0.14029614,\n",
              "        0.11450544,  0.36930702,  0.62410859,  0.87891017,  1.13371175,\n",
              "       -1.15950246, -0.90470088, -0.6498993 , -0.39509772, -0.14029614,\n",
              "        0.11450544,  0.36930702,  0.62410859,  0.87891017,  1.13371175,\n",
              "       -1.15950246, -0.90470088, -0.6498993 , -0.39509772, -0.14029614,\n",
              "        0.11450544,  0.36930702,  0.62410859,  0.87891017,  1.13371175,\n",
              "       -1.15950246, -0.90470088, -0.6498993 , -0.39509772, -0.14029614,\n",
              "        0.11450544,  0.36930702,  0.62410859,  0.87891017,  1.13371175,\n",
              "       -1.15950246, -0.90470088, -0.6498993 , -0.39509772, -0.14029614,\n",
              "        0.11450544,  0.36930702,  0.62410859,  0.87891017,  1.13371175,\n",
              "       -1.15950246, -0.90470088, -0.6498993 , -0.39509772, -0.14029614,\n",
              "        0.11450544,  0.36930702,  0.62410859,  0.87891017,  1.13371175,\n",
              "       -1.15950246, -0.90470088, -0.6498993 , -0.39509772, -0.14029614,\n",
              "        0.11450544,  0.36930702,  0.62410859,  0.87891017,  1.13371175,\n",
              "       -1.15950246, -0.90470088, -0.6498993 , -0.39509772, -0.14029614,\n",
              "        0.11450544,  0.36930702,  0.62410859,  0.87891017,  1.13371175,\n",
              "       -1.15950246, -0.90470088, -0.6498993 , -0.39509772, -0.14029614,\n",
              "        0.11450544,  0.36930702,  0.62410859,  0.87891017,  1.13371175,\n",
              "       -1.15950246, -0.90470088, -0.6498993 , -0.39509772, -0.14029614,\n",
              "        0.11450544,  0.36930702,  0.62410859,  0.87891017,  1.13371175,\n",
              "       -1.15950246, -0.90470088, -0.6498993 , -0.39509772, -0.14029614,\n",
              "        0.11450544,  0.36930702,  0.62410859,  0.87891017,  1.13371175,\n",
              "       -1.15950246, -0.90470088, -0.6498993 , -0.39509772, -0.14029614,\n",
              "        0.11450544,  0.36930702,  0.62410859,  0.87891017,  1.13371175,\n",
              "       -1.15950246, -0.90470088, -0.6498993 , -0.39509772, -0.14029614,\n",
              "        0.11450544,  0.36930702,  0.62410859,  0.87891017,  1.13371175,\n",
              "       -1.15950246, -0.90470088, -0.6498993 , -0.39509772, -0.14029614,\n",
              "        0.11450544,  0.36930702,  0.62410859,  0.87891017,  1.13371175,\n",
              "       -1.15950246, -0.90470088, -0.6498993 , -0.39509772, -0.14029614,\n",
              "        0.11450544,  0.36930702,  0.62410859,  0.87891017,  1.13371175,\n",
              "       -1.15950246, -0.90470088, -0.6498993 , -0.39509772, -0.14029614,\n",
              "        0.11450544,  0.36930702,  0.62410859,  0.87891017,  1.13371175,\n",
              "       -1.15950246, -0.90470088, -0.6498993 , -0.39509772, -0.14029614,\n",
              "        0.11450544,  0.36930702,  0.62410859,  0.87891017,  1.13371175,\n",
              "       -1.15950246, -0.90470088, -0.6498993 , -0.39509772, -0.14029614,\n",
              "        0.11450544,  0.36930702,  0.62410859,  0.87891017,  1.13371175,\n",
              "       -1.15950246, -0.90470088, -0.6498993 , -0.39509772, -0.14029614,\n",
              "        0.11450544,  0.36930702,  0.62410859,  0.87891017,  1.13371175,\n",
              "       -1.15950246, -0.90470088, -0.6498993 , -0.39509772, -0.14029614,\n",
              "        0.11450544,  0.36930702,  0.62410859,  0.87891017,  1.13371175,\n",
              "       -1.15950246, -0.90470088, -0.6498993 , -0.39509772, -0.14029614,\n",
              "        0.11450544,  0.36930702,  0.62410859,  0.87891017,  1.13371175,\n",
              "       -1.15950246, -0.90470088, -0.6498993 , -0.39509772, -0.14029614,\n",
              "        0.11450544,  0.36930702,  0.62410859,  0.87891017,  1.13371175,\n",
              "       -1.15950246, -0.90470088, -0.6498993 , -0.39509772, -0.14029614,\n",
              "        0.11450544,  0.36930702,  0.62410859,  0.87891017,  1.13371175,\n",
              "       -1.15950246, -0.90470088, -0.6498993 , -0.39509772, -0.14029614,\n",
              "        0.11450544,  0.36930702,  0.62410859,  0.87891017,  1.13371175,\n",
              "       -1.15950246, -0.90470088, -0.6498993 , -0.39509772, -0.14029614,\n",
              "        0.11450544,  0.36930702,  0.62410859,  0.87891017,  1.13371175,\n",
              "       -1.15950246, -0.90470088, -0.6498993 , -0.39509772, -0.14029614,\n",
              "        0.11450544,  0.36930702,  0.62410859,  0.87891017,  1.13371175,\n",
              "       -1.15950246, -0.90470088, -0.6498993 , -0.39509772, -0.14029614,\n",
              "        0.11450544,  0.36930702,  0.62410859,  0.87891017,  1.13371175,\n",
              "       -1.15950246, -0.90470088, -0.6498993 , -0.39509772, -0.14029614,\n",
              "        0.11450544,  0.36930702,  0.62410859,  0.87891017,  1.13371175,\n",
              "       -1.15950246, -0.90470088, -0.6498993 , -0.39509772, -0.14029614,\n",
              "        0.11450544,  0.36930702,  0.62410859,  0.87891017,  1.13371175,\n",
              "       -1.15950246, -0.90470088, -0.6498993 , -0.39509772, -0.14029614,\n",
              "        0.11450544,  0.36930702,  0.62410859,  0.87891017,  1.13371175,\n",
              "       -1.15950246, -0.90470088, -0.6498993 , -0.39509772, -0.14029614,\n",
              "        0.11450544,  0.36930702,  0.62410859,  0.87891017,  1.13371175,\n",
              "       -1.15950246, -0.90470088, -0.6498993 , -0.39509772, -0.14029614,\n",
              "        0.11450544,  0.36930702,  0.62410859,  0.87891017,  1.13371175,\n",
              "       -1.15950246, -0.90470088, -0.6498993 , -0.39509772, -0.14029614,\n",
              "        0.11450544,  0.36930702,  0.62410859,  0.87891017,  1.13371175,\n",
              "       -1.15950246, -0.90470088, -0.6498993 , -0.39509772, -0.14029614,\n",
              "        0.11450544,  0.36930702,  0.62410859,  0.87891017,  1.13371175,\n",
              "       -1.15950246, -0.90470088, -0.6498993 , -0.39509772, -0.14029614,\n",
              "        0.11450544,  0.36930702,  0.62410859,  0.87891017,  1.13371175,\n",
              "       -1.15950246, -0.90470088, -0.6498993 , -0.39509772, -0.14029614,\n",
              "        0.11450544,  0.36930702,  0.62410859,  0.87891017,  1.13371175,\n",
              "       -1.15950246, -0.90470088, -0.6498993 , -0.39509772, -0.14029614,\n",
              "        0.11450544,  0.36930702,  0.62410859,  0.87891017,  1.13371175,\n",
              "       -1.15950246, -0.90470088, -0.6498993 , -0.39509772, -0.14029614,\n",
              "        0.11450544,  0.36930702,  0.62410859,  0.87891017,  1.13371175,\n",
              "       -1.15950246, -0.90470088, -0.6498993 , -0.39509772, -0.14029614,\n",
              "        0.11450544,  0.36930702,  0.62410859,  0.87891017,  1.13371175,\n",
              "       -1.15950246, -0.90470088, -0.6498993 , -0.39509772, -0.14029614,\n",
              "        0.11450544,  0.36930702,  0.62410859,  0.87891017,  1.13371175,\n",
              "       -1.15950246, -0.90470088, -0.6498993 , -0.39509772, -0.14029614,\n",
              "        0.11450544,  0.36930702,  0.62410859,  0.87891017,  1.13371175,\n",
              "       -1.15950246, -0.90470088, -0.6498993 , -0.39509772, -0.14029614,\n",
              "        0.11450544,  0.36930702,  0.62410859,  0.87891017,  1.13371175,\n",
              "       -1.15950246, -0.90470088, -0.6498993 , -0.39509772, -0.14029614,\n",
              "        0.11450544,  0.36930702,  0.62410859,  0.87891017,  1.13371175,\n",
              "       -1.15950246, -0.90470088, -0.6498993 , -0.39509772, -0.14029614,\n",
              "        0.11450544,  0.36930702,  0.62410859,  0.87891017,  1.13371175,\n",
              "       -1.15950246, -0.90470088, -0.6498993 , -0.39509772, -0.14029614,\n",
              "        0.11450544,  0.36930702,  0.62410859,  0.87891017,  1.13371175,\n",
              "       -1.15950246, -0.90470088, -0.6498993 , -0.39509772, -0.14029614,\n",
              "        0.11450544,  0.36930702,  0.62410859,  0.87891017,  1.13371175,\n",
              "       -1.15950246, -0.90470088, -0.6498993 , -0.39509772, -0.14029614,\n",
              "        0.11450544,  0.36930702,  0.62410859,  0.87891017,  1.13371175,\n",
              "       -1.15950246, -0.90470088, -0.6498993 , -0.39509772, -0.14029614,\n",
              "        0.11450544,  0.36930702,  0.62410859,  0.87891017,  1.13371175,\n",
              "       -1.15950246, -0.90470088, -0.6498993 , -0.39509772, -0.14029614,\n",
              "        0.11450544,  0.36930702,  0.62410859,  0.87891017,  1.13371175,\n",
              "       -1.15950246, -0.90470088, -0.6498993 , -0.39509772, -0.14029614,\n",
              "        0.11450544,  0.36930702,  0.62410859,  0.87891017,  1.13371175,\n",
              "       -1.15950246, -0.90470088, -0.6498993 , -0.39509772, -0.14029614,\n",
              "        0.11450544,  0.36930702,  0.62410859,  0.87891017,  1.13371175,\n",
              "       -1.15950246, -0.90470088, -0.6498993 , -0.39509772, -0.14029614,\n",
              "        0.11450544,  0.36930702,  0.62410859,  0.87891017,  1.13371175,\n",
              "       -1.15950246, -0.90470088, -0.6498993 , -0.39509772, -0.14029614,\n",
              "        0.11450544,  0.36930702,  0.62410859,  0.87891017,  1.13371175])"
            ]
          },
          "metadata": {},
          "execution_count": 27
        }
      ]
    },
    {
      "cell_type": "code",
      "source": [
        "X"
      ],
      "metadata": {
        "colab": {
          "base_uri": "https://localhost:8080/"
        },
        "id": "HDQ3xPSKVx_6",
        "outputId": "7abf9b31-2e59-4c99-f316-05f5c0dea80b"
      },
      "execution_count": null,
      "outputs": [
        {
          "output_type": "execute_result",
          "data": {
            "text/plain": [
              "array([[ 0.75424625,  0.23148074],\n",
              "       [-0.75615888,  0.15325888],\n",
              "       [-0.81539193,  0.17328203],\n",
              "       ...,\n",
              "       [-0.13690036, -0.81001183],\n",
              "       [ 0.67036156, -0.76750154],\n",
              "       [ 0.28105665,  0.96382443]])"
            ]
          },
          "metadata": {},
          "execution_count": 28
        }
      ]
    },
    {
      "cell_type": "code",
      "source": [
        "# Let's see if our model can used for regression problem..\n",
        "\n",
        "tf.random.set_seed(42)\n",
        "\n",
        "# Create some regression data\n",
        "X_regression = tf.range(0, 1000, 5)\n",
        "y_regression = tf.range(100, 1100, 5) # y = X + 100\n",
        "\n",
        "# Split our regression data into training and test sets\n",
        "X_reg_train = X_regression[:150]\n",
        "X_reg_test = X_regression[150:]\n",
        "y_reg_train = y_regression[:150]\n",
        "y_reg_test = y_regression[150:]\n",
        "\n",
        "# # Fit our model to the regression data\n",
        "# model_3.fit(X_reg_train, y_reg_train, epochs=100)"
      ],
      "metadata": {
        "id": "UGim4191lKqM"
      },
      "execution_count": null,
      "outputs": []
    },
    {
      "cell_type": "markdown",
      "source": [
        "oops ... we compiled our model for a binary classification problem.\n",
        "\n",
        "But.... we're now working on a regression problem, let's change the model to suit our data."
      ],
      "metadata": {
        "id": "qcnoMOrSI43o"
      }
    },
    {
      "cell_type": "code",
      "source": [
        "# Setup random seed\n",
        "tf.random.set_seed(42)\n",
        "\n",
        "# 1. Create the model\n",
        "model_3 = tf.keras.Sequential([\n",
        "    tf.keras.layers.Dense(100),\n",
        "    tf.keras.layers.Dense(10),\n",
        "    tf.keras.layers.Dense(1)\n",
        "])\n",
        "\n",
        "# 2. Compile the model, this time with a regression-specific loss function\n",
        "model_3.compile(loss=tf.keras.losses.mae,\n",
        "                optimizer=tf.keras.optimizers.Adam(),\n",
        "                metrics=[\"mae\"])\n",
        "\n",
        "# 3. Fit the model\n",
        "model_3.fit(np.expand_dims(X_reg_train, axis=(-1)), y_reg_train, epochs=100)\n"
      ],
      "metadata": {
        "colab": {
          "base_uri": "https://localhost:8080/"
        },
        "id": "6msuYh3C_KHM",
        "outputId": "eef3e976-dc4e-4d32-93e2-6bed3e04cb76"
      },
      "execution_count": null,
      "outputs": [
        {
          "output_type": "stream",
          "name": "stdout",
          "text": [
            "Epoch 1/100\n",
            "5/5 [==============================] - 1s 6ms/step - loss: 248.2148 - mae: 248.2148\n",
            "Epoch 2/100\n",
            "5/5 [==============================] - 0s 5ms/step - loss: 138.8992 - mae: 138.8992\n",
            "Epoch 3/100\n",
            "5/5 [==============================] - 0s 7ms/step - loss: 53.1035 - mae: 53.1035\n",
            "Epoch 4/100\n",
            "5/5 [==============================] - 0s 5ms/step - loss: 73.5183 - mae: 73.5183\n",
            "Epoch 5/100\n",
            "5/5 [==============================] - 0s 8ms/step - loss: 71.2370 - mae: 71.2370\n",
            "Epoch 6/100\n",
            "5/5 [==============================] - 0s 4ms/step - loss: 47.0045 - mae: 47.0045\n",
            "Epoch 7/100\n",
            "5/5 [==============================] - 0s 5ms/step - loss: 45.9375 - mae: 45.9375\n",
            "Epoch 8/100\n",
            "5/5 [==============================] - 0s 6ms/step - loss: 42.3635 - mae: 42.3635\n",
            "Epoch 9/100\n",
            "5/5 [==============================] - 0s 4ms/step - loss: 43.6835 - mae: 43.6835\n",
            "Epoch 10/100\n",
            "5/5 [==============================] - 0s 6ms/step - loss: 42.6201 - mae: 42.6201\n",
            "Epoch 11/100\n",
            "5/5 [==============================] - 0s 5ms/step - loss: 42.4795 - mae: 42.4795\n",
            "Epoch 12/100\n",
            "5/5 [==============================] - 0s 5ms/step - loss: 41.5534 - mae: 41.5534\n",
            "Epoch 13/100\n",
            "5/5 [==============================] - 0s 5ms/step - loss: 42.0975 - mae: 42.0975\n",
            "Epoch 14/100\n",
            "5/5 [==============================] - 0s 5ms/step - loss: 41.8650 - mae: 41.8650\n",
            "Epoch 15/100\n",
            "5/5 [==============================] - 0s 5ms/step - loss: 41.5341 - mae: 41.5341\n",
            "Epoch 16/100\n",
            "5/5 [==============================] - 0s 5ms/step - loss: 41.4026 - mae: 41.4026\n",
            "Epoch 17/100\n",
            "5/5 [==============================] - 0s 9ms/step - loss: 41.6888 - mae: 41.6888\n",
            "Epoch 18/100\n",
            "5/5 [==============================] - 0s 5ms/step - loss: 41.6138 - mae: 41.6138\n",
            "Epoch 19/100\n",
            "5/5 [==============================] - 0s 4ms/step - loss: 41.2795 - mae: 41.2795\n",
            "Epoch 20/100\n",
            "5/5 [==============================] - 0s 7ms/step - loss: 41.1947 - mae: 41.1947\n",
            "Epoch 21/100\n",
            "5/5 [==============================] - 0s 8ms/step - loss: 41.2131 - mae: 41.2131\n",
            "Epoch 22/100\n",
            "5/5 [==============================] - 0s 5ms/step - loss: 41.0892 - mae: 41.0892\n",
            "Epoch 23/100\n",
            "5/5 [==============================] - 0s 5ms/step - loss: 41.2018 - mae: 41.2018\n",
            "Epoch 24/100\n",
            "5/5 [==============================] - 0s 5ms/step - loss: 40.9990 - mae: 40.9990\n",
            "Epoch 25/100\n",
            "5/5 [==============================] - 0s 5ms/step - loss: 41.0131 - mae: 41.0131\n",
            "Epoch 26/100\n",
            "5/5 [==============================] - 0s 5ms/step - loss: 41.0653 - mae: 41.0653\n",
            "Epoch 27/100\n",
            "5/5 [==============================] - 0s 6ms/step - loss: 40.8764 - mae: 40.8764\n",
            "Epoch 28/100\n",
            "5/5 [==============================] - 0s 5ms/step - loss: 41.0546 - mae: 41.0546\n",
            "Epoch 29/100\n",
            "5/5 [==============================] - 0s 5ms/step - loss: 41.0480 - mae: 41.0480\n",
            "Epoch 30/100\n",
            "5/5 [==============================] - 0s 5ms/step - loss: 40.8806 - mae: 40.8806\n",
            "Epoch 31/100\n",
            "5/5 [==============================] - 0s 5ms/step - loss: 41.2698 - mae: 41.2698\n",
            "Epoch 32/100\n",
            "5/5 [==============================] - 0s 4ms/step - loss: 40.9948 - mae: 40.9948\n",
            "Epoch 33/100\n",
            "5/5 [==============================] - 0s 4ms/step - loss: 41.0759 - mae: 41.0759\n",
            "Epoch 34/100\n",
            "5/5 [==============================] - 0s 5ms/step - loss: 41.2473 - mae: 41.2473\n",
            "Epoch 35/100\n",
            "5/5 [==============================] - 0s 6ms/step - loss: 40.6101 - mae: 40.6101\n",
            "Epoch 36/100\n",
            "5/5 [==============================] - 0s 4ms/step - loss: 41.1092 - mae: 41.1092\n",
            "Epoch 37/100\n",
            "5/5 [==============================] - 0s 6ms/step - loss: 40.8193 - mae: 40.8193\n",
            "Epoch 38/100\n",
            "5/5 [==============================] - 0s 5ms/step - loss: 40.2486 - mae: 40.2486\n",
            "Epoch 39/100\n",
            "5/5 [==============================] - 0s 9ms/step - loss: 41.0622 - mae: 41.0622\n",
            "Epoch 40/100\n",
            "5/5 [==============================] - 0s 6ms/step - loss: 40.5311 - mae: 40.5311\n",
            "Epoch 41/100\n",
            "5/5 [==============================] - 0s 5ms/step - loss: 40.5499 - mae: 40.5499\n",
            "Epoch 42/100\n",
            "5/5 [==============================] - 0s 5ms/step - loss: 40.4321 - mae: 40.4321\n",
            "Epoch 43/100\n",
            "5/5 [==============================] - 0s 6ms/step - loss: 40.5367 - mae: 40.5367\n",
            "Epoch 44/100\n",
            "5/5 [==============================] - 0s 6ms/step - loss: 40.2488 - mae: 40.2488\n",
            "Epoch 45/100\n",
            "5/5 [==============================] - 0s 4ms/step - loss: 40.5150 - mae: 40.5150\n",
            "Epoch 46/100\n",
            "5/5 [==============================] - 0s 6ms/step - loss: 40.3703 - mae: 40.3703\n",
            "Epoch 47/100\n",
            "5/5 [==============================] - 0s 8ms/step - loss: 40.4771 - mae: 40.4771\n",
            "Epoch 48/100\n",
            "5/5 [==============================] - 0s 6ms/step - loss: 40.1531 - mae: 40.1531\n",
            "Epoch 49/100\n",
            "5/5 [==============================] - 0s 4ms/step - loss: 40.7291 - mae: 40.7291\n",
            "Epoch 50/100\n",
            "5/5 [==============================] - 0s 6ms/step - loss: 40.1536 - mae: 40.1536\n",
            "Epoch 51/100\n",
            "5/5 [==============================] - 0s 6ms/step - loss: 40.2710 - mae: 40.2710\n",
            "Epoch 52/100\n",
            "5/5 [==============================] - 0s 6ms/step - loss: 40.6574 - mae: 40.6574\n",
            "Epoch 53/100\n",
            "5/5 [==============================] - 0s 4ms/step - loss: 40.6571 - mae: 40.6571\n",
            "Epoch 54/100\n",
            "5/5 [==============================] - 0s 4ms/step - loss: 40.6893 - mae: 40.6893\n",
            "Epoch 55/100\n",
            "5/5 [==============================] - 0s 5ms/step - loss: 41.2775 - mae: 41.2775\n",
            "Epoch 56/100\n",
            "5/5 [==============================] - 0s 7ms/step - loss: 41.8514 - mae: 41.8514\n",
            "Epoch 57/100\n",
            "5/5 [==============================] - 0s 7ms/step - loss: 40.7904 - mae: 40.7904\n",
            "Epoch 58/100\n",
            "5/5 [==============================] - 0s 6ms/step - loss: 40.3131 - mae: 40.3131\n",
            "Epoch 59/100\n",
            "5/5 [==============================] - 0s 7ms/step - loss: 40.7194 - mae: 40.7194\n",
            "Epoch 60/100\n",
            "5/5 [==============================] - 0s 4ms/step - loss: 40.1479 - mae: 40.1479\n",
            "Epoch 61/100\n",
            "5/5 [==============================] - 0s 5ms/step - loss: 40.1119 - mae: 40.1119\n",
            "Epoch 62/100\n",
            "5/5 [==============================] - 0s 5ms/step - loss: 40.7796 - mae: 40.7796\n",
            "Epoch 63/100\n",
            "5/5 [==============================] - 0s 8ms/step - loss: 39.7243 - mae: 39.7243\n",
            "Epoch 64/100\n",
            "5/5 [==============================] - 0s 12ms/step - loss: 40.1467 - mae: 40.1467\n",
            "Epoch 65/100\n",
            "5/5 [==============================] - 0s 6ms/step - loss: 39.6886 - mae: 39.6886\n",
            "Epoch 66/100\n",
            "5/5 [==============================] - 0s 7ms/step - loss: 40.2841 - mae: 40.2841\n",
            "Epoch 67/100\n",
            "5/5 [==============================] - 0s 7ms/step - loss: 39.5541 - mae: 39.5541\n",
            "Epoch 68/100\n",
            "5/5 [==============================] - 0s 5ms/step - loss: 39.7377 - mae: 39.7377\n",
            "Epoch 69/100\n",
            "5/5 [==============================] - 0s 6ms/step - loss: 39.9787 - mae: 39.9787\n",
            "Epoch 70/100\n",
            "5/5 [==============================] - 0s 5ms/step - loss: 40.0014 - mae: 40.0014\n",
            "Epoch 71/100\n",
            "5/5 [==============================] - 0s 5ms/step - loss: 40.0915 - mae: 40.0915\n",
            "Epoch 72/100\n",
            "5/5 [==============================] - 0s 4ms/step - loss: 39.2548 - mae: 39.2548\n",
            "Epoch 73/100\n",
            "5/5 [==============================] - 0s 5ms/step - loss: 39.6826 - mae: 39.6826\n",
            "Epoch 74/100\n",
            "5/5 [==============================] - 0s 5ms/step - loss: 39.5375 - mae: 39.5375\n",
            "Epoch 75/100\n",
            "5/5 [==============================] - 0s 5ms/step - loss: 39.6264 - mae: 39.6264\n",
            "Epoch 76/100\n",
            "5/5 [==============================] - 0s 5ms/step - loss: 39.3110 - mae: 39.3110\n",
            "Epoch 77/100\n",
            "5/5 [==============================] - 0s 6ms/step - loss: 39.1600 - mae: 39.1600\n",
            "Epoch 78/100\n",
            "5/5 [==============================] - 0s 4ms/step - loss: 39.7547 - mae: 39.7547\n",
            "Epoch 79/100\n",
            "5/5 [==============================] - 0s 6ms/step - loss: 39.2543 - mae: 39.2543\n",
            "Epoch 80/100\n",
            "5/5 [==============================] - 0s 6ms/step - loss: 38.6969 - mae: 38.6969\n",
            "Epoch 81/100\n",
            "5/5 [==============================] - 0s 5ms/step - loss: 39.5438 - mae: 39.5438\n",
            "Epoch 82/100\n",
            "5/5 [==============================] - 0s 8ms/step - loss: 39.8689 - mae: 39.8689\n",
            "Epoch 83/100\n",
            "5/5 [==============================] - 0s 5ms/step - loss: 39.1692 - mae: 39.1692\n",
            "Epoch 84/100\n",
            "5/5 [==============================] - 0s 5ms/step - loss: 38.8840 - mae: 38.8840\n",
            "Epoch 85/100\n",
            "5/5 [==============================] - 0s 8ms/step - loss: 38.8887 - mae: 38.8887\n",
            "Epoch 86/100\n",
            "5/5 [==============================] - 0s 4ms/step - loss: 38.6616 - mae: 38.6616\n",
            "Epoch 87/100\n",
            "5/5 [==============================] - 0s 7ms/step - loss: 38.8397 - mae: 38.8397\n",
            "Epoch 88/100\n",
            "5/5 [==============================] - 0s 5ms/step - loss: 38.6604 - mae: 38.6604\n",
            "Epoch 89/100\n",
            "5/5 [==============================] - 0s 5ms/step - loss: 38.7558 - mae: 38.7558\n",
            "Epoch 90/100\n",
            "5/5 [==============================] - 0s 5ms/step - loss: 38.5443 - mae: 38.5443\n",
            "Epoch 91/100\n",
            "5/5 [==============================] - 0s 6ms/step - loss: 38.3247 - mae: 38.3247\n",
            "Epoch 92/100\n",
            "5/5 [==============================] - 0s 5ms/step - loss: 38.8431 - mae: 38.8431\n",
            "Epoch 93/100\n",
            "5/5 [==============================] - 0s 4ms/step - loss: 39.1135 - mae: 39.1135\n",
            "Epoch 94/100\n",
            "5/5 [==============================] - 0s 4ms/step - loss: 38.1463 - mae: 38.1463\n",
            "Epoch 95/100\n",
            "5/5 [==============================] - 0s 4ms/step - loss: 38.3999 - mae: 38.3999\n",
            "Epoch 96/100\n",
            "5/5 [==============================] - 0s 4ms/step - loss: 38.5598 - mae: 38.5598\n",
            "Epoch 97/100\n",
            "5/5 [==============================] - 0s 4ms/step - loss: 38.1038 - mae: 38.1038\n",
            "Epoch 98/100\n",
            "5/5 [==============================] - 0s 4ms/step - loss: 39.0081 - mae: 39.0081\n",
            "Epoch 99/100\n",
            "5/5 [==============================] - 0s 10ms/step - loss: 38.3056 - mae: 38.3056\n",
            "Epoch 100/100\n",
            "5/5 [==============================] - 0s 6ms/step - loss: 37.9977 - mae: 37.9977\n"
          ]
        },
        {
          "output_type": "execute_result",
          "data": {
            "text/plain": [
              "<keras.callbacks.History at 0x7f054a647b90>"
            ]
          },
          "metadata": {},
          "execution_count": 30
        }
      ]
    },
    {
      "cell_type": "code",
      "source": [
        "# Make predictions with our trained model\n",
        "y_reg_preds = model_3.predict(X_reg_test)\n",
        "\n",
        "# Plot the model's predictions against our regression data\n",
        "plt.figure(figsize=(10, 7))\n",
        "plt.scatter(X_reg_train, y_reg_train, c=\"b\", label=\"Training data\")\n",
        "plt.scatter(X_reg_test, y_reg_test, c=\"g\", label=\"Test data\")\n",
        "plt.scatter(X_reg_test, y_reg_preds, c=\"r\", label=\"Predictions\")\n",
        "plt.legend();"
      ],
      "metadata": {
        "colab": {
          "base_uri": "https://localhost:8080/",
          "height": 428
        },
        "id": "fXlocB3SKyIi",
        "outputId": "e7f5af2e-cb93-499b-ef8a-7f42955de112"
      },
      "execution_count": null,
      "outputs": [
        {
          "output_type": "display_data",
          "data": {
            "text/plain": [
              "<Figure size 720x504 with 1 Axes>"
            ],
            "image/png": "[encoded data removed]"
          },
          "metadata": {
            "needs_background": "light"
          }
        }
      ]
    },
    {
      "cell_type": "markdown",
      "source": [
        "## The missing piece non-linearity\n"
      ],
      "metadata": {
        "id": "QJ1Fu2L_QXQv"
      }
    },
    {
      "cell_type": "code",
      "source": [
        "# Set the random seed\n",
        "tf.random.set_seed(42)\n",
        "\n",
        "# 1. Create the model\n",
        "model_4 = tf.keras.Sequential([\n",
        "    tf.keras.layers.Dense(1, activation=tf.keras.activations.linear)\n",
        "])\n",
        "\n",
        "# 2. Compile the model\n",
        "model_4.compile(loss=\"binary_crossentropy\",\n",
        "                optimizer=tf.keras.optimizers.Adam(lr=0.001),\n",
        "                metrics=[\"accuracy\"])\n",
        "\n",
        "# 3. Fit the model\n",
        "history = model_4.fit(X, y, epochs=100)\n"
      ],
      "metadata": {
        "colab": {
          "base_uri": "https://localhost:8080/"
        },
        "id": "YvFvibxySFxi",
        "outputId": "960619d2-f885-4cd2-868e-f51230347e3e"
      },
      "execution_count": null,
      "outputs": [
        {
          "output_type": "stream",
          "name": "stdout",
          "text": [
            "Epoch 1/100\n"
          ]
        },
        {
          "output_type": "stream",
          "name": "stderr",
          "text": [
            "/usr/local/lib/python3.7/dist-packages/keras/optimizer_v2/adam.py:105: UserWarning: The `lr` argument is deprecated, use `learning_rate` instead.\n",
            "  super(Adam, self).__init__(name, **kwargs)\n"
          ]
        },
        {
          "output_type": "stream",
          "name": "stdout",
          "text": [
            "32/32 [==============================] - 1s 5ms/step - loss: 4.2979 - accuracy: 0.4670\n",
            "Epoch 2/100\n",
            "32/32 [==============================] - 0s 4ms/step - loss: 4.2317 - accuracy: 0.4400\n",
            "Epoch 3/100\n",
            "32/32 [==============================] - 0s 5ms/step - loss: 4.1610 - accuracy: 0.4310\n",
            "Epoch 4/100\n",
            "32/32 [==============================] - 0s 5ms/step - loss: 4.1183 - accuracy: 0.4270\n",
            "Epoch 5/100\n",
            "32/32 [==============================] - 0s 4ms/step - loss: 4.0784 - accuracy: 0.4240\n",
            "Epoch 6/100\n",
            "32/32 [==============================] - 0s 4ms/step - loss: 3.9575 - accuracy: 0.4170\n",
            "Epoch 7/100\n",
            "32/32 [==============================] - 0s 4ms/step - loss: 3.8372 - accuracy: 0.4090\n",
            "Epoch 8/100\n",
            "32/32 [==============================] - 0s 4ms/step - loss: 3.7656 - accuracy: 0.4120\n",
            "Epoch 9/100\n",
            "32/32 [==============================] - 0s 4ms/step - loss: 3.7378 - accuracy: 0.4170\n",
            "Epoch 10/100\n",
            "32/32 [==============================] - 0s 6ms/step - loss: 3.6978 - accuracy: 0.4190\n",
            "Epoch 11/100\n",
            "32/32 [==============================] - 0s 6ms/step - loss: 3.6894 - accuracy: 0.4190\n",
            "Epoch 12/100\n",
            "32/32 [==============================] - 0s 5ms/step - loss: 3.6843 - accuracy: 0.4220\n",
            "Epoch 13/100\n",
            "32/32 [==============================] - 0s 6ms/step - loss: 3.6706 - accuracy: 0.4200\n",
            "Epoch 14/100\n",
            "32/32 [==============================] - 0s 4ms/step - loss: 3.6651 - accuracy: 0.4230\n",
            "Epoch 15/100\n",
            "32/32 [==============================] - 0s 4ms/step - loss: 3.6612 - accuracy: 0.4240\n",
            "Epoch 16/100\n",
            "32/32 [==============================] - 0s 5ms/step - loss: 3.6418 - accuracy: 0.4250\n",
            "Epoch 17/100\n",
            "32/32 [==============================] - 0s 4ms/step - loss: 3.5384 - accuracy: 0.4400\n",
            "Epoch 18/100\n",
            "32/32 [==============================] - 0s 4ms/step - loss: 3.5138 - accuracy: 0.4460\n",
            "Epoch 19/100\n",
            "32/32 [==============================] - 0s 4ms/step - loss: 3.4794 - accuracy: 0.4480\n",
            "Epoch 20/100\n",
            "32/32 [==============================] - 0s 5ms/step - loss: 3.4375 - accuracy: 0.4520\n",
            "Epoch 21/100\n",
            "32/32 [==============================] - 0s 5ms/step - loss: 3.3906 - accuracy: 0.4580\n",
            "Epoch 22/100\n",
            "32/32 [==============================] - 0s 6ms/step - loss: 3.3103 - accuracy: 0.4580\n",
            "Epoch 23/100\n",
            "32/32 [==============================] - 0s 4ms/step - loss: 3.2536 - accuracy: 0.4570\n",
            "Epoch 24/100\n",
            "32/32 [==============================] - 0s 4ms/step - loss: 3.2187 - accuracy: 0.4580\n",
            "Epoch 25/100\n",
            "32/32 [==============================] - 0s 6ms/step - loss: 3.1888 - accuracy: 0.4590\n",
            "Epoch 26/100\n",
            "32/32 [==============================] - 0s 4ms/step - loss: 3.1485 - accuracy: 0.4570\n",
            "Epoch 27/100\n",
            "32/32 [==============================] - 0s 3ms/step - loss: 2.9633 - accuracy: 0.4570\n",
            "Epoch 28/100\n",
            "32/32 [==============================] - 0s 4ms/step - loss: 2.7948 - accuracy: 0.4620\n",
            "Epoch 29/100\n",
            "32/32 [==============================] - 0s 3ms/step - loss: 2.7038 - accuracy: 0.4620\n",
            "Epoch 30/100\n",
            "32/32 [==============================] - 0s 4ms/step - loss: 2.6474 - accuracy: 0.4610\n",
            "Epoch 31/100\n",
            "32/32 [==============================] - 0s 4ms/step - loss: 2.6236 - accuracy: 0.4620\n",
            "Epoch 32/100\n",
            "32/32 [==============================] - 0s 4ms/step - loss: 2.6051 - accuracy: 0.4640\n",
            "Epoch 33/100\n",
            "32/32 [==============================] - 0s 4ms/step - loss: 2.5311 - accuracy: 0.4650\n",
            "Epoch 34/100\n",
            "32/32 [==============================] - 0s 5ms/step - loss: 2.3198 - accuracy: 0.4600\n",
            "Epoch 35/100\n",
            "32/32 [==============================] - 0s 4ms/step - loss: 2.1316 - accuracy: 0.4600\n",
            "Epoch 36/100\n",
            "32/32 [==============================] - 0s 5ms/step - loss: 1.4313 - accuracy: 0.4650\n",
            "Epoch 37/100\n",
            "32/32 [==============================] - 0s 6ms/step - loss: 1.0173 - accuracy: 0.4650\n",
            "Epoch 38/100\n",
            "32/32 [==============================] - 0s 4ms/step - loss: 0.9971 - accuracy: 0.4650\n",
            "Epoch 39/100\n",
            "32/32 [==============================] - 0s 6ms/step - loss: 0.9847 - accuracy: 0.4650\n",
            "Epoch 40/100\n",
            "32/32 [==============================] - 0s 5ms/step - loss: 0.9742 - accuracy: 0.4650\n",
            "Epoch 41/100\n",
            "32/32 [==============================] - 0s 4ms/step - loss: 0.9650 - accuracy: 0.4650\n",
            "Epoch 42/100\n",
            "32/32 [==============================] - 0s 5ms/step - loss: 0.9568 - accuracy: 0.4650\n",
            "Epoch 43/100\n",
            "32/32 [==============================] - 0s 4ms/step - loss: 0.9492 - accuracy: 0.4660\n",
            "Epoch 44/100\n",
            "32/32 [==============================] - 0s 6ms/step - loss: 0.9425 - accuracy: 0.4660\n",
            "Epoch 45/100\n",
            "32/32 [==============================] - 0s 5ms/step - loss: 0.9364 - accuracy: 0.4660\n",
            "Epoch 46/100\n",
            "32/32 [==============================] - 0s 4ms/step - loss: 0.9306 - accuracy: 0.4670\n",
            "Epoch 47/100\n",
            "32/32 [==============================] - 0s 4ms/step - loss: 0.9253 - accuracy: 0.4670\n",
            "Epoch 48/100\n",
            "32/32 [==============================] - 0s 5ms/step - loss: 0.9200 - accuracy: 0.4660\n",
            "Epoch 49/100\n",
            "32/32 [==============================] - 0s 5ms/step - loss: 0.9152 - accuracy: 0.4660\n",
            "Epoch 50/100\n",
            "32/32 [==============================] - 0s 4ms/step - loss: 0.9106 - accuracy: 0.4660\n",
            "Epoch 51/100\n",
            "32/32 [==============================] - 0s 4ms/step - loss: 0.9061 - accuracy: 0.4650\n",
            "Epoch 52/100\n",
            "32/32 [==============================] - 0s 3ms/step - loss: 0.9021 - accuracy: 0.4660\n",
            "Epoch 53/100\n",
            "32/32 [==============================] - 0s 4ms/step - loss: 0.8981 - accuracy: 0.4660\n",
            "Epoch 54/100\n",
            "32/32 [==============================] - 0s 4ms/step - loss: 0.8943 - accuracy: 0.4670\n",
            "Epoch 55/100\n",
            "32/32 [==============================] - 0s 4ms/step - loss: 0.8906 - accuracy: 0.4670\n",
            "Epoch 56/100\n",
            "32/32 [==============================] - 0s 4ms/step - loss: 0.8870 - accuracy: 0.4670\n",
            "Epoch 57/100\n",
            "32/32 [==============================] - 0s 4ms/step - loss: 0.8835 - accuracy: 0.4680\n",
            "Epoch 58/100\n",
            "32/32 [==============================] - 0s 3ms/step - loss: 0.8802 - accuracy: 0.4680\n",
            "Epoch 59/100\n",
            "32/32 [==============================] - 0s 4ms/step - loss: 0.8769 - accuracy: 0.4680\n",
            "Epoch 60/100\n",
            "32/32 [==============================] - 0s 4ms/step - loss: 0.8738 - accuracy: 0.4680\n",
            "Epoch 61/100\n",
            "32/32 [==============================] - 0s 4ms/step - loss: 0.8708 - accuracy: 0.4660\n",
            "Epoch 62/100\n",
            "32/32 [==============================] - 0s 4ms/step - loss: 0.8679 - accuracy: 0.4670\n",
            "Epoch 63/100\n",
            "32/32 [==============================] - 0s 4ms/step - loss: 0.8649 - accuracy: 0.4660\n",
            "Epoch 64/100\n",
            "32/32 [==============================] - 0s 4ms/step - loss: 0.8621 - accuracy: 0.4660\n",
            "Epoch 65/100\n",
            "32/32 [==============================] - 0s 4ms/step - loss: 0.8593 - accuracy: 0.4670\n",
            "Epoch 66/100\n",
            "32/32 [==============================] - 0s 5ms/step - loss: 0.8565 - accuracy: 0.4680\n",
            "Epoch 67/100\n",
            "32/32 [==============================] - 0s 5ms/step - loss: 0.8539 - accuracy: 0.4670\n",
            "Epoch 68/100\n",
            "32/32 [==============================] - 0s 6ms/step - loss: 0.8513 - accuracy: 0.4680\n",
            "Epoch 69/100\n",
            "32/32 [==============================] - 0s 3ms/step - loss: 0.8486 - accuracy: 0.4690\n",
            "Epoch 70/100\n",
            "32/32 [==============================] - 0s 3ms/step - loss: 0.8461 - accuracy: 0.4690\n",
            "Epoch 71/100\n",
            "32/32 [==============================] - 0s 4ms/step - loss: 0.8435 - accuracy: 0.4690\n",
            "Epoch 72/100\n",
            "32/32 [==============================] - 0s 5ms/step - loss: 0.8411 - accuracy: 0.4690\n",
            "Epoch 73/100\n",
            "32/32 [==============================] - 0s 5ms/step - loss: 0.8387 - accuracy: 0.4670\n",
            "Epoch 74/100\n",
            "32/32 [==============================] - 0s 6ms/step - loss: 0.8362 - accuracy: 0.4670\n",
            "Epoch 75/100\n",
            "32/32 [==============================] - 0s 6ms/step - loss: 0.8339 - accuracy: 0.4680\n",
            "Epoch 76/100\n",
            "32/32 [==============================] - 0s 4ms/step - loss: 0.8317 - accuracy: 0.4690\n",
            "Epoch 77/100\n",
            "32/32 [==============================] - 0s 6ms/step - loss: 0.8294 - accuracy: 0.4690\n",
            "Epoch 78/100\n",
            "32/32 [==============================] - 0s 5ms/step - loss: 0.8272 - accuracy: 0.4710\n",
            "Epoch 79/100\n",
            "32/32 [==============================] - 0s 5ms/step - loss: 0.8249 - accuracy: 0.4710\n",
            "Epoch 80/100\n",
            "32/32 [==============================] - 0s 5ms/step - loss: 0.8228 - accuracy: 0.4710\n",
            "Epoch 81/100\n",
            "32/32 [==============================] - 0s 5ms/step - loss: 0.8207 - accuracy: 0.4730\n",
            "Epoch 82/100\n",
            "32/32 [==============================] - 0s 5ms/step - loss: 0.8186 - accuracy: 0.4730\n",
            "Epoch 83/100\n",
            "32/32 [==============================] - 0s 5ms/step - loss: 0.8166 - accuracy: 0.4730\n",
            "Epoch 84/100\n",
            "32/32 [==============================] - 0s 6ms/step - loss: 0.8146 - accuracy: 0.4730\n",
            "Epoch 85/100\n",
            "32/32 [==============================] - 0s 4ms/step - loss: 0.8126 - accuracy: 0.4720\n",
            "Epoch 86/100\n",
            "32/32 [==============================] - 0s 4ms/step - loss: 0.8107 - accuracy: 0.4720\n",
            "Epoch 87/100\n",
            "32/32 [==============================] - 0s 5ms/step - loss: 0.8088 - accuracy: 0.4720\n",
            "Epoch 88/100\n",
            "32/32 [==============================] - 0s 4ms/step - loss: 0.8069 - accuracy: 0.4730\n",
            "Epoch 89/100\n",
            "32/32 [==============================] - 0s 4ms/step - loss: 0.8051 - accuracy: 0.4740\n",
            "Epoch 90/100\n",
            "32/32 [==============================] - 0s 4ms/step - loss: 0.8032 - accuracy: 0.4740\n",
            "Epoch 91/100\n",
            "32/32 [==============================] - 0s 5ms/step - loss: 0.8014 - accuracy: 0.4740\n",
            "Epoch 92/100\n",
            "32/32 [==============================] - 0s 7ms/step - loss: 0.7996 - accuracy: 0.4740\n",
            "Epoch 93/100\n",
            "32/32 [==============================] - 0s 4ms/step - loss: 0.7978 - accuracy: 0.4740\n",
            "Epoch 94/100\n",
            "32/32 [==============================] - 0s 6ms/step - loss: 0.7962 - accuracy: 0.4740\n",
            "Epoch 95/100\n",
            "32/32 [==============================] - 0s 4ms/step - loss: 0.7944 - accuracy: 0.4740\n",
            "Epoch 96/100\n",
            "32/32 [==============================] - 0s 4ms/step - loss: 0.7927 - accuracy: 0.4740\n",
            "Epoch 97/100\n",
            "32/32 [==============================] - 0s 5ms/step - loss: 0.7911 - accuracy: 0.4740\n",
            "Epoch 98/100\n",
            "32/32 [==============================] - 0s 4ms/step - loss: 0.7895 - accuracy: 0.4740\n",
            "Epoch 99/100\n",
            "32/32 [==============================] - 0s 6ms/step - loss: 0.7878 - accuracy: 0.4750\n",
            "Epoch 100/100\n",
            "32/32 [==============================] - 0s 4ms/step - loss: 0.7861 - accuracy: 0.4750\n"
          ]
        }
      ]
    },
    {
      "cell_type": "code",
      "source": [
        "# Check out our data\n",
        "plt.scatter(X[:, 0], X[:, 1], c=y, cmap=plt.cm.RdYlBu)"
      ],
      "metadata": {
        "colab": {
          "base_uri": "https://localhost:8080/",
          "height": 283
        },
        "id": "8EhJrZK7UBdz",
        "outputId": "ebdb61e7-400d-4c27-bd28-a8bbb29bc4f9"
      },
      "execution_count": null,
      "outputs": [
        {
          "output_type": "execute_result",
          "data": {
            "text/plain": [
              "<matplotlib.collections.PathCollection at 0x7f054a11c850>"
            ]
          },
          "metadata": {},
          "execution_count": 33
        },
        {
          "output_type": "display_data",
          "data": {
            "text/plain": [
              "<Figure size 432x288 with 1 Axes>"
            ],
            "image/png": "[encoded data removed]"
          },
          "metadata": {
            "needs_background": "light"
          }
        }
      ]
    },
    {
      "cell_type": "markdown",
      "source": [
        "Let's try build our first neural network with a non-linear activatio function."
      ],
      "metadata": {
        "id": "sAmYUAQ8WbNs"
      }
    },
    {
      "cell_type": "code",
      "source": [
        "# Set random seed\n",
        "tf.random.set_seed(42)\n",
        "\n",
        "# 1. Create a model with a non-linear activation \n",
        "model_5 = tf.keras.Sequential([\n",
        "    tf.keras.layers.Dense(1, activation=tf.keras.activations.relu)\n",
        "])\n",
        "\n",
        "# 2. Compile the model\n",
        "model_5.compile(loss=tf.keras.losses.BinaryCrossentropy(),\n",
        "                optimizer=tf.keras.optimizers.Adam(lr=0.001),\n",
        "                metrics=[\"accuracy\"])\n",
        "\n",
        "# 3. Fit the model\n",
        "history = model_5.fit(X, y, epochs=100)"
      ],
      "metadata": {
        "colab": {
          "base_uri": "https://localhost:8080/"
        },
        "id": "zvYtOTJdX-Wa",
        "outputId": "7932ff0d-6cdd-4e8c-9afa-b4005cedc113"
      },
      "execution_count": null,
      "outputs": [
        {
          "output_type": "stream",
          "name": "stdout",
          "text": [
            "Epoch 1/100\n",
            "32/32 [==============================] - 1s 3ms/step - loss: 4.2979 - accuracy: 0.4670\n",
            "Epoch 2/100\n",
            "32/32 [==============================] - 0s 3ms/step - loss: 4.2317 - accuracy: 0.4400\n",
            "Epoch 3/100\n",
            "32/32 [==============================] - 0s 3ms/step - loss: 4.1610 - accuracy: 0.4310\n",
            "Epoch 4/100\n",
            "32/32 [==============================] - 0s 3ms/step - loss: 4.1183 - accuracy: 0.4270\n",
            "Epoch 5/100\n",
            "32/32 [==============================] - 0s 3ms/step - loss: 4.0784 - accuracy: 0.4240\n",
            "Epoch 6/100\n",
            "32/32 [==============================] - 0s 3ms/step - loss: 3.9575 - accuracy: 0.4170\n",
            "Epoch 7/100\n",
            "32/32 [==============================] - 0s 3ms/step - loss: 3.8372 - accuracy: 0.4090\n",
            "Epoch 8/100\n",
            "32/32 [==============================] - 0s 3ms/step - loss: 3.7656 - accuracy: 0.4120\n",
            "Epoch 9/100\n",
            "32/32 [==============================] - 0s 3ms/step - loss: 3.7378 - accuracy: 0.4170\n",
            "Epoch 10/100\n",
            "32/32 [==============================] - 0s 3ms/step - loss: 3.6978 - accuracy: 0.4190\n",
            "Epoch 11/100\n",
            "32/32 [==============================] - 0s 3ms/step - loss: 3.6894 - accuracy: 0.4190\n",
            "Epoch 12/100\n",
            "32/32 [==============================] - 0s 2ms/step - loss: 3.6843 - accuracy: 0.4220\n",
            "Epoch 13/100\n",
            "32/32 [==============================] - 0s 3ms/step - loss: 3.6706 - accuracy: 0.4200\n",
            "Epoch 14/100\n",
            "32/32 [==============================] - 0s 3ms/step - loss: 3.6651 - accuracy: 0.4230\n",
            "Epoch 15/100\n",
            "32/32 [==============================] - 0s 2ms/step - loss: 3.6612 - accuracy: 0.4240\n",
            "Epoch 16/100\n",
            "32/32 [==============================] - 0s 3ms/step - loss: 3.6418 - accuracy: 0.4250\n",
            "Epoch 17/100\n",
            "32/32 [==============================] - 0s 3ms/step - loss: 3.5384 - accuracy: 0.4400\n",
            "Epoch 18/100\n",
            "32/32 [==============================] - 0s 2ms/step - loss: 3.5138 - accuracy: 0.4460\n",
            "Epoch 19/100\n",
            "32/32 [==============================] - 0s 2ms/step - loss: 3.4794 - accuracy: 0.4480\n",
            "Epoch 20/100\n",
            "32/32 [==============================] - 0s 3ms/step - loss: 3.4375 - accuracy: 0.4520\n",
            "Epoch 21/100\n",
            "32/32 [==============================] - 0s 3ms/step - loss: 3.3906 - accuracy: 0.4580\n",
            "Epoch 22/100\n",
            "32/32 [==============================] - 0s 3ms/step - loss: 3.3103 - accuracy: 0.4580\n",
            "Epoch 23/100\n",
            "32/32 [==============================] - 0s 2ms/step - loss: 3.2536 - accuracy: 0.4570\n",
            "Epoch 24/100\n",
            "32/32 [==============================] - 0s 3ms/step - loss: 3.2187 - accuracy: 0.4580\n",
            "Epoch 25/100\n",
            "32/32 [==============================] - 0s 3ms/step - loss: 3.1888 - accuracy: 0.4590\n",
            "Epoch 26/100\n",
            "32/32 [==============================] - 0s 3ms/step - loss: 3.1485 - accuracy: 0.4570\n",
            "Epoch 27/100\n",
            "32/32 [==============================] - 0s 3ms/step - loss: 2.9633 - accuracy: 0.4570\n",
            "Epoch 28/100\n",
            "32/32 [==============================] - 0s 3ms/step - loss: 2.7948 - accuracy: 0.4620\n",
            "Epoch 29/100\n",
            "32/32 [==============================] - 0s 3ms/step - loss: 2.7038 - accuracy: 0.4620\n",
            "Epoch 30/100\n",
            "32/32 [==============================] - 0s 3ms/step - loss: 2.6474 - accuracy: 0.4610\n",
            "Epoch 31/100\n",
            "32/32 [==============================] - 0s 3ms/step - loss: 2.6236 - accuracy: 0.4620\n",
            "Epoch 32/100\n",
            "32/32 [==============================] - 0s 3ms/step - loss: 2.6051 - accuracy: 0.4640\n",
            "Epoch 33/100\n",
            "32/32 [==============================] - 0s 3ms/step - loss: 2.5311 - accuracy: 0.4650\n",
            "Epoch 34/100\n",
            "32/32 [==============================] - 0s 3ms/step - loss: 2.3198 - accuracy: 0.4600\n",
            "Epoch 35/100\n",
            "32/32 [==============================] - 0s 3ms/step - loss: 2.1316 - accuracy: 0.4600\n",
            "Epoch 36/100\n",
            "32/32 [==============================] - 0s 3ms/step - loss: 1.4313 - accuracy: 0.4650\n",
            "Epoch 37/100\n",
            "32/32 [==============================] - 0s 3ms/step - loss: 1.0173 - accuracy: 0.4650\n",
            "Epoch 38/100\n",
            "32/32 [==============================] - 0s 2ms/step - loss: 0.9971 - accuracy: 0.4650\n",
            "Epoch 39/100\n",
            "32/32 [==============================] - 0s 3ms/step - loss: 0.9847 - accuracy: 0.4650\n",
            "Epoch 40/100\n",
            "32/32 [==============================] - 0s 3ms/step - loss: 0.9742 - accuracy: 0.4650\n",
            "Epoch 41/100\n",
            "32/32 [==============================] - 0s 2ms/step - loss: 0.9650 - accuracy: 0.4650\n",
            "Epoch 42/100\n",
            "32/32 [==============================] - 0s 3ms/step - loss: 0.9568 - accuracy: 0.4650\n",
            "Epoch 43/100\n",
            "32/32 [==============================] - 0s 3ms/step - loss: 0.9492 - accuracy: 0.4660\n",
            "Epoch 44/100\n",
            "32/32 [==============================] - 0s 3ms/step - loss: 0.9425 - accuracy: 0.4660\n",
            "Epoch 45/100\n",
            "32/32 [==============================] - 0s 3ms/step - loss: 0.9364 - accuracy: 0.4660\n",
            "Epoch 46/100\n",
            "32/32 [==============================] - 0s 3ms/step - loss: 0.9306 - accuracy: 0.4670\n",
            "Epoch 47/100\n",
            "32/32 [==============================] - 0s 3ms/step - loss: 0.9253 - accuracy: 0.4670\n",
            "Epoch 48/100\n",
            "32/32 [==============================] - 0s 2ms/step - loss: 0.9200 - accuracy: 0.4660\n",
            "Epoch 49/100\n",
            "32/32 [==============================] - 0s 3ms/step - loss: 0.9152 - accuracy: 0.4660\n",
            "Epoch 50/100\n",
            "32/32 [==============================] - 0s 2ms/step - loss: 0.9106 - accuracy: 0.4660\n",
            "Epoch 51/100\n",
            "32/32 [==============================] - 0s 3ms/step - loss: 0.9061 - accuracy: 0.4650\n",
            "Epoch 52/100\n",
            "32/32 [==============================] - 0s 3ms/step - loss: 0.9021 - accuracy: 0.4660\n",
            "Epoch 53/100\n",
            "32/32 [==============================] - 0s 3ms/step - loss: 0.8981 - accuracy: 0.4660\n",
            "Epoch 54/100\n",
            "32/32 [==============================] - 0s 3ms/step - loss: 0.8943 - accuracy: 0.4670\n",
            "Epoch 55/100\n",
            "32/32 [==============================] - 0s 2ms/step - loss: 0.8906 - accuracy: 0.4670\n",
            "Epoch 56/100\n",
            "32/32 [==============================] - 0s 2ms/step - loss: 0.8870 - accuracy: 0.4670\n",
            "Epoch 57/100\n",
            "32/32 [==============================] - 0s 3ms/step - loss: 0.8835 - accuracy: 0.4680\n",
            "Epoch 58/100\n",
            "32/32 [==============================] - 0s 3ms/step - loss: 0.8802 - accuracy: 0.4680\n",
            "Epoch 59/100\n",
            "32/32 [==============================] - 0s 3ms/step - loss: 0.8769 - accuracy: 0.4680\n",
            "Epoch 60/100\n",
            "32/32 [==============================] - 0s 4ms/step - loss: 0.8738 - accuracy: 0.4680\n",
            "Epoch 61/100\n",
            "32/32 [==============================] - 0s 4ms/step - loss: 0.8708 - accuracy: 0.4660\n",
            "Epoch 62/100\n",
            "32/32 [==============================] - 0s 4ms/step - loss: 0.8679 - accuracy: 0.4670\n",
            "Epoch 63/100\n",
            "32/32 [==============================] - 0s 4ms/step - loss: 0.8649 - accuracy: 0.4660\n",
            "Epoch 64/100\n",
            "32/32 [==============================] - 0s 4ms/step - loss: 0.8621 - accuracy: 0.4660\n",
            "Epoch 65/100\n",
            "32/32 [==============================] - 0s 4ms/step - loss: 0.8593 - accuracy: 0.4670\n",
            "Epoch 66/100\n",
            "32/32 [==============================] - 0s 4ms/step - loss: 0.8565 - accuracy: 0.4680\n",
            "Epoch 67/100\n",
            "32/32 [==============================] - 0s 4ms/step - loss: 0.8539 - accuracy: 0.4670\n",
            "Epoch 68/100\n",
            "32/32 [==============================] - 0s 4ms/step - loss: 0.8513 - accuracy: 0.4680\n",
            "Epoch 69/100\n",
            "32/32 [==============================] - 0s 4ms/step - loss: 0.8486 - accuracy: 0.4690\n",
            "Epoch 70/100\n",
            "32/32 [==============================] - 0s 4ms/step - loss: 0.8461 - accuracy: 0.4690\n",
            "Epoch 71/100\n",
            "32/32 [==============================] - 0s 4ms/step - loss: 0.8435 - accuracy: 0.4690\n",
            "Epoch 72/100\n",
            "32/32 [==============================] - 0s 4ms/step - loss: 0.8411 - accuracy: 0.4690\n",
            "Epoch 73/100\n",
            "32/32 [==============================] - 0s 4ms/step - loss: 0.8387 - accuracy: 0.4670\n",
            "Epoch 74/100\n",
            "32/32 [==============================] - 0s 3ms/step - loss: 0.8362 - accuracy: 0.4670\n",
            "Epoch 75/100\n",
            "32/32 [==============================] - 0s 3ms/step - loss: 0.8339 - accuracy: 0.4680\n",
            "Epoch 76/100\n",
            "32/32 [==============================] - 0s 3ms/step - loss: 0.8317 - accuracy: 0.4690\n",
            "Epoch 77/100\n",
            "32/32 [==============================] - 0s 3ms/step - loss: 0.8294 - accuracy: 0.4690\n",
            "Epoch 78/100\n",
            "32/32 [==============================] - 0s 3ms/step - loss: 0.8272 - accuracy: 0.4710\n",
            "Epoch 79/100\n",
            "32/32 [==============================] - 0s 3ms/step - loss: 0.8249 - accuracy: 0.4710\n",
            "Epoch 80/100\n",
            "32/32 [==============================] - 0s 3ms/step - loss: 0.8228 - accuracy: 0.4710\n",
            "Epoch 81/100\n",
            "32/32 [==============================] - 0s 3ms/step - loss: 0.8207 - accuracy: 0.4730\n",
            "Epoch 82/100\n",
            "32/32 [==============================] - 0s 3ms/step - loss: 0.8186 - accuracy: 0.4730\n",
            "Epoch 83/100\n",
            "32/32 [==============================] - 0s 3ms/step - loss: 0.8166 - accuracy: 0.4730\n",
            "Epoch 84/100\n",
            "32/32 [==============================] - 0s 3ms/step - loss: 0.8146 - accuracy: 0.4730\n",
            "Epoch 85/100\n",
            "32/32 [==============================] - 0s 3ms/step - loss: 0.8126 - accuracy: 0.4720\n",
            "Epoch 86/100\n",
            "32/32 [==============================] - 0s 3ms/step - loss: 0.8107 - accuracy: 0.4720\n",
            "Epoch 87/100\n",
            "32/32 [==============================] - 0s 3ms/step - loss: 0.8088 - accuracy: 0.4720\n",
            "Epoch 88/100\n",
            "32/32 [==============================] - 0s 3ms/step - loss: 0.8069 - accuracy: 0.4730\n",
            "Epoch 89/100\n",
            "32/32 [==============================] - 0s 2ms/step - loss: 0.8051 - accuracy: 0.4740\n",
            "Epoch 90/100\n",
            "32/32 [==============================] - 0s 3ms/step - loss: 0.8032 - accuracy: 0.4740\n",
            "Epoch 91/100\n",
            "32/32 [==============================] - 0s 3ms/step - loss: 0.8014 - accuracy: 0.4740\n",
            "Epoch 92/100\n",
            "32/32 [==============================] - 0s 3ms/step - loss: 0.7996 - accuracy: 0.4740\n",
            "Epoch 93/100\n",
            "32/32 [==============================] - 0s 3ms/step - loss: 0.7978 - accuracy: 0.4740\n",
            "Epoch 94/100\n",
            "32/32 [==============================] - 0s 3ms/step - loss: 0.7962 - accuracy: 0.4740\n",
            "Epoch 95/100\n",
            "32/32 [==============================] - 0s 3ms/step - loss: 0.7944 - accuracy: 0.4740\n",
            "Epoch 96/100\n",
            "32/32 [==============================] - 0s 3ms/step - loss: 0.7927 - accuracy: 0.4740\n",
            "Epoch 97/100\n",
            "32/32 [==============================] - 0s 3ms/step - loss: 0.7911 - accuracy: 0.4740\n",
            "Epoch 98/100\n",
            "32/32 [==============================] - 0s 3ms/step - loss: 0.7895 - accuracy: 0.4740\n",
            "Epoch 99/100\n",
            "32/32 [==============================] - 0s 3ms/step - loss: 0.7878 - accuracy: 0.4750\n",
            "Epoch 100/100\n",
            "32/32 [==============================] - 0s 3ms/step - loss: 0.7861 - accuracy: 0.4750\n"
          ]
        }
      ]
    },
    {
      "cell_type": "code",
      "source": [
        "# Time to replicate the multi-layer neural network from Tensorflow playground\n",
        "# Set random seed\n",
        "tf.random.set_seed(42)\n",
        "\n",
        "# 1. Create the model\n",
        "model_6 = tf.keras.Sequential([\n",
        "    tf.keras.layers.Dense(4, activation=\"relu\"),\n",
        "    tf.keras.layers.Dense(4, activation=\"relu\"),\n",
        "    tf.keras.layers.Dense(1)\n",
        "])\n",
        "\n",
        "# 2. Compile the model\n",
        "model_6.compile(loss=\"binary_crossentropy\",\n",
        "                optimizer=tf.keras.optimizers.Adam(lr=0.001),\n",
        "                metrics=[\"accuracy\"])\n",
        "\n",
        "# 3. Fit the model\n",
        "history = model_6.fit(X, y, epochs=150)"
      ],
      "metadata": {
        "id": "zlFrbPLkYYFr",
        "colab": {
          "base_uri": "https://localhost:8080/"
        },
        "outputId": "575bf98c-9b60-4bd4-cee3-fd95717a6dac"
      },
      "execution_count": null,
      "outputs": [
        {
          "output_type": "stream",
          "name": "stdout",
          "text": [
            "Epoch 1/150\n",
            "32/32 [==============================] - 1s 3ms/step - loss: 7.7125 - accuracy: 0.5000\n",
            "Epoch 2/150\n",
            "32/32 [==============================] - 0s 3ms/step - loss: 7.7125 - accuracy: 0.5000\n",
            "Epoch 3/150\n",
            "32/32 [==============================] - 0s 3ms/step - loss: 7.7125 - accuracy: 0.5000\n",
            "Epoch 4/150\n",
            "32/32 [==============================] - 0s 3ms/step - loss: 7.7125 - accuracy: 0.5000\n",
            "Epoch 5/150\n",
            "32/32 [==============================] - 0s 3ms/step - loss: 7.7125 - accuracy: 0.5000\n",
            "Epoch 6/150\n",
            "32/32 [==============================] - 0s 3ms/step - loss: 7.7125 - accuracy: 0.5000\n",
            "Epoch 7/150\n",
            "32/32 [==============================] - 0s 3ms/step - loss: 7.7125 - accuracy: 0.5000\n",
            "Epoch 8/150\n",
            "32/32 [==============================] - 0s 3ms/step - loss: 7.7125 - accuracy: 0.5000\n",
            "Epoch 9/150\n",
            "32/32 [==============================] - 0s 3ms/step - loss: 7.7125 - accuracy: 0.5000\n",
            "Epoch 10/150\n",
            "32/32 [==============================] - 0s 3ms/step - loss: 7.7125 - accuracy: 0.5000\n",
            "Epoch 11/150\n",
            "32/32 [==============================] - 0s 3ms/step - loss: 7.7125 - accuracy: 0.5000\n",
            "Epoch 12/150\n",
            "32/32 [==============================] - 0s 3ms/step - loss: 7.7125 - accuracy: 0.5000\n",
            "Epoch 13/150\n",
            "32/32 [==============================] - 0s 3ms/step - loss: 7.7125 - accuracy: 0.5000\n",
            "Epoch 14/150\n",
            "32/32 [==============================] - 0s 3ms/step - loss: 7.7125 - accuracy: 0.5000\n",
            "Epoch 15/150\n",
            "32/32 [==============================] - 0s 3ms/step - loss: 7.7125 - accuracy: 0.5000\n",
            "Epoch 16/150\n",
            "32/32 [==============================] - 0s 3ms/step - loss: 7.7125 - accuracy: 0.5000\n",
            "Epoch 17/150\n",
            "32/32 [==============================] - 0s 3ms/step - loss: 7.7125 - accuracy: 0.5000\n",
            "Epoch 18/150\n",
            "32/32 [==============================] - 0s 3ms/step - loss: 7.7125 - accuracy: 0.5000\n",
            "Epoch 19/150\n",
            "32/32 [==============================] - 0s 3ms/step - loss: 7.7125 - accuracy: 0.5000\n",
            "Epoch 20/150\n",
            "32/32 [==============================] - 0s 3ms/step - loss: 7.7125 - accuracy: 0.5000\n",
            "Epoch 21/150\n",
            "32/32 [==============================] - 0s 3ms/step - loss: 7.7125 - accuracy: 0.5000\n",
            "Epoch 22/150\n",
            "32/32 [==============================] - 0s 3ms/step - loss: 7.7125 - accuracy: 0.5000\n",
            "Epoch 23/150\n",
            "32/32 [==============================] - 0s 3ms/step - loss: 7.7125 - accuracy: 0.5000\n",
            "Epoch 24/150\n",
            "32/32 [==============================] - 0s 3ms/step - loss: 7.7125 - accuracy: 0.5000\n",
            "Epoch 25/150\n",
            "32/32 [==============================] - 0s 3ms/step - loss: 7.7125 - accuracy: 0.5000\n",
            "Epoch 26/150\n",
            "32/32 [==============================] - 0s 3ms/step - loss: 7.7125 - accuracy: 0.5000\n",
            "Epoch 27/150\n",
            "32/32 [==============================] - 0s 3ms/step - loss: 7.7125 - accuracy: 0.5000\n",
            "Epoch 28/150\n",
            "32/32 [==============================] - 0s 3ms/step - loss: 7.7125 - accuracy: 0.5000\n",
            "Epoch 29/150\n",
            "32/32 [==============================] - 0s 3ms/step - loss: 7.7125 - accuracy: 0.5000\n",
            "Epoch 30/150\n",
            "32/32 [==============================] - 0s 3ms/step - loss: 7.7125 - accuracy: 0.5000\n",
            "Epoch 31/150\n",
            "32/32 [==============================] - 0s 3ms/step - loss: 7.7125 - accuracy: 0.5000\n",
            "Epoch 32/150\n",
            "32/32 [==============================] - 0s 3ms/step - loss: 7.7125 - accuracy: 0.5000\n",
            "Epoch 33/150\n",
            "32/32 [==============================] - 0s 3ms/step - loss: 7.7125 - accuracy: 0.5000\n",
            "Epoch 34/150\n",
            "32/32 [==============================] - 0s 3ms/step - loss: 7.7125 - accuracy: 0.5000\n",
            "Epoch 35/150\n",
            "32/32 [==============================] - 0s 3ms/step - loss: 7.7125 - accuracy: 0.5000\n",
            "Epoch 36/150\n",
            "32/32 [==============================] - 0s 3ms/step - loss: 7.7125 - accuracy: 0.5000\n",
            "Epoch 37/150\n",
            "32/32 [==============================] - 0s 3ms/step - loss: 7.7125 - accuracy: 0.5000\n",
            "Epoch 38/150\n",
            "32/32 [==============================] - 0s 3ms/step - loss: 7.7125 - accuracy: 0.5000\n",
            "Epoch 39/150\n",
            "32/32 [==============================] - 0s 3ms/step - loss: 7.7125 - accuracy: 0.5000\n",
            "Epoch 40/150\n",
            "32/32 [==============================] - 0s 3ms/step - loss: 7.7125 - accuracy: 0.5000\n",
            "Epoch 41/150\n",
            "32/32 [==============================] - 0s 3ms/step - loss: 7.7125 - accuracy: 0.5000\n",
            "Epoch 42/150\n",
            "32/32 [==============================] - 0s 3ms/step - loss: 7.7125 - accuracy: 0.5000\n",
            "Epoch 43/150\n",
            "32/32 [==============================] - 0s 3ms/step - loss: 7.7125 - accuracy: 0.5000\n",
            "Epoch 44/150\n",
            "32/32 [==============================] - 0s 3ms/step - loss: 7.7125 - accuracy: 0.5000\n",
            "Epoch 45/150\n",
            "32/32 [==============================] - 0s 3ms/step - loss: 7.7125 - accuracy: 0.5000\n",
            "Epoch 46/150\n",
            "32/32 [==============================] - 0s 3ms/step - loss: 7.7125 - accuracy: 0.5000\n",
            "Epoch 47/150\n",
            "32/32 [==============================] - 0s 3ms/step - loss: 7.7125 - accuracy: 0.5000\n",
            "Epoch 48/150\n",
            "32/32 [==============================] - 0s 3ms/step - loss: 7.7125 - accuracy: 0.5000\n",
            "Epoch 49/150\n",
            "32/32 [==============================] - 0s 3ms/step - loss: 7.7125 - accuracy: 0.5000\n",
            "Epoch 50/150\n",
            "32/32 [==============================] - 0s 3ms/step - loss: 7.7125 - accuracy: 0.5000\n",
            "Epoch 51/150\n",
            "32/32 [==============================] - 0s 3ms/step - loss: 7.7125 - accuracy: 0.5000\n",
            "Epoch 52/150\n",
            "32/32 [==============================] - 0s 3ms/step - loss: 7.7125 - accuracy: 0.5000\n",
            "Epoch 53/150\n",
            "32/32 [==============================] - 0s 3ms/step - loss: 7.7125 - accuracy: 0.5000\n",
            "Epoch 54/150\n",
            "32/32 [==============================] - 0s 3ms/step - loss: 7.7125 - accuracy: 0.5000\n",
            "Epoch 55/150\n",
            "32/32 [==============================] - 0s 3ms/step - loss: 7.7125 - accuracy: 0.5000\n",
            "Epoch 56/150\n",
            "32/32 [==============================] - 0s 3ms/step - loss: 7.7125 - accuracy: 0.5000\n",
            "Epoch 57/150\n",
            "32/32 [==============================] - 0s 3ms/step - loss: 7.7125 - accuracy: 0.5000\n",
            "Epoch 58/150\n",
            "32/32 [==============================] - 0s 3ms/step - loss: 7.7125 - accuracy: 0.5000\n",
            "Epoch 59/150\n",
            "32/32 [==============================] - 0s 3ms/step - loss: 7.7125 - accuracy: 0.5000\n",
            "Epoch 60/150\n",
            "32/32 [==============================] - 0s 3ms/step - loss: 7.7125 - accuracy: 0.5000\n",
            "Epoch 61/150\n",
            "32/32 [==============================] - 0s 3ms/step - loss: 7.7125 - accuracy: 0.5000\n",
            "Epoch 62/150\n",
            "32/32 [==============================] - 0s 3ms/step - loss: 7.7125 - accuracy: 0.5000\n",
            "Epoch 63/150\n",
            "32/32 [==============================] - 0s 3ms/step - loss: 7.7125 - accuracy: 0.5000\n",
            "Epoch 64/150\n",
            "32/32 [==============================] - 0s 3ms/step - loss: 7.7125 - accuracy: 0.5000\n",
            "Epoch 65/150\n",
            "32/32 [==============================] - 0s 3ms/step - loss: 7.7125 - accuracy: 0.5000\n",
            "Epoch 66/150\n",
            "32/32 [==============================] - 0s 3ms/step - loss: 7.7125 - accuracy: 0.5000\n",
            "Epoch 67/150\n",
            "32/32 [==============================] - 0s 3ms/step - loss: 7.7125 - accuracy: 0.5000\n",
            "Epoch 68/150\n",
            "32/32 [==============================] - 0s 3ms/step - loss: 7.7125 - accuracy: 0.5000\n",
            "Epoch 69/150\n",
            "32/32 [==============================] - 0s 3ms/step - loss: 7.7125 - accuracy: 0.5000\n",
            "Epoch 70/150\n",
            "32/32 [==============================] - 0s 3ms/step - loss: 7.7125 - accuracy: 0.5000\n",
            "Epoch 71/150\n",
            "32/32 [==============================] - 0s 3ms/step - loss: 7.7125 - accuracy: 0.5000\n",
            "Epoch 72/150\n",
            "32/32 [==============================] - 0s 3ms/step - loss: 7.7125 - accuracy: 0.5000\n",
            "Epoch 73/150\n",
            "32/32 [==============================] - 0s 3ms/step - loss: 7.7125 - accuracy: 0.5000\n",
            "Epoch 74/150\n",
            "32/32 [==============================] - 0s 3ms/step - loss: 7.7125 - accuracy: 0.5000\n",
            "Epoch 75/150\n",
            "32/32 [==============================] - 0s 3ms/step - loss: 7.7125 - accuracy: 0.5000\n",
            "Epoch 76/150\n",
            "32/32 [==============================] - 0s 3ms/step - loss: 7.7125 - accuracy: 0.5000\n",
            "Epoch 77/150\n",
            "32/32 [==============================] - 0s 3ms/step - loss: 7.7125 - accuracy: 0.5000\n",
            "Epoch 78/150\n",
            "32/32 [==============================] - 0s 3ms/step - loss: 7.7125 - accuracy: 0.5000\n",
            "Epoch 79/150\n",
            "32/32 [==============================] - 0s 3ms/step - loss: 7.7125 - accuracy: 0.5000\n",
            "Epoch 80/150\n",
            "32/32 [==============================] - 0s 3ms/step - loss: 7.7125 - accuracy: 0.5000\n",
            "Epoch 81/150\n",
            "32/32 [==============================] - 0s 3ms/step - loss: 7.7125 - accuracy: 0.5000\n",
            "Epoch 82/150\n",
            "32/32 [==============================] - 0s 3ms/step - loss: 7.7125 - accuracy: 0.5000\n",
            "Epoch 83/150\n",
            "32/32 [==============================] - 0s 3ms/step - loss: 7.7125 - accuracy: 0.5000\n",
            "Epoch 84/150\n",
            "32/32 [==============================] - 0s 3ms/step - loss: 7.7125 - accuracy: 0.5000\n",
            "Epoch 85/150\n",
            "32/32 [==============================] - 0s 3ms/step - loss: 7.7125 - accuracy: 0.5000\n",
            "Epoch 86/150\n",
            "32/32 [==============================] - 0s 3ms/step - loss: 7.7125 - accuracy: 0.5000\n",
            "Epoch 87/150\n",
            "32/32 [==============================] - 0s 3ms/step - loss: 7.7125 - accuracy: 0.5000\n",
            "Epoch 88/150\n",
            "32/32 [==============================] - 0s 3ms/step - loss: 7.7125 - accuracy: 0.5000\n",
            "Epoch 89/150\n",
            "32/32 [==============================] - 0s 3ms/step - loss: 7.7125 - accuracy: 0.5000\n",
            "Epoch 90/150\n",
            "32/32 [==============================] - 0s 3ms/step - loss: 7.7125 - accuracy: 0.5000\n",
            "Epoch 91/150\n",
            "32/32 [==============================] - 0s 3ms/step - loss: 7.7125 - accuracy: 0.5000\n",
            "Epoch 92/150\n",
            "32/32 [==============================] - 0s 3ms/step - loss: 7.7125 - accuracy: 0.5000\n",
            "Epoch 93/150\n",
            "32/32 [==============================] - 0s 3ms/step - loss: 7.7125 - accuracy: 0.5000\n",
            "Epoch 94/150\n",
            "32/32 [==============================] - 0s 3ms/step - loss: 7.7125 - accuracy: 0.5000\n",
            "Epoch 95/150\n",
            "32/32 [==============================] - 0s 3ms/step - loss: 7.7125 - accuracy: 0.5000\n",
            "Epoch 96/150\n",
            "32/32 [==============================] - 0s 3ms/step - loss: 7.7125 - accuracy: 0.5000\n",
            "Epoch 97/150\n",
            "32/32 [==============================] - 0s 3ms/step - loss: 7.7125 - accuracy: 0.5000\n",
            "Epoch 98/150\n",
            "32/32 [==============================] - 0s 3ms/step - loss: 7.7125 - accuracy: 0.5000\n",
            "Epoch 99/150\n",
            "32/32 [==============================] - 0s 3ms/step - loss: 7.7125 - accuracy: 0.5000\n",
            "Epoch 100/150\n",
            "32/32 [==============================] - 0s 3ms/step - loss: 7.7125 - accuracy: 0.5000\n",
            "Epoch 101/150\n",
            "32/32 [==============================] - 0s 3ms/step - loss: 7.7125 - accuracy: 0.5000\n",
            "Epoch 102/150\n",
            "32/32 [==============================] - 0s 3ms/step - loss: 7.7125 - accuracy: 0.5000\n",
            "Epoch 103/150\n",
            "32/32 [==============================] - 0s 3ms/step - loss: 7.7125 - accuracy: 0.5000\n",
            "Epoch 104/150\n",
            "32/32 [==============================] - 0s 3ms/step - loss: 7.7125 - accuracy: 0.5000\n",
            "Epoch 105/150\n",
            "32/32 [==============================] - 0s 3ms/step - loss: 7.7125 - accuracy: 0.5000\n",
            "Epoch 106/150\n",
            "32/32 [==============================] - 0s 4ms/step - loss: 7.7125 - accuracy: 0.5000\n",
            "Epoch 107/150\n",
            "32/32 [==============================] - 0s 4ms/step - loss: 7.7125 - accuracy: 0.5000\n",
            "Epoch 108/150\n",
            "32/32 [==============================] - 0s 6ms/step - loss: 7.7125 - accuracy: 0.5000\n",
            "Epoch 109/150\n",
            "32/32 [==============================] - 0s 4ms/step - loss: 7.7125 - accuracy: 0.5000\n",
            "Epoch 110/150\n",
            "32/32 [==============================] - 0s 4ms/step - loss: 7.7125 - accuracy: 0.5000\n",
            "Epoch 111/150\n",
            "32/32 [==============================] - 0s 4ms/step - loss: 7.7125 - accuracy: 0.5000\n",
            "Epoch 112/150\n",
            "32/32 [==============================] - 0s 5ms/step - loss: 7.7125 - accuracy: 0.5000\n",
            "Epoch 113/150\n",
            "32/32 [==============================] - 0s 5ms/step - loss: 7.7125 - accuracy: 0.5000\n",
            "Epoch 114/150\n",
            "32/32 [==============================] - 0s 5ms/step - loss: 7.7125 - accuracy: 0.5000\n",
            "Epoch 115/150\n",
            "32/32 [==============================] - 0s 7ms/step - loss: 7.7125 - accuracy: 0.5000\n",
            "Epoch 116/150\n",
            "32/32 [==============================] - 0s 6ms/step - loss: 7.7125 - accuracy: 0.5000\n",
            "Epoch 117/150\n",
            "32/32 [==============================] - 0s 6ms/step - loss: 7.7125 - accuracy: 0.5000\n",
            "Epoch 118/150\n",
            "32/32 [==============================] - 0s 5ms/step - loss: 7.7125 - accuracy: 0.5000\n",
            "Epoch 119/150\n",
            "32/32 [==============================] - 0s 4ms/step - loss: 7.7125 - accuracy: 0.5000\n",
            "Epoch 120/150\n",
            "32/32 [==============================] - 0s 5ms/step - loss: 7.7125 - accuracy: 0.5000\n",
            "Epoch 121/150\n",
            "32/32 [==============================] - 0s 6ms/step - loss: 7.7125 - accuracy: 0.5000\n",
            "Epoch 122/150\n",
            "32/32 [==============================] - 0s 8ms/step - loss: 7.7125 - accuracy: 0.5000\n",
            "Epoch 123/150\n",
            "32/32 [==============================] - 0s 4ms/step - loss: 7.7125 - accuracy: 0.5000\n",
            "Epoch 124/150\n",
            "32/32 [==============================] - 0s 6ms/step - loss: 7.7125 - accuracy: 0.5000\n",
            "Epoch 125/150\n",
            "32/32 [==============================] - 0s 4ms/step - loss: 7.7125 - accuracy: 0.5000\n",
            "Epoch 126/150\n",
            "32/32 [==============================] - 0s 3ms/step - loss: 7.7125 - accuracy: 0.5000\n",
            "Epoch 127/150\n",
            "32/32 [==============================] - 0s 3ms/step - loss: 7.7125 - accuracy: 0.5000\n",
            "Epoch 128/150\n",
            "32/32 [==============================] - 0s 3ms/step - loss: 7.7125 - accuracy: 0.5000\n",
            "Epoch 129/150\n",
            "32/32 [==============================] - 0s 3ms/step - loss: 7.7125 - accuracy: 0.5000\n",
            "Epoch 130/150\n",
            "32/32 [==============================] - 0s 3ms/step - loss: 7.7125 - accuracy: 0.5000\n",
            "Epoch 131/150\n",
            "32/32 [==============================] - 0s 3ms/step - loss: 7.7125 - accuracy: 0.5000\n",
            "Epoch 132/150\n",
            "32/32 [==============================] - 0s 3ms/step - loss: 7.7125 - accuracy: 0.5000\n",
            "Epoch 133/150\n",
            "32/32 [==============================] - 0s 3ms/step - loss: 7.7125 - accuracy: 0.5000\n",
            "Epoch 134/150\n",
            "32/32 [==============================] - 0s 3ms/step - loss: 7.7125 - accuracy: 0.5000\n",
            "Epoch 135/150\n",
            "32/32 [==============================] - 0s 3ms/step - loss: 7.7125 - accuracy: 0.5000\n",
            "Epoch 136/150\n",
            "32/32 [==============================] - 0s 3ms/step - loss: 7.7125 - accuracy: 0.5000\n",
            "Epoch 137/150\n",
            "32/32 [==============================] - 0s 3ms/step - loss: 7.7125 - accuracy: 0.5000\n",
            "Epoch 138/150\n",
            "32/32 [==============================] - 0s 3ms/step - loss: 7.7125 - accuracy: 0.5000\n",
            "Epoch 139/150\n",
            "32/32 [==============================] - 0s 3ms/step - loss: 7.7125 - accuracy: 0.5000\n",
            "Epoch 140/150\n",
            "32/32 [==============================] - 0s 3ms/step - loss: 7.7125 - accuracy: 0.5000\n",
            "Epoch 141/150\n",
            "32/32 [==============================] - 0s 3ms/step - loss: 7.7125 - accuracy: 0.5000\n",
            "Epoch 142/150\n",
            "32/32 [==============================] - 0s 3ms/step - loss: 7.7125 - accuracy: 0.5000\n",
            "Epoch 143/150\n",
            "32/32 [==============================] - 0s 3ms/step - loss: 7.7125 - accuracy: 0.5000\n",
            "Epoch 144/150\n",
            "32/32 [==============================] - 0s 3ms/step - loss: 7.7125 - accuracy: 0.5000\n",
            "Epoch 145/150\n",
            "32/32 [==============================] - 0s 3ms/step - loss: 7.7125 - accuracy: 0.5000\n",
            "Epoch 146/150\n",
            "32/32 [==============================] - 0s 3ms/step - loss: 7.7125 - accuracy: 0.5000\n",
            "Epoch 147/150\n",
            "32/32 [==============================] - 0s 3ms/step - loss: 7.7125 - accuracy: 0.5000\n",
            "Epoch 148/150\n",
            "32/32 [==============================] - 0s 3ms/step - loss: 7.7125 - accuracy: 0.5000\n",
            "Epoch 149/150\n",
            "32/32 [==============================] - 0s 3ms/step - loss: 7.7125 - accuracy: 0.5000\n",
            "Epoch 150/150\n",
            "32/32 [==============================] - 0s 3ms/step - loss: 7.7125 - accuracy: 0.5000\n"
          ]
        }
      ]
    },
    {
      "cell_type": "code",
      "source": [
        "# Evaluate the model\n",
        "model_6.evaluate(X, y)"
      ],
      "metadata": {
        "colab": {
          "base_uri": "https://localhost:8080/"
        },
        "id": "RwTqrDj27C0B",
        "outputId": "5d7f5c5c-466c-4c25-97c6-d73c1db399bd"
      },
      "execution_count": null,
      "outputs": [
        {
          "output_type": "stream",
          "name": "stdout",
          "text": [
            "32/32 [==============================] - 0s 3ms/step - loss: 7.7125 - accuracy: 0.5000\n"
          ]
        },
        {
          "output_type": "execute_result",
          "data": {
            "text/plain": [
              "[7.712474346160889, 0.5]"
            ]
          },
          "metadata": {},
          "execution_count": 36
        }
      ]
    },
    {
      "cell_type": "code",
      "source": [
        "# Set the random seed\n",
        "tf.random.set_seed(42)\n",
        "\n",
        "# 1. Create the model\n",
        "model_7 = tf.keras.Sequential([\n",
        "    tf.keras.layers.Dense(4, activation=\"relu\"),\n",
        "    tf.keras.layers.Dense(4, activation=\"relu\"),\n",
        "    tf.keras.layers.Dense(1, activation=\"sigmoid\")\n",
        "\n",
        "])\n",
        "\n",
        "\n",
        "# 2. Compile the model\n",
        "model_7.compile(loss=\"binary_crossentropy\",\n",
        "                optimizer=tf.keras.optimizers.Adam(lr=0.001),\n",
        "                metrics=[\"accuracy\"])\n",
        "\n",
        "# 3. Fit the model\n",
        "history = model_7.fit(X, y, epochs=100)"
      ],
      "metadata": {
        "id": "xQ54Pa3M7RkL",
        "colab": {
          "base_uri": "https://localhost:8080/"
        },
        "outputId": "d434bb97-6fff-4e69-c8bd-b58e23166b1f"
      },
      "execution_count": null,
      "outputs": [
        {
          "output_type": "stream",
          "name": "stdout",
          "text": [
            "Epoch 1/100\n",
            "32/32 [==============================] - 1s 3ms/step - loss: 0.6891 - accuracy: 0.5020\n",
            "Epoch 2/100\n",
            "32/32 [==============================] - 0s 3ms/step - loss: 0.6848 - accuracy: 0.5170\n",
            "Epoch 3/100\n",
            "32/32 [==============================] - 0s 3ms/step - loss: 0.6824 - accuracy: 0.5160\n",
            "Epoch 4/100\n",
            "32/32 [==============================] - 0s 3ms/step - loss: 0.6813 - accuracy: 0.5300\n",
            "Epoch 5/100\n",
            "32/32 [==============================] - 0s 3ms/step - loss: 0.6802 - accuracy: 0.5390\n",
            "Epoch 6/100\n",
            "32/32 [==============================] - 0s 3ms/step - loss: 0.6794 - accuracy: 0.5380\n",
            "Epoch 7/100\n",
            "32/32 [==============================] - 0s 3ms/step - loss: 0.6785 - accuracy: 0.5500\n",
            "Epoch 8/100\n",
            "32/32 [==============================] - 0s 3ms/step - loss: 0.6778 - accuracy: 0.5480\n",
            "Epoch 9/100\n",
            "32/32 [==============================] - 0s 3ms/step - loss: 0.6772 - accuracy: 0.5530\n",
            "Epoch 10/100\n",
            "32/32 [==============================] - 0s 3ms/step - loss: 0.6766 - accuracy: 0.5510\n",
            "Epoch 11/100\n",
            "32/32 [==============================] - 0s 3ms/step - loss: 0.6760 - accuracy: 0.5500\n",
            "Epoch 12/100\n",
            "32/32 [==============================] - 0s 3ms/step - loss: 0.6754 - accuracy: 0.5550\n",
            "Epoch 13/100\n",
            "32/32 [==============================] - 0s 3ms/step - loss: 0.6747 - accuracy: 0.5560\n",
            "Epoch 14/100\n",
            "32/32 [==============================] - 0s 3ms/step - loss: 0.6741 - accuracy: 0.5540\n",
            "Epoch 15/100\n",
            "32/32 [==============================] - 0s 3ms/step - loss: 0.6734 - accuracy: 0.5580\n",
            "Epoch 16/100\n",
            "32/32 [==============================] - 0s 3ms/step - loss: 0.6727 - accuracy: 0.5550\n",
            "Epoch 17/100\n",
            "32/32 [==============================] - 0s 3ms/step - loss: 0.6722 - accuracy: 0.5550\n",
            "Epoch 18/100\n",
            "32/32 [==============================] - 0s 3ms/step - loss: 0.6716 - accuracy: 0.5550\n",
            "Epoch 19/100\n",
            "32/32 [==============================] - 0s 3ms/step - loss: 0.6710 - accuracy: 0.5590\n",
            "Epoch 20/100\n",
            "32/32 [==============================] - 0s 3ms/step - loss: 0.6702 - accuracy: 0.5600\n",
            "Epoch 21/100\n",
            "32/32 [==============================] - 0s 3ms/step - loss: 0.6696 - accuracy: 0.5640\n",
            "Epoch 22/100\n",
            "32/32 [==============================] - 0s 3ms/step - loss: 0.6688 - accuracy: 0.5600\n",
            "Epoch 23/100\n",
            "32/32 [==============================] - 0s 3ms/step - loss: 0.6682 - accuracy: 0.5700\n",
            "Epoch 24/100\n",
            "32/32 [==============================] - 0s 3ms/step - loss: 0.6679 - accuracy: 0.5570\n",
            "Epoch 25/100\n",
            "32/32 [==============================] - 0s 3ms/step - loss: 0.6671 - accuracy: 0.5670\n",
            "Epoch 26/100\n",
            "32/32 [==============================] - 0s 3ms/step - loss: 0.6662 - accuracy: 0.5750\n",
            "Epoch 27/100\n",
            "32/32 [==============================] - 0s 3ms/step - loss: 0.6657 - accuracy: 0.5810\n",
            "Epoch 28/100\n",
            "32/32 [==============================] - 0s 3ms/step - loss: 0.6645 - accuracy: 0.5700\n",
            "Epoch 29/100\n",
            "32/32 [==============================] - 0s 3ms/step - loss: 0.6642 - accuracy: 0.5700\n",
            "Epoch 30/100\n",
            "32/32 [==============================] - 0s 3ms/step - loss: 0.6634 - accuracy: 0.5790\n",
            "Epoch 31/100\n",
            "32/32 [==============================] - 0s 3ms/step - loss: 0.6627 - accuracy: 0.5760\n",
            "Epoch 32/100\n",
            "32/32 [==============================] - 0s 3ms/step - loss: 0.6619 - accuracy: 0.5760\n",
            "Epoch 33/100\n",
            "32/32 [==============================] - 0s 3ms/step - loss: 0.6610 - accuracy: 0.5760\n",
            "Epoch 34/100\n",
            "32/32 [==============================] - 0s 3ms/step - loss: 0.6606 - accuracy: 0.5760\n",
            "Epoch 35/100\n",
            "32/32 [==============================] - 0s 3ms/step - loss: 0.6597 - accuracy: 0.5790\n",
            "Epoch 36/100\n",
            "32/32 [==============================] - 0s 3ms/step - loss: 0.6586 - accuracy: 0.5780\n",
            "Epoch 37/100\n",
            "32/32 [==============================] - 0s 3ms/step - loss: 0.6580 - accuracy: 0.5780\n",
            "Epoch 38/100\n",
            "32/32 [==============================] - 0s 3ms/step - loss: 0.6573 - accuracy: 0.5790\n",
            "Epoch 39/100\n",
            "32/32 [==============================] - 0s 3ms/step - loss: 0.6564 - accuracy: 0.5790\n",
            "Epoch 40/100\n",
            "32/32 [==============================] - 0s 3ms/step - loss: 0.6556 - accuracy: 0.5760\n",
            "Epoch 41/100\n",
            "32/32 [==============================] - 0s 3ms/step - loss: 0.6548 - accuracy: 0.5780\n",
            "Epoch 42/100\n",
            "32/32 [==============================] - 0s 3ms/step - loss: 0.6540 - accuracy: 0.5750\n",
            "Epoch 43/100\n",
            "32/32 [==============================] - 0s 3ms/step - loss: 0.6530 - accuracy: 0.5780\n",
            "Epoch 44/100\n",
            "32/32 [==============================] - 0s 3ms/step - loss: 0.6521 - accuracy: 0.5810\n",
            "Epoch 45/100\n",
            "32/32 [==============================] - 0s 3ms/step - loss: 0.6496 - accuracy: 0.5810\n",
            "Epoch 46/100\n",
            "32/32 [==============================] - 0s 3ms/step - loss: 0.6481 - accuracy: 0.5830\n",
            "Epoch 47/100\n",
            "32/32 [==============================] - 0s 3ms/step - loss: 0.6472 - accuracy: 0.5850\n",
            "Epoch 48/100\n",
            "32/32 [==============================] - 0s 3ms/step - loss: 0.6451 - accuracy: 0.5880\n",
            "Epoch 49/100\n",
            "32/32 [==============================] - 0s 3ms/step - loss: 0.6426 - accuracy: 0.5880\n",
            "Epoch 50/100\n",
            "32/32 [==============================] - 0s 3ms/step - loss: 0.6404 - accuracy: 0.5940\n",
            "Epoch 51/100\n",
            "32/32 [==============================] - 0s 3ms/step - loss: 0.6384 - accuracy: 0.6010\n",
            "Epoch 52/100\n",
            "32/32 [==============================] - 0s 3ms/step - loss: 0.6364 - accuracy: 0.6130\n",
            "Epoch 53/100\n",
            "32/32 [==============================] - 0s 3ms/step - loss: 0.6344 - accuracy: 0.6110\n",
            "Epoch 54/100\n",
            "32/32 [==============================] - 0s 3ms/step - loss: 0.6312 - accuracy: 0.6280\n",
            "Epoch 55/100\n",
            "32/32 [==============================] - 0s 3ms/step - loss: 0.6287 - accuracy: 0.6380\n",
            "Epoch 56/100\n",
            "32/32 [==============================] - 0s 3ms/step - loss: 0.6259 - accuracy: 0.6840\n",
            "Epoch 57/100\n",
            "32/32 [==============================] - 0s 3ms/step - loss: 0.6227 - accuracy: 0.6950\n",
            "Epoch 58/100\n",
            "32/32 [==============================] - 0s 3ms/step - loss: 0.6200 - accuracy: 0.6990\n",
            "Epoch 59/100\n",
            "32/32 [==============================] - 0s 3ms/step - loss: 0.6168 - accuracy: 0.6950\n",
            "Epoch 60/100\n",
            "32/32 [==============================] - 0s 3ms/step - loss: 0.6133 - accuracy: 0.7240\n",
            "Epoch 61/100\n",
            "32/32 [==============================] - 0s 3ms/step - loss: 0.6101 - accuracy: 0.7200\n",
            "Epoch 62/100\n",
            "32/32 [==============================] - 0s 3ms/step - loss: 0.6059 - accuracy: 0.7330\n",
            "Epoch 63/100\n",
            "32/32 [==============================] - 0s 3ms/step - loss: 0.6014 - accuracy: 0.7400\n",
            "Epoch 64/100\n",
            "32/32 [==============================] - 0s 3ms/step - loss: 0.5966 - accuracy: 0.7460\n",
            "Epoch 65/100\n",
            "32/32 [==============================] - 0s 3ms/step - loss: 0.5905 - accuracy: 0.7440\n",
            "Epoch 66/100\n",
            "32/32 [==============================] - 0s 3ms/step - loss: 0.5830 - accuracy: 0.7450\n",
            "Epoch 67/100\n",
            "32/32 [==============================] - 0s 3ms/step - loss: 0.5757 - accuracy: 0.7460\n",
            "Epoch 68/100\n",
            "32/32 [==============================] - 0s 3ms/step - loss: 0.5683 - accuracy: 0.7800\n",
            "Epoch 69/100\n",
            "32/32 [==============================] - 0s 3ms/step - loss: 0.5614 - accuracy: 0.8010\n",
            "Epoch 70/100\n",
            "32/32 [==============================] - 0s 3ms/step - loss: 0.5548 - accuracy: 0.8010\n",
            "Epoch 71/100\n",
            "32/32 [==============================] - 0s 3ms/step - loss: 0.5474 - accuracy: 0.8240\n",
            "Epoch 72/100\n",
            "32/32 [==============================] - 0s 3ms/step - loss: 0.5406 - accuracy: 0.8460\n",
            "Epoch 73/100\n",
            "32/32 [==============================] - 0s 3ms/step - loss: 0.5327 - accuracy: 0.8470\n",
            "Epoch 74/100\n",
            "32/32 [==============================] - 0s 3ms/step - loss: 0.5243 - accuracy: 0.8620\n",
            "Epoch 75/100\n",
            "32/32 [==============================] - 0s 3ms/step - loss: 0.5148 - accuracy: 0.8870\n",
            "Epoch 76/100\n",
            "32/32 [==============================] - 0s 3ms/step - loss: 0.5042 - accuracy: 0.8820\n",
            "Epoch 77/100\n",
            "32/32 [==============================] - 0s 3ms/step - loss: 0.4927 - accuracy: 0.9300\n",
            "Epoch 78/100\n",
            "32/32 [==============================] - 0s 3ms/step - loss: 0.4824 - accuracy: 0.9090\n",
            "Epoch 79/100\n",
            "32/32 [==============================] - 0s 3ms/step - loss: 0.4733 - accuracy: 0.9460\n",
            "Epoch 80/100\n",
            "32/32 [==============================] - 0s 3ms/step - loss: 0.4632 - accuracy: 0.9600\n",
            "Epoch 81/100\n",
            "32/32 [==============================] - 0s 3ms/step - loss: 0.4546 - accuracy: 0.9600\n",
            "Epoch 82/100\n",
            "32/32 [==============================] - 0s 3ms/step - loss: 0.4456 - accuracy: 0.9580\n",
            "Epoch 83/100\n",
            "32/32 [==============================] - 0s 4ms/step - loss: 0.4360 - accuracy: 0.9630\n",
            "Epoch 84/100\n",
            "32/32 [==============================] - 0s 4ms/step - loss: 0.4260 - accuracy: 0.9690\n",
            "Epoch 85/100\n",
            "32/32 [==============================] - 0s 5ms/step - loss: 0.4145 - accuracy: 0.9700\n",
            "Epoch 86/100\n",
            "32/32 [==============================] - 0s 5ms/step - loss: 0.4059 - accuracy: 0.9740\n",
            "Epoch 87/100\n",
            "32/32 [==============================] - 0s 6ms/step - loss: 0.3962 - accuracy: 0.9750\n",
            "Epoch 88/100\n",
            "32/32 [==============================] - 0s 6ms/step - loss: 0.3873 - accuracy: 0.9720\n",
            "Epoch 89/100\n",
            "32/32 [==============================] - 0s 6ms/step - loss: 0.3795 - accuracy: 0.9750\n",
            "Epoch 90/100\n",
            "32/32 [==============================] - 0s 5ms/step - loss: 0.3716 - accuracy: 0.9750\n",
            "Epoch 91/100\n",
            "32/32 [==============================] - 0s 5ms/step - loss: 0.3635 - accuracy: 0.9840\n",
            "Epoch 92/100\n",
            "32/32 [==============================] - 0s 5ms/step - loss: 0.3554 - accuracy: 0.9830\n",
            "Epoch 93/100\n",
            "32/32 [==============================] - 0s 5ms/step - loss: 0.3482 - accuracy: 0.9800\n",
            "Epoch 94/100\n",
            "32/32 [==============================] - 0s 5ms/step - loss: 0.3404 - accuracy: 0.9820\n",
            "Epoch 95/100\n",
            "32/32 [==============================] - 0s 6ms/step - loss: 0.3329 - accuracy: 0.9880\n",
            "Epoch 96/100\n",
            "32/32 [==============================] - 0s 7ms/step - loss: 0.3268 - accuracy: 0.9870\n",
            "Epoch 97/100\n",
            "32/32 [==============================] - 0s 7ms/step - loss: 0.3190 - accuracy: 0.9870\n",
            "Epoch 98/100\n",
            "32/32 [==============================] - 0s 8ms/step - loss: 0.3122 - accuracy: 0.9890\n",
            "Epoch 99/100\n",
            "32/32 [==============================] - 0s 8ms/step - loss: 0.3059 - accuracy: 0.9880\n",
            "Epoch 100/100\n",
            "32/32 [==============================] - 0s 4ms/step - loss: 0.2993 - accuracy: 0.9890\n"
          ]
        }
      ]
    },
    {
      "cell_type": "code",
      "source": [
        "# 4. Evaluate the model\n",
        "model_7.evaluate(X, y)"
      ],
      "metadata": {
        "colab": {
          "base_uri": "https://localhost:8080/"
        },
        "id": "iSg6BqfYXpSv",
        "outputId": "b1589d0a-0a56-4e25-a347-c34c2891dc6a"
      },
      "execution_count": null,
      "outputs": [
        {
          "output_type": "stream",
          "name": "stdout",
          "text": [
            "32/32 [==============================] - 0s 2ms/step - loss: 0.2948 - accuracy: 0.9910\n"
          ]
        },
        {
          "output_type": "execute_result",
          "data": {
            "text/plain": [
              "[0.29480040073394775, 0.9909999966621399]"
            ]
          },
          "metadata": {},
          "execution_count": 38
        }
      ]
    },
    {
      "cell_type": "markdown",
      "source": [
        "**Question** What's wrong with the predctions we've made? Are we really evaluating our mkodel correctly?\n",
        "what data did our model learn on and what data did we predict on?\n",
        "\n",
        "**Note** The combination of **linear (straight lines) and non-linear (non-striaght lines) function** is one of the key fundementals of neural networks.\n"
      ],
      "metadata": {
        "id": "QYiTsi6yYRKO"
      }
    },
    {
      "cell_type": "code",
      "source": [
        "import tensorflow as tf\n",
        "# Create a toy tensor (similar to the data we pass into our models)\n",
        "A = tf.cast(tf.range(-10, 10), tf.float32)\n",
        "A"
      ],
      "metadata": {
        "colab": {
          "base_uri": "https://localhost:8080/"
        },
        "id": "eLnpsDoYZNG3",
        "outputId": "69972bdd-81d6-4a49-a4f4-47587b09eb7e"
      },
      "execution_count": null,
      "outputs": [
        {
          "output_type": "execute_result",
          "data": {
            "text/plain": [
              "<tf.Tensor: shape=(20,), dtype=float32, numpy=\n",
              "array([-10.,  -9.,  -8.,  -7.,  -6.,  -5.,  -4.,  -3.,  -2.,  -1.,   0.,\n",
              "         1.,   2.,   3.,   4.,   5.,   6.,   7.,   8.,   9.],\n",
              "      dtype=float32)>"
            ]
          },
          "metadata": {},
          "execution_count": 39
        }
      ]
    },
    {
      "cell_type": "code",
      "source": [
        "import matplotlib.pyplot as plt\n",
        "# Visualize our toy tensor\n",
        "plt.plot(A);"
      ],
      "metadata": {
        "colab": {
          "base_uri": "https://localhost:8080/",
          "height": 265
        },
        "id": "xT1l4Q8U6TO8",
        "outputId": "1c4f1213-75e1-4744-e430-e91fe2345024"
      },
      "execution_count": null,
      "outputs": [
        {
          "output_type": "display_data",
          "data": {
            "text/plain": [
              "<Figure size 432x288 with 1 Axes>"
            ],
            "image/png": "[encoded data removed]"
          },
          "metadata": {
            "needs_background": "light"
          }
        }
      ]
    },
    {
      "cell_type": "code",
      "source": [
        "# Let's start by replicating sigmoid - sigmoid(x) = 1 / (1 + exp(-x))\n",
        "\n",
        "def sigmoid(x):\n",
        "  return 1 / (1 + tf.exp(-x))\n",
        "\n",
        "# Use the sigmoid function on our toy tensor\n",
        "sigmoid(A)"
      ],
      "metadata": {
        "colab": {
          "base_uri": "https://localhost:8080/"
        },
        "id": "hfzyVTZy8Rrp",
        "outputId": "c8a41e2c-33fb-4ec1-905a-699caca8446c"
      },
      "execution_count": null,
      "outputs": [
        {
          "output_type": "execute_result",
          "data": {
            "text/plain": [
              "<tf.Tensor: shape=(20,), dtype=float32, numpy=\n",
              "array([4.5397868e-05, 1.2339458e-04, 3.3535014e-04, 9.1105117e-04,\n",
              "       2.4726230e-03, 6.6928510e-03, 1.7986210e-02, 4.7425874e-02,\n",
              "       1.1920292e-01, 2.6894143e-01, 5.0000000e-01, 7.3105854e-01,\n",
              "       8.8079703e-01, 9.5257413e-01, 9.8201376e-01, 9.9330717e-01,\n",
              "       9.9752742e-01, 9.9908900e-01, 9.9966466e-01, 9.9987662e-01],\n",
              "      dtype=float32)>"
            ]
          },
          "metadata": {},
          "execution_count": 41
        }
      ]
    },
    {
      "cell_type": "code",
      "source": [
        "# Plot our toy tensor transformed by sigmoid\n",
        "plt.plot(sigmoid(A))"
      ],
      "metadata": {
        "colab": {
          "base_uri": "https://localhost:8080/",
          "height": 283
        },
        "id": "hVGHBGHWD0Cj",
        "outputId": "da81dae3-0719-4749-efcb-17460d460c78"
      },
      "execution_count": null,
      "outputs": [
        {
          "output_type": "execute_result",
          "data": {
            "text/plain": [
              "[<matplotlib.lines.Line2D at 0x7f05359f4390>]"
            ]
          },
          "metadata": {},
          "execution_count": 42
        },
        {
          "output_type": "display_data",
          "data": {
            "text/plain": [
              "<Figure size 432x288 with 1 Axes>"
            ],
            "image/png": "[encoded data removed]"
          },
          "metadata": {
            "needs_background": "light"
          }
        }
      ]
    },
    {
      "cell_type": "code",
      "source": [
        "# Let's recreate the relu function\n",
        "def relu(x):\n",
        "  return tf.maximum(0, x)\n",
        "# Pass our toy tensor to our custom relu function\n",
        "relu(A)"
      ],
      "metadata": {
        "colab": {
          "base_uri": "https://localhost:8080/"
        },
        "id": "0Q87G-eUD8wO",
        "outputId": "ac6b82aa-2513-426e-b504-addae07f4859"
      },
      "execution_count": null,
      "outputs": [
        {
          "output_type": "execute_result",
          "data": {
            "text/plain": [
              "<tf.Tensor: shape=(20,), dtype=float32, numpy=\n",
              "array([0., 0., 0., 0., 0., 0., 0., 0., 0., 0., 0., 1., 2., 3., 4., 5., 6.,\n",
              "       7., 8., 9.], dtype=float32)>"
            ]
          },
          "metadata": {},
          "execution_count": 43
        }
      ]
    },
    {
      "cell_type": "code",
      "source": [
        "A"
      ],
      "metadata": {
        "colab": {
          "base_uri": "https://localhost:8080/"
        },
        "id": "vORgtQvxFAfU",
        "outputId": "567913c8-f1dc-4146-adbe-4863d443ca7d"
      },
      "execution_count": null,
      "outputs": [
        {
          "output_type": "execute_result",
          "data": {
            "text/plain": [
              "<tf.Tensor: shape=(20,), dtype=float32, numpy=\n",
              "array([-10.,  -9.,  -8.,  -7.,  -6.,  -5.,  -4.,  -3.,  -2.,  -1.,   0.,\n",
              "         1.,   2.,   3.,   4.,   5.,   6.,   7.,   8.,   9.],\n",
              "      dtype=float32)>"
            ]
          },
          "metadata": {},
          "execution_count": 44
        }
      ]
    },
    {
      "cell_type": "code",
      "source": [
        "# Plot relu modified tensor\n",
        "plt.plot(relu(A))"
      ],
      "metadata": {
        "colab": {
          "base_uri": "https://localhost:8080/",
          "height": 283
        },
        "id": "kbXz2BQ4FB6B",
        "outputId": "77bd9e78-f821-43f4-bb27-83f020566c03"
      },
      "execution_count": null,
      "outputs": [
        {
          "output_type": "execute_result",
          "data": {
            "text/plain": [
              "[<matplotlib.lines.Line2D at 0x7f0535901b10>]"
            ]
          },
          "metadata": {},
          "execution_count": 45
        },
        {
          "output_type": "display_data",
          "data": {
            "text/plain": [
              "<Figure size 432x288 with 1 Axes>"
            ],
            "image/png": "[encoded data removed]"
          },
          "metadata": {
            "needs_background": "light"
          }
        }
      ]
    },
    {
      "cell_type": "code",
      "source": [
        "plt.plot(A)"
      ],
      "metadata": {
        "colab": {
          "base_uri": "https://localhost:8080/",
          "height": 283
        },
        "id": "6rXJqodXFThR",
        "outputId": "4742423d-b115-4bb1-c41b-251c9d5728c9"
      },
      "execution_count": null,
      "outputs": [
        {
          "output_type": "execute_result",
          "data": {
            "text/plain": [
              "[<matplotlib.lines.Line2D at 0x7f05358f5450>]"
            ]
          },
          "metadata": {},
          "execution_count": 46
        },
        {
          "output_type": "display_data",
          "data": {
            "text/plain": [
              "<Figure size 432x288 with 1 Axes>"
            ],
            "image/png": "[encoded data removed]"
          },
          "metadata": {
            "needs_background": "light"
          }
        }
      ]
    },
    {
      "cell_type": "code",
      "source": [
        "# Let's try the linear activation function\n",
        "tf.keras.activations.linear(A)"
      ],
      "metadata": {
        "colab": {
          "base_uri": "https://localhost:8080/"
        },
        "id": "Jwx0SupRFXpr",
        "outputId": "0368a8b2-655c-4839-92ff-0fb2aea89b0d"
      },
      "execution_count": null,
      "outputs": [
        {
          "output_type": "execute_result",
          "data": {
            "text/plain": [
              "<tf.Tensor: shape=(20,), dtype=float32, numpy=\n",
              "array([-10.,  -9.,  -8.,  -7.,  -6.,  -5.,  -4.,  -3.,  -2.,  -1.,   0.,\n",
              "         1.,   2.,   3.,   4.,   5.,   6.,   7.,   8.,   9.],\n",
              "      dtype=float32)>"
            ]
          },
          "metadata": {},
          "execution_count": 47
        }
      ]
    },
    {
      "cell_type": "code",
      "source": [
        "# Does the linear activation function change anything?\n",
        "plt.plot(tf.keras.activations.linear(A))"
      ],
      "metadata": {
        "colab": {
          "base_uri": "https://localhost:8080/",
          "height": 283
        },
        "id": "f8JbqHpkF0G0",
        "outputId": "0b1b7552-ae58-4d51-a617-9b16fc8f5c47"
      },
      "execution_count": null,
      "outputs": [
        {
          "output_type": "execute_result",
          "data": {
            "text/plain": [
              "[<matplotlib.lines.Line2D at 0x7f0535871510>]"
            ]
          },
          "metadata": {},
          "execution_count": 48
        },
        {
          "output_type": "display_data",
          "data": {
            "text/plain": [
              "<Figure size 432x288 with 1 Axes>"
            ],
            "image/png": "[encoded data removed]"
          },
          "metadata": {
            "needs_background": "light"
          }
        }
      ]
    },
    {
      "cell_type": "code",
      "source": [
        "# does  A even change?\n",
        "A == tf.keras.activations.linear(A)"
      ],
      "metadata": {
        "colab": {
          "base_uri": "https://localhost:8080/"
        },
        "id": "EZKyLxtdGCDl",
        "outputId": "a97c31cd-7a7b-43ef-acb2-0317e51491f6"
      },
      "execution_count": null,
      "outputs": [
        {
          "output_type": "execute_result",
          "data": {
            "text/plain": [
              "<tf.Tensor: shape=(20,), dtype=bool, numpy=\n",
              "array([ True,  True,  True,  True,  True,  True,  True,  True,  True,\n",
              "        True,  True,  True,  True,  True,  True,  True,  True,  True,\n",
              "        True,  True])>"
            ]
          },
          "metadata": {},
          "execution_count": 49
        }
      ]
    },
    {
      "cell_type": "markdown",
      "source": [
        "## Evaluating and improving our classification\n",
        "\n",
        "So far we've been training and testing on the same dataset...\n",
        "\n",
        "it's wrong\n",
        "\n",
        "so let's create a training and test set\n"
      ],
      "metadata": {
        "id": "Vnhxy32AGNwu"
      }
    },
    {
      "cell_type": "code",
      "source": [
        "# Check how many examples we have\n",
        "len(X)"
      ],
      "metadata": {
        "colab": {
          "base_uri": "https://localhost:8080/"
        },
        "id": "J2bgWh-ODTtn",
        "outputId": "55febee1-5da7-44bb-d398-c4066870a614"
      },
      "execution_count": null,
      "outputs": [
        {
          "output_type": "execute_result",
          "data": {
            "text/plain": [
              "1000"
            ]
          },
          "metadata": {},
          "execution_count": 50
        }
      ]
    },
    {
      "cell_type": "code",
      "source": [
        "X, y"
      ],
      "metadata": {
        "colab": {
          "base_uri": "https://localhost:8080/"
        },
        "id": "pqlxYZeQEYuC",
        "outputId": "466b6393-23c6-46dc-e62b-9f1ad98927c5"
      },
      "execution_count": null,
      "outputs": [
        {
          "output_type": "execute_result",
          "data": {
            "text/plain": [
              "(array([[ 0.75424625,  0.23148074],\n",
              "        [-0.75615888,  0.15325888],\n",
              "        [-0.81539193,  0.17328203],\n",
              "        ...,\n",
              "        [-0.13690036, -0.81001183],\n",
              "        [ 0.67036156, -0.76750154],\n",
              "        [ 0.28105665,  0.96382443]]),\n",
              " array([1, 1, 1, 1, 0, 1, 1, 1, 1, 0, 1, 0, 1, 1, 1, 1, 0, 1, 1, 0, 1, 0,\n",
              "        0, 1, 0, 0, 0, 1, 1, 1, 0, 0, 1, 0, 0, 0, 1, 1, 1, 0, 0, 0, 0, 1,\n",
              "        0, 0, 1, 1, 0, 1, 1, 1, 0, 1, 0, 0, 1, 0, 0, 1, 0, 0, 1, 0, 1, 1,\n",
              "        1, 1, 0, 1, 0, 0, 1, 1, 0, 0, 1, 0, 1, 0, 1, 0, 0, 0, 0, 1, 1, 1,\n",
              "        1, 0, 0, 0, 1, 0, 1, 0, 1, 0, 0, 1, 1, 0, 1, 0, 1, 1, 1, 1, 0, 1,\n",
              "        1, 1, 1, 1, 0, 0, 0, 1, 1, 0, 1, 0, 1, 0, 0, 1, 1, 0, 1, 1, 1, 1,\n",
              "        0, 1, 1, 0, 0, 0, 0, 0, 0, 0, 1, 0, 1, 1, 1, 0, 1, 0, 1, 0, 1, 0,\n",
              "        1, 0, 0, 1, 0, 1, 1, 1, 1, 1, 1, 1, 0, 1, 0, 0, 0, 0, 0, 1, 0, 0,\n",
              "        0, 0, 1, 1, 0, 1, 0, 1, 1, 0, 0, 0, 1, 1, 1, 1, 1, 0, 0, 0, 0, 0,\n",
              "        1, 0, 0, 1, 1, 1, 1, 1, 0, 1, 0, 1, 0, 0, 1, 1, 1, 0, 1, 0, 1, 1,\n",
              "        0, 1, 1, 0, 1, 0, 1, 0, 1, 1, 0, 1, 0, 1, 0, 0, 0, 1, 0, 0, 0, 0,\n",
              "        1, 1, 0, 0, 0, 0, 0, 0, 0, 1, 1, 1, 0, 0, 1, 1, 1, 0, 1, 0, 0, 0,\n",
              "        0, 1, 1, 0, 1, 0, 0, 0, 1, 0, 1, 0, 0, 1, 0, 1, 1, 1, 0, 0, 0, 1,\n",
              "        0, 0, 0, 1, 1, 1, 1, 0, 0, 0, 1, 0, 0, 0, 1, 0, 0, 0, 1, 1, 0, 1,\n",
              "        1, 1, 1, 1, 1, 1, 0, 0, 0, 0, 1, 0, 0, 0, 0, 1, 1, 1, 0, 0, 1, 0,\n",
              "        1, 0, 1, 1, 0, 0, 1, 1, 1, 1, 0, 0, 0, 0, 0, 0, 1, 1, 0, 1, 0, 0,\n",
              "        1, 0, 0, 0, 0, 0, 0, 0, 0, 1, 0, 0, 0, 0, 1, 0, 0, 1, 0, 1, 0, 0,\n",
              "        0, 1, 0, 0, 1, 1, 0, 0, 1, 0, 0, 1, 1, 0, 1, 1, 0, 0, 1, 0, 1, 0,\n",
              "        0, 0, 1, 1, 0, 0, 1, 1, 1, 1, 1, 0, 0, 1, 1, 1, 1, 0, 1, 1, 1, 1,\n",
              "        1, 0, 0, 1, 0, 1, 0, 0, 0, 0, 1, 0, 0, 0, 0, 0, 0, 0, 0, 0, 1, 1,\n",
              "        0, 1, 1, 1, 1, 1, 1, 0, 1, 1, 1, 1, 0, 0, 0, 1, 1, 1, 0, 0, 0, 0,\n",
              "        1, 1, 0, 0, 0, 0, 1, 0, 0, 0, 1, 0, 0, 1, 1, 1, 1, 1, 1, 0, 0, 0,\n",
              "        1, 0, 0, 0, 0, 0, 1, 1, 1, 0, 0, 0, 0, 0, 1, 1, 1, 0, 0, 1, 1, 1,\n",
              "        1, 0, 1, 1, 0, 1, 0, 0, 0, 1, 0, 0, 1, 0, 0, 1, 1, 0, 0, 1, 1, 0,\n",
              "        1, 0, 1, 0, 1, 0, 1, 0, 0, 0, 1, 0, 0, 0, 0, 0, 0, 1, 1, 1, 1, 0,\n",
              "        0, 0, 1, 0, 1, 1, 0, 0, 0, 0, 0, 1, 1, 1, 0, 0, 1, 0, 0, 1, 0, 0,\n",
              "        1, 0, 0, 1, 0, 0, 0, 1, 0, 0, 1, 1, 1, 0, 1, 1, 0, 0, 0, 1, 1, 1,\n",
              "        1, 0, 0, 1, 1, 1, 0, 0, 0, 0, 1, 1, 0, 0, 1, 1, 0, 0, 1, 1, 1, 1,\n",
              "        1, 1, 1, 0, 1, 0, 1, 0, 0, 1, 0, 1, 1, 1, 1, 0, 0, 1, 1, 0, 0, 1,\n",
              "        0, 1, 0, 0, 0, 1, 0, 0, 1, 1, 1, 1, 0, 1, 1, 1, 1, 1, 1, 1, 0, 1,\n",
              "        0, 1, 1, 1, 0, 0, 1, 0, 0, 0, 1, 1, 1, 1, 0, 0, 0, 0, 1, 0, 1, 1,\n",
              "        1, 0, 1, 0, 0, 1, 0, 0, 1, 1, 1, 1, 1, 0, 1, 0, 0, 0, 1, 1, 1, 1,\n",
              "        1, 0, 0, 0, 1, 1, 1, 1, 0, 0, 0, 0, 0, 1, 1, 0, 1, 0, 1, 0, 0, 0,\n",
              "        0, 0, 0, 0, 0, 0, 1, 1, 1, 1, 1, 0, 1, 0, 1, 1, 1, 1, 0, 1, 1, 1,\n",
              "        1, 1, 1, 1, 1, 0, 1, 1, 0, 1, 0, 0, 0, 1, 0, 1, 1, 1, 0, 1, 1, 0,\n",
              "        1, 1, 0, 1, 0, 1, 1, 0, 0, 1, 1, 1, 0, 0, 0, 0, 1, 1, 0, 0, 1, 1,\n",
              "        1, 1, 1, 1, 1, 1, 1, 1, 1, 1, 1, 1, 0, 0, 1, 0, 1, 0, 1, 0, 1, 1,\n",
              "        1, 1, 1, 1, 0, 1, 0, 1, 1, 1, 0, 1, 1, 0, 0, 1, 0, 1, 1, 0, 0, 1,\n",
              "        1, 1, 1, 1, 1, 1, 1, 0, 1, 1, 1, 0, 1, 0, 0, 1, 1, 0, 0, 0, 1, 0,\n",
              "        0, 1, 0, 0, 0, 1, 0, 1, 0, 0, 0, 0, 1, 0, 1, 1, 1, 1, 0, 1, 0, 0,\n",
              "        0, 0, 0, 0, 1, 0, 1, 0, 1, 0, 1, 1, 1, 0, 1, 0, 1, 0, 0, 1, 1, 1,\n",
              "        0, 0, 0, 1, 1, 0, 1, 0, 1, 1, 0, 1, 0, 0, 1, 1, 1, 0, 0, 0, 1, 1,\n",
              "        0, 0, 0, 0, 0, 1, 1, 0, 1, 0, 0, 0, 1, 0, 0, 0, 1, 1, 1, 1, 0, 1,\n",
              "        1, 1, 0, 1, 1, 1, 1, 0, 1, 1, 0, 1, 1, 0, 0, 1, 1, 1, 0, 0, 0, 0,\n",
              "        0, 0, 1, 0, 0, 1, 0, 0, 0, 1, 0, 1, 0, 1, 1, 0, 0, 0, 0, 0, 0, 0,\n",
              "        0, 1, 0, 1, 0, 0, 0, 1, 0, 0]))"
            ]
          },
          "metadata": {},
          "execution_count": 51
        }
      ]
    },
    {
      "cell_type": "code",
      "source": [
        "# Split into train and tests sets\n",
        "X_train, y_train = X[:800], y[:800]\n",
        "\n",
        "X_test, y_test = X[800:], y[800:]\n",
        "\n",
        "X_train.shape, X_test.shape, y_train.shape, y_test.shape"
      ],
      "metadata": {
        "colab": {
          "base_uri": "https://localhost:8080/"
        },
        "id": "HzX8SNMhFOmi",
        "outputId": "f755d597-79fd-42ec-fc05-43a0476c8d49"
      },
      "execution_count": null,
      "outputs": [
        {
          "output_type": "execute_result",
          "data": {
            "text/plain": [
              "((800, 2), (200, 2), (800,), (200,))"
            ]
          },
          "metadata": {},
          "execution_count": 52
        }
      ]
    },
    {
      "cell_type": "code",
      "source": [
        "# Let's recreate a model to fit on the training data and evaluate on the testing data\n",
        "\n",
        "# Set random seed\n",
        "tf.random.set_seed(42)\n",
        "\n",
        "# 1. Create the model (same as model_7)\n",
        "model_8 = tf.keras.Sequential([\n",
        "    tf.keras.layers.Dense(4, activation=\"relu\"),\n",
        "    tf.keras.layers.Dense(4, activation=\"relu\"),\n",
        "    tf.keras.layers.Dense(1, activation=\"sigmoid\")\n",
        "])\n",
        "\n",
        "# 2. Compile the model\n",
        "model_8.compile(loss=\"binary_crossentropy\",\n",
        "                optimizer=tf.keras.optimizers.Adam(lr=0.01),\n",
        "                metrics=[\"accuracy\"])\n",
        "\n",
        "# Fit the model\n",
        "history = model_8.fit(X_train, y_train, epochs=25)"
      ],
      "metadata": {
        "colab": {
          "base_uri": "https://localhost:8080/"
        },
        "id": "0bS9rezmJR34",
        "outputId": "98c8bbdc-c156-41d5-90e3-c1a416d75b64"
      },
      "execution_count": null,
      "outputs": [
        {
          "output_type": "stream",
          "name": "stdout",
          "text": [
            "Epoch 1/25\n"
          ]
        },
        {
          "output_type": "stream",
          "name": "stderr",
          "text": [
            "/usr/local/lib/python3.7/dist-packages/keras/optimizer_v2/adam.py:105: UserWarning: The `lr` argument is deprecated, use `learning_rate` instead.\n",
            "  super(Adam, self).__init__(name, **kwargs)\n"
          ]
        },
        {
          "output_type": "stream",
          "name": "stdout",
          "text": [
            "25/25 [==============================] - 0s 3ms/step - loss: 0.6847 - accuracy: 0.5425\n",
            "Epoch 2/25\n",
            "25/25 [==============================] - 0s 2ms/step - loss: 0.6777 - accuracy: 0.5525\n",
            "Epoch 3/25\n",
            "25/25 [==============================] - 0s 3ms/step - loss: 0.6736 - accuracy: 0.5512\n",
            "Epoch 4/25\n",
            "25/25 [==============================] - 0s 3ms/step - loss: 0.6681 - accuracy: 0.5775\n",
            "Epoch 5/25\n",
            "25/25 [==============================] - 0s 3ms/step - loss: 0.6633 - accuracy: 0.5850\n",
            "Epoch 6/25\n",
            "25/25 [==============================] - 0s 2ms/step - loss: 0.6546 - accuracy: 0.5838\n",
            "Epoch 7/25\n",
            "25/25 [==============================] - 0s 2ms/step - loss: 0.6413 - accuracy: 0.6750\n",
            "Epoch 8/25\n",
            "25/25 [==============================] - 0s 3ms/step - loss: 0.6264 - accuracy: 0.7013\n",
            "Epoch 9/25\n",
            "25/25 [==============================] - 0s 3ms/step - loss: 0.6038 - accuracy: 0.7487\n",
            "Epoch 10/25\n",
            "25/25 [==============================] - 0s 2ms/step - loss: 0.5714 - accuracy: 0.7738\n",
            "Epoch 11/25\n",
            "25/25 [==============================] - 0s 2ms/step - loss: 0.5404 - accuracy: 0.7650\n",
            "Epoch 12/25\n",
            "25/25 [==============================] - 0s 2ms/step - loss: 0.5015 - accuracy: 0.7837\n",
            "Epoch 13/25\n",
            "25/25 [==============================] - 0s 2ms/step - loss: 0.4683 - accuracy: 0.7975\n",
            "Epoch 14/25\n",
            "25/25 [==============================] - 0s 3ms/step - loss: 0.4113 - accuracy: 0.8450\n",
            "Epoch 15/25\n",
            "25/25 [==============================] - 0s 3ms/step - loss: 0.3625 - accuracy: 0.9125\n",
            "Epoch 16/25\n",
            "25/25 [==============================] - 0s 2ms/step - loss: 0.3209 - accuracy: 0.9312\n",
            "Epoch 17/25\n",
            "25/25 [==============================] - 0s 2ms/step - loss: 0.2847 - accuracy: 0.9488\n",
            "Epoch 18/25\n",
            "25/25 [==============================] - 0s 2ms/step - loss: 0.2597 - accuracy: 0.9525\n",
            "Epoch 19/25\n",
            "25/25 [==============================] - 0s 2ms/step - loss: 0.2375 - accuracy: 0.9563\n",
            "Epoch 20/25\n",
            "25/25 [==============================] - 0s 2ms/step - loss: 0.2135 - accuracy: 0.9663\n",
            "Epoch 21/25\n",
            "25/25 [==============================] - 0s 3ms/step - loss: 0.1938 - accuracy: 0.9775\n",
            "Epoch 22/25\n",
            "25/25 [==============================] - 0s 2ms/step - loss: 0.1752 - accuracy: 0.9737\n",
            "Epoch 23/25\n",
            "25/25 [==============================] - 0s 2ms/step - loss: 0.1619 - accuracy: 0.9787\n",
            "Epoch 24/25\n",
            "25/25 [==============================] - 0s 2ms/step - loss: 0.1550 - accuracy: 0.9775\n",
            "Epoch 25/25\n",
            "25/25 [==============================] - 0s 3ms/step - loss: 0.1490 - accuracy: 0.9762\n"
          ]
        }
      ]
    },
    {
      "cell_type": "code",
      "source": [
        "model_7.summary()"
      ],
      "metadata": {
        "colab": {
          "base_uri": "https://localhost:8080/"
        },
        "id": "XQ9Qs66UKMWC",
        "outputId": "f65bc0ab-a7f6-43a4-f1e6-002580787912"
      },
      "execution_count": null,
      "outputs": [
        {
          "output_type": "stream",
          "name": "stdout",
          "text": [
            "Model: \"sequential_7\"\n",
            "_________________________________________________________________\n",
            " Layer (type)                Output Shape              Param #   \n",
            "=================================================================\n",
            " dense_14 (Dense)            (None, 4)                 12        \n",
            "                                                                 \n",
            " dense_15 (Dense)            (None, 4)                 20        \n",
            "                                                                 \n",
            " dense_16 (Dense)            (None, 1)                 5         \n",
            "                                                                 \n",
            "=================================================================\n",
            "Total params: 37\n",
            "Trainable params: 37\n",
            "Non-trainable params: 0\n",
            "_________________________________________________________________\n"
          ]
        }
      ]
    },
    {
      "cell_type": "code",
      "source": [
        "# Evaluate the model on the test dataset\n",
        "model_8.evaluate(X_test, y_test)"
      ],
      "metadata": {
        "colab": {
          "base_uri": "https://localhost:8080/"
        },
        "id": "FUCZXUwPKPPb",
        "outputId": "9eda7085-bf7d-41c5-b5f4-a6fa11db147b"
      },
      "execution_count": null,
      "outputs": [
        {
          "output_type": "stream",
          "name": "stdout",
          "text": [
            "7/7 [==============================] - 0s 3ms/step - loss: 0.1247 - accuracy: 1.0000\n"
          ]
        },
        {
          "output_type": "execute_result",
          "data": {
            "text/plain": [
              "[0.12468848377466202, 1.0]"
            ]
          },
          "metadata": {},
          "execution_count": 55
        }
      ]
    },
    {
      "cell_type": "markdown",
      "source": [
        "## Plot the loss (or training) curve"
      ],
      "metadata": {
        "id": "GvkylbemM8FD"
      }
    },
    {
      "cell_type": "code",
      "source": [
        "history.history"
      ],
      "metadata": {
        "colab": {
          "base_uri": "https://localhost:8080/"
        },
        "id": "wSweuo_HWDDr",
        "outputId": "c2766807-5e00-4816-a613-79a5eca05db8"
      },
      "execution_count": null,
      "outputs": [
        {
          "output_type": "execute_result",
          "data": {
            "text/plain": [
              "{'loss': [0.6846511960029602,\n",
              "  0.6777209639549255,\n",
              "  0.6735944151878357,\n",
              "  0.6681485772132874,\n",
              "  0.6632685661315918,\n",
              "  0.6545671224594116,\n",
              "  0.6412574648857117,\n",
              "  0.6264280080795288,\n",
              "  0.6038309335708618,\n",
              "  0.571403443813324,\n",
              "  0.5404428243637085,\n",
              "  0.5015037655830383,\n",
              "  0.46833184361457825,\n",
              "  0.41130152344703674,\n",
              "  0.36250579357147217,\n",
              "  0.3209042251110077,\n",
              "  0.2847079038619995,\n",
              "  0.2597199082374573,\n",
              "  0.2374689280986786,\n",
              "  0.21351952850818634,\n",
              "  0.19382020831108093,\n",
              "  0.17524360120296478,\n",
              "  0.16189296543598175,\n",
              "  0.1549890637397766,\n",
              "  0.14897282421588898],\n",
              " 'accuracy': [0.5425000190734863,\n",
              "  0.5525000095367432,\n",
              "  0.5512499809265137,\n",
              "  0.5774999856948853,\n",
              "  0.5849999785423279,\n",
              "  0.5837500095367432,\n",
              "  0.675000011920929,\n",
              "  0.7012500166893005,\n",
              "  0.7487499713897705,\n",
              "  0.7737500071525574,\n",
              "  0.7649999856948853,\n",
              "  0.7837499976158142,\n",
              "  0.7975000143051147,\n",
              "  0.8450000286102295,\n",
              "  0.9125000238418579,\n",
              "  0.9312499761581421,\n",
              "  0.9487500190734863,\n",
              "  0.9524999856948853,\n",
              "  0.956250011920929,\n",
              "  0.9662500023841858,\n",
              "  0.9775000214576721,\n",
              "  0.9737499952316284,\n",
              "  0.9787499904632568,\n",
              "  0.9775000214576721,\n",
              "  0.9762499928474426]}"
            ]
          },
          "metadata": {},
          "execution_count": 56
        }
      ]
    },
    {
      "cell_type": "code",
      "source": [
        "# Convert the history object into a DataFram\n",
        "pd.DataFrame(history.history)"
      ],
      "metadata": {
        "colab": {
          "base_uri": "https://localhost:8080/",
          "height": 833
        },
        "id": "64WhqpCDYg5q",
        "outputId": "348dbdcc-c9c5-4c1c-eada-89d4aa9a0cfa"
      },
      "execution_count": null,
      "outputs": [
        {
          "output_type": "execute_result",
          "data": {
            "text/plain": [
              "        loss  accuracy\n",
              "0   0.684651   0.54250\n",
              "1   0.677721   0.55250\n",
              "2   0.673594   0.55125\n",
              "3   0.668149   0.57750\n",
              "4   0.663269   0.58500\n",
              "5   0.654567   0.58375\n",
              "6   0.641257   0.67500\n",
              "7   0.626428   0.70125\n",
              "8   0.603831   0.74875\n",
              "9   0.571403   0.77375\n",
              "10  0.540443   0.76500\n",
              "11  0.501504   0.78375\n",
              "12  0.468332   0.79750\n",
              "13  0.411302   0.84500\n",
              "14  0.362506   0.91250\n",
              "15  0.320904   0.93125\n",
              "16  0.284708   0.94875\n",
              "17  0.259720   0.95250\n",
              "18  0.237469   0.95625\n",
              "19  0.213520   0.96625\n",
              "20  0.193820   0.97750\n",
              "21  0.175244   0.97375\n",
              "22  0.161893   0.97875\n",
              "23  0.154989   0.97750\n",
              "24  0.148973   0.97625"
            ],
            "text/html": [
              "\n",
              "  <div id=\"df-19206a32-3a56-4433-b145-bd74299528b5\">\n",
              "    <div class=\"colab-df-container\">\n",
              "      <div>\n",
              "<style scoped>\n",
              "    .dataframe tbody tr th:only-of-type {\n",
              "        vertical-align: middle;\n",
              "    }\n",
              "\n",
              "    .dataframe tbody tr th {\n",
              "        vertical-align: top;\n",
              "    }\n",
              "\n",
              "    .dataframe thead th {\n",
              "        text-align: right;\n",
              "    }\n",
              "</style>\n",
              "<table border=\"1\" class=\"dataframe\">\n",
              "  <thead>\n",
              "    <tr style=\"text-align: right;\">\n",
              "      <th></th>\n",
              "      <th>loss</th>\n",
              "      <th>accuracy</th>\n",
              "    </tr>\n",
              "  </thead>\n",
              "  <tbody>\n",
              "    <tr>\n",
              "      <th>0</th>\n",
              "      <td>0.684651</td>\n",
              "      <td>0.54250</td>\n",
              "    </tr>\n",
              "    <tr>\n",
              "      <th>1</th>\n",
              "      <td>0.677721</td>\n",
              "      <td>0.55250</td>\n",
              "    </tr>\n",
              "    <tr>\n",
              "      <th>2</th>\n",
              "      <td>0.673594</td>\n",
              "      <td>0.55125</td>\n",
              "    </tr>\n",
              "    <tr>\n",
              "      <th>3</th>\n",
              "      <td>0.668149</td>\n",
              "      <td>0.57750</td>\n",
              "    </tr>\n",
              "    <tr>\n",
              "      <th>4</th>\n",
              "      <td>0.663269</td>\n",
              "      <td>0.58500</td>\n",
              "    </tr>\n",
              "    <tr>\n",
              "      <th>5</th>\n",
              "      <td>0.654567</td>\n",
              "      <td>0.58375</td>\n",
              "    </tr>\n",
              "    <tr>\n",
              "      <th>6</th>\n",
              "      <td>0.641257</td>\n",
              "      <td>0.67500</td>\n",
              "    </tr>\n",
              "    <tr>\n",
              "      <th>7</th>\n",
              "      <td>0.626428</td>\n",
              "      <td>0.70125</td>\n",
              "    </tr>\n",
              "    <tr>\n",
              "      <th>8</th>\n",
              "      <td>0.603831</td>\n",
              "      <td>0.74875</td>\n",
              "    </tr>\n",
              "    <tr>\n",
              "      <th>9</th>\n",
              "      <td>0.571403</td>\n",
              "      <td>0.77375</td>\n",
              "    </tr>\n",
              "    <tr>\n",
              "      <th>10</th>\n",
              "      <td>0.540443</td>\n",
              "      <td>0.76500</td>\n",
              "    </tr>\n",
              "    <tr>\n",
              "      <th>11</th>\n",
              "      <td>0.501504</td>\n",
              "      <td>0.78375</td>\n",
              "    </tr>\n",
              "    <tr>\n",
              "      <th>12</th>\n",
              "      <td>0.468332</td>\n",
              "      <td>0.79750</td>\n",
              "    </tr>\n",
              "    <tr>\n",
              "      <th>13</th>\n",
              "      <td>0.411302</td>\n",
              "      <td>0.84500</td>\n",
              "    </tr>\n",
              "    <tr>\n",
              "      <th>14</th>\n",
              "      <td>0.362506</td>\n",
              "      <td>0.91250</td>\n",
              "    </tr>\n",
              "    <tr>\n",
              "      <th>15</th>\n",
              "      <td>0.320904</td>\n",
              "      <td>0.93125</td>\n",
              "    </tr>\n",
              "    <tr>\n",
              "      <th>16</th>\n",
              "      <td>0.284708</td>\n",
              "      <td>0.94875</td>\n",
              "    </tr>\n",
              "    <tr>\n",
              "      <th>17</th>\n",
              "      <td>0.259720</td>\n",
              "      <td>0.95250</td>\n",
              "    </tr>\n",
              "    <tr>\n",
              "      <th>18</th>\n",
              "      <td>0.237469</td>\n",
              "      <td>0.95625</td>\n",
              "    </tr>\n",
              "    <tr>\n",
              "      <th>19</th>\n",
              "      <td>0.213520</td>\n",
              "      <td>0.96625</td>\n",
              "    </tr>\n",
              "    <tr>\n",
              "      <th>20</th>\n",
              "      <td>0.193820</td>\n",
              "      <td>0.97750</td>\n",
              "    </tr>\n",
              "    <tr>\n",
              "      <th>21</th>\n",
              "      <td>0.175244</td>\n",
              "      <td>0.97375</td>\n",
              "    </tr>\n",
              "    <tr>\n",
              "      <th>22</th>\n",
              "      <td>0.161893</td>\n",
              "      <td>0.97875</td>\n",
              "    </tr>\n",
              "    <tr>\n",
              "      <th>23</th>\n",
              "      <td>0.154989</td>\n",
              "      <td>0.97750</td>\n",
              "    </tr>\n",
              "    <tr>\n",
              "      <th>24</th>\n",
              "      <td>0.148973</td>\n",
              "      <td>0.97625</td>\n",
              "    </tr>\n",
              "  </tbody>\n",
              "</table>\n",
              "</div>\n",
              "      <button class=\"colab-df-convert\" onclick=\"convertToInteractive('df-19206a32-3a56-4433-b145-bd74299528b5')\"\n",
              "              title=\"Convert this dataframe to an interactive table.\"\n",
              "              style=\"display:none;\">\n",
              "        \n",
              "  <svg xmlns=\"http://www.w3.org/2000/svg\" height=\"24px\"viewBox=\"0 0 24 24\"\n",
              "       width=\"24px\">\n",
              "    <path d=\"M0 0h24v24H0V0z\" fill=\"none\"/>\n",
              "    <path d=\"M18.56 5.44l.94 2.06.94-2.06 2.06-.94-2.06-.94-.94-2.06-.94 2.06-2.06.94zm-11 1L8.5 8.5l.94-2.06 2.06-.94-2.06-.94L8.5 2.5l-.94 2.06-2.06.94zm10 10l.94 2.06.94-2.06 2.06-.94-2.06-.94-.94-2.06-.94 2.06-2.06.94z\"/><path d=\"M17.41 7.96l-1.37-1.37c-.4-.4-.92-.59-1.43-.59-.52 0-1.04.2-1.43.59L10.3 9.45l-7.72 7.72c-.78.78-.78 2.05 0 2.83L4 21.41c.39.39.9.59 1.41.59.51 0 1.02-.2 1.41-.59l7.78-7.78 2.81-2.81c.8-.78.8-2.07 0-2.86zM5.41 20L4 18.59l7.72-7.72 1.47 1.35L5.41 20z\"/>\n",
              "  </svg>\n",
              "      </button>\n",
              "      \n",
              "  <style>\n",
              "    .colab-df-container {\n",
              "      display:flex;\n",
              "      flex-wrap:wrap;\n",
              "      gap: 12px;\n",
              "    }\n",
              "\n",
              "    .colab-df-convert {\n",
              "      background-color: #E8F0FE;\n",
              "      border: none;\n",
              "      border-radius: 50%;\n",
              "      cursor: pointer;\n",
              "      display: none;\n",
              "      fill: #1967D2;\n",
              "      height: 32px;\n",
              "      padding: 0 0 0 0;\n",
              "      width: 32px;\n",
              "    }\n",
              "\n",
              "    .colab-df-convert:hover {\n",
              "      background-color: #E2EBFA;\n",
              "      box-shadow: 0px 1px 2px rgba(60, 64, 67, 0.3), 0px 1px 3px 1px rgba(60, 64, 67, 0.15);\n",
              "      fill: #174EA6;\n",
              "    }\n",
              "\n",
              "    [theme=dark] .colab-df-convert {\n",
              "      background-color: #3B4455;\n",
              "      fill: #D2E3FC;\n",
              "    }\n",
              "\n",
              "    [theme=dark] .colab-df-convert:hover {\n",
              "      background-color: #434B5C;\n",
              "      box-shadow: 0px 1px 3px 1px rgba(0, 0, 0, 0.15);\n",
              "      filter: drop-shadow(0px 1px 2px rgba(0, 0, 0, 0.3));\n",
              "      fill: #FFFFFF;\n",
              "    }\n",
              "  </style>\n",
              "\n",
              "      <script>\n",
              "        const buttonEl =\n",
              "          document.querySelector('#df-19206a32-3a56-4433-b145-bd74299528b5 button.colab-df-convert');\n",
              "        buttonEl.style.display =\n",
              "          google.colab.kernel.accessAllowed ? 'block' : 'none';\n",
              "\n",
              "        async function convertToInteractive(key) {\n",
              "          const element = document.querySelector('#df-19206a32-3a56-4433-b145-bd74299528b5');\n",
              "          const dataTable =\n",
              "            await google.colab.kernel.invokeFunction('convertToInteractive',\n",
              "                                                     [key], {});\n",
              "          if (!dataTable) return;\n",
              "\n",
              "          const docLinkHtml = 'Like what you see? Visit the ' +\n",
              "            '<a target=\"_blank\" href=https://colab.research.google.com/notebooks/data_table.ipynb>data table notebook</a>'\n",
              "            + ' to learn more about interactive tables.';\n",
              "          element.innerHTML = '';\n",
              "          dataTable['output_type'] = 'display_data';\n",
              "          await google.colab.output.renderOutput(dataTable, element);\n",
              "          const docLink = document.createElement('div');\n",
              "          docLink.innerHTML = docLinkHtml;\n",
              "          element.appendChild(docLink);\n",
              "        }\n",
              "      </script>\n",
              "    </div>\n",
              "  </div>\n",
              "  "
            ]
          },
          "metadata": {},
          "execution_count": 57
        }
      ]
    },
    {
      "cell_type": "code",
      "source": [
        "# Plot the loss curves\n",
        "pd.DataFrame(history.history).plot()\n",
        "plt.title(\"Model_8 loss curves\");"
      ],
      "metadata": {
        "colab": {
          "base_uri": "https://localhost:8080/",
          "height": 281
        },
        "id": "Heh2WIEyZDcf",
        "outputId": "80ca3bfd-4135-4806-8b12-bea13424e616"
      },
      "execution_count": null,
      "outputs": [
        {
          "output_type": "display_data",
          "data": {
            "text/plain": [
              "<Figure size 432x288 with 1 Axes>"
            ],
            "image/png": "[encoded data removed]"
          },
          "metadata": {
            "needs_background": "light"
          }
        }
      ]
    },
    {
      "cell_type": "markdown",
      "source": [
        "**Note** For many problems, the loss function going down means the model is improving (the predictions it's making are getting closer to the ground truth labels)"
      ],
      "metadata": {
        "id": "XDOt0UPCZ5sx"
      }
    },
    {
      "cell_type": "markdown",
      "source": [
        "## Finding the best learning rate\n",
        "\n",
        "To find the ideal learning rate( the learning rate where the loss decreases the most during training) we're going to use the following steps:\n",
        "* A learning rate **callback** - you can think od a callback as an extra piece of functionality, you can add to your *while* its training.\n",
        "* Another model (we could use the same one as above, but we're practicing building models here)\n",
        "* A modified lose curves plot.\n"
      ],
      "metadata": {
        "id": "Jonp_zOzaOPw"
      }
    },
    {
      "cell_type": "code",
      "source": [
        "# set random seed\n",
        "tf.random.set_seed(42)\n",
        "\n",
        "# Create a model (same as model_8)\n",
        "model_9 = tf.keras.Sequential([\n",
        "    tf.keras.layers.Dense(4, activation=\"relu\"),\n",
        "    tf.keras.layers.Dense(4, activation=\"relu\"),\n",
        "    tf.keras.layers.Dense(1, activation=\"sigmoid\")\n",
        "])\n",
        "\n",
        "# Compile the model\n",
        "model_9.compile(loss=\"binary_crossentropy\",\n",
        "                 optimizer=tf.keras.optimizers.Adam(),\n",
        "                 metrics=['accuracy'])\n",
        "\n",
        "# Create a learning rate callback\n",
        "lr_scheduler = tf.keras.callbacks.LearningRateScheduler(lambda epoch: 1e-4 * 10**(epoch/20))\n",
        "\n",
        "# Fit the model (passing lr_scheduler callback)\n",
        "history_9 = model_9.fit(X_train,\n",
        "                        y_train,\n",
        "                        epochs=100,\n",
        "                        callbacks=[lr_scheduler])"
      ],
      "metadata": {
        "colab": {
          "base_uri": "https://localhost:8080/"
        },
        "id": "jHmGIxadEw5y",
        "outputId": "91d05107-f6a9-4804-c398-2620162a25c1"
      },
      "execution_count": null,
      "outputs": [
        {
          "output_type": "stream",
          "name": "stdout",
          "text": [
            "Epoch 1/100\n",
            "25/25 [==============================] - 0s 3ms/step - loss: 0.6945 - accuracy: 0.4988 - lr: 1.0000e-04\n",
            "Epoch 2/100\n",
            "25/25 [==============================] - 0s 2ms/step - loss: 0.6938 - accuracy: 0.4975 - lr: 1.1220e-04\n",
            "Epoch 3/100\n",
            "25/25 [==============================] - 0s 2ms/step - loss: 0.6930 - accuracy: 0.4963 - lr: 1.2589e-04\n",
            "Epoch 4/100\n",
            "25/25 [==============================] - 0s 2ms/step - loss: 0.6922 - accuracy: 0.4975 - lr: 1.4125e-04\n",
            "Epoch 5/100\n",
            "25/25 [==============================] - 0s 2ms/step - loss: 0.6914 - accuracy: 0.5063 - lr: 1.5849e-04\n",
            "Epoch 6/100\n",
            "25/25 [==============================] - 0s 3ms/step - loss: 0.6906 - accuracy: 0.5013 - lr: 1.7783e-04\n",
            "Epoch 7/100\n",
            "25/25 [==============================] - 0s 2ms/step - loss: 0.6898 - accuracy: 0.4950 - lr: 1.9953e-04\n",
            "Epoch 8/100\n",
            "25/25 [==============================] - 0s 3ms/step - loss: 0.6889 - accuracy: 0.5038 - lr: 2.2387e-04\n",
            "Epoch 9/100\n",
            "25/25 [==============================] - 0s 2ms/step - loss: 0.6880 - accuracy: 0.5013 - lr: 2.5119e-04\n",
            "Epoch 10/100\n",
            "25/25 [==============================] - 0s 2ms/step - loss: 0.6871 - accuracy: 0.5050 - lr: 2.8184e-04\n",
            "Epoch 11/100\n",
            "25/25 [==============================] - 0s 2ms/step - loss: 0.6863 - accuracy: 0.5200 - lr: 3.1623e-04\n",
            "Epoch 12/100\n",
            "25/25 [==============================] - 0s 2ms/step - loss: 0.6856 - accuracy: 0.5163 - lr: 3.5481e-04\n",
            "Epoch 13/100\n",
            "25/25 [==============================] - 0s 2ms/step - loss: 0.6847 - accuracy: 0.5175 - lr: 3.9811e-04\n",
            "Epoch 14/100\n",
            "25/25 [==============================] - 0s 3ms/step - loss: 0.6842 - accuracy: 0.5200 - lr: 4.4668e-04\n",
            "Epoch 15/100\n",
            "25/25 [==============================] - 0s 2ms/step - loss: 0.6835 - accuracy: 0.5213 - lr: 5.0119e-04\n",
            "Epoch 16/100\n",
            "25/25 [==============================] - 0s 3ms/step - loss: 0.6829 - accuracy: 0.5213 - lr: 5.6234e-04\n",
            "Epoch 17/100\n",
            "25/25 [==============================] - 0s 2ms/step - loss: 0.6826 - accuracy: 0.5225 - lr: 6.3096e-04\n",
            "Epoch 18/100\n",
            "25/25 [==============================] - 0s 2ms/step - loss: 0.6819 - accuracy: 0.5300 - lr: 7.0795e-04\n",
            "Epoch 19/100\n",
            "25/25 [==============================] - 0s 2ms/step - loss: 0.6816 - accuracy: 0.5312 - lr: 7.9433e-04\n",
            "Epoch 20/100\n",
            "25/25 [==============================] - 0s 3ms/step - loss: 0.6811 - accuracy: 0.5387 - lr: 8.9125e-04\n",
            "Epoch 21/100\n",
            "25/25 [==============================] - 0s 2ms/step - loss: 0.6806 - accuracy: 0.5400 - lr: 0.0010\n",
            "Epoch 22/100\n",
            "25/25 [==============================] - 0s 2ms/step - loss: 0.6801 - accuracy: 0.5412 - lr: 0.0011\n",
            "Epoch 23/100\n",
            "25/25 [==============================] - 0s 2ms/step - loss: 0.6796 - accuracy: 0.5400 - lr: 0.0013\n",
            "Epoch 24/100\n",
            "25/25 [==============================] - 0s 2ms/step - loss: 0.6790 - accuracy: 0.5425 - lr: 0.0014\n",
            "Epoch 25/100\n",
            "25/25 [==============================] - 0s 3ms/step - loss: 0.6784 - accuracy: 0.5450 - lr: 0.0016\n",
            "Epoch 26/100\n",
            "25/25 [==============================] - 0s 2ms/step - loss: 0.6778 - accuracy: 0.5387 - lr: 0.0018\n",
            "Epoch 27/100\n",
            "25/25 [==============================] - 0s 3ms/step - loss: 0.6770 - accuracy: 0.5425 - lr: 0.0020\n",
            "Epoch 28/100\n",
            "25/25 [==============================] - 0s 3ms/step - loss: 0.6760 - accuracy: 0.5537 - lr: 0.0022\n",
            "Epoch 29/100\n",
            "25/25 [==============================] - 0s 2ms/step - loss: 0.6754 - accuracy: 0.5512 - lr: 0.0025\n",
            "Epoch 30/100\n",
            "25/25 [==============================] - 0s 2ms/step - loss: 0.6739 - accuracy: 0.5575 - lr: 0.0028\n",
            "Epoch 31/100\n",
            "25/25 [==============================] - 0s 2ms/step - loss: 0.6726 - accuracy: 0.5500 - lr: 0.0032\n",
            "Epoch 32/100\n",
            "25/25 [==============================] - 0s 2ms/step - loss: 0.6711 - accuracy: 0.5512 - lr: 0.0035\n",
            "Epoch 33/100\n",
            "25/25 [==============================] - 0s 2ms/step - loss: 0.6688 - accuracy: 0.5562 - lr: 0.0040\n",
            "Epoch 34/100\n",
            "25/25 [==============================] - 0s 3ms/step - loss: 0.6672 - accuracy: 0.5612 - lr: 0.0045\n",
            "Epoch 35/100\n",
            "25/25 [==============================] - 0s 2ms/step - loss: 0.6660 - accuracy: 0.5888 - lr: 0.0050\n",
            "Epoch 36/100\n",
            "25/25 [==============================] - 0s 2ms/step - loss: 0.6625 - accuracy: 0.5625 - lr: 0.0056\n",
            "Epoch 37/100\n",
            "25/25 [==============================] - 0s 2ms/step - loss: 0.6560 - accuracy: 0.5813 - lr: 0.0063\n",
            "Epoch 38/100\n",
            "25/25 [==============================] - 0s 2ms/step - loss: 0.6521 - accuracy: 0.6025 - lr: 0.0071\n",
            "Epoch 39/100\n",
            "25/25 [==============================] - 0s 2ms/step - loss: 0.6415 - accuracy: 0.7088 - lr: 0.0079\n",
            "Epoch 40/100\n",
            "25/25 [==============================] - 0s 3ms/step - loss: 0.6210 - accuracy: 0.7113 - lr: 0.0089\n",
            "Epoch 41/100\n",
            "25/25 [==============================] - 0s 2ms/step - loss: 0.5904 - accuracy: 0.7487 - lr: 0.0100\n",
            "Epoch 42/100\n",
            "25/25 [==============================] - 0s 2ms/step - loss: 0.5688 - accuracy: 0.7312 - lr: 0.0112\n",
            "Epoch 43/100\n",
            "25/25 [==============================] - 0s 2ms/step - loss: 0.5346 - accuracy: 0.7563 - lr: 0.0126\n",
            "Epoch 44/100\n",
            "25/25 [==============================] - 0s 2ms/step - loss: 0.4533 - accuracy: 0.8150 - lr: 0.0141\n",
            "Epoch 45/100\n",
            "25/25 [==============================] - 0s 2ms/step - loss: 0.3455 - accuracy: 0.9112 - lr: 0.0158\n",
            "Epoch 46/100\n",
            "25/25 [==============================] - 0s 2ms/step - loss: 0.2570 - accuracy: 0.9463 - lr: 0.0178\n",
            "Epoch 47/100\n",
            "25/25 [==============================] - 0s 3ms/step - loss: 0.1968 - accuracy: 0.9575 - lr: 0.0200\n",
            "Epoch 48/100\n",
            "25/25 [==============================] - 0s 3ms/step - loss: 0.1336 - accuracy: 0.9700 - lr: 0.0224\n",
            "Epoch 49/100\n",
            "25/25 [==============================] - 0s 2ms/step - loss: 0.1310 - accuracy: 0.9613 - lr: 0.0251\n",
            "Epoch 50/100\n",
            "25/25 [==============================] - 0s 2ms/step - loss: 0.1002 - accuracy: 0.9700 - lr: 0.0282\n",
            "Epoch 51/100\n",
            "25/25 [==============================] - 0s 2ms/step - loss: 0.1166 - accuracy: 0.9638 - lr: 0.0316\n",
            "Epoch 52/100\n",
            "25/25 [==============================] - 0s 2ms/step - loss: 0.1368 - accuracy: 0.9513 - lr: 0.0355\n",
            "Epoch 53/100\n",
            "25/25 [==============================] - 0s 2ms/step - loss: 0.0879 - accuracy: 0.9787 - lr: 0.0398\n",
            "Epoch 54/100\n",
            "25/25 [==============================] - 0s 3ms/step - loss: 0.1187 - accuracy: 0.9588 - lr: 0.0447\n",
            "Epoch 55/100\n",
            "25/25 [==============================] - 0s 3ms/step - loss: 0.0733 - accuracy: 0.9712 - lr: 0.0501\n",
            "Epoch 56/100\n",
            "25/25 [==============================] - 0s 3ms/step - loss: 0.1132 - accuracy: 0.9550 - lr: 0.0562\n",
            "Epoch 57/100\n",
            "25/25 [==============================] - 0s 2ms/step - loss: 0.1058 - accuracy: 0.9613 - lr: 0.0631\n",
            "Epoch 58/100\n",
            "25/25 [==============================] - 0s 2ms/step - loss: 0.0663 - accuracy: 0.9750 - lr: 0.0708\n",
            "Epoch 59/100\n",
            "25/25 [==============================] - 0s 2ms/step - loss: 0.1881 - accuracy: 0.9275 - lr: 0.0794\n",
            "Epoch 60/100\n",
            "25/25 [==============================] - 0s 2ms/step - loss: 0.1903 - accuracy: 0.9312 - lr: 0.0891\n",
            "Epoch 61/100\n",
            "25/25 [==============================] - 0s 2ms/step - loss: 0.4294 - accuracy: 0.8487 - lr: 0.1000\n",
            "Epoch 62/100\n",
            "25/25 [==============================] - 0s 3ms/step - loss: 0.1792 - accuracy: 0.9712 - lr: 0.1122\n",
            "Epoch 63/100\n",
            "25/25 [==============================] - 0s 2ms/step - loss: 0.0601 - accuracy: 0.9900 - lr: 0.1259\n",
            "Epoch 64/100\n",
            "25/25 [==============================] - 0s 2ms/step - loss: 0.0956 - accuracy: 0.9712 - lr: 0.1413\n",
            "Epoch 65/100\n",
            "25/25 [==============================] - 0s 2ms/step - loss: 0.1199 - accuracy: 0.9588 - lr: 0.1585\n",
            "Epoch 66/100\n",
            "25/25 [==============================] - 0s 2ms/step - loss: 0.1410 - accuracy: 0.9413 - lr: 0.1778\n",
            "Epoch 67/100\n",
            "25/25 [==============================] - 0s 3ms/step - loss: 0.1210 - accuracy: 0.9638 - lr: 0.1995\n",
            "Epoch 68/100\n",
            "25/25 [==============================] - 0s 2ms/step - loss: 0.2725 - accuracy: 0.9075 - lr: 0.2239\n",
            "Epoch 69/100\n",
            "25/25 [==============================] - 0s 2ms/step - loss: 0.1330 - accuracy: 0.9488 - lr: 0.2512\n",
            "Epoch 70/100\n",
            "25/25 [==============================] - 0s 2ms/step - loss: 0.1110 - accuracy: 0.9550 - lr: 0.2818\n",
            "Epoch 71/100\n",
            "25/25 [==============================] - 0s 2ms/step - loss: 0.1670 - accuracy: 0.9337 - lr: 0.3162\n",
            "Epoch 72/100\n",
            "25/25 [==============================] - 0s 2ms/step - loss: 0.1367 - accuracy: 0.9450 - lr: 0.3548\n",
            "Epoch 73/100\n",
            "25/25 [==============================] - 0s 2ms/step - loss: 0.1987 - accuracy: 0.9312 - lr: 0.3981\n",
            "Epoch 74/100\n",
            "25/25 [==============================] - 0s 2ms/step - loss: 0.2047 - accuracy: 0.9212 - lr: 0.4467\n",
            "Epoch 75/100\n",
            "25/25 [==============================] - 0s 2ms/step - loss: 0.1067 - accuracy: 0.9600 - lr: 0.5012\n",
            "Epoch 76/100\n",
            "25/25 [==============================] - 0s 2ms/step - loss: 0.1868 - accuracy: 0.9237 - lr: 0.5623\n",
            "Epoch 77/100\n",
            "25/25 [==============================] - 0s 3ms/step - loss: 0.1529 - accuracy: 0.9362 - lr: 0.6310\n",
            "Epoch 78/100\n",
            "25/25 [==============================] - 0s 2ms/step - loss: 0.4435 - accuracy: 0.8625 - lr: 0.7079\n",
            "Epoch 79/100\n",
            "25/25 [==============================] - 0s 3ms/step - loss: 0.6735 - accuracy: 0.7138 - lr: 0.7943\n",
            "Epoch 80/100\n",
            "25/25 [==============================] - 0s 3ms/step - loss: 0.6131 - accuracy: 0.7212 - lr: 0.8913\n",
            "Epoch 81/100\n",
            "25/25 [==============================] - 0s 2ms/step - loss: 0.6782 - accuracy: 0.6050 - lr: 1.0000\n",
            "Epoch 82/100\n",
            "25/25 [==============================] - 0s 2ms/step - loss: 0.7105 - accuracy: 0.4913 - lr: 1.1220\n",
            "Epoch 83/100\n",
            "25/25 [==============================] - 0s 2ms/step - loss: 0.7172 - accuracy: 0.4787 - lr: 1.2589\n",
            "Epoch 84/100\n",
            "25/25 [==============================] - 0s 2ms/step - loss: 0.7070 - accuracy: 0.4963 - lr: 1.4125\n",
            "Epoch 85/100\n",
            "25/25 [==============================] - 0s 2ms/step - loss: 0.7268 - accuracy: 0.5038 - lr: 1.5849\n",
            "Epoch 86/100\n",
            "25/25 [==============================] - 0s 2ms/step - loss: 0.7801 - accuracy: 0.5063 - lr: 1.7783\n",
            "Epoch 87/100\n",
            "25/25 [==============================] - 0s 2ms/step - loss: 0.7657 - accuracy: 0.5113 - lr: 1.9953\n",
            "Epoch 88/100\n",
            "25/25 [==============================] - 0s 2ms/step - loss: 0.7557 - accuracy: 0.5213 - lr: 2.2387\n",
            "Epoch 89/100\n",
            "25/25 [==============================] - 0s 2ms/step - loss: 0.7515 - accuracy: 0.4938 - lr: 2.5119\n",
            "Epoch 90/100\n",
            "25/25 [==============================] - 0s 2ms/step - loss: 0.7781 - accuracy: 0.5238 - lr: 2.8184\n",
            "Epoch 91/100\n",
            "25/25 [==============================] - 0s 3ms/step - loss: 0.8150 - accuracy: 0.5213 - lr: 3.1623\n",
            "Epoch 92/100\n",
            "25/25 [==============================] - 0s 2ms/step - loss: 0.7339 - accuracy: 0.4888 - lr: 3.5481\n",
            "Epoch 93/100\n",
            "25/25 [==============================] - 0s 2ms/step - loss: 0.7446 - accuracy: 0.5063 - lr: 3.9811\n",
            "Epoch 94/100\n",
            "25/25 [==============================] - 0s 3ms/step - loss: 0.7612 - accuracy: 0.5063 - lr: 4.4668\n",
            "Epoch 95/100\n",
            "25/25 [==============================] - 0s 2ms/step - loss: 0.8277 - accuracy: 0.4863 - lr: 5.0119\n",
            "Epoch 96/100\n",
            "25/25 [==============================] - 0s 2ms/step - loss: 0.7913 - accuracy: 0.4762 - lr: 5.6234\n",
            "Epoch 97/100\n",
            "25/25 [==============================] - 0s 2ms/step - loss: 0.8090 - accuracy: 0.5013 - lr: 6.3096\n",
            "Epoch 98/100\n",
            "25/25 [==============================] - 0s 2ms/step - loss: 0.9654 - accuracy: 0.4963 - lr: 7.0795\n",
            "Epoch 99/100\n",
            "25/25 [==============================] - 0s 2ms/step - loss: 0.9867 - accuracy: 0.4913 - lr: 7.9433\n",
            "Epoch 100/100\n",
            "25/25 [==============================] - 0s 2ms/step - loss: 0.8580 - accuracy: 0.4613 - lr: 8.9125\n"
          ]
        }
      ]
    },
    {
      "cell_type": "code",
      "source": [
        "# Checkout the history\n",
        "pd.DataFrame(history_9.history).plot(figsize=(10, 7), xlabel=\"epochs\")"
      ],
      "metadata": {
        "colab": {
          "base_uri": "https://localhost:8080/",
          "height": 460
        },
        "id": "OpCgLAEidXEJ",
        "outputId": "2b12d3e5-0441-4013-e320-539613a493e5"
      },
      "execution_count": null,
      "outputs": [
        {
          "output_type": "execute_result",
          "data": {
            "text/plain": [
              "<matplotlib.axes._subplots.AxesSubplot at 0x7f0534dcd450>"
            ]
          },
          "metadata": {},
          "execution_count": 60
        },
        {
          "output_type": "display_data",
          "data": {
            "text/plain": [
              "<Figure size 720x504 with 1 Axes>"
            ],
            "image/png": "[encoded data removed]"
          },
          "metadata": {
            "needs_background": "light"
          }
        }
      ]
    },
    {
      "cell_type": "code",
      "source": [
        "\n",
        "x = lambda epoch: 2 * 3**10\n",
        "x(3)"
      ],
      "metadata": {
        "colab": {
          "base_uri": "https://localhost:8080/"
        },
        "id": "2g1pimMxe-V0",
        "outputId": "203bede3-a225-40d1-80c8-ef49307fd916"
      },
      "execution_count": null,
      "outputs": [
        {
          "output_type": "execute_result",
          "data": {
            "text/plain": [
              "118098"
            ]
          },
          "metadata": {},
          "execution_count": 61
        }
      ]
    },
    {
      "cell_type": "code",
      "source": [
        "# Plot the learning rate versus the loss\n",
        "lrs = 1e-4 * (10 ** (tf.range(100)/20))\n",
        "lrs"
      ],
      "metadata": {
        "colab": {
          "base_uri": "https://localhost:8080/"
        },
        "id": "t2R7D6yggQOL",
        "outputId": "ee762313-b9d5-4c4c-e7f8-b05ceb0aef49"
      },
      "execution_count": null,
      "outputs": [
        {
          "output_type": "execute_result",
          "data": {
            "text/plain": [
              "<tf.Tensor: shape=(100,), dtype=float64, numpy=\n",
              "array([1.00000000e-04, 1.12201845e-04, 1.25892541e-04, 1.41253754e-04,\n",
              "       1.58489319e-04, 1.77827941e-04, 1.99526231e-04, 2.23872114e-04,\n",
              "       2.51188643e-04, 2.81838293e-04, 3.16227766e-04, 3.54813389e-04,\n",
              "       3.98107171e-04, 4.46683592e-04, 5.01187234e-04, 5.62341325e-04,\n",
              "       6.30957344e-04, 7.07945784e-04, 7.94328235e-04, 8.91250938e-04,\n",
              "       1.00000000e-03, 1.12201845e-03, 1.25892541e-03, 1.41253754e-03,\n",
              "       1.58489319e-03, 1.77827941e-03, 1.99526231e-03, 2.23872114e-03,\n",
              "       2.51188643e-03, 2.81838293e-03, 3.16227766e-03, 3.54813389e-03,\n",
              "       3.98107171e-03, 4.46683592e-03, 5.01187234e-03, 5.62341325e-03,\n",
              "       6.30957344e-03, 7.07945784e-03, 7.94328235e-03, 8.91250938e-03,\n",
              "       1.00000000e-02, 1.12201845e-02, 1.25892541e-02, 1.41253754e-02,\n",
              "       1.58489319e-02, 1.77827941e-02, 1.99526231e-02, 2.23872114e-02,\n",
              "       2.51188643e-02, 2.81838293e-02, 3.16227766e-02, 3.54813389e-02,\n",
              "       3.98107171e-02, 4.46683592e-02, 5.01187234e-02, 5.62341325e-02,\n",
              "       6.30957344e-02, 7.07945784e-02, 7.94328235e-02, 8.91250938e-02,\n",
              "       1.00000000e-01, 1.12201845e-01, 1.25892541e-01, 1.41253754e-01,\n",
              "       1.58489319e-01, 1.77827941e-01, 1.99526231e-01, 2.23872114e-01,\n",
              "       2.51188643e-01, 2.81838293e-01, 3.16227766e-01, 3.54813389e-01,\n",
              "       3.98107171e-01, 4.46683592e-01, 5.01187234e-01, 5.62341325e-01,\n",
              "       6.30957344e-01, 7.07945784e-01, 7.94328235e-01, 8.91250938e-01,\n",
              "       1.00000000e+00, 1.12201845e+00, 1.25892541e+00, 1.41253754e+00,\n",
              "       1.58489319e+00, 1.77827941e+00, 1.99526231e+00, 2.23872114e+00,\n",
              "       2.51188643e+00, 2.81838293e+00, 3.16227766e+00, 3.54813389e+00,\n",
              "       3.98107171e+00, 4.46683592e+00, 5.01187234e+00, 5.62341325e+00,\n",
              "       6.30957344e+00, 7.07945784e+00, 7.94328235e+00, 8.91250938e+00])>"
            ]
          },
          "metadata": {},
          "execution_count": 62
        }
      ]
    },
    {
      "cell_type": "code",
      "source": [
        "len(lrs)"
      ],
      "metadata": {
        "colab": {
          "base_uri": "https://localhost:8080/"
        },
        "id": "AB435IXgimA9",
        "outputId": "da91887c-e420-4784-a732-268f1d4cec72"
      },
      "execution_count": null,
      "outputs": [
        {
          "output_type": "execute_result",
          "data": {
            "text/plain": [
              "100"
            ]
          },
          "metadata": {},
          "execution_count": 63
        }
      ]
    },
    {
      "cell_type": "code",
      "source": [
        "plt.figure(figsize=(10,7))\n",
        "plt.semilogx(lrs, history_9.history[\"loss\"])\n",
        "plt.xlabel(\"learning rate\")\n",
        "plt.ylabel(\"loss\")\n",
        "plt.title(\"learing rate vs. loss\")"
      ],
      "metadata": {
        "colab": {
          "base_uri": "https://localhost:8080/",
          "height": 480
        },
        "id": "Polu90DCjHz1",
        "outputId": "9d279811-a81f-42ef-dfe2-94c96ffb036f"
      },
      "execution_count": null,
      "outputs": [
        {
          "output_type": "execute_result",
          "data": {
            "text/plain": [
              "Text(0.5, 1.0, 'learing rate vs. loss')"
            ]
          },
          "metadata": {},
          "execution_count": 64
        },
        {
          "output_type": "display_data",
          "data": {
            "text/plain": [
              "<Figure size 720x504 with 1 Axes>"
            ],
            "image/png": "[encoded data removed]"
          },
          "metadata": {
            "needs_background": "light"
          }
        }
      ]
    },
    {
      "cell_type": "code",
      "source": [
        "# Example of other typical learning rates values:\n",
        "10**0, 10**-1, 10**-2, 10**-3, 1e-4"
      ],
      "metadata": {
        "colab": {
          "base_uri": "https://localhost:8080/"
        },
        "id": "CCGsMoXDj96z",
        "outputId": "9ad287e0-588d-43a2-ece9-132fbcc994f1"
      },
      "execution_count": null,
      "outputs": [
        {
          "output_type": "execute_result",
          "data": {
            "text/plain": [
              "(1, 0.1, 0.01, 0.001, 0.0001)"
            ]
          },
          "metadata": {},
          "execution_count": 65
        }
      ]
    },
    {
      "cell_type": "code",
      "source": [
        "import tensorflow as tf\n",
        "# Let's try using a higher *ideal* learning rate with the same model.\n",
        "\n",
        "# Set random seed\n",
        "tf.random.set_seed(42)\n",
        "\n",
        "# Create the model\n",
        "model_10 = tf.keras.Sequential([\n",
        "    tf.keras.layers.Dense(4, activation=\"relu\"),\n",
        "    tf.keras.layers.Dense(4, activation=\"relu\"),\n",
        "    tf.keras.layers.Dense(1, activation=\"sigmoid\")\n",
        "\n",
        "])\n",
        "\n",
        "# Compile the model with ideal learnin rate\n",
        "model_10.compile(loss=\"binary_crossentropy\",\n",
        "                 optimizer=tf.keras.optimizers.Adam(lr=0.02),\n",
        "                 metrics=[\"accuracy\"])\n",
        "\n",
        "# Fit the model for 20 epochs (5 less than before)\n",
        "history_10 = model_10.fit(X_train, y_train, epochs=20)"
      ],
      "metadata": {
        "id": "umJSoiXjlT8P",
        "colab": {
          "base_uri": "https://localhost:8080/"
        },
        "outputId": "64dcbe01-3502-43a6-a0f7-b218d63a58b5"
      },
      "execution_count": null,
      "outputs": [
        {
          "output_type": "stream",
          "name": "stdout",
          "text": [
            "Epoch 1/20\n"
          ]
        },
        {
          "output_type": "stream",
          "name": "stderr",
          "text": [
            "/usr/local/lib/python3.7/dist-packages/keras/optimizer_v2/adam.py:105: UserWarning: The `lr` argument is deprecated, use `learning_rate` instead.\n",
            "  super(Adam, self).__init__(name, **kwargs)\n"
          ]
        },
        {
          "output_type": "stream",
          "name": "stdout",
          "text": [
            "25/25 [==============================] - 0s 3ms/step - loss: 0.6837 - accuracy: 0.5600\n",
            "Epoch 2/20\n",
            "25/25 [==============================] - 0s 2ms/step - loss: 0.6744 - accuracy: 0.5750\n",
            "Epoch 3/20\n",
            "25/25 [==============================] - 0s 2ms/step - loss: 0.6626 - accuracy: 0.5875\n",
            "Epoch 4/20\n",
            "25/25 [==============================] - 0s 3ms/step - loss: 0.6332 - accuracy: 0.6388\n",
            "Epoch 5/20\n",
            "25/25 [==============================] - 0s 2ms/step - loss: 0.5830 - accuracy: 0.7563\n",
            "Epoch 6/20\n",
            "25/25 [==============================] - 0s 2ms/step - loss: 0.4907 - accuracy: 0.8313\n",
            "Epoch 7/20\n",
            "25/25 [==============================] - 0s 2ms/step - loss: 0.4251 - accuracy: 0.8450\n",
            "Epoch 8/20\n",
            "25/25 [==============================] - 0s 2ms/step - loss: 0.3596 - accuracy: 0.8875\n",
            "Epoch 9/20\n",
            "25/25 [==============================] - 0s 2ms/step - loss: 0.3152 - accuracy: 0.9100\n",
            "Epoch 10/20\n",
            "25/25 [==============================] - 0s 3ms/step - loss: 0.2512 - accuracy: 0.9500\n",
            "Epoch 11/20\n",
            "25/25 [==============================] - 0s 3ms/step - loss: 0.2152 - accuracy: 0.9500\n",
            "Epoch 12/20\n",
            "25/25 [==============================] - 0s 2ms/step - loss: 0.1721 - accuracy: 0.9750\n",
            "Epoch 13/20\n",
            "25/25 [==============================] - 0s 2ms/step - loss: 0.1443 - accuracy: 0.9837\n",
            "Epoch 14/20\n",
            "25/25 [==============================] - 0s 2ms/step - loss: 0.1232 - accuracy: 0.9862\n",
            "Epoch 15/20\n",
            "25/25 [==============================] - 0s 2ms/step - loss: 0.1085 - accuracy: 0.9850\n",
            "Epoch 16/20\n",
            "25/25 [==============================] - 0s 2ms/step - loss: 0.0940 - accuracy: 0.9937\n",
            "Epoch 17/20\n",
            "25/25 [==============================] - 0s 2ms/step - loss: 0.0827 - accuracy: 0.9962\n",
            "Epoch 18/20\n",
            "25/25 [==============================] - 0s 3ms/step - loss: 0.0798 - accuracy: 0.9937\n",
            "Epoch 19/20\n",
            "25/25 [==============================] - 0s 2ms/step - loss: 0.0845 - accuracy: 0.9875\n",
            "Epoch 20/20\n",
            "25/25 [==============================] - 0s 2ms/step - loss: 0.0790 - accuracy: 0.9887\n"
          ]
        }
      ]
    },
    {
      "cell_type": "code",
      "source": [
        "# Evaluate model_10 on the test dataset\n",
        "model_10.evaluate(X_test, y_test)"
      ],
      "metadata": {
        "colab": {
          "base_uri": "https://localhost:8080/"
        },
        "id": "-uoZ6PQ8nCpJ",
        "outputId": "ec3edfa5-7e1e-48b1-e924-ff9459cad048"
      },
      "execution_count": null,
      "outputs": [
        {
          "output_type": "stream",
          "name": "stdout",
          "text": [
            "7/7 [==============================] - 0s 3ms/step - loss: 0.0574 - accuracy: 0.9900\n"
          ]
        },
        {
          "output_type": "execute_result",
          "data": {
            "text/plain": [
              "[0.057401832193136215, 0.9900000095367432]"
            ]
          },
          "metadata": {},
          "execution_count": 67
        }
      ]
    },
    {
      "cell_type": "code",
      "source": [
        "# Evaluate model_8 on the test dataset\n",
        "model_8.evaluate(X_test, y_test)"
      ],
      "metadata": {
        "colab": {
          "base_uri": "https://localhost:8080/"
        },
        "id": "GVJDX3QEnivH",
        "outputId": "0408ae93-49fc-4666-ece9-80d353d1b054"
      },
      "execution_count": null,
      "outputs": [
        {
          "output_type": "stream",
          "name": "stdout",
          "text": [
            "7/7 [==============================] - 0s 3ms/step - loss: 0.1247 - accuracy: 1.0000\n"
          ]
        },
        {
          "output_type": "execute_result",
          "data": {
            "text/plain": [
              "[0.12468848377466202, 1.0]"
            ]
          },
          "metadata": {},
          "execution_count": 68
        }
      ]
    },
    {
      "cell_type": "markdown",
      "source": [
        "## More classification evaluation methods\n",
        "\n",
        "Alongside visualizing our models results as much as possible, there are a handful of other classification evaluation methods & metrics you shoudl be familier with.\n",
        "\n",
        "* Accuracy\n",
        "* Precision\n",
        "* Recall\n",
        "* F1=score\n",
        "* Confusion matrix\n",
        "* Classification report (from scikit-learn)\n",
        " "
      ],
      "metadata": {
        "id": "Du6rODffnyVJ"
      }
    },
    {
      "cell_type": "code",
      "source": [
        "# Check the accuracy of our model\n",
        "loss, accuracy = model_10.evaluate(X_test, y_test)\n",
        "print(f\"Model loss on the test {loss}\")\n",
        "print(f\"Model accuracy on the test set: {(accuracy*100):.2f}%\")"
      ],
      "metadata": {
        "colab": {
          "base_uri": "https://localhost:8080/"
        },
        "id": "O4EISKkBsXMP",
        "outputId": "4e55be7a-54f9-4682-d7e3-28c4bc02ef12"
      },
      "execution_count": null,
      "outputs": [
        {
          "output_type": "stream",
          "name": "stdout",
          "text": [
            "7/7 [==============================] - 0s 3ms/step - loss: 0.0574 - accuracy: 0.9900\n",
            "Model loss on the test 0.057401832193136215\n",
            "Model accuracy on the test set: 99.00%\n"
          ]
        }
      ]
    },
    {
      "cell_type": "markdown",
      "source": [
        "How about a confusion matrix"
      ],
      "metadata": {
        "id": "IY-4zcOIttyY"
      }
    },
    {
      "cell_type": "code",
      "source": [
        "# Create confusion matrix\n",
        "from sklearn.metrics import confusion_matrix\n",
        "\n",
        "# Make predictions\n",
        "y_preds = model_10.predict(X_test)\n",
        "\n",
        "# # Create confusion matrix\n",
        "# confusion_matrix(y_test, y_preds)"
      ],
      "metadata": {
        "id": "IYbaCW9Nupbn"
      },
      "execution_count": null,
      "outputs": []
    },
    {
      "cell_type": "code",
      "source": [
        "y_test[:10]"
      ],
      "metadata": {
        "colab": {
          "base_uri": "https://localhost:8080/"
        },
        "id": "aBeja2dT-QkS",
        "outputId": "a037c903-f0b5-4cb0-b7cd-adb0f334902f"
      },
      "execution_count": null,
      "outputs": [
        {
          "output_type": "execute_result",
          "data": {
            "text/plain": [
              "array([1, 1, 1, 1, 0, 0, 1, 0, 1, 0])"
            ]
          },
          "metadata": {},
          "execution_count": 71
        }
      ]
    },
    {
      "cell_type": "code",
      "source": [
        "y_preds[:10]"
      ],
      "metadata": {
        "colab": {
          "base_uri": "https://localhost:8080/"
        },
        "id": "FSxiJqgP-nRZ",
        "outputId": "1c552c7c-c9d0-4146-a514-1a502aae2db2"
      },
      "execution_count": null,
      "outputs": [
        {
          "output_type": "execute_result",
          "data": {
            "text/plain": [
              "array([[9.8526543e-01],\n",
              "       [9.9923790e-01],\n",
              "       [9.9032354e-01],\n",
              "       [9.9706942e-01],\n",
              "       [3.9623031e-01],\n",
              "       [1.8126901e-02],\n",
              "       [9.6829069e-01],\n",
              "       [1.9746734e-02],\n",
              "       [9.9967170e-01],\n",
              "       [5.6459213e-04]], dtype=float32)"
            ]
          },
          "metadata": {},
          "execution_count": 72
        }
      ]
    },
    {
      "cell_type": "markdown",
      "source": [
        "oops.. looks like our prdictions array has come out in **prediction probability** form... the standard output from the sigmoid (or softmax) activation functions. "
      ],
      "metadata": {
        "id": "dj9PkD2W-41V"
      }
    },
    {
      "cell_type": "code",
      "source": [
        "# Convert prediction probabilities to binary format and view the first 10\n",
        "tf.round(y_preds)[:10]"
      ],
      "metadata": {
        "colab": {
          "base_uri": "https://localhost:8080/"
        },
        "id": "CGKBYyNi-rUF",
        "outputId": "6f05c48e-93bf-4cd9-d580-d3833780d539"
      },
      "execution_count": null,
      "outputs": [
        {
          "output_type": "execute_result",
          "data": {
            "text/plain": [
              "<tf.Tensor: shape=(10, 1), dtype=float32, numpy=\n",
              "array([[1.],\n",
              "       [1.],\n",
              "       [1.],\n",
              "       [1.],\n",
              "       [0.],\n",
              "       [0.],\n",
              "       [1.],\n",
              "       [0.],\n",
              "       [1.],\n",
              "       [0.]], dtype=float32)>"
            ]
          },
          "metadata": {},
          "execution_count": 73
        }
      ]
    },
    {
      "cell_type": "code",
      "source": [
        "# create confusion matrix\n",
        "confusion_matrix(y_test, tf.round(y_preds))"
      ],
      "metadata": {
        "colab": {
          "base_uri": "https://localhost:8080/"
        },
        "id": "YBfYAlZQApOl",
        "outputId": "7dc708ba-ce88-4aa6-bb5a-7e7333497ad7"
      },
      "execution_count": null,
      "outputs": [
        {
          "output_type": "execute_result",
          "data": {
            "text/plain": [
              "array([[99,  2],\n",
              "       [ 0, 99]])"
            ]
          },
          "metadata": {},
          "execution_count": 74
        }
      ]
    },
    {
      "cell_type": "code",
      "source": [
        "# note: the confuison matrix code we're writing is a remix of scikit learn's plot_confusion_matrix\n",
        "\n",
        "import itertools\n",
        "\n",
        "# Note: The following confusion matrix code is a remix of Scikit-Learn's \n",
        "# plot_confusion_matrix function - https://scikit-learn.org/stable/modules/generated/sklearn.metrics.plot_confusion_matrix.html\n",
        "# and Made with ML's introductory notebook - https://github.com/GokuMohandas/MadeWithML/blob/main/notebooks/08_Neural_Networks.ipynb \n",
        "import itertools\n",
        "\n",
        "figsize = (10, 10)\n",
        "\n",
        "# Create the confusion matrix\n",
        "cm = confusion_matrix(y_test, tf.round(y_preds))\n",
        "cm_norm = cm.astype(\"float\") / cm.sum(axis=1)[:, np.newaxis] # normalize it\n",
        "n_classes = cm.shape[0]\n",
        "\n",
        "# Let's prettify it\n",
        "fig, ax = plt.subplots(figsize=figsize)\n",
        "# Create a matrix plot\n",
        "cax = ax.matshow(cm, cmap=plt.cm.Blues) # https://matplotlib.org/3.2.0/api/_as_gen/matplotlib.axes.Axes.matshow.html\n",
        "fig.colorbar(cax)\n",
        "\n",
        "# Create classes\n",
        "classes = False\n",
        "\n",
        "if classes:\n",
        "  labels = classes\n",
        "else:\n",
        "  labels = np.arange(cm.shape[0])\n",
        "\n",
        "# Label the axes\n",
        "ax.set(title=\"Confusion Matrix\",\n",
        "       xlabel=\"Predicted label\",\n",
        "       ylabel=\"True label\",\n",
        "       xticks=np.arange(n_classes),\n",
        "       yticks=np.arange(n_classes),\n",
        "       xticklabels=labels,\n",
        "       yticklabels=labels)\n",
        "\n",
        "# Set x-axis labels to bottom\n",
        "ax.xaxis.set_label_position(\"bottom\")\n",
        "ax.xaxis.tick_bottom()\n",
        "\n",
        "# Adjust label size\n",
        "ax.xaxis.label.set_size(20)\n",
        "ax.yaxis.label.set_size(20)\n",
        "ax.title.set_size(20)\n",
        "\n",
        "# Set threshold for different colors\n",
        "threshold = (cm.max() + cm.min()) / 2.\n",
        "\n",
        "# Plot the text on each cell\n",
        "for i, j in itertools.product(range(cm.shape[0]), range(cm.shape[1])):\n",
        "  plt.text(j, i, f\"{cm[i, j]} ({cm_norm[i, j]*100:.1f}%)\",\n",
        "           horizontalalignment=\"center\",\n",
        "           color=\"white\" if cm[i, j] > threshold else \"black\",\n",
        "           size=15)"
      ],
      "metadata": {
        "colab": {
          "base_uri": "https://localhost:8080/",
          "height": 580
        },
        "id": "d-3Ur6fMBJBq",
        "outputId": "4ecb16a4-1d23-4a2c-acdb-30c9b0d5376c"
      },
      "execution_count": null,
      "outputs": [
        {
          "output_type": "display_data",
          "data": {
            "text/plain": [
              "<Figure size 720x720 with 2 Axes>"
            ],
            "image/png": "[encoded data removed]"
          },
          "metadata": {
            "needs_background": "light"
          }
        }
      ]
    },
    {
      "cell_type": "code",
      "source": [],
      "metadata": {
        "id": "VE9CTgyJKtpA"
      },
      "execution_count": null,
      "outputs": []
    },
    {
      "cell_type": "markdown",
      "source": [
        "# Working with a larger example (multiclass classification)\n",
        "when you have more than two classes as an option,\n",
        "it's known as multiclass classifiacation\n",
        "\n",
        "To practice multi-class classification, we're going to build \n",
        "\n",
        "\n",
        "\n"
      ],
      "metadata": {
        "id": "OQTkgJL7Ku66"
      }
    },
    {
      "cell_type": "code",
      "source": [
        "import tensorflow as tf\n",
        "from tensorflow.keras.datasets import fashion_mnist\n",
        "\n",
        "# The data has already been sorted into training and test sets for us\n",
        "(train_data, train_labels), (test_data, test_labels) = fashion_mnist.load_data()"
      ],
      "metadata": {
        "colab": {
          "base_uri": "https://localhost:8080/"
        },
        "id": "q27DFg52dIZm",
        "outputId": "bac2f43b-f7d8-4e23-9a3e-871a48dc97c8"
      },
      "execution_count": null,
      "outputs": [
        {
          "output_type": "stream",
          "name": "stdout",
          "text": [
            "Downloading data from https://storage.googleapis.com/tensorflow/tf-keras-datasets/train-labels-idx1-ubyte.gz\n",
            "32768/29515 [=================================] - 0s 0us/step\n",
            "40960/29515 [=========================================] - 0s 0us/step\n",
            "Downloading data from https://storage.googleapis.com/tensorflow/tf-keras-datasets/train-images-idx3-ubyte.gz\n",
            "26427392/26421880 [==============================] - 0s 0us/step\n",
            "26435584/26421880 [==============================] - 0s 0us/step\n",
            "Downloading data from https://storage.googleapis.com/tensorflow/tf-keras-datasets/t10k-labels-idx1-ubyte.gz\n",
            "16384/5148 [===============================================================================================] - 0s 0us/step\n",
            "Downloading data from https://storage.googleapis.com/tensorflow/tf-keras-datasets/t10k-images-idx3-ubyte.gz\n",
            "4423680/4422102 [==============================] - 0s 0us/step\n",
            "4431872/4422102 [==============================] - 0s 0us/step\n"
          ]
        }
      ]
    },
    {
      "cell_type": "code",
      "source": [
        "# Show the first trianing example\n",
        "print(f\"Ttrainng sample:\\n{train_data[0]}\\n\")\n",
        "print(f\"training label:\\n{train_labels[0]}\")"
      ],
      "metadata": {
        "colab": {
          "base_uri": "https://localhost:8080/"
        },
        "id": "1JMlSBWQnGa5",
        "outputId": "08ec3d1c-a679-4209-e5ef-2457b9e4e5be"
      },
      "execution_count": null,
      "outputs": [
        {
          "output_type": "stream",
          "name": "stdout",
          "text": [
            "Ttrainng sample:\n",
            "[[  0   0   0   0   0   0   0   0   0   0   0   0   0   0   0   0   0   0\n",
            "    0   0   0   0   0   0   0   0   0   0]\n",
            " [  0   0   0   0   0   0   0   0   0   0   0   0   0   0   0   0   0   0\n",
            "    0   0   0   0   0   0   0   0   0   0]\n",
            " [  0   0   0   0   0   0   0   0   0   0   0   0   0   0   0   0   0   0\n",
            "    0   0   0   0   0   0   0   0   0   0]\n",
            " [  0   0   0   0   0   0   0   0   0   0   0   0   1   0   0  13  73   0\n",
            "    0   1   4   0   0   0   0   1   1   0]\n",
            " [  0   0   0   0   0   0   0   0   0   0   0   0   3   0  36 136 127  62\n",
            "   54   0   0   0   1   3   4   0   0   3]\n",
            " [  0   0   0   0   0   0   0   0   0   0   0   0   6   0 102 204 176 134\n",
            "  144 123  23   0   0   0   0  12  10   0]\n",
            " [  0   0   0   0   0   0   0   0   0   0   0   0   0   0 155 236 207 178\n",
            "  107 156 161 109  64  23  77 130  72  15]\n",
            " [  0   0   0   0   0   0   0   0   0   0   0   1   0  69 207 223 218 216\n",
            "  216 163 127 121 122 146 141  88 172  66]\n",
            " [  0   0   0   0   0   0   0   0   0   1   1   1   0 200 232 232 233 229\n",
            "  223 223 215 213 164 127 123 196 229   0]\n",
            " [  0   0   0   0   0   0   0   0   0   0   0   0   0 183 225 216 223 228\n",
            "  235 227 224 222 224 221 223 245 173   0]\n",
            " [  0   0   0   0   0   0   0   0   0   0   0   0   0 193 228 218 213 198\n",
            "  180 212 210 211 213 223 220 243 202   0]\n",
            " [  0   0   0   0   0   0   0   0   0   1   3   0  12 219 220 212 218 192\n",
            "  169 227 208 218 224 212 226 197 209  52]\n",
            " [  0   0   0   0   0   0   0   0   0   0   6   0  99 244 222 220 218 203\n",
            "  198 221 215 213 222 220 245 119 167  56]\n",
            " [  0   0   0   0   0   0   0   0   0   4   0   0  55 236 228 230 228 240\n",
            "  232 213 218 223 234 217 217 209  92   0]\n",
            " [  0   0   1   4   6   7   2   0   0   0   0   0 237 226 217 223 222 219\n",
            "  222 221 216 223 229 215 218 255  77   0]\n",
            " [  0   3   0   0   0   0   0   0   0  62 145 204 228 207 213 221 218 208\n",
            "  211 218 224 223 219 215 224 244 159   0]\n",
            " [  0   0   0   0  18  44  82 107 189 228 220 222 217 226 200 205 211 230\n",
            "  224 234 176 188 250 248 233 238 215   0]\n",
            " [  0  57 187 208 224 221 224 208 204 214 208 209 200 159 245 193 206 223\n",
            "  255 255 221 234 221 211 220 232 246   0]\n",
            " [  3 202 228 224 221 211 211 214 205 205 205 220 240  80 150 255 229 221\n",
            "  188 154 191 210 204 209 222 228 225   0]\n",
            " [ 98 233 198 210 222 229 229 234 249 220 194 215 217 241  65  73 106 117\n",
            "  168 219 221 215 217 223 223 224 229  29]\n",
            " [ 75 204 212 204 193 205 211 225 216 185 197 206 198 213 240 195 227 245\n",
            "  239 223 218 212 209 222 220 221 230  67]\n",
            " [ 48 203 183 194 213 197 185 190 194 192 202 214 219 221 220 236 225 216\n",
            "  199 206 186 181 177 172 181 205 206 115]\n",
            " [  0 122 219 193 179 171 183 196 204 210 213 207 211 210 200 196 194 191\n",
            "  195 191 198 192 176 156 167 177 210  92]\n",
            " [  0   0  74 189 212 191 175 172 175 181 185 188 189 188 193 198 204 209\n",
            "  210 210 211 188 188 194 192 216 170   0]\n",
            " [  2   0   0   0  66 200 222 237 239 242 246 243 244 221 220 193 191 179\n",
            "  182 182 181 176 166 168  99  58   0   0]\n",
            " [  0   0   0   0   0   0   0  40  61  44  72  41  35   0   0   0   0   0\n",
            "    0   0   0   0   0   0   0   0   0   0]\n",
            " [  0   0   0   0   0   0   0   0   0   0   0   0   0   0   0   0   0   0\n",
            "    0   0   0   0   0   0   0   0   0   0]\n",
            " [  0   0   0   0   0   0   0   0   0   0   0   0   0   0   0   0   0   0\n",
            "    0   0   0   0   0   0   0   0   0   0]]\n",
            "\n",
            "training label:\n",
            "9\n"
          ]
        }
      ]
    },
    {
      "cell_type": "code",
      "source": [
        "# Check the shape of a single example\n",
        "train_data[0].shape, train_labels[0].shape"
      ],
      "metadata": {
        "colab": {
          "base_uri": "https://localhost:8080/"
        },
        "id": "Ruqenz4Snkdq",
        "outputId": "b387e583-7d0c-4227-ec1b-fd7e509015bb"
      },
      "execution_count": null,
      "outputs": [
        {
          "output_type": "execute_result",
          "data": {
            "text/plain": [
              "((28, 28), ())"
            ]
          },
          "metadata": {},
          "execution_count": 78
        }
      ]
    },
    {
      "cell_type": "code",
      "source": [
        "# Plot a single sample\n",
        "import matplotlib.pyplot as plt\n",
        "plt.imshow(train_data[7])"
      ],
      "metadata": {
        "colab": {
          "base_uri": "https://localhost:8080/",
          "height": 283
        },
        "id": "gUecFpeYoRve",
        "outputId": "9f883e0c-9917-44dc-c966-e6db72a516e4"
      },
      "execution_count": null,
      "outputs": [
        {
          "output_type": "execute_result",
          "data": {
            "text/plain": [
              "<matplotlib.image.AxesImage at 0x7f0532115a90>"
            ]
          },
          "metadata": {},
          "execution_count": 79
        },
        {
          "output_type": "display_data",
          "data": {
            "text/plain": [
              "<Figure size 432x288 with 1 Axes>"
            ],
            "image/png": "[encoded data removed]"
          },
          "metadata": {
            "needs_background": "light"
          }
        }
      ]
    },
    {
      "cell_type": "code",
      "source": [
        "# Check out samples label\n",
        "train_labels[7]"
      ],
      "metadata": {
        "colab": {
          "base_uri": "https://localhost:8080/"
        },
        "id": "yLi5VyX-o-Xd",
        "outputId": "37984f02-27f8-4122-d73f-3bff9998deac"
      },
      "execution_count": null,
      "outputs": [
        {
          "output_type": "execute_result",
          "data": {
            "text/plain": [
              "2"
            ]
          },
          "metadata": {},
          "execution_count": 80
        }
      ]
    },
    {
      "cell_type": "code",
      "source": [
        "class_names = ['T-shirt/top', 'Trouser', 'Pullover', 'Dress', 'Coat', \n",
        "               'Sandal', 'Shirt', 'Sneaker', 'Bag', 'Ankle boot']\n",
        "\n",
        "# How many classes are there (this'll be our output shape)?\n",
        "len(class_names)"
      ],
      "metadata": {
        "id": "0qJhT8_GpN0Z",
        "colab": {
          "base_uri": "https://localhost:8080/"
        },
        "outputId": "926f12c8-446a-4b50-a979-c178a5ac550e"
      },
      "execution_count": null,
      "outputs": [
        {
          "output_type": "execute_result",
          "data": {
            "text/plain": [
              "10"
            ]
          },
          "metadata": {},
          "execution_count": 81
        }
      ]
    },
    {
      "cell_type": "code",
      "source": [
        "# Plot an example image and its label\n",
        "plt.imshow(train_data[17], cmap=plt.cm.binary)\n",
        "plt.title(class_names[train_labels[17]])"
      ],
      "metadata": {
        "colab": {
          "base_uri": "https://localhost:8080/",
          "height": 299
        },
        "id": "cGQPnr-NVcBu",
        "outputId": "824c9cb6-15f7-475e-ef5f-cc2765a42ff5"
      },
      "execution_count": null,
      "outputs": [
        {
          "output_type": "execute_result",
          "data": {
            "text/plain": [
              "Text(0.5, 1.0, 'T-shirt/top')"
            ]
          },
          "metadata": {},
          "execution_count": 82
        },
        {
          "output_type": "display_data",
          "data": {
            "text/plain": [
              "<Figure size 432x288 with 1 Axes>"
            ],
            "image/png": "[encoded data removed]"
          },
          "metadata": {
            "needs_background": "light"
          }
        }
      ]
    },
    {
      "cell_type": "code",
      "source": [
        "# Plot multiple random images of fashion MNIST\n",
        "import random\n",
        "plt.figure(figsize=(7,7))\n",
        "for i in range(4):\n",
        "  ax = plt.subplot(2, 2, i+1)\n",
        "  rand_index = random.choice(range(len(train_data)))\n",
        "  plt.imshow(train_data[rand_index], cmap=plt.cm.binary)\n",
        "  plt.title(class_names[train_labels[rand_index]])\n",
        "  plt.axis(False)"
      ],
      "metadata": {
        "colab": {
          "base_uri": "https://localhost:8080/",
          "height": 427
        },
        "id": "allrr6YsWLJc",
        "outputId": "defe7c3a-900b-4a87-830d-d2f291ebb442"
      },
      "execution_count": null,
      "outputs": [
        {
          "output_type": "display_data",
          "data": {
            "text/plain": [
              "<Figure size 504x504 with 4 Axes>"
            ],
            "image/png": "[encoded data removed]"
          },
          "metadata": {
            "needs_background": "light"
          }
        }
      ]
    },
    {
      "cell_type": "markdown",
      "source": [
        "## Building a multi-class classification model\n",
        "\n",
        "For our multi-class classification model, we can use a similar architecture to our binary classifiers, however, we're going to have to tweak a feew things\n",
        "* input shape = 28 X 28 (the shape of one image)\n",
        "* output shape = 10 (one per class of clothing)\n",
        "* loss function = tf.kera.losses.CategoricalCrossentropy()\n",
        "  * if your labels are one-hot encoded, use CategoricalCrossentropy. \n",
        "  * if the labels are in integer form, use SparseCategoricalCrossentropy\n",
        "\n",
        "* Output layer activation = Softmax (not sigmoid)"
      ],
      "metadata": {
        "id": "vDAfmUQJgT0J"
      }
    },
    {
      "cell_type": "code",
      "source": [
        "train_data[0].shape"
      ],
      "metadata": {
        "colab": {
          "base_uri": "https://localhost:8080/"
        },
        "id": "q6SqrhWuiY-z",
        "outputId": "2ed4d0a1-4af6-4e2d-f8ef-d8732dda066a"
      },
      "execution_count": null,
      "outputs": [
        {
          "output_type": "execute_result",
          "data": {
            "text/plain": [
              "(28, 28)"
            ]
          },
          "metadata": {},
          "execution_count": 84
        }
      ]
    },
    {
      "cell_type": "code",
      "source": [
        "len(class_names)"
      ],
      "metadata": {
        "colab": {
          "base_uri": "https://localhost:8080/"
        },
        "id": "mHQrWo9dkA1g",
        "outputId": "37e3b0b0-180c-41b6-8eb8-5f921d3d1432"
      },
      "execution_count": null,
      "outputs": [
        {
          "output_type": "execute_result",
          "data": {
            "text/plain": [
              "10"
            ]
          },
          "metadata": {},
          "execution_count": 85
        }
      ]
    },
    {
      "cell_type": "code",
      "source": [
        "# Set random seed\n",
        "tf.random.set_seed(42)\n",
        "\n",
        "# Create the model\n",
        "model_11 = tf.keras.Sequential([\n",
        "    tf.keras.layers.Flatten(input_shape=(28, 28)),\n",
        "    tf.keras.layers.Dense(4, activation=\"relu\"),\n",
        "    tf.keras.layers.Dense(4, activation=\"relu\"),\n",
        "    tf.keras.layers.Dense(10, activation=\"softmax\")\n",
        "])\n",
        "\n",
        "# Compile the model\n",
        "model_11.compile(loss=tf.keras.losses.SparseCategoricalCrossentropy(),\n",
        "                 optimizer=tf.keras.optimizers.Adam(),\n",
        "                 metrics=[\"accuracy\"])\n",
        "\n",
        "# Fit the model\n",
        "non_norm_history = model_11.fit(train_data,\n",
        "                                train_labels,\n",
        "                                epochs=10,\n",
        "                                validation_data=(test_data, test_labels))\n",
        "\n"
      ],
      "metadata": {
        "colab": {
          "base_uri": "https://localhost:8080/"
        },
        "id": "hRgJC8epkU9a",
        "outputId": "a20c7c30-f211-441f-a9d7-048002494687"
      },
      "execution_count": null,
      "outputs": [
        {
          "output_type": "stream",
          "name": "stdout",
          "text": [
            "Epoch 1/10\n",
            "1875/1875 [==============================] - 5s 3ms/step - loss: 2.1799 - accuracy: 0.1597 - val_loss: 1.8017 - val_accuracy: 0.2015\n",
            "Epoch 2/10\n",
            "1875/1875 [==============================] - 4s 2ms/step - loss: 1.7090 - accuracy: 0.2494 - val_loss: 1.6514 - val_accuracy: 0.2945\n",
            "Epoch 3/10\n",
            "1875/1875 [==============================] - 5s 2ms/step - loss: 1.6367 - accuracy: 0.2860 - val_loss: 1.6065 - val_accuracy: 0.2788\n",
            "Epoch 4/10\n",
            "1875/1875 [==============================] - 5s 2ms/step - loss: 1.6103 - accuracy: 0.2925 - val_loss: 1.6002 - val_accuracy: 0.3065\n",
            "Epoch 5/10\n",
            "1875/1875 [==============================] - 5s 3ms/step - loss: 1.5932 - accuracy: 0.3058 - val_loss: 1.5831 - val_accuracy: 0.3228\n",
            "Epoch 6/10\n",
            "1875/1875 [==============================] - 5s 2ms/step - loss: 1.5887 - accuracy: 0.3109 - val_loss: 1.5775 - val_accuracy: 0.2965\n",
            "Epoch 7/10\n",
            "1875/1875 [==============================] - 5s 3ms/step - loss: 1.5750 - accuracy: 0.3196 - val_loss: 1.5609 - val_accuracy: 0.3324\n",
            "Epoch 8/10\n",
            "1875/1875 [==============================] - 5s 2ms/step - loss: 1.5742 - accuracy: 0.3204 - val_loss: 1.5694 - val_accuracy: 0.3237\n",
            "Epoch 9/10\n",
            "1875/1875 [==============================] - 5s 2ms/step - loss: 1.5730 - accuracy: 0.3239 - val_loss: 1.5671 - val_accuracy: 0.3332\n",
            "Epoch 10/10\n",
            "1875/1875 [==============================] - 5s 2ms/step - loss: 1.5771 - accuracy: 0.3216 - val_loss: 1.5488 - val_accuracy: 0.3410\n"
          ]
        }
      ]
    },
    {
      "cell_type": "code",
      "source": [
        "# Out data needs to be flattened \n",
        "flatten_model = tf.keras.Sequential([\n",
        "    tf.keras.layers.Flatten(input_shape=(28, 28))\n",
        "])\n",
        "\n",
        "flatten_model.output_shape"
      ],
      "metadata": {
        "colab": {
          "base_uri": "https://localhost:8080/"
        },
        "id": "_8zgkIdgoi7Q",
        "outputId": "2608a6c9-edb9-4e64-8f92-a0ef23e6d19e"
      },
      "execution_count": null,
      "outputs": [
        {
          "output_type": "execute_result",
          "data": {
            "text/plain": [
              "(None, 784)"
            ]
          },
          "metadata": {},
          "execution_count": 87
        }
      ]
    },
    {
      "cell_type": "code",
      "source": [
        "28 * 28"
      ],
      "metadata": {
        "colab": {
          "base_uri": "https://localhost:8080/"
        },
        "id": "8T09Sy-lpVmH",
        "outputId": "97ae8a61-e8cc-49da-ef7a-891321175374"
      },
      "execution_count": null,
      "outputs": [
        {
          "output_type": "execute_result",
          "data": {
            "text/plain": [
              "784"
            ]
          },
          "metadata": {},
          "execution_count": 88
        }
      ]
    },
    {
      "cell_type": "code",
      "source": [
        "tf.one_hot(train_labels, depth = 10)"
      ],
      "metadata": {
        "colab": {
          "base_uri": "https://localhost:8080/"
        },
        "id": "GLEkVBmIpl8C",
        "outputId": "725d9fe4-3112-420e-838e-f226301426a9"
      },
      "execution_count": null,
      "outputs": [
        {
          "output_type": "execute_result",
          "data": {
            "text/plain": [
              "<tf.Tensor: shape=(60000, 10), dtype=float32, numpy=\n",
              "array([[0., 0., 0., ..., 0., 0., 1.],\n",
              "       [1., 0., 0., ..., 0., 0., 0.],\n",
              "       [1., 0., 0., ..., 0., 0., 0.],\n",
              "       ...,\n",
              "       [0., 0., 0., ..., 0., 0., 0.],\n",
              "       [1., 0., 0., ..., 0., 0., 0.],\n",
              "       [0., 0., 0., ..., 0., 0., 0.]], dtype=float32)>"
            ]
          },
          "metadata": {},
          "execution_count": 89
        }
      ]
    },
    {
      "cell_type": "code",
      "source": [
        "# we make fit same mode but with one hot encoding\n",
        "\n",
        "# ranodm seed\n",
        "tf.random.set_seed(42)\n",
        "\n",
        "# 1. Create model\n",
        "model_onehot = tf.keras.Sequential([\n",
        "    tf.keras.layers.Flatten(input_shape=(28, 28)),\n",
        "    tf.keras.layers.Dense(4, activation=\"relu\"),\n",
        "    tf.keras.layers.Dense(4, activation=\"relu\"),\n",
        "    tf.keras.layers.Dense(10, activation=tf.keras.activations.softmax)\n",
        "])\n",
        "\n",
        "# compile the model\n",
        "model_onehot.compile(loss=tf.keras.losses.CategoricalCrossentropy(),\n",
        "                     optimizer=tf.keras.optimizers.Adam(),\n",
        "                     metrics=[\"accuracy\"])\n",
        "\n",
        "fit_one_hot = model_onehot.fit(train_data,\n",
        "                           tf.one_hot(train_labels, depth=10),\n",
        "                           epochs=10,\n",
        "                           validation_data=(test_data, tf.one_hot(test_labels, depth=10)))\n",
        "\n"
      ],
      "metadata": {
        "colab": {
          "base_uri": "https://localhost:8080/"
        },
        "id": "mYU7BsKU3SVY",
        "outputId": "a230bf42-908b-4757-e553-d6040ec34a6e"
      },
      "execution_count": null,
      "outputs": [
        {
          "output_type": "stream",
          "name": "stdout",
          "text": [
            "Epoch 1/10\n",
            "1875/1875 [==============================] - 6s 3ms/step - loss: 2.1799 - accuracy: 0.1597 - val_loss: 1.8017 - val_accuracy: 0.2015\n",
            "Epoch 2/10\n",
            "1875/1875 [==============================] - 5s 3ms/step - loss: 1.7090 - accuracy: 0.2494 - val_loss: 1.6514 - val_accuracy: 0.2945\n",
            "Epoch 3/10\n",
            "1875/1875 [==============================] - 5s 3ms/step - loss: 1.6367 - accuracy: 0.2860 - val_loss: 1.6065 - val_accuracy: 0.2788\n",
            "Epoch 4/10\n",
            "1875/1875 [==============================] - 5s 3ms/step - loss: 1.6103 - accuracy: 0.2925 - val_loss: 1.6002 - val_accuracy: 0.3065\n",
            "Epoch 5/10\n",
            "1875/1875 [==============================] - 5s 3ms/step - loss: 1.5932 - accuracy: 0.3058 - val_loss: 1.5831 - val_accuracy: 0.3228\n",
            "Epoch 6/10\n",
            "1875/1875 [==============================] - 5s 3ms/step - loss: 1.5887 - accuracy: 0.3109 - val_loss: 1.5775 - val_accuracy: 0.2965\n",
            "Epoch 7/10\n",
            "1875/1875 [==============================] - 5s 3ms/step - loss: 1.5750 - accuracy: 0.3196 - val_loss: 1.5609 - val_accuracy: 0.3324\n",
            "Epoch 8/10\n",
            "1875/1875 [==============================] - 5s 3ms/step - loss: 1.5742 - accuracy: 0.3204 - val_loss: 1.5694 - val_accuracy: 0.3237\n",
            "Epoch 9/10\n",
            "1875/1875 [==============================] - 5s 3ms/step - loss: 1.5730 - accuracy: 0.3239 - val_loss: 1.5671 - val_accuracy: 0.3332\n",
            "Epoch 10/10\n",
            "1875/1875 [==============================] - 5s 2ms/step - loss: 1.5771 - accuracy: 0.3216 - val_loss: 1.5488 - val_accuracy: 0.3410\n"
          ]
        }
      ]
    },
    {
      "cell_type": "code",
      "source": [
        "# Check the model summary\n",
        "model_11.summary()"
      ],
      "metadata": {
        "colab": {
          "base_uri": "https://localhost:8080/"
        },
        "id": "q3pYWVUS6EPQ",
        "outputId": "0fd258fb-f391-4ca7-940f-7d963f8ce46a"
      },
      "execution_count": null,
      "outputs": [
        {
          "output_type": "stream",
          "name": "stdout",
          "text": [
            "Model: \"sequential_11\"\n",
            "_________________________________________________________________\n",
            " Layer (type)                Output Shape              Param #   \n",
            "=================================================================\n",
            " flatten (Flatten)           (None, 784)               0         \n",
            "                                                                 \n",
            " dense_26 (Dense)            (None, 4)                 3140      \n",
            "                                                                 \n",
            " dense_27 (Dense)            (None, 4)                 20        \n",
            "                                                                 \n",
            " dense_28 (Dense)            (None, 10)                50        \n",
            "                                                                 \n",
            "=================================================================\n",
            "Total params: 3,210\n",
            "Trainable params: 3,210\n",
            "Non-trainable params: 0\n",
            "_________________________________________________________________\n"
          ]
        }
      ]
    },
    {
      "cell_type": "code",
      "source": [
        "# Check the min and max of the trianilng data\n",
        "train_data.min(), train_data.max()"
      ],
      "metadata": {
        "colab": {
          "base_uri": "https://localhost:8080/"
        },
        "id": "yW0XLtKs-HEE",
        "outputId": "e5b10948-ef80-4742-83c4-fe9c7e12a762"
      },
      "execution_count": null,
      "outputs": [
        {
          "output_type": "execute_result",
          "data": {
            "text/plain": [
              "(0, 255)"
            ]
          },
          "metadata": {},
          "execution_count": 92
        }
      ]
    },
    {
      "cell_type": "markdown",
      "source": [
        "nerral networks prefer data to be scaled (or nomalized), this means they like to have the numbers in the tensors they try to find patterns between 0 and 1"
      ],
      "metadata": {
        "id": "Nwuj8WWUAAHp"
      }
    },
    {
      "cell_type": "code",
      "source": [
        "# We can get our training and testing data between 0 & 1 by dividing by the maximum \n",
        "\n",
        "train_data_norm = train_data / 255.0\n",
        "test_data_norm = test_data / 255.0\n",
        "\n",
        "# Check the min and max values of the scaled training data\n",
        "train_data_norm.min(), train_data_norm.max()"
      ],
      "metadata": {
        "colab": {
          "base_uri": "https://localhost:8080/"
        },
        "id": "dj7HN6M4Afwh",
        "outputId": "37c1aa10-ea75-4532-f619-2d8f38381543"
      },
      "execution_count": null,
      "outputs": [
        {
          "output_type": "execute_result",
          "data": {
            "text/plain": [
              "(0.0, 1.0)"
            ]
          },
          "metadata": {},
          "execution_count": 93
        }
      ]
    },
    {
      "cell_type": "code",
      "source": [
        "# Now our data is normalized, let's build a model to find patterns in it\n",
        "\n",
        "# set random seed\n",
        "tf.random.set_seed(42)\n",
        "\n",
        "# Create a model\n",
        "model_12 = tf.keras.Sequential([\n",
        "    tf.keras.layers.Flatten(input_shape=(28, 28)),\n",
        "    tf.keras.layers.Dense(4, activation=\"relu\"),\n",
        "    tf.keras.layers.Dense(4, activation=\"relu\"),\n",
        "    tf.keras.layers.Dense(10, activation=\"softmax\")\n",
        "])\n",
        "\n",
        "# Compile model\n",
        "model_12.compile(loss=tf.keras.losses.SparseCategoricalCrossentropy(),\n",
        "                 optimizer=tf.keras.optimizers.Adam(),\n",
        "                 metrics=[\"accuracy\"])\n",
        "\n",
        "# Fit the model\n",
        "norm_history = model_12.fit(train_data_norm,\n",
        "                            train_labels,\n",
        "                            epochs=10,\n",
        "                            validation_data=(test_data_norm, test_labels))"
      ],
      "metadata": {
        "colab": {
          "base_uri": "https://localhost:8080/"
        },
        "id": "xKMpwYBBBC86",
        "outputId": "1b88a597-35f3-4db1-a771-25d7430c611a"
      },
      "execution_count": null,
      "outputs": [
        {
          "output_type": "stream",
          "name": "stdout",
          "text": [
            "Epoch 1/10\n",
            "1875/1875 [==============================] - 6s 3ms/step - loss: 1.0348 - accuracy: 0.6474 - val_loss: 0.6937 - val_accuracy: 0.7617\n",
            "Epoch 2/10\n",
            "1875/1875 [==============================] - 5s 3ms/step - loss: 0.6376 - accuracy: 0.7757 - val_loss: 0.6400 - val_accuracy: 0.7820\n",
            "Epoch 3/10\n",
            "1875/1875 [==============================] - 5s 3ms/step - loss: 0.5942 - accuracy: 0.7914 - val_loss: 0.6247 - val_accuracy: 0.7783\n",
            "Epoch 4/10\n",
            "1875/1875 [==============================] - 5s 2ms/step - loss: 0.5750 - accuracy: 0.7979 - val_loss: 0.6078 - val_accuracy: 0.7881\n",
            "Epoch 5/10\n",
            "1875/1875 [==============================] - 5s 2ms/step - loss: 0.5641 - accuracy: 0.8006 - val_loss: 0.6169 - val_accuracy: 0.7881\n",
            "Epoch 6/10\n",
            "1875/1875 [==============================] - 5s 3ms/step - loss: 0.5544 - accuracy: 0.8043 - val_loss: 0.5855 - val_accuracy: 0.7951\n",
            "Epoch 7/10\n",
            "1875/1875 [==============================] - 5s 2ms/step - loss: 0.5488 - accuracy: 0.8063 - val_loss: 0.6097 - val_accuracy: 0.7836\n",
            "Epoch 8/10\n",
            "1875/1875 [==============================] - 5s 2ms/step - loss: 0.5428 - accuracy: 0.8077 - val_loss: 0.5787 - val_accuracy: 0.7971\n",
            "Epoch 9/10\n",
            "1875/1875 [==============================] - 4s 2ms/step - loss: 0.5373 - accuracy: 0.8097 - val_loss: 0.5698 - val_accuracy: 0.7977\n",
            "Epoch 10/10\n",
            "1875/1875 [==============================] - 5s 3ms/step - loss: 0.5360 - accuracy: 0.8124 - val_loss: 0.5658 - val_accuracy: 0.8014\n"
          ]
        }
      ]
    },
    {
      "cell_type": "markdown",
      "source": [
        "**note** Neural networks tend to prefer data in numerical form as well as scaled/normalized (numbers between 0 & 1).\n"
      ],
      "metadata": {
        "id": "Y6ysx0OVBqqG"
      }
    },
    {
      "cell_type": "code",
      "source": [
        "import pandas as pd\n",
        "# plot non-normalized data loss curve\n",
        "pd.DataFrame(non_norm_history.history).plot(title=\"Non-normalized data\")\n",
        "# plot normalized data loss curves\n",
        "pd.DataFrame(norm_history.history).plot(title=\"Normalized data\")"
      ],
      "metadata": {
        "colab": {
          "base_uri": "https://localhost:8080/",
          "height": 563
        },
        "id": "nEQZTeIAZhe1",
        "outputId": "187dd4b3-c737-4443-b184-bc18853b7bff"
      },
      "execution_count": null,
      "outputs": [
        {
          "output_type": "execute_result",
          "data": {
            "text/plain": [
              "<matplotlib.axes._subplots.AxesSubplot at 0x7f053546a850>"
            ]
          },
          "metadata": {},
          "execution_count": 95
        },
        {
          "output_type": "display_data",
          "data": {
            "text/plain": [
              "<Figure size 432x288 with 1 Axes>"
            ],
            "image/png": "[encoded data removed]"
          },
          "metadata": {
            "needs_background": "light"
          }
        },
        {
          "output_type": "display_data",
          "data": {
            "text/plain": [
              "<Figure size 432x288 with 1 Axes>"
            ],
            "image/png": "[encoded data removed]"
          },
          "metadata": {
            "needs_background": "light"
          }
        }
      ]
    },
    {
      "cell_type": "markdown",
      "source": [
        "**Note:** The same model with even *slightly* different data can produce *dramatically* different results.\n",
        "So when you're comparing them on the same criteria (e.g. same architecture but different data or same data but different architecture)."
      ],
      "metadata": {
        "id": "u4CKKZGtcp7D"
      }
    },
    {
      "cell_type": "markdown",
      "source": [
        "# Finding the ideal learning rate"
      ],
      "metadata": {
        "id": "5o2habtOfHXD"
      }
    },
    {
      "cell_type": "code",
      "source": [
        "import tensorflow as tf\n",
        "\n",
        "# set random seed\n",
        "tf.random.set_seed(42)\n",
        "\n",
        "# Create model\n",
        "model_13 = tf.keras.Sequential([\n",
        "    tf.keras.layers.Flatten(input_shape=(28, 28)),\n",
        "    tf.keras.layers.Dense(4, activation=\"relu\"),\n",
        "    tf.keras.layers.Dense(4, activation=\"relu\"),\n",
        "    tf.keras.layers.Dense(10, activation=\"softmax\")\n",
        "])\n",
        "\n",
        "# compile model\n",
        "model_13.compile(loss=tf.keras.losses.SparseCategoricalCrossentropy(),\n",
        "                 optimizer=tf.keras.optimizers.Adam(),\n",
        "                 metrics=[\"accuracy\"])\n",
        "\n",
        "# Create the learning rate callback\n",
        "lr_scheduler = tf.keras.callbacks.LearningRateScheduler(lambda epoch: 1e-3 * 10**(epoch/20))\n",
        "\n",
        "\n",
        "\n",
        "# Fit the model\n",
        "\n",
        "find_lr_history = model_13.fit(train_data_norm,\n",
        "                               train_labels,\n",
        "                               epochs=40,\n",
        "                               validation_data=(test_data_norm, test_labels),\n",
        "                               callbacks=[lr_scheduler])\n",
        "\n",
        "######"
      ],
      "metadata": {
        "colab": {
          "base_uri": "https://localhost:8080/"
        },
        "id": "C3go8oWCfLqk",
        "outputId": "c51514bd-58f3-493b-f2bd-898bd53f4573"
      },
      "execution_count": null,
      "outputs": [
        {
          "output_type": "stream",
          "name": "stdout",
          "text": [
            "Epoch 1/40\n",
            "1875/1875 [==============================] - 5s 3ms/step - loss: 1.0348 - accuracy: 0.6474 - val_loss: 0.6937 - val_accuracy: 0.7617 - lr: 0.0010\n",
            "Epoch 2/40\n",
            "1875/1875 [==============================] - 5s 2ms/step - loss: 0.6366 - accuracy: 0.7759 - val_loss: 0.6400 - val_accuracy: 0.7808 - lr: 0.0011\n",
            "Epoch 3/40\n",
            "1875/1875 [==============================] - 5s 2ms/step - loss: 0.5934 - accuracy: 0.7911 - val_loss: 0.6278 - val_accuracy: 0.7770 - lr: 0.0013\n",
            "Epoch 4/40\n",
            "1875/1875 [==============================] - 5s 3ms/step - loss: 0.5749 - accuracy: 0.7969 - val_loss: 0.6122 - val_accuracy: 0.7871 - lr: 0.0014\n",
            "Epoch 5/40\n",
            "1875/1875 [==============================] - 5s 2ms/step - loss: 0.5655 - accuracy: 0.7987 - val_loss: 0.6061 - val_accuracy: 0.7913 - lr: 0.0016\n",
            "Epoch 6/40\n",
            "1875/1875 [==============================] - 5s 2ms/step - loss: 0.5569 - accuracy: 0.8022 - val_loss: 0.5917 - val_accuracy: 0.7940 - lr: 0.0018\n",
            "Epoch 7/40\n",
            "1875/1875 [==============================] - 5s 3ms/step - loss: 0.5542 - accuracy: 0.8036 - val_loss: 0.5898 - val_accuracy: 0.7896 - lr: 0.0020\n",
            "Epoch 8/40\n",
            "1875/1875 [==============================] - 5s 2ms/step - loss: 0.5509 - accuracy: 0.8039 - val_loss: 0.5829 - val_accuracy: 0.7949 - lr: 0.0022\n",
            "Epoch 9/40\n",
            "1875/1875 [==============================] - 5s 2ms/step - loss: 0.5468 - accuracy: 0.8047 - val_loss: 0.6036 - val_accuracy: 0.7833 - lr: 0.0025\n",
            "Epoch 10/40\n",
            "1875/1875 [==============================] - 5s 3ms/step - loss: 0.5478 - accuracy: 0.8058 - val_loss: 0.5736 - val_accuracy: 0.7974 - lr: 0.0028\n",
            "Epoch 11/40\n",
            "1875/1875 [==============================] - 5s 3ms/step - loss: 0.5446 - accuracy: 0.8059 - val_loss: 0.5672 - val_accuracy: 0.8016 - lr: 0.0032\n",
            "Epoch 12/40\n",
            "1875/1875 [==============================] - 5s 2ms/step - loss: 0.5432 - accuracy: 0.8067 - val_loss: 0.5773 - val_accuracy: 0.7950 - lr: 0.0035\n",
            "Epoch 13/40\n",
            "1875/1875 [==============================] - 5s 2ms/step - loss: 0.5425 - accuracy: 0.8056 - val_loss: 0.5775 - val_accuracy: 0.7992 - lr: 0.0040\n",
            "Epoch 14/40\n",
            "1875/1875 [==============================] - 5s 2ms/step - loss: 0.5407 - accuracy: 0.8078 - val_loss: 0.5616 - val_accuracy: 0.8075 - lr: 0.0045\n",
            "Epoch 15/40\n",
            "1875/1875 [==============================] - 5s 2ms/step - loss: 0.5408 - accuracy: 0.8052 - val_loss: 0.5773 - val_accuracy: 0.8039 - lr: 0.0050\n",
            "Epoch 16/40\n",
            "1875/1875 [==============================] - 4s 2ms/step - loss: 0.5437 - accuracy: 0.8058 - val_loss: 0.5682 - val_accuracy: 0.8015 - lr: 0.0056\n",
            "Epoch 17/40\n",
            "1875/1875 [==============================] - 5s 2ms/step - loss: 0.5419 - accuracy: 0.8075 - val_loss: 0.5995 - val_accuracy: 0.7964 - lr: 0.0063\n",
            "Epoch 18/40\n",
            "1875/1875 [==============================] - 5s 2ms/step - loss: 0.5488 - accuracy: 0.8058 - val_loss: 0.5544 - val_accuracy: 0.8087 - lr: 0.0071\n",
            "Epoch 19/40\n",
            "1875/1875 [==============================] - 5s 3ms/step - loss: 0.5506 - accuracy: 0.8042 - val_loss: 0.6068 - val_accuracy: 0.7864 - lr: 0.0079\n",
            "Epoch 20/40\n",
            "1875/1875 [==============================] - 5s 3ms/step - loss: 0.5538 - accuracy: 0.8030 - val_loss: 0.5600 - val_accuracy: 0.8078 - lr: 0.0089\n",
            "Epoch 21/40\n",
            "1875/1875 [==============================] - 5s 2ms/step - loss: 0.5573 - accuracy: 0.8038 - val_loss: 0.5947 - val_accuracy: 0.7956 - lr: 0.0100\n",
            "Epoch 22/40\n",
            "1875/1875 [==============================] - 5s 2ms/step - loss: 0.5610 - accuracy: 0.8015 - val_loss: 0.5861 - val_accuracy: 0.7987 - lr: 0.0112\n",
            "Epoch 23/40\n",
            "1875/1875 [==============================] - 5s 2ms/step - loss: 0.5679 - accuracy: 0.8013 - val_loss: 0.6484 - val_accuracy: 0.7629 - lr: 0.0126\n",
            "Epoch 24/40\n",
            "1875/1875 [==============================] - 5s 2ms/step - loss: 0.5822 - accuracy: 0.7968 - val_loss: 0.6164 - val_accuracy: 0.7906 - lr: 0.0141\n",
            "Epoch 25/40\n",
            "1875/1875 [==============================] - 5s 3ms/step - loss: 0.5828 - accuracy: 0.7970 - val_loss: 0.6388 - val_accuracy: 0.7896 - lr: 0.0158\n",
            "Epoch 26/40\n",
            "1875/1875 [==============================] - 5s 2ms/step - loss: 0.5951 - accuracy: 0.7910 - val_loss: 0.6893 - val_accuracy: 0.7840 - lr: 0.0178\n",
            "Epoch 27/40\n",
            "1875/1875 [==============================] - 5s 2ms/step - loss: 0.6106 - accuracy: 0.7868 - val_loss: 0.6083 - val_accuracy: 0.7937 - lr: 0.0200\n",
            "Epoch 28/40\n",
            "1875/1875 [==============================] - 5s 2ms/step - loss: 0.6172 - accuracy: 0.7832 - val_loss: 0.6712 - val_accuracy: 0.7752 - lr: 0.0224\n",
            "Epoch 29/40\n",
            "1875/1875 [==============================] - 5s 3ms/step - loss: 0.6359 - accuracy: 0.7769 - val_loss: 0.6390 - val_accuracy: 0.7747 - lr: 0.0251\n",
            "Epoch 30/40\n",
            "1875/1875 [==============================] - 5s 3ms/step - loss: 0.6706 - accuracy: 0.7640 - val_loss: 0.7163 - val_accuracy: 0.7426 - lr: 0.0282\n",
            "Epoch 31/40\n",
            "1875/1875 [==============================] - 5s 3ms/step - loss: 0.6760 - accuracy: 0.7624 - val_loss: 0.6990 - val_accuracy: 0.7511 - lr: 0.0316\n",
            "Epoch 32/40\n",
            "1875/1875 [==============================] - 8s 4ms/step - loss: 0.6958 - accuracy: 0.7570 - val_loss: 0.8507 - val_accuracy: 0.7445 - lr: 0.0355\n",
            "Epoch 33/40\n",
            "1875/1875 [==============================] - 8s 4ms/step - loss: 0.7451 - accuracy: 0.7440 - val_loss: 0.7338 - val_accuracy: 0.7702 - lr: 0.0398\n",
            "Epoch 34/40\n",
            "1875/1875 [==============================] - 7s 4ms/step - loss: 0.8003 - accuracy: 0.7309 - val_loss: 0.9720 - val_accuracy: 0.6930 - lr: 0.0447\n",
            "Epoch 35/40\n",
            "1875/1875 [==============================] - 8s 4ms/step - loss: 0.8384 - accuracy: 0.7172 - val_loss: 0.7855 - val_accuracy: 0.7382 - lr: 0.0501\n",
            "Epoch 36/40\n",
            "1875/1875 [==============================] - 7s 3ms/step - loss: 0.8645 - accuracy: 0.7035 - val_loss: 0.8460 - val_accuracy: 0.7220 - lr: 0.0562\n",
            "Epoch 37/40\n",
            "1875/1875 [==============================] - 7s 4ms/step - loss: 0.9906 - accuracy: 0.6479 - val_loss: 0.8949 - val_accuracy: 0.6781 - lr: 0.0631\n",
            "Epoch 38/40\n",
            "1875/1875 [==============================] - 8s 4ms/step - loss: 0.9911 - accuracy: 0.6539 - val_loss: 1.5149 - val_accuracy: 0.5900 - lr: 0.0708\n",
            "Epoch 39/40\n",
            "1875/1875 [==============================] - 6s 3ms/step - loss: 1.1111 - accuracy: 0.5771 - val_loss: 1.2362 - val_accuracy: 0.5226 - lr: 0.0794\n",
            "Epoch 40/40\n",
            "1875/1875 [==============================] - 5s 2ms/step - loss: 1.2413 - accuracy: 0.5120 - val_loss: 1.0875 - val_accuracy: 0.5862 - lr: 0.0891\n"
          ]
        }
      ]
    },
    {
      "cell_type": "code",
      "source": [
        "# Plot the learning rate decay curvve\n",
        "import numpy as np\n",
        "import matplotlib.pyplot as plt\n",
        "lrs = 1e-3 * (10**(tf.range(40)/20))\n",
        "plt.semilogx(lrs, find_lr_history.history[\"loss\"])\n",
        "plt.xlabel(\"Learning rate\")\n",
        "plt.ylabel(\"loss\")\n",
        "plt.title(\"Findind the ideal learning rate\")\n"
      ],
      "metadata": {
        "colab": {
          "base_uri": "https://localhost:8080/",
          "height": 317
        },
        "id": "6JXJUiR_ozY8",
        "outputId": "cc54d619-3380-4da3-f103-51fa7e4285f6"
      },
      "execution_count": null,
      "outputs": [
        {
          "output_type": "execute_result",
          "data": {
            "text/plain": [
              "Text(0.5, 1.0, 'Findind the ideal learning rate')"
            ]
          },
          "metadata": {},
          "execution_count": 97
        },
        {
          "output_type": "display_data",
          "data": {
            "text/plain": [
              "<Figure size 432x288 with 1 Axes>"
            ],
            "image/png": "[encoded data removed]"
          },
          "metadata": {
            "needs_background": "light"
          }
        }
      ]
    },
    {
      "cell_type": "code",
      "source": [
        "# Plot the learning rate decay curve\n",
        "import numpy as np\n",
        "import matplotlib.pyplot as plt\n",
        "lrs = 1e-3 * (10**(np.arange(40)/20))\n",
        "plt.semilogx(lrs, find_lr_history.history[\"loss\"]) # want the x-axis to be log-scale\n",
        "plt.xlabel(\"Learning rate\")\n",
        "plt.ylabel(\"Loss\")\n",
        "plt.title(\"Finding the ideal learning rate\");"
      ],
      "metadata": {
        "colab": {
          "base_uri": "https://localhost:8080/",
          "height": 299
        },
        "id": "rIc0DIcV1zJd",
        "outputId": "e38767a0-bc9a-45ec-ce8d-5f12dda8d4fa"
      },
      "execution_count": null,
      "outputs": [
        {
          "output_type": "display_data",
          "data": {
            "text/plain": [
              "<Figure size 432x288 with 1 Axes>"
            ],
            "image/png": "[encoded data removed]"
          },
          "metadata": {
            "needs_background": "light"
          }
        }
      ]
    },
    {
      "cell_type": "code",
      "source": [
        "10**-3"
      ],
      "metadata": {
        "colab": {
          "base_uri": "https://localhost:8080/"
        },
        "id": "2YYFcMxhLTe5",
        "outputId": "85be7868-6d27-480d-fed4-bd66d3ad3f72"
      },
      "execution_count": null,
      "outputs": [
        {
          "output_type": "execute_result",
          "data": {
            "text/plain": [
              "0.001"
            ]
          },
          "metadata": {},
          "execution_count": 99
        }
      ]
    },
    {
      "cell_type": "code",
      "source": [
        "# Let's refit a model with ideal learning rate\n",
        "\n",
        "# Set ranodm seed\n",
        "tf.random.set_seed(42)\n",
        "\n",
        "# create a model\n",
        "model_14 = tf.keras.Sequential([\n",
        "    tf.keras.layers.Flatten(input_shape=(28, 28)),\n",
        "    tf.keras.layers.Dense(4, activation=\"relu\"),\n",
        "    tf.keras.layers.Dense(4, activation=\"relu\"),\n",
        "    tf.keras.layers.Dense(10, activation=\"softmax\")\n",
        "])\n",
        "\n",
        "# compile the mode\n",
        "model_14.compile(loss=tf.keras.losses.SparseCategoricalCrossentropy(),\n",
        "                  optimizer=tf.keras.optimizers.Adam(lr=0.001),\n",
        "                  metrics=[\"accuracy\"])\n",
        "\n",
        "# Fit the model\n",
        "history_14 = model_14.fit(train_data_norm,\n",
        "                          train_labels,\n",
        "                          epochs=20,\n",
        "                          validation_data=(test_data_norm, test_labels)) "
      ],
      "metadata": {
        "colab": {
          "base_uri": "https://localhost:8080/"
        },
        "id": "Ar0I8dVcNMRb",
        "outputId": "1a2ca5ce-4a16-4419-96f6-365e054443ba"
      },
      "execution_count": null,
      "outputs": [
        {
          "output_type": "stream",
          "name": "stderr",
          "text": [
            "/usr/local/lib/python3.7/dist-packages/keras/optimizer_v2/adam.py:105: UserWarning: The `lr` argument is deprecated, use `learning_rate` instead.\n",
            "  super(Adam, self).__init__(name, **kwargs)\n"
          ]
        },
        {
          "output_type": "stream",
          "name": "stdout",
          "text": [
            "Epoch 1/20\n",
            "1875/1875 [==============================] - 6s 3ms/step - loss: 1.0348 - accuracy: 0.6474 - val_loss: 0.6937 - val_accuracy: 0.7617\n",
            "Epoch 2/20\n",
            "1875/1875 [==============================] - 5s 2ms/step - loss: 0.6376 - accuracy: 0.7757 - val_loss: 0.6400 - val_accuracy: 0.7820\n",
            "Epoch 3/20\n",
            "1875/1875 [==============================] - 5s 2ms/step - loss: 0.5942 - accuracy: 0.7914 - val_loss: 0.6247 - val_accuracy: 0.7783\n",
            "Epoch 4/20\n",
            "1875/1875 [==============================] - 5s 2ms/step - loss: 0.5750 - accuracy: 0.7979 - val_loss: 0.6078 - val_accuracy: 0.7881\n",
            "Epoch 5/20\n",
            "1875/1875 [==============================] - 5s 3ms/step - loss: 0.5641 - accuracy: 0.8006 - val_loss: 0.6169 - val_accuracy: 0.7881\n",
            "Epoch 6/20\n",
            "1875/1875 [==============================] - 5s 3ms/step - loss: 0.5544 - accuracy: 0.8043 - val_loss: 0.5855 - val_accuracy: 0.7951\n",
            "Epoch 7/20\n",
            "1875/1875 [==============================] - 5s 2ms/step - loss: 0.5488 - accuracy: 0.8063 - val_loss: 0.6097 - val_accuracy: 0.7836\n",
            "Epoch 8/20\n",
            "1875/1875 [==============================] - 5s 2ms/step - loss: 0.5428 - accuracy: 0.8077 - val_loss: 0.5787 - val_accuracy: 0.7971\n",
            "Epoch 9/20\n",
            "1875/1875 [==============================] - 5s 2ms/step - loss: 0.5373 - accuracy: 0.8097 - val_loss: 0.5698 - val_accuracy: 0.7977\n",
            "Epoch 10/20\n",
            "1875/1875 [==============================] - 5s 2ms/step - loss: 0.5360 - accuracy: 0.8124 - val_loss: 0.5658 - val_accuracy: 0.8014\n",
            "Epoch 11/20\n",
            "1875/1875 [==============================] - 5s 2ms/step - loss: 0.5311 - accuracy: 0.8130 - val_loss: 0.5714 - val_accuracy: 0.8002\n",
            "Epoch 12/20\n",
            "1875/1875 [==============================] - 5s 2ms/step - loss: 0.5284 - accuracy: 0.8132 - val_loss: 0.5626 - val_accuracy: 0.8027\n",
            "Epoch 13/20\n",
            "1875/1875 [==============================] - 5s 2ms/step - loss: 0.5271 - accuracy: 0.8138 - val_loss: 0.5619 - val_accuracy: 0.8041\n",
            "Epoch 14/20\n",
            "1875/1875 [==============================] - 5s 2ms/step - loss: 0.5249 - accuracy: 0.8143 - val_loss: 0.5718 - val_accuracy: 0.7991\n",
            "Epoch 15/20\n",
            "1875/1875 [==============================] - 5s 3ms/step - loss: 0.5231 - accuracy: 0.8148 - val_loss: 0.5706 - val_accuracy: 0.8024\n",
            "Epoch 16/20\n",
            "1875/1875 [==============================] - 4s 2ms/step - loss: 0.5203 - accuracy: 0.8162 - val_loss: 0.5731 - val_accuracy: 0.8023\n",
            "Epoch 17/20\n",
            "1875/1875 [==============================] - 5s 2ms/step - loss: 0.5191 - accuracy: 0.8176 - val_loss: 0.5594 - val_accuracy: 0.8030\n",
            "Epoch 18/20\n",
            "1875/1875 [==============================] - 5s 2ms/step - loss: 0.5176 - accuracy: 0.8157 - val_loss: 0.5582 - val_accuracy: 0.8053\n",
            "Epoch 19/20\n",
            "1875/1875 [==============================] - 6s 3ms/step - loss: 0.5156 - accuracy: 0.8169 - val_loss: 0.5644 - val_accuracy: 0.8007\n",
            "Epoch 20/20\n",
            "1875/1875 [==============================] - 5s 2ms/step - loss: 0.5146 - accuracy: 0.8177 - val_loss: 0.5660 - val_accuracy: 0.8075\n"
          ]
        }
      ]
    },
    {
      "cell_type": "markdown",
      "source": [
        "# Evaluating our multiclass classificationn model\n",
        "\n",
        "To evaluate our multi-class classification model we could:\n",
        "\n",
        "* Evaluate it performance using other classification metrics (such as a confusion metrinccs)\n",
        "* Asses some of its predictions (through visialization)\n",
        "* Improve its results (by training it for longer or changing the archintecture)\n",
        "* Save and export it for use in an application\n",
        "\n",
        "Let's go through the top 2...\n"
      ],
      "metadata": {
        "id": "SPngl7eMO18O"
      }
    },
    {
      "cell_type": "code",
      "source": [
        "# Create a confusion metrics\n",
        "\n",
        "import itertools\n",
        "from sklearn.metrics import confusion_matrix\n",
        "\n",
        "\n",
        "def make_confusion_matrix(y_true, y_pred, classes=None, figsize=(10, 10), text_size=15):\n",
        "\n",
        "\n",
        "  # Create the confusion matrix\n",
        "  cm = confusion_matrix(y_true, y_preds)\n",
        "  cm_norm = cm.astype(\"float\") / cm.sum(axis=1)[:, np.newaxis] # normalize it\n",
        "  n_classes = cm.shape[0]\n",
        "\n",
        "  # Let's prettify it\n",
        "  fig, ax = plt.subplots(figsize=figsize)\n",
        "  # Create a matrix plot\n",
        "  cax = ax.matshow(cm, cmap=plt.cm.Blues) # https://matplotlib.org/3.2.0/api/_as_gen/matplotlib.axes.Axes.matshow.html\n",
        "  fig.colorbar(cax)\n",
        "\n",
        "\n",
        "  # Set labels to be claseses\n",
        "  if classes:\n",
        "    labels = classes\n",
        "  else:\n",
        "    labels = np.arange(cm.shape[0])\n",
        "\n",
        "  # Label the axes\n",
        "  ax.set(title=\"Confusion Matrix\",\n",
        "        xlabel=\"Predicted label\",\n",
        "        ylabel=\"True label\",\n",
        "        xticks=np.arange(n_classes),\n",
        "        yticks=np.arange(n_classes),\n",
        "        xticklabels=labels,\n",
        "        yticklabels=labels)\n",
        "\n",
        "  # Set x-axis labels to bottom\n",
        "  ax.xaxis.set_label_position(\"bottom\")\n",
        "  ax.xaxis.tick_bottom()\n",
        "\n",
        "  # Adjust label size\n",
        "  ax.xaxis.label.set_size(text_size)\n",
        "  ax.yaxis.label.set_size(text_size)\n",
        "  ax.title.set_size(text_size)\n",
        "\n",
        "  # Set threshold for different colors\n",
        "  threshold = (cm.max() + cm.min()) / 2.\n",
        "\n",
        "  # Plot the text on each cell\n",
        "  for i, j in itertools.product(range(cm.shape[0]), range(cm.shape[1])):\n",
        "    plt.text(j, i, f\"{cm[i, j]} ({cm_norm[i, j]*100:.1f}%)\",\n",
        "            horizontalalignment=\"center\",\n",
        "            color=\"white\" if cm[i, j] > threshold else \"black\",\n",
        "            size=text_size)"
      ],
      "metadata": {
        "id": "eKpstbChV1z4"
      },
      "execution_count": null,
      "outputs": []
    },
    {
      "cell_type": "code",
      "source": [
        "class_names"
      ],
      "metadata": {
        "id": "AwV-CMrjXvxw",
        "colab": {
          "base_uri": "https://localhost:8080/"
        },
        "outputId": "fb30b70a-bf05-44a8-ae9b-244cd05559eb"
      },
      "execution_count": null,
      "outputs": [
        {
          "output_type": "execute_result",
          "data": {
            "text/plain": [
              "['T-shirt/top',\n",
              " 'Trouser',\n",
              " 'Pullover',\n",
              " 'Dress',\n",
              " 'Coat',\n",
              " 'Sandal',\n",
              " 'Shirt',\n",
              " 'Sneaker',\n",
              " 'Bag',\n",
              " 'Ankle boot']"
            ]
          },
          "metadata": {},
          "execution_count": 102
        }
      ]
    },
    {
      "cell_type": "code",
      "source": [
        "# Make some predoctopjms with our model\n",
        "y_probs = model_14.predict(test_data_norm)\n",
        "\n",
        "# View the firsst predcitons\n",
        "y_probs[:5]"
      ],
      "metadata": {
        "id": "IbaQCjP0X1YW",
        "colab": {
          "base_uri": "https://localhost:8080/"
        },
        "outputId": "9243888c-08d2-4903-b33d-e3e98a701946"
      },
      "execution_count": null,
      "outputs": [
        {
          "output_type": "execute_result",
          "data": {
            "text/plain": [
              "array([[8.5630038e-11, 3.5361923e-13, 2.6633796e-05, 4.6356057e-08,\n",
              "        5.0949642e-05, 9.6118979e-02, 8.1778097e-08, 9.1868639e-02,\n",
              "        4.0605105e-03, 8.0787414e-01],\n",
              "       [3.4278555e-06, 1.2899412e-16, 9.5989150e-01, 2.0516218e-07,\n",
              "        1.5329195e-02, 2.4532527e-13, 2.4142891e-02, 1.1383710e-28,\n",
              "        6.3271867e-04, 4.4789640e-08],\n",
              "       [6.1063060e-05, 9.9657673e-01, 4.3867310e-08, 3.3405882e-03,\n",
              "        1.3249612e-05, 1.4383545e-21, 8.2791003e-06, 7.3238853e-18,\n",
              "        5.4811920e-08, 4.9225709e-14],\n",
              "       [7.5031370e-05, 9.9053699e-01, 4.2528902e-07, 9.2231650e-03,\n",
              "        1.3623273e-04, 1.8276510e-18, 2.6808373e-05, 4.8125292e-14,\n",
              "        1.4521634e-06, 2.2211717e-11],\n",
              "       [7.2189897e-02, 1.5495709e-06, 2.5566906e-01, 1.0363110e-02,\n",
              "        4.3541320e-02, 1.1069409e-13, 6.1693019e-01, 6.7544158e-23,\n",
              "        1.3049176e-03, 1.2140382e-09]], dtype=float32)"
            ]
          },
          "metadata": {},
          "execution_count": 103
        }
      ]
    },
    {
      "cell_type": "markdown",
      "source": [
        "**Note** remember to make predictions on the same kind of data the model was trained on"
      ],
      "metadata": {
        "id": "_vTQzc2IX8JW"
      }
    },
    {
      "cell_type": "code",
      "source": [
        "y_probs"
      ],
      "metadata": {
        "colab": {
          "base_uri": "https://localhost:8080/"
        },
        "id": "XHB7yiwrcQ8E",
        "outputId": "7ea9f0f1-22db-40c8-b303-2cf07d525155"
      },
      "execution_count": null,
      "outputs": [
        {
          "output_type": "execute_result",
          "data": {
            "text/plain": [
              "array([[8.5630038e-11, 3.5361923e-13, 2.6633796e-05, ..., 9.1868639e-02,\n",
              "        4.0605105e-03, 8.0787414e-01],\n",
              "       [3.4278555e-06, 1.2899412e-16, 9.5989150e-01, ..., 1.1383710e-28,\n",
              "        6.3271867e-04, 4.4789640e-08],\n",
              "       [6.1063060e-05, 9.9657673e-01, 4.3867310e-08, ..., 7.3238853e-18,\n",
              "        5.4811920e-08, 4.9225709e-14],\n",
              "       ...,\n",
              "       [7.8579471e-02, 2.2294847e-05, 1.4033382e-01, ..., 2.9534183e-20,\n",
              "        1.1197245e-01, 4.7600044e-09],\n",
              "       [3.3110868e-05, 9.9301320e-01, 2.3392292e-07, ..., 9.3986522e-15,\n",
              "        8.1592469e-07, 1.2158882e-11],\n",
              "       [7.9816104e-08, 7.7579027e-10, 1.6470609e-04, ..., 4.3826353e-02,\n",
              "        1.5162523e-03, 3.9120510e-02]], dtype=float32)"
            ]
          },
          "metadata": {},
          "execution_count": 104
        }
      ]
    },
    {
      "cell_type": "code",
      "source": [
        "y_probs[0], tf.argmax(y_probs[0]), class_names[tf.argmax(y_probs[0])]"
      ],
      "metadata": {
        "id": "Mu9F6f10Y_Dg",
        "colab": {
          "base_uri": "https://localhost:8080/"
        },
        "outputId": "751cfb11-3317-4b10-dca3-d8289fdb9835"
      },
      "execution_count": null,
      "outputs": [
        {
          "output_type": "execute_result",
          "data": {
            "text/plain": [
              "(array([8.5630038e-11, 3.5361923e-13, 2.6633796e-05, 4.6356057e-08,\n",
              "        5.0949642e-05, 9.6118979e-02, 8.1778097e-08, 9.1868639e-02,\n",
              "        4.0605105e-03, 8.0787414e-01], dtype=float32),\n",
              " <tf.Tensor: shape=(), dtype=int64, numpy=9>,\n",
              " 'Ankle boot')"
            ]
          },
          "metadata": {},
          "execution_count": 105
        }
      ]
    },
    {
      "cell_type": "code",
      "source": [
        "y_preds = y_probs.argmax(axis=1)"
      ],
      "metadata": {
        "id": "M25yCmpyZEBe"
      },
      "execution_count": null,
      "outputs": []
    },
    {
      "cell_type": "code",
      "source": [
        "y_preds[:10]"
      ],
      "metadata": {
        "id": "dPuy4pqnxUWB",
        "colab": {
          "base_uri": "https://localhost:8080/"
        },
        "outputId": "dd4471c8-1aff-4c29-ec56-2a0af30e194e"
      },
      "execution_count": null,
      "outputs": [
        {
          "output_type": "execute_result",
          "data": {
            "text/plain": [
              "array([9, 2, 1, 1, 6, 1, 4, 6, 5, 7])"
            ]
          },
          "metadata": {},
          "execution_count": 107
        }
      ]
    },
    {
      "cell_type": "code",
      "source": [
        "test_labels"
      ],
      "metadata": {
        "id": "0Zd7MUetxVct",
        "colab": {
          "base_uri": "https://localhost:8080/"
        },
        "outputId": "1134cddc-4ad8-460c-a1c4-7a8f6452d393"
      },
      "execution_count": null,
      "outputs": [
        {
          "output_type": "execute_result",
          "data": {
            "text/plain": [
              "array([9, 2, 1, ..., 8, 1, 5], dtype=uint8)"
            ]
          },
          "metadata": {},
          "execution_count": 108
        }
      ]
    },
    {
      "cell_type": "code",
      "source": [
        "from sklearn.metrics import confusion_matrix\n",
        "confusion_matrix(y_true=test_labels,\n",
        "                 y_pred=y_preds)"
      ],
      "metadata": {
        "colab": {
          "base_uri": "https://localhost:8080/"
        },
        "id": "XfZVG7-T63rs",
        "outputId": "b3bd6706-efa1-40a0-e607-9ee6e3689988"
      },
      "execution_count": null,
      "outputs": [
        {
          "output_type": "execute_result",
          "data": {
            "text/plain": [
              "array([[696,   8,  25,  87,   9,   5, 160,   0,  10,   0],\n",
              "       [  2, 939,   2,  35,   9,   0,  13,   0,   0,   0],\n",
              "       [ 19,   2, 656,  10, 188,   0, 110,   0,  15,   0],\n",
              "       [ 39,  10,  10, 819,  55,   0,  47,   1,  19,   0],\n",
              "       [  0,   0,  95,  23, 800,   0,  73,   0,   7,   2],\n",
              "       [  0,   0,   1,   0,   0, 894,   0,  60,   7,  38],\n",
              "       [106,   4, 158,  57, 159,   1, 499,   0,  16,   0],\n",
              "       [  0,   0,   0,   0,   0,  31,   0, 936,   0,  33],\n",
              "       [  4,   1,  38,  15,   8,  12,   9,   5, 906,   2],\n",
              "       [  0,   0,   1,   0,   2,  15,   0,  51,   1, 930]])"
            ]
          },
          "metadata": {},
          "execution_count": 109
        }
      ]
    },
    {
      "cell_type": "code",
      "source": [
        "# make a good confusion matrix\n",
        "make_confusion_matrix(y_true=test_labels_norm,\n",
        "                      y_pred=y_preds,\n",
        "                      classes=class_names,\n",
        "                      figsize=(15, 15),\n",
        "                      text_size=10)"
      ],
      "metadata": {
        "id": "Ac3hYpN1bSe-",
        "colab": {
          "base_uri": "https://localhost:8080/",
          "height": 722
        },
        "outputId": "365deef0-d29b-4a0a-af1f-f48b3621c8d0"
      },
      "execution_count": null,
      "outputs": [
        {
          "output_type": "display_data",
          "data": {
            "text/plain": [
              "<Figure size 1080x1080 with 2 Axes>"
            ],
            "image/png": "[encoded data removed]"
          },
          "metadata": {
            "needs_background": "light"
          }
        }
      ]
    },
    {
      "cell_type": "markdown",
      "source": [
        "**Note** often when working with images and other format of visual data, it's good idea to visualize as much as possible to develop a further understanting of the data and inputs and outputs of the model\n",
        "\n",
        "How about we create a fun little function for:\n",
        "* Plot a random image\n",
        "* Make a prediction on said image\n",
        "* Label the plot with the truth label & the predicted label"
      ],
      "metadata": {
        "id": "zip0HwAidz97"
      }
    },
    {
      "cell_type": "code",
      "source": [
        "import random\n",
        "def plot_random_image(model, images, true_labels, classes):\n",
        "  \"\"\"\n",
        "  Picks a random iamge, plots it and labels it with a predction and truth label,\n",
        "  \"\"\"\n",
        "  # set up random integer\n",
        "  i = random.randint(0, len(images))\n",
        "\n",
        "  # Create predcitons and targers\n",
        "  target_image = images[i]\n",
        "  pred_probs = model.predict(target_image.reshape(1, 28, 28))\n",
        "  pred_label = classes[pred_probs.argmax()]\n",
        "  true_label = classes[true_labels[i]]\n",
        "\n",
        "  # Plot the image\n",
        "  plt.imshow(target_image, cmap=plt.cm.binary)\n",
        "\n",
        "  # Change the colot of the titles depending on if the prediction is right or wrong\n",
        "  if pred_label == true_label:\n",
        "    color = \"green\"\n",
        "  else:\n",
        "    color = \"red\"\n",
        "  \n",
        "  # Add xlabel information (proediction/true label)\n",
        "  plt.xlabel(\"Pred: {} {:2.0f}% (True: {})\".format(pred_label,\n",
        "                                                   100*tf.reduce_max(pred_probs),\n",
        "                                                   true_label),\n",
        "             color=color)\n"
      ],
      "metadata": {
        "id": "7YEfH00ti3mR"
      },
      "execution_count": null,
      "outputs": []
    },
    {
      "cell_type": "code",
      "source": [
        "# Check out a random iamge as well as its preidction\n",
        "plot_random_image(model=model_14,\n",
        "                  images=test_data,\n",
        "                  true_labels=test_labels,\n",
        "                  classes=class_names)"
      ],
      "metadata": {
        "colab": {
          "base_uri": "https://localhost:8080/",
          "height": 279
        },
        "id": "ldPcR0uZlkFg",
        "outputId": "6465e57f-6e5d-4dfd-f3f1-1c886bdb5ed9"
      },
      "execution_count": null,
      "outputs": [
        {
          "output_type": "display_data",
          "data": {
            "text/plain": [
              "<Figure size 432x288 with 1 Axes>"
            ],
            "image/png": "[encoded data removed]"
          },
          "metadata": {
            "needs_background": "light"
          }
        }
      ]
    },
    {
      "cell_type": "markdown",
      "source": [
        "# What patterns is our model learning?\n"
      ],
      "metadata": {
        "id": "gBF00ShJriXQ"
      }
    },
    {
      "cell_type": "code",
      "source": [
        "# find the layers of our most recent model\n",
        "model_14.layers"
      ],
      "metadata": {
        "colab": {
          "base_uri": "https://localhost:8080/"
        },
        "id": "VZWW7i_jrosq",
        "outputId": "ec38b8d2-d763-4bfa-8aed-95bef8368358"
      },
      "execution_count": null,
      "outputs": [
        {
          "output_type": "execute_result",
          "data": {
            "text/plain": [
              "[<keras.layers.core.flatten.Flatten at 0x7f053518f290>,\n",
              " <keras.layers.core.dense.Dense at 0x7f0534faa190>,\n",
              " <keras.layers.core.dense.Dense at 0x7f0534faa890>,\n",
              " <keras.layers.core.dense.Dense at 0x7f0534faaf90>]"
            ]
          },
          "metadata": {},
          "execution_count": 120
        }
      ]
    },
    {
      "cell_type": "code",
      "source": [
        "model_14.layers[1]"
      ],
      "metadata": {
        "colab": {
          "base_uri": "https://localhost:8080/"
        },
        "id": "2MybT2tgskFy",
        "outputId": "efb0232e-de85-4336-f89f-7665eb81e458"
      },
      "execution_count": null,
      "outputs": [
        {
          "output_type": "execute_result",
          "data": {
            "text/plain": [
              "<keras.layers.core.dense.Dense at 0x7f0534faa190>"
            ]
          },
          "metadata": {},
          "execution_count": 122
        }
      ]
    },
    {
      "cell_type": "code",
      "source": [
        "# Get the patterns of a layer in our network\n",
        "weights, biases = model_14.layers[1].get_weights()\n",
        "\n",
        "# shapes\n",
        "weights, weights.shape"
      ],
      "metadata": {
        "colab": {
          "base_uri": "https://localhost:8080/"
        },
        "id": "UwWAGRC-soOa",
        "outputId": "edefd052-178c-42a6-e39e-c605e65455c1"
      },
      "execution_count": null,
      "outputs": [
        {
          "output_type": "execute_result",
          "data": {
            "text/plain": [
              "(array([[ 0.715027  , -0.06077112, -0.9976308 , -1.0484312 ],\n",
              "        [ 0.27732143, -0.4715541 , -0.5291646 ,  0.02329262],\n",
              "        [ 0.7752432 ,  0.5402756 , -1.128857  , -0.7426152 ],\n",
              "        ...,\n",
              "        [-0.39453375,  0.47628623, -0.22641547,  0.25505966],\n",
              "        [-0.40515727,  0.6181007 ,  0.23928417, -0.503876  ],\n",
              "        [ 0.23884544,  0.11606897, -0.1213136 ,  0.04352434]],\n",
              "       dtype=float32), (784, 4))"
            ]
          },
          "metadata": {},
          "execution_count": 124
        }
      ]
    },
    {
      "cell_type": "markdown",
      "source": [
        "Now let's check out the bias vector\n",
        "\n"
      ],
      "metadata": {
        "id": "SUoTbXkPs6Bu"
      }
    },
    {
      "cell_type": "code",
      "source": [
        "# Bias and biases shapes\n",
        "biases, biases.shape"
      ],
      "metadata": {
        "colab": {
          "base_uri": "https://localhost:8080/"
        },
        "id": "G5v_LUQuxhuA",
        "outputId": "05d0c15b-cbc4-437c-c8aa-6847c63b63c3"
      },
      "execution_count": null,
      "outputs": [
        {
          "output_type": "execute_result",
          "data": {
            "text/plain": [
              "(array([ 2.4485679e-02, -6.1455613e-04, -2.7230152e-01,  8.1124908e-01],\n",
              "       dtype=float32), (4,))"
            ]
          },
          "metadata": {},
          "execution_count": 125
        }
      ]
    },
    {
      "cell_type": "markdown",
      "source": [
        "Every neuron has bia vector. Each of these is paired with a weights matrix.\n",
        "\n",
        "the bias vector gets initialized as zeros (atleast in the case of a TEnsorflow Dense layer)\n",
        "\n",
        "The bias vector dictates how much the patterns within the corresponding weights matrix should influence the next layer"
      ],
      "metadata": {
        "id": "X63Ke7XIxpMK"
      }
    },
    {
      "cell_type": "code",
      "source": [
        "model_14.summary()"
      ],
      "metadata": {
        "colab": {
          "base_uri": "https://localhost:8080/"
        },
        "id": "CLe174gIyBs6",
        "outputId": "1a5af74b-1197-48d2-e22e-a1b913c8bae4"
      },
      "execution_count": null,
      "outputs": [
        {
          "output_type": "stream",
          "name": "stdout",
          "text": [
            "Model: \"sequential_16\"\n",
            "_________________________________________________________________\n",
            " Layer (type)                Output Shape              Param #   \n",
            "=================================================================\n",
            " flatten_5 (Flatten)         (None, 784)               0         \n",
            "                                                                 \n",
            " dense_38 (Dense)            (None, 4)                 3140      \n",
            "                                                                 \n",
            " dense_39 (Dense)            (None, 4)                 20        \n",
            "                                                                 \n",
            " dense_40 (Dense)            (None, 10)                50        \n",
            "                                                                 \n",
            "=================================================================\n",
            "Total params: 3,210\n",
            "Trainable params: 3,210\n",
            "Non-trainable params: 0\n",
            "_________________________________________________________________\n"
          ]
        }
      ]
    },
    {
      "cell_type": "code",
      "source": [
        "# Let's check out another way of viewing our deep learning model\n",
        "from tensorflow.keras.utils import plot_model\n",
        "# See the inputs and outputs of each layer\n",
        "plot_model(model_14, show_shapes=True)"
      ],
      "metadata": {
        "colab": {
          "base_uri": "https://localhost:8080/",
          "height": 533
        },
        "id": "MGlMEjA4z_Hc",
        "outputId": "00cae9ae-4727-41c7-8c05-c586016f989a"
      },
      "execution_count": null,
      "outputs": [
        {
          "output_type": "execute_result",
          "data": {
            "image/png": "[encoded data removed]",
            "text/plain": [
              "<IPython.core.display.Image object>"
            ]
          },
          "metadata": {},
          "execution_count": 128
        }
      ]
    },
    {
      "cell_type": "code",
      "source": [],
      "metadata": {
        "id": "Xx99Vw2s1Rjs"
      },
      "execution_count": null,
      "outputs": []
    }
  ]
}