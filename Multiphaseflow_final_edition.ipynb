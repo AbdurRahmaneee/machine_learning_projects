{
  "nbformat": 4,
  "nbformat_minor": 0,
  "metadata": {
    "colab": {
      "provenance": [],
      "mount_file_id": "1gF7u3THIRfoOQmJlTxOpBvFTxOFeTjxH",
      "authorship_tag": "ABX9TyMgjjbOdVjft7cMnH2Hfomo",
      "include_colab_link": true
    },
    "kernelspec": {
      "name": "python3",
      "display_name": "Python 3"
    },
    "language_info": {
      "name": "python"
    },
    "accelerator": "GPU",
    "gpuClass": "standard"
  },
  "cells": [
    {
      "cell_type": "markdown",
      "metadata": {
        "id": "view-in-github",
        "colab_type": "text"
      },
      "source": [
        "<a href=\"https://colab.research.google.com/github/AbdurRahmaneee/machine_learning_projects/blob/main/Multiphaseflow_final_edition.ipynb\" target=\"_parent\"><img src=\"https://colab.research.google.com/assets/colab-badge.svg\" alt=\"Open In Colab\"/></a>"
      ]
    },
    {
      "cell_type": "code",
      "execution_count": null,
      "metadata": {
        "id": "G9EglbIKvUCy"
      },
      "outputs": [],
      "source": [
        "# Extacting data \n",
        "import numpy as np\n",
        "import zipfile\n",
        "\n",
        "# Unzip the downloaded file\n",
        "zip_ref = zipfile.ZipFile(\"/content/drive/MyDrive/Multiphase_project/dataset_2.zip\")\n",
        "zip_ref.extractall()\n",
        "zip_ref.close()"
      ]
    },
    {
      "cell_type": "code",
      "source": [
        "# How many images in each folder?\n",
        "import os\n",
        "\n",
        "# Walk through 10 percent data directory and list number of files\n",
        "for dirpath, dirnames, filenames in os.walk(\"dataset_2\"):\n",
        "  print(f\"There are {len(dirnames)} directories and {len(filenames)} images in '{dirpath}'.\")"
      ],
      "metadata": {
        "colab": {
          "base_uri": "https://localhost:8080/"
        },
        "id": "8d5XjfA2v76w",
        "outputId": "3543c459-17bf-4c58-b044-5021e76dcd47"
      },
      "execution_count": null,
      "outputs": [
        {
          "output_type": "stream",
          "name": "stdout",
          "text": [
            "There are 2 directories and 0 images in 'dataset_2'.\n",
            "There are 5 directories and 0 images in 'dataset_2/train'.\n",
            "There are 0 directories and 6 images in 'dataset_2/train/slug'.\n",
            "There are 0 directories and 7 images in 'dataset_2/train/wavy'.\n",
            "There are 0 directories and 7 images in 'dataset_2/train/stratified'.\n",
            "There are 0 directories and 7 images in 'dataset_2/train/annular'.\n",
            "There are 0 directories and 5 images in 'dataset_2/train/plug'.\n",
            "There are 5 directories and 0 images in 'dataset_2/test'.\n",
            "There are 0 directories and 2 images in 'dataset_2/test/slug'.\n",
            "There are 0 directories and 11 images in 'dataset_2/test/wavy'.\n",
            "There are 0 directories and 9 images in 'dataset_2/test/stratified'.\n",
            "There are 0 directories and 7 images in 'dataset_2/test/annular'.\n",
            "There are 0 directories and 1 images in 'dataset_2/test/plug'.\n"
          ]
        }
      ]
    },
    {
      "cell_type": "code",
      "source": [
        "# Create training and test directory paths\n",
        "train_dir_2 = \"dataset_2/train\"\n",
        "test_dir_2 = \"dataset_2/test\""
      ],
      "metadata": {
        "id": "i54na1fswObS"
      },
      "execution_count": null,
      "outputs": []
    },
    {
      "cell_type": "code",
      "source": [
        "# Setup data inputs\n",
        "import tensorflow as tf\n",
        "IMG_SIZE = (224, 224)\n",
        "train_data_4 = tf.keras.utils.image_dataset_from_directory(train_dir_2,\n",
        "                                                         label_mode=\"categorical\",\n",
        "                                                        image_size=IMG_SIZE,\n",
        "                                                         batch_size=2)\n",
        "test_data_4 = tf.keras.utils.image_dataset_from_directory(test_dir_2,\n",
        "                                                        label_mode=\"categorical\",\n",
        "                                                        image_size=IMG_SIZE,\n",
        "                                                        shuffle=False,\n",
        "                                                        batch_size=2)"
      ],
      "metadata": {
        "colab": {
          "base_uri": "https://localhost:8080/"
        },
        "id": "KP_1867kwUuo",
        "outputId": "21bb94b1-79c3-4b07-fedb-cc49230e5d09"
      },
      "execution_count": null,
      "outputs": [
        {
          "output_type": "stream",
          "name": "stdout",
          "text": [
            "Found 32 files belonging to 5 classes.\n",
            "Found 30 files belonging to 5 classes.\n"
          ]
        }
      ]
    },
    {
      "cell_type": "code",
      "source": [
        "class_names = test_data_4.class_names\n",
        "class_names"
      ],
      "metadata": {
        "colab": {
          "base_uri": "https://localhost:8080/",
          "height": 183
        },
        "id": "9bC9v3jewfhm",
        "outputId": "7c9f9305-407e-4a25-8c87-90031e8d30a2"
      },
      "execution_count": null,
      "outputs": [
        {
          "output_type": "error",
          "ename": "NameError",
          "evalue": "ignored",
          "traceback": [
            "\u001b[0;31m---------------------------------------------------------------------------\u001b[0m",
            "\u001b[0;31mNameError\u001b[0m                                 Traceback (most recent call last)",
            "\u001b[0;32m<ipython-input-7-e068471cb92a>\u001b[0m in \u001b[0;36m<module>\u001b[0;34m\u001b[0m\n\u001b[0;32m----> 1\u001b[0;31m \u001b[0mclass_names\u001b[0m \u001b[0;34m=\u001b[0m \u001b[0mtest_data_4\u001b[0m\u001b[0;34m.\u001b[0m\u001b[0mclass_names\u001b[0m\u001b[0;34m\u001b[0m\u001b[0;34m\u001b[0m\u001b[0m\n\u001b[0m\u001b[1;32m      2\u001b[0m \u001b[0mclass_names\u001b[0m\u001b[0;34m\u001b[0m\u001b[0;34m\u001b[0m\u001b[0m\n",
            "\u001b[0;31mNameError\u001b[0m: name 'test_data_4' is not defined"
          ]
        }
      ]
    },
    {
      "cell_type": "code",
      "source": [
        "# Create early stopping callback\n",
        "early_stopping = tf.keras.callbacks.EarlyStopping(monitor=\"val_accuracy\",\n",
        "                                                  patience=5)"
      ],
      "metadata": {
        "id": "B2yxcsV8xnEh"
      },
      "execution_count": null,
      "outputs": []
    },
    {
      "cell_type": "code",
      "source": [
        "# Creating data augmentation layer\n",
        "from tensorflow.keras import layers\n",
        "from tensorflow.keras.layers.experimental import preprocessing\n",
        "from tensorflow.keras.models import Sequential\n",
        "\n",
        "# Setup data augmentation\n",
        "data_augmentation = Sequential([\n",
        "    preprocessing.RandomFlip(\"horizontal\"),\n",
        "    preprocessing.RandomRotation(0.2),\n",
        "    #preprocessing.RandomCrop(244, 244, 42),\n",
        "    #preprocessing.RandomHeight(0.2), \n",
        "    #preprocessing.RandomWidth(0.2), \n",
        "    preprocessing.RandomZoom(0.2),\n",
        "    # preprocessing.Rescalling(1/255.)\n",
        "    preprocessing.RandomContrast(0.2)\n",
        "    #preprocessing.RandomTranslation(height_factor=(-0.1, +0.1), width_factor=(-0.1, +0.1), fill_mode=\"nearest\", interpolation=\"nearest\", seed= 42)\n",
        "], name =\"data_augmentation\")"
      ],
      "metadata": {
        "id": "BWr6Ugxrxx8O"
      },
      "execution_count": null,
      "outputs": []
    },
    {
      "cell_type": "code",
      "source": [
        "# Function to plot loss cureves\n",
        "import matplotlib.pyplot as plt\n",
        "\n",
        "# Plot the validation and training curves\n",
        "def plot_loss_curves(history):\n",
        "  \"\"\"\n",
        "  Returns seperate loss curves for training and validation metrics.\n",
        "\n",
        "  Args:\n",
        "    history: Tensorflow History object.\n",
        "  \n",
        "  Returns:\n",
        "    Plot of training/validation loss and accuracy metrics\n",
        "  \"\"\"\n",
        "  loss = history.history[\"loss\"]\n",
        "  val_loss = history.history[\"val_loss\"]\n",
        "\n",
        "  accuracy = history.history[\"accuracy\"]\n",
        "  val_accuracy= history.history[\"val_accuracy\"]\n",
        "\n",
        "  epochs = range(len(history.history[\"loss\"]))\n",
        "\n",
        "  # Plot loss\n",
        "  plt.plot(epochs, loss, label=\"training_loss\")\n",
        "  plt.plot(epochs, val_loss, label=\"val_loss\")\n",
        "  plt.title(\"Loss\")\n",
        "  plt.xlabel(\"Epochs\")\n",
        "  plt.legend()\n",
        "\n",
        "  # Plot accuracy\n",
        "  plt.figure()\n",
        "  plt.plot(epochs, accuracy, label=\"training_accuracy\")\n",
        "  plt.plot(epochs, val_accuracy, label=\"val_accuracy\")\n",
        "  plt.title(\"Accuracy\")\n",
        "  plt.xlabel(\"Epochs\")\n",
        "  plt.legend()"
      ],
      "metadata": {
        "id": "smDcgAEux4A4"
      },
      "execution_count": null,
      "outputs": []
    },
    {
      "cell_type": "code",
      "source": [
        "# Create a confusion metrics\n",
        "\n",
        "import itertools\n",
        "from sklearn.metrics import confusion_matrix\n",
        "\n",
        "\n",
        "def make_confusion_matrix(y_true, y_pred, classes=None, figsize=(10, 10), text_size=15):\n",
        "\n",
        "\n",
        "  # Create the confusion matrix\n",
        "  cm = confusion_matrix(y_true, y_preds)\n",
        "  cm_norm = cm.astype(\"float\") / cm.sum(axis=1)[:, np.newaxis]\n",
        "  n_classes = cm.shape[0]\n",
        "\n",
        "  # Let's prettify it\n",
        "  fig, ax = plt.subplots(figsize=figsize)\n",
        "  # Create a matrix plot\n",
        "  cax = ax.matshow(cm, cmap=plt.cm.Blues) \n",
        "  fig.colorbar(cax)\n",
        "\n",
        "\n",
        "  # Set labels to be claseses\n",
        "  if classes:\n",
        "    labels = classes\n",
        "  else:\n",
        "    labels = np.arange(cm.shape[0])\n",
        "\n",
        "  # Label the axes\n",
        "  ax.set(title=\"Confusion Matrix\",\n",
        "        xlabel=\"Predicted label\",\n",
        "        ylabel=\"True label\",\n",
        "        xticks=np.arange(n_classes),\n",
        "        yticks=np.arange(n_classes),\n",
        "        xticklabels=labels,\n",
        "        yticklabels=labels)\n",
        "\n",
        "  # Set x-axis labels to bottom\n",
        "  ax.xaxis.set_label_position(\"bottom\")\n",
        "  ax.xaxis.tick_bottom()\n",
        "\n",
        "  # Adjust label size\n",
        "  ax.xaxis.label.set_size(text_size)\n",
        "  ax.yaxis.label.set_size(text_size)\n",
        "  ax.title.set_size(text_size)\n",
        "\n",
        "  # Set threshold for different colors\n",
        "  threshold = (cm.max() + cm.min()) / 2.\n",
        "\n",
        "  # Plot the text on each cell\n",
        "  for i, j in itertools.product(range(cm.shape[0]), range(cm.shape[1])):\n",
        "    plt.text(j, i, f\"{cm[i, j]} ({cm_norm[i, j]*100:.1f}%)\",\n",
        "            horizontalalignment=\"center\",\n",
        "            color=\"white\" if cm[i, j] > threshold else \"black\",\n",
        "            size=text_size)"
      ],
      "metadata": {
        "id": "iquODln0ySjT"
      },
      "execution_count": null,
      "outputs": []
    },
    {
      "cell_type": "code",
      "source": [
        "# Let's try EfficientNetB2\n",
        "# Setup the base model\n",
        "base_model_22 = tf.keras.applications.EfficientNetB2(include_top=False)\n",
        "base_model_22.trainable = False\n",
        "\n",
        "# Setup model architecture with trainable top layers\n",
        "inputs = layers.Input(shape=(224, 224, 3), name=\"input_layer\")\n",
        "x = data_augmentation(inputs) \n",
        "x = base_model_22(x, training=False) \n",
        "x = layers.GlobalAveragePooling2D(name=\"global_avg_pool_layer\")(x)\n",
        "outputs = layers.Dense(5, activation=\"softmax\", name=\"output_layer\")(x)\n",
        "model_22 = tf.keras.Model(inputs, outputs)\n",
        "\n",
        "# Compile\n",
        "model_22.compile(loss=\"categorical_crossentropy\",\n",
        "              optimizer=tf.optimizers.Adam(),\n",
        "              metrics=[\"accuracy\"])\n",
        "\n",
        "# Fit\n",
        "history_model_22 = model_22.fit(train_data_4,\n",
        "                               epochs=100,\n",
        "                               validation_data=test_data_4,\n",
        "                               validation_steps=len(test_data_4),\n",
        "                               callbacks=[early_stopping])"
      ],
      "metadata": {
        "colab": {
          "base_uri": "https://localhost:8080/"
        },
        "id": "JYCycx9Jyggd",
        "outputId": "c361572c-32dd-4d8a-b7cc-930bfba71e03"
      },
      "execution_count": null,
      "outputs": [
        {
          "output_type": "stream",
          "name": "stdout",
          "text": [
            "Downloading data from https://storage.googleapis.com/keras-applications/efficientnetb2_notop.h5\n",
            "31790344/31790344 [==============================] - 0s 0us/step\n",
            "Epoch 1/100\n"
          ]
        },
        {
          "output_type": "stream",
          "name": "stderr",
          "text": [
            "WARNING:tensorflow:Using a while_loop for converting RngReadAndSkip\n",
            "WARNING:tensorflow:Using a while_loop for converting Bitcast\n",
            "WARNING:tensorflow:Using a while_loop for converting Bitcast\n",
            "WARNING:tensorflow:Using a while_loop for converting StatelessRandomUniformFullIntV2\n",
            "WARNING:tensorflow:Using a while_loop for converting StatelessRandomGetKeyCounter\n",
            "WARNING:tensorflow:Using a while_loop for converting StatelessRandomUniformV2\n",
            "WARNING:tensorflow:Using a while_loop for converting AdjustContrastv2\n",
            "WARNING:tensorflow:Using a while_loop for converting RngReadAndSkip\n",
            "WARNING:tensorflow:Using a while_loop for converting Bitcast\n",
            "WARNING:tensorflow:Using a while_loop for converting Bitcast\n",
            "WARNING:tensorflow:Using a while_loop for converting StatelessRandomUniformFullIntV2\n",
            "WARNING:tensorflow:Using a while_loop for converting StatelessRandomGetKeyCounter\n",
            "WARNING:tensorflow:Using a while_loop for converting StatelessRandomUniformV2\n",
            "WARNING:tensorflow:Using a while_loop for converting AdjustContrastv2\n"
          ]
        },
        {
          "output_type": "stream",
          "name": "stdout",
          "text": [
            "16/16 [==============================] - 23s 686ms/step - loss: 1.7490 - accuracy: 0.1562 - val_loss: 1.5275 - val_accuracy: 0.4000\n",
            "Epoch 2/100\n",
            "16/16 [==============================] - 9s 525ms/step - loss: 1.3738 - accuracy: 0.4375 - val_loss: 1.4222 - val_accuracy: 0.4000\n",
            "Epoch 3/100\n",
            "16/16 [==============================] - 9s 525ms/step - loss: 1.3347 - accuracy: 0.4375 - val_loss: 1.2395 - val_accuracy: 0.5667\n",
            "Epoch 4/100\n",
            "16/16 [==============================] - 10s 551ms/step - loss: 1.2862 - accuracy: 0.4375 - val_loss: 1.1942 - val_accuracy: 0.6000\n",
            "Epoch 5/100\n",
            "16/16 [==============================] - 9s 530ms/step - loss: 1.1628 - accuracy: 0.5312 - val_loss: 1.0753 - val_accuracy: 0.6333\n",
            "Epoch 6/100\n",
            "16/16 [==============================] - 9s 525ms/step - loss: 1.0914 - accuracy: 0.6250 - val_loss: 1.0312 - val_accuracy: 0.6333\n",
            "Epoch 7/100\n",
            "16/16 [==============================] - 9s 536ms/step - loss: 1.0361 - accuracy: 0.5938 - val_loss: 0.9950 - val_accuracy: 0.6000\n",
            "Epoch 8/100\n",
            "16/16 [==============================] - 9s 530ms/step - loss: 1.0158 - accuracy: 0.6250 - val_loss: 0.9480 - val_accuracy: 0.5667\n",
            "Epoch 9/100\n",
            "16/16 [==============================] - 9s 534ms/step - loss: 0.9000 - accuracy: 0.6562 - val_loss: 0.9106 - val_accuracy: 0.7000\n",
            "Epoch 10/100\n",
            "16/16 [==============================] - 9s 520ms/step - loss: 1.0317 - accuracy: 0.5938 - val_loss: 0.9074 - val_accuracy: 0.7000\n",
            "Epoch 11/100\n",
            "16/16 [==============================] - 9s 531ms/step - loss: 0.9343 - accuracy: 0.5938 - val_loss: 0.8426 - val_accuracy: 0.7333\n",
            "Epoch 12/100\n",
            "16/16 [==============================] - 9s 529ms/step - loss: 0.7705 - accuracy: 0.6875 - val_loss: 0.8376 - val_accuracy: 0.7000\n",
            "Epoch 13/100\n",
            "16/16 [==============================] - 9s 533ms/step - loss: 0.8059 - accuracy: 0.6875 - val_loss: 0.8244 - val_accuracy: 0.7000\n",
            "Epoch 14/100\n",
            "16/16 [==============================] - 10s 605ms/step - loss: 0.8119 - accuracy: 0.6875 - val_loss: 0.8366 - val_accuracy: 0.6000\n",
            "Epoch 15/100\n",
            "16/16 [==============================] - 9s 522ms/step - loss: 0.6196 - accuracy: 0.8125 - val_loss: 0.8100 - val_accuracy: 0.6667\n",
            "Epoch 16/100\n",
            "16/16 [==============================] - 9s 535ms/step - loss: 0.8026 - accuracy: 0.7188 - val_loss: 0.7587 - val_accuracy: 0.7333\n"
          ]
        }
      ]
    },
    {
      "cell_type": "code",
      "source": [
        "plot_loss_curves(history_model_22)"
      ],
      "metadata": {
        "colab": {
          "base_uri": "https://localhost:8080/",
          "height": 573
        },
        "id": "4-6WeqNozagT",
        "outputId": "c7377bb6-2a8b-451e-e74a-9b96cd431488"
      },
      "execution_count": null,
      "outputs": [
        {
          "output_type": "display_data",
          "data": {
            "text/plain": [
              "<Figure size 432x288 with 1 Axes>"
            ],
            "image/png": "[encoded data removed]"
          },
          "metadata": {
            "needs_background": "light"
          }
        },
        {
          "output_type": "display_data",
          "data": {
            "text/plain": [
              "<Figure size 432x288 with 1 Axes>"
            ],
            "image/png": "[encoded data removed]"
          },
          "metadata": {
            "needs_background": "light"
          }
        }
      ]
    },
    {
      "cell_type": "code",
      "source": [
        "# Making predictions with our best model so far\n",
        "y_probs = model_22.predict(test_data_4)\n",
        "\n",
        "# View the first predcitons\n",
        "y_probs[:5]"
      ],
      "metadata": {
        "colab": {
          "base_uri": "https://localhost:8080/"
        },
        "id": "dfP9IiuAzfyq",
        "outputId": "14e3ec1e-6ac2-4b0b-a0ab-1ed332544691"
      },
      "execution_count": null,
      "outputs": [
        {
          "output_type": "stream",
          "name": "stdout",
          "text": [
            "15/15 [==============================] - 7s 319ms/step\n"
          ]
        },
        {
          "output_type": "execute_result",
          "data": {
            "text/plain": [
              "array([[0.5694955 , 0.01789652, 0.31508687, 0.00964531, 0.08787578],\n",
              "       [0.45783526, 0.03516887, 0.35754365, 0.01461287, 0.13483928],\n",
              "       [0.80612516, 0.01144501, 0.06135682, 0.01673779, 0.10433517],\n",
              "       [0.5949654 , 0.04122897, 0.07519825, 0.029106  , 0.25950143],\n",
              "       [0.61195564, 0.02487846, 0.14652099, 0.0336047 , 0.18304017]],\n",
              "      dtype=float32)"
            ]
          },
          "metadata": {},
          "execution_count": 16
        }
      ]
    },
    {
      "cell_type": "code",
      "source": [
        "y_preds = y_probs.argmax(axis=1)\n",
        "y_preds"
      ],
      "metadata": {
        "colab": {
          "base_uri": "https://localhost:8080/"
        },
        "id": "tvXt-iHgzg-X",
        "outputId": "5722b577-b961-4c2d-c828-a544d6d0bdda"
      },
      "execution_count": null,
      "outputs": [
        {
          "output_type": "execute_result",
          "data": {
            "text/plain": [
              "array([0, 0, 0, 0, 0, 4, 0, 1, 2, 2, 4, 3, 3, 1, 3, 4, 3, 3, 3, 0, 4, 4,\n",
              "       0, 0, 4, 0, 4, 4, 4, 4])"
            ]
          },
          "metadata": {},
          "execution_count": 17
        }
      ]
    },
    {
      "cell_type": "code",
      "source": [
        "# unbatching test data batch to get y_labels\n",
        "y_labels = []\n",
        "for images, labels in test_data_4.unbatch():\n",
        "  y_labels.append(labels.numpy().argmax())\n",
        "y_labels[:10]"
      ],
      "metadata": {
        "colab": {
          "base_uri": "https://localhost:8080/"
        },
        "id": "WB9eQWFXzndC",
        "outputId": "596b9001-1e11-4950-e0ef-e29b12eca9b4"
      },
      "execution_count": null,
      "outputs": [
        {
          "output_type": "execute_result",
          "data": {
            "text/plain": [
              "[0, 0, 0, 0, 0, 0, 0, 1, 2, 2]"
            ]
          },
          "metadata": {},
          "execution_count": 21
        }
      ]
    },
    {
      "cell_type": "code",
      "source": [
        "# make a good confusion matrix\n",
        "make_confusion_matrix(y_true=y_labels,\n",
        "                      y_pred=y_preds,\n",
        "                      classes=class_names,\n",
        "                      figsize=(15, 15),\n",
        "                      text_size=10)"
      ],
      "metadata": {
        "colab": {
          "base_uri": "https://localhost:8080/",
          "height": 856
        },
        "id": "MJ2onQl5zrss",
        "outputId": "585d8f86-cb7d-4be5-be97-2e3091f2a164"
      },
      "execution_count": null,
      "outputs": [
        {
          "output_type": "display_data",
          "data": {
            "text/plain": [
              "<Figure size 1080x1080 with 2 Axes>"
            ],
            "image/png": "[encoded data removed]"
          },
          "metadata": {
            "needs_background": "light"
          }
        }
      ]
    },
    {
      "cell_type": "code",
      "source": [
        "# Saving model to Goodgle Drive\n",
        "save_dir = \"/content/drive/MyDrive/Multiphase_project/\"\n",
        "model_22.save(save_dir)"
      ],
      "metadata": {
        "id": "uof5jSigz8LF"
      },
      "execution_count": null,
      "outputs": []
    },
    {
      "cell_type": "code",
      "source": [
        "# Load model\n",
        "loaded_model = tf.keras.models.load_model(save_dir)"
      ],
      "metadata": {
        "colab": {
          "base_uri": "https://localhost:8080/"
        },
        "id": "yUwOLri71Dbe",
        "outputId": "cf62d0e1-e68a-46e0-d9bb-adbd8dd0e560"
      },
      "execution_count": null,
      "outputs": [
        {
          "output_type": "stream",
          "name": "stderr",
          "text": [
            "WARNING:tensorflow:Using a while_loop for converting RngReadAndSkip\n",
            "WARNING:tensorflow:Using a while_loop for converting Bitcast\n",
            "WARNING:tensorflow:Using a while_loop for converting Bitcast\n",
            "WARNING:tensorflow:Using a while_loop for converting StatelessRandomUniformFullIntV2\n",
            "WARNING:tensorflow:Using a while_loop for converting StatelessRandomGetKeyCounter\n",
            "WARNING:tensorflow:Using a while_loop for converting StatelessRandomUniformV2\n",
            "WARNING:tensorflow:Using a while_loop for converting AdjustContrastv2\n"
          ]
        }
      ]
    },
    {
      "cell_type": "code",
      "source": [
        "loaded_model.evaluate(test_data_4)"
      ],
      "metadata": {
        "colab": {
          "base_uri": "https://localhost:8080/"
        },
        "id": "LBFzv_ja1X79",
        "outputId": "d6bc2fe6-22af-4f62-c61a-990c6605b53d"
      },
      "execution_count": null,
      "outputs": [
        {
          "output_type": "stream",
          "name": "stdout",
          "text": [
            "15/15 [==============================] - 9s 274ms/step - loss: 0.7587 - accuracy: 0.7333\n"
          ]
        },
        {
          "output_type": "execute_result",
          "data": {
            "text/plain": [
              "[0.7587215900421143, 0.7333333492279053]"
            ]
          },
          "metadata": {},
          "execution_count": 26
        }
      ]
    },
    {
      "cell_type": "code",
      "source": [
        "# Making predictions with our best model so far\n",
        "y_probs_loaded = loaded_model.predict(test_data_4)\n",
        "\n",
        "# View the first predcitons\n",
        "y_probs_loaded[:5]"
      ],
      "metadata": {
        "colab": {
          "base_uri": "https://localhost:8080/"
        },
        "id": "pmq5iJNB7Fvd",
        "outputId": "6e318393-65b5-4e34-c66a-c7839e37e475"
      },
      "execution_count": null,
      "outputs": [
        {
          "output_type": "stream",
          "name": "stdout",
          "text": [
            "15/15 [==============================] - 2s 105ms/step\n"
          ]
        },
        {
          "output_type": "execute_result",
          "data": {
            "text/plain": [
              "array([[0.56949615, 0.01789654, 0.315086  , 0.00964533, 0.08787595],\n",
              "       [0.45783532, 0.03516887, 0.35754383, 0.0146129 , 0.13483909],\n",
              "       [0.8061248 , 0.01144502, 0.06135678, 0.01673784, 0.10433556],\n",
              "       [0.5949647 , 0.0412291 , 0.07519838, 0.02910601, 0.25950187],\n",
              "       [0.61195606, 0.02487844, 0.14652121, 0.03360454, 0.18303978]],\n",
              "      dtype=float32)"
            ]
          },
          "metadata": {},
          "execution_count": 16
        }
      ]
    },
    {
      "cell_type": "code",
      "source": [
        "y_preds_loaded = y_probs_loaded.argmax(axis=1)\n",
        "y_preds_loaded"
      ],
      "metadata": {
        "colab": {
          "base_uri": "https://localhost:8080/"
        },
        "id": "u6tgiEi38KnB",
        "outputId": "28b367b9-924a-4d37-caa0-38a3c6f0369b"
      },
      "execution_count": null,
      "outputs": [
        {
          "output_type": "execute_result",
          "data": {
            "text/plain": [
              "array([0, 0, 0, 0, 0, 4, 0, 1, 2, 2, 4, 3, 3, 1, 3, 4, 3, 3, 3, 0, 4, 4,\n",
              "       0, 0, 4, 0, 4, 4, 4, 4])"
            ]
          },
          "metadata": {},
          "execution_count": 18
        }
      ]
    },
    {
      "cell_type": "code",
      "source": [
        "# Get all of the image file paths in the test dataset\n",
        "filepaths = []\n",
        "for filepath in test_data_4.list_files(\"/content/dataset_2/test/*/*.png\",\n",
        "                                      shuffle=False):\n",
        "  filepaths.append(filepath.numpy())\n",
        "filepaths[:10]\n"
      ],
      "metadata": {
        "colab": {
          "base_uri": "https://localhost:8080/"
        },
        "id": "oYprKip32HTv",
        "outputId": "8e605e67-fe70-4937-da95-c9698a17c745"
      },
      "execution_count": null,
      "outputs": [
        {
          "output_type": "execute_result",
          "data": {
            "text/plain": [
              "[b'/content/dataset_2/test/annular/17.png',\n",
              " b'/content/dataset_2/test/annular/20.png',\n",
              " b'/content/dataset_2/test/annular/21.png',\n",
              " b'/content/dataset_2/test/annular/22.png',\n",
              " b'/content/dataset_2/test/annular/51.png',\n",
              " b'/content/dataset_2/test/annular/56.png',\n",
              " b'/content/dataset_2/test/annular/7.png',\n",
              " b'/content/dataset_2/test/plug/29b.png',\n",
              " b'/content/dataset_2/test/slug/14.png',\n",
              " b'/content/dataset_2/test/slug/15.png']"
            ]
          },
          "metadata": {},
          "execution_count": 19
        }
      ]
    },
    {
      "cell_type": "code",
      "source": [
        "#Create a DataFrame of different parameters for each of the test images\n",
        "import pandas as pd\n",
        "pred_df = pd.DataFrame({\"img_path\": filepaths,\n",
        "                        \"y_true\": y_labels,\n",
        "                        \"y_pred\": y_preds_loaded,\n",
        "                        \"pred_conf\": y_probs_loaded.max(axis=1),\n",
        "                        \"y_true_classname\": [class_names[i] for i in y_labels],\n",
        "                        \"y_pred_classname\": [class_names[i] for i in y_preds_loaded]})\n",
        "pred_df"
      ],
      "metadata": {
        "colab": {
          "base_uri": "https://localhost:8080/",
          "height": 990
        },
        "id": "uGR__ClH2d8F",
        "outputId": "12c6da85-971f-4617-ed2a-5c52c022793b"
      },
      "execution_count": null,
      "outputs": [
        {
          "output_type": "execute_result",
          "data": {
            "text/plain": [
              "                                        img_path  y_true  y_pred  pred_conf  \\\n",
              "0      b'/content/dataset_2/test/annular/17.png'       0       0   0.569496   \n",
              "1      b'/content/dataset_2/test/annular/20.png'       0       0   0.457835   \n",
              "2      b'/content/dataset_2/test/annular/21.png'       0       0   0.806125   \n",
              "3      b'/content/dataset_2/test/annular/22.png'       0       0   0.594965   \n",
              "4      b'/content/dataset_2/test/annular/51.png'       0       0   0.611956   \n",
              "5      b'/content/dataset_2/test/annular/56.png'       0       4   0.440638   \n",
              "6       b'/content/dataset_2/test/annular/7.png'       0       0   0.562234   \n",
              "7        b'/content/dataset_2/test/plug/29b.png'       1       1   0.715026   \n",
              "8         b'/content/dataset_2/test/slug/14.png'       2       2   0.552420   \n",
              "9         b'/content/dataset_2/test/slug/15.png'       2       2   0.359319   \n",
              "10  b'/content/dataset_2/test/stratified/12.png'       3       4   0.374451   \n",
              "11  b'/content/dataset_2/test/stratified/32.png'       3       3   0.697984   \n",
              "12  b'/content/dataset_2/test/stratified/42.png'       3       3   0.867746   \n",
              "13  b'/content/dataset_2/test/stratified/43.png'       3       1   0.406926   \n",
              "14  b'/content/dataset_2/test/stratified/46.png'       3       3   0.799321   \n",
              "15  b'/content/dataset_2/test/stratified/47.png'       3       4   0.561246   \n",
              "16  b'/content/dataset_2/test/stratified/49.png'       3       3   0.771730   \n",
              "17  b'/content/dataset_2/test/stratified/53.png'       3       3   0.486224   \n",
              "18  b'/content/dataset_2/test/stratified/58.png'       3       3   0.699202   \n",
              "19        b'/content/dataset_2/test/wavy/28.png'       4       0   0.503353   \n",
              "20        b'/content/dataset_2/test/wavy/33.png'       4       4   0.333707   \n",
              "21        b'/content/dataset_2/test/wavy/34.png'       4       4   0.527084   \n",
              "22        b'/content/dataset_2/test/wavy/35.png'       4       0   0.543684   \n",
              "23        b'/content/dataset_2/test/wavy/38.png'       4       0   0.788998   \n",
              "24        b'/content/dataset_2/test/wavy/40.png'       4       4   0.582240   \n",
              "25        b'/content/dataset_2/test/wavy/41.png'       4       0   0.593248   \n",
              "26        b'/content/dataset_2/test/wavy/44.png'       4       4   0.550909   \n",
              "27        b'/content/dataset_2/test/wavy/45.png'       4       4   0.446966   \n",
              "28        b'/content/dataset_2/test/wavy/57.png'       4       4   0.680321   \n",
              "29         b'/content/dataset_2/test/wavy/9.png'       4       4   0.598664   \n",
              "\n",
              "   y_true_classname y_pred_classname  \n",
              "0           annular          annular  \n",
              "1           annular          annular  \n",
              "2           annular          annular  \n",
              "3           annular          annular  \n",
              "4           annular          annular  \n",
              "5           annular             wavy  \n",
              "6           annular          annular  \n",
              "7              plug             plug  \n",
              "8              slug             slug  \n",
              "9              slug             slug  \n",
              "10       stratified             wavy  \n",
              "11       stratified       stratified  \n",
              "12       stratified       stratified  \n",
              "13       stratified             plug  \n",
              "14       stratified       stratified  \n",
              "15       stratified             wavy  \n",
              "16       stratified       stratified  \n",
              "17       stratified       stratified  \n",
              "18       stratified       stratified  \n",
              "19             wavy          annular  \n",
              "20             wavy             wavy  \n",
              "21             wavy             wavy  \n",
              "22             wavy          annular  \n",
              "23             wavy          annular  \n",
              "24             wavy             wavy  \n",
              "25             wavy          annular  \n",
              "26             wavy             wavy  \n",
              "27             wavy             wavy  \n",
              "28             wavy             wavy  \n",
              "29             wavy             wavy  "
            ],
            "text/html": [
              "\n",
              "  <div id=\"df-ca384e86-470f-41a8-b13e-91af21b45a9d\">\n",
              "    <div class=\"colab-df-container\">\n",
              "      <div>\n",
              "<style scoped>\n",
              "    .dataframe tbody tr th:only-of-type {\n",
              "        vertical-align: middle;\n",
              "    }\n",
              "\n",
              "    .dataframe tbody tr th {\n",
              "        vertical-align: top;\n",
              "    }\n",
              "\n",
              "    .dataframe thead th {\n",
              "        text-align: right;\n",
              "    }\n",
              "</style>\n",
              "<table border=\"1\" class=\"dataframe\">\n",
              "  <thead>\n",
              "    <tr style=\"text-align: right;\">\n",
              "      <th></th>\n",
              "      <th>img_path</th>\n",
              "      <th>y_true</th>\n",
              "      <th>y_pred</th>\n",
              "      <th>pred_conf</th>\n",
              "      <th>y_true_classname</th>\n",
              "      <th>y_pred_classname</th>\n",
              "    </tr>\n",
              "  </thead>\n",
              "  <tbody>\n",
              "    <tr>\n",
              "      <th>0</th>\n",
              "      <td>b'/content/dataset_2/test/annular/17.png'</td>\n",
              "      <td>0</td>\n",
              "      <td>0</td>\n",
              "      <td>0.569496</td>\n",
              "      <td>annular</td>\n",
              "      <td>annular</td>\n",
              "    </tr>\n",
              "    <tr>\n",
              "      <th>1</th>\n",
              "      <td>b'/content/dataset_2/test/annular/20.png'</td>\n",
              "      <td>0</td>\n",
              "      <td>0</td>\n",
              "      <td>0.457835</td>\n",
              "      <td>annular</td>\n",
              "      <td>annular</td>\n",
              "    </tr>\n",
              "    <tr>\n",
              "      <th>2</th>\n",
              "      <td>b'/content/dataset_2/test/annular/21.png'</td>\n",
              "      <td>0</td>\n",
              "      <td>0</td>\n",
              "      <td>0.806125</td>\n",
              "      <td>annular</td>\n",
              "      <td>annular</td>\n",
              "    </tr>\n",
              "    <tr>\n",
              "      <th>3</th>\n",
              "      <td>b'/content/dataset_2/test/annular/22.png'</td>\n",
              "      <td>0</td>\n",
              "      <td>0</td>\n",
              "      <td>0.594965</td>\n",
              "      <td>annular</td>\n",
              "      <td>annular</td>\n",
              "    </tr>\n",
              "    <tr>\n",
              "      <th>4</th>\n",
              "      <td>b'/content/dataset_2/test/annular/51.png'</td>\n",
              "      <td>0</td>\n",
              "      <td>0</td>\n",
              "      <td>0.611956</td>\n",
              "      <td>annular</td>\n",
              "      <td>annular</td>\n",
              "    </tr>\n",
              "    <tr>\n",
              "      <th>5</th>\n",
              "      <td>b'/content/dataset_2/test/annular/56.png'</td>\n",
              "      <td>0</td>\n",
              "      <td>4</td>\n",
              "      <td>0.440638</td>\n",
              "      <td>annular</td>\n",
              "      <td>wavy</td>\n",
              "    </tr>\n",
              "    <tr>\n",
              "      <th>6</th>\n",
              "      <td>b'/content/dataset_2/test/annular/7.png'</td>\n",
              "      <td>0</td>\n",
              "      <td>0</td>\n",
              "      <td>0.562234</td>\n",
              "      <td>annular</td>\n",
              "      <td>annular</td>\n",
              "    </tr>\n",
              "    <tr>\n",
              "      <th>7</th>\n",
              "      <td>b'/content/dataset_2/test/plug/29b.png'</td>\n",
              "      <td>1</td>\n",
              "      <td>1</td>\n",
              "      <td>0.715026</td>\n",
              "      <td>plug</td>\n",
              "      <td>plug</td>\n",
              "    </tr>\n",
              "    <tr>\n",
              "      <th>8</th>\n",
              "      <td>b'/content/dataset_2/test/slug/14.png'</td>\n",
              "      <td>2</td>\n",
              "      <td>2</td>\n",
              "      <td>0.552420</td>\n",
              "      <td>slug</td>\n",
              "      <td>slug</td>\n",
              "    </tr>\n",
              "    <tr>\n",
              "      <th>9</th>\n",
              "      <td>b'/content/dataset_2/test/slug/15.png'</td>\n",
              "      <td>2</td>\n",
              "      <td>2</td>\n",
              "      <td>0.359319</td>\n",
              "      <td>slug</td>\n",
              "      <td>slug</td>\n",
              "    </tr>\n",
              "    <tr>\n",
              "      <th>10</th>\n",
              "      <td>b'/content/dataset_2/test/stratified/12.png'</td>\n",
              "      <td>3</td>\n",
              "      <td>4</td>\n",
              "      <td>0.374451</td>\n",
              "      <td>stratified</td>\n",
              "      <td>wavy</td>\n",
              "    </tr>\n",
              "    <tr>\n",
              "      <th>11</th>\n",
              "      <td>b'/content/dataset_2/test/stratified/32.png'</td>\n",
              "      <td>3</td>\n",
              "      <td>3</td>\n",
              "      <td>0.697984</td>\n",
              "      <td>stratified</td>\n",
              "      <td>stratified</td>\n",
              "    </tr>\n",
              "    <tr>\n",
              "      <th>12</th>\n",
              "      <td>b'/content/dataset_2/test/stratified/42.png'</td>\n",
              "      <td>3</td>\n",
              "      <td>3</td>\n",
              "      <td>0.867746</td>\n",
              "      <td>stratified</td>\n",
              "      <td>stratified</td>\n",
              "    </tr>\n",
              "    <tr>\n",
              "      <th>13</th>\n",
              "      <td>b'/content/dataset_2/test/stratified/43.png'</td>\n",
              "      <td>3</td>\n",
              "      <td>1</td>\n",
              "      <td>0.406926</td>\n",
              "      <td>stratified</td>\n",
              "      <td>plug</td>\n",
              "    </tr>\n",
              "    <tr>\n",
              "      <th>14</th>\n",
              "      <td>b'/content/dataset_2/test/stratified/46.png'</td>\n",
              "      <td>3</td>\n",
              "      <td>3</td>\n",
              "      <td>0.799321</td>\n",
              "      <td>stratified</td>\n",
              "      <td>stratified</td>\n",
              "    </tr>\n",
              "    <tr>\n",
              "      <th>15</th>\n",
              "      <td>b'/content/dataset_2/test/stratified/47.png'</td>\n",
              "      <td>3</td>\n",
              "      <td>4</td>\n",
              "      <td>0.561246</td>\n",
              "      <td>stratified</td>\n",
              "      <td>wavy</td>\n",
              "    </tr>\n",
              "    <tr>\n",
              "      <th>16</th>\n",
              "      <td>b'/content/dataset_2/test/stratified/49.png'</td>\n",
              "      <td>3</td>\n",
              "      <td>3</td>\n",
              "      <td>0.771730</td>\n",
              "      <td>stratified</td>\n",
              "      <td>stratified</td>\n",
              "    </tr>\n",
              "    <tr>\n",
              "      <th>17</th>\n",
              "      <td>b'/content/dataset_2/test/stratified/53.png'</td>\n",
              "      <td>3</td>\n",
              "      <td>3</td>\n",
              "      <td>0.486224</td>\n",
              "      <td>stratified</td>\n",
              "      <td>stratified</td>\n",
              "    </tr>\n",
              "    <tr>\n",
              "      <th>18</th>\n",
              "      <td>b'/content/dataset_2/test/stratified/58.png'</td>\n",
              "      <td>3</td>\n",
              "      <td>3</td>\n",
              "      <td>0.699202</td>\n",
              "      <td>stratified</td>\n",
              "      <td>stratified</td>\n",
              "    </tr>\n",
              "    <tr>\n",
              "      <th>19</th>\n",
              "      <td>b'/content/dataset_2/test/wavy/28.png'</td>\n",
              "      <td>4</td>\n",
              "      <td>0</td>\n",
              "      <td>0.503353</td>\n",
              "      <td>wavy</td>\n",
              "      <td>annular</td>\n",
              "    </tr>\n",
              "    <tr>\n",
              "      <th>20</th>\n",
              "      <td>b'/content/dataset_2/test/wavy/33.png'</td>\n",
              "      <td>4</td>\n",
              "      <td>4</td>\n",
              "      <td>0.333707</td>\n",
              "      <td>wavy</td>\n",
              "      <td>wavy</td>\n",
              "    </tr>\n",
              "    <tr>\n",
              "      <th>21</th>\n",
              "      <td>b'/content/dataset_2/test/wavy/34.png'</td>\n",
              "      <td>4</td>\n",
              "      <td>4</td>\n",
              "      <td>0.527084</td>\n",
              "      <td>wavy</td>\n",
              "      <td>wavy</td>\n",
              "    </tr>\n",
              "    <tr>\n",
              "      <th>22</th>\n",
              "      <td>b'/content/dataset_2/test/wavy/35.png'</td>\n",
              "      <td>4</td>\n",
              "      <td>0</td>\n",
              "      <td>0.543684</td>\n",
              "      <td>wavy</td>\n",
              "      <td>annular</td>\n",
              "    </tr>\n",
              "    <tr>\n",
              "      <th>23</th>\n",
              "      <td>b'/content/dataset_2/test/wavy/38.png'</td>\n",
              "      <td>4</td>\n",
              "      <td>0</td>\n",
              "      <td>0.788998</td>\n",
              "      <td>wavy</td>\n",
              "      <td>annular</td>\n",
              "    </tr>\n",
              "    <tr>\n",
              "      <th>24</th>\n",
              "      <td>b'/content/dataset_2/test/wavy/40.png'</td>\n",
              "      <td>4</td>\n",
              "      <td>4</td>\n",
              "      <td>0.582240</td>\n",
              "      <td>wavy</td>\n",
              "      <td>wavy</td>\n",
              "    </tr>\n",
              "    <tr>\n",
              "      <th>25</th>\n",
              "      <td>b'/content/dataset_2/test/wavy/41.png'</td>\n",
              "      <td>4</td>\n",
              "      <td>0</td>\n",
              "      <td>0.593248</td>\n",
              "      <td>wavy</td>\n",
              "      <td>annular</td>\n",
              "    </tr>\n",
              "    <tr>\n",
              "      <th>26</th>\n",
              "      <td>b'/content/dataset_2/test/wavy/44.png'</td>\n",
              "      <td>4</td>\n",
              "      <td>4</td>\n",
              "      <td>0.550909</td>\n",
              "      <td>wavy</td>\n",
              "      <td>wavy</td>\n",
              "    </tr>\n",
              "    <tr>\n",
              "      <th>27</th>\n",
              "      <td>b'/content/dataset_2/test/wavy/45.png'</td>\n",
              "      <td>4</td>\n",
              "      <td>4</td>\n",
              "      <td>0.446966</td>\n",
              "      <td>wavy</td>\n",
              "      <td>wavy</td>\n",
              "    </tr>\n",
              "    <tr>\n",
              "      <th>28</th>\n",
              "      <td>b'/content/dataset_2/test/wavy/57.png'</td>\n",
              "      <td>4</td>\n",
              "      <td>4</td>\n",
              "      <td>0.680321</td>\n",
              "      <td>wavy</td>\n",
              "      <td>wavy</td>\n",
              "    </tr>\n",
              "    <tr>\n",
              "      <th>29</th>\n",
              "      <td>b'/content/dataset_2/test/wavy/9.png'</td>\n",
              "      <td>4</td>\n",
              "      <td>4</td>\n",
              "      <td>0.598664</td>\n",
              "      <td>wavy</td>\n",
              "      <td>wavy</td>\n",
              "    </tr>\n",
              "  </tbody>\n",
              "</table>\n",
              "</div>\n",
              "      <button class=\"colab-df-convert\" onclick=\"convertToInteractive('df-ca384e86-470f-41a8-b13e-91af21b45a9d')\"\n",
              "              title=\"Convert this dataframe to an interactive table.\"\n",
              "              style=\"display:none;\">\n",
              "        \n",
              "  <svg xmlns=\"http://www.w3.org/2000/svg\" height=\"24px\"viewBox=\"0 0 24 24\"\n",
              "       width=\"24px\">\n",
              "    <path d=\"M0 0h24v24H0V0z\" fill=\"none\"/>\n",
              "    <path d=\"M18.56 5.44l.94 2.06.94-2.06 2.06-.94-2.06-.94-.94-2.06-.94 2.06-2.06.94zm-11 1L8.5 8.5l.94-2.06 2.06-.94-2.06-.94L8.5 2.5l-.94 2.06-2.06.94zm10 10l.94 2.06.94-2.06 2.06-.94-2.06-.94-.94-2.06-.94 2.06-2.06.94z\"/><path d=\"M17.41 7.96l-1.37-1.37c-.4-.4-.92-.59-1.43-.59-.52 0-1.04.2-1.43.59L10.3 9.45l-7.72 7.72c-.78.78-.78 2.05 0 2.83L4 21.41c.39.39.9.59 1.41.59.51 0 1.02-.2 1.41-.59l7.78-7.78 2.81-2.81c.8-.78.8-2.07 0-2.86zM5.41 20L4 18.59l7.72-7.72 1.47 1.35L5.41 20z\"/>\n",
              "  </svg>\n",
              "      </button>\n",
              "      \n",
              "  <style>\n",
              "    .colab-df-container {\n",
              "      display:flex;\n",
              "      flex-wrap:wrap;\n",
              "      gap: 12px;\n",
              "    }\n",
              "\n",
              "    .colab-df-convert {\n",
              "      background-color: #E8F0FE;\n",
              "      border: none;\n",
              "      border-radius: 50%;\n",
              "      cursor: pointer;\n",
              "      display: none;\n",
              "      fill: #1967D2;\n",
              "      height: 32px;\n",
              "      padding: 0 0 0 0;\n",
              "      width: 32px;\n",
              "    }\n",
              "\n",
              "    .colab-df-convert:hover {\n",
              "      background-color: #E2EBFA;\n",
              "      box-shadow: 0px 1px 2px rgba(60, 64, 67, 0.3), 0px 1px 3px 1px rgba(60, 64, 67, 0.15);\n",
              "      fill: #174EA6;\n",
              "    }\n",
              "\n",
              "    [theme=dark] .colab-df-convert {\n",
              "      background-color: #3B4455;\n",
              "      fill: #D2E3FC;\n",
              "    }\n",
              "\n",
              "    [theme=dark] .colab-df-convert:hover {\n",
              "      background-color: #434B5C;\n",
              "      box-shadow: 0px 1px 3px 1px rgba(0, 0, 0, 0.15);\n",
              "      filter: drop-shadow(0px 1px 2px rgba(0, 0, 0, 0.3));\n",
              "      fill: #FFFFFF;\n",
              "    }\n",
              "  </style>\n",
              "\n",
              "      <script>\n",
              "        const buttonEl =\n",
              "          document.querySelector('#df-ca384e86-470f-41a8-b13e-91af21b45a9d button.colab-df-convert');\n",
              "        buttonEl.style.display =\n",
              "          google.colab.kernel.accessAllowed ? 'block' : 'none';\n",
              "\n",
              "        async function convertToInteractive(key) {\n",
              "          const element = document.querySelector('#df-ca384e86-470f-41a8-b13e-91af21b45a9d');\n",
              "          const dataTable =\n",
              "            await google.colab.kernel.invokeFunction('convertToInteractive',\n",
              "                                                     [key], {});\n",
              "          if (!dataTable) return;\n",
              "\n",
              "          const docLinkHtml = 'Like what you see? Visit the ' +\n",
              "            '<a target=\"_blank\" href=https://colab.research.google.com/notebooks/data_table.ipynb>data table notebook</a>'\n",
              "            + ' to learn more about interactive tables.';\n",
              "          element.innerHTML = '';\n",
              "          dataTable['output_type'] = 'display_data';\n",
              "          await google.colab.output.renderOutput(dataTable, element);\n",
              "          const docLink = document.createElement('div');\n",
              "          docLink.innerHTML = docLinkHtml;\n",
              "          element.appendChild(docLink);\n",
              "        }\n",
              "      </script>\n",
              "    </div>\n",
              "  </div>\n",
              "  "
            ]
          },
          "metadata": {},
          "execution_count": 30
        }
      ]
    },
    {
      "cell_type": "code",
      "source": [
        "#Find out in our DataFrame which predictions are wrong\n",
        "pred_df[\"pred_correct\"] = pred_df[\"y_true\"] == pred_df[\"y_pred\"]\n",
        "pred_df"
      ],
      "metadata": {
        "colab": {
          "base_uri": "https://localhost:8080/",
          "height": 990
        },
        "id": "aT7iJzCu2VFa",
        "outputId": "e5151772-353e-4a41-ae3d-7b0ab2aea32e"
      },
      "execution_count": null,
      "outputs": [
        {
          "output_type": "execute_result",
          "data": {
            "text/plain": [
              "                                        img_path  y_true  y_pred  pred_conf  \\\n",
              "0      b'/content/dataset_2/test/annular/17.png'       0       0   0.569496   \n",
              "1      b'/content/dataset_2/test/annular/20.png'       0       0   0.457835   \n",
              "2      b'/content/dataset_2/test/annular/21.png'       0       0   0.806125   \n",
              "3      b'/content/dataset_2/test/annular/22.png'       0       0   0.594965   \n",
              "4      b'/content/dataset_2/test/annular/51.png'       0       0   0.611956   \n",
              "5      b'/content/dataset_2/test/annular/56.png'       0       4   0.440638   \n",
              "6       b'/content/dataset_2/test/annular/7.png'       0       0   0.562234   \n",
              "7        b'/content/dataset_2/test/plug/29b.png'       1       1   0.715026   \n",
              "8         b'/content/dataset_2/test/slug/14.png'       2       2   0.552420   \n",
              "9         b'/content/dataset_2/test/slug/15.png'       2       2   0.359319   \n",
              "10  b'/content/dataset_2/test/stratified/12.png'       3       4   0.374451   \n",
              "11  b'/content/dataset_2/test/stratified/32.png'       3       3   0.697984   \n",
              "12  b'/content/dataset_2/test/stratified/42.png'       3       3   0.867746   \n",
              "13  b'/content/dataset_2/test/stratified/43.png'       3       1   0.406926   \n",
              "14  b'/content/dataset_2/test/stratified/46.png'       3       3   0.799321   \n",
              "15  b'/content/dataset_2/test/stratified/47.png'       3       4   0.561246   \n",
              "16  b'/content/dataset_2/test/stratified/49.png'       3       3   0.771730   \n",
              "17  b'/content/dataset_2/test/stratified/53.png'       3       3   0.486224   \n",
              "18  b'/content/dataset_2/test/stratified/58.png'       3       3   0.699202   \n",
              "19        b'/content/dataset_2/test/wavy/28.png'       4       0   0.503353   \n",
              "20        b'/content/dataset_2/test/wavy/33.png'       4       4   0.333707   \n",
              "21        b'/content/dataset_2/test/wavy/34.png'       4       4   0.527084   \n",
              "22        b'/content/dataset_2/test/wavy/35.png'       4       0   0.543684   \n",
              "23        b'/content/dataset_2/test/wavy/38.png'       4       0   0.788998   \n",
              "24        b'/content/dataset_2/test/wavy/40.png'       4       4   0.582240   \n",
              "25        b'/content/dataset_2/test/wavy/41.png'       4       0   0.593248   \n",
              "26        b'/content/dataset_2/test/wavy/44.png'       4       4   0.550909   \n",
              "27        b'/content/dataset_2/test/wavy/45.png'       4       4   0.446966   \n",
              "28        b'/content/dataset_2/test/wavy/57.png'       4       4   0.680321   \n",
              "29         b'/content/dataset_2/test/wavy/9.png'       4       4   0.598664   \n",
              "\n",
              "   y_true_classname y_pred_classname  pred_correct  \n",
              "0           annular          annular          True  \n",
              "1           annular          annular          True  \n",
              "2           annular          annular          True  \n",
              "3           annular          annular          True  \n",
              "4           annular          annular          True  \n",
              "5           annular             wavy         False  \n",
              "6           annular          annular          True  \n",
              "7              plug             plug          True  \n",
              "8              slug             slug          True  \n",
              "9              slug             slug          True  \n",
              "10       stratified             wavy         False  \n",
              "11       stratified       stratified          True  \n",
              "12       stratified       stratified          True  \n",
              "13       stratified             plug         False  \n",
              "14       stratified       stratified          True  \n",
              "15       stratified             wavy         False  \n",
              "16       stratified       stratified          True  \n",
              "17       stratified       stratified          True  \n",
              "18       stratified       stratified          True  \n",
              "19             wavy          annular         False  \n",
              "20             wavy             wavy          True  \n",
              "21             wavy             wavy          True  \n",
              "22             wavy          annular         False  \n",
              "23             wavy          annular         False  \n",
              "24             wavy             wavy          True  \n",
              "25             wavy          annular         False  \n",
              "26             wavy             wavy          True  \n",
              "27             wavy             wavy          True  \n",
              "28             wavy             wavy          True  \n",
              "29             wavy             wavy          True  "
            ],
            "text/html": [
              "\n",
              "  <div id=\"df-4e559818-8b52-4d35-aa36-5a8319fa9cd5\">\n",
              "    <div class=\"colab-df-container\">\n",
              "      <div>\n",
              "<style scoped>\n",
              "    .dataframe tbody tr th:only-of-type {\n",
              "        vertical-align: middle;\n",
              "    }\n",
              "\n",
              "    .dataframe tbody tr th {\n",
              "        vertical-align: top;\n",
              "    }\n",
              "\n",
              "    .dataframe thead th {\n",
              "        text-align: right;\n",
              "    }\n",
              "</style>\n",
              "<table border=\"1\" class=\"dataframe\">\n",
              "  <thead>\n",
              "    <tr style=\"text-align: right;\">\n",
              "      <th></th>\n",
              "      <th>img_path</th>\n",
              "      <th>y_true</th>\n",
              "      <th>y_pred</th>\n",
              "      <th>pred_conf</th>\n",
              "      <th>y_true_classname</th>\n",
              "      <th>y_pred_classname</th>\n",
              "      <th>pred_correct</th>\n",
              "    </tr>\n",
              "  </thead>\n",
              "  <tbody>\n",
              "    <tr>\n",
              "      <th>0</th>\n",
              "      <td>b'/content/dataset_2/test/annular/17.png'</td>\n",
              "      <td>0</td>\n",
              "      <td>0</td>\n",
              "      <td>0.569496</td>\n",
              "      <td>annular</td>\n",
              "      <td>annular</td>\n",
              "      <td>True</td>\n",
              "    </tr>\n",
              "    <tr>\n",
              "      <th>1</th>\n",
              "      <td>b'/content/dataset_2/test/annular/20.png'</td>\n",
              "      <td>0</td>\n",
              "      <td>0</td>\n",
              "      <td>0.457835</td>\n",
              "      <td>annular</td>\n",
              "      <td>annular</td>\n",
              "      <td>True</td>\n",
              "    </tr>\n",
              "    <tr>\n",
              "      <th>2</th>\n",
              "      <td>b'/content/dataset_2/test/annular/21.png'</td>\n",
              "      <td>0</td>\n",
              "      <td>0</td>\n",
              "      <td>0.806125</td>\n",
              "      <td>annular</td>\n",
              "      <td>annular</td>\n",
              "      <td>True</td>\n",
              "    </tr>\n",
              "    <tr>\n",
              "      <th>3</th>\n",
              "      <td>b'/content/dataset_2/test/annular/22.png'</td>\n",
              "      <td>0</td>\n",
              "      <td>0</td>\n",
              "      <td>0.594965</td>\n",
              "      <td>annular</td>\n",
              "      <td>annular</td>\n",
              "      <td>True</td>\n",
              "    </tr>\n",
              "    <tr>\n",
              "      <th>4</th>\n",
              "      <td>b'/content/dataset_2/test/annular/51.png'</td>\n",
              "      <td>0</td>\n",
              "      <td>0</td>\n",
              "      <td>0.611956</td>\n",
              "      <td>annular</td>\n",
              "      <td>annular</td>\n",
              "      <td>True</td>\n",
              "    </tr>\n",
              "    <tr>\n",
              "      <th>5</th>\n",
              "      <td>b'/content/dataset_2/test/annular/56.png'</td>\n",
              "      <td>0</td>\n",
              "      <td>4</td>\n",
              "      <td>0.440638</td>\n",
              "      <td>annular</td>\n",
              "      <td>wavy</td>\n",
              "      <td>False</td>\n",
              "    </tr>\n",
              "    <tr>\n",
              "      <th>6</th>\n",
              "      <td>b'/content/dataset_2/test/annular/7.png'</td>\n",
              "      <td>0</td>\n",
              "      <td>0</td>\n",
              "      <td>0.562234</td>\n",
              "      <td>annular</td>\n",
              "      <td>annular</td>\n",
              "      <td>True</td>\n",
              "    </tr>\n",
              "    <tr>\n",
              "      <th>7</th>\n",
              "      <td>b'/content/dataset_2/test/plug/29b.png'</td>\n",
              "      <td>1</td>\n",
              "      <td>1</td>\n",
              "      <td>0.715026</td>\n",
              "      <td>plug</td>\n",
              "      <td>plug</td>\n",
              "      <td>True</td>\n",
              "    </tr>\n",
              "    <tr>\n",
              "      <th>8</th>\n",
              "      <td>b'/content/dataset_2/test/slug/14.png'</td>\n",
              "      <td>2</td>\n",
              "      <td>2</td>\n",
              "      <td>0.552420</td>\n",
              "      <td>slug</td>\n",
              "      <td>slug</td>\n",
              "      <td>True</td>\n",
              "    </tr>\n",
              "    <tr>\n",
              "      <th>9</th>\n",
              "      <td>b'/content/dataset_2/test/slug/15.png'</td>\n",
              "      <td>2</td>\n",
              "      <td>2</td>\n",
              "      <td>0.359319</td>\n",
              "      <td>slug</td>\n",
              "      <td>slug</td>\n",
              "      <td>True</td>\n",
              "    </tr>\n",
              "    <tr>\n",
              "      <th>10</th>\n",
              "      <td>b'/content/dataset_2/test/stratified/12.png'</td>\n",
              "      <td>3</td>\n",
              "      <td>4</td>\n",
              "      <td>0.374451</td>\n",
              "      <td>stratified</td>\n",
              "      <td>wavy</td>\n",
              "      <td>False</td>\n",
              "    </tr>\n",
              "    <tr>\n",
              "      <th>11</th>\n",
              "      <td>b'/content/dataset_2/test/stratified/32.png'</td>\n",
              "      <td>3</td>\n",
              "      <td>3</td>\n",
              "      <td>0.697984</td>\n",
              "      <td>stratified</td>\n",
              "      <td>stratified</td>\n",
              "      <td>True</td>\n",
              "    </tr>\n",
              "    <tr>\n",
              "      <th>12</th>\n",
              "      <td>b'/content/dataset_2/test/stratified/42.png'</td>\n",
              "      <td>3</td>\n",
              "      <td>3</td>\n",
              "      <td>0.867746</td>\n",
              "      <td>stratified</td>\n",
              "      <td>stratified</td>\n",
              "      <td>True</td>\n",
              "    </tr>\n",
              "    <tr>\n",
              "      <th>13</th>\n",
              "      <td>b'/content/dataset_2/test/stratified/43.png'</td>\n",
              "      <td>3</td>\n",
              "      <td>1</td>\n",
              "      <td>0.406926</td>\n",
              "      <td>stratified</td>\n",
              "      <td>plug</td>\n",
              "      <td>False</td>\n",
              "    </tr>\n",
              "    <tr>\n",
              "      <th>14</th>\n",
              "      <td>b'/content/dataset_2/test/stratified/46.png'</td>\n",
              "      <td>3</td>\n",
              "      <td>3</td>\n",
              "      <td>0.799321</td>\n",
              "      <td>stratified</td>\n",
              "      <td>stratified</td>\n",
              "      <td>True</td>\n",
              "    </tr>\n",
              "    <tr>\n",
              "      <th>15</th>\n",
              "      <td>b'/content/dataset_2/test/stratified/47.png'</td>\n",
              "      <td>3</td>\n",
              "      <td>4</td>\n",
              "      <td>0.561246</td>\n",
              "      <td>stratified</td>\n",
              "      <td>wavy</td>\n",
              "      <td>False</td>\n",
              "    </tr>\n",
              "    <tr>\n",
              "      <th>16</th>\n",
              "      <td>b'/content/dataset_2/test/stratified/49.png'</td>\n",
              "      <td>3</td>\n",
              "      <td>3</td>\n",
              "      <td>0.771730</td>\n",
              "      <td>stratified</td>\n",
              "      <td>stratified</td>\n",
              "      <td>True</td>\n",
              "    </tr>\n",
              "    <tr>\n",
              "      <th>17</th>\n",
              "      <td>b'/content/dataset_2/test/stratified/53.png'</td>\n",
              "      <td>3</td>\n",
              "      <td>3</td>\n",
              "      <td>0.486224</td>\n",
              "      <td>stratified</td>\n",
              "      <td>stratified</td>\n",
              "      <td>True</td>\n",
              "    </tr>\n",
              "    <tr>\n",
              "      <th>18</th>\n",
              "      <td>b'/content/dataset_2/test/stratified/58.png'</td>\n",
              "      <td>3</td>\n",
              "      <td>3</td>\n",
              "      <td>0.699202</td>\n",
              "      <td>stratified</td>\n",
              "      <td>stratified</td>\n",
              "      <td>True</td>\n",
              "    </tr>\n",
              "    <tr>\n",
              "      <th>19</th>\n",
              "      <td>b'/content/dataset_2/test/wavy/28.png'</td>\n",
              "      <td>4</td>\n",
              "      <td>0</td>\n",
              "      <td>0.503353</td>\n",
              "      <td>wavy</td>\n",
              "      <td>annular</td>\n",
              "      <td>False</td>\n",
              "    </tr>\n",
              "    <tr>\n",
              "      <th>20</th>\n",
              "      <td>b'/content/dataset_2/test/wavy/33.png'</td>\n",
              "      <td>4</td>\n",
              "      <td>4</td>\n",
              "      <td>0.333707</td>\n",
              "      <td>wavy</td>\n",
              "      <td>wavy</td>\n",
              "      <td>True</td>\n",
              "    </tr>\n",
              "    <tr>\n",
              "      <th>21</th>\n",
              "      <td>b'/content/dataset_2/test/wavy/34.png'</td>\n",
              "      <td>4</td>\n",
              "      <td>4</td>\n",
              "      <td>0.527084</td>\n",
              "      <td>wavy</td>\n",
              "      <td>wavy</td>\n",
              "      <td>True</td>\n",
              "    </tr>\n",
              "    <tr>\n",
              "      <th>22</th>\n",
              "      <td>b'/content/dataset_2/test/wavy/35.png'</td>\n",
              "      <td>4</td>\n",
              "      <td>0</td>\n",
              "      <td>0.543684</td>\n",
              "      <td>wavy</td>\n",
              "      <td>annular</td>\n",
              "      <td>False</td>\n",
              "    </tr>\n",
              "    <tr>\n",
              "      <th>23</th>\n",
              "      <td>b'/content/dataset_2/test/wavy/38.png'</td>\n",
              "      <td>4</td>\n",
              "      <td>0</td>\n",
              "      <td>0.788998</td>\n",
              "      <td>wavy</td>\n",
              "      <td>annular</td>\n",
              "      <td>False</td>\n",
              "    </tr>\n",
              "    <tr>\n",
              "      <th>24</th>\n",
              "      <td>b'/content/dataset_2/test/wavy/40.png'</td>\n",
              "      <td>4</td>\n",
              "      <td>4</td>\n",
              "      <td>0.582240</td>\n",
              "      <td>wavy</td>\n",
              "      <td>wavy</td>\n",
              "      <td>True</td>\n",
              "    </tr>\n",
              "    <tr>\n",
              "      <th>25</th>\n",
              "      <td>b'/content/dataset_2/test/wavy/41.png'</td>\n",
              "      <td>4</td>\n",
              "      <td>0</td>\n",
              "      <td>0.593248</td>\n",
              "      <td>wavy</td>\n",
              "      <td>annular</td>\n",
              "      <td>False</td>\n",
              "    </tr>\n",
              "    <tr>\n",
              "      <th>26</th>\n",
              "      <td>b'/content/dataset_2/test/wavy/44.png'</td>\n",
              "      <td>4</td>\n",
              "      <td>4</td>\n",
              "      <td>0.550909</td>\n",
              "      <td>wavy</td>\n",
              "      <td>wavy</td>\n",
              "      <td>True</td>\n",
              "    </tr>\n",
              "    <tr>\n",
              "      <th>27</th>\n",
              "      <td>b'/content/dataset_2/test/wavy/45.png'</td>\n",
              "      <td>4</td>\n",
              "      <td>4</td>\n",
              "      <td>0.446966</td>\n",
              "      <td>wavy</td>\n",
              "      <td>wavy</td>\n",
              "      <td>True</td>\n",
              "    </tr>\n",
              "    <tr>\n",
              "      <th>28</th>\n",
              "      <td>b'/content/dataset_2/test/wavy/57.png'</td>\n",
              "      <td>4</td>\n",
              "      <td>4</td>\n",
              "      <td>0.680321</td>\n",
              "      <td>wavy</td>\n",
              "      <td>wavy</td>\n",
              "      <td>True</td>\n",
              "    </tr>\n",
              "    <tr>\n",
              "      <th>29</th>\n",
              "      <td>b'/content/dataset_2/test/wavy/9.png'</td>\n",
              "      <td>4</td>\n",
              "      <td>4</td>\n",
              "      <td>0.598664</td>\n",
              "      <td>wavy</td>\n",
              "      <td>wavy</td>\n",
              "      <td>True</td>\n",
              "    </tr>\n",
              "  </tbody>\n",
              "</table>\n",
              "</div>\n",
              "      <button class=\"colab-df-convert\" onclick=\"convertToInteractive('df-4e559818-8b52-4d35-aa36-5a8319fa9cd5')\"\n",
              "              title=\"Convert this dataframe to an interactive table.\"\n",
              "              style=\"display:none;\">\n",
              "        \n",
              "  <svg xmlns=\"http://www.w3.org/2000/svg\" height=\"24px\"viewBox=\"0 0 24 24\"\n",
              "       width=\"24px\">\n",
              "    <path d=\"M0 0h24v24H0V0z\" fill=\"none\"/>\n",
              "    <path d=\"M18.56 5.44l.94 2.06.94-2.06 2.06-.94-2.06-.94-.94-2.06-.94 2.06-2.06.94zm-11 1L8.5 8.5l.94-2.06 2.06-.94-2.06-.94L8.5 2.5l-.94 2.06-2.06.94zm10 10l.94 2.06.94-2.06 2.06-.94-2.06-.94-.94-2.06-.94 2.06-2.06.94z\"/><path d=\"M17.41 7.96l-1.37-1.37c-.4-.4-.92-.59-1.43-.59-.52 0-1.04.2-1.43.59L10.3 9.45l-7.72 7.72c-.78.78-.78 2.05 0 2.83L4 21.41c.39.39.9.59 1.41.59.51 0 1.02-.2 1.41-.59l7.78-7.78 2.81-2.81c.8-.78.8-2.07 0-2.86zM5.41 20L4 18.59l7.72-7.72 1.47 1.35L5.41 20z\"/>\n",
              "  </svg>\n",
              "      </button>\n",
              "      \n",
              "  <style>\n",
              "    .colab-df-container {\n",
              "      display:flex;\n",
              "      flex-wrap:wrap;\n",
              "      gap: 12px;\n",
              "    }\n",
              "\n",
              "    .colab-df-convert {\n",
              "      background-color: #E8F0FE;\n",
              "      border: none;\n",
              "      border-radius: 50%;\n",
              "      cursor: pointer;\n",
              "      display: none;\n",
              "      fill: #1967D2;\n",
              "      height: 32px;\n",
              "      padding: 0 0 0 0;\n",
              "      width: 32px;\n",
              "    }\n",
              "\n",
              "    .colab-df-convert:hover {\n",
              "      background-color: #E2EBFA;\n",
              "      box-shadow: 0px 1px 2px rgba(60, 64, 67, 0.3), 0px 1px 3px 1px rgba(60, 64, 67, 0.15);\n",
              "      fill: #174EA6;\n",
              "    }\n",
              "\n",
              "    [theme=dark] .colab-df-convert {\n",
              "      background-color: #3B4455;\n",
              "      fill: #D2E3FC;\n",
              "    }\n",
              "\n",
              "    [theme=dark] .colab-df-convert:hover {\n",
              "      background-color: #434B5C;\n",
              "      box-shadow: 0px 1px 3px 1px rgba(0, 0, 0, 0.15);\n",
              "      filter: drop-shadow(0px 1px 2px rgba(0, 0, 0, 0.3));\n",
              "      fill: #FFFFFF;\n",
              "    }\n",
              "  </style>\n",
              "\n",
              "      <script>\n",
              "        const buttonEl =\n",
              "          document.querySelector('#df-4e559818-8b52-4d35-aa36-5a8319fa9cd5 button.colab-df-convert');\n",
              "        buttonEl.style.display =\n",
              "          google.colab.kernel.accessAllowed ? 'block' : 'none';\n",
              "\n",
              "        async function convertToInteractive(key) {\n",
              "          const element = document.querySelector('#df-4e559818-8b52-4d35-aa36-5a8319fa9cd5');\n",
              "          const dataTable =\n",
              "            await google.colab.kernel.invokeFunction('convertToInteractive',\n",
              "                                                     [key], {});\n",
              "          if (!dataTable) return;\n",
              "\n",
              "          const docLinkHtml = 'Like what you see? Visit the ' +\n",
              "            '<a target=\"_blank\" href=https://colab.research.google.com/notebooks/data_table.ipynb>data table notebook</a>'\n",
              "            + ' to learn more about interactive tables.';\n",
              "          element.innerHTML = '';\n",
              "          dataTable['output_type'] = 'display_data';\n",
              "          await google.colab.output.renderOutput(dataTable, element);\n",
              "          const docLink = document.createElement('div');\n",
              "          docLink.innerHTML = docLinkHtml;\n",
              "          element.appendChild(docLink);\n",
              "        }\n",
              "      </script>\n",
              "    </div>\n",
              "  </div>\n",
              "  "
            ]
          },
          "metadata": {},
          "execution_count": 31
        }
      ]
    },
    {
      "cell_type": "code",
      "source": [
        "# Saving file\n",
        "pred_df.to_excel(\"pred_df.xlsx\", index=False)"
      ],
      "metadata": {
        "id": "BGR3BibQ5wy1"
      },
      "execution_count": null,
      "outputs": []
    },
    {
      "cell_type": "markdown",
      "source": [
        "# split image work"
      ],
      "metadata": {
        "id": "Keppe_8RpzIm"
      }
    },
    {
      "cell_type": "code",
      "source": [
        "# Extacting data \n",
        "import numpy as np\n",
        "import zipfile\n",
        "\n",
        "# Unzip the downloaded file\n",
        "zip_ref = zipfile.ZipFile(\"/content/drive/MyDrive/Multiphase_project/split_images_dataset_3_train_test.zip\")\n",
        "zip_ref.extractall()\n",
        "zip_ref.close()"
      ],
      "metadata": {
        "id": "ibId___6p2Ch"
      },
      "execution_count": null,
      "outputs": []
    },
    {
      "cell_type": "code",
      "source": [
        "# How many images in each folder?\n",
        "import os\n",
        "\n",
        "# Walk through 10 percent data directory and list number of files\n",
        "for dirpath, dirnames, filenames in os.walk(\"split_images_dataset_3_train_test\"):\n",
        "  print(f\"There are {len(dirnames)} directories and {len(filenames)} images in '{dirpath}'.\")"
      ],
      "metadata": {
        "colab": {
          "base_uri": "https://localhost:8080/"
        },
        "id": "0s7EM_dSqBaa",
        "outputId": "0081ef0b-c58c-4ed4-d568-23d3d5812bc4"
      },
      "execution_count": null,
      "outputs": [
        {
          "output_type": "stream",
          "name": "stdout",
          "text": [
            "There are 2 directories and 0 images in 'split_images_dataset_3_train_test'.\n",
            "There are 5 directories and 0 images in 'split_images_dataset_3_train_test/test'.\n",
            "There are 0 directories and 5 images in 'split_images_dataset_3_train_test/test/plug'.\n",
            "There are 0 directories and 7 images in 'split_images_dataset_3_train_test/test/slug'.\n",
            "There are 0 directories and 15 images in 'split_images_dataset_3_train_test/test/wavy'.\n",
            "There are 0 directories and 14 images in 'split_images_dataset_3_train_test/test/stratified'.\n",
            "There are 0 directories and 12 images in 'split_images_dataset_3_train_test/test/annular'.\n",
            "There are 5 directories and 0 images in 'split_images_dataset_3_train_test/train'.\n",
            "There are 0 directories and 19 images in 'split_images_dataset_3_train_test/train/plug'.\n",
            "There are 0 directories and 25 images in 'split_images_dataset_3_train_test/train/slug'.\n",
            "There are 0 directories and 57 images in 'split_images_dataset_3_train_test/train/wavy'.\n",
            "There are 0 directories and 54 images in 'split_images_dataset_3_train_test/train/stratified'.\n",
            "There are 0 directories and 44 images in 'split_images_dataset_3_train_test/train/annular'.\n"
          ]
        }
      ]
    },
    {
      "cell_type": "code",
      "source": [
        "# Create training and test directory paths\n",
        "train_dir_3 = \"split_images_dataset_3_train_test/train\"\n",
        "test_dir_3 = \"split_images_dataset_3_train_test/test\""
      ],
      "metadata": {
        "id": "NSpZWaGAqbB8"
      },
      "execution_count": null,
      "outputs": []
    },
    {
      "cell_type": "code",
      "source": [
        "# Setup data inputs\n",
        "import tensorflow as tf\n",
        "IMG_SIZE = (224, 224)\n",
        "train_data_5 = tf.keras.utils.image_dataset_from_directory(train_dir_3,\n",
        "                                                         label_mode=\"categorical\",\n",
        "                                                        image_size=IMG_SIZE,\n",
        "                                                         batch_size=2)\n",
        "test_data_5 = tf.keras.utils.image_dataset_from_directory(test_dir_3,\n",
        "                                                        label_mode=\"categorical\",\n",
        "                                                        image_size=IMG_SIZE,\n",
        "                                                        shuffle=False,\n",
        "                                                        batch_size=2)"
      ],
      "metadata": {
        "colab": {
          "base_uri": "https://localhost:8080/"
        },
        "id": "8e8ulcufqnNL",
        "outputId": "9ac49802-e42b-4112-dc06-f09d91fa589b"
      },
      "execution_count": null,
      "outputs": [
        {
          "output_type": "stream",
          "name": "stdout",
          "text": [
            "Found 199 files belonging to 5 classes.\n",
            "Found 53 files belonging to 5 classes.\n"
          ]
        }
      ]
    },
    {
      "cell_type": "code",
      "source": [
        "class_names = test_data_5.class_names\n",
        "class_names"
      ],
      "metadata": {
        "colab": {
          "base_uri": "https://localhost:8080/"
        },
        "id": "TJZpMskzqyk4",
        "outputId": "9c08f955-e768-491a-aae9-151a771bbcda"
      },
      "execution_count": null,
      "outputs": [
        {
          "output_type": "execute_result",
          "data": {
            "text/plain": [
              "['annular', 'plug', 'slug', 'stratified', 'wavy']"
            ]
          },
          "metadata": {},
          "execution_count": 8
        }
      ]
    },
    {
      "cell_type": "code",
      "source": [
        "# Create early stopping callback\n",
        "early_stopping = tf.keras.callbacks.EarlyStopping(monitor=\"val_accuracy\",\n",
        "                                                  patience=5)"
      ],
      "metadata": {
        "id": "IBqcmVQgq3S8"
      },
      "execution_count": null,
      "outputs": []
    },
    {
      "cell_type": "code",
      "source": [
        "# Let's try EfficientNetB2\n",
        "# Setup the base model\n",
        "base_model_23 = tf.keras.applications.EfficientNetB2(include_top=False)\n",
        "base_model_23.trainable = False\n",
        "\n",
        "# Setup model architecture with trainable top layers\n",
        "inputs = layers.Input(shape=(224, 224, 3), name=\"input_layer\")\n",
        "x = data_augmentation(inputs) \n",
        "x = base_model_23(x, training=False) \n",
        "x = layers.GlobalAveragePooling2D(name=\"global_avg_pool_layer\")(x)\n",
        "outputs = layers.Dense(5, activation=\"softmax\", name=\"output_layer\")(x)\n",
        "model_23 = tf.keras.Model(inputs, outputs)\n",
        "\n",
        "# Compile\n",
        "model_23.compile(loss=\"categorical_crossentropy\",\n",
        "              optimizer=tf.optimizers.Adam(),\n",
        "              metrics=[\"accuracy\"])\n",
        "\n",
        "# Fit\n",
        "history_model_23 = model_23.fit(train_data_5,\n",
        "                               epochs=100,\n",
        "                               validation_data=test_data_5,\n",
        "                               validation_steps=len(test_data_5),\n",
        "                               callbacks=[early_stopping])"
      ],
      "metadata": {
        "colab": {
          "base_uri": "https://localhost:8080/"
        },
        "id": "pXfiLjplrK-u",
        "outputId": "7b3c5d9f-1237-472b-a6ec-7f23972891b2"
      },
      "execution_count": null,
      "outputs": [
        {
          "output_type": "stream",
          "name": "stdout",
          "text": [
            "Epoch 1/100\n"
          ]
        },
        {
          "output_type": "stream",
          "name": "stderr",
          "text": [
            "WARNING:tensorflow:Using a while_loop for converting RngReadAndSkip\n",
            "WARNING:tensorflow:Using a while_loop for converting Bitcast\n",
            "WARNING:tensorflow:Using a while_loop for converting Bitcast\n",
            "WARNING:tensorflow:Using a while_loop for converting StatelessRandomUniformFullIntV2\n",
            "WARNING:tensorflow:Using a while_loop for converting StatelessRandomGetKeyCounter\n",
            "WARNING:tensorflow:Using a while_loop for converting StatelessRandomUniformV2\n",
            "WARNING:tensorflow:Using a while_loop for converting AdjustContrastv2\n",
            "WARNING:tensorflow:Using a while_loop for converting RngReadAndSkip\n",
            "WARNING:tensorflow:Using a while_loop for converting Bitcast\n",
            "WARNING:tensorflow:Using a while_loop for converting Bitcast\n",
            "WARNING:tensorflow:Using a while_loop for converting StatelessRandomUniformFullIntV2\n",
            "WARNING:tensorflow:Using a while_loop for converting StatelessRandomGetKeyCounter\n",
            "WARNING:tensorflow:Using a while_loop for converting StatelessRandomUniformV2\n",
            "WARNING:tensorflow:Using a while_loop for converting AdjustContrastv2\n"
          ]
        },
        {
          "output_type": "stream",
          "name": "stdout",
          "text": [
            "100/100 [==============================] - 26s 95ms/step - loss: 1.5173 - accuracy: 0.3065 - val_loss: 1.2579 - val_accuracy: 0.5849\n",
            "Epoch 2/100\n",
            "100/100 [==============================] - 8s 72ms/step - loss: 1.2986 - accuracy: 0.4422 - val_loss: 1.1468 - val_accuracy: 0.5472\n",
            "Epoch 3/100\n",
            "100/100 [==============================] - 8s 75ms/step - loss: 1.2295 - accuracy: 0.4774 - val_loss: 1.0653 - val_accuracy: 0.5849\n",
            "Epoch 4/100\n",
            "100/100 [==============================] - 8s 75ms/step - loss: 1.1807 - accuracy: 0.5276 - val_loss: 1.0414 - val_accuracy: 0.6038\n",
            "Epoch 5/100\n",
            "100/100 [==============================] - 8s 75ms/step - loss: 1.0871 - accuracy: 0.5226 - val_loss: 1.0149 - val_accuracy: 0.5283\n",
            "Epoch 6/100\n",
            "100/100 [==============================] - 8s 73ms/step - loss: 1.0715 - accuracy: 0.5578 - val_loss: 1.0947 - val_accuracy: 0.4906\n",
            "Epoch 7/100\n",
            "100/100 [==============================] - 8s 73ms/step - loss: 1.0029 - accuracy: 0.5930 - val_loss: 1.0785 - val_accuracy: 0.4906\n",
            "Epoch 8/100\n",
            "100/100 [==============================] - 8s 73ms/step - loss: 1.1318 - accuracy: 0.5327 - val_loss: 1.0330 - val_accuracy: 0.6226\n",
            "Epoch 9/100\n",
            "100/100 [==============================] - 8s 73ms/step - loss: 1.0035 - accuracy: 0.5678 - val_loss: 1.0253 - val_accuracy: 0.4340\n",
            "Epoch 10/100\n",
            "100/100 [==============================] - 9s 91ms/step - loss: 1.0341 - accuracy: 0.5678 - val_loss: 0.9837 - val_accuracy: 0.6415\n",
            "Epoch 11/100\n",
            "100/100 [==============================] - 8s 73ms/step - loss: 0.9984 - accuracy: 0.6030 - val_loss: 0.9465 - val_accuracy: 0.5472\n",
            "Epoch 12/100\n",
            "100/100 [==============================] - 8s 75ms/step - loss: 0.9709 - accuracy: 0.6030 - val_loss: 1.0995 - val_accuracy: 0.4717\n",
            "Epoch 13/100\n",
            "100/100 [==============================] - 8s 74ms/step - loss: 0.9824 - accuracy: 0.5980 - val_loss: 1.0252 - val_accuracy: 0.4717\n",
            "Epoch 14/100\n",
            "100/100 [==============================] - 8s 74ms/step - loss: 0.9758 - accuracy: 0.6080 - val_loss: 1.1703 - val_accuracy: 0.4151\n",
            "Epoch 15/100\n",
            "100/100 [==============================] - 8s 74ms/step - loss: 0.9806 - accuracy: 0.5879 - val_loss: 1.0658 - val_accuracy: 0.5849\n"
          ]
        }
      ]
    }
  ]
}