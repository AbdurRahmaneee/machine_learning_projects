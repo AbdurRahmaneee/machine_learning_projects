{
  "nbformat": 4,
  "nbformat_minor": 0,
  "metadata": {
    "colab": {
      "provenance": [],
      "mount_file_id": "1PPKBJRiAwcm-zhdEgBm4W7q3nkVkUQqr",
      "authorship_tag": "ABX9TyNTPuFNpgT0YiR9TdYuH36C",
      "include_colab_link": true
    },
    "kernelspec": {
      "name": "python3",
      "display_name": "Python 3"
    },
    "language_info": {
      "name": "python"
    },
    "accelerator": "GPU"
  },
  "cells": [
    {
      "cell_type": "markdown",
      "metadata": {
        "id": "view-in-github",
        "colab_type": "text"
      },
      "source": [
        "<a href=\"https://colab.research.google.com/github/AbdurRahmaneee/machine_learning_projects/blob/main/Multi_phaseflow_01.ipynb\" target=\"_parent\"><img src=\"https://colab.research.google.com/assets/colab-badge.svg\" alt=\"Open In Colab\"/></a>"
      ]
    },
    {
      "cell_type": "code",
      "source": [
        "# Working with 1st dataset"
      ],
      "metadata": {
        "id": "Fb-h0ID3uurH"
      },
      "execution_count": null,
      "outputs": []
    },
    {
      "cell_type": "code",
      "execution_count": null,
      "metadata": {
        "id": "5P9xofP1LxXI",
        "colab": {
          "base_uri": "https://localhost:8080/",
          "height": 357
        },
        "outputId": "04450473-4dd6-434a-f371-3dfe21a6c767"
      },
      "outputs": [
        {
          "output_type": "error",
          "ename": "FileNotFoundError",
          "evalue": "ignored",
          "traceback": [
            "\u001b[0;31m---------------------------------------------------------------------------\u001b[0m",
            "\u001b[0;31mFileNotFoundError\u001b[0m                         Traceback (most recent call last)",
            "\u001b[0;32m<ipython-input-3-934a5d2b74d5>\u001b[0m in \u001b[0;36m<module>\u001b[0;34m\u001b[0m\n\u001b[1;32m      4\u001b[0m \u001b[0;34m\u001b[0m\u001b[0m\n\u001b[1;32m      5\u001b[0m \u001b[0;31m# Unzip the downloaded file\u001b[0m\u001b[0;34m\u001b[0m\u001b[0;34m\u001b[0m\u001b[0;34m\u001b[0m\u001b[0m\n\u001b[0;32m----> 6\u001b[0;31m \u001b[0mzip_ref\u001b[0m \u001b[0;34m=\u001b[0m \u001b[0mzipfile\u001b[0m\u001b[0;34m.\u001b[0m\u001b[0mZipFile\u001b[0m\u001b[0;34m(\u001b[0m\u001b[0;34m\"/content/drive/MyDrive/Multiphase_project/dataset_1.zip\"\u001b[0m\u001b[0;34m)\u001b[0m\u001b[0;34m\u001b[0m\u001b[0;34m\u001b[0m\u001b[0m\n\u001b[0m\u001b[1;32m      7\u001b[0m \u001b[0mzip_ref\u001b[0m\u001b[0;34m.\u001b[0m\u001b[0mextractall\u001b[0m\u001b[0;34m(\u001b[0m\u001b[0;34m)\u001b[0m\u001b[0;34m\u001b[0m\u001b[0;34m\u001b[0m\u001b[0m\n\u001b[1;32m      8\u001b[0m \u001b[0mzip_ref\u001b[0m\u001b[0;34m.\u001b[0m\u001b[0mclose\u001b[0m\u001b[0;34m(\u001b[0m\u001b[0;34m)\u001b[0m\u001b[0;34m\u001b[0m\u001b[0;34m\u001b[0m\u001b[0m\n",
            "\u001b[0;32m/usr/lib/python3.7/zipfile.py\u001b[0m in \u001b[0;36m__init__\u001b[0;34m(self, file, mode, compression, allowZip64, compresslevel)\u001b[0m\n\u001b[1;32m   1238\u001b[0m             \u001b[0;32mwhile\u001b[0m \u001b[0;32mTrue\u001b[0m\u001b[0;34m:\u001b[0m\u001b[0;34m\u001b[0m\u001b[0;34m\u001b[0m\u001b[0m\n\u001b[1;32m   1239\u001b[0m                 \u001b[0;32mtry\u001b[0m\u001b[0;34m:\u001b[0m\u001b[0;34m\u001b[0m\u001b[0;34m\u001b[0m\u001b[0m\n\u001b[0;32m-> 1240\u001b[0;31m                     \u001b[0mself\u001b[0m\u001b[0;34m.\u001b[0m\u001b[0mfp\u001b[0m \u001b[0;34m=\u001b[0m \u001b[0mio\u001b[0m\u001b[0;34m.\u001b[0m\u001b[0mopen\u001b[0m\u001b[0;34m(\u001b[0m\u001b[0mfile\u001b[0m\u001b[0;34m,\u001b[0m \u001b[0mfilemode\u001b[0m\u001b[0;34m)\u001b[0m\u001b[0;34m\u001b[0m\u001b[0;34m\u001b[0m\u001b[0m\n\u001b[0m\u001b[1;32m   1241\u001b[0m                 \u001b[0;32mexcept\u001b[0m \u001b[0mOSError\u001b[0m\u001b[0;34m:\u001b[0m\u001b[0;34m\u001b[0m\u001b[0;34m\u001b[0m\u001b[0m\n\u001b[1;32m   1242\u001b[0m                     \u001b[0;32mif\u001b[0m \u001b[0mfilemode\u001b[0m \u001b[0;32min\u001b[0m \u001b[0mmodeDict\u001b[0m\u001b[0;34m:\u001b[0m\u001b[0;34m\u001b[0m\u001b[0;34m\u001b[0m\u001b[0m\n",
            "\u001b[0;31mFileNotFoundError\u001b[0m: [Errno 2] No such file or directory: '/content/drive/MyDrive/Multiphase_project/dataset_1.zip'"
          ]
        }
      ],
      "source": [
        "# Extacting data \n",
        "import numpy as np\n",
        "import zipfile\n",
        "\n",
        "# Unzip the downloaded file\n",
        "zip_ref = zipfile.ZipFile(\"/content/drive/MyDrive/Multiphase_project/dataset_1.zip\")\n",
        "zip_ref.extractall()\n",
        "zip_ref.close()"
      ]
    },
    {
      "cell_type": "code",
      "source": [
        "# How many images in each folder?\n",
        "import os\n",
        "\n",
        "# Walk through 10 percent data directory and list number of files\n",
        "for dirpath, dirnames, filenames in os.walk(\"dataset_1\"):\n",
        "  print(f\"There are {len(dirnames)} directories and {len(filenames)} images in '{dirpath}'.\")"
      ],
      "metadata": {
        "id": "R9ZcOaY9Xfmi"
      },
      "execution_count": null,
      "outputs": []
    },
    {
      "cell_type": "code",
      "source": [
        "# Create training and test directory paths\n",
        "train_dir = \"dataset/train\"\n",
        "test_dir = \"dataset/test\""
      ],
      "metadata": {
        "id": "ShKeDhApX2dQ"
      },
      "execution_count": null,
      "outputs": []
    },
    {
      "cell_type": "code",
      "source": [
        "# Setup data inputs\n",
        "import tensorflow as tf\n",
        "IMG_SIZE = (224, 224)\n",
        "train_data = tf.keras.utils.image_dataset_from_directory(train_dir,\n",
        "                                                         label_mode=\"categorical\",\n",
        "                                                        image_size=IMG_SIZE,\n",
        "                                                         batch_size=2)\n",
        "test_data = tf.keras.utils.image_dataset_from_directory(test_dir,\n",
        "                                                        label_mode=\"categorical\",\n",
        "                                                        image_size=IMG_SIZE,\n",
        "                                                        shuffle=False,\n",
        "                                                        batch_size=2)"
      ],
      "metadata": {
        "id": "it22i6MFpRJk"
      },
      "execution_count": null,
      "outputs": []
    },
    {
      "cell_type": "code",
      "source": [
        "class_names = test_data.class_names\n",
        "class_names"
      ],
      "metadata": {
        "colab": {
          "base_uri": "https://localhost:8080/"
        },
        "id": "TKIOx2Jaey8I",
        "outputId": "49a1b8c6-d9cf-449f-ff27-ff0c3a7ac0dc"
      },
      "execution_count": null,
      "outputs": [
        {
          "output_type": "execute_result",
          "data": {
            "text/plain": [
              "['annular', 'plug', 'slug', 'stratified', 'wavy']"
            ]
          },
          "metadata": {},
          "execution_count": 7
        }
      ]
    },
    {
      "cell_type": "code",
      "source": [
        "len(test_data.class_names)"
      ],
      "metadata": {
        "colab": {
          "base_uri": "https://localhost:8080/"
        },
        "id": "JClFZbQEc_fp",
        "outputId": "a014c46e-2b7d-4f60-b386-dc219050aade"
      },
      "execution_count": null,
      "outputs": [
        {
          "output_type": "execute_result",
          "data": {
            "text/plain": [
              "5"
            ]
          },
          "metadata": {},
          "execution_count": 6
        }
      ]
    },
    {
      "cell_type": "code",
      "source": [
        "len(train_data)"
      ],
      "metadata": {
        "colab": {
          "base_uri": "https://localhost:8080/"
        },
        "id": "LXgcsKB7Lu5o",
        "outputId": "13364262-1808-4d69-ad27-ad8dd382fbd8"
      },
      "execution_count": null,
      "outputs": [
        {
          "output_type": "execute_result",
          "data": {
            "text/plain": [
              "32"
            ]
          },
          "metadata": {},
          "execution_count": 7
        }
      ]
    },
    {
      "cell_type": "markdown",
      "source": [
        "<!-- ### TensorBoard callback\n",
        "\n",
        "1. Load the tensorboard notebook extension\n",
        "2. Create a tensorboard callback which is able to save logs to a directory and pass it to our model's fit() function.\n",
        "3. Visualize our models training logs with the `%tensorboard magic function` (after model training) -->"
      ],
      "metadata": {
        "id": "3xEflDlhflUP"
      }
    },
    {
      "cell_type": "code",
      "source": [],
      "metadata": {
        "id": "3vNBiszup4Qa"
      },
      "execution_count": null,
      "outputs": []
    },
    {
      "cell_type": "code",
      "source": [
        "# # Load tensorboard notebook extension\n",
        "# %load_ext tensorboard\n"
      ],
      "metadata": {
        "id": "6z_66ohsgVnR"
      },
      "execution_count": null,
      "outputs": []
    },
    {
      "cell_type": "code",
      "source": [
        "# Create early stopping callback\n",
        "early_stopping = tf.keras.callbacks.EarlyStopping(monitor=\"val_accuracy\",\n",
        "                                                  patience=5)"
      ],
      "metadata": {
        "id": "jvIxU_iTp8K-"
      },
      "execution_count": null,
      "outputs": []
    },
    {
      "cell_type": "code",
      "source": [
        "# import datetime\n",
        "\n",
        "# # Create a fucntion to build a tensorboard callback\n",
        "# def create_tensorboard_callback():\n",
        "#   #  create a log directory for storing tensorboard"
      ],
      "metadata": {
        "id": "8-kZpqcAgfGG"
      },
      "execution_count": null,
      "outputs": []
    },
    {
      "cell_type": "code",
      "source": [
        "# Creating data augmentation layer\n",
        "from tensorflow.keras import layers\n",
        "from tensorflow.keras.layers.experimental import preprocessing\n",
        "from tensorflow.keras.models import Sequential\n",
        "\n",
        "# Setup data augmentation\n",
        "data_augmentation = Sequential([\n",
        "    preprocessing.RandomFlip(\"horizontal\"),\n",
        "    preprocessing.RandomRotation(0.2),\n",
        "    #preprocessing.RandomCrop(244, 244, 42),\n",
        "    #preprocessing.RandomHeight(0.2), \n",
        "    #preprocessing.RandomWidth(0.2), \n",
        "    preprocessing.RandomZoom(0.2),\n",
        "    # preprocessing.Rescalling(1/255.)\n",
        "    preprocessing.RandomContrast(0.2),\n",
        "    #preprocessing.RandomTranslation(height_factor=(-0.1, +0.1), width_factor=(-0.1, +0.1), fill_mode=\"nearest\", interpolation=\"nearest\", seed= 42) # not cool\n",
        "], name =\"data_augmentation\")"
      ],
      "metadata": {
        "id": "95mp0ADrbyPF"
      },
      "execution_count": null,
      "outputs": []
    },
    {
      "cell_type": "code",
      "source": [
        "# Function to plot loss cureves\n",
        "import matplotlib.pyplot as plt\n",
        "\n",
        "# Plot the validation and training curves\n",
        "def plot_loss_curves(history):\n",
        "  \"\"\"\n",
        "  Returns seperate loss curves for training and validation metrics.\n",
        "\n",
        "  Args:\n",
        "    history: Tensorflow History object.\n",
        "  \n",
        "  Returns:\n",
        "    Plot of training/validation loss and accuracy metrics\n",
        "  \"\"\"\n",
        "  loss = history.history[\"loss\"]\n",
        "  val_loss = history.history[\"val_loss\"]\n",
        "\n",
        "  accuracy = history.history[\"accuracy\"]\n",
        "  val_accuracy= history.history[\"val_accuracy\"]\n",
        "\n",
        "  epochs = range(len(history.history[\"loss\"]))\n",
        "\n",
        "  # Plot loss\n",
        "  plt.plot(epochs, loss, label=\"training_loss\")\n",
        "  plt.plot(epochs, val_loss, label=\"val_loss\")\n",
        "  plt.title(\"Loss\")\n",
        "  plt.xlabel(\"Epochs\")\n",
        "  plt.legend()\n",
        "\n",
        "  # Plot accuracy\n",
        "  plt.figure()\n",
        "  plt.plot(epochs, accuracy, label=\"training_accuracy\")\n",
        "  plt.plot(epochs, val_accuracy, label=\"val_accuracy\")\n",
        "  plt.title(\"Accuracy\")\n",
        "  plt.xlabel(\"Epochs\")\n",
        "  plt.legend()"
      ],
      "metadata": {
        "id": "-S50rL2lfkN5"
      },
      "execution_count": null,
      "outputs": []
    },
    {
      "cell_type": "code",
      "source": [
        "# Setup the base model\n",
        "base_model = tf.keras.applications.EfficientNetB0(include_top=False)\n",
        "base_model.trainable = False\n",
        "\n",
        "# Setup model architecture with trainable top layers\n",
        "inputs = layers.Input(shape=(224, 224, 3), name=\"input_layer\")\n",
        "x = data_augmentation(inputs) \n",
        "x = base_model(x, training=False) \n",
        "x = layers.GlobalAveragePooling2D(name=\"global_avg_pool_layer\")(x)\n",
        "outputs = layers.Dense(5, activation=\"softmax\", name=\"output_layer\")(x)\n",
        "model = tf.keras.Model(inputs, outputs)"
      ],
      "metadata": {
        "id": "9IJtAnitd4kg"
      },
      "execution_count": null,
      "outputs": []
    },
    {
      "cell_type": "code",
      "source": [
        "# model summary\n",
        "model.summary()"
      ],
      "metadata": {
        "colab": {
          "base_uri": "https://localhost:8080/"
        },
        "id": "CzL4rP7VFHVC",
        "outputId": "c3c7a563-e59d-4792-efa0-1b709cdcf490"
      },
      "execution_count": null,
      "outputs": [
        {
          "output_type": "stream",
          "name": "stdout",
          "text": [
            "Model: \"model_9\"\n",
            "_________________________________________________________________\n",
            " Layer (type)                Output Shape              Param #   \n",
            "=================================================================\n",
            " input_layer (InputLayer)    [(None, 224, 224, 3)]     0         \n",
            "                                                                 \n",
            " data_augmentation (Sequenti  (None, 224, 224, 3)      0         \n",
            " al)                                                             \n",
            "                                                                 \n",
            " efficientnetb0 (Functional)  (None, None, None, 1280)  4049571  \n",
            "                                                                 \n",
            " global_avg_pool_layer (Glob  (None, 1280)             0         \n",
            " alAveragePooling2D)                                             \n",
            "                                                                 \n",
            " output_layer (Dense)        (None, 5)                 6405      \n",
            "                                                                 \n",
            "=================================================================\n",
            "Total params: 4,055,976\n",
            "Trainable params: 6,405\n",
            "Non-trainable params: 4,049,571\n",
            "_________________________________________________________________\n"
          ]
        }
      ]
    },
    {
      "cell_type": "code",
      "source": [
        "# Compile\n",
        "model.compile(loss=\"categorical_crossentropy\",\n",
        "              optimizer=tf.optimizers.Adam(),\n",
        "              metrics=[\"accuracy\"])\n"
      ],
      "metadata": {
        "id": "OGEEkN--GFn5"
      },
      "execution_count": null,
      "outputs": []
    },
    {
      "cell_type": "code",
      "source": [
        "# Fit\n",
        "history_base_model = model.fit(train_data,\n",
        "                               epochs=5,\n",
        "                               validation_data=test_data,\n",
        "                               validation_steps=len(test_data)\n",
        "                               )"
      ],
      "metadata": {
        "colab": {
          "base_uri": "https://localhost:8080/"
        },
        "id": "HeSGfUq-G_3U",
        "outputId": "467fa2c4-b080-4d8a-ee5f-ad16ded0b545"
      },
      "execution_count": null,
      "outputs": [
        {
          "output_type": "stream",
          "name": "stdout",
          "text": [
            "Epoch 1/5\n",
            "16/16 [==============================] - 10s 317ms/step - loss: 1.7337 - accuracy: 0.1250 - val_loss: 1.4810 - val_accuracy: 0.3000\n",
            "Epoch 2/5\n",
            "16/16 [==============================] - 2s 122ms/step - loss: 1.6099 - accuracy: 0.0938 - val_loss: 1.3931 - val_accuracy: 0.3667\n",
            "Epoch 3/5\n",
            "16/16 [==============================] - 2s 118ms/step - loss: 1.4774 - accuracy: 0.4688 - val_loss: 1.4053 - val_accuracy: 0.3333\n",
            "Epoch 4/5\n",
            "16/16 [==============================] - 2s 117ms/step - loss: 1.4228 - accuracy: 0.4375 - val_loss: 1.3528 - val_accuracy: 0.5000\n",
            "Epoch 5/5\n",
            "16/16 [==============================] - 2s 117ms/step - loss: 1.4423 - accuracy: 0.4375 - val_loss: 1.4971 - val_accuracy: 0.4667\n"
          ]
        }
      ]
    },
    {
      "cell_type": "code",
      "source": [
        "len(test_data)"
      ],
      "metadata": {
        "colab": {
          "base_uri": "https://localhost:8080/"
        },
        "id": "vHCmCyuGHG4A",
        "outputId": "d872644e-4dcd-4648-a7fd-8b9b5bfc5314"
      },
      "execution_count": null,
      "outputs": [
        {
          "output_type": "execute_result",
          "data": {
            "text/plain": [
              "30"
            ]
          },
          "metadata": {},
          "execution_count": 13
        }
      ]
    },
    {
      "cell_type": "code",
      "source": [
        "len(train_data)"
      ],
      "metadata": {
        "colab": {
          "base_uri": "https://localhost:8080/"
        },
        "id": "MzrA0h_wID8z",
        "outputId": "be6bedcd-db9b-4325-a5a6-0f6e0f74852d"
      },
      "execution_count": null,
      "outputs": [
        {
          "output_type": "execute_result",
          "data": {
            "text/plain": [
              "32"
            ]
          },
          "metadata": {},
          "execution_count": 14
        }
      ]
    },
    {
      "cell_type": "code",
      "source": [
        "model.evaluate(test_data)"
      ],
      "metadata": {
        "colab": {
          "base_uri": "https://localhost:8080/"
        },
        "id": "3FZDA_SBIRQU",
        "outputId": "97f7c99a-114c-42eb-c1e3-703823fe0d12"
      },
      "execution_count": null,
      "outputs": [
        {
          "output_type": "stream",
          "name": "stdout",
          "text": [
            "30/30 [==============================] - 3s 95ms/step - loss: 1.2855 - accuracy: 0.2667\n"
          ]
        },
        {
          "output_type": "execute_result",
          "data": {
            "text/plain": [
              "[1.285507082939148, 0.2666666805744171]"
            ]
          },
          "metadata": {},
          "execution_count": 15
        }
      ]
    },
    {
      "cell_type": "code",
      "source": [
        "plot_loss_curves(history_base_model)"
      ],
      "metadata": {
        "colab": {
          "base_uri": "https://localhost:8080/",
          "height": 573
        },
        "id": "jhPbfJSVpczw",
        "outputId": "ea6af5b9-b1e7-417c-9250-40299ea88c6f"
      },
      "execution_count": null,
      "outputs": [
        {
          "output_type": "display_data",
          "data": {
            "text/plain": [
              "<Figure size 432x288 with 1 Axes>"
            ],
            "image/png": "[encoded data removed]"
          },
          "metadata": {
            "needs_background": "light"
          }
        },
        {
          "output_type": "display_data",
          "data": {
            "text/plain": [
              "<Figure size 432x288 with 1 Axes>"
            ],
            "image/png": "[encoded data removed]"
          },
          "metadata": {
            "needs_background": "light"
          }
        }
      ]
    },
    {
      "cell_type": "code",
      "source": [
        "# Setup data augmentation for resnet\n",
        "data_augmentation2 = Sequential([\n",
        "    preprocessing.RandomFlip(\"horizontal\"),\n",
        "    preprocessing.RandomRotation(0.2),\n",
        "    #preprocessing.RandomHeight(0.2), # 56%\n",
        "   # preprocessing.RandomWidth(0.2), # took it to 50&\n",
        "    preprocessing.RandomZoom(0.2),\n",
        "    preprocessing.Rescaling(1/255.),\n",
        "    preprocessing.RandomContrast(0.2),\n",
        "    # preprocessing.RandomTranslation(0.2, 0.2) # not cool\n",
        "], name =\"data_augmentation\")"
      ],
      "metadata": {
        "id": "4aTexNuM3X40"
      },
      "execution_count": null,
      "outputs": []
    },
    {
      "cell_type": "code",
      "source": [
        "# Setup the base model\n",
        "base_model_2 = tf.keras.applications.ResNet101(include_top=False)\n",
        "base_model_2.trainable = False\n",
        "\n",
        "# Setup model architecture with trainable top layers\n",
        "inputs = layers.Input(shape=(224, 224, 3), name=\"input_layer\")\n",
        "x = data_augmentation2(inputs) \n",
        "x = base_model_2(x, training=False) \n",
        "x = layers.GlobalAveragePooling2D(name=\"global_avg_pool_layer\")(x)\n",
        "outputs = layers.Dense(5, activation=\"softmax\", name=\"output_layer\")(x)\n",
        "model_2 = tf.keras.Model(inputs, outputs)"
      ],
      "metadata": {
        "id": "sYThoVdVpokN",
        "colab": {
          "base_uri": "https://localhost:8080/"
        },
        "outputId": "593d14e7-0f3d-4bff-d0cd-8084f54190f0"
      },
      "execution_count": null,
      "outputs": [
        {
          "output_type": "stream",
          "name": "stdout",
          "text": [
            "Downloading data from https://storage.googleapis.com/tensorflow/keras-applications/resnet/resnet101_weights_tf_dim_ordering_tf_kernels_notop.h5\n",
            "171450368/171446536 [==============================] - 2s 0us/step\n",
            "171458560/171446536 [==============================] - 2s 0us/step\n"
          ]
        }
      ]
    },
    {
      "cell_type": "code",
      "source": [
        "# model summary\n",
        "model_2.summary()"
      ],
      "metadata": {
        "colab": {
          "base_uri": "https://localhost:8080/"
        },
        "id": "K0JKsMhr3oOa",
        "outputId": "5992613b-0b6b-481e-9097-f92aa4f3c535"
      },
      "execution_count": null,
      "outputs": [
        {
          "output_type": "stream",
          "name": "stdout",
          "text": [
            "Model: \"model_33\"\n",
            "_________________________________________________________________\n",
            " Layer (type)                Output Shape              Param #   \n",
            "=================================================================\n",
            " input_layer (InputLayer)    [(None, 224, 224, 3)]     0         \n",
            "                                                                 \n",
            " data_augmentation (Sequenti  (None, 224, 224, 3)      0         \n",
            " al)                                                             \n",
            "                                                                 \n",
            " resnet101 (Functional)      (None, None, None, 2048)  42658176  \n",
            "                                                                 \n",
            " global_avg_pool_layer (Glob  (None, 2048)             0         \n",
            " alAveragePooling2D)                                             \n",
            "                                                                 \n",
            " output_layer (Dense)        (None, 5)                 10245     \n",
            "                                                                 \n",
            "=================================================================\n",
            "Total params: 42,668,421\n",
            "Trainable params: 10,245\n",
            "Non-trainable params: 42,658,176\n",
            "_________________________________________________________________\n"
          ]
        }
      ]
    },
    {
      "cell_type": "code",
      "source": [
        "# Compile\n",
        "model_2.compile(loss=\"categorical_crossentropy\",\n",
        "              optimizer=tf.optimizers.Adam(),\n",
        "              metrics=[\"accuracy\"])\n"
      ],
      "metadata": {
        "id": "4XWnYd223w8g"
      },
      "execution_count": null,
      "outputs": []
    },
    {
      "cell_type": "code",
      "source": [
        "# Fit\n",
        "history_model_2 = model_2.fit(train_data,\n",
        "                               epochs=100,\n",
        "                               validation_data=test_data,\n",
        "                               validation_steps=len(test_data),\n",
        "                               callbacks=[early_stopping])"
      ],
      "metadata": {
        "colab": {
          "base_uri": "https://localhost:8080/"
        },
        "id": "qwIoSXiG3zl7",
        "outputId": "c2ece15e-df64-4b5b-fa53-17af2b1c1b11"
      },
      "execution_count": null,
      "outputs": [
        {
          "output_type": "stream",
          "name": "stdout",
          "text": [
            "Epoch 1/100\n",
            "16/16 [==============================] - 10s 238ms/step - loss: 1.7514 - accuracy: 0.1562 - val_loss: 1.5210 - val_accuracy: 0.3667\n",
            "Epoch 2/100\n",
            "16/16 [==============================] - 3s 138ms/step - loss: 1.6491 - accuracy: 0.1250 - val_loss: 1.6403 - val_accuracy: 0.0667\n",
            "Epoch 3/100\n",
            "16/16 [==============================] - 3s 137ms/step - loss: 1.6642 - accuracy: 0.0625 - val_loss: 1.5275 - val_accuracy: 0.1667\n",
            "Epoch 4/100\n",
            "16/16 [==============================] - 3s 132ms/step - loss: 1.6678 - accuracy: 0.0938 - val_loss: 1.5983 - val_accuracy: 0.0667\n",
            "Epoch 5/100\n",
            "16/16 [==============================] - 3s 137ms/step - loss: 1.6606 - accuracy: 0.1250 - val_loss: 1.5424 - val_accuracy: 0.2333\n",
            "Epoch 6/100\n",
            "16/16 [==============================] - 3s 138ms/step - loss: 1.6364 - accuracy: 0.1250 - val_loss: 1.5831 - val_accuracy: 0.2333\n"
          ]
        }
      ]
    },
    {
      "cell_type": "code",
      "source": [
        "plot_loss_curves(history_model_2)"
      ],
      "metadata": {
        "colab": {
          "base_uri": "https://localhost:8080/",
          "height": 573
        },
        "id": "CjsX5G5A5HUN",
        "outputId": "41634d1a-c564-42d3-9826-5c40fa5b3110"
      },
      "execution_count": null,
      "outputs": [
        {
          "output_type": "display_data",
          "data": {
            "text/plain": [
              "<Figure size 432x288 with 1 Axes>"
            ],
            "image/png": "[encoded data removed]"
          },
          "metadata": {
            "needs_background": "light"
          }
        },
        {
          "output_type": "display_data",
          "data": {
            "text/plain": [
              "<Figure size 432x288 with 1 Axes>"
            ],
            "image/png": "[encoded data removed]"
          },
          "metadata": {
            "needs_background": "light"
          }
        }
      ]
    },
    {
      "cell_type": "code",
      "source": [
        "# Let's try out EfficientNetB1\n",
        "# Setup the base model\n",
        "base_model_3 = tf.keras.applications.EfficientNetB1(include_top=False)\n",
        "base_model_3.trainable = False\n",
        "\n",
        "# Setup model architecture with trainable top layers\n",
        "inputs = layers.Input(shape=(224, 224, 3), name=\"input_layer\")\n",
        "x = data_augmentation(inputs) \n",
        "x = base_model_3(x, training=False) \n",
        "x = layers.GlobalAveragePooling2D(name=\"global_avg_pool_layer\")(x)\n",
        "outputs = layers.Dense(5, activation=\"softmax\", name=\"output_layer\")(x)\n",
        "model_3 = tf.keras.Model(inputs, outputs)"
      ],
      "metadata": {
        "id": "9GCdH_Sx81K7",
        "colab": {
          "base_uri": "https://localhost:8080/"
        },
        "outputId": "d59ca876-e841-4439-bafc-3d72dd26c990"
      },
      "execution_count": null,
      "outputs": [
        {
          "output_type": "stream",
          "name": "stdout",
          "text": [
            "Downloading data from https://storage.googleapis.com/keras-applications/efficientnetb1_notop.h5\n",
            "27025408/27018416 [==============================] - 1s 0us/step\n",
            "27033600/27018416 [==============================] - 1s 0us/step\n"
          ]
        }
      ]
    },
    {
      "cell_type": "code",
      "source": [
        "# model summary\n",
        "model_3.summary()"
      ],
      "metadata": {
        "colab": {
          "base_uri": "https://localhost:8080/"
        },
        "id": "eVTlg2G59XsR",
        "outputId": "96174f2e-8d7d-4a18-9a8d-d0f518ccb40d"
      },
      "execution_count": null,
      "outputs": [
        {
          "output_type": "stream",
          "name": "stdout",
          "text": [
            "Model: \"model_34\"\n",
            "_________________________________________________________________\n",
            " Layer (type)                Output Shape              Param #   \n",
            "=================================================================\n",
            " input_layer (InputLayer)    [(None, 224, 224, 3)]     0         \n",
            "                                                                 \n",
            " data_augmentation (Sequenti  (None, 224, 224, 3)      0         \n",
            " al)                                                             \n",
            "                                                                 \n",
            " efficientnetb1 (Functional)  (None, None, None, 1280)  6575239  \n",
            "                                                                 \n",
            " global_avg_pool_layer (Glob  (None, 1280)             0         \n",
            " alAveragePooling2D)                                             \n",
            "                                                                 \n",
            " output_layer (Dense)        (None, 5)                 6405      \n",
            "                                                                 \n",
            "=================================================================\n",
            "Total params: 6,581,644\n",
            "Trainable params: 6,405\n",
            "Non-trainable params: 6,575,239\n",
            "_________________________________________________________________\n"
          ]
        }
      ]
    },
    {
      "cell_type": "code",
      "source": [
        "# Compile\n",
        "model_3.compile(loss=\"categorical_crossentropy\",\n",
        "              optimizer=tf.optimizers.Adam(),\n",
        "              metrics=[\"accuracy\"])"
      ],
      "metadata": {
        "id": "0P3Wb5Ur9b1h"
      },
      "execution_count": null,
      "outputs": []
    },
    {
      "cell_type": "code",
      "source": [
        "# Fit\n",
        "history_model_3 = model_3.fit(train_data,\n",
        "                               epochs=15,\n",
        "                               validation_data=test_data,\n",
        "                               validation_steps=len(test_data))"
      ],
      "metadata": {
        "colab": {
          "base_uri": "https://localhost:8080/"
        },
        "id": "zbUDIt1v9lIf",
        "outputId": "7da2efc8-c06c-484c-c0da-345be418b158"
      },
      "execution_count": null,
      "outputs": [
        {
          "output_type": "stream",
          "name": "stdout",
          "text": [
            "Epoch 1/15\n",
            "16/16 [==============================] - 3s 136ms/step - loss: 1.2892 - accuracy: 0.5000 - val_loss: 1.0738 - val_accuracy: 0.5333\n",
            "Epoch 2/15\n",
            "16/16 [==============================] - 3s 132ms/step - loss: 1.3817 - accuracy: 0.4375 - val_loss: 1.0662 - val_accuracy: 0.5333\n",
            "Epoch 3/15\n",
            "16/16 [==============================] - 3s 132ms/step - loss: 1.2813 - accuracy: 0.5312 - val_loss: 1.0408 - val_accuracy: 0.5333\n",
            "Epoch 4/15\n",
            "16/16 [==============================] - 3s 132ms/step - loss: 1.2260 - accuracy: 0.5312 - val_loss: 1.0837 - val_accuracy: 0.5333\n",
            "Epoch 5/15\n",
            "16/16 [==============================] - 3s 132ms/step - loss: 1.3184 - accuracy: 0.4688 - val_loss: 1.0843 - val_accuracy: 0.5667\n",
            "Epoch 6/15\n",
            "16/16 [==============================] - 3s 131ms/step - loss: 1.2284 - accuracy: 0.5625 - val_loss: 1.0745 - val_accuracy: 0.5333\n",
            "Epoch 7/15\n",
            "16/16 [==============================] - 3s 126ms/step - loss: 1.1727 - accuracy: 0.5000 - val_loss: 1.1073 - val_accuracy: 0.5000\n",
            "Epoch 8/15\n",
            "16/16 [==============================] - 3s 130ms/step - loss: 1.2458 - accuracy: 0.4375 - val_loss: 1.1161 - val_accuracy: 0.5333\n",
            "Epoch 9/15\n",
            "16/16 [==============================] - 3s 134ms/step - loss: 1.1769 - accuracy: 0.5000 - val_loss: 1.1271 - val_accuracy: 0.5333\n",
            "Epoch 10/15\n",
            "16/16 [==============================] - 3s 131ms/step - loss: 1.1974 - accuracy: 0.5312 - val_loss: 1.0787 - val_accuracy: 0.5333\n",
            "Epoch 11/15\n",
            "16/16 [==============================] - 3s 134ms/step - loss: 1.1328 - accuracy: 0.5625 - val_loss: 1.0407 - val_accuracy: 0.5333\n",
            "Epoch 12/15\n",
            "16/16 [==============================] - 3s 131ms/step - loss: 1.2653 - accuracy: 0.4375 - val_loss: 1.0414 - val_accuracy: 0.5333\n",
            "Epoch 13/15\n",
            "16/16 [==============================] - 3s 131ms/step - loss: 1.1712 - accuracy: 0.5625 - val_loss: 1.1008 - val_accuracy: 0.5000\n",
            "Epoch 14/15\n",
            "16/16 [==============================] - 3s 127ms/step - loss: 1.0974 - accuracy: 0.5938 - val_loss: 1.0781 - val_accuracy: 0.5000\n",
            "Epoch 15/15\n",
            "16/16 [==============================] - 3s 133ms/step - loss: 1.0546 - accuracy: 0.5938 - val_loss: 1.0843 - val_accuracy: 0.4333\n"
          ]
        }
      ]
    },
    {
      "cell_type": "code",
      "source": [
        "plot_loss_curves(history_model_3)"
      ],
      "metadata": {
        "colab": {
          "base_uri": "https://localhost:8080/",
          "height": 573
        },
        "id": "iqUwwnDf91LX",
        "outputId": "c855b47e-c8e9-4d36-95a4-5b9002094759"
      },
      "execution_count": null,
      "outputs": [
        {
          "output_type": "display_data",
          "data": {
            "text/plain": [
              "<Figure size 432x288 with 1 Axes>"
            ],
            "image/png": "[encoded data removed]"
          },
          "metadata": {
            "needs_background": "light"
          }
        },
        {
          "output_type": "display_data",
          "data": {
            "text/plain": [
              "<Figure size 432x288 with 1 Axes>"
            ],
            "image/png": "[encoded data removed]"
          },
          "metadata": {
            "needs_background": "light"
          }
        }
      ]
    },
    {
      "cell_type": "code",
      "source": [
        "# Let's try ResNet101V2\n",
        "# Setup the base model\n",
        "base_model_4 = tf.keras.applications.ResNet101V2(include_top=False)\n",
        "base_model_4.trainable = False\n",
        "\n",
        "# Setup model architecture with trainable top layers\n",
        "inputs = layers.Input(shape=(224, 224, 3), name=\"input_layer\")\n",
        "x = data_augmentation2(inputs) \n",
        "x = base_model_4(x, training=False) \n",
        "x = layers.GlobalAveragePooling2D(name=\"global_avg_pool_layer\")(x)\n",
        "outputs = layers.Dense(5, activation=\"softmax\", name=\"output_layer\")(x)\n",
        "model_4 = tf.keras.Model(inputs, outputs)\n",
        "\n",
        "# Compile\n",
        "model_4.compile(loss=\"categorical_crossentropy\",\n",
        "              optimizer=tf.optimizers.Adam(),\n",
        "              metrics=[\"accuracy\"])\n",
        "\n",
        "# Fit\n",
        "history_model_4 = model_4.fit(train_data,\n",
        "                               epochs=100,\n",
        "                               validation_data=test_data,\n",
        "                               validation_steps=len(test_data),\n",
        "                              callbacks=[early_stopping])\n"
      ],
      "metadata": {
        "colab": {
          "base_uri": "https://localhost:8080/",
          "height": 676
        },
        "id": "XuPR6L_b96iR",
        "outputId": "83f1a219-936e-4639-9750-da437fe46abf"
      },
      "execution_count": null,
      "outputs": [
        {
          "output_type": "stream",
          "name": "stdout",
          "text": [
            "Downloading data from https://storage.googleapis.com/tensorflow/keras-applications/resnet/resnet101v2_weights_tf_dim_ordering_tf_kernels_notop.h5\n",
            "171319296/171317808 [==============================] - 1s 0us/step\n",
            "171327488/171317808 [==============================] - 1s 0us/step\n",
            "Epoch 1/100\n"
          ]
        },
        {
          "output_type": "error",
          "ename": "ValueError",
          "evalue": "ignored",
          "traceback": [
            "\u001b[0;31m---------------------------------------------------------------------------\u001b[0m",
            "\u001b[0;31mValueError\u001b[0m                                Traceback (most recent call last)",
            "\u001b[0;32m<ipython-input-45-64124b6e7c00>\u001b[0m in \u001b[0;36m<module>\u001b[0;34m\u001b[0m\n\u001b[1;32m     22\u001b[0m                                \u001b[0mvalidation_data\u001b[0m\u001b[0;34m=\u001b[0m\u001b[0mtest_data\u001b[0m\u001b[0;34m,\u001b[0m\u001b[0;34m\u001b[0m\u001b[0;34m\u001b[0m\u001b[0m\n\u001b[1;32m     23\u001b[0m                                \u001b[0mvalidation_steps\u001b[0m\u001b[0;34m=\u001b[0m\u001b[0mlen\u001b[0m\u001b[0;34m(\u001b[0m\u001b[0mtest_data\u001b[0m\u001b[0;34m)\u001b[0m\u001b[0;34m,\u001b[0m\u001b[0;34m\u001b[0m\u001b[0;34m\u001b[0m\u001b[0m\n\u001b[0;32m---> 24\u001b[0;31m                               callbacks=[early_stopping])\n\u001b[0m",
            "\u001b[0;32m/usr/local/lib/python3.7/dist-packages/keras/utils/traceback_utils.py\u001b[0m in \u001b[0;36merror_handler\u001b[0;34m(*args, **kwargs)\u001b[0m\n\u001b[1;32m     65\u001b[0m     \u001b[0;32mexcept\u001b[0m \u001b[0mException\u001b[0m \u001b[0;32mas\u001b[0m \u001b[0me\u001b[0m\u001b[0;34m:\u001b[0m  \u001b[0;31m# pylint: disable=broad-except\u001b[0m\u001b[0;34m\u001b[0m\u001b[0;34m\u001b[0m\u001b[0m\n\u001b[1;32m     66\u001b[0m       \u001b[0mfiltered_tb\u001b[0m \u001b[0;34m=\u001b[0m \u001b[0m_process_traceback_frames\u001b[0m\u001b[0;34m(\u001b[0m\u001b[0me\u001b[0m\u001b[0;34m.\u001b[0m\u001b[0m__traceback__\u001b[0m\u001b[0;34m)\u001b[0m\u001b[0;34m\u001b[0m\u001b[0;34m\u001b[0m\u001b[0m\n\u001b[0;32m---> 67\u001b[0;31m       \u001b[0;32mraise\u001b[0m \u001b[0me\u001b[0m\u001b[0;34m.\u001b[0m\u001b[0mwith_traceback\u001b[0m\u001b[0;34m(\u001b[0m\u001b[0mfiltered_tb\u001b[0m\u001b[0;34m)\u001b[0m \u001b[0;32mfrom\u001b[0m \u001b[0;32mNone\u001b[0m\u001b[0;34m\u001b[0m\u001b[0;34m\u001b[0m\u001b[0m\n\u001b[0m\u001b[1;32m     68\u001b[0m     \u001b[0;32mfinally\u001b[0m\u001b[0;34m:\u001b[0m\u001b[0;34m\u001b[0m\u001b[0;34m\u001b[0m\u001b[0m\n\u001b[1;32m     69\u001b[0m       \u001b[0;32mdel\u001b[0m \u001b[0mfiltered_tb\u001b[0m\u001b[0;34m\u001b[0m\u001b[0;34m\u001b[0m\u001b[0m\n",
            "\u001b[0;32m/usr/local/lib/python3.7/dist-packages/tensorflow/python/framework/func_graph.py\u001b[0m in \u001b[0;36mautograph_handler\u001b[0;34m(*args, **kwargs)\u001b[0m\n\u001b[1;32m   1145\u001b[0m           \u001b[0;32mexcept\u001b[0m \u001b[0mException\u001b[0m \u001b[0;32mas\u001b[0m \u001b[0me\u001b[0m\u001b[0;34m:\u001b[0m  \u001b[0;31m# pylint:disable=broad-except\u001b[0m\u001b[0;34m\u001b[0m\u001b[0;34m\u001b[0m\u001b[0m\n\u001b[1;32m   1146\u001b[0m             \u001b[0;32mif\u001b[0m \u001b[0mhasattr\u001b[0m\u001b[0;34m(\u001b[0m\u001b[0me\u001b[0m\u001b[0;34m,\u001b[0m \u001b[0;34m\"ag_error_metadata\"\u001b[0m\u001b[0;34m)\u001b[0m\u001b[0;34m:\u001b[0m\u001b[0;34m\u001b[0m\u001b[0;34m\u001b[0m\u001b[0m\n\u001b[0;32m-> 1147\u001b[0;31m               \u001b[0;32mraise\u001b[0m \u001b[0me\u001b[0m\u001b[0;34m.\u001b[0m\u001b[0mag_error_metadata\u001b[0m\u001b[0;34m.\u001b[0m\u001b[0mto_exception\u001b[0m\u001b[0;34m(\u001b[0m\u001b[0me\u001b[0m\u001b[0;34m)\u001b[0m\u001b[0;34m\u001b[0m\u001b[0;34m\u001b[0m\u001b[0m\n\u001b[0m\u001b[1;32m   1148\u001b[0m             \u001b[0;32melse\u001b[0m\u001b[0;34m:\u001b[0m\u001b[0;34m\u001b[0m\u001b[0;34m\u001b[0m\u001b[0m\n\u001b[1;32m   1149\u001b[0m               \u001b[0;32mraise\u001b[0m\u001b[0;34m\u001b[0m\u001b[0;34m\u001b[0m\u001b[0m\n",
            "\u001b[0;31mValueError\u001b[0m: in user code:\n\n    File \"/usr/local/lib/python3.7/dist-packages/keras/engine/training.py\", line 1021, in train_function  *\n        return step_function(self, iterator)\n    File \"/usr/local/lib/python3.7/dist-packages/keras/engine/training.py\", line 1010, in step_function  **\n        outputs = model.distribute_strategy.run(run_step, args=(data,))\n    File \"/usr/local/lib/python3.7/dist-packages/keras/engine/training.py\", line 1000, in run_step  **\n        outputs = model.train_step(data)\n    File \"/usr/local/lib/python3.7/dist-packages/keras/engine/training.py\", line 859, in train_step\n        y_pred = self(x, training=True)\n    File \"/usr/local/lib/python3.7/dist-packages/keras/utils/traceback_utils.py\", line 67, in error_handler\n        raise e.with_traceback(filtered_tb) from None\n    File \"/usr/local/lib/python3.7/dist-packages/keras/engine/input_spec.py\", line 264, in assert_input_compatibility\n        raise ValueError(f'Input {input_index} of layer \"{layer_name}\" is '\n\n    ValueError: Input 0 of layer \"model_6\" is incompatible with the layer: expected shape=(None, 224, 224, 3), found shape=(None, 260, 260, 3)\n"
          ]
        }
      ]
    },
    {
      "cell_type": "markdown",
      "source": [
        "nope"
      ],
      "metadata": {
        "id": "ivDy00XTOc-q"
      }
    },
    {
      "cell_type": "code",
      "source": [
        "# Let's try EfficientNetB2\n",
        "# Setup the base model\n",
        "base_model_5 = tf.keras.applications.EfficientNetB2(include_top=False)\n",
        "base_model_5.trainable = False\n",
        "\n",
        "# Setup model architecture with trainable top layers\n",
        "inputs = layers.Input(shape=(224, 224, 3), name=\"input_layer\")\n",
        "x = data_augmentation(inputs) \n",
        "x = base_model_5(x, training=False) \n",
        "x = layers.GlobalAveragePooling2D(name=\"global_avg_pool_layer\")(x)\n",
        "outputs = layers.Dense(5, activation=\"softmax\", name=\"output_layer\")(x)\n",
        "model_5 = tf.keras.Model(inputs, outputs)\n",
        "\n",
        "# Compile\n",
        "model_5.compile(loss=\"categorical_crossentropy\",\n",
        "              optimizer=tf.optimizers.Adam(),\n",
        "              metrics=[\"accuracy\"])\n",
        "\n",
        "# Fit\n",
        "history_model_5 = model_5.fit(train_data,\n",
        "                               epochs=5,\n",
        "                               validation_data=test_data,\n",
        "                               validation_steps=len(test_data))"
      ],
      "metadata": {
        "colab": {
          "base_uri": "https://localhost:8080/"
        },
        "id": "fnL8a_ev_IlG",
        "outputId": "e62ac7b1-ca12-41ab-9bc2-feb91d60b1f3"
      },
      "execution_count": null,
      "outputs": [
        {
          "output_type": "stream",
          "name": "stdout",
          "text": [
            "Epoch 1/5\n",
            "16/16 [==============================] - 12s 269ms/step - loss: 1.8086 - accuracy: 0.2188 - val_loss: 1.4721 - val_accuracy: 0.3333\n",
            "Epoch 2/5\n",
            "16/16 [==============================] - 2s 119ms/step - loss: 1.5623 - accuracy: 0.2812 - val_loss: 1.3402 - val_accuracy: 0.4333\n",
            "Epoch 3/5\n",
            "16/16 [==============================] - 2s 118ms/step - loss: 1.4764 - accuracy: 0.3750 - val_loss: 1.3353 - val_accuracy: 0.4333\n",
            "Epoch 4/5\n",
            "16/16 [==============================] - 2s 124ms/step - loss: 1.3722 - accuracy: 0.4375 - val_loss: 1.3429 - val_accuracy: 0.4667\n",
            "Epoch 5/5\n",
            "16/16 [==============================] - 2s 119ms/step - loss: 1.5471 - accuracy: 0.2500 - val_loss: 1.2907 - val_accuracy: 0.6000\n"
          ]
        }
      ]
    },
    {
      "cell_type": "markdown",
      "source": [
        "Best so far"
      ],
      "metadata": {
        "id": "qKIUU62IO3R-"
      }
    },
    {
      "cell_type": "code",
      "source": [
        "plot_loss_curves(history_model_5)"
      ],
      "metadata": {
        "colab": {
          "base_uri": "https://localhost:8080/",
          "height": 573
        },
        "id": "NNY4pyFMOsdH",
        "outputId": "a64333b6-84dd-4d51-a4d0-12c752505abd"
      },
      "execution_count": null,
      "outputs": [
        {
          "output_type": "display_data",
          "data": {
            "text/plain": [
              "<Figure size 432x288 with 1 Axes>"
            ],
            "image/png": "[encoded data removed]"
          },
          "metadata": {
            "needs_background": "light"
          }
        },
        {
          "output_type": "display_data",
          "data": {
            "text/plain": [
              "<Figure size 432x288 with 1 Axes>"
            ],
            "image/png": "[encoded data removed]"
          },
          "metadata": {
            "needs_background": "light"
          }
        }
      ]
    },
    {
      "cell_type": "code",
      "source": [
        "# Let's try ResNet152\n",
        "# Setup the base model\n",
        "base_model_6= tf.keras.applications.ResNet152(include_top=False)\n",
        "base_model_6.trainable = False\n",
        "\n",
        "# Setup model architecture with trainable top layers\n",
        "inputs = layers.Input(shape=(224, 224, 3), name=\"input_layer\")\n",
        "x = data_augmentation2(inputs) \n",
        "x = base_model_6(x, training=False) \n",
        "x = layers.GlobalAveragePooling2D(name=\"global_avg_pool_layer\")(x)\n",
        "outputs = layers.Dense(5, activation=\"softmax\", name=\"output_layer\")(x)\n",
        "model_6 = tf.keras.Model(inputs, outputs)\n",
        "\n",
        "# Compile\n",
        "model_6.compile(loss=\"categorical_crossentropy\",\n",
        "              optimizer=tf.optimizers.Adam(),\n",
        "              metrics=[\"accuracy\"])\n",
        "\n",
        "# Fit\n",
        "history_model_6 = model_6.fit(train_data,\n",
        "                               epochs=5,\n",
        "                               validation_data=test_data,\n",
        "                               validation_steps=len(test_data))"
      ],
      "metadata": {
        "colab": {
          "base_uri": "https://localhost:8080/"
        },
        "id": "gE8oJ65zFZee",
        "outputId": "1c86490f-c770-43ce-f54b-17fd041ad81c"
      },
      "execution_count": null,
      "outputs": [
        {
          "output_type": "stream",
          "name": "stdout",
          "text": [
            "Epoch 1/5\n",
            "16/16 [==============================] - 13s 310ms/step - loss: 1.7824 - accuracy: 0.2188 - val_loss: 1.6333 - val_accuracy: 0.3667\n",
            "Epoch 2/5\n",
            "16/16 [==============================] - 3s 147ms/step - loss: 1.6461 - accuracy: 0.1875 - val_loss: 1.6441 - val_accuracy: 0.2333\n",
            "Epoch 3/5\n",
            "16/16 [==============================] - 4s 203ms/step - loss: 1.6389 - accuracy: 0.2188 - val_loss: 1.5406 - val_accuracy: 0.3667\n",
            "Epoch 4/5\n",
            "16/16 [==============================] - 3s 146ms/step - loss: 1.6781 - accuracy: 0.1875 - val_loss: 1.5954 - val_accuracy: 0.2333\n",
            "Epoch 5/5\n",
            "16/16 [==============================] - 3s 144ms/step - loss: 1.6350 - accuracy: 0.1562 - val_loss: 1.5716 - val_accuracy: 0.3667\n"
          ]
        }
      ]
    },
    {
      "cell_type": "markdown",
      "source": [
        "not so good\n"
      ],
      "metadata": {
        "id": "_t-RP0nZGS5Z"
      }
    },
    {
      "cell_type": "code",
      "source": [
        "# Let's try ResNet152V2\n",
        "# Setup the base model\n",
        "base_model_7= tf.keras.applications.ResNet152V2(include_top=False)\n",
        "base_model_7.trainable = False\n",
        "\n",
        "# Setup model architecture with trainable top layers\n",
        "inputs = layers.Input(shape=(224, 224, 3), name=\"input_layer\")\n",
        "x = data_augmentation2(inputs) \n",
        "x = base_model_6(x, training=False) \n",
        "x = layers.GlobalAveragePooling2D(name=\"global_avg_pool_layer\")(x)\n",
        "outputs = layers.Dense(5, activation=\"softmax\", name=\"output_layer\")(x)\n",
        "model_7 = tf.keras.Model(inputs, outputs)\n",
        "\n",
        "# Compile\n",
        "model_7.compile(loss=\"categorical_crossentropy\",\n",
        "              optimizer=tf.optimizers.Adam(),\n",
        "              metrics=[\"accuracy\"])\n",
        "\n",
        "# Fit\n",
        "history_model_7 = model_7.fit(train_data,\n",
        "                               epochs=5,\n",
        "                               validation_data=test_data,\n",
        "                               validation_steps=len(test_data))"
      ],
      "metadata": {
        "colab": {
          "base_uri": "https://localhost:8080/"
        },
        "id": "oSPAvzKjF9xx",
        "outputId": "9fe5dde8-c7ec-41b9-ba96-bf6e3e5b844c"
      },
      "execution_count": null,
      "outputs": [
        {
          "output_type": "stream",
          "name": "stdout",
          "text": [
            "Epoch 1/5\n",
            "16/16 [==============================] - 15s 305ms/step - loss: 1.9402 - accuracy: 0.1875 - val_loss: 1.4844 - val_accuracy: 0.2333\n",
            "Epoch 2/5\n",
            "16/16 [==============================] - 3s 147ms/step - loss: 1.6643 - accuracy: 0.1250 - val_loss: 1.6315 - val_accuracy: 0.0667\n",
            "Epoch 3/5\n",
            "16/16 [==============================] - 3s 148ms/step - loss: 1.6672 - accuracy: 0.1562 - val_loss: 1.5006 - val_accuracy: 0.3667\n",
            "Epoch 4/5\n",
            "16/16 [==============================] - 3s 142ms/step - loss: 1.6818 - accuracy: 0.2188 - val_loss: 1.5851 - val_accuracy: 0.2667\n",
            "Epoch 5/5\n",
            "16/16 [==============================] - 3s 141ms/step - loss: 1.6515 - accuracy: 0.1250 - val_loss: 1.5272 - val_accuracy: 0.3667\n"
          ]
        }
      ]
    },
    {
      "cell_type": "markdown",
      "source": [
        "nope"
      ],
      "metadata": {
        "id": "fxruq2dsGoiO"
      }
    },
    {
      "cell_type": "code",
      "source": [
        "# Let's try EfficientNetB7\n",
        "# Setup the base model\n",
        "base_model_8= tf.keras.applications.EfficientNetB7(include_top=False)\n",
        "base_model_8.trainable = False\n",
        "\n",
        "# Setup model architecture with trainable top layers\n",
        "inputs = layers.Input(shape=(224, 224, 3), name=\"input_layer\")\n",
        "x = data_augmentation(inputs) \n",
        "x = base_model_8(x, training=False) \n",
        "x = layers.GlobalAveragePooling2D(name=\"global_avg_pool_layer\")(x)\n",
        "outputs = layers.Dense(5, activation=\"softmax\", name=\"output_layer\")(x)\n",
        "model_8 = tf.keras.Model(inputs, outputs)\n",
        "\n",
        "# Compile\n",
        "model_8.compile(loss=\"categorical_crossentropy\",\n",
        "              optimizer=tf.optimizers.Adam(),\n",
        "              metrics=[\"accuracy\"])\n",
        "\n",
        "# Fit\n",
        "history_model_8 = model_8.fit(train_data,\n",
        "                               epochs=5,\n",
        "                               validation_data=test_data,\n",
        "                               validation_steps=len(test_data))"
      ],
      "metadata": {
        "colab": {
          "base_uri": "https://localhost:8080/"
        },
        "id": "D3BpdDo1GpKJ",
        "outputId": "8ecbdc18-5757-4284-a4fd-d8df69c3049d"
      },
      "execution_count": null,
      "outputs": [
        {
          "output_type": "stream",
          "name": "stdout",
          "text": [
            "Downloading data from https://storage.googleapis.com/keras-applications/efficientnetb7_notop.h5\n",
            "258080768/258076736 [==============================] - 1s 0us/step\n",
            "258088960/258076736 [==============================] - 1s 0us/step\n",
            "Epoch 1/5\n",
            "16/16 [==============================] - 25s 436ms/step - loss: 1.8857 - accuracy: 0.1250 - val_loss: 1.6107 - val_accuracy: 0.3333\n",
            "Epoch 2/5\n",
            "16/16 [==============================] - 3s 164ms/step - loss: 1.5626 - accuracy: 0.3125 - val_loss: 1.5381 - val_accuracy: 0.4333\n",
            "Epoch 3/5\n",
            "16/16 [==============================] - 4s 212ms/step - loss: 1.6176 - accuracy: 0.2500 - val_loss: 1.4456 - val_accuracy: 0.4000\n",
            "Epoch 4/5\n",
            "16/16 [==============================] - 3s 162ms/step - loss: 1.4614 - accuracy: 0.3125 - val_loss: 1.4147 - val_accuracy: 0.4667\n",
            "Epoch 5/5\n",
            "16/16 [==============================] - 3s 160ms/step - loss: 1.4799 - accuracy: 0.3125 - val_loss: 1.3439 - val_accuracy: 0.3667\n"
          ]
        }
      ]
    },
    {
      "cell_type": "markdown",
      "source": [
        "ok"
      ],
      "metadata": {
        "id": "tximZSSxPrxJ"
      }
    },
    {
      "cell_type": "code",
      "source": [
        "# Let's try EfficientNetV2B0\n",
        "# Setup the base model\n",
        "base_model_9= tf.keras.applications.EfficientNetV2B0(include_top=False)\n",
        "base_model_9.trainable = False\n",
        "\n",
        "# Setup model architecture with trainable top layers\n",
        "inputs = layers.Input(shape=(224, 224, 3), name=\"input_layer\")\n",
        "x = data_augmentation(inputs) \n",
        "x = base_model_9(x, training=False) \n",
        "x = layers.GlobalAveragePooling2D(name=\"global_avg_pool_layer\")(x)\n",
        "outputs = layers.Dense(5, activation=\"softmax\", name=\"output_layer\")(x)\n",
        "model_9 = tf.keras.Model(inputs, outputs)\n",
        "\n",
        "# Compile\n",
        "model_9.compile(loss=\"categorical_crossentropy\",\n",
        "              optimizer=tf.optimizers.Adam(),\n",
        "              metrics=[\"accuracy\"])\n",
        "\n",
        "# Fit\n",
        "history_model_9 = model_9.fit(train_data,\n",
        "                               epochs=5,\n",
        "                               validation_data=test_data,\n",
        "                               validation_steps=len(test_data))"
      ],
      "metadata": {
        "colab": {
          "base_uri": "https://localhost:8080/"
        },
        "id": "Q8Gqd1MBJnl4",
        "outputId": "71184292-e3d6-4958-de96-49e01dc36954"
      },
      "execution_count": null,
      "outputs": [
        {
          "output_type": "stream",
          "name": "stdout",
          "text": [
            "Epoch 1/5\n",
            "16/16 [==============================] - 10s 229ms/step - loss: 1.7088 - accuracy: 0.2188 - val_loss: 1.7093 - val_accuracy: 0.3000\n",
            "Epoch 2/5\n",
            "16/16 [==============================] - 2s 119ms/step - loss: 1.6386 - accuracy: 0.2812 - val_loss: 1.6335 - val_accuracy: 0.3000\n",
            "Epoch 3/5\n",
            "16/16 [==============================] - 2s 115ms/step - loss: 1.5811 - accuracy: 0.1875 - val_loss: 1.5897 - val_accuracy: 0.3000\n",
            "Epoch 4/5\n",
            "16/16 [==============================] - 3s 121ms/step - loss: 1.5912 - accuracy: 0.2500 - val_loss: 1.5535 - val_accuracy: 0.3000\n",
            "Epoch 5/5\n",
            "16/16 [==============================] - 2s 117ms/step - loss: 1.4400 - accuracy: 0.4375 - val_loss: 1.5225 - val_accuracy: 0.3000\n"
          ]
        }
      ]
    },
    {
      "cell_type": "markdown",
      "source": [
        "not good"
      ],
      "metadata": {
        "id": "um1WJ-jzQNym"
      }
    },
    {
      "cell_type": "code",
      "source": [
        "IMG_SIZE2 = (299, 299)\n",
        "train_data2 = tf.keras.utils.image_dataset_from_directory(train_dir,\n",
        "                                                         label_mode=\"categorical\",\n",
        "                                                        image_size=IMG_SIZE2,\n",
        "                                                         batch_size=2)\n",
        "test_data2 = tf.keras.utils.image_dataset_from_directory(test_dir,\n",
        "                                                        label_mode=\"categorical\",\n",
        "                                                        image_size=IMG_SIZE2,\n",
        "                                                        shuffle=False,\n",
        "                                                        batch_size=32)"
      ],
      "metadata": {
        "colab": {
          "base_uri": "https://localhost:8080/"
        },
        "id": "U2lQRXHZLZNf",
        "outputId": "36526b45-88a2-419e-a122-0c84a12611b6"
      },
      "execution_count": null,
      "outputs": [
        {
          "output_type": "stream",
          "name": "stdout",
          "text": [
            "Found 32 files belonging to 5 classes.\n",
            "Found 30 files belonging to 5 classes.\n"
          ]
        }
      ]
    },
    {
      "cell_type": "code",
      "source": [
        "# Let's try InceptionResNetV2\n",
        "# Setup the base model\n",
        "base_model_10= tf.keras.applications.InceptionResNetV2(include_top=False)\n",
        "base_model_10.trainable = False\n",
        "\n",
        "# Setup model architecture with trainable top layers\n",
        "inputs = layers.Input(shape=(299, 299, 3), name=\"input_layer\")\n",
        "x = data_augmentation2(inputs) \n",
        "x = base_model_10(x, training=False) \n",
        "x = layers.GlobalAveragePooling2D(name=\"global_avg_pool_layer\")(x)\n",
        "outputs = layers.Dense(5, activation=\"softmax\", name=\"output_layer\")(x)\n",
        "model_10 = tf.keras.Model(inputs, outputs)\n",
        "\n",
        "# Compile\n",
        "model_10.compile(loss=\"categorical_crossentropy\",\n",
        "              optimizer=tf.optimizers.Adam(),\n",
        "              metrics=[\"accuracy\"])\n",
        "\n",
        "# Fit\n",
        "history_model_10 = model_10.fit(train_data2,\n",
        "                               epochs=5,\n",
        "                               validation_data=test_data2,\n",
        "                               validation_steps=len(test_data2))"
      ],
      "metadata": {
        "colab": {
          "base_uri": "https://localhost:8080/"
        },
        "id": "W3web9dkJ_yt",
        "outputId": "d33f6874-a934-4829-98f6-50ebae2eb45a"
      },
      "execution_count": null,
      "outputs": [
        {
          "output_type": "stream",
          "name": "stdout",
          "text": [
            "Epoch 1/5\n",
            "16/16 [==============================] - 50s 2s/step - loss: 2.1939 - accuracy: 0.1562 - val_loss: 1.5480 - val_accuracy: 0.3667\n",
            "Epoch 2/5\n",
            "16/16 [==============================] - 33s 2s/step - loss: 1.7537 - accuracy: 0.2812 - val_loss: 1.5716 - val_accuracy: 0.2333\n",
            "Epoch 3/5\n",
            "16/16 [==============================] - 46s 3s/step - loss: 1.7507 - accuracy: 0.2500 - val_loss: 1.6420 - val_accuracy: 0.2667\n",
            "Epoch 4/5\n",
            "16/16 [==============================] - 34s 2s/step - loss: 1.7049 - accuracy: 0.2500 - val_loss: 1.4205 - val_accuracy: 0.4333\n",
            "Epoch 5/5\n",
            "16/16 [==============================] - 34s 2s/step - loss: 1.6059 - accuracy: 0.2500 - val_loss: 1.6184 - val_accuracy: 0.3333\n"
          ]
        }
      ]
    },
    {
      "cell_type": "code",
      "source": [
        "base_model_10.layers"
      ],
      "metadata": {
        "colab": {
          "base_uri": "https://localhost:8080/"
        },
        "id": "xTG0UtWlL9Qj",
        "outputId": "caf34eab-b59a-41aa-a30b-1c06d476aa72"
      },
      "execution_count": null,
      "outputs": [
        {
          "output_type": "execute_result",
          "data": {
            "text/plain": [
              "[<keras.engine.input_layer.InputLayer at 0x7f5b6d2cbd10>,\n",
              " <keras.layers.convolutional.Conv2D at 0x7f5b6d318710>,\n",
              " <keras.layers.normalization.batch_normalization.BatchNormalization at 0x7f5bf92fc7d0>,\n",
              " <keras.layers.core.activation.Activation at 0x7f5b6d903450>,\n",
              " <keras.layers.convolutional.Conv2D at 0x7f5b6d318810>,\n",
              " <keras.layers.normalization.batch_normalization.BatchNormalization at 0x7f5b6d312b90>,\n",
              " <keras.layers.core.activation.Activation at 0x7f5b6d2e3c90>,\n",
              " <keras.layers.convolutional.Conv2D at 0x7f5b6d300410>,\n",
              " <keras.layers.normalization.batch_normalization.BatchNormalization at 0x7f5b6d2e39d0>,\n",
              " <keras.layers.core.activation.Activation at 0x7f5b6d2d2150>,\n",
              " <keras.layers.pooling.MaxPooling2D at 0x7f5bf92fc450>,\n",
              " <keras.layers.convolutional.Conv2D at 0x7f5b6d2d2990>,\n",
              " <keras.layers.normalization.batch_normalization.BatchNormalization at 0x7f5b6d2c98d0>,\n",
              " <keras.layers.core.activation.Activation at 0x7f5b6d2ebb50>,\n",
              " <keras.layers.convolutional.Conv2D at 0x7f5b6d2eb3d0>,\n",
              " <keras.layers.normalization.batch_normalization.BatchNormalization at 0x7f5b6d2ebe50>,\n",
              " <keras.layers.core.activation.Activation at 0x7f5bf8d60f50>,\n",
              " <keras.layers.pooling.MaxPooling2D at 0x7f5bf8d2f450>,\n",
              " <keras.layers.convolutional.Conv2D at 0x7f5b6d2c3150>,\n",
              " <keras.layers.normalization.batch_normalization.BatchNormalization at 0x7f5b6ddb8a50>,\n",
              " <keras.layers.core.activation.Activation at 0x7f5bf8d4dc10>,\n",
              " <keras.layers.convolutional.Conv2D at 0x7f5bf8d37ed0>,\n",
              " <keras.layers.convolutional.Conv2D at 0x7f5bf8d4d910>,\n",
              " <keras.layers.normalization.batch_normalization.BatchNormalization at 0x7f5bf8d4a110>,\n",
              " <keras.layers.normalization.batch_normalization.BatchNormalization at 0x7f5bf8d40ad0>,\n",
              " <keras.layers.core.activation.Activation at 0x7f5bf8d60450>,\n",
              " <keras.layers.core.activation.Activation at 0x7f5bf8dab9d0>,\n",
              " <keras.layers.pooling.AveragePooling2D at 0x7f5bf8db0a50>,\n",
              " <keras.layers.convolutional.Conv2D at 0x7f5bf8d2f650>,\n",
              " <keras.layers.convolutional.Conv2D at 0x7f5b6d2d5210>,\n",
              " <keras.layers.convolutional.Conv2D at 0x7f5bf8d62890>,\n",
              " <keras.layers.convolutional.Conv2D at 0x7f5bf8dba350>,\n",
              " <keras.layers.normalization.batch_normalization.BatchNormalization at 0x7f5bf8d60e90>,\n",
              " <keras.layers.normalization.batch_normalization.BatchNormalization at 0x7f5b6d2c9d90>,\n",
              " <keras.layers.normalization.batch_normalization.BatchNormalization at 0x7f5bf8dabc90>,\n",
              " <keras.layers.normalization.batch_normalization.BatchNormalization at 0x7f5bf8db0ed0>,\n",
              " <keras.layers.core.activation.Activation at 0x7f5bf8d37f10>,\n",
              " <keras.layers.core.activation.Activation at 0x7f5b6d2ebd90>,\n",
              " <keras.layers.core.activation.Activation at 0x7f5bf8db0fd0>,\n",
              " <keras.layers.core.activation.Activation at 0x7f5bf8dc5fd0>,\n",
              " <keras.layers.merge.Concatenate at 0x7f5bf8dc5f90>,\n",
              " <keras.layers.convolutional.Conv2D at 0x7f5bf8d88290>,\n",
              " <keras.layers.normalization.batch_normalization.BatchNormalization at 0x7f5bf8d88ed0>,\n",
              " <keras.layers.core.activation.Activation at 0x7f5bf8d6c090>,\n",
              " <keras.layers.convolutional.Conv2D at 0x7f5bf8de2f90>,\n",
              " <keras.layers.convolutional.Conv2D at 0x7f5bf8d689d0>,\n",
              " <keras.layers.normalization.batch_normalization.BatchNormalization at 0x7f5bf8de2090>,\n",
              " <keras.layers.normalization.batch_normalization.BatchNormalization at 0x7f5bf8d9cb10>,\n",
              " <keras.layers.core.activation.Activation at 0x7f5bf8dce1d0>,\n",
              " <keras.layers.core.activation.Activation at 0x7f5bf8d9c5d0>,\n",
              " <keras.layers.convolutional.Conv2D at 0x7f5bf8dce0d0>,\n",
              " <keras.layers.convolutional.Conv2D at 0x7f5bf8d72690>,\n",
              " <keras.layers.convolutional.Conv2D at 0x7f5bf8d88c50>,\n",
              " <keras.layers.normalization.batch_normalization.BatchNormalization at 0x7f5bf8dca2d0>,\n",
              " <keras.layers.normalization.batch_normalization.BatchNormalization at 0x7f5bf8d726d0>,\n",
              " <keras.layers.normalization.batch_normalization.BatchNormalization at 0x7f5bf8d7b4d0>,\n",
              " <keras.layers.core.activation.Activation at 0x7f5bf8dce590>,\n",
              " <keras.layers.core.activation.Activation at 0x7f5bf8d7b590>,\n",
              " <keras.layers.core.activation.Activation at 0x7f5b6ddd3f10>,\n",
              " <keras.layers.merge.Concatenate at 0x7f5bf8cf2dd0>,\n",
              " <keras.layers.convolutional.Conv2D at 0x7f5bf8d93e10>,\n",
              " <keras.layers.core.lambda_layer.Lambda at 0x7f5bf8d95ed0>,\n",
              " <keras.layers.core.activation.Activation at 0x7f5bf8da3d90>,\n",
              " <keras.layers.convolutional.Conv2D at 0x7f5bf8d505d0>,\n",
              " <keras.layers.normalization.batch_normalization.BatchNormalization at 0x7f5bf8d55310>,\n",
              " <keras.layers.core.activation.Activation at 0x7f5bf8dbf550>,\n",
              " <keras.layers.convolutional.Conv2D at 0x7f5bf8d16a10>,\n",
              " <keras.layers.convolutional.Conv2D at 0x7f5bf8dc5190>,\n",
              " <keras.layers.normalization.batch_normalization.BatchNormalization at 0x7f5bf8d16710>,\n",
              " <keras.layers.normalization.batch_normalization.BatchNormalization at 0x7f5b6ddece50>,\n",
              " <keras.layers.core.activation.Activation at 0x7f5bf8d95f90>,\n",
              " <keras.layers.core.activation.Activation at 0x7f5bf8d1dcd0>,\n",
              " <keras.layers.convolutional.Conv2D at 0x7f5bf8cfee10>,\n",
              " <keras.layers.convolutional.Conv2D at 0x7f5bf8cf2a10>,\n",
              " <keras.layers.convolutional.Conv2D at 0x7f5bf8d1d6d0>,\n",
              " <keras.layers.normalization.batch_normalization.BatchNormalization at 0x7f5b6d2d5fd0>,\n",
              " <keras.layers.normalization.batch_normalization.BatchNormalization at 0x7f5bf8d88050>,\n",
              " <keras.layers.normalization.batch_normalization.BatchNormalization at 0x7f5bf8d1cc10>,\n",
              " <keras.layers.core.activation.Activation at 0x7f5b6d8fd210>,\n",
              " <keras.layers.core.activation.Activation at 0x7f5bf8dc5710>,\n",
              " <keras.layers.core.activation.Activation at 0x7f5bf8d25950>,\n",
              " <keras.layers.merge.Concatenate at 0x7f5bf8d229d0>,\n",
              " <keras.layers.convolutional.Conv2D at 0x7f5bf8d1c050>,\n",
              " <keras.layers.core.lambda_layer.Lambda at 0x7f5bf8d25e10>,\n",
              " <keras.layers.core.activation.Activation at 0x7f5bf8cb3790>,\n",
              " <keras.layers.convolutional.Conv2D at 0x7f5bf8cd45d0>,\n",
              " <keras.layers.normalization.batch_normalization.BatchNormalization at 0x7f5bf8cc6750>,\n",
              " <keras.layers.core.activation.Activation at 0x7f5bf8c6c8d0>,\n",
              " <keras.layers.convolutional.Conv2D at 0x7f5bf8cc0690>,\n",
              " <keras.layers.convolutional.Conv2D at 0x7f5bf8c6cf50>,\n",
              " <keras.layers.normalization.batch_normalization.BatchNormalization at 0x7f5bf8cab890>,\n",
              " <keras.layers.normalization.batch_normalization.BatchNormalization at 0x7f5bf8c6c2d0>,\n",
              " <keras.layers.core.activation.Activation at 0x7f5bf8caf190>,\n",
              " <keras.layers.core.activation.Activation at 0x7f5bf8c71f10>,\n",
              " <keras.layers.convolutional.Conv2D at 0x7f5bf8d08b50>,\n",
              " <keras.layers.convolutional.Conv2D at 0x7f5bf8cb8090>,\n",
              " <keras.layers.convolutional.Conv2D at 0x7f5bf8c71e10>,\n",
              " <keras.layers.normalization.batch_normalization.BatchNormalization at 0x7f5bf8cb3210>,\n",
              " <keras.layers.normalization.batch_normalization.BatchNormalization at 0x7f5bf8cc0f50>,\n",
              " <keras.layers.normalization.batch_normalization.BatchNormalization at 0x7f5bf8c7b3d0>,\n",
              " <keras.layers.core.activation.Activation at 0x7f5bf8cb8e90>,\n",
              " <keras.layers.core.activation.Activation at 0x7f5bf8cd4a50>,\n",
              " <keras.layers.core.activation.Activation at 0x7f5bf8c87710>,\n",
              " <keras.layers.merge.Concatenate at 0x7f5bf8c8bdd0>,\n",
              " <keras.layers.convolutional.Conv2D at 0x7f5bf8c8b710>,\n",
              " <keras.layers.core.lambda_layer.Lambda at 0x7f5bf8c8b510>,\n",
              " <keras.layers.core.activation.Activation at 0x7f5bf8c71910>,\n",
              " <keras.layers.convolutional.Conv2D at 0x7f5bf8ca0d90>,\n",
              " <keras.layers.normalization.batch_normalization.BatchNormalization at 0x7f5bf8cdeb90>,\n",
              " <keras.layers.core.activation.Activation at 0x7f5bf8cc0650>,\n",
              " <keras.layers.convolutional.Conv2D at 0x7f5bf8ca61d0>,\n",
              " <keras.layers.convolutional.Conv2D at 0x7f5bf8dcabd0>,\n",
              " <keras.layers.normalization.batch_normalization.BatchNormalization at 0x7f5bf8c35410>,\n",
              " <keras.layers.normalization.batch_normalization.BatchNormalization at 0x7f5bf8d255d0>,\n",
              " <keras.layers.core.activation.Activation at 0x7f5bf8c35510>,\n",
              " <keras.layers.core.activation.Activation at 0x7f5bf8cea350>,\n",
              " <keras.layers.convolutional.Conv2D at 0x7f5bf8cb3650>,\n",
              " <keras.layers.convolutional.Conv2D at 0x7f5bf8c35250>,\n",
              " <keras.layers.convolutional.Conv2D at 0x7f5bf8d93250>,\n",
              " <keras.layers.normalization.batch_normalization.BatchNormalization at 0x7f5bf8c8b050>,\n",
              " <keras.layers.normalization.batch_normalization.BatchNormalization at 0x7f5bf8c2b3d0>,\n",
              " <keras.layers.normalization.batch_normalization.BatchNormalization at 0x7f5bf8d01190>,\n",
              " <keras.layers.core.activation.Activation at 0x7f5bf8c81c50>,\n",
              " <keras.layers.core.activation.Activation at 0x7f5bf8cde550>,\n",
              " <keras.layers.core.activation.Activation at 0x7f5bf8cb8490>,\n",
              " <keras.layers.merge.Concatenate at 0x7f5bf8c3e750>,\n",
              " <keras.layers.convolutional.Conv2D at 0x7f5bf8d88f90>,\n",
              " <keras.layers.core.lambda_layer.Lambda at 0x7f5bf8c42790>,\n",
              " <keras.layers.core.activation.Activation at 0x7f5bf8c3ded0>,\n",
              " <keras.layers.convolutional.Conv2D at 0x7f5bf8be9810>,\n",
              " <keras.layers.normalization.batch_normalization.BatchNormalization at 0x7f5bf8bf23d0>,\n",
              " <keras.layers.core.activation.Activation at 0x7f5bf8bff850>,\n",
              " <keras.layers.convolutional.Conv2D at 0x7f5b6d8c5750>,\n",
              " <keras.layers.convolutional.Conv2D at 0x7f5bf8bffa90>,\n",
              " <keras.layers.normalization.batch_normalization.BatchNormalization at 0x7f5bf8c55190>,\n",
              " <keras.layers.normalization.batch_normalization.BatchNormalization at 0x7f5bf8bffb10>,\n",
              " <keras.layers.core.activation.Activation at 0x7f5bf8c60b50>,\n",
              " <keras.layers.core.activation.Activation at 0x7f5bf8c0a490>,\n",
              " <keras.layers.convolutional.Conv2D at 0x7f5bf8c962d0>,\n",
              " <keras.layers.convolutional.Conv2D at 0x7f5bf8c605d0>,\n",
              " <keras.layers.convolutional.Conv2D at 0x7f5bf8c13c90>,\n",
              " <keras.layers.normalization.batch_normalization.BatchNormalization at 0x7f5bf8c42bd0>,\n",
              " <keras.layers.normalization.batch_normalization.BatchNormalization at 0x7f5bf8c63450>,\n",
              " <keras.layers.normalization.batch_normalization.BatchNormalization at 0x7f5bf8c0ae10>,\n",
              " <keras.layers.core.activation.Activation at 0x7f5bf8c3c2d0>,\n",
              " <keras.layers.core.activation.Activation at 0x7f5bf8be9d90>,\n",
              " <keras.layers.core.activation.Activation at 0x7f5bf8bff7d0>,\n",
              " <keras.layers.merge.Concatenate at 0x7f5bf8c19e10>,\n",
              " <keras.layers.convolutional.Conv2D at 0x7f5bf8c24710>,\n",
              " <keras.layers.core.lambda_layer.Lambda at 0x7f5bf8c24210>,\n",
              " <keras.layers.core.activation.Activation at 0x7f5bf8c0a550>,\n",
              " <keras.layers.convolutional.Conv2D at 0x7f5bf8bfb8d0>,\n",
              " <keras.layers.normalization.batch_normalization.BatchNormalization at 0x7f5bf8c13b10>,\n",
              " <keras.layers.core.activation.Activation at 0x7f5bf8c55090>,\n",
              " <keras.layers.convolutional.Conv2D at 0x7f5bf8bb8e10>,\n",
              " <keras.layers.convolutional.Conv2D at 0x7f5bf8c3cad0>,\n",
              " <keras.layers.normalization.batch_normalization.BatchNormalization at 0x7f5bf8bb2a50>,\n",
              " <keras.layers.normalization.batch_normalization.BatchNormalization at 0x7f5bf8c424d0>,\n",
              " <keras.layers.core.activation.Activation at 0x7f5bf8bc7510>,\n",
              " <keras.layers.core.activation.Activation at 0x7f5bf8c4d7d0>,\n",
              " <keras.layers.convolutional.Conv2D at 0x7f5bf8ba8890>,\n",
              " <keras.layers.convolutional.Conv2D at 0x7f5bf8c19810>,\n",
              " <keras.layers.convolutional.Conv2D at 0x7f5bf8c63f10>,\n",
              " <keras.layers.normalization.batch_normalization.BatchNormalization at 0x7f5bf8bb8990>,\n",
              " <keras.layers.normalization.batch_normalization.BatchNormalization at 0x7f5bf8bc7150>,\n",
              " <keras.layers.normalization.batch_normalization.BatchNormalization at 0x7f5bf8c2e350>,\n",
              " <keras.layers.core.activation.Activation at 0x7f5bf8bb8f10>,\n",
              " <keras.layers.core.activation.Activation at 0x7f5bf8c0e6d0>,\n",
              " <keras.layers.core.activation.Activation at 0x7f5bf8ccbc10>,\n",
              " <keras.layers.merge.Concatenate at 0x7f5bf8c3d150>,\n",
              " <keras.layers.convolutional.Conv2D at 0x7f5bf8c42f90>,\n",
              " <keras.layers.core.lambda_layer.Lambda at 0x7f5bf8cc6a50>,\n",
              " <keras.layers.core.activation.Activation at 0x7f5bf8bd8bd0>,\n",
              " <keras.layers.convolutional.Conv2D at 0x7f5bf8b892d0>,\n",
              " <keras.layers.normalization.batch_normalization.BatchNormalization at 0x7f5bf8b89e50>,\n",
              " <keras.layers.core.activation.Activation at 0x7f5bf8be0450>,\n",
              " <keras.layers.convolutional.Conv2D at 0x7f5bf8be58d0>,\n",
              " <keras.layers.convolutional.Conv2D at 0x7f5bf8b75490>,\n",
              " <keras.layers.normalization.batch_normalization.BatchNormalization at 0x7f5bf8bdbf50>,\n",
              " <keras.layers.normalization.batch_normalization.BatchNormalization at 0x7f5bf8b9df50>,\n",
              " <keras.layers.core.activation.Activation at 0x7f5bf8b72910>,\n",
              " <keras.layers.core.activation.Activation at 0x7f5bf8b9d7d0>,\n",
              " <keras.layers.convolutional.Conv2D at 0x7f5bf8bc3f90>,\n",
              " <keras.layers.convolutional.Conv2D at 0x7f5bf8b72390>,\n",
              " <keras.layers.convolutional.Conv2D at 0x7f5bf8b75c10>,\n",
              " <keras.layers.normalization.batch_normalization.BatchNormalization at 0x7f5bf8bd8c50>,\n",
              " <keras.layers.normalization.batch_normalization.BatchNormalization at 0x7f5bf8b7bcd0>,\n",
              " <keras.layers.normalization.batch_normalization.BatchNormalization at 0x7f5bf8b89590>,\n",
              " <keras.layers.core.activation.Activation at 0x7f5bf8be59d0>,\n",
              " <keras.layers.core.activation.Activation at 0x7f5bf8b7fed0>,\n",
              " <keras.layers.core.activation.Activation at 0x7f5bf8b2f950>,\n",
              " <keras.layers.merge.Concatenate at 0x7f5bf8b2fd50>,\n",
              " <keras.layers.convolutional.Conv2D at 0x7f5bf8b89250>,\n",
              " <keras.layers.core.lambda_layer.Lambda at 0x7f5bf8b2fe50>,\n",
              " <keras.layers.core.activation.Activation at 0x7f5bf8b45210>,\n",
              " <keras.layers.convolutional.Conv2D at 0x7f5bf8b922d0>,\n",
              " <keras.layers.normalization.batch_normalization.BatchNormalization at 0x7f5bf8b9d690>,\n",
              " <keras.layers.core.activation.Activation at 0x7f5bf8b36b10>,\n",
              " <keras.layers.convolutional.Conv2D at 0x7f5bf8b507d0>,\n",
              " <keras.layers.convolutional.Conv2D at 0x7f5bf8b36bd0>,\n",
              " <keras.layers.normalization.batch_normalization.BatchNormalization at 0x7f5bf8b55150>,\n",
              " <keras.layers.normalization.batch_normalization.BatchNormalization at 0x7f5bf8b7f1d0>,\n",
              " <keras.layers.core.activation.Activation at 0x7f5bf8aea510>,\n",
              " <keras.layers.core.activation.Activation at 0x7f5bf8be5d10>,\n",
              " <keras.layers.convolutional.Conv2D at 0x7f5bf8bd3850>,\n",
              " <keras.layers.convolutional.Conv2D at 0x7f5bf8aeaf50>,\n",
              " <keras.layers.convolutional.Conv2D at 0x7f5bf8bd8410>,\n",
              " <keras.layers.normalization.batch_normalization.BatchNormalization at 0x7f5bf8b45050>,\n",
              " <keras.layers.normalization.batch_normalization.BatchNormalization at 0x7f5bf8aeab50>,\n",
              " <keras.layers.normalization.batch_normalization.BatchNormalization at 0x7f5bf8b6d2d0>,\n",
              " <keras.layers.core.activation.Activation at 0x7f5bf8b2f610>,\n",
              " <keras.layers.core.activation.Activation at 0x7f5bf8b4b2d0>,\n",
              " <keras.layers.core.activation.Activation at 0x7f5bf8b367d0>,\n",
              " <keras.layers.merge.Concatenate at 0x7f5bf8c24e90>,\n",
              " <keras.layers.convolutional.Conv2D at 0x7f5bf8bd3650>,\n",
              " <keras.layers.core.lambda_layer.Lambda at 0x7f5bf8bf9550>,\n",
              " <keras.layers.core.activation.Activation at 0x7f5bf8bd8250>,\n",
              " <keras.layers.convolutional.Conv2D at 0x7f5bf8b01390>,\n",
              " <keras.layers.normalization.batch_normalization.BatchNormalization at 0x7f5bf8aa8610>,\n",
              " <keras.layers.core.activation.Activation at 0x7f5bf8aa8b50>,\n",
              " <keras.layers.convolutional.Conv2D at 0x7f5bf8b05f50>,\n",
              " <keras.layers.convolutional.Conv2D at 0x7f5bf8aa8850>,\n",
              " <keras.layers.normalization.batch_normalization.BatchNormalization at 0x7f5bf8b05610>,\n",
              " <keras.layers.normalization.batch_normalization.BatchNormalization at 0x7f5bf8b1f390>,\n",
              " <keras.layers.core.activation.Activation at 0x7f5bf8afb510>,\n",
              " <keras.layers.core.activation.Activation at 0x7f5bf8abe910>,\n",
              " <keras.layers.convolutional.Conv2D at 0x7f5bf8b45610>,\n",
              " <keras.layers.convolutional.Conv2D at 0x7f5bf8af4210>,\n",
              " <keras.layers.convolutional.Conv2D at 0x7f5bf8abe450>,\n",
              " <keras.layers.normalization.batch_normalization.BatchNormalization at 0x7f5bf8af5e50>,\n",
              " <keras.layers.normalization.batch_normalization.BatchNormalization at 0x7f5bf8af5dd0>,\n",
              " <keras.layers.normalization.batch_normalization.BatchNormalization at 0x7f5bf8abed10>,\n",
              " <keras.layers.core.activation.Activation at 0x7f5bf8c0a990>,\n",
              " <keras.layers.core.activation.Activation at 0x7f5bf8b0c0d0>,\n",
              " <keras.layers.core.activation.Activation at 0x7f5bf8ac5f90>,\n",
              " <keras.layers.merge.Concatenate at 0x7f5bf8abe310>,\n",
              " <keras.layers.convolutional.Conv2D at 0x7f5bf8acd210>,\n",
              " <keras.layers.core.lambda_layer.Lambda at 0x7f5bf8acd290>,\n",
              " <keras.layers.core.activation.Activation at 0x7f5bf8ae1e10>,\n",
              " <keras.layers.convolutional.Conv2D at 0x7f5bf8a85ed0>,\n",
              " <keras.layers.normalization.batch_normalization.BatchNormalization at 0x7f5bf8a74e90>,\n",
              " <keras.layers.core.activation.Activation at 0x7f5bf8ac54d0>,\n",
              " <keras.layers.convolutional.Conv2D at 0x7f5bf8a6e310>,\n",
              " <keras.layers.convolutional.Conv2D at 0x7f5bf8ac8810>,\n",
              " <keras.layers.normalization.batch_normalization.BatchNormalization at 0x7f5bf8ac8b90>,\n",
              " <keras.layers.normalization.batch_normalization.BatchNormalization at 0x7f5bf8aaf790>,\n",
              " <keras.layers.core.activation.Activation at 0x7f5bf8ad9a90>,\n",
              " <keras.layers.core.activation.Activation at 0x7f5bf8ad3810>,\n",
              " <keras.layers.convolutional.Conv2D at 0x7f5bf8af5390>,\n",
              " <keras.layers.convolutional.Conv2D at 0x7f5bf8ae67d0>,\n",
              " <keras.layers.convolutional.Conv2D at 0x7f5bf8ad3a10>,\n",
              " <keras.layers.normalization.batch_normalization.BatchNormalization at 0x7f5bf8ad9e10>,\n",
              " <keras.layers.normalization.batch_normalization.BatchNormalization at 0x7f5bf8a85a90>,\n",
              " <keras.layers.normalization.batch_normalization.BatchNormalization at 0x7f5bf8bceb50>,\n",
              " <keras.layers.core.activation.Activation at 0x7f5bf8ae6150>,\n",
              " <keras.layers.core.activation.Activation at 0x7f5bf8a85f10>,\n",
              " <keras.layers.core.activation.Activation at 0x7f5bf8bdb290>,\n",
              " <keras.layers.merge.Concatenate at 0x7f5bf8a88050>,\n",
              " <keras.layers.convolutional.Conv2D at 0x7f5bf8bdb2d0>,\n",
              " <keras.layers.core.lambda_layer.Lambda at 0x7f5bf8a882d0>,\n",
              " <keras.layers.core.activation.Activation at 0x7f5bf8b12610>,\n",
              " <keras.layers.convolutional.Conv2D at 0x7f5bf8b6d290>,\n",
              " <keras.layers.normalization.batch_normalization.BatchNormalization at 0x7f5bf8b84b90>,\n",
              " <keras.layers.core.activation.Activation at 0x7f5bf8aa4d90>,\n",
              " <keras.layers.convolutional.Conv2D at 0x7f5bf8a9cb90>,\n",
              " <keras.layers.normalization.batch_normalization.BatchNormalization at 0x7f5bf8aa1950>,\n",
              " <keras.layers.core.activation.Activation at 0x7f5bf8a93a50>,\n",
              " <keras.layers.convolutional.Conv2D at 0x7f5bf8adcc50>,\n",
              " <keras.layers.convolutional.Conv2D at 0x7f5bf8a34550>,\n",
              " <keras.layers.normalization.batch_normalization.BatchNormalization at 0x7f5bf8b84390>,\n",
              " <keras.layers.normalization.batch_normalization.BatchNormalization at 0x7f5bf8a348d0>,\n",
              " <keras.layers.core.activation.Activation at 0x7f5bf8a98590>,\n",
              " <keras.layers.core.activation.Activation at 0x7f5bf8a2edd0>,\n",
              " <keras.layers.pooling.MaxPooling2D at 0x7f5bf8a3f2d0>,\n",
              " <keras.layers.merge.Concatenate at 0x7f5bf8a43510>,\n",
              " <keras.layers.convolutional.Conv2D at 0x7f5bf8a430d0>,\n",
              " <keras.layers.normalization.batch_normalization.BatchNormalization at 0x7f5bf8a52750>,\n",
              " <keras.layers.core.activation.Activation at 0x7f5bf8a43610>,\n",
              " <keras.layers.convolutional.Conv2D at 0x7f5bf89f3590>,\n",
              " <keras.layers.normalization.batch_normalization.BatchNormalization at 0x7f5bf89f7250>,\n",
              " <keras.layers.core.activation.Activation at 0x7f5bf89e7090>,\n",
              " <keras.layers.convolutional.Conv2D at 0x7f5bf8a43590>,\n",
              " <keras.layers.convolutional.Conv2D at 0x7f5bf8a06b90>,\n",
              " <keras.layers.normalization.batch_normalization.BatchNormalization at 0x7f5bf8a3af50>,\n",
              " <keras.layers.normalization.batch_normalization.BatchNormalization at 0x7f5bf8a06e90>,\n",
              " <keras.layers.core.activation.Activation at 0x7f5bf8a43a10>,\n",
              " <keras.layers.core.activation.Activation at 0x7f5bf89f7ad0>,\n",
              " <keras.layers.merge.Concatenate at 0x7f5bf8a15390>,\n",
              " <keras.layers.convolutional.Conv2D at 0x7f5bf8a01fd0>,\n",
              " <keras.layers.core.lambda_layer.Lambda at 0x7f5bf8a1c390>,\n",
              " <keras.layers.core.activation.Activation at 0x7f5bf89ab590>,\n",
              " <keras.layers.convolutional.Conv2D at 0x7f5bf8a0cb10>,\n",
              " <keras.layers.normalization.batch_normalization.BatchNormalization at 0x7f5bf8a06e10>,\n",
              " <keras.layers.core.activation.Activation at 0x7f5bf8a59190>,\n",
              " <keras.layers.convolutional.Conv2D at 0x7f5bf89ea090>,\n",
              " <keras.layers.normalization.batch_normalization.BatchNormalization at 0x7f5bf8a98d50>,\n",
              " <keras.layers.core.activation.Activation at 0x7f5bf8a52550>,\n",
              " <keras.layers.convolutional.Conv2D at 0x7f5bf8a904d0>,\n",
              " <keras.layers.convolutional.Conv2D at 0x7f5bf8a48e10>,\n",
              " <keras.layers.normalization.batch_normalization.BatchNormalization at 0x7f5bf89a7d50>,\n",
              " <keras.layers.normalization.batch_normalization.BatchNormalization at 0x7f5bf8a3ad90>,\n",
              " <keras.layers.core.activation.Activation at 0x7f5bf8a15ad0>,\n",
              " <keras.layers.core.activation.Activation at 0x7f5bf8b01c10>,\n",
              " <keras.layers.merge.Concatenate at 0x7f5bf8b1fe90>,\n",
              " <keras.layers.convolutional.Conv2D at 0x7f5bf8aeef10>,\n",
              " <keras.layers.core.lambda_layer.Lambda at 0x7f5bf89b3890>,\n",
              " <keras.layers.core.activation.Activation at 0x7f5bf89b7050>,\n",
              " <keras.layers.convolutional.Conv2D at 0x7f5bf89c3350>,\n",
              " <keras.layers.normalization.batch_normalization.BatchNormalization at 0x7f5bf89c3210>,\n",
              " <keras.layers.core.activation.Activation at 0x7f5bf89fe550>,\n",
              " <keras.layers.convolutional.Conv2D at 0x7f5bf89bbb10>,\n",
              " <keras.layers.normalization.batch_normalization.BatchNormalization at 0x7f5bf89c3990>,\n",
              " <keras.layers.core.activation.Activation at 0x7f5bf89d67d0>,\n",
              " <keras.layers.convolutional.Conv2D at 0x7f5bf89fee10>,\n",
              " <keras.layers.convolutional.Conv2D at 0x7f5bf89d3f10>,\n",
              " <keras.layers.normalization.batch_normalization.BatchNormalization at 0x7f5bf89b74d0>,\n",
              " <keras.layers.normalization.batch_normalization.BatchNormalization at 0x7f5bf89d69d0>,\n",
              " <keras.layers.core.activation.Activation at 0x7f5bf89be990>,\n",
              " <keras.layers.core.activation.Activation at 0x7f5bf8968910>,\n",
              " <keras.layers.merge.Concatenate at 0x7f5bf8968450>,\n",
              " <keras.layers.convolutional.Conv2D at 0x7f5bf89d8090>,\n",
              " <keras.layers.core.lambda_layer.Lambda at 0x7f5bf89d8fd0>,\n",
              " <keras.layers.core.activation.Activation at 0x7f5bf8977d90>,\n",
              " <keras.layers.convolutional.Conv2D at 0x7f5bf898f710>,\n",
              " <keras.layers.normalization.batch_normalization.BatchNormalization at 0x7f5bf8988f90>,\n",
              " <keras.layers.core.activation.Activation at 0x7f5bf89931d0>,\n",
              " <keras.layers.convolutional.Conv2D at 0x7f5bf89973d0>,\n",
              " <keras.layers.normalization.batch_normalization.BatchNormalization at 0x7f5bf8997290>,\n",
              " <keras.layers.core.activation.Activation at 0x7f5bf898f510>,\n",
              " <keras.layers.convolutional.Conv2D at 0x7f5bf89feed0>,\n",
              " <keras.layers.convolutional.Conv2D at 0x7f5bf8988f50>,\n",
              " <keras.layers.normalization.batch_normalization.BatchNormalization at 0x7f5bf89dd4d0>,\n",
              " <keras.layers.normalization.batch_normalization.BatchNormalization at 0x7f5bf8997bd0>,\n",
              " <keras.layers.core.activation.Activation at 0x7f5bf8988bd0>,\n",
              " <keras.layers.core.activation.Activation at 0x7f5bf8980250>,\n",
              " <keras.layers.merge.Concatenate at 0x7f5bf89a20d0>,\n",
              " <keras.layers.convolutional.Conv2D at 0x7f5bf89347d0>,\n",
              " <keras.layers.core.lambda_layer.Lambda at 0x7f5bf893e810>,\n",
              " <keras.layers.core.activation.Activation at 0x7f5bf8939650>,\n",
              " <keras.layers.convolutional.Conv2D at 0x7f5bf8977bd0>,\n",
              " <keras.layers.normalization.batch_normalization.BatchNormalization at 0x7f5bf896b690>,\n",
              " <keras.layers.core.activation.Activation at 0x7f5bf89c9c90>,\n",
              " <keras.layers.convolutional.Conv2D at 0x7f5bf8a15150>,\n",
              " <keras.layers.normalization.batch_normalization.BatchNormalization at 0x7f5bf89b3ed0>,\n",
              " <keras.layers.core.activation.Activation at 0x7f5bf8943e90>,\n",
              " <keras.layers.convolutional.Conv2D at 0x7f5bf892cd50>,\n",
              " <keras.layers.convolutional.Conv2D at 0x7f5bf893e6d0>,\n",
              " <keras.layers.normalization.batch_normalization.BatchNormalization at 0x7f5bf8928a90>,\n",
              " <keras.layers.normalization.batch_normalization.BatchNormalization at 0x7f5bf8a3a650>,\n",
              " <keras.layers.core.activation.Activation at 0x7f5bf8997490>,\n",
              " <keras.layers.core.activation.Activation at 0x7f5bf89fefd0>,\n",
              " <keras.layers.merge.Concatenate at 0x7f5bf89510d0>,\n",
              " <keras.layers.convolutional.Conv2D at 0x7f5bf895a8d0>,\n",
              " <keras.layers.core.lambda_layer.Lambda at 0x7f5bf8951d90>,\n",
              " <keras.layers.core.activation.Activation at 0x7f5bf89d86d0>,\n",
              " <keras.layers.convolutional.Conv2D at 0x7f5bf88eacd0>,\n",
              " <keras.layers.normalization.batch_normalization.BatchNormalization at 0x7f5bf894f890>,\n",
              " <keras.layers.core.activation.Activation at 0x7f5bf88f9350>,\n",
              " <keras.layers.convolutional.Conv2D at 0x7f5bf88f9990>,\n",
              " <keras.layers.normalization.batch_normalization.BatchNormalization at 0x7f5bf88f95d0>,\n",
              " <keras.layers.core.activation.Activation at 0x7f5bf88ff150>,\n",
              " <keras.layers.convolutional.Conv2D at 0x7f5bf8951f50>,\n",
              " <keras.layers.convolutional.Conv2D at 0x7f5bf894f250>,\n",
              " <keras.layers.normalization.batch_normalization.BatchNormalization at 0x7f5bf88ea810>,\n",
              " <keras.layers.normalization.batch_normalization.BatchNormalization at 0x7f5bf88effd0>,\n",
              " <keras.layers.core.activation.Activation at 0x7f5bf8965490>,\n",
              " <keras.layers.core.activation.Activation at 0x7f5bf8a53b90>,\n",
              " <keras.layers.merge.Concatenate at 0x7f5bf8a62590>,\n",
              " <keras.layers.convolutional.Conv2D at 0x7f5bf8a62c10>,\n",
              " <keras.layers.core.lambda_layer.Lambda at 0x7f5bf8908550>,\n",
              " <keras.layers.core.activation.Activation at 0x7f5bf8904050>,\n",
              " <keras.layers.convolutional.Conv2D at 0x7f5bf891bdd0>,\n",
              " <keras.layers.normalization.batch_normalization.BatchNormalization at 0x7f5bf8908c10>,\n",
              " <keras.layers.core.activation.Activation at 0x7f5bf88b8790>,\n",
              " <keras.layers.convolutional.Conv2D at 0x7f5bf88b8190>,\n",
              " <keras.layers.normalization.batch_normalization.BatchNormalization at 0x7f5bf88b1750>,\n",
              " <keras.layers.core.activation.Activation at 0x7f5bf88c8390>,\n",
              " <keras.layers.convolutional.Conv2D at 0x7f5bf8951f90>,\n",
              " <keras.layers.convolutional.Conv2D at 0x7f5bf88c8850>,\n",
              " <keras.layers.normalization.batch_normalization.BatchNormalization at 0x7f5bf8a62850>,\n",
              " <keras.layers.normalization.batch_normalization.BatchNormalization at 0x7f5bf88c8610>,\n",
              " <keras.layers.core.activation.Activation at 0x7f5bf8923310>,\n",
              " <keras.layers.core.activation.Activation at 0x7f5bf88bce50>,\n",
              " <keras.layers.merge.Concatenate at 0x7f5bf88d8cd0>,\n",
              " <keras.layers.convolutional.Conv2D at 0x7f5bf88d8410>,\n",
              " <keras.layers.core.lambda_layer.Lambda at 0x7f5bf88b1e50>,\n",
              " <keras.layers.core.activation.Activation at 0x7f5bf8923c90>,\n",
              " <keras.layers.convolutional.Conv2D at 0x7f5bf88c1f90>,\n",
              " <keras.layers.normalization.batch_normalization.BatchNormalization at 0x7f5bf8923250>,\n",
              " <keras.layers.core.activation.Activation at 0x7f5bf8a3f8d0>,\n",
              " <keras.layers.convolutional.Conv2D at 0x7f5bf89b3c10>,\n",
              " <keras.layers.normalization.batch_normalization.BatchNormalization at 0x7f5bf894bcd0>,\n",
              " <keras.layers.core.activation.Activation at 0x7f5bf88e3590>,\n",
              " <keras.layers.convolutional.Conv2D at 0x7f5bf894f7d0>,\n",
              " <keras.layers.convolutional.Conv2D at 0x7f5bf8993b50>,\n",
              " <keras.layers.normalization.batch_normalization.BatchNormalization at 0x7f5bf890d0d0>,\n",
              " <keras.layers.normalization.batch_normalization.BatchNormalization at 0x7f5bf88e31d0>,\n",
              " <keras.layers.core.activation.Activation at 0x7f5bf8923f10>,\n",
              " <keras.layers.core.activation.Activation at 0x7f5bf8868810>,\n",
              " <keras.layers.merge.Concatenate at 0x7f5bf886fa50>,\n",
              " <keras.layers.convolutional.Conv2D at 0x7f5bf8934450>,\n",
              " <keras.layers.core.lambda_layer.Lambda at 0x7f5bf886fb10>,\n",
              " <keras.layers.core.activation.Activation at 0x7f5bf88837d0>,\n",
              " <keras.layers.convolutional.Conv2D at 0x7f5bf8891e90>,\n",
              " <keras.layers.normalization.batch_normalization.BatchNormalization at 0x7f5bf8874410>,\n",
              " <keras.layers.core.activation.Activation at 0x7f5bf888bd90>,\n",
              " <keras.layers.convolutional.Conv2D at 0x7f5bf88890d0>,\n",
              " <keras.layers.normalization.batch_normalization.BatchNormalization at 0x7f5bf88a0e90>,\n",
              " <keras.layers.core.activation.Activation at 0x7f5bf889c110>,\n",
              " <keras.layers.convolutional.Conv2D at 0x7f5bf8a532d0>,\n",
              " <keras.layers.convolutional.Conv2D at 0x7f5bf88916d0>,\n",
              " <keras.layers.normalization.batch_normalization.BatchNormalization at 0x7f5bf8883250>,\n",
              " <keras.layers.normalization.batch_normalization.BatchNormalization at 0x7f5bf8889bd0>,\n",
              " <keras.layers.core.activation.Activation at 0x7f5bf8889810>,\n",
              " <keras.layers.core.activation.Activation at 0x7f5bf8831890>,\n",
              " <keras.layers.merge.Concatenate at 0x7f5bf8831c90>,\n",
              " <keras.layers.convolutional.Conv2D at 0x7f5bf8831d50>,\n",
              " <keras.layers.core.lambda_layer.Lambda at 0x7f5bf88a0310>,\n",
              " <keras.layers.core.activation.Activation at 0x7f5bf883fd10>,\n",
              " <keras.layers.convolutional.Conv2D at 0x7f5bf885a410>,\n",
              " <keras.layers.normalization.batch_normalization.BatchNormalization at 0x7f5bf8854f10>,\n",
              " <keras.layers.core.activation.Activation at 0x7f5bf8845350>,\n",
              " <keras.layers.convolutional.Conv2D at 0x7f5bf8845b90>,\n",
              " <keras.layers.normalization.batch_normalization.BatchNormalization at 0x7f5bf8864110>,\n",
              " <keras.layers.core.activation.Activation at 0x7f5bf885a4d0>,\n",
              " <keras.layers.convolutional.Conv2D at 0x7f5bf882b950>,\n",
              " <keras.layers.convolutional.Conv2D at 0x7f5bf8854ed0>,\n",
              " <keras.layers.normalization.batch_normalization.BatchNormalization at 0x7f5bf88a5510>,\n",
              " <keras.layers.normalization.batch_normalization.BatchNormalization at 0x7f5bf87f9f90>,\n",
              " <keras.layers.core.activation.Activation at 0x7f5bf882bc50>,\n",
              " <keras.layers.core.activation.Activation at 0x7f5bf87f9090>,\n",
              " <keras.layers.merge.Concatenate at 0x7f5bf87ef2d0>,\n",
              " <keras.layers.convolutional.Conv2D at 0x7f5bf8854610>,\n",
              " <keras.layers.core.lambda_layer.Lambda at 0x7f5bf883fcd0>,\n",
              " <keras.layers.core.activation.Activation at 0x7f5bf8835890>,\n",
              " <keras.layers.convolutional.Conv2D at 0x7f5bf8997110>,\n",
              " <keras.layers.normalization.batch_normalization.BatchNormalization at 0x7f5bf898f190>,\n",
              " <keras.layers.core.activation.Activation at 0x7f5bf895a710>,\n",
              " <keras.layers.convolutional.Conv2D at 0x7f5bf8a2c2d0>,\n",
              " <keras.layers.normalization.batch_normalization.BatchNormalization at 0x7f5bf8802750>,\n",
              " <keras.layers.core.activation.Activation at 0x7f5bf8807a90>,\n",
              " <keras.layers.convolutional.Conv2D at 0x7f5bf87eb650>,\n",
              " <keras.layers.convolutional.Conv2D at 0x7f5bf880e290>,\n",
              " <keras.layers.normalization.batch_normalization.BatchNormalization at 0x7f5bf8854450>,\n",
              " <keras.layers.normalization.batch_normalization.BatchNormalization at 0x7f5bf880e250>,\n",
              " <keras.layers.core.activation.Activation at 0x7f5bf884a290>,\n",
              " <keras.layers.core.activation.Activation at 0x7f5bf88ff690>,\n",
              " <keras.layers.merge.Concatenate at 0x7f5bf8811750>,\n",
              " <keras.layers.convolutional.Conv2D at 0x7f5bf881d590>,\n",
              " <keras.layers.core.lambda_layer.Lambda at 0x7f5bf881de10>,\n",
              " <keras.layers.core.activation.Activation at 0x7f5bf8807a50>,\n",
              " <keras.layers.convolutional.Conv2D at 0x7f5bf88143d0>,\n",
              " <keras.layers.normalization.batch_normalization.BatchNormalization at 0x7f5bf881a390>,\n",
              " <keras.layers.core.activation.Activation at 0x7f5bf87be1d0>,\n",
              " <keras.layers.convolutional.Conv2D at 0x7f5bf8811350>,\n",
              " <keras.layers.normalization.batch_normalization.BatchNormalization at 0x7f5bf87be590>,\n",
              " <keras.layers.core.activation.Activation at 0x7f5bf87c4e10>,\n",
              " <keras.layers.convolutional.Conv2D at 0x7f5bf8814fd0>,\n",
              " <keras.layers.convolutional.Conv2D at 0x7f5bf87cf910>,\n",
              " <keras.layers.normalization.batch_normalization.BatchNormalization at 0x7f5bf87af610>,\n",
              " <keras.layers.normalization.batch_normalization.BatchNormalization at 0x7f5bf87cf350>,\n",
              " <keras.layers.core.activation.Activation at 0x7f5bf87afd90>,\n",
              " <keras.layers.core.activation.Activation at 0x7f5bf87bedd0>,\n",
              " <keras.layers.merge.Concatenate at 0x7f5bf87e4310>,\n",
              " <keras.layers.convolutional.Conv2D at 0x7f5bf87c9990>,\n",
              " <keras.layers.core.lambda_layer.Lambda at 0x7f5bf87c9fd0>,\n",
              " <keras.layers.core.activation.Activation at 0x7f5bf877a990>,\n",
              " <keras.layers.convolutional.Conv2D at 0x7f5bf8789fd0>,\n",
              " <keras.layers.normalization.batch_normalization.BatchNormalization at 0x7f5bf8789590>,\n",
              " <keras.layers.core.activation.Activation at 0x7f5bf8783610>,\n",
              " <keras.layers.convolutional.Conv2D at 0x7f5bf87683d0>,\n",
              " <keras.layers.normalization.batch_normalization.BatchNormalization at 0x7f5bf8797f90>,\n",
              " <keras.layers.core.activation.Activation at 0x7f5bf8797850>,\n",
              " <keras.layers.convolutional.Conv2D at 0x7f5bf881db50>,\n",
              " <keras.layers.convolutional.Conv2D at 0x7f5bf8797a50>,\n",
              " <keras.layers.normalization.batch_normalization.BatchNormalization at 0x7f5bf87cf410>,\n",
              " <keras.layers.normalization.batch_normalization.BatchNormalization at 0x7f5bf87da690>,\n",
              " <keras.layers.core.activation.Activation at 0x7f5bf87df410>,\n",
              " <keras.layers.core.activation.Activation at 0x7f5bf87c9f10>,\n",
              " <keras.layers.merge.Concatenate at 0x7f5bf87d4990>,\n",
              " <keras.layers.convolutional.Conv2D at 0x7f5bf8773310>,\n",
              " <keras.layers.core.lambda_layer.Lambda at 0x7f5bf8768650>,\n",
              " <keras.layers.core.activation.Activation at 0x7f5bf881af10>,\n",
              " <keras.layers.convolutional.Conv2D at 0x7f5bf885dbd0>,\n",
              " <keras.layers.normalization.batch_normalization.BatchNormalization at 0x7f5bf8934c50>,\n",
              " <keras.layers.core.activation.Activation at 0x7f5bf87aa550>,\n",
              " <keras.layers.convolutional.Conv2D at 0x7f5bf87b4d10>,\n",
              " <keras.layers.normalization.batch_normalization.BatchNormalization at 0x7f5bf87be4d0>,\n",
              " <keras.layers.core.activation.Activation at 0x7f5bf87c4bd0>,\n",
              " <keras.layers.convolutional.Conv2D at 0x7f5bf876d310>,\n",
              " <keras.layers.convolutional.Conv2D at 0x7f5bf8809c50>,\n",
              " <keras.layers.normalization.batch_normalization.BatchNormalization at 0x7f5bf87fab50>,\n",
              " <keras.layers.normalization.batch_normalization.BatchNormalization at 0x7f5bf87a6210>,\n",
              " <keras.layers.core.activation.Activation at 0x7f5bf87ef1d0>,\n",
              " <keras.layers.core.activation.Activation at 0x7f5bf8739710>,\n",
              " <keras.layers.merge.Concatenate at 0x7f5bf87347d0>,\n",
              " <keras.layers.convolutional.Conv2D at 0x7f5bf885a190>,\n",
              " <keras.layers.core.lambda_layer.Lambda at 0x7f5bf8739e90>,\n",
              " <keras.layers.core.activation.Activation at 0x7f5bf8744e50>,\n",
              " <keras.layers.convolutional.Conv2D at 0x7f5bf8756290>,\n",
              " <keras.layers.normalization.batch_normalization.BatchNormalization at 0x7f5bf8756150>,\n",
              " <keras.layers.core.activation.Activation at 0x7f5bf874a4d0>,\n",
              " <keras.layers.convolutional.Conv2D at 0x7f5bf8764590>,\n",
              " <keras.layers.normalization.batch_normalization.BatchNormalization at 0x7f5bf8744b50>,\n",
              " <keras.layers.core.activation.Activation at 0x7f5bf875d050>,\n",
              " <keras.layers.convolutional.Conv2D at 0x7f5bf881da10>,\n",
              " <keras.layers.convolutional.Conv2D at 0x7f5bf8756d90>,\n",
              " <keras.layers.normalization.batch_normalization.BatchNormalization at 0x7f5bf8744f10>,\n",
              " <keras.layers.normalization.batch_normalization.BatchNormalization at 0x7f5bf86f8150>,\n",
              " <keras.layers.core.activation.Activation at 0x7f5bf8739a90>,\n",
              " <keras.layers.core.activation.Activation at 0x7f5bf86f8350>,\n",
              " <keras.layers.merge.Concatenate at 0x7f5bf86f0a50>,\n",
              " <keras.layers.convolutional.Conv2D at 0x7f5bf8701cd0>,\n",
              " <keras.layers.core.lambda_layer.Lambda at 0x7f5bf8710710>,\n",
              " <keras.layers.core.activation.Activation at 0x7f5bf8710f90>,\n",
              " <keras.layers.convolutional.Conv2D at 0x7f5bf871fd90>,\n",
              " <keras.layers.normalization.batch_normalization.BatchNormalization at 0x7f5bf871fb90>,\n",
              " <keras.layers.core.activation.Activation at 0x7f5bf86a9290>,\n",
              " <keras.layers.convolutional.Conv2D at 0x7f5bf86a9650>,\n",
              " <keras.layers.normalization.batch_normalization.BatchNormalization at 0x7f5bf86a9d50>,\n",
              " <keras.layers.core.activation.Activation at 0x7f5bf86fd8d0>,\n",
              " <keras.layers.convolutional.Conv2D at 0x7f5bf86fd490>,\n",
              " <keras.layers.convolutional.Conv2D at 0x7f5bf8701650>,\n",
              " <keras.layers.normalization.batch_normalization.BatchNormalization at 0x7f5bf86f8cd0>,\n",
              " <keras.layers.normalization.batch_normalization.BatchNormalization at 0x7f5bf8756050>,\n",
              " <keras.layers.core.activation.Activation at 0x7f5bf871f4d0>,\n",
              " <keras.layers.core.activation.Activation at 0x7f5bf86f06d0>,\n",
              " <keras.layers.merge.Concatenate at 0x7f5bf86ae050>,\n",
              " <keras.layers.convolutional.Conv2D at 0x7f5bf87a6410>,\n",
              " <keras.layers.core.lambda_layer.Lambda at 0x7f5bf8780850>,\n",
              " <keras.layers.core.activation.Activation at 0x7f5bf8725090>,\n",
              " <keras.layers.convolutional.Conv2D at 0x7f5bf87af990>,\n",
              " <keras.layers.normalization.batch_normalization.BatchNormalization at 0x7f5bf87faa90>,\n",
              " <keras.layers.core.activation.Activation at 0x7f5bf88072d0>,\n",
              " <keras.layers.convolutional.Conv2D at 0x7f5bf8708f90>,\n",
              " <keras.layers.normalization.batch_normalization.BatchNormalization at 0x7f5bf86c4590>,\n",
              " <keras.layers.core.activation.Activation at 0x7f5bf86c8f50>,\n",
              " <keras.layers.convolutional.Conv2D at 0x7f5bf86fda10>,\n",
              " <keras.layers.convolutional.Conv2D at 0x7f5bf86d2410>,\n",
              " <keras.layers.normalization.batch_normalization.BatchNormalization at 0x7f5bf872b810>,\n",
              " <keras.layers.normalization.batch_normalization.BatchNormalization at 0x7f5bf86d2250>,\n",
              " <keras.layers.core.activation.Activation at 0x7f5bf87c4890>,\n",
              " <keras.layers.core.activation.Activation at 0x7f5bf86c4090>,\n",
              " <keras.layers.merge.Concatenate at 0x7f5bf86df750>,\n",
              " <keras.layers.convolutional.Conv2D at 0x7f5bf86e5e50>,\n",
              " <keras.layers.core.lambda_layer.Lambda at 0x7f5bf86e5890>,\n",
              " <keras.layers.core.activation.Activation at 0x7f5bf8678490>,\n",
              " <keras.layers.convolutional.Conv2D at 0x7f5bf8689490>,\n",
              " <keras.layers.normalization.batch_normalization.BatchNormalization at 0x7f5bf8689610>,\n",
              " <keras.layers.core.activation.Activation at 0x7f5bf8681e50>,\n",
              " <keras.layers.convolutional.Conv2D at 0x7f5bf8689990>,\n",
              " <keras.layers.normalization.batch_normalization.BatchNormalization at 0x7f5bf8696a90>,\n",
              " <keras.layers.core.activation.Activation at 0x7f5bf8696f10>,\n",
              " <keras.layers.convolutional.Conv2D at 0x7f5bf8739610>,\n",
              " <keras.layers.convolutional.Conv2D at 0x7f5bf866ad90>,\n",
              " <keras.layers.normalization.batch_normalization.BatchNormalization at 0x7f5bf86782d0>,\n",
              " <keras.layers.normalization.batch_normalization.BatchNormalization at 0x7f5bf868de10>,\n",
              " <keras.layers.core.activation.Activation at 0x7f5bf86cc950>,\n",
              " <keras.layers.core.activation.Activation at 0x7f5bf8629490>,\n",
              " <keras.layers.merge.Concatenate at 0x7f5bf8629a10>,\n",
              " <keras.layers.convolutional.Conv2D at 0x7f5bf8629cd0>,\n",
              " <keras.layers.core.lambda_layer.Lambda at 0x7f5bf86352d0>,\n",
              " <keras.layers.core.activation.Activation at 0x7f5bf86968d0>,\n",
              " <keras.layers.convolutional.Conv2D at 0x7f5bf864eed0>,\n",
              " <keras.layers.normalization.batch_normalization.BatchNormalization at 0x7f5bf8648b50>,\n",
              " <keras.layers.core.activation.Activation at 0x7f5bf8629f10>,\n",
              " <keras.layers.convolutional.Conv2D at 0x7f5bf86dbfd0>,\n",
              " <keras.layers.normalization.batch_normalization.BatchNormalization at 0x7f5bf8681210>,\n",
              " <keras.layers.core.activation.Activation at 0x7f5bf868ff90>,\n",
              " <keras.layers.convolutional.Conv2D at 0x7f5bf866fb50>,\n",
              " <keras.layers.convolutional.Conv2D at 0x7f5bf866aa90>,\n",
              " <keras.layers.normalization.batch_normalization.BatchNormalization at 0x7f5bf8639a90>,\n",
              " <keras.layers.normalization.batch_normalization.BatchNormalization at 0x7f5bf879b450>,\n",
              " <keras.layers.core.activation.Activation at 0x7f5bf864e750>,\n",
              " <keras.layers.core.activation.Activation at 0x7f5bf86c4dd0>,\n",
              " <keras.layers.merge.Concatenate at 0x7f5bf8739590>,\n",
              " <keras.layers.convolutional.Conv2D at 0x7f5bf86756d0>,\n",
              " <keras.layers.core.lambda_layer.Lambda at 0x7f5bf8751f50>,\n",
              " <keras.layers.core.activation.Activation at 0x7f5bf87259d0>,\n",
              " <keras.layers.convolutional.Conv2D at 0x7f5bf86eaa10>,\n",
              " <keras.layers.normalization.batch_normalization.BatchNormalization at 0x7f5bf8783590>,\n",
              " <keras.layers.core.activation.Activation at 0x7f5bf8660610>,\n",
              " <keras.layers.convolutional.Conv2D at 0x7f5bf85f1090>,\n",
              " <keras.layers.normalization.batch_normalization.BatchNormalization at 0x7f5bf86599d0>,\n",
              " <keras.layers.core.activation.Activation at 0x7f5bf85fb910>,\n",
              " <keras.layers.convolutional.Conv2D at 0x7f5bf86ccd90>,\n",
              " <keras.layers.convolutional.Conv2D at 0x7f5bf8605ad0>,\n",
              " <keras.layers.normalization.batch_normalization.BatchNormalization at 0x7f5bf866a490>,\n",
              " <keras.layers.normalization.batch_normalization.BatchNormalization at 0x7f5bf8605c90>,\n",
              " <keras.layers.core.activation.Activation at 0x7f5bf86df290>,\n",
              " <keras.layers.core.activation.Activation at 0x7f5bf8609e90>,\n",
              " <keras.layers.merge.Concatenate at 0x7f5bf8615150>,\n",
              " <keras.layers.convolutional.Conv2D at 0x7f5bf85ff490>,\n",
              " <keras.layers.core.lambda_layer.Lambda at 0x7f5bf8615e50>,\n",
              " <keras.layers.core.activation.Activation at 0x7f5bf85fb850>,\n",
              " <keras.layers.convolutional.Conv2D at 0x7f5bf75dcf10>,\n",
              " <keras.layers.normalization.batch_normalization.BatchNormalization at 0x7f5bf75d3750>,\n",
              " <keras.layers.core.activation.Activation at 0x7f5bf756d150>,\n",
              " <keras.layers.convolutional.Conv2D at 0x7f5bf85ff210>,\n",
              " <keras.layers.convolutional.Conv2D at 0x7f5bf75a9e90>,\n",
              " <keras.layers.convolutional.Conv2D at 0x7f5bf756d290>,\n",
              " <keras.layers.normalization.batch_normalization.BatchNormalization at 0x7f5bf85ec150>,\n",
              " <keras.layers.normalization.batch_normalization.BatchNormalization at 0x7f5bf75c1e10>,\n",
              " <keras.layers.normalization.batch_normalization.BatchNormalization at 0x7f5bf7574190>,\n",
              " <keras.layers.core.activation.Activation at 0x7f5bf75a9b50>,\n",
              " <keras.layers.core.activation.Activation at 0x7f5bf75c75d0>,\n",
              " <keras.layers.core.activation.Activation at 0x7f5bf75e34d0>,\n",
              " <keras.layers.convolutional.Conv2D at 0x7f5bf860f4d0>,\n",
              " <keras.layers.convolutional.Conv2D at 0x7f5bf75c7ad0>,\n",
              " <keras.layers.convolutional.Conv2D at 0x7f5bf861fb90>,\n",
              " <keras.layers.normalization.batch_normalization.BatchNormalization at 0x7f5bf75b81d0>,\n",
              " <keras.layers.normalization.batch_normalization.BatchNormalization at 0x7f5bf75c7590>,\n",
              " <keras.layers.normalization.batch_normalization.BatchNormalization at 0x7f5bf75b8e50>,\n",
              " <keras.layers.core.activation.Activation at 0x7f5bf75b89d0>,\n",
              " <keras.layers.core.activation.Activation at 0x7f5bf861f690>,\n",
              " <keras.layers.core.activation.Activation at 0x7f5bf75ceb50>,\n",
              " <keras.layers.pooling.MaxPooling2D at 0x7f5bf860f350>,\n",
              " <keras.layers.merge.Concatenate at 0x7f5bf865b5d0>,\n",
              " <keras.layers.convolutional.Conv2D at 0x7f5bf8660e90>,\n",
              " <keras.layers.normalization.batch_normalization.BatchNormalization at 0x7f5bf86c8ad0>,\n",
              " <keras.layers.core.activation.Activation at 0x7f5bf85ec7d0>,\n",
              " <keras.layers.convolutional.Conv2D at 0x7f5bf7580c50>,\n",
              " <keras.layers.normalization.batch_normalization.BatchNormalization at 0x7f5bf757bb50>,\n",
              " <keras.layers.core.activation.Activation at 0x7f5bf75aaf50>,\n",
              " <keras.layers.convolutional.Conv2D at 0x7f5bf8662b50>,\n",
              " <keras.layers.convolutional.Conv2D at 0x7f5bf85ec510>,\n",
              " <keras.layers.normalization.batch_normalization.BatchNormalization at 0x7f5bf75c7150>,\n",
              " <keras.layers.normalization.batch_normalization.BatchNormalization at 0x7f5bf8659710>,\n",
              " <keras.layers.core.activation.Activation at 0x7f5bf8653ad0>,\n",
              " <keras.layers.core.activation.Activation at 0x7f5bf866a890>,\n",
              " <keras.layers.merge.Concatenate at 0x7f5bf7582a50>,\n",
              " <keras.layers.convolutional.Conv2D at 0x7f5bf7593850>,\n",
              " <keras.layers.core.lambda_layer.Lambda at 0x7f5bf758a210>,\n",
              " <keras.layers.core.activation.Activation at 0x7f5bf759bc10>,\n",
              " <keras.layers.convolutional.Conv2D at 0x7f5bf7582710>,\n",
              " <keras.layers.normalization.batch_normalization.BatchNormalization at 0x7f5bf752fad0>,\n",
              " <keras.layers.core.activation.Activation at 0x7f5bf753a150>,\n",
              " <keras.layers.convolutional.Conv2D at 0x7f5bf753a510>,\n",
              " <keras.layers.normalization.batch_normalization.BatchNormalization at 0x7f5bf753afd0>,\n",
              " <keras.layers.core.activation.Activation at 0x7f5bf754a6d0>,\n",
              " <keras.layers.convolutional.Conv2D at 0x7f5bf7593d10>,\n",
              " <keras.layers.convolutional.Conv2D at 0x7f5bf752be50>,\n",
              " <keras.layers.normalization.batch_normalization.BatchNormalization at 0x7f5bf75939d0>,\n",
              " <keras.layers.normalization.batch_normalization.BatchNormalization at 0x7f5bf754a9d0>,\n",
              " <keras.layers.core.activation.Activation at 0x7f5bf752f410>,\n",
              " <keras.layers.core.activation.Activation at 0x7f5bf7555990>,\n",
              " <keras.layers.merge.Concatenate at 0x7f5bf755b090>,\n",
              " <keras.layers.convolutional.Conv2D at 0x7f5bf7564390>,\n",
              " <keras.layers.core.lambda_layer.Lambda at 0x7f5bf7557e90>,\n",
              " <keras.layers.core.activation.Activation at 0x7f5bf754a290>,\n",
              " <keras.layers.convolutional.Conv2D at 0x7f5bf74f4410>,\n",
              " <keras.layers.normalization.batch_normalization.BatchNormalization at 0x7f5bf74f4590>,\n",
              " <keras.layers.core.activation.Activation at 0x7f5bf755b990>,\n",
              " <keras.layers.convolutional.Conv2D at 0x7f5bf750ae50>,\n",
              " <keras.layers.normalization.batch_normalization.BatchNormalization at 0x7f5bf750a250>,\n",
              " <keras.layers.core.activation.Activation at 0x7f5bf74fed90>,\n",
              " <keras.layers.convolutional.Conv2D at 0x7f5bf75969d0>,\n",
              " <keras.layers.convolutional.Conv2D at 0x7f5bf7535350>,\n",
              " <keras.layers.normalization.batch_normalization.BatchNormalization at 0x7f5bf7564410>,\n",
              " <keras.layers.normalization.batch_normalization.BatchNormalization at 0x7f5bf752f550>,\n",
              " <keras.layers.core.activation.Activation at 0x7f5bf74f9ad0>,\n",
              " <keras.layers.core.activation.Activation at 0x7f5bf75a1350>,\n",
              " <keras.layers.merge.Concatenate at 0x7f5bf861b290>,\n",
              " <keras.layers.convolutional.Conv2D at 0x7f5bf753f0d0>,\n",
              " <keras.layers.core.lambda_layer.Lambda at 0x7f5bf7579910>,\n",
              " <keras.layers.core.activation.Activation at 0x7f5bf865bf10>,\n",
              " <keras.layers.convolutional.Conv2D at 0x7f5bf74ea690>,\n",
              " <keras.layers.normalization.batch_normalization.BatchNormalization at 0x7f5bf751e3d0>,\n",
              " <keras.layers.core.activation.Activation at 0x7f5bf7593490>,\n",
              " <keras.layers.convolutional.Conv2D at 0x7f5bf7519410>,\n",
              " <keras.layers.normalization.batch_normalization.BatchNormalization at 0x7f5bf7513f90>,\n",
              " <keras.layers.core.activation.Activation at 0x7f5bf74ae0d0>,\n",
              " <keras.layers.convolutional.Conv2D at 0x7f5bf7580190>,\n",
              " <keras.layers.convolutional.Conv2D at 0x7f5bf751ecd0>,\n",
              " <keras.layers.normalization.batch_normalization.BatchNormalization at 0x7f5bf861fd10>,\n",
              " <keras.layers.normalization.batch_normalization.BatchNormalization at 0x7f5bf74aee90>,\n",
              " <keras.layers.core.activation.Activation at 0x7f5bf75b4650>,\n",
              " <keras.layers.core.activation.Activation at 0x7f5bf74b3fd0>,\n",
              " <keras.layers.merge.Concatenate at 0x7f5bf74bca10>,\n",
              " <keras.layers.convolutional.Conv2D at 0x7f5bf74b7090>,\n",
              " <keras.layers.core.lambda_layer.Lambda at 0x7f5bf74bc550>,\n",
              " <keras.layers.core.activation.Activation at 0x7f5bf74d4b50>,\n",
              " <keras.layers.convolutional.Conv2D at 0x7f5bf7468090>,\n",
              " <keras.layers.normalization.batch_normalization.BatchNormalization at 0x7f5bf74c8390>,\n",
              " <keras.layers.core.activation.Activation at 0x7f5bf74dcdd0>,\n",
              " <keras.layers.convolutional.Conv2D at 0x7f5bf74c4d50>,\n",
              " <keras.layers.normalization.batch_normalization.BatchNormalization at 0x7f5bf7476990>,\n",
              " <keras.layers.core.activation.Activation at 0x7f5bf7476f10>,\n",
              " <keras.layers.convolutional.Conv2D at 0x7f5bf8659c10>,\n",
              " <keras.layers.convolutional.Conv2D at 0x7f5bf74d7f90>,\n",
              " <keras.layers.normalization.batch_normalization.BatchNormalization at 0x7f5bf74ce590>,\n",
              " <keras.layers.normalization.batch_normalization.BatchNormalization at 0x7f5bf74e2b90>,\n",
              " <keras.layers.core.activation.Activation at 0x7f5bf74d7150>,\n",
              " <keras.layers.core.activation.Activation at 0x7f5bf74883d0>,\n",
              " <keras.layers.merge.Concatenate at 0x7f5bf74886d0>,\n",
              " <keras.layers.convolutional.Conv2D at 0x7f5bf746df90>,\n",
              " <keras.layers.core.lambda_layer.Lambda at 0x7f5bf7481510>,\n",
              " <keras.layers.core.activation.Activation at 0x7f5bf7496850>,\n",
              " <keras.layers.convolutional.Conv2D at 0x7f5bf742cfd0>,\n",
              " <keras.layers.normalization.batch_normalization.BatchNormalization at 0x7f5bf742cb90>,\n",
              " <keras.layers.core.activation.Activation at 0x7f5bf747fc50>,\n",
              " <keras.layers.convolutional.Conv2D at 0x7f5bf7488d10>,\n",
              " <keras.layers.normalization.batch_normalization.BatchNormalization at 0x7f5bf74a6d10>,\n",
              " <keras.layers.core.activation.Activation at 0x7f5bf7468490>,\n",
              " <keras.layers.convolutional.Conv2D at 0x7f5bf74cea10>,\n",
              " <keras.layers.convolutional.Conv2D at 0x7f5bf7492910>,\n",
              " <keras.layers.normalization.batch_normalization.BatchNormalization at 0x7f5bf74964d0>,\n",
              " <keras.layers.normalization.batch_normalization.BatchNormalization at 0x7f5bf85f6390>,\n",
              " <keras.layers.core.activation.Activation at 0x7f5bf742c790>,\n",
              " <keras.layers.core.activation.Activation at 0x7f5bf75012d0>,\n",
              " <keras.layers.merge.Concatenate at 0x7f5bf7523d90>,\n",
              " <keras.layers.convolutional.Conv2D at 0x7f5bf75b4810>,\n",
              " <keras.layers.core.lambda_layer.Lambda at 0x7f5bf861f490>,\n",
              " <keras.layers.core.activation.Activation at 0x7f5bf74a6090>,\n",
              " <keras.layers.convolutional.Conv2D at 0x7f5bf7438250>,\n",
              " <keras.layers.normalization.batch_normalization.BatchNormalization at 0x7f5bf743d690>,\n",
              " <keras.layers.core.activation.Activation at 0x7f5bf7564c10>,\n",
              " <keras.layers.convolutional.Conv2D at 0x7f5bf744b210>,\n",
              " <keras.layers.normalization.batch_normalization.BatchNormalization at 0x7f5bf744b310>,\n",
              " <keras.layers.core.activation.Activation at 0x7f5bf7441190>,\n",
              " <keras.layers.convolutional.Conv2D at 0x7f5bf7579f50>,\n",
              " <keras.layers.convolutional.Conv2D at 0x7f5bf745a790>,\n",
              " <keras.layers.normalization.batch_normalization.BatchNormalization at 0x7f5bf7596d90>,\n",
              " <keras.layers.normalization.batch_normalization.BatchNormalization at 0x7f5bf743d750>,\n",
              " <keras.layers.core.activation.Activation at 0x7f5bf74a6f10>,\n",
              " <keras.layers.core.activation.Activation at 0x7f5bf7450250>,\n",
              " <keras.layers.merge.Concatenate at 0x7f5bf7464790>,\n",
              " <keras.layers.convolutional.Conv2D at 0x7f5bf73ee810>,\n",
              " <keras.layers.core.lambda_layer.Lambda at 0x7f5bf73e8c10>,\n",
              " <keras.layers.core.activation.Activation at 0x7f5bf7441850>,\n",
              " <keras.layers.convolutional.Conv2D at 0x7f5bf73fb9d0>,\n",
              " <keras.layers.normalization.batch_normalization.BatchNormalization at 0x7f5bf73fd310>,\n",
              " <keras.layers.core.activation.Activation at 0x7f5bf7410a90>,\n",
              " <keras.layers.convolutional.Conv2D at 0x7f5bf7415ed0>,\n",
              " <keras.layers.normalization.batch_normalization.BatchNormalization at 0x7f5bf74152d0>,\n",
              " <keras.layers.core.activation.Activation at 0x7f5bf741bd10>,\n",
              " <keras.layers.convolutional.Conv2D at 0x7f5bf7431f10>,\n",
              " <keras.layers.convolutional.Conv2D at 0x7f5bf74221d0>,\n",
              " <keras.layers.normalization.batch_normalization.BatchNormalization at 0x7f5bf73e8f90>,\n",
              " <keras.layers.normalization.batch_normalization.BatchNormalization at 0x7f5bf74222d0>,\n",
              " <keras.layers.core.activation.Activation at 0x7f5bf73fd3d0>,\n",
              " <keras.layers.core.activation.Activation at 0x7f5bf7415590>,\n",
              " <keras.layers.merge.Concatenate at 0x7f5bf73b4990>,\n",
              " <keras.layers.convolutional.Conv2D at 0x7f5bf741e050>,\n",
              " <keras.layers.core.lambda_layer.Lambda at 0x7f5bf73ba650>,\n",
              " <keras.layers.core.activation.Activation at 0x7f5bf73d3e90>,\n",
              " <keras.layers.convolutional.Conv2D at 0x7f5bf73abdd0>,\n",
              " <keras.layers.normalization.batch_normalization.BatchNormalization at 0x7f5bf7441290>,\n",
              " <keras.layers.core.activation.Activation at 0x7f5bf74159d0>,\n",
              " <keras.layers.convolutional.Conv2D at 0x7f5bf741b7d0>,\n",
              " <keras.layers.normalization.batch_normalization.BatchNormalization at 0x7f5bf74641d0>,\n",
              " <keras.layers.core.activation.Activation at 0x7f5bf7461ed0>,\n",
              " <keras.layers.convolutional.Conv2D at 0x7f5bf73d3110>,\n",
              " <keras.layers.convolutional.Conv2D at 0x7f5bf73c9c90>,\n",
              " <keras.layers.normalization.batch_normalization.BatchNormalization at 0x7f5bf73d3bd0>,\n",
              " <keras.layers.normalization.batch_normalization.BatchNormalization at 0x7f5bf73eead0>,\n",
              " <keras.layers.core.activation.Activation at 0x7f5bf73c9590>,\n",
              " <keras.layers.core.activation.Activation at 0x7f5bf8653d10>,\n",
              " <keras.layers.merge.Concatenate at 0x7f5bf74c4990>,\n",
              " <keras.layers.convolutional.Conv2D at 0x7f5bf74ca490>,\n",
              " <keras.layers.core.lambda_layer.Lambda at 0x7f5bf75963d0>,\n",
              " <keras.layers.core.activation.Activation at 0x7f5bf73c0a90>,\n",
              " <keras.layers.convolutional.Conv2D at 0x7f5bf73dfd50>,\n",
              " <keras.layers.normalization.batch_normalization.BatchNormalization at 0x7f5bf7481a90>,\n",
              " <keras.layers.core.activation.Activation at 0x7f5bf73659d0>,\n",
              " <keras.layers.convolutional.Conv2D at 0x7f5bf736e050>,\n",
              " <keras.layers.normalization.batch_normalization.BatchNormalization at 0x7f5bf73df3d0>,\n",
              " <keras.layers.core.activation.Activation at 0x7f5bf7375ed0>,\n",
              " <keras.layers.convolutional.Conv2D at 0x7f5bf73c5990>,\n",
              " <keras.layers.convolutional.Conv2D at 0x7f5bf736e510>,\n",
              " <keras.layers.normalization.batch_normalization.BatchNormalization at 0x7f5bf74810d0>,\n",
              " <keras.layers.normalization.batch_normalization.BatchNormalization at 0x7f5bf7369c90>,\n",
              " <keras.layers.core.activation.Activation at 0x7f5bf73dd8d0>,\n",
              " <keras.layers.core.activation.Activation at 0x7f5bf7388390>,\n",
              " <keras.layers.merge.Concatenate at 0x7f5bf7388750>,\n",
              " <keras.layers.convolutional.Conv2D at 0x7f5bf737d410>,\n",
              " <keras.layers.core.lambda_layer.Lambda at 0x7f5bf737fa10>,\n",
              " <keras.layers.convolutional.Conv2D at 0x7f5bf7375f50>,\n",
              " <keras.layers.normalization.batch_normalization.BatchNormalization at 0x7f5bf7395490>,\n",
              " <keras.layers.core.activation.Activation at 0x7f5bf739a610>]"
            ]
          },
          "metadata": {},
          "execution_count": 113
        }
      ]
    },
    {
      "cell_type": "code",
      "source": [
        "base_model.layers"
      ],
      "metadata": {
        "colab": {
          "base_uri": "https://localhost:8080/"
        },
        "id": "TcSNs4MkL_5w",
        "outputId": "56a47174-10d4-4219-9a28-1948885971f3"
      },
      "execution_count": null,
      "outputs": [
        {
          "output_type": "execute_result",
          "data": {
            "text/plain": [
              "[<keras.engine.input_layer.InputLayer at 0x7f5b7450dc50>,\n",
              " <keras.layers.preprocessing.image_preprocessing.Rescaling at 0x7f5b7450de50>,\n",
              " <keras.layers.preprocessing.normalization.Normalization at 0x7f5b75e36e10>,\n",
              " <keras.layers.convolutional.ZeroPadding2D at 0x7f5b75ac0ed0>,\n",
              " <keras.layers.convolutional.Conv2D at 0x7f5b74519a90>,\n",
              " <keras.layers.normalization.batch_normalization.BatchNormalization at 0x7f5b738f7d10>,\n",
              " <keras.layers.core.activation.Activation at 0x7f5b74516150>,\n",
              " <keras.layers.convolutional.DepthwiseConv2D at 0x7f5b7452c690>,\n",
              " <keras.layers.normalization.batch_normalization.BatchNormalization at 0x7f5b738923d0>,\n",
              " <keras.layers.core.activation.Activation at 0x7f5b74529e90>,\n",
              " <keras.layers.pooling.GlobalAveragePooling2D at 0x7f5b74537b10>,\n",
              " <keras.layers.core.reshape.Reshape at 0x7f5bf85a7d50>,\n",
              " <keras.layers.convolutional.Conv2D at 0x7f5bf85a7a10>,\n",
              " <keras.layers.convolutional.Conv2D at 0x7f5b74519890>,\n",
              " <keras.layers.merge.Multiply at 0x7f5bf85c9cd0>,\n",
              " <keras.layers.convolutional.Conv2D at 0x7f5b738e3950>,\n",
              " <keras.layers.normalization.batch_normalization.BatchNormalization at 0x7f5bf85adb50>,\n",
              " <keras.layers.convolutional.Conv2D at 0x7f5bf85e3d90>,\n",
              " <keras.layers.normalization.batch_normalization.BatchNormalization at 0x7f5bf85e3cd0>,\n",
              " <keras.layers.core.activation.Activation at 0x7f5bf85dd910>,\n",
              " <keras.layers.convolutional.ZeroPadding2D at 0x7f5bf85e2090>,\n",
              " <keras.layers.convolutional.DepthwiseConv2D at 0x7f5b6ce25d90>,\n",
              " <keras.layers.normalization.batch_normalization.BatchNormalization at 0x7f5bf8576810>,\n",
              " <keras.layers.core.activation.Activation at 0x7f5bf8576310>,\n",
              " <keras.layers.pooling.GlobalAveragePooling2D at 0x7f5bf8584f50>,\n",
              " <keras.layers.core.reshape.Reshape at 0x7f5bf8592b10>,\n",
              " <keras.layers.convolutional.Conv2D at 0x7f5bf858be90>,\n",
              " <keras.layers.convolutional.Conv2D at 0x7f5bf85e3790>,\n",
              " <keras.layers.merge.Multiply at 0x7f5bf8596d10>,\n",
              " <keras.layers.convolutional.Conv2D at 0x7f5bf85b4ed0>,\n",
              " <keras.layers.normalization.batch_normalization.BatchNormalization at 0x7f5bf85cf910>,\n",
              " <keras.layers.convolutional.Conv2D at 0x7f5b74510e50>,\n",
              " <keras.layers.normalization.batch_normalization.BatchNormalization at 0x7f5bf85cf810>,\n",
              " <keras.layers.core.activation.Activation at 0x7f5bf85a2e90>,\n",
              " <keras.layers.convolutional.DepthwiseConv2D at 0x7f5bf8542250>,\n",
              " <keras.layers.normalization.batch_normalization.BatchNormalization at 0x7f5bf8584d90>,\n",
              " <keras.layers.core.activation.Activation at 0x7f5bf8542150>,\n",
              " <keras.layers.pooling.GlobalAveragePooling2D at 0x7f5bf85537d0>,\n",
              " <keras.layers.core.reshape.Reshape at 0x7f5bf8584910>,\n",
              " <keras.layers.convolutional.Conv2D at 0x7f5bf854e890>,\n",
              " <keras.layers.convolutional.Conv2D at 0x7f5bf852bed0>,\n",
              " <keras.layers.merge.Multiply at 0x7f5bf85a20d0>,\n",
              " <keras.layers.convolutional.Conv2D at 0x7f5bf85e2990>,\n",
              " <keras.layers.normalization.batch_normalization.BatchNormalization at 0x7f5bf854b490>,\n",
              " <keras.layers.core.dropout.Dropout at 0x7f5bf84f2190>,\n",
              " <keras.layers.merge.Add at 0x7f5bf84f2b10>,\n",
              " <keras.layers.convolutional.Conv2D at 0x7f5bf84f75d0>,\n",
              " <keras.layers.normalization.batch_normalization.BatchNormalization at 0x7f5bf854ef50>,\n",
              " <keras.layers.core.activation.Activation at 0x7f5bf8505590>,\n",
              " <keras.layers.convolutional.ZeroPadding2D at 0x7f5bf850a210>,\n",
              " <keras.layers.convolutional.DepthwiseConv2D at 0x7f5bf8510e50>,\n",
              " <keras.layers.normalization.batch_normalization.BatchNormalization at 0x7f5bf8515e50>,\n",
              " <keras.layers.core.activation.Activation at 0x7f5bf8515990>,\n",
              " <keras.layers.pooling.GlobalAveragePooling2D at 0x7f5bf85225d0>,\n",
              " <keras.layers.core.reshape.Reshape at 0x7f5bf84a6550>,\n",
              " <keras.layers.convolutional.Conv2D at 0x7f5bf853b550>,\n",
              " <keras.layers.convolutional.Conv2D at 0x7f5bf8559f10>,\n",
              " <keras.layers.merge.Multiply at 0x7f5bf84b7b50>,\n",
              " <keras.layers.convolutional.Conv2D at 0x7f5bf84b0f90>,\n",
              " <keras.layers.normalization.batch_normalization.BatchNormalization at 0x7f5bf84b7990>,\n",
              " <keras.layers.convolutional.Conv2D at 0x7f5bf84cff90>,\n",
              " <keras.layers.normalization.batch_normalization.BatchNormalization at 0x7f5bf84c4e50>,\n",
              " <keras.layers.core.activation.Activation at 0x7f5bf84cfe90>,\n",
              " <keras.layers.convolutional.DepthwiseConv2D at 0x7f5bf8466a90>,\n",
              " <keras.layers.normalization.batch_normalization.BatchNormalization at 0x7f5bf8466b50>,\n",
              " <keras.layers.core.activation.Activation at 0x7f5bf847d250>,\n",
              " <keras.layers.pooling.GlobalAveragePooling2D at 0x7f5bf8476790>,\n",
              " <keras.layers.core.reshape.Reshape at 0x7f5bf847d110>,\n",
              " <keras.layers.convolutional.Conv2D at 0x7f5bf84cff10>,\n",
              " <keras.layers.convolutional.Conv2D at 0x7f5bf84c4f50>,\n",
              " <keras.layers.merge.Multiply at 0x7f5bf84a6090>,\n",
              " <keras.layers.convolutional.Conv2D at 0x7f5bf84b0c90>,\n",
              " <keras.layers.normalization.batch_normalization.BatchNormalization at 0x7f5bf850ae10>,\n",
              " <keras.layers.core.dropout.Dropout at 0x7f5bf85e2a10>,\n",
              " <keras.layers.merge.Add at 0x7f5bf85a2c10>,\n",
              " <keras.layers.convolutional.Conv2D at 0x7f5bf84ea8d0>,\n",
              " <keras.layers.normalization.batch_normalization.BatchNormalization at 0x7f5bf84f2c50>,\n",
              " <keras.layers.core.activation.Activation at 0x7f5bf848ab90>,\n",
              " <keras.layers.convolutional.ZeroPadding2D at 0x7f5bf848a790>,\n",
              " <keras.layers.convolutional.DepthwiseConv2D at 0x7f5bf848e090>,\n",
              " <keras.layers.normalization.batch_normalization.BatchNormalization at 0x7f5bf84998d0>,\n",
              " <keras.layers.core.activation.Activation at 0x7f5bf848e1d0>,\n",
              " <keras.layers.pooling.GlobalAveragePooling2D at 0x7f5bf84997d0>,\n",
              " <keras.layers.core.reshape.Reshape at 0x7f5bf84fa8d0>,\n",
              " <keras.layers.convolutional.Conv2D at 0x7f5bf842c150>,\n",
              " <keras.layers.convolutional.Conv2D at 0x7f5bf84eaa50>,\n",
              " <keras.layers.merge.Multiply at 0x7f5bf84a3210>,\n",
              " <keras.layers.convolutional.Conv2D at 0x7f5bf8445f50>,\n",
              " <keras.layers.normalization.batch_normalization.BatchNormalization at 0x7f5bf8427410>,\n",
              " <keras.layers.convolutional.Conv2D at 0x7f5bf844ec50>,\n",
              " <keras.layers.normalization.batch_normalization.BatchNormalization at 0x7f5bf8445ed0>,\n",
              " <keras.layers.core.activation.Activation at 0x7f5bf8449c50>,\n",
              " <keras.layers.convolutional.DepthwiseConv2D at 0x7f5bf83e9c10>,\n",
              " <keras.layers.normalization.batch_normalization.BatchNormalization at 0x7f5bf849f650>,\n",
              " <keras.layers.core.activation.Activation at 0x7f5bf83e9a90>,\n",
              " <keras.layers.pooling.GlobalAveragePooling2D at 0x7f5bf8432a10>,\n",
              " <keras.layers.core.reshape.Reshape at 0x7f5bf849f910>,\n",
              " <keras.layers.convolutional.Conv2D at 0x7f5bf83fa210>,\n",
              " <keras.layers.convolutional.Conv2D at 0x7f5bf8459dd0>,\n",
              " <keras.layers.merge.Multiply at 0x7f5bf83ed510>,\n",
              " <keras.layers.convolutional.Conv2D at 0x7f5bf842c210>,\n",
              " <keras.layers.normalization.batch_normalization.BatchNormalization at 0x7f5bf83ed190>,\n",
              " <keras.layers.core.dropout.Dropout at 0x7f5bf841f790>,\n",
              " <keras.layers.merge.Add at 0x7f5bf85e2790>,\n",
              " <keras.layers.convolutional.Conv2D at 0x7f5bf840bc90>,\n",
              " <keras.layers.normalization.batch_normalization.BatchNormalization at 0x7f5bf840b710>,\n",
              " <keras.layers.core.activation.Activation at 0x7f5bf83c1310>,\n",
              " <keras.layers.convolutional.DepthwiseConv2D at 0x7f5bf83b6d90>,\n",
              " <keras.layers.normalization.batch_normalization.BatchNormalization at 0x7f5bf83b9150>,\n",
              " <keras.layers.core.activation.Activation at 0x7f5bf83b99d0>,\n",
              " <keras.layers.pooling.GlobalAveragePooling2D at 0x7f5bf845f550>,\n",
              " <keras.layers.core.reshape.Reshape at 0x7f5bf8445c50>,\n",
              " <keras.layers.convolutional.Conv2D at 0x7f5bf8417a50>,\n",
              " <keras.layers.convolutional.Conv2D at 0x7f5bf8424090>,\n",
              " <keras.layers.merge.Multiply at 0x7f5bf85dd290>,\n",
              " <keras.layers.convolutional.Conv2D at 0x7f5bf8526d50>,\n",
              " <keras.layers.normalization.batch_normalization.BatchNormalization at 0x7f5bf85ba050>,\n",
              " <keras.layers.core.dropout.Dropout at 0x7f5bf83d88d0>,\n",
              " <keras.layers.merge.Add at 0x7f5bf83cdb10>,\n",
              " <keras.layers.convolutional.Conv2D at 0x7f5bf83b9a50>,\n",
              " <keras.layers.normalization.batch_normalization.BatchNormalization at 0x7f5bf83d57d0>,\n",
              " <keras.layers.core.activation.Activation at 0x7f5bf836bfd0>,\n",
              " <keras.layers.convolutional.DepthwiseConv2D at 0x7f5bf836bbd0>,\n",
              " <keras.layers.normalization.batch_normalization.BatchNormalization at 0x7f5bf837af10>,\n",
              " <keras.layers.core.activation.Activation at 0x7f5bf83e2c90>,\n",
              " <keras.layers.pooling.GlobalAveragePooling2D at 0x7f5bf837ac50>,\n",
              " <keras.layers.core.reshape.Reshape at 0x7f5bf83e4610>,\n",
              " <keras.layers.convolutional.Conv2D at 0x7f5bf8453210>,\n",
              " <keras.layers.convolutional.Conv2D at 0x7f5bf83cd890>,\n",
              " <keras.layers.merge.Multiply at 0x7f5bf838af90>,\n",
              " <keras.layers.convolutional.Conv2D at 0x7f5bf83a2c90>,\n",
              " <keras.layers.normalization.batch_normalization.BatchNormalization at 0x7f5bf838ded0>,\n",
              " <keras.layers.convolutional.Conv2D at 0x7f5bf8326310>,\n",
              " <keras.layers.normalization.batch_normalization.BatchNormalization at 0x7f5bf8340790>,\n",
              " <keras.layers.core.activation.Activation at 0x7f5bf83402d0>,\n",
              " <keras.layers.convolutional.DepthwiseConv2D at 0x7f5bf833bb10>,\n",
              " <keras.layers.normalization.batch_normalization.BatchNormalization at 0x7f5bf83e4590>,\n",
              " <keras.layers.core.activation.Activation at 0x7f5bf8336090>,\n",
              " <keras.layers.pooling.GlobalAveragePooling2D at 0x7f5bf8352b50>,\n",
              " <keras.layers.core.reshape.Reshape at 0x7f5bf8348910>,\n",
              " <keras.layers.convolutional.Conv2D at 0x7f5bf83e2590>,\n",
              " <keras.layers.convolutional.Conv2D at 0x7f5bf8336790>,\n",
              " <keras.layers.merge.Multiply at 0x7f5bf8365790>,\n",
              " <keras.layers.convolutional.Conv2D at 0x7f5bf82f5050>,\n",
              " <keras.layers.normalization.batch_normalization.BatchNormalization at 0x7f5bf82eb950>,\n",
              " <keras.layers.core.dropout.Dropout at 0x7f5bf82f5fd0>,\n",
              " <keras.layers.merge.Add at 0x7f5bf831b1d0>,\n",
              " <keras.layers.convolutional.Conv2D at 0x7f5bf831bb50>,\n",
              " <keras.layers.normalization.batch_normalization.BatchNormalization at 0x7f5bf82fcd10>,\n",
              " <keras.layers.core.activation.Activation at 0x7f5bf835ec90>,\n",
              " <keras.layers.convolutional.DepthwiseConv2D at 0x7f5bf8326950>,\n",
              " <keras.layers.normalization.batch_normalization.BatchNormalization at 0x7f5bf8365210>,\n",
              " <keras.layers.core.activation.Activation at 0x7f5bf833ba10>,\n",
              " <keras.layers.pooling.GlobalAveragePooling2D at 0x7f5bf8359050>,\n",
              " <keras.layers.core.reshape.Reshape at 0x7f5bf83d0110>,\n",
              " <keras.layers.convolutional.Conv2D at 0x7f5bf82fc590>,\n",
              " <keras.layers.convolutional.Conv2D at 0x7f5bf831be50>,\n",
              " <keras.layers.merge.Multiply at 0x7f5bf832b290>,\n",
              " <keras.layers.convolutional.Conv2D at 0x7f5bf82ebf10>,\n",
              " <keras.layers.normalization.batch_normalization.BatchNormalization at 0x7f5bf83e2750>,\n",
              " <keras.layers.core.dropout.Dropout at 0x7f5bf82abc90>,\n",
              " <keras.layers.merge.Add at 0x7f5bf8306ed0>,\n",
              " <keras.layers.convolutional.Conv2D at 0x7f5bf82b6110>,\n",
              " <keras.layers.normalization.batch_normalization.BatchNormalization at 0x7f5bf8427b10>,\n",
              " <keras.layers.core.activation.Activation at 0x7f5bf82c80d0>,\n",
              " <keras.layers.convolutional.ZeroPadding2D at 0x7f5bf8317d10>,\n",
              " <keras.layers.convolutional.DepthwiseConv2D at 0x7f5bf82c8b10>,\n",
              " <keras.layers.normalization.batch_normalization.BatchNormalization at 0x7f5bf82c1650>,\n",
              " <keras.layers.core.activation.Activation at 0x7f5bf82c1710>,\n",
              " <keras.layers.pooling.GlobalAveragePooling2D at 0x7f5bf82d95d0>,\n",
              " <keras.layers.core.reshape.Reshape at 0x7f5bf82dced0>,\n",
              " <keras.layers.convolutional.Conv2D at 0x7f5bf82dcb90>,\n",
              " <keras.layers.convolutional.Conv2D at 0x7f5bf84272d0>,\n",
              " <keras.layers.merge.Multiply at 0x7f5bf8274650>,\n",
              " <keras.layers.convolutional.Conv2D at 0x7f5bf83e20d0>,\n",
              " <keras.layers.normalization.batch_normalization.BatchNormalization at 0x7f5bf8274350>,\n",
              " <keras.layers.convolutional.Conv2D at 0x7f5bf827dd10>,\n",
              " <keras.layers.normalization.batch_normalization.BatchNormalization at 0x7f5bf827df10>,\n",
              " <keras.layers.core.activation.Activation at 0x7f5bf82a2890>,\n",
              " <keras.layers.convolutional.DepthwiseConv2D at 0x7f5bf82a2190>,\n",
              " <keras.layers.normalization.batch_normalization.BatchNormalization at 0x7f5bf8238850>,\n",
              " <keras.layers.core.activation.Activation at 0x7f5bf8226390>,\n",
              " <keras.layers.pooling.GlobalAveragePooling2D at 0x7f5bf82301d0>,\n",
              " <keras.layers.core.reshape.Reshape at 0x7f5bf8226450>,\n",
              " <keras.layers.convolutional.Conv2D at 0x7f5bf82dcd50>,\n",
              " <keras.layers.convolutional.Conv2D at 0x7f5bf829e1d0>,\n",
              " <keras.layers.merge.Multiply at 0x7f5bf824e410>,\n",
              " <keras.layers.convolutional.Conv2D at 0x7f5bf825ef50>,\n",
              " <keras.layers.normalization.batch_normalization.BatchNormalization at 0x7f5bf8254610>,\n",
              " <keras.layers.core.dropout.Dropout at 0x7f5bf8246610>,\n",
              " <keras.layers.merge.Add at 0x7f5bf8298b10>,\n",
              " <keras.layers.convolutional.Conv2D at 0x7f5bf8298a90>,\n",
              " <keras.layers.normalization.batch_normalization.BatchNormalization at 0x7f5bf825ea50>,\n",
              " <keras.layers.core.activation.Activation at 0x7f5bf8238890>,\n",
              " <keras.layers.convolutional.DepthwiseConv2D at 0x7f5bf8246090>,\n",
              " <keras.layers.normalization.batch_normalization.BatchNormalization at 0x7f5bf8427510>,\n",
              " <keras.layers.core.activation.Activation at 0x7f5bf82c4b10>,\n",
              " <keras.layers.pooling.GlobalAveragePooling2D at 0x7f5bf82c4f90>,\n",
              " <keras.layers.core.reshape.Reshape at 0x7f5bf8266450>,\n",
              " <keras.layers.convolutional.Conv2D at 0x7f5bf81f3890>,\n",
              " <keras.layers.convolutional.Conv2D at 0x7f5bf8289250>,\n",
              " <keras.layers.merge.Multiply at 0x7f5bf81e9cd0>,\n",
              " <keras.layers.convolutional.Conv2D at 0x7f5bf81f6450>,\n",
              " <keras.layers.normalization.batch_normalization.BatchNormalization at 0x7f5bf81ef610>,\n",
              " <keras.layers.core.dropout.Dropout at 0x7f5bf8211610>,\n",
              " <keras.layers.merge.Add at 0x7f5bf8203f50>,\n",
              " <keras.layers.convolutional.Conv2D at 0x7f5bf8218a10>,\n",
              " <keras.layers.normalization.batch_normalization.BatchNormalization at 0x7f5bf81fe290>,\n",
              " <keras.layers.core.activation.Activation at 0x7f5bf81af550>,\n",
              " <keras.layers.convolutional.DepthwiseConv2D at 0x7f5bf850c7d0>,\n",
              " <keras.layers.normalization.batch_normalization.BatchNormalization at 0x7f5bf81afd90>,\n",
              " <keras.layers.core.activation.Activation at 0x7f5bf850ca90>,\n",
              " <keras.layers.pooling.GlobalAveragePooling2D at 0x7f5bf81bab90>,\n",
              " <keras.layers.core.reshape.Reshape at 0x7f5bf81c3750>,\n",
              " <keras.layers.convolutional.Conv2D at 0x7f5bf823e950>,\n",
              " <keras.layers.convolutional.Conv2D at 0x7f5bf81f6690>,\n",
              " <keras.layers.merge.Multiply at 0x7f5bf81dd3d0>,\n",
              " <keras.layers.convolutional.Conv2D at 0x7f5bf81ddf10>,\n",
              " <keras.layers.normalization.batch_normalization.BatchNormalization at 0x7f5bf81d7310>,\n",
              " <keras.layers.core.dropout.Dropout at 0x7f5bf8176810>,\n",
              " <keras.layers.merge.Add at 0x7f5bf8211ed0>,\n",
              " <keras.layers.convolutional.Conv2D at 0x7f5bf816af50>,\n",
              " <keras.layers.normalization.batch_normalization.BatchNormalization at 0x7f5bf81897d0>,\n",
              " <keras.layers.core.activation.Activation at 0x7f5bf8189c50>,\n",
              " <keras.layers.convolutional.DepthwiseConv2D at 0x7f5bf817f150>,\n",
              " <keras.layers.normalization.batch_normalization.BatchNormalization at 0x7f5bf81c3850>,\n",
              " <keras.layers.core.activation.Activation at 0x7f5bf818ea10>,\n",
              " <keras.layers.pooling.GlobalAveragePooling2D at 0x7f5bf819d690>,\n",
              " <keras.layers.core.reshape.Reshape at 0x7f5bf81837d0>,\n",
              " <keras.layers.convolutional.Conv2D at 0x7f5bf81e2c50>,\n",
              " <keras.layers.convolutional.Conv2D at 0x7f5bf8167c90>,\n",
              " <keras.layers.merge.Multiply at 0x7f5bf81cd410>,\n",
              " <keras.layers.convolutional.Conv2D at 0x7f5bf81d7510>,\n",
              " <keras.layers.normalization.batch_normalization.BatchNormalization at 0x7f5bf812c4d0>,\n",
              " <keras.layers.convolutional.Conv2D at 0x7f5b74524b10>,\n",
              " <keras.layers.normalization.batch_normalization.BatchNormalization at 0x7f5bf81f6110>,\n",
              " <keras.layers.core.activation.Activation at 0x7f5bf826e750>]"
            ]
          },
          "metadata": {},
          "execution_count": 114
        }
      ]
    },
    {
      "cell_type": "code",
      "source": [
        "base_model_2.layers"
      ],
      "metadata": {
        "colab": {
          "base_uri": "https://localhost:8080/"
        },
        "id": "lR0WZ58zMFAG",
        "outputId": "41690d15-39ed-412d-830f-622e827f5949"
      },
      "execution_count": null,
      "outputs": [
        {
          "output_type": "execute_result",
          "data": {
            "text/plain": [
              "[<keras.engine.input_layer.InputLayer at 0x7f5bfc2a8490>,\n",
              " <keras.layers.convolutional.ZeroPadding2D at 0x7f5bf62a2190>,\n",
              " <keras.layers.convolutional.Conv2D at 0x7f5bf94d04d0>,\n",
              " <keras.layers.normalization.batch_normalization.BatchNormalization at 0x7f5bf62a2ed0>,\n",
              " <keras.layers.core.activation.Activation at 0x7f5bff905910>,\n",
              " <keras.layers.convolutional.ZeroPadding2D at 0x7f5bf962f4d0>,\n",
              " <keras.layers.pooling.MaxPooling2D at 0x7f5bf962f0d0>,\n",
              " <keras.layers.convolutional.Conv2D at 0x7f5bf964f8d0>,\n",
              " <keras.layers.normalization.batch_normalization.BatchNormalization at 0x7f5bf6568a50>,\n",
              " <keras.layers.core.activation.Activation at 0x7f5bf62df290>,\n",
              " <keras.layers.convolutional.Conv2D at 0x7f5bf6568810>,\n",
              " <keras.layers.normalization.batch_normalization.BatchNormalization at 0x7f5bf65a0e50>,\n",
              " <keras.layers.core.activation.Activation at 0x7f5bf625f390>,\n",
              " <keras.layers.convolutional.Conv2D at 0x7f5bf966d3d0>,\n",
              " <keras.layers.convolutional.Conv2D at 0x7f5bf62594d0>,\n",
              " <keras.layers.normalization.batch_normalization.BatchNormalization at 0x7f5b75b62c10>,\n",
              " <keras.layers.normalization.batch_normalization.BatchNormalization at 0x7f5bf625ffd0>,\n",
              " <keras.layers.merge.Add at 0x7f5b75b048d0>,\n",
              " <keras.layers.core.activation.Activation at 0x7f5bf6234910>,\n",
              " <keras.layers.convolutional.Conv2D at 0x7f5bf6563bd0>,\n",
              " <keras.layers.normalization.batch_normalization.BatchNormalization at 0x7f5b75b28250>,\n",
              " <keras.layers.core.activation.Activation at 0x7f5b75b32810>,\n",
              " <keras.layers.convolutional.Conv2D at 0x7f5b75b32f10>,\n",
              " <keras.layers.normalization.batch_normalization.BatchNormalization at 0x7f5b75e13390>,\n",
              " <keras.layers.core.activation.Activation at 0x7f5b75e2a150>,\n",
              " <keras.layers.convolutional.Conv2D at 0x7f5b75b3be50>,\n",
              " <keras.layers.normalization.batch_normalization.BatchNormalization at 0x7f5b75e2a2d0>,\n",
              " <keras.layers.merge.Add at 0x7f5b75e26e90>,\n",
              " <keras.layers.core.activation.Activation at 0x7f5b75e33f10>,\n",
              " <keras.layers.convolutional.Conv2D at 0x7f5b75e19dd0>,\n",
              " <keras.layers.normalization.batch_normalization.BatchNormalization at 0x7f5b75e19190>,\n",
              " <keras.layers.core.activation.Activation at 0x7f5bf949e310>,\n",
              " <keras.layers.convolutional.Conv2D at 0x7f5bf949e710>,\n",
              " <keras.layers.normalization.batch_normalization.BatchNormalization at 0x7f5bf9488610>,\n",
              " <keras.layers.core.activation.Activation at 0x7f5bf94ad510>,\n",
              " <keras.layers.convolutional.Conv2D at 0x7f5bf9498750>,\n",
              " <keras.layers.normalization.batch_normalization.BatchNormalization at 0x7f5bf94ad4d0>,\n",
              " <keras.layers.merge.Add at 0x7f5bf9801190>,\n",
              " <keras.layers.core.activation.Activation at 0x7f5bf9801dd0>,\n",
              " <keras.layers.convolutional.Conv2D at 0x7f5bf97fe690>,\n",
              " <keras.layers.normalization.batch_normalization.BatchNormalization at 0x7f5bf97fe3d0>,\n",
              " <keras.layers.core.activation.Activation at 0x7f5bf980e290>,\n",
              " <keras.layers.convolutional.Conv2D at 0x7f5b75e70210>,\n",
              " <keras.layers.normalization.batch_normalization.BatchNormalization at 0x7f5b75e70610>,\n",
              " <keras.layers.core.activation.Activation at 0x7f5bf980ed50>,\n",
              " <keras.layers.convolutional.Conv2D at 0x7f5bf9809590>,\n",
              " <keras.layers.convolutional.Conv2D at 0x7f5b75e70f50>,\n",
              " <keras.layers.normalization.batch_normalization.BatchNormalization at 0x7f5bf9801ed0>,\n",
              " <keras.layers.normalization.batch_normalization.BatchNormalization at 0x7f5bf9486ed0>,\n",
              " <keras.layers.merge.Add at 0x7f5bf94a2990>,\n",
              " <keras.layers.core.activation.Activation at 0x7f5bf97fe150>,\n",
              " <keras.layers.convolutional.Conv2D at 0x7f5bf9498550>,\n",
              " <keras.layers.normalization.batch_normalization.BatchNormalization at 0x7f5b75e33250>,\n",
              " <keras.layers.core.activation.Activation at 0x7f5bf62a29d0>,\n",
              " <keras.layers.convolutional.Conv2D at 0x7f5b75e18e10>,\n",
              " <keras.layers.normalization.batch_normalization.BatchNormalization at 0x7f5bf9802990>,\n",
              " <keras.layers.core.activation.Activation at 0x7f5bf98029d0>,\n",
              " <keras.layers.convolutional.Conv2D at 0x7f5bf98028d0>,\n",
              " <keras.layers.normalization.batch_normalization.BatchNormalization at 0x7f5bf62df390>,\n",
              " <keras.layers.merge.Add at 0x7f5bfc435550>,\n",
              " <keras.layers.core.activation.Activation at 0x7f5bf9802950>,\n",
              " <keras.layers.convolutional.Conv2D at 0x7f5b75e630d0>,\n",
              " <keras.layers.normalization.batch_normalization.BatchNormalization at 0x7f5b75b2ad10>,\n",
              " <keras.layers.core.activation.Activation at 0x7f5b75e6de50>,\n",
              " <keras.layers.convolutional.Conv2D at 0x7f5b75e44ad0>,\n",
              " <keras.layers.normalization.batch_normalization.BatchNormalization at 0x7f5b75e50b90>,\n",
              " <keras.layers.core.activation.Activation at 0x7f5b75e59cd0>,\n",
              " <keras.layers.convolutional.Conv2D at 0x7f5b75e59610>,\n",
              " <keras.layers.normalization.batch_normalization.BatchNormalization at 0x7f5b75e56450>,\n",
              " <keras.layers.merge.Add at 0x7f5b75e57b90>,\n",
              " <keras.layers.core.activation.Activation at 0x7f5bf90c6910>,\n",
              " <keras.layers.convolutional.Conv2D at 0x7f5b75e40c90>,\n",
              " <keras.layers.normalization.batch_normalization.BatchNormalization at 0x7f5b75e56c10>,\n",
              " <keras.layers.core.activation.Activation at 0x7f5bf90cd2d0>,\n",
              " <keras.layers.convolutional.Conv2D at 0x7f5bf90cd210>,\n",
              " <keras.layers.normalization.batch_normalization.BatchNormalization at 0x7f5bf90c1950>,\n",
              " <keras.layers.core.activation.Activation at 0x7f5bf90e9dd0>,\n",
              " <keras.layers.convolutional.Conv2D at 0x7f5bf90e9cd0>,\n",
              " <keras.layers.normalization.batch_normalization.BatchNormalization at 0x7f5bf90c6c50>,\n",
              " <keras.layers.merge.Add at 0x7f5b75f4bb90>,\n",
              " <keras.layers.core.activation.Activation at 0x7f5b75f41150>,\n",
              " <keras.layers.convolutional.Conv2D at 0x7f5b75f68ad0>,\n",
              " <keras.layers.normalization.batch_normalization.BatchNormalization at 0x7f5b75f5bfd0>,\n",
              " <keras.layers.core.activation.Activation at 0x7f5b6d5891d0>,\n",
              " <keras.layers.convolutional.Conv2D at 0x7f5b75f41710>,\n",
              " <keras.layers.normalization.batch_normalization.BatchNormalization at 0x7f5b75f4e650>,\n",
              " <keras.layers.core.activation.Activation at 0x7f5b75f529d0>,\n",
              " <keras.layers.convolutional.Conv2D at 0x7f5b75f4b950>,\n",
              " <keras.layers.convolutional.Conv2D at 0x7f5bf90d6d90>,\n",
              " <keras.layers.normalization.batch_normalization.BatchNormalization at 0x7f5bf90c1ad0>,\n",
              " <keras.layers.normalization.batch_normalization.BatchNormalization at 0x7f5b75f49850>,\n",
              " <keras.layers.merge.Add at 0x7f5bf6567490>,\n",
              " <keras.layers.core.activation.Activation at 0x7f5bf90d6610>,\n",
              " <keras.layers.convolutional.Conv2D at 0x7f5b75f49810>,\n",
              " <keras.layers.normalization.batch_normalization.BatchNormalization at 0x7f5b75e6dd10>,\n",
              " <keras.layers.core.activation.Activation at 0x7f5bf980b810>,\n",
              " <keras.layers.convolutional.Conv2D at 0x7f5bfc270190>,\n",
              " <keras.layers.normalization.batch_normalization.BatchNormalization at 0x7f5bf98097d0>,\n",
              " <keras.layers.core.activation.Activation at 0x7f5b6d58ee50>,\n",
              " <keras.layers.convolutional.Conv2D at 0x7f5bf90e0e10>,\n",
              " <keras.layers.normalization.batch_normalization.BatchNormalization at 0x7f5b6d58ed50>,\n",
              " <keras.layers.merge.Add at 0x7f5b6d59f190>,\n",
              " <keras.layers.core.activation.Activation at 0x7f5b6d5a5c50>,\n",
              " <keras.layers.convolutional.Conv2D at 0x7f5b6d59ff50>,\n",
              " <keras.layers.normalization.batch_normalization.BatchNormalization at 0x7f5b6d5a5490>,\n",
              " <keras.layers.core.activation.Activation at 0x7f5bf65aa8d0>,\n",
              " <keras.layers.convolutional.Conv2D at 0x7f5bf65c3910>,\n",
              " <keras.layers.normalization.batch_normalization.BatchNormalization at 0x7f5bf65aa890>,\n",
              " <keras.layers.core.activation.Activation at 0x7f5bf65c7110>,\n",
              " <keras.layers.convolutional.Conv2D at 0x7f5bf65c7ed0>,\n",
              " <keras.layers.normalization.batch_normalization.BatchNormalization at 0x7f5bf65b5b10>,\n",
              " <keras.layers.merge.Add at 0x7f5bf65c8210>,\n",
              " <keras.layers.core.activation.Activation at 0x7f5bf65cfd10>,\n",
              " <keras.layers.convolutional.Conv2D at 0x7f5bf65c8190>,\n",
              " <keras.layers.normalization.batch_normalization.BatchNormalization at 0x7f5bf65ca450>,\n",
              " <keras.layers.core.activation.Activation at 0x7f5bf9876a50>,\n",
              " <keras.layers.convolutional.Conv2D at 0x7f5bf9876bd0>,\n",
              " <keras.layers.normalization.batch_normalization.BatchNormalization at 0x7f5bf9876a90>,\n",
              " <keras.layers.core.activation.Activation at 0x7f5bf9892390>,\n",
              " <keras.layers.convolutional.Conv2D at 0x7f5bf9883c90>,\n",
              " <keras.layers.normalization.batch_normalization.BatchNormalization at 0x7f5bf989ee50>,\n",
              " <keras.layers.merge.Add at 0x7f5bf9877450>,\n",
              " <keras.layers.core.activation.Activation at 0x7f5bf989edd0>,\n",
              " <keras.layers.convolutional.Conv2D at 0x7f5bf9880fd0>,\n",
              " <keras.layers.normalization.batch_normalization.BatchNormalization at 0x7f5bf989d7d0>,\n",
              " <keras.layers.core.activation.Activation at 0x7f5b75f16a10>,\n",
              " <keras.layers.convolutional.Conv2D at 0x7f5b75f16d50>,\n",
              " <keras.layers.normalization.batch_normalization.BatchNormalization at 0x7f5b75f16cd0>,\n",
              " <keras.layers.core.activation.Activation at 0x7f5bf989e690>,\n",
              " <keras.layers.convolutional.Conv2D at 0x7f5bf9880150>,\n",
              " <keras.layers.normalization.batch_normalization.BatchNormalization at 0x7f5bf9875050>,\n",
              " <keras.layers.merge.Add at 0x7f5bf65b5150>,\n",
              " <keras.layers.core.activation.Activation at 0x7f5bf65c8150>,\n",
              " <keras.layers.convolutional.Conv2D at 0x7f5b6d5943d0>,\n",
              " <keras.layers.normalization.batch_normalization.BatchNormalization at 0x7f5bf65c34d0>,\n",
              " <keras.layers.core.activation.Activation at 0x7f5b75e21dd0>,\n",
              " <keras.layers.convolutional.Conv2D at 0x7f5b75e66790>,\n",
              " <keras.layers.normalization.batch_normalization.BatchNormalization at 0x7f5b75e13c90>,\n",
              " <keras.layers.core.activation.Activation at 0x7f5b75e50d90>,\n",
              " <keras.layers.convolutional.Conv2D at 0x7f5bf659de50>,\n",
              " <keras.layers.normalization.batch_normalization.BatchNormalization at 0x7f5bf90cea10>,\n",
              " <keras.layers.merge.Add at 0x7f5b75f22710>,\n",
              " <keras.layers.core.activation.Activation at 0x7f5b75f52690>,\n",
              " <keras.layers.convolutional.Conv2D at 0x7f5b75f225d0>,\n",
              " <keras.layers.normalization.batch_normalization.BatchNormalization at 0x7f5b75f2fa90>,\n",
              " <keras.layers.core.activation.Activation at 0x7f5b75f13350>,\n",
              " <keras.layers.convolutional.Conv2D at 0x7f5bf65c88d0>,\n",
              " <keras.layers.normalization.batch_normalization.BatchNormalization at 0x7f5b75f13f90>,\n",
              " <keras.layers.core.activation.Activation at 0x7f5b75f017d0>,\n",
              " <keras.layers.convolutional.Conv2D at 0x7f5b75f01150>,\n",
              " <keras.layers.normalization.batch_normalization.BatchNormalization at 0x7f5bf902efd0>,\n",
              " <keras.layers.merge.Add at 0x7f5bf903e150>,\n",
              " <keras.layers.core.activation.Activation at 0x7f5bf904abd0>,\n",
              " <keras.layers.convolutional.Conv2D at 0x7f5bf9044110>,\n",
              " <keras.layers.normalization.batch_normalization.BatchNormalization at 0x7f5bf904a650>,\n",
              " <keras.layers.core.activation.Activation at 0x7f5bf90671d0>,\n",
              " <keras.layers.convolutional.Conv2D at 0x7f5bf9038c50>,\n",
              " <keras.layers.normalization.batch_normalization.BatchNormalization at 0x7f5bf906c4d0>,\n",
              " <keras.layers.core.activation.Activation at 0x7f5bf903bad0>,\n",
              " <keras.layers.convolutional.Conv2D at 0x7f5bf903b410>,\n",
              " <keras.layers.normalization.batch_normalization.BatchNormalization at 0x7f5bf9047390>,\n",
              " <keras.layers.merge.Add at 0x7f5bf908f110>,\n",
              " <keras.layers.core.activation.Activation at 0x7f5bf904afd0>,\n",
              " <keras.layers.convolutional.Conv2D at 0x7f5bf9079550>,\n",
              " <keras.layers.normalization.batch_normalization.BatchNormalization at 0x7f5bf9083dd0>,\n",
              " <keras.layers.core.activation.Activation at 0x7f5bf90a3550>,\n",
              " <keras.layers.convolutional.Conv2D at 0x7f5bf90a35d0>,\n",
              " <keras.layers.normalization.batch_normalization.BatchNormalization at 0x7f5bf9099190>,\n",
              " <keras.layers.core.activation.Activation at 0x7f5bf90588d0>,\n",
              " <keras.layers.convolutional.Conv2D at 0x7f5bf906c310>,\n",
              " <keras.layers.normalization.batch_normalization.BatchNormalization at 0x7f5bf9061750>,\n",
              " <keras.layers.merge.Add at 0x7f5b75f01950>,\n",
              " <keras.layers.core.activation.Activation at 0x7f5bf903bf90>,\n",
              " <keras.layers.convolutional.Conv2D at 0x7f5b75f19ad0>,\n",
              " <keras.layers.normalization.batch_normalization.BatchNormalization at 0x7f5bf9063890>,\n",
              " <keras.layers.core.activation.Activation at 0x7f5b75f5b0d0>,\n",
              " <keras.layers.convolutional.Conv2D at 0x7f5b75e56510>,\n",
              " <keras.layers.normalization.batch_normalization.BatchNormalization at 0x7f5b75f68650>,\n",
              " <keras.layers.core.activation.Activation at 0x7f5b6d5ab9d0>,\n",
              " <keras.layers.convolutional.Conv2D at 0x7f5bf987c250>,\n",
              " <keras.layers.normalization.batch_normalization.BatchNormalization at 0x7f5bf9883f90>,\n",
              " <keras.layers.merge.Add at 0x7f5bf9088350>,\n",
              " <keras.layers.core.activation.Activation at 0x7f5bf9077f90>,\n",
              " <keras.layers.convolutional.Conv2D at 0x7f5bf90a7f10>,\n",
              " <keras.layers.normalization.batch_normalization.BatchNormalization at 0x7f5bf9077e10>,\n",
              " <keras.layers.core.activation.Activation at 0x7f5bf61f9810>,\n",
              " <keras.layers.convolutional.Conv2D at 0x7f5b75b0f750>,\n",
              " <keras.layers.normalization.batch_normalization.BatchNormalization at 0x7f5bf61f9850>,\n",
              " <keras.layers.core.activation.Activation at 0x7f5bf6209050>,\n",
              " <keras.layers.convolutional.Conv2D at 0x7f5bf6209350>,\n",
              " <keras.layers.normalization.batch_normalization.BatchNormalization at 0x7f5bf6213710>,\n",
              " <keras.layers.merge.Add at 0x7f5bf621c110>,\n",
              " <keras.layers.core.activation.Activation at 0x7f5bf9088e90>,\n",
              " <keras.layers.convolutional.Conv2D at 0x7f5bf621c090>,\n",
              " <keras.layers.normalization.batch_normalization.BatchNormalization at 0x7f5bf621b310>,\n",
              " <keras.layers.core.activation.Activation at 0x7f5bf9843710>,\n",
              " <keras.layers.convolutional.Conv2D at 0x7f5bf9843ad0>,\n",
              " <keras.layers.normalization.batch_normalization.BatchNormalization at 0x7f5bf9843910>,\n",
              " <keras.layers.core.activation.Activation at 0x7f5bf98622d0>,\n",
              " <keras.layers.convolutional.Conv2D at 0x7f5bf983d450>,\n",
              " <keras.layers.normalization.batch_normalization.BatchNormalization at 0x7f5bf9842b90>,\n",
              " <keras.layers.merge.Add at 0x7f5bf985d390>,\n",
              " <keras.layers.core.activation.Activation at 0x7f5bf985f610>,\n",
              " <keras.layers.convolutional.Conv2D at 0x7f5bf985d410>,\n",
              " <keras.layers.normalization.batch_normalization.BatchNormalization at 0x7f5bf985fa90>,\n",
              " <keras.layers.core.activation.Activation at 0x7f5bf9116a50>,\n",
              " <keras.layers.convolutional.Conv2D at 0x7f5bf9116e90>,\n",
              " <keras.layers.normalization.batch_normalization.BatchNormalization at 0x7f5bf9116d10>,\n",
              " <keras.layers.core.activation.Activation at 0x7f5bf9862ad0>,\n",
              " <keras.layers.convolutional.Conv2D at 0x7f5bf98510d0>,\n",
              " <keras.layers.normalization.batch_normalization.BatchNormalization at 0x7f5bf621da50>,\n",
              " <keras.layers.merge.Add at 0x7f5bf9843810>,\n",
              " <keras.layers.core.activation.Activation at 0x7f5bf985ddd0>,\n",
              " <keras.layers.convolutional.Conv2D at 0x7f5bf9077650>,\n",
              " <keras.layers.normalization.batch_normalization.BatchNormalization at 0x7f5bf9077550>,\n",
              " <keras.layers.core.activation.Activation at 0x7f5bf65db5d0>,\n",
              " <keras.layers.convolutional.Conv2D at 0x7f5bf9880490>,\n",
              " <keras.layers.normalization.batch_normalization.BatchNormalization at 0x7f5b75f22210>,\n",
              " <keras.layers.core.activation.Activation at 0x7f5b75f2f9d0>,\n",
              " <keras.layers.convolutional.Conv2D at 0x7f5b75f19c50>,\n",
              " <keras.layers.normalization.batch_normalization.BatchNormalization at 0x7f5bf90617d0>,\n",
              " <keras.layers.merge.Add at 0x7f5bf90f4750>,\n",
              " <keras.layers.core.activation.Activation at 0x7f5bf90f9890>,\n",
              " <keras.layers.convolutional.Conv2D at 0x7f5bf9075390>,\n",
              " <keras.layers.normalization.batch_normalization.BatchNormalization at 0x7f5bf90f9ad0>,\n",
              " <keras.layers.core.activation.Activation at 0x7f5bf91150d0>,\n",
              " <keras.layers.convolutional.Conv2D at 0x7f5bf91153d0>,\n",
              " <keras.layers.normalization.batch_normalization.BatchNormalization at 0x7f5bf9115fd0>,\n",
              " <keras.layers.core.activation.Activation at 0x7f5bf9127810>,\n",
              " <keras.layers.convolutional.Conv2D at 0x7f5bf9127150>,\n",
              " <keras.layers.normalization.batch_normalization.BatchNormalization at 0x7f5bf90fb1d0>,\n",
              " <keras.layers.merge.Add at 0x7f5bf62df990>,\n",
              " <keras.layers.core.activation.Activation at 0x7f5b75e8a5d0>,\n",
              " <keras.layers.convolutional.Conv2D at 0x7f5b75e99d10>,\n",
              " <keras.layers.normalization.batch_normalization.BatchNormalization at 0x7f5b75e8ebd0>,\n",
              " <keras.layers.core.activation.Activation at 0x7f5b75eb7910>,\n",
              " <keras.layers.convolutional.Conv2D at 0x7f5b75eb7250>,\n",
              " <keras.layers.normalization.batch_normalization.BatchNormalization at 0x7f5b75ebb410>,\n",
              " <keras.layers.core.activation.Activation at 0x7f5bf93b31d0>,\n",
              " <keras.layers.convolutional.Conv2D at 0x7f5b75eb0a10>,\n",
              " <keras.layers.normalization.batch_normalization.BatchNormalization at 0x7f5bf93b3350>,\n",
              " <keras.layers.merge.Add at 0x7f5bf93b7fd0>,\n",
              " <keras.layers.core.activation.Activation at 0x7f5bf93b7f90>,\n",
              " <keras.layers.convolutional.Conv2D at 0x7f5bf93c6310>,\n",
              " <keras.layers.normalization.batch_normalization.BatchNormalization at 0x7f5bf93c6f90>,\n",
              " <keras.layers.core.activation.Activation at 0x7f5bf93e7390>,\n",
              " <keras.layers.convolutional.Conv2D at 0x7f5bf93d8ad0>,\n",
              " <keras.layers.normalization.batch_normalization.BatchNormalization at 0x7f5bf93e7c50>,\n",
              " <keras.layers.core.activation.Activation at 0x7f5bf93b72d0>,\n",
              " <keras.layers.convolutional.Conv2D at 0x7f5bf93b7890>,\n",
              " <keras.layers.normalization.batch_normalization.BatchNormalization at 0x7f5b75ebb610>,\n",
              " <keras.layers.merge.Add at 0x7f5bf90fb910>,\n",
              " <keras.layers.core.activation.Activation at 0x7f5bf6212f50>,\n",
              " <keras.layers.convolutional.Conv2D at 0x7f5bf90f9910>,\n",
              " <keras.layers.normalization.batch_normalization.BatchNormalization at 0x7f5bf90f9dd0>,\n",
              " <keras.layers.core.activation.Activation at 0x7f5bf9127d90>,\n",
              " <keras.layers.convolutional.Conv2D at 0x7f5b75e996d0>,\n",
              " <keras.layers.normalization.batch_normalization.BatchNormalization at 0x7f5b6d592c10>,\n",
              " <keras.layers.core.activation.Activation at 0x7f5bf9842190>,\n",
              " <keras.layers.convolutional.Conv2D at 0x7f5bf9865050>,\n",
              " <keras.layers.normalization.batch_normalization.BatchNormalization at 0x7f5bf9865790>,\n",
              " <keras.layers.merge.Add at 0x7f5bf93e41d0>,\n",
              " <keras.layers.core.activation.Activation at 0x7f5bf9115cd0>,\n",
              " <keras.layers.convolutional.Conv2D at 0x7f5bf93e4150>,\n",
              " <keras.layers.normalization.batch_normalization.BatchNormalization at 0x7f5bf93ced90>,\n",
              " <keras.layers.core.activation.Activation at 0x7f5bf913c990>,\n",
              " <keras.layers.convolutional.Conv2D at 0x7f5bf93e0a90>,\n",
              " <keras.layers.normalization.batch_normalization.BatchNormalization at 0x7f5bf913c650>,\n",
              " <keras.layers.core.activation.Activation at 0x7f5bf91431d0>,\n",
              " <keras.layers.convolutional.Conv2D at 0x7f5bf913cbd0>,\n",
              " <keras.layers.normalization.batch_normalization.BatchNormalization at 0x7f5bf915a050>,\n",
              " <keras.layers.merge.Add at 0x7f5bf9163410>,\n",
              " <keras.layers.core.activation.Activation at 0x7f5bf9152550>,\n",
              " <keras.layers.convolutional.Conv2D at 0x7f5bf915c3d0>,\n",
              " <keras.layers.normalization.batch_normalization.BatchNormalization at 0x7f5bf916bb10>,\n",
              " <keras.layers.core.activation.Activation at 0x7f5bf936e1d0>,\n",
              " <keras.layers.convolutional.Conv2D at 0x7f5bf915c090>,\n",
              " <keras.layers.normalization.batch_normalization.BatchNormalization at 0x7f5bf936ed90>,\n",
              " <keras.layers.core.activation.Activation at 0x7f5bf937e5d0>,\n",
              " <keras.layers.convolutional.Conv2D at 0x7f5bf914ff50>,\n",
              " <keras.layers.normalization.batch_normalization.BatchNormalization at 0x7f5bf938d290>,\n",
              " <keras.layers.merge.Add at 0x7f5bf93aa790>,\n",
              " <keras.layers.core.activation.Activation at 0x7f5bf939d750>,\n",
              " <keras.layers.convolutional.Conv2D at 0x7f5bf9388090>,\n",
              " <keras.layers.normalization.batch_normalization.BatchNormalization at 0x7f5bf939dad0>,\n",
              " <keras.layers.core.activation.Activation at 0x7f5bf9395190>,\n",
              " <keras.layers.convolutional.Conv2D at 0x7f5bf93950d0>,\n",
              " <keras.layers.normalization.batch_normalization.BatchNormalization at 0x7f5bf9395f10>,\n",
              " <keras.layers.core.activation.Activation at 0x7f5bf9388b90>,\n",
              " <keras.layers.convolutional.Conv2D at 0x7f5bf937e210>,\n",
              " <keras.layers.normalization.batch_normalization.BatchNormalization at 0x7f5bf937e0d0>,\n",
              " <keras.layers.merge.Add at 0x7f5bf915af50>,\n",
              " <keras.layers.core.activation.Activation at 0x7f5bf9395fd0>,\n",
              " <keras.layers.convolutional.Conv2D at 0x7f5bf93ce3d0>,\n",
              " <keras.layers.normalization.batch_normalization.BatchNormalization at 0x7f5bf93bef10>,\n",
              " <keras.layers.core.activation.Activation at 0x7f5bf93aa290>,\n",
              " <keras.layers.convolutional.Conv2D at 0x7f5bf93aa2d0>,\n",
              " <keras.layers.normalization.batch_normalization.BatchNormalization at 0x7f5bf6213550>,\n",
              " <keras.layers.core.activation.Activation at 0x7f5b75ebb0d0>,\n",
              " <keras.layers.convolutional.Conv2D at 0x7f5bf9143dd0>,\n",
              " <keras.layers.normalization.batch_normalization.BatchNormalization at 0x7f5b75ebf390>,\n",
              " <keras.layers.merge.Add at 0x7f5b75f96710>,\n",
              " <keras.layers.core.activation.Activation at 0x7f5b75fa06d0>,\n",
              " <keras.layers.convolutional.Conv2D at 0x7f5b75fa0c10>,\n",
              " <keras.layers.normalization.batch_normalization.BatchNormalization at 0x7f5b75fa0a90>,\n",
              " <keras.layers.core.activation.Activation at 0x7f5b75fb3350>,\n",
              " <keras.layers.convolutional.Conv2D at 0x7f5b75f96150>,\n",
              " <keras.layers.normalization.batch_normalization.BatchNormalization at 0x7f5b75fb3f90>,\n",
              " <keras.layers.core.activation.Activation at 0x7f5b75f857d0>,\n",
              " <keras.layers.convolutional.Conv2D at 0x7f5b75f85150>,\n",
              " <keras.layers.normalization.batch_normalization.BatchNormalization at 0x7f5b75fa5fd0>,\n",
              " <keras.layers.merge.Add at 0x7f5bf94320d0>,\n",
              " <keras.layers.core.activation.Activation at 0x7f5bf9432e90>,\n",
              " <keras.layers.convolutional.Conv2D at 0x7f5bf944f150>,\n",
              " <keras.layers.normalization.batch_normalization.BatchNormalization at 0x7f5bf943f910>,\n",
              " <keras.layers.core.activation.Activation at 0x7f5bf945b690>,\n",
              " <keras.layers.convolutional.Conv2D at 0x7f5bf944fb50>,\n",
              " <keras.layers.normalization.batch_normalization.BatchNormalization at 0x7f5bf944f990>,\n",
              " <keras.layers.core.activation.Activation at 0x7f5bf945bf50>,\n",
              " <keras.layers.convolutional.Conv2D at 0x7f5bf9439550>,\n",
              " <keras.layers.convolutional.Conv2D at 0x7f5bf945f750>,\n",
              " <keras.layers.normalization.batch_normalization.BatchNormalization at 0x7f5bf9439b90>,\n",
              " <keras.layers.normalization.batch_normalization.BatchNormalization at 0x7f5bf93f8f10>,\n",
              " <keras.layers.merge.Add at 0x7f5bf93f83d0>,\n",
              " <keras.layers.core.activation.Activation at 0x7f5bf93f8e10>,\n",
              " <keras.layers.convolutional.Conv2D at 0x7f5bf9463910>,\n",
              " <keras.layers.normalization.batch_normalization.BatchNormalization at 0x7f5bf940be90>,\n",
              " <keras.layers.core.activation.Activation at 0x7f5bf940b210>,\n",
              " <keras.layers.convolutional.Conv2D at 0x7f5bf940b1d0>,\n",
              " <keras.layers.normalization.batch_normalization.BatchNormalization at 0x7f5bf93f8710>,\n",
              " <keras.layers.core.activation.Activation at 0x7f5bf9432ad0>,\n",
              " <keras.layers.convolutional.Conv2D at 0x7f5bf9439250>,\n",
              " <keras.layers.normalization.batch_normalization.BatchNormalization at 0x7f5bf945be50>,\n",
              " <keras.layers.merge.Add at 0x7f5b75f8c150>,\n",
              " <keras.layers.core.activation.Activation at 0x7f5b75fbd650>,\n",
              " <keras.layers.convolutional.Conv2D at 0x7f5bf93be3d0>,\n",
              " <keras.layers.normalization.batch_normalization.BatchNormalization at 0x7f5b75f96350>,\n",
              " <keras.layers.core.activation.Activation at 0x7f5bf93aad10>,\n",
              " <keras.layers.convolutional.Conv2D at 0x7f5bf903b5d0>,\n",
              " <keras.layers.normalization.batch_normalization.BatchNormalization at 0x7f5bf9396a10>,\n",
              " <keras.layers.core.activation.Activation at 0x7f5bf916b7d0>,\n",
              " <keras.layers.convolutional.Conv2D at 0x7f5bf916bed0>,\n",
              " <keras.layers.normalization.batch_normalization.BatchNormalization at 0x7f5bf61efe90>,\n",
              " <keras.layers.merge.Add at 0x7f5bf941d950>,\n",
              " <keras.layers.core.activation.Activation at 0x7f5bf9417590>]"
            ]
          },
          "metadata": {},
          "execution_count": 117
        }
      ]
    },
    {
      "cell_type": "code",
      "source": [
        "# Let's try EfficientNetB2\n",
        "# Setup the base model\n",
        "base_model_5 = tf.keras.applications.EfficientNetB2(include_top=False)\n",
        "base_model_5.trainable = False\n",
        "\n",
        "# Setup model architecture with trainable top layers\n",
        "inputs = layers.Input(shape=(224, 224, 3), name=\"input_layer\")\n",
        "x = data_augmentation(inputs) \n",
        "x = base_model_5(x, training=False) \n",
        "x = layers.GlobalAveragePooling2D(name=\"global_avg_pool_layer\")(x)\n",
        "outputs = layers.Dense(5, activation=\"softmax\", name=\"output_layer\")(x)\n",
        "model_5 = tf.keras.Model(inputs, outputs)\n",
        "\n",
        "# Compile\n",
        "model_5.compile(loss=\"categorical_crossentropy\",\n",
        "              optimizer=tf.optimizers.Adam(),\n",
        "              metrics=[\"accuracy\"])\n",
        "\n",
        "# Fit\n",
        "history_model_5 = model_5.fit(train_data,\n",
        "                               epochs=15,\n",
        "                               validation_data=test_data,\n",
        "                               validation_steps=len(test_data))"
      ],
      "metadata": {
        "id": "VBqTfpwlMSOy",
        "colab": {
          "base_uri": "https://localhost:8080/"
        },
        "outputId": "cebcee1f-9254-4d54-a63c-671a0b783e59"
      },
      "execution_count": null,
      "outputs": [
        {
          "output_type": "stream",
          "name": "stdout",
          "text": [
            "Epoch 1/15\n",
            "16/16 [==============================] - 12s 245ms/step - loss: 1.7329 - accuracy: 0.1875 - val_loss: 1.3036 - val_accuracy: 0.5000\n",
            "Epoch 2/15\n",
            "16/16 [==============================] - 3s 129ms/step - loss: 1.5897 - accuracy: 0.4688 - val_loss: 1.2934 - val_accuracy: 0.6000\n",
            "Epoch 3/15\n",
            "16/16 [==============================] - 3s 129ms/step - loss: 1.5150 - accuracy: 0.3125 - val_loss: 1.2287 - val_accuracy: 0.6333\n",
            "Epoch 4/15\n",
            "16/16 [==============================] - 3s 135ms/step - loss: 1.4861 - accuracy: 0.4688 - val_loss: 1.2447 - val_accuracy: 0.5333\n",
            "Epoch 5/15\n",
            "16/16 [==============================] - 4s 167ms/step - loss: 1.3673 - accuracy: 0.4375 - val_loss: 1.2099 - val_accuracy: 0.5333\n",
            "Epoch 6/15\n",
            "16/16 [==============================] - 3s 133ms/step - loss: 1.4239 - accuracy: 0.5312 - val_loss: 1.1980 - val_accuracy: 0.6333\n",
            "Epoch 7/15\n",
            "16/16 [==============================] - 3s 126ms/step - loss: 1.3083 - accuracy: 0.4375 - val_loss: 1.1550 - val_accuracy: 0.6000\n",
            "Epoch 8/15\n",
            "16/16 [==============================] - 3s 129ms/step - loss: 1.1845 - accuracy: 0.5000 - val_loss: 1.1249 - val_accuracy: 0.6333\n",
            "Epoch 9/15\n",
            "16/16 [==============================] - 3s 172ms/step - loss: 1.2458 - accuracy: 0.5000 - val_loss: 1.1397 - val_accuracy: 0.6000\n",
            "Epoch 10/15\n",
            "16/16 [==============================] - 3s 132ms/step - loss: 1.2870 - accuracy: 0.4375 - val_loss: 1.1167 - val_accuracy: 0.5333\n",
            "Epoch 11/15\n",
            "16/16 [==============================] - 3s 130ms/step - loss: 1.3266 - accuracy: 0.5312 - val_loss: 1.0892 - val_accuracy: 0.5667\n",
            "Epoch 12/15\n",
            "16/16 [==============================] - 3s 128ms/step - loss: 1.1495 - accuracy: 0.5312 - val_loss: 1.1444 - val_accuracy: 0.4667\n",
            "Epoch 13/15\n",
            "16/16 [==============================] - 3s 132ms/step - loss: 1.1713 - accuracy: 0.5312 - val_loss: 1.1553 - val_accuracy: 0.6000\n",
            "Epoch 14/15\n",
            "16/16 [==============================] - 3s 128ms/step - loss: 1.1630 - accuracy: 0.5312 - val_loss: 1.1585 - val_accuracy: 0.5333\n",
            "Epoch 15/15\n",
            "16/16 [==============================] - 3s 125ms/step - loss: 1.1542 - accuracy: 0.6562 - val_loss: 1.0916 - val_accuracy: 0.6000\n"
          ]
        }
      ]
    },
    {
      "cell_type": "code",
      "source": [
        "plot_loss_curves(history_model_5)"
      ],
      "metadata": {
        "colab": {
          "base_uri": "https://localhost:8080/",
          "height": 573
        },
        "id": "YG4COa6B5-_B",
        "outputId": "9f665c89-9425-4979-d911-aeac0443eb67"
      },
      "execution_count": null,
      "outputs": [
        {
          "output_type": "display_data",
          "data": {
            "text/plain": [
              "<Figure size 432x288 with 1 Axes>"
            ],
            "image/png": "[encoded data removed]"
          },
          "metadata": {
            "needs_background": "light"
          }
        },
        {
          "output_type": "display_data",
          "data": {
            "text/plain": [
              "<Figure size 432x288 with 1 Axes>"
            ],
            "image/png": "[encoded data removed]"
          },
          "metadata": {
            "needs_background": "light"
          }
        }
      ]
    },
    {
      "cell_type": "code",
      "source": [],
      "metadata": {
        "id": "LNKs-O056JeR"
      },
      "execution_count": null,
      "outputs": []
    },
    {
      "cell_type": "code",
      "source": [
        "# Let's try EfficientNetB2\n",
        "# Setup the base model\n",
        "base_model_11 = tf.keras.applications.EfficientNetB2(include_top=False)\n",
        "base_model_11.trainable = False\n",
        "\n",
        "# Setup model architecture with trainable top layers\n",
        "inputs = layers.Input(shape=(224, 224, 3), name=\"input_layer\")\n",
        "x = data_augmentation(inputs) \n",
        "x = base_model_11(x, training=False) \n",
        "x = layers.GlobalAveragePooling2D(name=\"global_avg_pool_layer\")(x)\n",
        "outputs = layers.Dense(5, activation=\"softmax\", name=\"output_layer\")(x)\n",
        "model_11 = tf.keras.Model(inputs, outputs)\n",
        "\n",
        "# Compile\n",
        "model_11.compile(loss=\"categorical_crossentropy\",\n",
        "              optimizer=tf.optimizers.Adam(),\n",
        "              metrics=[\"accuracy\"])\n",
        "\n",
        "# Fit\n",
        "history_model_11 = model_11.fit(train_data,\n",
        "                               epochs=100,\n",
        "                               validation_data=test_data,\n",
        "                               validation_steps=len(test_data),\n",
        "                                 callbacks=[early_stopping])"
      ],
      "metadata": {
        "colab": {
          "base_uri": "https://localhost:8080/"
        },
        "id": "XvpDNufw8twR",
        "outputId": "2a70e682-120e-422b-a2a2-0e8e1d65f476"
      },
      "execution_count": null,
      "outputs": [
        {
          "output_type": "stream",
          "name": "stdout",
          "text": [
            "Epoch 1/100\n",
            "16/16 [==============================] - 19s 616ms/step - loss: 1.7601 - accuracy: 0.1875 - val_loss: 1.5603 - val_accuracy: 0.2667\n",
            "Epoch 2/100\n",
            "16/16 [==============================] - 8s 459ms/step - loss: 1.4016 - accuracy: 0.3438 - val_loss: 1.5099 - val_accuracy: 0.4000\n",
            "Epoch 3/100\n",
            "16/16 [==============================] - 9s 498ms/step - loss: 1.5550 - accuracy: 0.2500 - val_loss: 1.5655 - val_accuracy: 0.4667\n",
            "Epoch 4/100\n",
            "16/16 [==============================] - 10s 567ms/step - loss: 1.4528 - accuracy: 0.4375 - val_loss: 1.5111 - val_accuracy: 0.5000\n",
            "Epoch 5/100\n",
            "16/16 [==============================] - 9s 541ms/step - loss: 1.4137 - accuracy: 0.4688 - val_loss: 1.4373 - val_accuracy: 0.5000\n",
            "Epoch 6/100\n",
            "16/16 [==============================] - 11s 644ms/step - loss: 1.3629 - accuracy: 0.3438 - val_loss: 1.3548 - val_accuracy: 0.5333\n",
            "Epoch 7/100\n",
            "16/16 [==============================] - 8s 456ms/step - loss: 1.2125 - accuracy: 0.6562 - val_loss: 1.3116 - val_accuracy: 0.5667\n",
            "Epoch 8/100\n",
            "16/16 [==============================] - 8s 447ms/step - loss: 1.2486 - accuracy: 0.5625 - val_loss: 1.3382 - val_accuracy: 0.5667\n",
            "Epoch 9/100\n",
            "16/16 [==============================] - 8s 454ms/step - loss: 1.1822 - accuracy: 0.5312 - val_loss: 1.3302 - val_accuracy: 0.6000\n",
            "Epoch 10/100\n",
            "16/16 [==============================] - 8s 453ms/step - loss: 1.1878 - accuracy: 0.5000 - val_loss: 1.3004 - val_accuracy: 0.5667\n",
            "Epoch 11/100\n",
            "16/16 [==============================] - 10s 593ms/step - loss: 1.1486 - accuracy: 0.5312 - val_loss: 1.3297 - val_accuracy: 0.5667\n",
            "Epoch 12/100\n",
            "16/16 [==============================] - 8s 459ms/step - loss: 1.1403 - accuracy: 0.5625 - val_loss: 1.3582 - val_accuracy: 0.5667\n",
            "Epoch 13/100\n",
            "16/16 [==============================] - 8s 448ms/step - loss: 1.2172 - accuracy: 0.5312 - val_loss: 1.4679 - val_accuracy: 0.6000\n",
            "Epoch 14/100\n",
            "16/16 [==============================] - 8s 453ms/step - loss: 1.1158 - accuracy: 0.5938 - val_loss: 1.3878 - val_accuracy: 0.5000\n"
          ]
        }
      ]
    },
    {
      "cell_type": "code",
      "source": [
        "plot_loss_curves(history_model_11)"
      ],
      "metadata": {
        "colab": {
          "base_uri": "https://localhost:8080/",
          "height": 573
        },
        "id": "D6WVCrM7-DtW",
        "outputId": "863f8628-eb7d-4497-8358-7562b8a862b0"
      },
      "execution_count": null,
      "outputs": [
        {
          "output_type": "display_data",
          "data": {
            "text/plain": [
              "<Figure size 432x288 with 1 Axes>"
            ],
            "image/png": "[encoded data removed]"
          },
          "metadata": {
            "needs_background": "light"
          }
        },
        {
          "output_type": "display_data",
          "data": {
            "text/plain": [
              "<Figure size 432x288 with 1 Axes>"
            ],
            "image/png": "[encoded data removed]"
          },
          "metadata": {
            "needs_background": "light"
          }
        }
      ]
    },
    {
      "cell_type": "code",
      "source": [
        "# Let's try EfficientNetB3\n",
        "# Setup the base model\n",
        "base_model_12 = tf.keras.applications.EfficientNetB3(include_top=False)\n",
        "base_model_12.trainable = False\n",
        "\n",
        "# Setup model architecture with trainable top layers\n",
        "inputs = layers.Input(shape=(224, 224, 3), name=\"input_layer\")\n",
        "x = data_augmentation(inputs) \n",
        "x = base_model_12(x, training=False) \n",
        "x = layers.GlobalAveragePooling2D(name=\"global_avg_pool_layer\")(x)\n",
        "outputs = layers.Dense(5, activation=\"softmax\", name=\"output_layer\")(x)\n",
        "model_12 = tf.keras.Model(inputs, outputs)\n",
        "\n",
        "# Compile\n",
        "model_12.compile(loss=\"categorical_crossentropy\",\n",
        "              optimizer=tf.optimizers.Adam(),\n",
        "              metrics=[\"accuracy\"])\n",
        "\n",
        "# Fit\n",
        "history_model_12 = model_12.fit(train_data,\n",
        "                               epochs=10,\n",
        "                               validation_data=test_data,\n",
        "                               validation_steps=len(test_data),\n",
        "                                callbacks=[early_stopping])"
      ],
      "metadata": {
        "colab": {
          "base_uri": "https://localhost:8080/"
        },
        "id": "9jznNpBE-GD9",
        "outputId": "93530a13-6478-4ec7-bc02-40e19f193ca4"
      },
      "execution_count": null,
      "outputs": [
        {
          "output_type": "stream",
          "name": "stdout",
          "text": [
            "Epoch 1/10\n",
            "16/16 [==============================] - 12s 256ms/step - loss: 1.8394 - accuracy: 0.0938 - val_loss: 1.4935 - val_accuracy: 0.3667\n",
            "Epoch 2/10\n",
            "16/16 [==============================] - 3s 130ms/step - loss: 1.6523 - accuracy: 0.2812 - val_loss: 1.5294 - val_accuracy: 0.4333\n",
            "Epoch 3/10\n",
            "16/16 [==============================] - 3s 129ms/step - loss: 1.5615 - accuracy: 0.2500 - val_loss: 1.4747 - val_accuracy: 0.4667\n",
            "Epoch 4/10\n",
            "16/16 [==============================] - 3s 133ms/step - loss: 1.3795 - accuracy: 0.4375 - val_loss: 1.4492 - val_accuracy: 0.3667\n",
            "Epoch 5/10\n",
            "16/16 [==============================] - 3s 136ms/step - loss: 1.2887 - accuracy: 0.5312 - val_loss: 1.3968 - val_accuracy: 0.3667\n",
            "Epoch 6/10\n",
            "16/16 [==============================] - 3s 133ms/step - loss: 1.4188 - accuracy: 0.4688 - val_loss: 1.2739 - val_accuracy: 0.4667\n",
            "Epoch 7/10\n",
            "16/16 [==============================] - 3s 131ms/step - loss: 1.2930 - accuracy: 0.5312 - val_loss: 1.2508 - val_accuracy: 0.5000\n",
            "Epoch 8/10\n",
            "16/16 [==============================] - 3s 133ms/step - loss: 1.2797 - accuracy: 0.5000 - val_loss: 1.2517 - val_accuracy: 0.5000\n",
            "Epoch 9/10\n",
            "16/16 [==============================] - 3s 135ms/step - loss: 0.9538 - accuracy: 0.8125 - val_loss: 1.1165 - val_accuracy: 0.5000\n",
            "Epoch 10/10\n",
            "16/16 [==============================] - 3s 130ms/step - loss: 1.1602 - accuracy: 0.5000 - val_loss: 1.1356 - val_accuracy: 0.5000\n"
          ]
        }
      ]
    },
    {
      "cell_type": "code",
      "source": [
        "plot_loss_curves(history_model_12)"
      ],
      "metadata": {
        "colab": {
          "base_uri": "https://localhost:8080/",
          "height": 573
        },
        "id": "cK07oW6iCRyN",
        "outputId": "edc7b38a-35d6-4e36-dec3-a678acae2c9e"
      },
      "execution_count": null,
      "outputs": [
        {
          "output_type": "display_data",
          "data": {
            "text/plain": [
              "<Figure size 432x288 with 1 Axes>"
            ],
            "image/png": "[encoded data removed]"
          },
          "metadata": {
            "needs_background": "light"
          }
        },
        {
          "output_type": "display_data",
          "data": {
            "text/plain": [
              "<Figure size 432x288 with 1 Axes>"
            ],
            "image/png": "[encoded data removed]"
          },
          "metadata": {
            "needs_background": "light"
          }
        }
      ]
    },
    {
      "cell_type": "markdown",
      "source": [
        "ok"
      ],
      "metadata": {
        "id": "JhjdsXKLCZDr"
      }
    },
    {
      "cell_type": "code",
      "source": [
        "# Setup data inputs\n",
        "import tensorflow as tf\n",
        "IMG_SIZE_3 = (224, 224)\n",
        "train_data_3 = tf.keras.utils.image_dataset_from_directory(train_dir,\n",
        "                                                         label_mode=\"categorical\",\n",
        "                                                        image_size=IMG_SIZE_3,\n",
        "                                                         batch_size=2)\n",
        "test_data_3 = tf.keras.utils.image_dataset_from_directory(test_dir,\n",
        "                                                        label_mode=\"categorical\",\n",
        "                                                        image_size=IMG_SIZE_3,\n",
        "                                                        shuffle=False,\n",
        "                                                        batch_size=2)"
      ],
      "metadata": {
        "colab": {
          "base_uri": "https://localhost:8080/"
        },
        "id": "pNEdRFHFSy-S",
        "outputId": "b600149e-7363-4862-b6ac-b480031fc9c0"
      },
      "execution_count": null,
      "outputs": [
        {
          "output_type": "stream",
          "name": "stdout",
          "text": [
            "Found 32 files belonging to 5 classes.\n",
            "Found 30 files belonging to 5 classes.\n"
          ]
        }
      ]
    },
    {
      "cell_type": "code",
      "source": [
        "# Let's try EfficientNetB2\n",
        "# Setup the base model\n",
        "base_model_13 = tf.keras.applications.EfficientNetB2(include_top=False)\n",
        "base_model_13.trainable = False\n",
        "\n",
        "# Setup model architecture with trainable top layers\n",
        "inputs = layers.Input(shape=(224, 224, 3), name=\"input_layer\")\n",
        "x = data_augmentation(inputs) \n",
        "x = base_model_13(x, training=False) \n",
        "x = layers.GlobalAveragePooling2D(name=\"global_avg_pool_layer\")(x)\n",
        "outputs = layers.Dense(5, activation=\"softmax\", name=\"output_layer\")(x)\n",
        "model_13 = tf.keras.Model(inputs, outputs)\n",
        "\n",
        "# Compile\n",
        "model_13.compile(loss=\"categorical_crossentropy\",\n",
        "              optimizer=tf.optimizers.Adam(),\n",
        "              metrics=[\"accuracy\"])\n",
        "\n",
        "# Fit\n",
        "history_model_13 = model_13.fit(train_data_3,\n",
        "                               epochs=100,\n",
        "                               validation_data=test_data_3,\n",
        "                               validation_steps=len(test_data_3),\n",
        "                               callbacks=[early_stopping])"
      ],
      "metadata": {
        "id": "9iggatiVCT7Z",
        "colab": {
          "base_uri": "https://localhost:8080/"
        },
        "outputId": "ce2b43b9-c571-42c7-9159-af219e4f68c3"
      },
      "execution_count": null,
      "outputs": [
        {
          "output_type": "stream",
          "name": "stdout",
          "text": [
            "Epoch 1/100\n"
          ]
        },
        {
          "output_type": "stream",
          "name": "stderr",
          "text": [
            "WARNING:tensorflow:Using a while_loop for converting RngReadAndSkip\n",
            "WARNING:tensorflow:Using a while_loop for converting Bitcast\n",
            "WARNING:tensorflow:Using a while_loop for converting Bitcast\n",
            "WARNING:tensorflow:Using a while_loop for converting StatelessRandomUniformFullIntV2\n",
            "WARNING:tensorflow:Using a while_loop for converting StatelessRandomGetKeyCounter\n",
            "WARNING:tensorflow:Using a while_loop for converting StatelessRandomUniformV2\n",
            "WARNING:tensorflow:Using a while_loop for converting AdjustContrastv2\n",
            "WARNING:tensorflow:Using a while_loop for converting RngReadAndSkip\n",
            "WARNING:tensorflow:Using a while_loop for converting Bitcast\n",
            "WARNING:tensorflow:Using a while_loop for converting Bitcast\n",
            "WARNING:tensorflow:Using a while_loop for converting StatelessRandomUniformFullIntV2\n",
            "WARNING:tensorflow:Using a while_loop for converting StatelessRandomGetKeyCounter\n",
            "WARNING:tensorflow:Using a while_loop for converting StatelessRandomUniformV2\n",
            "WARNING:tensorflow:Using a while_loop for converting AdjustContrastv2\n"
          ]
        },
        {
          "output_type": "stream",
          "name": "stdout",
          "text": [
            "16/16 [==============================] - 13s 256ms/step - loss: 1.8519 - accuracy: 0.2188 - val_loss: 1.4327 - val_accuracy: 0.5000\n",
            "Epoch 2/100\n",
            "16/16 [==============================] - 3s 136ms/step - loss: 1.6572 - accuracy: 0.2812 - val_loss: 1.3989 - val_accuracy: 0.4667\n",
            "Epoch 3/100\n",
            "16/16 [==============================] - 3s 135ms/step - loss: 1.6095 - accuracy: 0.3125 - val_loss: 1.4151 - val_accuracy: 0.4667\n",
            "Epoch 4/100\n",
            "16/16 [==============================] - 3s 136ms/step - loss: 1.4565 - accuracy: 0.3750 - val_loss: 1.3960 - val_accuracy: 0.4667\n",
            "Epoch 5/100\n",
            "16/16 [==============================] - 3s 138ms/step - loss: 1.4228 - accuracy: 0.4375 - val_loss: 1.3703 - val_accuracy: 0.5000\n",
            "Epoch 6/100\n",
            "16/16 [==============================] - 3s 137ms/step - loss: 1.3758 - accuracy: 0.4062 - val_loss: 1.4329 - val_accuracy: 0.4667\n"
          ]
        }
      ]
    },
    {
      "cell_type": "markdown",
      "source": [
        "selected to go forward with for now"
      ],
      "metadata": {
        "id": "MgTTeuKvBRSk"
      }
    },
    {
      "cell_type": "code",
      "source": [
        "# Let's try EfficientNetB4\n",
        "# Setup the base model\n",
        "base_model_14 = tf.keras.applications.EfficientNetB4(include_top=False)\n",
        "base_model_14.trainable = False\n",
        "\n",
        "# Setup model architecture with trainable top layers\n",
        "inputs = layers.Input(shape=(224, 224, 3), name=\"input_layer\")\n",
        "x = data_augmentation(inputs) \n",
        "x = base_model_14(x, training=False) \n",
        "x = layers.GlobalAveragePooling2D(name=\"global_avg_pool_layer\")(x)\n",
        "outputs = layers.Dense(5, activation=\"softmax\", name=\"output_layer\")(x)\n",
        "model_14 = tf.keras.Model(inputs, outputs)\n",
        "\n",
        "# Compile\n",
        "model_14.compile(loss=\"categorical_crossentropy\",\n",
        "              optimizer=tf.optimizers.Adam(),\n",
        "              metrics=[\"accuracy\"])\n",
        "\n",
        "# Fit\n",
        "history_model_14 = model_14.fit(train_data,\n",
        "                               epochs=100,\n",
        "                               validation_data=test_data,\n",
        "                               validation_steps=len(test_data),\n",
        "                               callbacks=[early_stopping])"
      ],
      "metadata": {
        "colab": {
          "base_uri": "https://localhost:8080/"
        },
        "id": "Zk7vg3CHrlhP",
        "outputId": "19664495-31c7-47d8-ef2a-0cda15d17d4b"
      },
      "execution_count": null,
      "outputs": [
        {
          "output_type": "stream",
          "name": "stdout",
          "text": [
            "Epoch 1/100\n",
            "16/16 [==============================] - 15s 290ms/step - loss: 1.8265 - accuracy: 0.0938 - val_loss: 1.5031 - val_accuracy: 0.3667\n",
            "Epoch 2/100\n",
            "16/16 [==============================] - 3s 135ms/step - loss: 1.7066 - accuracy: 0.2500 - val_loss: 1.4790 - val_accuracy: 0.2667\n",
            "Epoch 3/100\n",
            "16/16 [==============================] - 3s 140ms/step - loss: 1.5253 - accuracy: 0.3438 - val_loss: 1.4569 - val_accuracy: 0.2667\n",
            "Epoch 4/100\n",
            "16/16 [==============================] - 3s 144ms/step - loss: 1.5051 - accuracy: 0.3438 - val_loss: 1.4033 - val_accuracy: 0.3667\n",
            "Epoch 5/100\n",
            "16/16 [==============================] - 3s 135ms/step - loss: 1.5109 - accuracy: 0.3125 - val_loss: 1.3910 - val_accuracy: 0.5000\n",
            "Epoch 6/100\n",
            "16/16 [==============================] - 3s 141ms/step - loss: 1.3772 - accuracy: 0.5312 - val_loss: 1.3517 - val_accuracy: 0.5333\n",
            "Epoch 7/100\n",
            "16/16 [==============================] - 3s 138ms/step - loss: 1.3654 - accuracy: 0.4062 - val_loss: 1.3398 - val_accuracy: 0.4667\n",
            "Epoch 8/100\n",
            "16/16 [==============================] - 3s 144ms/step - loss: 1.4161 - accuracy: 0.4375 - val_loss: 1.3608 - val_accuracy: 0.5000\n",
            "Epoch 9/100\n",
            "16/16 [==============================] - 3s 143ms/step - loss: 1.2866 - accuracy: 0.4688 - val_loss: 1.2856 - val_accuracy: 0.5333\n",
            "Epoch 10/100\n",
            "16/16 [==============================] - 3s 142ms/step - loss: 1.3366 - accuracy: 0.5000 - val_loss: 1.3315 - val_accuracy: 0.5333\n"
          ]
        }
      ]
    },
    {
      "cell_type": "code",
      "source": [
        "# Let's try EfficientNetB5\n",
        "# Setup the base model\n",
        "base_model_15 = tf.keras.applications.EfficientNetB5(include_top=False)\n",
        "base_model_15.trainable = False\n",
        "\n",
        "# Setup model architecture with trainable top layers\n",
        "inputs = layers.Input(shape=(224, 224, 3), name=\"input_layer\")\n",
        "x = data_augmentation(inputs) \n",
        "x = base_model_15(x, training=False) \n",
        "x = layers.GlobalAveragePooling2D(name=\"global_avg_pool_layer\")(x)\n",
        "outputs = layers.Dense(5, activation=\"softmax\", name=\"output_layer\")(x)\n",
        "model_15= tf.keras.Model(inputs, outputs)\n",
        "\n",
        "# Compile\n",
        "model_15.compile(loss=\"categorical_crossentropy\",\n",
        "              optimizer=tf.optimizers.Adam(),\n",
        "              metrics=[\"accuracy\"])\n",
        "\n",
        "# Fit\n",
        "history_model_15 = model_15.fit(train_data,\n",
        "                               epochs=100,\n",
        "                               validation_data=test_data,\n",
        "                               validation_steps=len(test_data),\n",
        "                               callbacks=[early_stopping])"
      ],
      "metadata": {
        "colab": {
          "base_uri": "https://localhost:8080/"
        },
        "id": "GZsIcPIyr5dG",
        "outputId": "488079ab-89c6-4d40-f0b5-8d3c36f04e13"
      },
      "execution_count": null,
      "outputs": [
        {
          "output_type": "stream",
          "name": "stdout",
          "text": [
            "Epoch 1/100\n",
            "16/16 [==============================] - 21s 354ms/step - loss: 1.9093 - accuracy: 0.1562 - val_loss: 1.4112 - val_accuracy: 0.3333\n",
            "Epoch 2/100\n",
            "16/16 [==============================] - 3s 140ms/step - loss: 1.5911 - accuracy: 0.3438 - val_loss: 1.4689 - val_accuracy: 0.4667\n",
            "Epoch 3/100\n",
            "16/16 [==============================] - 3s 146ms/step - loss: 1.6099 - accuracy: 0.2500 - val_loss: 1.4712 - val_accuracy: 0.3000\n",
            "Epoch 4/100\n",
            "16/16 [==============================] - 3s 143ms/step - loss: 1.6164 - accuracy: 0.2188 - val_loss: 1.4447 - val_accuracy: 0.3333\n",
            "Epoch 5/100\n",
            "16/16 [==============================] - 3s 145ms/step - loss: 1.2899 - accuracy: 0.5000 - val_loss: 1.3072 - val_accuracy: 0.5667\n",
            "Epoch 6/100\n",
            "16/16 [==============================] - 3s 146ms/step - loss: 1.3849 - accuracy: 0.5000 - val_loss: 1.2706 - val_accuracy: 0.5000\n",
            "Epoch 7/100\n",
            "16/16 [==============================] - 3s 141ms/step - loss: 1.5543 - accuracy: 0.3750 - val_loss: 1.3037 - val_accuracy: 0.3333\n",
            "Epoch 8/100\n",
            "16/16 [==============================] - 3s 145ms/step - loss: 1.5338 - accuracy: 0.3125 - val_loss: 1.2336 - val_accuracy: 0.4000\n",
            "Epoch 9/100\n",
            "16/16 [==============================] - 3s 145ms/step - loss: 1.3719 - accuracy: 0.4062 - val_loss: 1.2590 - val_accuracy: 0.5333\n",
            "Epoch 10/100\n",
            "16/16 [==============================] - 3s 168ms/step - loss: 1.4666 - accuracy: 0.2812 - val_loss: 1.4363 - val_accuracy: 0.3333\n"
          ]
        }
      ]
    },
    {
      "cell_type": "markdown",
      "source": [
        "better than B2"
      ],
      "metadata": {
        "id": "XkpAT5w5uVLl"
      }
    },
    {
      "cell_type": "code",
      "source": [
        "plot_loss_curves(history_model_15)"
      ],
      "metadata": {
        "colab": {
          "base_uri": "https://localhost:8080/",
          "height": 573
        },
        "id": "7cz6Lv5mvy63",
        "outputId": "cf92ba83-bcb3-4e3a-ffc2-8381897c3517"
      },
      "execution_count": null,
      "outputs": [
        {
          "output_type": "display_data",
          "data": {
            "text/plain": [
              "<Figure size 432x288 with 1 Axes>"
            ],
            "image/png": "[encoded data removed]"
          },
          "metadata": {
            "needs_background": "light"
          }
        },
        {
          "output_type": "display_data",
          "data": {
            "text/plain": [
              "<Figure size 432x288 with 1 Axes>"
            ],
            "image/png": "[encoded data removed]"
          },
          "metadata": {
            "needs_background": "light"
          }
        }
      ]
    },
    {
      "cell_type": "code",
      "source": [
        "# Let's try EfficientNetB6\n",
        "# Setup the base model\n",
        "base_model_16 = tf.keras.applications.EfficientNetB6(include_top=False)\n",
        "base_model_16.trainable = False\n",
        "\n",
        "# Setup model architecture with trainable top layers\n",
        "inputs = layers.Input(shape=(224, 224, 3), name=\"input_layer\")\n",
        "x = data_augmentation(inputs) \n",
        "x = base_model_16(x, training=False) \n",
        "x = layers.GlobalAveragePooling2D(name=\"global_avg_pool_layer\")(x)\n",
        "outputs = layers.Dense(5, activation=\"softmax\", name=\"output_layer\")(x)\n",
        "model_16= tf.keras.Model(inputs, outputs)\n",
        "\n",
        "# Compile\n",
        "model_16.compile(loss=\"categorical_crossentropy\",\n",
        "              optimizer=tf.optimizers.Adam(),\n",
        "              metrics=[\"accuracy\"])\n",
        "\n",
        "# Fit\n",
        "history_model_16 = model_16.fit(train_data,\n",
        "                               epochs=100,\n",
        "                               validation_data=test_data,\n",
        "                               validation_steps=len(test_data),\n",
        "                               callbacks=[early_stopping])"
      ],
      "metadata": {
        "colab": {
          "base_uri": "https://localhost:8080/"
        },
        "id": "W_7HTVQksiXQ",
        "outputId": "18f5753d-d3b4-4bf0-9ca3-e22da6f84252"
      },
      "execution_count": null,
      "outputs": [
        {
          "output_type": "stream",
          "name": "stdout",
          "text": [
            "Epoch 1/100\n",
            "16/16 [==============================] - 21s 453ms/step - loss: 1.7520 - accuracy: 0.1875 - val_loss: 1.5972 - val_accuracy: 0.2667\n",
            "Epoch 2/100\n",
            "16/16 [==============================] - 3s 178ms/step - loss: 1.6647 - accuracy: 0.2188 - val_loss: 1.5949 - val_accuracy: 0.1000\n",
            "Epoch 3/100\n",
            "16/16 [==============================] - 3s 185ms/step - loss: 1.6164 - accuracy: 0.2188 - val_loss: 1.7344 - val_accuracy: 0.2667\n",
            "Epoch 4/100\n",
            "16/16 [==============================] - 4s 156ms/step - loss: 1.5758 - accuracy: 0.2188 - val_loss: 1.5958 - val_accuracy: 0.4333\n",
            "Epoch 5/100\n",
            "16/16 [==============================] - 5s 253ms/step - loss: 1.5128 - accuracy: 0.4062 - val_loss: 1.6339 - val_accuracy: 0.4000\n",
            "Epoch 6/100\n",
            "16/16 [==============================] - 4s 219ms/step - loss: 1.5357 - accuracy: 0.3125 - val_loss: 1.5793 - val_accuracy: 0.4000\n",
            "Epoch 7/100\n",
            "16/16 [==============================] - 3s 149ms/step - loss: 1.4657 - accuracy: 0.3750 - val_loss: 1.6056 - val_accuracy: 0.5000\n",
            "Epoch 8/100\n",
            "16/16 [==============================] - 4s 206ms/step - loss: 1.6000 - accuracy: 0.3125 - val_loss: 1.5228 - val_accuracy: 0.5000\n",
            "Epoch 9/100\n",
            "16/16 [==============================] - 5s 272ms/step - loss: 1.4119 - accuracy: 0.4062 - val_loss: 1.4357 - val_accuracy: 0.4667\n",
            "Epoch 10/100\n",
            "16/16 [==============================] - 4s 159ms/step - loss: 1.4163 - accuracy: 0.4375 - val_loss: 1.5934 - val_accuracy: 0.4000\n",
            "Epoch 11/100\n",
            "16/16 [==============================] - 3s 147ms/step - loss: 1.3455 - accuracy: 0.4062 - val_loss: 1.5617 - val_accuracy: 0.3333\n",
            "Epoch 12/100\n",
            "16/16 [==============================] - 3s 152ms/step - loss: 1.4358 - accuracy: 0.3750 - val_loss: 1.4836 - val_accuracy: 0.3667\n"
          ]
        }
      ]
    },
    {
      "cell_type": "code",
      "source": [
        "# Let's try EfficientNetB7\n",
        "# Setup the base model\n",
        "base_model_17 = tf.keras.applications.EfficientNetB7(include_top=False)\n",
        "base_model_17.trainable = False\n",
        "\n",
        "# Setup model architecture with trainable top layers\n",
        "inputs = layers.Input(shape=(224, 224, 3), name=\"input_layer\")\n",
        "x = data_augmentation(inputs) \n",
        "x = base_model_17(x, training=False) \n",
        "x = layers.GlobalAveragePooling2D(name=\"global_avg_pool_layer\")(x)\n",
        "outputs = layers.Dense(5, activation=\"softmax\", name=\"output_layer\")(x)\n",
        "model_17= tf.keras.Model(inputs, outputs)\n",
        "\n",
        "# Compile\n",
        "model_17.compile(loss=\"categorical_crossentropy\",\n",
        "              optimizer=tf.optimizers.Adam(),\n",
        "              metrics=[\"accuracy\"])\n",
        "\n",
        "# Fit\n",
        "history_model_17 = model_17.fit(train_data,\n",
        "                               epochs=100,\n",
        "                               validation_data=test_data,\n",
        "                               validation_steps=len(test_data),\n",
        "                               callbacks=[early_stopping])"
      ],
      "metadata": {
        "colab": {
          "base_uri": "https://localhost:8080/"
        },
        "id": "pCRnXHa9t-_s",
        "outputId": "0dea82dc-ade0-4740-a0a6-99b66f09d04a"
      },
      "execution_count": null,
      "outputs": [
        {
          "output_type": "stream",
          "name": "stdout",
          "text": [
            "Epoch 1/100\n",
            "16/16 [==============================] - 30s 552ms/step - loss: 1.7732 - accuracy: 0.1562 - val_loss: 1.4850 - val_accuracy: 0.3000\n",
            "Epoch 2/100\n",
            "16/16 [==============================] - 3s 165ms/step - loss: 1.6661 - accuracy: 0.2500 - val_loss: 1.4757 - val_accuracy: 0.3000\n",
            "Epoch 3/100\n",
            "16/16 [==============================] - 3s 160ms/step - loss: 1.5987 - accuracy: 0.2812 - val_loss: 1.3148 - val_accuracy: 0.5000\n",
            "Epoch 4/100\n",
            "16/16 [==============================] - 3s 156ms/step - loss: 1.6541 - accuracy: 0.1562 - val_loss: 1.3440 - val_accuracy: 0.3667\n",
            "Epoch 5/100\n",
            "16/16 [==============================] - 3s 155ms/step - loss: 1.3910 - accuracy: 0.4062 - val_loss: 1.2044 - val_accuracy: 0.6000\n",
            "Epoch 6/100\n",
            "16/16 [==============================] - 3s 158ms/step - loss: 1.4176 - accuracy: 0.3750 - val_loss: 1.2399 - val_accuracy: 0.3667\n",
            "Epoch 7/100\n",
            "16/16 [==============================] - 3s 161ms/step - loss: 1.4583 - accuracy: 0.3438 - val_loss: 1.2183 - val_accuracy: 0.5000\n",
            "Epoch 8/100\n",
            "16/16 [==============================] - 3s 161ms/step - loss: 1.2542 - accuracy: 0.5312 - val_loss: 1.1455 - val_accuracy: 0.5000\n",
            "Epoch 9/100\n",
            "16/16 [==============================] - 3s 157ms/step - loss: 1.3143 - accuracy: 0.4062 - val_loss: 1.1503 - val_accuracy: 0.4333\n",
            "Epoch 10/100\n",
            "16/16 [==============================] - 4s 211ms/step - loss: 1.2391 - accuracy: 0.5938 - val_loss: 1.1692 - val_accuracy: 0.4667\n"
          ]
        }
      ]
    },
    {
      "cell_type": "code",
      "source": [
        "# Let's try EfficientNetV2B0\n",
        "# Setup the base model\n",
        "base_model_18 = tf.keras.applications.EfficientNetV2B0(include_top=False)\n",
        "base_model_18.trainable = False\n",
        "\n",
        "# Setup model architecture with trainable top layers\n",
        "inputs = layers.Input(shape=(224, 224, 3), name=\"input_layer\")\n",
        "x = data_augmentation(inputs) \n",
        "x = base_model_18(x, training=False) \n",
        "x = layers.GlobalAveragePooling2D(name=\"global_avg_pool_layer\")(x)\n",
        "outputs = layers.Dense(5, activation=\"softmax\", name=\"output_layer\")(x)\n",
        "model_18= tf.keras.Model(inputs, outputs)\n",
        "\n",
        "# Compile\n",
        "model_18.compile(loss=\"categorical_crossentropy\",\n",
        "              optimizer=tf.optimizers.Adam(),\n",
        "              metrics=[\"accuracy\"])\n",
        "\n",
        "# Fit\n",
        "history_model_18 = model_18.fit(train_data,\n",
        "                               epochs=100,\n",
        "                               validation_data=test_data,\n",
        "                               validation_steps=len(test_data),\n",
        "                               callbacks=[early_stopping])"
      ],
      "metadata": {
        "colab": {
          "base_uri": "https://localhost:8080/"
        },
        "id": "jcxS7hxYuq_l",
        "outputId": "02319c08-5823-4e1f-8b99-5eeaaad37b19"
      },
      "execution_count": null,
      "outputs": [
        {
          "output_type": "stream",
          "name": "stdout",
          "text": [
            "Downloading data from https://storage.googleapis.com/tensorflow/keras-applications/efficientnet_v2/efficientnetv2-b0_notop.h5\n",
            "24281088/24274472 [==============================] - 0s 0us/step\n",
            "24289280/24274472 [==============================] - 0s 0us/step\n",
            "Epoch 1/100\n",
            "16/16 [==============================] - 12s 228ms/step - loss: 1.8303 - accuracy: 0.1875 - val_loss: 1.4099 - val_accuracy: 0.5000\n",
            "Epoch 2/100\n",
            "16/16 [==============================] - 5s 243ms/step - loss: 1.5880 - accuracy: 0.2188 - val_loss: 1.3312 - val_accuracy: 0.5667\n",
            "Epoch 3/100\n",
            "16/16 [==============================] - 3s 127ms/step - loss: 1.5939 - accuracy: 0.4375 - val_loss: 1.3130 - val_accuracy: 0.5000\n",
            "Epoch 4/100\n",
            "16/16 [==============================] - 3s 143ms/step - loss: 1.5825 - accuracy: 0.3125 - val_loss: 1.2968 - val_accuracy: 0.5667\n",
            "Epoch 5/100\n",
            "16/16 [==============================] - 3s 165ms/step - loss: 1.5126 - accuracy: 0.3438 - val_loss: 1.2741 - val_accuracy: 0.4333\n",
            "Epoch 6/100\n",
            "16/16 [==============================] - 3s 166ms/step - loss: 1.4599 - accuracy: 0.4062 - val_loss: 1.3773 - val_accuracy: 0.5333\n",
            "Epoch 7/100\n",
            "16/16 [==============================] - 3s 140ms/step - loss: 1.3783 - accuracy: 0.5625 - val_loss: 1.2730 - val_accuracy: 0.5000\n"
          ]
        }
      ]
    },
    {
      "cell_type": "code",
      "source": [
        "# Let's try EfficientNetV2B2\n",
        "# Setup the base model\n",
        "base_model_19 = tf.keras.applications.EfficientNetV2B2(include_top=False)\n",
        "base_model_19.trainable = False\n",
        "\n",
        "# Setup model architecture with trainable top layers\n",
        "inputs = layers.Input(shape=(224, 224, 3), name=\"input_layer\")\n",
        "x = data_augmentation(inputs) \n",
        "x = base_model_19(x, training=False) \n",
        "x = layers.GlobalAveragePooling2D(name=\"global_avg_pool_layer\")(x)\n",
        "outputs = layers.Dense(5, activation=\"softmax\", name=\"output_layer\")(x)\n",
        "model_19= tf.keras.Model(inputs, outputs)\n",
        "\n",
        "# Compile\n",
        "model_19.compile(loss=\"categorical_crossentropy\",\n",
        "              optimizer=tf.optimizers.Adam(),\n",
        "              metrics=[\"accuracy\"])\n",
        "\n",
        "# Fit\n",
        "history_model_19 = model_19.fit(train_data,\n",
        "                               epochs=100,\n",
        "                               validation_data=test_data,\n",
        "                               validation_steps=len(test_data),\n",
        "                               callbacks=[early_stopping])"
      ],
      "metadata": {
        "colab": {
          "base_uri": "https://localhost:8080/"
        },
        "id": "a6ip9wZ9vUrm",
        "outputId": "f03bb9cf-2e5b-4c1c-8910-38f70b864f66"
      },
      "execution_count": null,
      "outputs": [
        {
          "output_type": "stream",
          "name": "stdout",
          "text": [
            "Epoch 1/100\n",
            "16/16 [==============================] - 11s 242ms/step - loss: 1.7352 - accuracy: 0.2188 - val_loss: 1.4910 - val_accuracy: 0.4000\n",
            "Epoch 2/100\n",
            "16/16 [==============================] - 3s 129ms/step - loss: 1.5872 - accuracy: 0.2500 - val_loss: 1.4509 - val_accuracy: 0.3000\n",
            "Epoch 3/100\n",
            "16/16 [==============================] - 3s 125ms/step - loss: 1.5762 - accuracy: 0.2500 - val_loss: 1.4424 - val_accuracy: 0.5000\n",
            "Epoch 4/100\n",
            "16/16 [==============================] - 3s 128ms/step - loss: 1.4869 - accuracy: 0.3438 - val_loss: 1.4873 - val_accuracy: 0.3333\n",
            "Epoch 5/100\n",
            "16/16 [==============================] - 3s 125ms/step - loss: 1.3423 - accuracy: 0.5000 - val_loss: 1.3813 - val_accuracy: 0.3333\n",
            "Epoch 6/100\n",
            "16/16 [==============================] - 3s 127ms/step - loss: 1.4389 - accuracy: 0.2812 - val_loss: 1.3221 - val_accuracy: 0.3000\n",
            "Epoch 7/100\n",
            "16/16 [==============================] - 3s 123ms/step - loss: 1.4974 - accuracy: 0.3750 - val_loss: 1.3992 - val_accuracy: 0.3000\n",
            "Epoch 8/100\n",
            "16/16 [==============================] - 3s 126ms/step - loss: 1.4227 - accuracy: 0.4062 - val_loss: 1.3000 - val_accuracy: 0.3333\n"
          ]
        }
      ]
    },
    {
      "cell_type": "code",
      "source": [
        "plot_loss_curves(history_model_19)"
      ],
      "metadata": {
        "colab": {
          "base_uri": "https://localhost:8080/",
          "height": 573
        },
        "id": "gljpw0Wcwq3d",
        "outputId": "bec01a3c-a39b-42b4-cfe0-170aca0f98ce"
      },
      "execution_count": null,
      "outputs": [
        {
          "output_type": "display_data",
          "data": {
            "text/plain": [
              "<Figure size 432x288 with 1 Axes>"
            ],
            "image/png": "[encoded data removed]"
          },
          "metadata": {
            "needs_background": "light"
          }
        },
        {
          "output_type": "display_data",
          "data": {
            "text/plain": [
              "<Figure size 432x288 with 1 Axes>"
            ],
            "image/png": "[encoded data removed]"
          },
          "metadata": {
            "needs_background": "light"
          }
        }
      ]
    },
    {
      "cell_type": "code",
      "source": [
        "# Let's try EfficientNetBV2B0\n",
        "# Setup the base model\n",
        "base_model_20 = tf.keras.applications.EfficientNetV2S(include_top=False)\n",
        "base_model_20.trainable = False\n",
        "\n",
        "# Setup model architecture with trainable top layers\n",
        "inputs = layers.Input(shape=(224, 224, 3), name=\"input_layer\")\n",
        "x = data_augmentation(inputs) \n",
        "x = base_model_20(x, training=False) \n",
        "x = layers.GlobalAveragePooling2D(name=\"global_avg_pool_layer\")(x)\n",
        "outputs = layers.Dense(5, activation=\"softmax\", name=\"output_layer\")(x)\n",
        "model_20 = tf.keras.Model(inputs, outputs)\n",
        "\n",
        "# Compile\n",
        "model_20.compile(loss=\"categorical_crossentropy\",\n",
        "              optimizer=tf.optimizers.Adam(),\n",
        "              metrics=[\"accuracy\"])\n",
        "\n",
        "# Fit\n",
        "history_model_20 = model_20.fit(train_data,\n",
        "                               epochs=100,\n",
        "                               validation_data=test_data,\n",
        "                               validation_steps=len(test_data),\n",
        "                               callbacks=[early_stopping])"
      ],
      "metadata": {
        "colab": {
          "base_uri": "https://localhost:8080/"
        },
        "id": "FNpYOAK1wWRL",
        "outputId": "d1eeb981-7db7-4201-f9e3-447dac5cdb64"
      },
      "execution_count": null,
      "outputs": [
        {
          "output_type": "stream",
          "name": "stdout",
          "text": [
            "Downloading data from https://storage.googleapis.com/tensorflow/keras-applications/efficientnet_v2/efficientnetv2-s_notop.h5\n",
            "82427904/82420632 [==============================] - 2s 0us/step\n",
            "82436096/82420632 [==============================] - 2s 0us/step\n",
            "Epoch 1/100\n",
            "16/16 [==============================] - 22s 363ms/step - loss: 1.8107 - accuracy: 0.1875 - val_loss: 1.6124 - val_accuracy: 0.3667\n",
            "Epoch 2/100\n",
            "16/16 [==============================] - 5s 249ms/step - loss: 1.6589 - accuracy: 0.3125 - val_loss: 1.6432 - val_accuracy: 0.2667\n",
            "Epoch 3/100\n",
            "16/16 [==============================] - 3s 139ms/step - loss: 1.6698 - accuracy: 0.1875 - val_loss: 1.5936 - val_accuracy: 0.2333\n",
            "Epoch 4/100\n",
            "16/16 [==============================] - 3s 141ms/step - loss: 1.6189 - accuracy: 0.3438 - val_loss: 1.5413 - val_accuracy: 0.5000\n",
            "Epoch 5/100\n",
            "16/16 [==============================] - 3s 134ms/step - loss: 1.4991 - accuracy: 0.3125 - val_loss: 1.5525 - val_accuracy: 0.4667\n",
            "Epoch 6/100\n",
            "16/16 [==============================] - 3s 136ms/step - loss: 1.4966 - accuracy: 0.4375 - val_loss: 1.4858 - val_accuracy: 0.4667\n",
            "Epoch 7/100\n",
            "16/16 [==============================] - 3s 136ms/step - loss: 1.5043 - accuracy: 0.3125 - val_loss: 1.4512 - val_accuracy: 0.4667\n",
            "Epoch 8/100\n",
            "16/16 [==============================] - 3s 134ms/step - loss: 1.4014 - accuracy: 0.4688 - val_loss: 1.5700 - val_accuracy: 0.2000\n",
            "Epoch 9/100\n",
            "16/16 [==============================] - 3s 137ms/step - loss: 1.4525 - accuracy: 0.4375 - val_loss: 1.4569 - val_accuracy: 0.3333\n"
          ]
        }
      ]
    },
    {
      "cell_type": "code",
      "source": [
        "# Let's try EfficientNetBV2M\n",
        "# Setup the base model\n",
        "base_model_21 = tf.keras.applications.EfficientNetV2M(include_top=False)\n",
        "base_model_21.trainable = False\n",
        "\n",
        "# Setup model architecture with trainable top layers\n",
        "inputs = layers.Input(shape=(224, 224, 3), name=\"input_layer\")\n",
        "x = data_augmentation(inputs) \n",
        "x = base_model_21(x, training=False) \n",
        "x = layers.GlobalAveragePooling2D(name=\"global_avg_pool_layer\")(x)\n",
        "outputs = layers.Dense(5, activation=\"softmax\", name=\"output_layer\")(x)\n",
        "model_21 = tf.keras.Model(inputs, outputs)\n",
        "\n",
        "# Compile\n",
        "model_21.compile(loss=\"categorical_crossentropy\",\n",
        "              optimizer=tf.optimizers.Adam(),\n",
        "              metrics=[\"accuracy\"])\n",
        "\n",
        "# Fit\n",
        "history_model_21 = model_21.fit(train_data,\n",
        "                               epochs=100,\n",
        "                               validation_data=test_data,\n",
        "                               validation_steps=len(test_data),\n",
        "                               callbacks=[early_stopping])"
      ],
      "metadata": {
        "colab": {
          "base_uri": "https://localhost:8080/"
        },
        "id": "Tz4dg_OAxBcT",
        "outputId": "cb97abc8-3101-42e3-a969-45aee4d38476"
      },
      "execution_count": null,
      "outputs": [
        {
          "output_type": "stream",
          "name": "stdout",
          "text": [
            "Downloading data from https://storage.googleapis.com/tensorflow/keras-applications/efficientnet_v2/efficientnetv2-m_notop.h5\n",
            "214204416/214201816 [==============================] - 3s 0us/step\n",
            "214212608/214201816 [==============================] - 3s 0us/step\n",
            "Epoch 1/100\n",
            "16/16 [==============================] - 23s 387ms/step - loss: 1.8006 - accuracy: 0.1562 - val_loss: 1.6851 - val_accuracy: 0.1000\n",
            "Epoch 2/100\n",
            "16/16 [==============================] - 3s 170ms/step - loss: 1.5448 - accuracy: 0.2812 - val_loss: 1.5974 - val_accuracy: 0.3000\n",
            "Epoch 3/100\n",
            "16/16 [==============================] - 3s 157ms/step - loss: 1.5581 - accuracy: 0.3438 - val_loss: 1.5122 - val_accuracy: 0.3333\n",
            "Epoch 4/100\n",
            "16/16 [==============================] - 3s 149ms/step - loss: 1.5200 - accuracy: 0.3125 - val_loss: 1.5482 - val_accuracy: 0.4667\n",
            "Epoch 5/100\n",
            "16/16 [==============================] - 3s 151ms/step - loss: 1.5782 - accuracy: 0.2500 - val_loss: 1.4936 - val_accuracy: 0.4667\n",
            "Epoch 6/100\n",
            "16/16 [==============================] - 3s 148ms/step - loss: 1.5388 - accuracy: 0.3438 - val_loss: 1.4393 - val_accuracy: 0.4667\n",
            "Epoch 7/100\n",
            "16/16 [==============================] - 3s 150ms/step - loss: 1.4654 - accuracy: 0.3438 - val_loss: 1.4866 - val_accuracy: 0.5667\n",
            "Epoch 8/100\n",
            "16/16 [==============================] - 3s 153ms/step - loss: 1.4098 - accuracy: 0.3438 - val_loss: 1.5204 - val_accuracy: 0.4000\n",
            "Epoch 9/100\n",
            "16/16 [==============================] - 3s 147ms/step - loss: 1.4420 - accuracy: 0.4688 - val_loss: 1.5134 - val_accuracy: 0.4333\n",
            "Epoch 10/100\n",
            "16/16 [==============================] - 3s 156ms/step - loss: 1.4234 - accuracy: 0.3750 - val_loss: 1.4658 - val_accuracy: 0.4333\n",
            "Epoch 11/100\n",
            "16/16 [==============================] - 4s 208ms/step - loss: 1.4236 - accuracy: 0.5000 - val_loss: 1.4259 - val_accuracy: 0.4333\n",
            "Epoch 12/100\n",
            "16/16 [==============================] - 3s 154ms/step - loss: 1.2950 - accuracy: 0.5312 - val_loss: 1.3851 - val_accuracy: 0.3667\n"
          ]
        }
      ]
    },
    {
      "cell_type": "code",
      "source": [
        "# Let's try EfficientNetBV2M\n",
        "# Setup the base model\n",
        "base_model_21 = tf.keras.applications.EfficientNetB2(include_top=False)\n",
        "base_model_21.trainable = False\n",
        "\n",
        "# Setup model architecture with trainable top layers\n",
        "inputs = layers.Input(shape=(224, 224, 3), name=\"input_layer\")\n",
        "x = data_augmentation(inputs) \n",
        "x = base_model_21(x, training=False) \n",
        "x = layers.GlobalAveragePooling2D(name=\"global_avg_pool_layer\")(x)\n",
        "outputs = layers.Dense(5, activation=\"softmax\", name=\"output_layer\")(x)\n",
        "model_21 = tf.keras.Model(inputs, outputs)\n",
        "\n",
        "# Compile\n",
        "model_21.compile(loss=\"categorical_crossentropy\",\n",
        "              optimizer=tf.optimizers.Adam(),\n",
        "              metrics=[\"accuracy\"])\n",
        "\n",
        "# Fit\n",
        "history_model_21 = model_21.fit(train_data,\n",
        "                               epochs=100,\n",
        "                               validation_data=test_data,\n",
        "                               validation_steps=len(test_data),\n",
        "                               callbacks=[early_stopping])"
      ],
      "metadata": {
        "id": "4pLYBmCQxyb-",
        "colab": {
          "base_uri": "https://localhost:8080/",
          "height": 235
        },
        "outputId": "f991b171-742a-4591-be0d-526ca3bb04e0"
      },
      "execution_count": null,
      "outputs": [
        {
          "output_type": "error",
          "ename": "NameError",
          "evalue": "ignored",
          "traceback": [
            "\u001b[0;31m---------------------------------------------------------------------------\u001b[0m",
            "\u001b[0;31mNameError\u001b[0m                                 Traceback (most recent call last)",
            "\u001b[0;32m<ipython-input-2-b431e60c6410>\u001b[0m in \u001b[0;36m<module>\u001b[0;34m\u001b[0m\n\u001b[1;32m      1\u001b[0m \u001b[0;31m# Let's try EfficientNetBV2M\u001b[0m\u001b[0;34m\u001b[0m\u001b[0;34m\u001b[0m\u001b[0;34m\u001b[0m\u001b[0m\n\u001b[1;32m      2\u001b[0m \u001b[0;31m# Setup the base model\u001b[0m\u001b[0;34m\u001b[0m\u001b[0;34m\u001b[0m\u001b[0;34m\u001b[0m\u001b[0m\n\u001b[0;32m----> 3\u001b[0;31m \u001b[0mbase_model_21\u001b[0m \u001b[0;34m=\u001b[0m \u001b[0mtf\u001b[0m\u001b[0;34m.\u001b[0m\u001b[0mkeras\u001b[0m\u001b[0;34m.\u001b[0m\u001b[0mapplications\u001b[0m\u001b[0;34m.\u001b[0m\u001b[0mEfficientNetB2\u001b[0m\u001b[0;34m(\u001b[0m\u001b[0minclude_top\u001b[0m\u001b[0;34m=\u001b[0m\u001b[0;32mFalse\u001b[0m\u001b[0;34m)\u001b[0m\u001b[0;34m\u001b[0m\u001b[0;34m\u001b[0m\u001b[0m\n\u001b[0m\u001b[1;32m      4\u001b[0m \u001b[0mbase_model_21\u001b[0m\u001b[0;34m.\u001b[0m\u001b[0mtrainable\u001b[0m \u001b[0;34m=\u001b[0m \u001b[0;32mFalse\u001b[0m\u001b[0;34m\u001b[0m\u001b[0;34m\u001b[0m\u001b[0m\n\u001b[1;32m      5\u001b[0m \u001b[0;34m\u001b[0m\u001b[0m\n",
            "\u001b[0;31mNameError\u001b[0m: name 'tf' is not defined"
          ]
        }
      ]
    },
    {
      "cell_type": "code",
      "source": [
        "# Create a confusion metrics\n",
        "\n",
        "import itertools\n",
        "from sklearn.metrics import confusion_matrix\n",
        "\n",
        "\n",
        "def make_confusion_matrix(y_true, y_pred, classes=None, figsize=(10, 10), text_size=15):\n",
        "\n",
        "\n",
        "  # Create the confusion matrix\n",
        "  cm = confusion_matrix(y_true, y_preds)\n",
        "  cm_norm = cm.astype(\"float\") / cm.sum(axis=1)[:, np.newaxis] # normalize it\n",
        "  n_classes = cm.shape[0]\n",
        "\n",
        "  # Let's prettify it\n",
        "  fig, ax = plt.subplots(figsize=figsize)\n",
        "  # Create a matrix plot\n",
        "  cax = ax.matshow(cm, cmap=plt.cm.Blues) # https://matplotlib.org/3.2.0/api/_as_gen/matplotlib.axes.Axes.matshow.html\n",
        "  fig.colorbar(cax)\n",
        "\n",
        "\n",
        "  # Set labels to be claseses\n",
        "  if classes:\n",
        "    labels = classes\n",
        "  else:\n",
        "    labels = np.arange(cm.shape[0])\n",
        "\n",
        "  # Label the axes\n",
        "  ax.set(title=\"Confusion Matrix\",\n",
        "        xlabel=\"Predicted label\",\n",
        "        ylabel=\"True label\",\n",
        "        xticks=np.arange(n_classes),\n",
        "        yticks=np.arange(n_classes),\n",
        "        xticklabels=labels,\n",
        "        yticklabels=labels)\n",
        "\n",
        "  # Set x-axis labels to bottom\n",
        "  ax.xaxis.set_label_position(\"bottom\")\n",
        "  ax.xaxis.tick_bottom()\n",
        "\n",
        "  # Adjust label size\n",
        "  ax.xaxis.label.set_size(text_size)\n",
        "  ax.yaxis.label.set_size(text_size)\n",
        "  ax.title.set_size(text_size)\n",
        "\n",
        "  # Set threshold for different colors\n",
        "  threshold = (cm.max() + cm.min()) / 2.\n",
        "\n",
        "  # Plot the text on each cell\n",
        "  for i, j in itertools.product(range(cm.shape[0]), range(cm.shape[1])):\n",
        "    plt.text(j, i, f\"{cm[i, j]} ({cm_norm[i, j]*100:.1f}%)\",\n",
        "            horizontalalignment=\"center\",\n",
        "            color=\"white\" if cm[i, j] > threshold else \"black\",\n",
        "            size=text_size)"
      ],
      "metadata": {
        "id": "1-C86gzvA6L6"
      },
      "execution_count": null,
      "outputs": []
    },
    {
      "cell_type": "code",
      "source": [
        "# Making predictions with our best model so far\n",
        "y_probs = model_13.predict(test_data_3)\n",
        "\n",
        "# View the first predcitons\n",
        "y_probs[:5]"
      ],
      "metadata": {
        "colab": {
          "base_uri": "https://localhost:8080/"
        },
        "id": "Nx6qeoMBBFom",
        "outputId": "3694a428-5bd3-410a-bd4e-86e615145395"
      },
      "execution_count": null,
      "outputs": [
        {
          "output_type": "execute_result",
          "data": {
            "text/plain": [
              "array([[0.45193326, 0.02637339, 0.23705901, 0.07305195, 0.21158236],\n",
              "       [0.44107455, 0.02100682, 0.3291979 , 0.05538219, 0.15333857],\n",
              "       [0.401341  , 0.02768664, 0.3127657 , 0.07079381, 0.18741284],\n",
              "       [0.51122373, 0.01655554, 0.2772519 , 0.06432562, 0.13064322],\n",
              "       [0.37590486, 0.03001668, 0.28740022, 0.08821023, 0.21846795]],\n",
              "      dtype=float32)"
            ]
          },
          "metadata": {},
          "execution_count": 16
        }
      ]
    },
    {
      "cell_type": "code",
      "source": [
        "tf.argmax(y_probs[0])"
      ],
      "metadata": {
        "colab": {
          "base_uri": "https://localhost:8080/"
        },
        "id": "HJ8l7p5HC4bt",
        "outputId": "be5e8c9f-bfb7-4fb7-8bb7-2642634b51d1"
      },
      "execution_count": null,
      "outputs": [
        {
          "output_type": "execute_result",
          "data": {
            "text/plain": [
              "<tf.Tensor: shape=(), dtype=int64, numpy=0>"
            ]
          },
          "metadata": {},
          "execution_count": 24
        }
      ]
    },
    {
      "cell_type": "code",
      "source": [
        "model_13.evaluate(test_data)\n"
      ],
      "metadata": {
        "colab": {
          "base_uri": "https://localhost:8080/"
        },
        "id": "CouARrQYDq0v",
        "outputId": "61d3cc65-f55a-4b33-95d0-85be1d3fa533"
      },
      "execution_count": null,
      "outputs": [
        {
          "output_type": "stream",
          "name": "stdout",
          "text": [
            "15/15 [==============================] - 4s 231ms/step - loss: 1.1926 - accuracy: 0.6000\n"
          ]
        },
        {
          "output_type": "execute_result",
          "data": {
            "text/plain": [
              "[1.1926295757293701, 0.6000000238418579]"
            ]
          },
          "metadata": {},
          "execution_count": 21
        }
      ]
    },
    {
      "cell_type": "code",
      "source": [
        "y_preds = y_probs.argmax(axis=1)"
      ],
      "metadata": {
        "id": "MbRvepthDuXS"
      },
      "execution_count": null,
      "outputs": []
    },
    {
      "cell_type": "code",
      "source": [
        "y_preds"
      ],
      "metadata": {
        "colab": {
          "base_uri": "https://localhost:8080/"
        },
        "id": "2rgbXFxQFKfi",
        "outputId": "aa3c4588-3ad3-4762-dc9c-35499d4b73c4"
      },
      "execution_count": null,
      "outputs": [
        {
          "output_type": "execute_result",
          "data": {
            "text/plain": [
              "array([0, 2, 0, 0, 0, 4, 0, 1, 4, 4, 3, 3, 3, 3, 3, 3, 3, 3, 3, 0, 1, 4,\n",
              "       0, 0, 4, 0, 3, 4, 4, 4])"
            ]
          },
          "metadata": {},
          "execution_count": 38
        }
      ]
    },
    {
      "cell_type": "code",
      "source": [
        "test_data.class_names"
      ],
      "metadata": {
        "colab": {
          "base_uri": "https://localhost:8080/"
        },
        "id": "nLeJs1oyEwzw",
        "outputId": "c089df1a-3a20-43cf-97e8-37b692294b9c"
      },
      "execution_count": null,
      "outputs": [
        {
          "output_type": "execute_result",
          "data": {
            "text/plain": [
              "['annular', 'plug', 'slug', 'stratified', 'wavy']"
            ]
          },
          "metadata": {},
          "execution_count": 39
        }
      ]
    },
    {
      "cell_type": "code",
      "source": [
        "# unbatching test data batch to get y_labels\n",
        "y_labels = []\n",
        "for images, labels in test_data.unbatch():\n",
        "  y_labels.append(labels.numpy().argmax())\n",
        "y_labels"
      ],
      "metadata": {
        "colab": {
          "base_uri": "https://localhost:8080/"
        },
        "id": "BWGVBW0kF40o",
        "outputId": "8fcbcaa0-ed52-4265-837f-0d57a19eeab6"
      },
      "execution_count": null,
      "outputs": [
        {
          "output_type": "execute_result",
          "data": {
            "text/plain": [
              "[0,\n",
              " 0,\n",
              " 0,\n",
              " 0,\n",
              " 0,\n",
              " 0,\n",
              " 0,\n",
              " 1,\n",
              " 2,\n",
              " 2,\n",
              " 3,\n",
              " 3,\n",
              " 3,\n",
              " 3,\n",
              " 3,\n",
              " 3,\n",
              " 3,\n",
              " 3,\n",
              " 3,\n",
              " 4,\n",
              " 4,\n",
              " 4,\n",
              " 4,\n",
              " 4,\n",
              " 4,\n",
              " 4,\n",
              " 4,\n",
              " 4,\n",
              " 4,\n",
              " 4]"
            ]
          },
          "metadata": {},
          "execution_count": 40
        }
      ]
    },
    {
      "cell_type": "code",
      "source": [
        "from sklearn.metrics import confusion_matrix\n",
        "confusion_matrix(y_true=y_labels,\n",
        "                 y_pred=y_preds)"
      ],
      "metadata": {
        "colab": {
          "base_uri": "https://localhost:8080/"
        },
        "id": "p5T4qp5oEuwH",
        "outputId": "c744907d-ad30-4929-c063-49c6451871a5"
      },
      "execution_count": null,
      "outputs": [
        {
          "output_type": "execute_result",
          "data": {
            "text/plain": [
              "array([[7, 0, 0, 0, 0],\n",
              "       [0, 0, 0, 1, 0],\n",
              "       [0, 0, 2, 0, 0],\n",
              "       [1, 0, 0, 8, 0],\n",
              "       [7, 0, 0, 1, 3]])"
            ]
          },
          "metadata": {},
          "execution_count": 26
        }
      ]
    },
    {
      "cell_type": "code",
      "source": [
        "# make a good confusion matrix\n",
        "make_confusion_matrix(y_true=y_labels,\n",
        "                      y_pred=y_preds,\n",
        "                      classes=class_names,\n",
        "                      figsize=(15, 15),\n",
        "                      text_size=10)"
      ],
      "metadata": {
        "id": "gVM3RO1iGWJ_"
      },
      "execution_count": null,
      "outputs": []
    },
    {
      "cell_type": "markdown",
      "source": [
        "# Working with Dataset_2"
      ],
      "metadata": {
        "id": "nN-fbba9un5D"
      }
    },
    {
      "cell_type": "code",
      "source": [
        "# Extacting data \n",
        "import numpy as np\n",
        "import zipfile\n",
        "\n",
        "# Unzip the downloaded file\n",
        "zip_ref = zipfile.ZipFile(\"/content/drive/MyDrive/Multiphase_project/dataset_2.zip\")\n",
        "zip_ref.extractall()\n",
        "zip_ref.close()"
      ],
      "metadata": {
        "id": "rtEuHvUOumxT"
      },
      "execution_count": null,
      "outputs": []
    },
    {
      "cell_type": "code",
      "source": [
        "# How many images in each folder?\n",
        "import os\n",
        "\n",
        "# Walk through 10 percent data directory and list number of files\n",
        "for dirpath, dirnames, filenames in os.walk(\"dataset_2\"):\n",
        "  print(f\"There are {len(dirnames)} directories and {len(filenames)} images in '{dirpath}'.\")"
      ],
      "metadata": {
        "colab": {
          "base_uri": "https://localhost:8080/"
        },
        "id": "tdH1H1LXvGZx",
        "outputId": "2611638e-5e12-4a97-9fc5-f0e35a59414c"
      },
      "execution_count": null,
      "outputs": [
        {
          "output_type": "stream",
          "name": "stdout",
          "text": [
            "There are 2 directories and 0 images in 'dataset_2'.\n",
            "There are 5 directories and 0 images in 'dataset_2/train'.\n",
            "There are 0 directories and 5 images in 'dataset_2/train/plug'.\n",
            "There are 0 directories and 7 images in 'dataset_2/train/wavy'.\n",
            "There are 0 directories and 6 images in 'dataset_2/train/slug'.\n",
            "There are 0 directories and 7 images in 'dataset_2/train/annular'.\n",
            "There are 0 directories and 7 images in 'dataset_2/train/stratified'.\n",
            "There are 5 directories and 0 images in 'dataset_2/test'.\n",
            "There are 0 directories and 1 images in 'dataset_2/test/plug'.\n",
            "There are 0 directories and 11 images in 'dataset_2/test/wavy'.\n",
            "There are 0 directories and 2 images in 'dataset_2/test/slug'.\n",
            "There are 0 directories and 7 images in 'dataset_2/test/annular'.\n",
            "There are 0 directories and 9 images in 'dataset_2/test/stratified'.\n"
          ]
        }
      ]
    },
    {
      "cell_type": "code",
      "source": [
        "# Create training and test directory paths\n",
        "train_dir_2 = \"dataset_2/train\"\n",
        "test_dir_2 = \"dataset_2/test\""
      ],
      "metadata": {
        "id": "sN-jb03YvL9j"
      },
      "execution_count": null,
      "outputs": []
    },
    {
      "cell_type": "code",
      "source": [
        "# Setup data inputs\n",
        "import tensorflow as tf\n",
        "IMG_SIZE = (224, 224)\n",
        "train_data_4 = tf.keras.utils.image_dataset_from_directory(train_dir_2,\n",
        "                                                         label_mode=\"categorical\",\n",
        "                                                        image_size=IMG_SIZE,\n",
        "                                                         batch_size=2)\n",
        "test_data_4 = tf.keras.utils.image_dataset_from_directory(test_dir_2,\n",
        "                                                        label_mode=\"categorical\",\n",
        "                                                        image_size=IMG_SIZE,\n",
        "                                                        shuffle=False,\n",
        "                                                        batch_size=2)"
      ],
      "metadata": {
        "colab": {
          "base_uri": "https://localhost:8080/"
        },
        "id": "JjHQ4WPtvWYJ",
        "outputId": "8bd5d3d1-adec-4c09-f09b-ac10fd844758"
      },
      "execution_count": null,
      "outputs": [
        {
          "output_type": "stream",
          "name": "stdout",
          "text": [
            "Found 32 files belonging to 5 classes.\n",
            "Found 30 files belonging to 5 classes.\n"
          ]
        }
      ]
    },
    {
      "cell_type": "code",
      "source": [
        "class_names = test_data_4.class_names\n",
        "class_names"
      ],
      "metadata": {
        "colab": {
          "base_uri": "https://localhost:8080/"
        },
        "id": "mgiDVFo7vpdY",
        "outputId": "faa92d21-b80d-46d6-db84-376fdbd3a66c"
      },
      "execution_count": null,
      "outputs": [
        {
          "output_type": "execute_result",
          "data": {
            "text/plain": [
              "['annular', 'plug', 'slug', 'stratified', 'wavy']"
            ]
          },
          "metadata": {},
          "execution_count": 6
        }
      ]
    },
    {
      "cell_type": "code",
      "source": [
        "# Let's try EfficientNetB2\n",
        "# Setup the base model\n",
        "base_model_22 = tf.keras.applications.EfficientNetB2(include_top=False)\n",
        "base_model_22.trainable = False\n",
        "\n",
        "# Setup model architecture with trainable top layers\n",
        "inputs = layers.Input(shape=(224, 224, 3), name=\"input_layer\")\n",
        "x = data_augmentation(inputs) \n",
        "x = base_model_22(x, training=False) \n",
        "x = layers.GlobalAveragePooling2D(name=\"global_max_pool_layer\")(x)\n",
        "outputs = layers.Dense(5, activation=\"softmax\", name=\"output_layer\")(x)\n",
        "model_22 = tf.keras.Model(inputs, outputs)\n",
        "\n",
        "# Compile\n",
        "model_22.compile(loss=\"categorical_crossentropy\",\n",
        "              optimizer=tf.optimizers.Adam(),\n",
        "              metrics=[\"accuracy\"])\n",
        "\n",
        "# Fit\n",
        "history_model_22 = model_22.fit(train_data_4,\n",
        "                               epochs=100,\n",
        "                               validation_data=test_data_4,\n",
        "                               validation_steps=len(test_data_4),\n",
        "                               callbacks=[early_stopping])"
      ],
      "metadata": {
        "colab": {
          "base_uri": "https://localhost:8080/",
          "height": 235
        },
        "id": "P5PxKTOkv-uK",
        "outputId": "9e02a8f8-b7af-4291-821f-2daca3584c11"
      },
      "execution_count": null,
      "outputs": [
        {
          "output_type": "stream",
          "name": "stdout",
          "text": [
            "Downloading data from https://storage.googleapis.com/keras-applications/efficientnetb2_notop.h5\n",
            "31790344/31790344 [==============================] - 2s 0us/step\n"
          ]
        },
        {
          "output_type": "error",
          "ename": "NameError",
          "evalue": "ignored",
          "traceback": [
            "\u001b[0;31m---------------------------------------------------------------------------\u001b[0m",
            "\u001b[0;31mNameError\u001b[0m                                 Traceback (most recent call last)",
            "\u001b[0;32m<ipython-input-9-c3e2e0464c7e>\u001b[0m in \u001b[0;36m<module>\u001b[0;34m\u001b[0m\n\u001b[1;32m     22\u001b[0m                                \u001b[0mvalidation_data\u001b[0m\u001b[0;34m=\u001b[0m\u001b[0mtest_data_4\u001b[0m\u001b[0;34m,\u001b[0m\u001b[0;34m\u001b[0m\u001b[0;34m\u001b[0m\u001b[0m\n\u001b[1;32m     23\u001b[0m                                \u001b[0mvalidation_steps\u001b[0m\u001b[0;34m=\u001b[0m\u001b[0mlen\u001b[0m\u001b[0;34m(\u001b[0m\u001b[0mtest_data_4\u001b[0m\u001b[0;34m)\u001b[0m\u001b[0;34m,\u001b[0m\u001b[0;34m\u001b[0m\u001b[0;34m\u001b[0m\u001b[0m\n\u001b[0;32m---> 24\u001b[0;31m                                callbacks=[early_stopping])\n\u001b[0m",
            "\u001b[0;31mNameError\u001b[0m: name 'early_stopping' is not defined"
          ]
        }
      ]
    },
    {
      "cell_type": "code",
      "source": [
        "len(base_model_22.layers)"
      ],
      "metadata": {
        "id": "JJmeDUB9IRo_",
        "outputId": "f3006ab5-32c8-4348-e4ab-07d796bd0a6c",
        "colab": {
          "base_uri": "https://localhost:8080/"
        }
      },
      "execution_count": null,
      "outputs": [
        {
          "output_type": "execute_result",
          "data": {
            "text/plain": [
              "340"
            ]
          },
          "metadata": {},
          "execution_count": 10
        }
      ]
    },
    {
      "cell_type": "code",
      "source": [
        "plot_loss_curves(history_model_22)"
      ],
      "metadata": {
        "colab": {
          "base_uri": "https://localhost:8080/",
          "height": 573
        },
        "id": "KBWp2pT2ygUF",
        "outputId": "d3107a0b-8158-4ee1-97c7-9ace8a102fb1"
      },
      "execution_count": null,
      "outputs": [
        {
          "output_type": "display_data",
          "data": {
            "text/plain": [
              "<Figure size 432x288 with 1 Axes>"
            ],
            "image/png": "[encoded data removed]"
          },
          "metadata": {
            "needs_background": "light"
          }
        },
        {
          "output_type": "display_data",
          "data": {
            "text/plain": [
              "<Figure size 432x288 with 1 Axes>"
            ],
            "image/png": "[encoded data removed]"
          },
          "metadata": {
            "needs_background": "light"
          }
        }
      ]
    },
    {
      "cell_type": "code",
      "source": [
        "# Making predictions with our best model so far\n",
        "y_probs = model_22.predict(test_data_4)\n",
        "\n",
        "# View the first predcitons\n",
        "y_probs[:5]"
      ],
      "metadata": {
        "colab": {
          "base_uri": "https://localhost:8080/"
        },
        "id": "QHlgvei-xhjR",
        "outputId": "6ee0c357-a96e-4a76-812b-5cfd2dbc5451"
      },
      "execution_count": null,
      "outputs": [
        {
          "output_type": "stream",
          "name": "stdout",
          "text": [
            "15/15 [==============================] - 3s 68ms/step\n"
          ]
        },
        {
          "output_type": "execute_result",
          "data": {
            "text/plain": [
              "array([[0.55097055, 0.03605708, 0.29712778, 0.02749828, 0.08834627],\n",
              "       [0.4206876 , 0.07160608, 0.35409632, 0.06055452, 0.09305552],\n",
              "       [0.7787298 , 0.01910351, 0.07269541, 0.02782878, 0.10164251],\n",
              "       [0.7753058 , 0.038885  , 0.03750704, 0.04856483, 0.09973735],\n",
              "       [0.75114924, 0.0240957 , 0.07587419, 0.03467828, 0.11420252]],\n",
              "      dtype=float32)"
            ]
          },
          "metadata": {},
          "execution_count": 14
        }
      ]
    },
    {
      "cell_type": "code",
      "source": [
        "y_preds = y_probs.argmax(axis=1)\n",
        "y_preds"
      ],
      "metadata": {
        "id": "ZHXcDv_nxt8I",
        "colab": {
          "base_uri": "https://localhost:8080/"
        },
        "outputId": "0c5fe92f-bab1-46be-965f-bfd3e454ae60"
      },
      "execution_count": null,
      "outputs": [
        {
          "output_type": "execute_result",
          "data": {
            "text/plain": [
              "array([0, 0, 0, 0, 0, 0, 0, 1, 2, 2, 3, 3, 3, 3, 3, 3, 3, 3, 3, 0, 1, 0,\n",
              "       0, 0, 4, 0, 3, 0, 0, 4])"
            ]
          },
          "metadata": {},
          "execution_count": 15
        }
      ]
    },
    {
      "cell_type": "code",
      "source": [
        "# unbatching test data batch to get y_labels\n",
        "y_labels = []\n",
        "for images, labels in test_data_4.unbatch():\n",
        "  y_labels.append(labels.numpy().argmax())\n",
        "y_labels"
      ],
      "metadata": {
        "colab": {
          "base_uri": "https://localhost:8080/"
        },
        "id": "01UJE5zRx1yO",
        "outputId": "6823d216-cfe3-407a-c353-a46fefc7b53b"
      },
      "execution_count": null,
      "outputs": [
        {
          "output_type": "execute_result",
          "data": {
            "text/plain": [
              "[0,\n",
              " 0,\n",
              " 0,\n",
              " 0,\n",
              " 0,\n",
              " 0,\n",
              " 0,\n",
              " 1,\n",
              " 2,\n",
              " 2,\n",
              " 3,\n",
              " 3,\n",
              " 3,\n",
              " 3,\n",
              " 3,\n",
              " 3,\n",
              " 3,\n",
              " 3,\n",
              " 3,\n",
              " 4,\n",
              " 4,\n",
              " 4,\n",
              " 4,\n",
              " 4,\n",
              " 4,\n",
              " 4,\n",
              " 4,\n",
              " 4,\n",
              " 4,\n",
              " 4]"
            ]
          },
          "metadata": {},
          "execution_count": 16
        }
      ]
    },
    {
      "cell_type": "code",
      "source": [
        "from sklearn.metrics import confusion_matrix\n",
        "confusion_matrix(y_true=y_labels,\n",
        "                 y_pred=y_preds)"
      ],
      "metadata": {
        "colab": {
          "base_uri": "https://localhost:8080/"
        },
        "id": "7HKzUWnzx-sI",
        "outputId": "eb0f0a57-2e87-4aa2-c569-8400a75572c0"
      },
      "execution_count": null,
      "outputs": [
        {
          "output_type": "execute_result",
          "data": {
            "text/plain": [
              "array([[7, 0, 0, 0, 0],\n",
              "       [0, 1, 0, 0, 0],\n",
              "       [0, 0, 2, 0, 0],\n",
              "       [0, 0, 0, 9, 0],\n",
              "       [7, 1, 0, 1, 2]])"
            ]
          },
          "metadata": {},
          "execution_count": 17
        }
      ]
    },
    {
      "cell_type": "code",
      "source": [
        "# make a good confusion matrix\n",
        "make_confusion_matrix(y_true=y_labels,\n",
        "                      y_pred=y_preds,\n",
        "                      classes=class_names,\n",
        "                      figsize=(15, 15),\n",
        "                      text_size=10)"
      ],
      "metadata": {
        "colab": {
          "base_uri": "https://localhost:8080/",
          "height": 856
        },
        "id": "Uu3sIAP4x_Kx",
        "outputId": "a8779da1-84fa-4e91-e6aa-42241ffd9aa3"
      },
      "execution_count": null,
      "outputs": [
        {
          "output_type": "display_data",
          "data": {
            "text/plain": [
              "<Figure size 1080x1080 with 2 Axes>"
            ],
            "image/png": "[encoded data removed]"
          },
          "metadata": {
            "needs_background": "light"
          }
        }
      ]
    },
    {
      "cell_type": "code",
      "source": [
        "# Get all of the image file paths in the test dataset\n",
        "filepaths = []\n",
        "for filepath in test_data_4.list_files(\"/content/dataset_2/test/*/*.png\",\n",
        "                                      shuffle=False):\n",
        "  filepaths.append(filepath.numpy())\n",
        "filepaths[:10]\n"
      ],
      "metadata": {
        "colab": {
          "base_uri": "https://localhost:8080/"
        },
        "id": "viLleGvNDonS",
        "outputId": "4691ce43-8410-42b1-afd8-224280f7afa9"
      },
      "execution_count": null,
      "outputs": [
        {
          "output_type": "execute_result",
          "data": {
            "text/plain": [
              "[b'/content/dataset_2/test/annular/17.png',\n",
              " b'/content/dataset_2/test/annular/20.png',\n",
              " b'/content/dataset_2/test/annular/21.png',\n",
              " b'/content/dataset_2/test/annular/22.png',\n",
              " b'/content/dataset_2/test/annular/51.png',\n",
              " b'/content/dataset_2/test/annular/56.png',\n",
              " b'/content/dataset_2/test/annular/7.png',\n",
              " b'/content/dataset_2/test/plug/29b.png',\n",
              " b'/content/dataset_2/test/slug/14.png',\n",
              " b'/content/dataset_2/test/slug/15.png']"
            ]
          },
          "metadata": {},
          "execution_count": 23
        }
      ]
    },
    {
      "cell_type": "code",
      "source": [
        "#Find out in our DataFrame which predictions are wrong\n",
        "pred_df[\"pred_correct\"] = pred_df[\"y_true\"] == pred_df[\"y_pred\"]\n",
        "pred_df.head()"
      ],
      "metadata": {
        "colab": {
          "base_uri": "https://localhost:8080/",
          "height": 206
        },
        "id": "USP-1P_MHd3-",
        "outputId": "29afaebc-5c99-466a-85f2-36538e8ce852"
      },
      "execution_count": null,
      "outputs": [
        {
          "output_type": "execute_result",
          "data": {
            "text/plain": [
              "                                    img_path  y_true  y_pred  pred_conf  \\\n",
              "0  b'/content/dataset_2/test/annular/17.png'       0       0   0.550971   \n",
              "1  b'/content/dataset_2/test/annular/20.png'       0       0   0.420688   \n",
              "2  b'/content/dataset_2/test/annular/21.png'       0       0   0.778730   \n",
              "3  b'/content/dataset_2/test/annular/22.png'       0       0   0.775306   \n",
              "4  b'/content/dataset_2/test/annular/51.png'       0       0   0.751149   \n",
              "\n",
              "   y_true_classname y_pred_classname  pred_correct  \n",
              "0           annular          annular          True  \n",
              "1           annular          annular          True  \n",
              "2           annular          annular          True  \n",
              "3           annular          annular          True  \n",
              "4           annular          annular          True  "
            ],
            "text/html": [
              "\n",
              "  <div id=\"df-a332a482-71f8-4efe-a1b9-e65c935acda3\">\n",
              "    <div class=\"colab-df-container\">\n",
              "      <div>\n",
              "<style scoped>\n",
              "    .dataframe tbody tr th:only-of-type {\n",
              "        vertical-align: middle;\n",
              "    }\n",
              "\n",
              "    .dataframe tbody tr th {\n",
              "        vertical-align: top;\n",
              "    }\n",
              "\n",
              "    .dataframe thead th {\n",
              "        text-align: right;\n",
              "    }\n",
              "</style>\n",
              "<table border=\"1\" class=\"dataframe\">\n",
              "  <thead>\n",
              "    <tr style=\"text-align: right;\">\n",
              "      <th></th>\n",
              "      <th>img_path</th>\n",
              "      <th>y_true</th>\n",
              "      <th>y_pred</th>\n",
              "      <th>pred_conf</th>\n",
              "      <th>y_true_classname</th>\n",
              "      <th>y_pred_classname</th>\n",
              "      <th>pred_correct</th>\n",
              "    </tr>\n",
              "  </thead>\n",
              "  <tbody>\n",
              "    <tr>\n",
              "      <th>0</th>\n",
              "      <td>b'/content/dataset_2/test/annular/17.png'</td>\n",
              "      <td>0</td>\n",
              "      <td>0</td>\n",
              "      <td>0.550971</td>\n",
              "      <td>annular</td>\n",
              "      <td>annular</td>\n",
              "      <td>True</td>\n",
              "    </tr>\n",
              "    <tr>\n",
              "      <th>1</th>\n",
              "      <td>b'/content/dataset_2/test/annular/20.png'</td>\n",
              "      <td>0</td>\n",
              "      <td>0</td>\n",
              "      <td>0.420688</td>\n",
              "      <td>annular</td>\n",
              "      <td>annular</td>\n",
              "      <td>True</td>\n",
              "    </tr>\n",
              "    <tr>\n",
              "      <th>2</th>\n",
              "      <td>b'/content/dataset_2/test/annular/21.png'</td>\n",
              "      <td>0</td>\n",
              "      <td>0</td>\n",
              "      <td>0.778730</td>\n",
              "      <td>annular</td>\n",
              "      <td>annular</td>\n",
              "      <td>True</td>\n",
              "    </tr>\n",
              "    <tr>\n",
              "      <th>3</th>\n",
              "      <td>b'/content/dataset_2/test/annular/22.png'</td>\n",
              "      <td>0</td>\n",
              "      <td>0</td>\n",
              "      <td>0.775306</td>\n",
              "      <td>annular</td>\n",
              "      <td>annular</td>\n",
              "      <td>True</td>\n",
              "    </tr>\n",
              "    <tr>\n",
              "      <th>4</th>\n",
              "      <td>b'/content/dataset_2/test/annular/51.png'</td>\n",
              "      <td>0</td>\n",
              "      <td>0</td>\n",
              "      <td>0.751149</td>\n",
              "      <td>annular</td>\n",
              "      <td>annular</td>\n",
              "      <td>True</td>\n",
              "    </tr>\n",
              "  </tbody>\n",
              "</table>\n",
              "</div>\n",
              "      <button class=\"colab-df-convert\" onclick=\"convertToInteractive('df-a332a482-71f8-4efe-a1b9-e65c935acda3')\"\n",
              "              title=\"Convert this dataframe to an interactive table.\"\n",
              "              style=\"display:none;\">\n",
              "        \n",
              "  <svg xmlns=\"http://www.w3.org/2000/svg\" height=\"24px\"viewBox=\"0 0 24 24\"\n",
              "       width=\"24px\">\n",
              "    <path d=\"M0 0h24v24H0V0z\" fill=\"none\"/>\n",
              "    <path d=\"M18.56 5.44l.94 2.06.94-2.06 2.06-.94-2.06-.94-.94-2.06-.94 2.06-2.06.94zm-11 1L8.5 8.5l.94-2.06 2.06-.94-2.06-.94L8.5 2.5l-.94 2.06-2.06.94zm10 10l.94 2.06.94-2.06 2.06-.94-2.06-.94-.94-2.06-.94 2.06-2.06.94z\"/><path d=\"M17.41 7.96l-1.37-1.37c-.4-.4-.92-.59-1.43-.59-.52 0-1.04.2-1.43.59L10.3 9.45l-7.72 7.72c-.78.78-.78 2.05 0 2.83L4 21.41c.39.39.9.59 1.41.59.51 0 1.02-.2 1.41-.59l7.78-7.78 2.81-2.81c.8-.78.8-2.07 0-2.86zM5.41 20L4 18.59l7.72-7.72 1.47 1.35L5.41 20z\"/>\n",
              "  </svg>\n",
              "      </button>\n",
              "      \n",
              "  <style>\n",
              "    .colab-df-container {\n",
              "      display:flex;\n",
              "      flex-wrap:wrap;\n",
              "      gap: 12px;\n",
              "    }\n",
              "\n",
              "    .colab-df-convert {\n",
              "      background-color: #E8F0FE;\n",
              "      border: none;\n",
              "      border-radius: 50%;\n",
              "      cursor: pointer;\n",
              "      display: none;\n",
              "      fill: #1967D2;\n",
              "      height: 32px;\n",
              "      padding: 0 0 0 0;\n",
              "      width: 32px;\n",
              "    }\n",
              "\n",
              "    .colab-df-convert:hover {\n",
              "      background-color: #E2EBFA;\n",
              "      box-shadow: 0px 1px 2px rgba(60, 64, 67, 0.3), 0px 1px 3px 1px rgba(60, 64, 67, 0.15);\n",
              "      fill: #174EA6;\n",
              "    }\n",
              "\n",
              "    [theme=dark] .colab-df-convert {\n",
              "      background-color: #3B4455;\n",
              "      fill: #D2E3FC;\n",
              "    }\n",
              "\n",
              "    [theme=dark] .colab-df-convert:hover {\n",
              "      background-color: #434B5C;\n",
              "      box-shadow: 0px 1px 3px 1px rgba(0, 0, 0, 0.15);\n",
              "      filter: drop-shadow(0px 1px 2px rgba(0, 0, 0, 0.3));\n",
              "      fill: #FFFFFF;\n",
              "    }\n",
              "  </style>\n",
              "\n",
              "      <script>\n",
              "        const buttonEl =\n",
              "          document.querySelector('#df-a332a482-71f8-4efe-a1b9-e65c935acda3 button.colab-df-convert');\n",
              "        buttonEl.style.display =\n",
              "          google.colab.kernel.accessAllowed ? 'block' : 'none';\n",
              "\n",
              "        async function convertToInteractive(key) {\n",
              "          const element = document.querySelector('#df-a332a482-71f8-4efe-a1b9-e65c935acda3');\n",
              "          const dataTable =\n",
              "            await google.colab.kernel.invokeFunction('convertToInteractive',\n",
              "                                                     [key], {});\n",
              "          if (!dataTable) return;\n",
              "\n",
              "          const docLinkHtml = 'Like what you see? Visit the ' +\n",
              "            '<a target=\"_blank\" href=https://colab.research.google.com/notebooks/data_table.ipynb>data table notebook</a>'\n",
              "            + ' to learn more about interactive tables.';\n",
              "          element.innerHTML = '';\n",
              "          dataTable['output_type'] = 'display_data';\n",
              "          await google.colab.output.renderOutput(dataTable, element);\n",
              "          const docLink = document.createElement('div');\n",
              "          docLink.innerHTML = docLinkHtml;\n",
              "          element.appendChild(docLink);\n",
              "        }\n",
              "      </script>\n",
              "    </div>\n",
              "  </div>\n",
              "  "
            ]
          },
          "metadata": {},
          "execution_count": 24
        }
      ]
    },
    {
      "cell_type": "code",
      "source": [
        "#Create a DataFrame of different parameters for each of the test images\n",
        "import pandas as pd\n",
        "pred_df = pd.DataFrame({\"img_path\": filepaths,\n",
        "                        \"y_true\": y_labels,\n",
        "                        \"y_pred\": y_preds,\n",
        "                        \"pred_conf\": y_probs.max(axis=1), # get the maximum prediction probability value\n",
        "                       \" y_true_classname\": [class_names[i] for i in y_labels],\n",
        "                        \"y_pred_classname\": [class_names[i] for i in y_preds]})\n",
        "pred_df"
      ],
      "metadata": {
        "colab": {
          "base_uri": "https://localhost:8080/",
          "height": 990
        },
        "id": "aGiI_iiUjjpO",
        "outputId": "54521eaa-56a6-406e-e4cf-699a9409912d"
      },
      "execution_count": null,
      "outputs": [
        {
          "output_type": "execute_result",
          "data": {
            "text/plain": [
              "                                        img_path  y_true  y_pred  pred_conf  \\\n",
              "0      b'/content/dataset_2/test/annular/17.png'       0       0   0.550971   \n",
              "1      b'/content/dataset_2/test/annular/20.png'       0       0   0.420688   \n",
              "2      b'/content/dataset_2/test/annular/21.png'       0       0   0.778730   \n",
              "3      b'/content/dataset_2/test/annular/22.png'       0       0   0.775306   \n",
              "4      b'/content/dataset_2/test/annular/51.png'       0       0   0.751149   \n",
              "5      b'/content/dataset_2/test/annular/56.png'       0       0   0.487887   \n",
              "6       b'/content/dataset_2/test/annular/7.png'       0       0   0.477331   \n",
              "7        b'/content/dataset_2/test/plug/29b.png'       1       1   0.810812   \n",
              "8         b'/content/dataset_2/test/slug/14.png'       2       2   0.611295   \n",
              "9         b'/content/dataset_2/test/slug/15.png'       2       2   0.449713   \n",
              "10  b'/content/dataset_2/test/stratified/12.png'       3       3   0.453887   \n",
              "11  b'/content/dataset_2/test/stratified/32.png'       3       3   0.782452   \n",
              "12  b'/content/dataset_2/test/stratified/42.png'       3       3   0.924525   \n",
              "13  b'/content/dataset_2/test/stratified/43.png'       3       3   0.413284   \n",
              "14  b'/content/dataset_2/test/stratified/46.png'       3       3   0.725110   \n",
              "15  b'/content/dataset_2/test/stratified/47.png'       3       3   0.406563   \n",
              "16  b'/content/dataset_2/test/stratified/49.png'       3       3   0.894173   \n",
              "17  b'/content/dataset_2/test/stratified/53.png'       3       3   0.608424   \n",
              "18  b'/content/dataset_2/test/stratified/58.png'       3       3   0.791145   \n",
              "19        b'/content/dataset_2/test/wavy/28.png'       4       0   0.593058   \n",
              "20        b'/content/dataset_2/test/wavy/33.png'       4       1   0.278254   \n",
              "21        b'/content/dataset_2/test/wavy/34.png'       4       0   0.603496   \n",
              "22        b'/content/dataset_2/test/wavy/35.png'       4       0   0.604229   \n",
              "23        b'/content/dataset_2/test/wavy/38.png'       4       0   0.826979   \n",
              "24        b'/content/dataset_2/test/wavy/40.png'       4       4   0.307420   \n",
              "25        b'/content/dataset_2/test/wavy/41.png'       4       0   0.737600   \n",
              "26        b'/content/dataset_2/test/wavy/44.png'       4       3   0.406469   \n",
              "27        b'/content/dataset_2/test/wavy/45.png'       4       0   0.579498   \n",
              "28        b'/content/dataset_2/test/wavy/57.png'       4       0   0.410501   \n",
              "29         b'/content/dataset_2/test/wavy/9.png'       4       4   0.317249   \n",
              "\n",
              "    y_true_classname y_pred_classname  \n",
              "0            annular          annular  \n",
              "1            annular          annular  \n",
              "2            annular          annular  \n",
              "3            annular          annular  \n",
              "4            annular          annular  \n",
              "5            annular          annular  \n",
              "6            annular          annular  \n",
              "7               plug             plug  \n",
              "8               slug             slug  \n",
              "9               slug             slug  \n",
              "10        stratified       stratified  \n",
              "11        stratified       stratified  \n",
              "12        stratified       stratified  \n",
              "13        stratified       stratified  \n",
              "14        stratified       stratified  \n",
              "15        stratified       stratified  \n",
              "16        stratified       stratified  \n",
              "17        stratified       stratified  \n",
              "18        stratified       stratified  \n",
              "19              wavy          annular  \n",
              "20              wavy             plug  \n",
              "21              wavy          annular  \n",
              "22              wavy          annular  \n",
              "23              wavy          annular  \n",
              "24              wavy             wavy  \n",
              "25              wavy          annular  \n",
              "26              wavy       stratified  \n",
              "27              wavy          annular  \n",
              "28              wavy          annular  \n",
              "29              wavy             wavy  "
            ],
            "text/html": [
              "\n",
              "  <div id=\"df-cbbf0ef2-7d1f-4a48-9b3e-da50b1a59603\">\n",
              "    <div class=\"colab-df-container\">\n",
              "      <div>\n",
              "<style scoped>\n",
              "    .dataframe tbody tr th:only-of-type {\n",
              "        vertical-align: middle;\n",
              "    }\n",
              "\n",
              "    .dataframe tbody tr th {\n",
              "        vertical-align: top;\n",
              "    }\n",
              "\n",
              "    .dataframe thead th {\n",
              "        text-align: right;\n",
              "    }\n",
              "</style>\n",
              "<table border=\"1\" class=\"dataframe\">\n",
              "  <thead>\n",
              "    <tr style=\"text-align: right;\">\n",
              "      <th></th>\n",
              "      <th>img_path</th>\n",
              "      <th>y_true</th>\n",
              "      <th>y_pred</th>\n",
              "      <th>pred_conf</th>\n",
              "      <th>y_true_classname</th>\n",
              "      <th>y_pred_classname</th>\n",
              "    </tr>\n",
              "  </thead>\n",
              "  <tbody>\n",
              "    <tr>\n",
              "      <th>0</th>\n",
              "      <td>b'/content/dataset_2/test/annular/17.png'</td>\n",
              "      <td>0</td>\n",
              "      <td>0</td>\n",
              "      <td>0.550971</td>\n",
              "      <td>annular</td>\n",
              "      <td>annular</td>\n",
              "    </tr>\n",
              "    <tr>\n",
              "      <th>1</th>\n",
              "      <td>b'/content/dataset_2/test/annular/20.png'</td>\n",
              "      <td>0</td>\n",
              "      <td>0</td>\n",
              "      <td>0.420688</td>\n",
              "      <td>annular</td>\n",
              "      <td>annular</td>\n",
              "    </tr>\n",
              "    <tr>\n",
              "      <th>2</th>\n",
              "      <td>b'/content/dataset_2/test/annular/21.png'</td>\n",
              "      <td>0</td>\n",
              "      <td>0</td>\n",
              "      <td>0.778730</td>\n",
              "      <td>annular</td>\n",
              "      <td>annular</td>\n",
              "    </tr>\n",
              "    <tr>\n",
              "      <th>3</th>\n",
              "      <td>b'/content/dataset_2/test/annular/22.png'</td>\n",
              "      <td>0</td>\n",
              "      <td>0</td>\n",
              "      <td>0.775306</td>\n",
              "      <td>annular</td>\n",
              "      <td>annular</td>\n",
              "    </tr>\n",
              "    <tr>\n",
              "      <th>4</th>\n",
              "      <td>b'/content/dataset_2/test/annular/51.png'</td>\n",
              "      <td>0</td>\n",
              "      <td>0</td>\n",
              "      <td>0.751149</td>\n",
              "      <td>annular</td>\n",
              "      <td>annular</td>\n",
              "    </tr>\n",
              "    <tr>\n",
              "      <th>5</th>\n",
              "      <td>b'/content/dataset_2/test/annular/56.png'</td>\n",
              "      <td>0</td>\n",
              "      <td>0</td>\n",
              "      <td>0.487887</td>\n",
              "      <td>annular</td>\n",
              "      <td>annular</td>\n",
              "    </tr>\n",
              "    <tr>\n",
              "      <th>6</th>\n",
              "      <td>b'/content/dataset_2/test/annular/7.png'</td>\n",
              "      <td>0</td>\n",
              "      <td>0</td>\n",
              "      <td>0.477331</td>\n",
              "      <td>annular</td>\n",
              "      <td>annular</td>\n",
              "    </tr>\n",
              "    <tr>\n",
              "      <th>7</th>\n",
              "      <td>b'/content/dataset_2/test/plug/29b.png'</td>\n",
              "      <td>1</td>\n",
              "      <td>1</td>\n",
              "      <td>0.810812</td>\n",
              "      <td>plug</td>\n",
              "      <td>plug</td>\n",
              "    </tr>\n",
              "    <tr>\n",
              "      <th>8</th>\n",
              "      <td>b'/content/dataset_2/test/slug/14.png'</td>\n",
              "      <td>2</td>\n",
              "      <td>2</td>\n",
              "      <td>0.611295</td>\n",
              "      <td>slug</td>\n",
              "      <td>slug</td>\n",
              "    </tr>\n",
              "    <tr>\n",
              "      <th>9</th>\n",
              "      <td>b'/content/dataset_2/test/slug/15.png'</td>\n",
              "      <td>2</td>\n",
              "      <td>2</td>\n",
              "      <td>0.449713</td>\n",
              "      <td>slug</td>\n",
              "      <td>slug</td>\n",
              "    </tr>\n",
              "    <tr>\n",
              "      <th>10</th>\n",
              "      <td>b'/content/dataset_2/test/stratified/12.png'</td>\n",
              "      <td>3</td>\n",
              "      <td>3</td>\n",
              "      <td>0.453887</td>\n",
              "      <td>stratified</td>\n",
              "      <td>stratified</td>\n",
              "    </tr>\n",
              "    <tr>\n",
              "      <th>11</th>\n",
              "      <td>b'/content/dataset_2/test/stratified/32.png'</td>\n",
              "      <td>3</td>\n",
              "      <td>3</td>\n",
              "      <td>0.782452</td>\n",
              "      <td>stratified</td>\n",
              "      <td>stratified</td>\n",
              "    </tr>\n",
              "    <tr>\n",
              "      <th>12</th>\n",
              "      <td>b'/content/dataset_2/test/stratified/42.png'</td>\n",
              "      <td>3</td>\n",
              "      <td>3</td>\n",
              "      <td>0.924525</td>\n",
              "      <td>stratified</td>\n",
              "      <td>stratified</td>\n",
              "    </tr>\n",
              "    <tr>\n",
              "      <th>13</th>\n",
              "      <td>b'/content/dataset_2/test/stratified/43.png'</td>\n",
              "      <td>3</td>\n",
              "      <td>3</td>\n",
              "      <td>0.413284</td>\n",
              "      <td>stratified</td>\n",
              "      <td>stratified</td>\n",
              "    </tr>\n",
              "    <tr>\n",
              "      <th>14</th>\n",
              "      <td>b'/content/dataset_2/test/stratified/46.png'</td>\n",
              "      <td>3</td>\n",
              "      <td>3</td>\n",
              "      <td>0.725110</td>\n",
              "      <td>stratified</td>\n",
              "      <td>stratified</td>\n",
              "    </tr>\n",
              "    <tr>\n",
              "      <th>15</th>\n",
              "      <td>b'/content/dataset_2/test/stratified/47.png'</td>\n",
              "      <td>3</td>\n",
              "      <td>3</td>\n",
              "      <td>0.406563</td>\n",
              "      <td>stratified</td>\n",
              "      <td>stratified</td>\n",
              "    </tr>\n",
              "    <tr>\n",
              "      <th>16</th>\n",
              "      <td>b'/content/dataset_2/test/stratified/49.png'</td>\n",
              "      <td>3</td>\n",
              "      <td>3</td>\n",
              "      <td>0.894173</td>\n",
              "      <td>stratified</td>\n",
              "      <td>stratified</td>\n",
              "    </tr>\n",
              "    <tr>\n",
              "      <th>17</th>\n",
              "      <td>b'/content/dataset_2/test/stratified/53.png'</td>\n",
              "      <td>3</td>\n",
              "      <td>3</td>\n",
              "      <td>0.608424</td>\n",
              "      <td>stratified</td>\n",
              "      <td>stratified</td>\n",
              "    </tr>\n",
              "    <tr>\n",
              "      <th>18</th>\n",
              "      <td>b'/content/dataset_2/test/stratified/58.png'</td>\n",
              "      <td>3</td>\n",
              "      <td>3</td>\n",
              "      <td>0.791145</td>\n",
              "      <td>stratified</td>\n",
              "      <td>stratified</td>\n",
              "    </tr>\n",
              "    <tr>\n",
              "      <th>19</th>\n",
              "      <td>b'/content/dataset_2/test/wavy/28.png'</td>\n",
              "      <td>4</td>\n",
              "      <td>0</td>\n",
              "      <td>0.593058</td>\n",
              "      <td>wavy</td>\n",
              "      <td>annular</td>\n",
              "    </tr>\n",
              "    <tr>\n",
              "      <th>20</th>\n",
              "      <td>b'/content/dataset_2/test/wavy/33.png'</td>\n",
              "      <td>4</td>\n",
              "      <td>1</td>\n",
              "      <td>0.278254</td>\n",
              "      <td>wavy</td>\n",
              "      <td>plug</td>\n",
              "    </tr>\n",
              "    <tr>\n",
              "      <th>21</th>\n",
              "      <td>b'/content/dataset_2/test/wavy/34.png'</td>\n",
              "      <td>4</td>\n",
              "      <td>0</td>\n",
              "      <td>0.603496</td>\n",
              "      <td>wavy</td>\n",
              "      <td>annular</td>\n",
              "    </tr>\n",
              "    <tr>\n",
              "      <th>22</th>\n",
              "      <td>b'/content/dataset_2/test/wavy/35.png'</td>\n",
              "      <td>4</td>\n",
              "      <td>0</td>\n",
              "      <td>0.604229</td>\n",
              "      <td>wavy</td>\n",
              "      <td>annular</td>\n",
              "    </tr>\n",
              "    <tr>\n",
              "      <th>23</th>\n",
              "      <td>b'/content/dataset_2/test/wavy/38.png'</td>\n",
              "      <td>4</td>\n",
              "      <td>0</td>\n",
              "      <td>0.826979</td>\n",
              "      <td>wavy</td>\n",
              "      <td>annular</td>\n",
              "    </tr>\n",
              "    <tr>\n",
              "      <th>24</th>\n",
              "      <td>b'/content/dataset_2/test/wavy/40.png'</td>\n",
              "      <td>4</td>\n",
              "      <td>4</td>\n",
              "      <td>0.307420</td>\n",
              "      <td>wavy</td>\n",
              "      <td>wavy</td>\n",
              "    </tr>\n",
              "    <tr>\n",
              "      <th>25</th>\n",
              "      <td>b'/content/dataset_2/test/wavy/41.png'</td>\n",
              "      <td>4</td>\n",
              "      <td>0</td>\n",
              "      <td>0.737600</td>\n",
              "      <td>wavy</td>\n",
              "      <td>annular</td>\n",
              "    </tr>\n",
              "    <tr>\n",
              "      <th>26</th>\n",
              "      <td>b'/content/dataset_2/test/wavy/44.png'</td>\n",
              "      <td>4</td>\n",
              "      <td>3</td>\n",
              "      <td>0.406469</td>\n",
              "      <td>wavy</td>\n",
              "      <td>stratified</td>\n",
              "    </tr>\n",
              "    <tr>\n",
              "      <th>27</th>\n",
              "      <td>b'/content/dataset_2/test/wavy/45.png'</td>\n",
              "      <td>4</td>\n",
              "      <td>0</td>\n",
              "      <td>0.579498</td>\n",
              "      <td>wavy</td>\n",
              "      <td>annular</td>\n",
              "    </tr>\n",
              "    <tr>\n",
              "      <th>28</th>\n",
              "      <td>b'/content/dataset_2/test/wavy/57.png'</td>\n",
              "      <td>4</td>\n",
              "      <td>0</td>\n",
              "      <td>0.410501</td>\n",
              "      <td>wavy</td>\n",
              "      <td>annular</td>\n",
              "    </tr>\n",
              "    <tr>\n",
              "      <th>29</th>\n",
              "      <td>b'/content/dataset_2/test/wavy/9.png'</td>\n",
              "      <td>4</td>\n",
              "      <td>4</td>\n",
              "      <td>0.317249</td>\n",
              "      <td>wavy</td>\n",
              "      <td>wavy</td>\n",
              "    </tr>\n",
              "  </tbody>\n",
              "</table>\n",
              "</div>\n",
              "      <button class=\"colab-df-convert\" onclick=\"convertToInteractive('df-cbbf0ef2-7d1f-4a48-9b3e-da50b1a59603')\"\n",
              "              title=\"Convert this dataframe to an interactive table.\"\n",
              "              style=\"display:none;\">\n",
              "        \n",
              "  <svg xmlns=\"http://www.w3.org/2000/svg\" height=\"24px\"viewBox=\"0 0 24 24\"\n",
              "       width=\"24px\">\n",
              "    <path d=\"M0 0h24v24H0V0z\" fill=\"none\"/>\n",
              "    <path d=\"M18.56 5.44l.94 2.06.94-2.06 2.06-.94-2.06-.94-.94-2.06-.94 2.06-2.06.94zm-11 1L8.5 8.5l.94-2.06 2.06-.94-2.06-.94L8.5 2.5l-.94 2.06-2.06.94zm10 10l.94 2.06.94-2.06 2.06-.94-2.06-.94-.94-2.06-.94 2.06-2.06.94z\"/><path d=\"M17.41 7.96l-1.37-1.37c-.4-.4-.92-.59-1.43-.59-.52 0-1.04.2-1.43.59L10.3 9.45l-7.72 7.72c-.78.78-.78 2.05 0 2.83L4 21.41c.39.39.9.59 1.41.59.51 0 1.02-.2 1.41-.59l7.78-7.78 2.81-2.81c.8-.78.8-2.07 0-2.86zM5.41 20L4 18.59l7.72-7.72 1.47 1.35L5.41 20z\"/>\n",
              "  </svg>\n",
              "      </button>\n",
              "      \n",
              "  <style>\n",
              "    .colab-df-container {\n",
              "      display:flex;\n",
              "      flex-wrap:wrap;\n",
              "      gap: 12px;\n",
              "    }\n",
              "\n",
              "    .colab-df-convert {\n",
              "      background-color: #E8F0FE;\n",
              "      border: none;\n",
              "      border-radius: 50%;\n",
              "      cursor: pointer;\n",
              "      display: none;\n",
              "      fill: #1967D2;\n",
              "      height: 32px;\n",
              "      padding: 0 0 0 0;\n",
              "      width: 32px;\n",
              "    }\n",
              "\n",
              "    .colab-df-convert:hover {\n",
              "      background-color: #E2EBFA;\n",
              "      box-shadow: 0px 1px 2px rgba(60, 64, 67, 0.3), 0px 1px 3px 1px rgba(60, 64, 67, 0.15);\n",
              "      fill: #174EA6;\n",
              "    }\n",
              "\n",
              "    [theme=dark] .colab-df-convert {\n",
              "      background-color: #3B4455;\n",
              "      fill: #D2E3FC;\n",
              "    }\n",
              "\n",
              "    [theme=dark] .colab-df-convert:hover {\n",
              "      background-color: #434B5C;\n",
              "      box-shadow: 0px 1px 3px 1px rgba(0, 0, 0, 0.15);\n",
              "      filter: drop-shadow(0px 1px 2px rgba(0, 0, 0, 0.3));\n",
              "      fill: #FFFFFF;\n",
              "    }\n",
              "  </style>\n",
              "\n",
              "      <script>\n",
              "        const buttonEl =\n",
              "          document.querySelector('#df-cbbf0ef2-7d1f-4a48-9b3e-da50b1a59603 button.colab-df-convert');\n",
              "        buttonEl.style.display =\n",
              "          google.colab.kernel.accessAllowed ? 'block' : 'none';\n",
              "\n",
              "        async function convertToInteractive(key) {\n",
              "          const element = document.querySelector('#df-cbbf0ef2-7d1f-4a48-9b3e-da50b1a59603');\n",
              "          const dataTable =\n",
              "            await google.colab.kernel.invokeFunction('convertToInteractive',\n",
              "                                                     [key], {});\n",
              "          if (!dataTable) return;\n",
              "\n",
              "          const docLinkHtml = 'Like what you see? Visit the ' +\n",
              "            '<a target=\"_blank\" href=https://colab.research.google.com/notebooks/data_table.ipynb>data table notebook</a>'\n",
              "            + ' to learn more about interactive tables.';\n",
              "          element.innerHTML = '';\n",
              "          dataTable['output_type'] = 'display_data';\n",
              "          await google.colab.output.renderOutput(dataTable, element);\n",
              "          const docLink = document.createElement('div');\n",
              "          docLink.innerHTML = docLinkHtml;\n",
              "          element.appendChild(docLink);\n",
              "        }\n",
              "      </script>\n",
              "    </div>\n",
              "  </div>\n",
              "  "
            ]
          },
          "metadata": {},
          "execution_count": 25
        }
      ]
    },
    {
      "cell_type": "code",
      "source": [
        "#Find out in DataFrame which predictions are wrong\n",
        "pred_df[\"pred_correct\"] = pred_df[\"y_true\"] == pred_df[\"y_pred\"]\n",
        "pred_df"
      ],
      "metadata": {
        "colab": {
          "base_uri": "https://localhost:8080/",
          "height": 990
        },
        "id": "zVCWP95rIAez",
        "outputId": "c31506e2-4b6d-4c90-b34c-8fe995b3e462"
      },
      "execution_count": null,
      "outputs": [
        {
          "output_type": "execute_result",
          "data": {
            "text/plain": [
              "                                        img_path  y_true  y_pred  pred_conf  \\\n",
              "0      b'/content/dataset_2/test/annular/17.png'       0       0   0.550971   \n",
              "1      b'/content/dataset_2/test/annular/20.png'       0       0   0.420688   \n",
              "2      b'/content/dataset_2/test/annular/21.png'       0       0   0.778730   \n",
              "3      b'/content/dataset_2/test/annular/22.png'       0       0   0.775306   \n",
              "4      b'/content/dataset_2/test/annular/51.png'       0       0   0.751149   \n",
              "5      b'/content/dataset_2/test/annular/56.png'       0       0   0.487887   \n",
              "6       b'/content/dataset_2/test/annular/7.png'       0       0   0.477331   \n",
              "7        b'/content/dataset_2/test/plug/29b.png'       1       1   0.810812   \n",
              "8         b'/content/dataset_2/test/slug/14.png'       2       2   0.611295   \n",
              "9         b'/content/dataset_2/test/slug/15.png'       2       2   0.449713   \n",
              "10  b'/content/dataset_2/test/stratified/12.png'       3       3   0.453887   \n",
              "11  b'/content/dataset_2/test/stratified/32.png'       3       3   0.782452   \n",
              "12  b'/content/dataset_2/test/stratified/42.png'       3       3   0.924525   \n",
              "13  b'/content/dataset_2/test/stratified/43.png'       3       3   0.413284   \n",
              "14  b'/content/dataset_2/test/stratified/46.png'       3       3   0.725110   \n",
              "15  b'/content/dataset_2/test/stratified/47.png'       3       3   0.406563   \n",
              "16  b'/content/dataset_2/test/stratified/49.png'       3       3   0.894173   \n",
              "17  b'/content/dataset_2/test/stratified/53.png'       3       3   0.608424   \n",
              "18  b'/content/dataset_2/test/stratified/58.png'       3       3   0.791145   \n",
              "19        b'/content/dataset_2/test/wavy/28.png'       4       0   0.593058   \n",
              "20        b'/content/dataset_2/test/wavy/33.png'       4       1   0.278254   \n",
              "21        b'/content/dataset_2/test/wavy/34.png'       4       0   0.603496   \n",
              "22        b'/content/dataset_2/test/wavy/35.png'       4       0   0.604229   \n",
              "23        b'/content/dataset_2/test/wavy/38.png'       4       0   0.826979   \n",
              "24        b'/content/dataset_2/test/wavy/40.png'       4       4   0.307420   \n",
              "25        b'/content/dataset_2/test/wavy/41.png'       4       0   0.737600   \n",
              "26        b'/content/dataset_2/test/wavy/44.png'       4       3   0.406469   \n",
              "27        b'/content/dataset_2/test/wavy/45.png'       4       0   0.579498   \n",
              "28        b'/content/dataset_2/test/wavy/57.png'       4       0   0.410501   \n",
              "29         b'/content/dataset_2/test/wavy/9.png'       4       4   0.317249   \n",
              "\n",
              "    y_true_classname y_pred_classname  pred_correct  \n",
              "0            annular          annular          True  \n",
              "1            annular          annular          True  \n",
              "2            annular          annular          True  \n",
              "3            annular          annular          True  \n",
              "4            annular          annular          True  \n",
              "5            annular          annular          True  \n",
              "6            annular          annular          True  \n",
              "7               plug             plug          True  \n",
              "8               slug             slug          True  \n",
              "9               slug             slug          True  \n",
              "10        stratified       stratified          True  \n",
              "11        stratified       stratified          True  \n",
              "12        stratified       stratified          True  \n",
              "13        stratified       stratified          True  \n",
              "14        stratified       stratified          True  \n",
              "15        stratified       stratified          True  \n",
              "16        stratified       stratified          True  \n",
              "17        stratified       stratified          True  \n",
              "18        stratified       stratified          True  \n",
              "19              wavy          annular         False  \n",
              "20              wavy             plug         False  \n",
              "21              wavy          annular         False  \n",
              "22              wavy          annular         False  \n",
              "23              wavy          annular         False  \n",
              "24              wavy             wavy          True  \n",
              "25              wavy          annular         False  \n",
              "26              wavy       stratified         False  \n",
              "27              wavy          annular         False  \n",
              "28              wavy          annular         False  \n",
              "29              wavy             wavy          True  "
            ],
            "text/html": [
              "\n",
              "  <div id=\"df-962a6213-986b-48d2-b38a-ee8c6f10fec9\">\n",
              "    <div class=\"colab-df-container\">\n",
              "      <div>\n",
              "<style scoped>\n",
              "    .dataframe tbody tr th:only-of-type {\n",
              "        vertical-align: middle;\n",
              "    }\n",
              "\n",
              "    .dataframe tbody tr th {\n",
              "        vertical-align: top;\n",
              "    }\n",
              "\n",
              "    .dataframe thead th {\n",
              "        text-align: right;\n",
              "    }\n",
              "</style>\n",
              "<table border=\"1\" class=\"dataframe\">\n",
              "  <thead>\n",
              "    <tr style=\"text-align: right;\">\n",
              "      <th></th>\n",
              "      <th>img_path</th>\n",
              "      <th>y_true</th>\n",
              "      <th>y_pred</th>\n",
              "      <th>pred_conf</th>\n",
              "      <th>y_true_classname</th>\n",
              "      <th>y_pred_classname</th>\n",
              "      <th>pred_correct</th>\n",
              "    </tr>\n",
              "  </thead>\n",
              "  <tbody>\n",
              "    <tr>\n",
              "      <th>0</th>\n",
              "      <td>b'/content/dataset_2/test/annular/17.png'</td>\n",
              "      <td>0</td>\n",
              "      <td>0</td>\n",
              "      <td>0.550971</td>\n",
              "      <td>annular</td>\n",
              "      <td>annular</td>\n",
              "      <td>True</td>\n",
              "    </tr>\n",
              "    <tr>\n",
              "      <th>1</th>\n",
              "      <td>b'/content/dataset_2/test/annular/20.png'</td>\n",
              "      <td>0</td>\n",
              "      <td>0</td>\n",
              "      <td>0.420688</td>\n",
              "      <td>annular</td>\n",
              "      <td>annular</td>\n",
              "      <td>True</td>\n",
              "    </tr>\n",
              "    <tr>\n",
              "      <th>2</th>\n",
              "      <td>b'/content/dataset_2/test/annular/21.png'</td>\n",
              "      <td>0</td>\n",
              "      <td>0</td>\n",
              "      <td>0.778730</td>\n",
              "      <td>annular</td>\n",
              "      <td>annular</td>\n",
              "      <td>True</td>\n",
              "    </tr>\n",
              "    <tr>\n",
              "      <th>3</th>\n",
              "      <td>b'/content/dataset_2/test/annular/22.png'</td>\n",
              "      <td>0</td>\n",
              "      <td>0</td>\n",
              "      <td>0.775306</td>\n",
              "      <td>annular</td>\n",
              "      <td>annular</td>\n",
              "      <td>True</td>\n",
              "    </tr>\n",
              "    <tr>\n",
              "      <th>4</th>\n",
              "      <td>b'/content/dataset_2/test/annular/51.png'</td>\n",
              "      <td>0</td>\n",
              "      <td>0</td>\n",
              "      <td>0.751149</td>\n",
              "      <td>annular</td>\n",
              "      <td>annular</td>\n",
              "      <td>True</td>\n",
              "    </tr>\n",
              "    <tr>\n",
              "      <th>5</th>\n",
              "      <td>b'/content/dataset_2/test/annular/56.png'</td>\n",
              "      <td>0</td>\n",
              "      <td>0</td>\n",
              "      <td>0.487887</td>\n",
              "      <td>annular</td>\n",
              "      <td>annular</td>\n",
              "      <td>True</td>\n",
              "    </tr>\n",
              "    <tr>\n",
              "      <th>6</th>\n",
              "      <td>b'/content/dataset_2/test/annular/7.png'</td>\n",
              "      <td>0</td>\n",
              "      <td>0</td>\n",
              "      <td>0.477331</td>\n",
              "      <td>annular</td>\n",
              "      <td>annular</td>\n",
              "      <td>True</td>\n",
              "    </tr>\n",
              "    <tr>\n",
              "      <th>7</th>\n",
              "      <td>b'/content/dataset_2/test/plug/29b.png'</td>\n",
              "      <td>1</td>\n",
              "      <td>1</td>\n",
              "      <td>0.810812</td>\n",
              "      <td>plug</td>\n",
              "      <td>plug</td>\n",
              "      <td>True</td>\n",
              "    </tr>\n",
              "    <tr>\n",
              "      <th>8</th>\n",
              "      <td>b'/content/dataset_2/test/slug/14.png'</td>\n",
              "      <td>2</td>\n",
              "      <td>2</td>\n",
              "      <td>0.611295</td>\n",
              "      <td>slug</td>\n",
              "      <td>slug</td>\n",
              "      <td>True</td>\n",
              "    </tr>\n",
              "    <tr>\n",
              "      <th>9</th>\n",
              "      <td>b'/content/dataset_2/test/slug/15.png'</td>\n",
              "      <td>2</td>\n",
              "      <td>2</td>\n",
              "      <td>0.449713</td>\n",
              "      <td>slug</td>\n",
              "      <td>slug</td>\n",
              "      <td>True</td>\n",
              "    </tr>\n",
              "    <tr>\n",
              "      <th>10</th>\n",
              "      <td>b'/content/dataset_2/test/stratified/12.png'</td>\n",
              "      <td>3</td>\n",
              "      <td>3</td>\n",
              "      <td>0.453887</td>\n",
              "      <td>stratified</td>\n",
              "      <td>stratified</td>\n",
              "      <td>True</td>\n",
              "    </tr>\n",
              "    <tr>\n",
              "      <th>11</th>\n",
              "      <td>b'/content/dataset_2/test/stratified/32.png'</td>\n",
              "      <td>3</td>\n",
              "      <td>3</td>\n",
              "      <td>0.782452</td>\n",
              "      <td>stratified</td>\n",
              "      <td>stratified</td>\n",
              "      <td>True</td>\n",
              "    </tr>\n",
              "    <tr>\n",
              "      <th>12</th>\n",
              "      <td>b'/content/dataset_2/test/stratified/42.png'</td>\n",
              "      <td>3</td>\n",
              "      <td>3</td>\n",
              "      <td>0.924525</td>\n",
              "      <td>stratified</td>\n",
              "      <td>stratified</td>\n",
              "      <td>True</td>\n",
              "    </tr>\n",
              "    <tr>\n",
              "      <th>13</th>\n",
              "      <td>b'/content/dataset_2/test/stratified/43.png'</td>\n",
              "      <td>3</td>\n",
              "      <td>3</td>\n",
              "      <td>0.413284</td>\n",
              "      <td>stratified</td>\n",
              "      <td>stratified</td>\n",
              "      <td>True</td>\n",
              "    </tr>\n",
              "    <tr>\n",
              "      <th>14</th>\n",
              "      <td>b'/content/dataset_2/test/stratified/46.png'</td>\n",
              "      <td>3</td>\n",
              "      <td>3</td>\n",
              "      <td>0.725110</td>\n",
              "      <td>stratified</td>\n",
              "      <td>stratified</td>\n",
              "      <td>True</td>\n",
              "    </tr>\n",
              "    <tr>\n",
              "      <th>15</th>\n",
              "      <td>b'/content/dataset_2/test/stratified/47.png'</td>\n",
              "      <td>3</td>\n",
              "      <td>3</td>\n",
              "      <td>0.406563</td>\n",
              "      <td>stratified</td>\n",
              "      <td>stratified</td>\n",
              "      <td>True</td>\n",
              "    </tr>\n",
              "    <tr>\n",
              "      <th>16</th>\n",
              "      <td>b'/content/dataset_2/test/stratified/49.png'</td>\n",
              "      <td>3</td>\n",
              "      <td>3</td>\n",
              "      <td>0.894173</td>\n",
              "      <td>stratified</td>\n",
              "      <td>stratified</td>\n",
              "      <td>True</td>\n",
              "    </tr>\n",
              "    <tr>\n",
              "      <th>17</th>\n",
              "      <td>b'/content/dataset_2/test/stratified/53.png'</td>\n",
              "      <td>3</td>\n",
              "      <td>3</td>\n",
              "      <td>0.608424</td>\n",
              "      <td>stratified</td>\n",
              "      <td>stratified</td>\n",
              "      <td>True</td>\n",
              "    </tr>\n",
              "    <tr>\n",
              "      <th>18</th>\n",
              "      <td>b'/content/dataset_2/test/stratified/58.png'</td>\n",
              "      <td>3</td>\n",
              "      <td>3</td>\n",
              "      <td>0.791145</td>\n",
              "      <td>stratified</td>\n",
              "      <td>stratified</td>\n",
              "      <td>True</td>\n",
              "    </tr>\n",
              "    <tr>\n",
              "      <th>19</th>\n",
              "      <td>b'/content/dataset_2/test/wavy/28.png'</td>\n",
              "      <td>4</td>\n",
              "      <td>0</td>\n",
              "      <td>0.593058</td>\n",
              "      <td>wavy</td>\n",
              "      <td>annular</td>\n",
              "      <td>False</td>\n",
              "    </tr>\n",
              "    <tr>\n",
              "      <th>20</th>\n",
              "      <td>b'/content/dataset_2/test/wavy/33.png'</td>\n",
              "      <td>4</td>\n",
              "      <td>1</td>\n",
              "      <td>0.278254</td>\n",
              "      <td>wavy</td>\n",
              "      <td>plug</td>\n",
              "      <td>False</td>\n",
              "    </tr>\n",
              "    <tr>\n",
              "      <th>21</th>\n",
              "      <td>b'/content/dataset_2/test/wavy/34.png'</td>\n",
              "      <td>4</td>\n",
              "      <td>0</td>\n",
              "      <td>0.603496</td>\n",
              "      <td>wavy</td>\n",
              "      <td>annular</td>\n",
              "      <td>False</td>\n",
              "    </tr>\n",
              "    <tr>\n",
              "      <th>22</th>\n",
              "      <td>b'/content/dataset_2/test/wavy/35.png'</td>\n",
              "      <td>4</td>\n",
              "      <td>0</td>\n",
              "      <td>0.604229</td>\n",
              "      <td>wavy</td>\n",
              "      <td>annular</td>\n",
              "      <td>False</td>\n",
              "    </tr>\n",
              "    <tr>\n",
              "      <th>23</th>\n",
              "      <td>b'/content/dataset_2/test/wavy/38.png'</td>\n",
              "      <td>4</td>\n",
              "      <td>0</td>\n",
              "      <td>0.826979</td>\n",
              "      <td>wavy</td>\n",
              "      <td>annular</td>\n",
              "      <td>False</td>\n",
              "    </tr>\n",
              "    <tr>\n",
              "      <th>24</th>\n",
              "      <td>b'/content/dataset_2/test/wavy/40.png'</td>\n",
              "      <td>4</td>\n",
              "      <td>4</td>\n",
              "      <td>0.307420</td>\n",
              "      <td>wavy</td>\n",
              "      <td>wavy</td>\n",
              "      <td>True</td>\n",
              "    </tr>\n",
              "    <tr>\n",
              "      <th>25</th>\n",
              "      <td>b'/content/dataset_2/test/wavy/41.png'</td>\n",
              "      <td>4</td>\n",
              "      <td>0</td>\n",
              "      <td>0.737600</td>\n",
              "      <td>wavy</td>\n",
              "      <td>annular</td>\n",
              "      <td>False</td>\n",
              "    </tr>\n",
              "    <tr>\n",
              "      <th>26</th>\n",
              "      <td>b'/content/dataset_2/test/wavy/44.png'</td>\n",
              "      <td>4</td>\n",
              "      <td>3</td>\n",
              "      <td>0.406469</td>\n",
              "      <td>wavy</td>\n",
              "      <td>stratified</td>\n",
              "      <td>False</td>\n",
              "    </tr>\n",
              "    <tr>\n",
              "      <th>27</th>\n",
              "      <td>b'/content/dataset_2/test/wavy/45.png'</td>\n",
              "      <td>4</td>\n",
              "      <td>0</td>\n",
              "      <td>0.579498</td>\n",
              "      <td>wavy</td>\n",
              "      <td>annular</td>\n",
              "      <td>False</td>\n",
              "    </tr>\n",
              "    <tr>\n",
              "      <th>28</th>\n",
              "      <td>b'/content/dataset_2/test/wavy/57.png'</td>\n",
              "      <td>4</td>\n",
              "      <td>0</td>\n",
              "      <td>0.410501</td>\n",
              "      <td>wavy</td>\n",
              "      <td>annular</td>\n",
              "      <td>False</td>\n",
              "    </tr>\n",
              "    <tr>\n",
              "      <th>29</th>\n",
              "      <td>b'/content/dataset_2/test/wavy/9.png'</td>\n",
              "      <td>4</td>\n",
              "      <td>4</td>\n",
              "      <td>0.317249</td>\n",
              "      <td>wavy</td>\n",
              "      <td>wavy</td>\n",
              "      <td>True</td>\n",
              "    </tr>\n",
              "  </tbody>\n",
              "</table>\n",
              "</div>\n",
              "      <button class=\"colab-df-convert\" onclick=\"convertToInteractive('df-962a6213-986b-48d2-b38a-ee8c6f10fec9')\"\n",
              "              title=\"Convert this dataframe to an interactive table.\"\n",
              "              style=\"display:none;\">\n",
              "        \n",
              "  <svg xmlns=\"http://www.w3.org/2000/svg\" height=\"24px\"viewBox=\"0 0 24 24\"\n",
              "       width=\"24px\">\n",
              "    <path d=\"M0 0h24v24H0V0z\" fill=\"none\"/>\n",
              "    <path d=\"M18.56 5.44l.94 2.06.94-2.06 2.06-.94-2.06-.94-.94-2.06-.94 2.06-2.06.94zm-11 1L8.5 8.5l.94-2.06 2.06-.94-2.06-.94L8.5 2.5l-.94 2.06-2.06.94zm10 10l.94 2.06.94-2.06 2.06-.94-2.06-.94-.94-2.06-.94 2.06-2.06.94z\"/><path d=\"M17.41 7.96l-1.37-1.37c-.4-.4-.92-.59-1.43-.59-.52 0-1.04.2-1.43.59L10.3 9.45l-7.72 7.72c-.78.78-.78 2.05 0 2.83L4 21.41c.39.39.9.59 1.41.59.51 0 1.02-.2 1.41-.59l7.78-7.78 2.81-2.81c.8-.78.8-2.07 0-2.86zM5.41 20L4 18.59l7.72-7.72 1.47 1.35L5.41 20z\"/>\n",
              "  </svg>\n",
              "      </button>\n",
              "      \n",
              "  <style>\n",
              "    .colab-df-container {\n",
              "      display:flex;\n",
              "      flex-wrap:wrap;\n",
              "      gap: 12px;\n",
              "    }\n",
              "\n",
              "    .colab-df-convert {\n",
              "      background-color: #E8F0FE;\n",
              "      border: none;\n",
              "      border-radius: 50%;\n",
              "      cursor: pointer;\n",
              "      display: none;\n",
              "      fill: #1967D2;\n",
              "      height: 32px;\n",
              "      padding: 0 0 0 0;\n",
              "      width: 32px;\n",
              "    }\n",
              "\n",
              "    .colab-df-convert:hover {\n",
              "      background-color: #E2EBFA;\n",
              "      box-shadow: 0px 1px 2px rgba(60, 64, 67, 0.3), 0px 1px 3px 1px rgba(60, 64, 67, 0.15);\n",
              "      fill: #174EA6;\n",
              "    }\n",
              "\n",
              "    [theme=dark] .colab-df-convert {\n",
              "      background-color: #3B4455;\n",
              "      fill: #D2E3FC;\n",
              "    }\n",
              "\n",
              "    [theme=dark] .colab-df-convert:hover {\n",
              "      background-color: #434B5C;\n",
              "      box-shadow: 0px 1px 3px 1px rgba(0, 0, 0, 0.15);\n",
              "      filter: drop-shadow(0px 1px 2px rgba(0, 0, 0, 0.3));\n",
              "      fill: #FFFFFF;\n",
              "    }\n",
              "  </style>\n",
              "\n",
              "      <script>\n",
              "        const buttonEl =\n",
              "          document.querySelector('#df-962a6213-986b-48d2-b38a-ee8c6f10fec9 button.colab-df-convert');\n",
              "        buttonEl.style.display =\n",
              "          google.colab.kernel.accessAllowed ? 'block' : 'none';\n",
              "\n",
              "        async function convertToInteractive(key) {\n",
              "          const element = document.querySelector('#df-962a6213-986b-48d2-b38a-ee8c6f10fec9');\n",
              "          const dataTable =\n",
              "            await google.colab.kernel.invokeFunction('convertToInteractive',\n",
              "                                                     [key], {});\n",
              "          if (!dataTable) return;\n",
              "\n",
              "          const docLinkHtml = 'Like what you see? Visit the ' +\n",
              "            '<a target=\"_blank\" href=https://colab.research.google.com/notebooks/data_table.ipynb>data table notebook</a>'\n",
              "            + ' to learn more about interactive tables.';\n",
              "          element.innerHTML = '';\n",
              "          dataTable['output_type'] = 'display_data';\n",
              "          await google.colab.output.renderOutput(dataTable, element);\n",
              "          const docLink = document.createElement('div');\n",
              "          docLink.innerHTML = docLinkHtml;\n",
              "          element.appendChild(docLink);\n",
              "        }\n",
              "      </script>\n",
              "    </div>\n",
              "  </div>\n",
              "  "
            ]
          },
          "metadata": {},
          "execution_count": 26
        }
      ]
    },
    {
      "cell_type": "code",
      "source": [
        "pred_df.to_csv(\"pred_df.csv\", index=False)\n"
      ],
      "metadata": {
        "id": "P0DRZeAWIHj9"
      },
      "execution_count": null,
      "outputs": []
    },
    {
      "cell_type": "code",
      "source": [
        "pred_df.to_excel(\"pred_df.xlsx\", index=False)"
      ],
      "metadata": {
        "colab": {
          "base_uri": "https://localhost:8080/"
        },
        "id": "y_W1nD2Evm9s",
        "outputId": "c4861b40-abfe-412f-9b89-864593360dc9"
      },
      "execution_count": null,
      "outputs": [
        {
          "output_type": "stream",
          "name": "stderr",
          "text": [
            "/usr/local/lib/python3.7/dist-packages/ipykernel_launcher.py:1: FutureWarning: As the xlwt package is no longer maintained, the xlwt engine will be removed in a future version of pandas. This is the only engine in pandas that supports writing in the xls format. Install openpyxl and write to an xlsx file instead. You can set the option io.excel.xls.writer to 'xlwt' to silence this warning. While this option is deprecated and will also raise a warning, it can be globally set and the warning suppressed.\n",
            "  \"\"\"Entry point for launching an IPython kernel.\n"
          ]
        }
      ]
    },
    {
      "cell_type": "markdown",
      "source": [
        "# working with dataset_interfaces"
      ],
      "metadata": {
        "id": "94PjUqS6a0zz"
      }
    },
    {
      "cell_type": "code",
      "source": [
        "# Extacting data \n",
        "import numpy as np\n",
        "import zipfile\n",
        "\n",
        "# Unzip the downloaded file\n",
        "zip_ref = zipfile.ZipFile(\"/content/drive/MyDrive/Multiphase_project/dataset_interfaces.zip\")\n",
        "zip_ref.extractall()\n",
        "zip_ref.close()"
      ],
      "metadata": {
        "id": "s7hQHK2lh5Qu"
      },
      "execution_count": null,
      "outputs": []
    },
    {
      "cell_type": "code",
      "source": [
        "# How many images in each folder?\n",
        "import os\n",
        "\n",
        "# Walk through 10 percent data directory and list number of files\n",
        "for dirpath, dirnames, filenames in os.walk(\"dataset_interfaces\"):\n",
        "  print(f\"There are {len(dirnames)} directories and {len(filenames)} images in '{dirpath}'.\")"
      ],
      "metadata": {
        "colab": {
          "base_uri": "https://localhost:8080/"
        },
        "id": "seVcO7IeiHY0",
        "outputId": "9ebfd1e3-56d2-4e24-f181-e9464cc47e2b"
      },
      "execution_count": null,
      "outputs": [
        {
          "output_type": "stream",
          "name": "stdout",
          "text": [
            "There are 2 directories and 0 images in 'dataset_interfaces'.\n",
            "There are 5 directories and 0 images in 'dataset_interfaces/test'.\n",
            "There are 0 directories and 1 images in 'dataset_interfaces/test/plug'.\n",
            "There are 0 directories and 2 images in 'dataset_interfaces/test/slug'.\n",
            "There are 0 directories and 7 images in 'dataset_interfaces/test/annular'.\n",
            "There are 0 directories and 11 images in 'dataset_interfaces/test/wavy'.\n",
            "There are 0 directories and 10 images in 'dataset_interfaces/test/stratified'.\n",
            "There are 5 directories and 0 images in 'dataset_interfaces/train'.\n",
            "There are 0 directories and 5 images in 'dataset_interfaces/train/plug'.\n",
            "There are 0 directories and 6 images in 'dataset_interfaces/train/slug'.\n",
            "There are 0 directories and 7 images in 'dataset_interfaces/train/annular'.\n",
            "There are 0 directories and 7 images in 'dataset_interfaces/train/wavy'.\n",
            "There are 0 directories and 8 images in 'dataset_interfaces/train/stratified'.\n"
          ]
        }
      ]
    },
    {
      "cell_type": "code",
      "source": [
        "# Create training and test directory paths\n",
        "train_dir_3 = \"dataset_interfaces/train\"\n",
        "test_dir_3 = \"dataset_interfaces/test\""
      ],
      "metadata": {
        "id": "GxvNleL2iahi"
      },
      "execution_count": null,
      "outputs": []
    },
    {
      "cell_type": "code",
      "source": [
        "# Setup data inputs\n",
        "import tensorflow as tf\n",
        "IMG_SIZE = (224, 224)\n",
        "train_data_5 = tf.keras.utils.image_dataset_from_directory(train_dir_3,\n",
        "                                                         label_mode=\"categorical\",\n",
        "                                                        image_size=IMG_SIZE,\n",
        "                                                         batch_size=2)\n",
        "test_data_5 = tf.keras.utils.image_dataset_from_directory(test_dir_3,\n",
        "                                                        label_mode=\"categorical\",\n",
        "                                                        image_size=IMG_SIZE,\n",
        "                                                        shuffle=False,\n",
        "                                                        batch_size=2)"
      ],
      "metadata": {
        "colab": {
          "base_uri": "https://localhost:8080/"
        },
        "id": "79SSYutFihfH",
        "outputId": "5d760a64-c6e9-4920-a3f0-b933b4ddcf8d"
      },
      "execution_count": null,
      "outputs": [
        {
          "output_type": "stream",
          "name": "stdout",
          "text": [
            "Found 33 files belonging to 5 classes.\n",
            "Found 31 files belonging to 5 classes.\n"
          ]
        }
      ]
    },
    {
      "cell_type": "code",
      "source": [
        "# Setup the base model\n",
        "base_model_23 = tf.keras.applications.EfficientNetB2(include_top=False)\n",
        "base_model_23.trainable = False\n",
        "\n",
        "# Setup model architecture with trainable top layers\n",
        "inputs = layers.Input(shape=(224, 224, 3), name=\"input_layer\")\n",
        "x = data_augmentation(inputs) \n",
        "x = base_model_23(x, training=False) \n",
        "x = layers.GlobalAveragePooling2D(name=\"global_max_pool_layer\")(x)\n",
        "outputs = layers.Dense(5, activation=\"softmax\", name=\"output_layer\")(x)\n",
        "model_23 = tf.keras.Model(inputs, outputs)\n",
        "\n",
        "# Compile\n",
        "model_23.compile(loss=\"categorical_crossentropy\",\n",
        "              optimizer=tf.optimizers.Adam(),\n",
        "              metrics=[\"accuracy\"])\n",
        "\n",
        "# Fit\n",
        "history_model_23 = model_23.fit(train_data_5,\n",
        "                               epochs=100,\n",
        "                               validation_data=test_data_5,\n",
        "                               validation_steps=len(test_data_5),\n",
        "                               callbacks=[early_stopping])"
      ],
      "metadata": {
        "colab": {
          "base_uri": "https://localhost:8080/"
        },
        "id": "JCckDTVCi17S",
        "outputId": "5ada1934-1cb2-4e98-c026-5a6f9dd9beb8"
      },
      "execution_count": null,
      "outputs": [
        {
          "output_type": "stream",
          "name": "stdout",
          "text": [
            "Epoch 1/100\n"
          ]
        },
        {
          "output_type": "stream",
          "name": "stderr",
          "text": [
            "WARNING:tensorflow:Using a while_loop for converting RngReadAndSkip\n",
            "WARNING:tensorflow:Using a while_loop for converting Bitcast\n",
            "WARNING:tensorflow:Using a while_loop for converting Bitcast\n",
            "WARNING:tensorflow:Using a while_loop for converting StatelessRandomUniformFullIntV2\n",
            "WARNING:tensorflow:Using a while_loop for converting StatelessRandomGetKeyCounter\n",
            "WARNING:tensorflow:Using a while_loop for converting StatelessRandomUniformV2\n",
            "WARNING:tensorflow:Using a while_loop for converting AdjustContrastv2\n",
            "WARNING:tensorflow:Using a while_loop for converting RngReadAndSkip\n",
            "WARNING:tensorflow:Using a while_loop for converting Bitcast\n",
            "WARNING:tensorflow:Using a while_loop for converting Bitcast\n",
            "WARNING:tensorflow:Using a while_loop for converting StatelessRandomUniformFullIntV2\n",
            "WARNING:tensorflow:Using a while_loop for converting StatelessRandomGetKeyCounter\n",
            "WARNING:tensorflow:Using a while_loop for converting StatelessRandomUniformV2\n",
            "WARNING:tensorflow:Using a while_loop for converting AdjustContrastv2\n"
          ]
        },
        {
          "output_type": "stream",
          "name": "stdout",
          "text": [
            "17/17 [==============================] - 15s 233ms/step - loss: 1.7499 - accuracy: 0.1818 - val_loss: 1.6512 - val_accuracy: 0.3226\n",
            "Epoch 2/100\n",
            "17/17 [==============================] - 2s 106ms/step - loss: 1.4658 - accuracy: 0.3636 - val_loss: 1.4495 - val_accuracy: 0.5161\n",
            "Epoch 3/100\n",
            "17/17 [==============================] - 2s 107ms/step - loss: 1.3249 - accuracy: 0.5152 - val_loss: 1.4199 - val_accuracy: 0.5161\n",
            "Epoch 4/100\n",
            "17/17 [==============================] - 2s 105ms/step - loss: 1.2720 - accuracy: 0.5455 - val_loss: 1.3669 - val_accuracy: 0.4839\n",
            "Epoch 5/100\n",
            "17/17 [==============================] - 2s 103ms/step - loss: 1.0585 - accuracy: 0.5758 - val_loss: 1.2428 - val_accuracy: 0.5484\n",
            "Epoch 6/100\n",
            "17/17 [==============================] - 2s 104ms/step - loss: 1.1463 - accuracy: 0.5152 - val_loss: 1.2046 - val_accuracy: 0.5484\n",
            "Epoch 7/100\n",
            "17/17 [==============================] - 2s 105ms/step - loss: 1.0653 - accuracy: 0.6364 - val_loss: 1.2774 - val_accuracy: 0.5484\n",
            "Epoch 8/100\n",
            "17/17 [==============================] - 2s 103ms/step - loss: 0.8585 - accuracy: 0.7273 - val_loss: 1.2089 - val_accuracy: 0.5161\n",
            "Epoch 9/100\n",
            "17/17 [==============================] - 2s 108ms/step - loss: 0.9503 - accuracy: 0.6061 - val_loss: 1.2098 - val_accuracy: 0.5484\n",
            "Epoch 10/100\n",
            "17/17 [==============================] - 3s 127ms/step - loss: 0.9103 - accuracy: 0.7273 - val_loss: 1.1552 - val_accuracy: 0.5484\n"
          ]
        }
      ]
    },
    {
      "cell_type": "code",
      "source": [
        "import pandas as pd\n",
        "df = pd.read_excel(\"pred_df_mod.xlsx\")\n",
        "df"
      ],
      "metadata": {
        "colab": {
          "base_uri": "https://localhost:8080/",
          "height": 1000
        },
        "id": "pOPXptL-w61i",
        "outputId": "ce9f4002-33a1-4c10-eaeb-433aa8268a26"
      },
      "execution_count": null,
      "outputs": [
        {
          "output_type": "execute_result",
          "data": {
            "text/plain": [
              "                                        img_path  y_true  y_pred  pred_conf  \\\n",
              "0      b'/content/dataset_2/test/annular/17.png'       0       0   0.550971   \n",
              "1      b'/content/dataset_2/test/annular/20.png'       0       0   0.420688   \n",
              "2      b'/content/dataset_2/test/annular/21.png'       0       0   0.778730   \n",
              "3      b'/content/dataset_2/test/annular/22.png'       0       0   0.775306   \n",
              "4      b'/content/dataset_2/test/annular/51.png'       0       0   0.751149   \n",
              "5      b'/content/dataset_2/test/annular/56.png'       0       0   0.487887   \n",
              "6       b'/content/dataset_2/test/annular/7.png'       0       0   0.477331   \n",
              "7        b'/content/dataset_2/test/plug/29b.png'       1       1   0.810812   \n",
              "8         b'/content/dataset_2/test/slug/14.png'       2       2   0.611295   \n",
              "9         b'/content/dataset_2/test/slug/15.png'       2       2   0.449713   \n",
              "10  b'/content/dataset_2/test/stratified/12.png'       3       3   0.453887   \n",
              "11  b'/content/dataset_2/test/stratified/32.png'       3       3   0.782452   \n",
              "12  b'/content/dataset_2/test/stratified/42.png'       3       3   0.924525   \n",
              "13  b'/content/dataset_2/test/stratified/43.png'       3       3   0.413284   \n",
              "14  b'/content/dataset_2/test/stratified/46.png'       3       3   0.725110   \n",
              "15  b'/content/dataset_2/test/stratified/47.png'       3       3   0.406563   \n",
              "16  b'/content/dataset_2/test/stratified/49.png'       3       3   0.894173   \n",
              "17  b'/content/dataset_2/test/stratified/53.png'       3       3   0.608424   \n",
              "18  b'/content/dataset_2/test/stratified/58.png'       3       3   0.791145   \n",
              "19        b'/content/dataset_2/test/wavy/28.png'       4       0   0.593058   \n",
              "20        b'/content/dataset_2/test/wavy/33.png'       4       1   0.278254   \n",
              "21        b'/content/dataset_2/test/wavy/34.png'       4       0   0.603496   \n",
              "22        b'/content/dataset_2/test/wavy/35.png'       4       0   0.604229   \n",
              "23        b'/content/dataset_2/test/wavy/38.png'       4       0   0.826979   \n",
              "24        b'/content/dataset_2/test/wavy/40.png'       4       4   0.307420   \n",
              "25        b'/content/dataset_2/test/wavy/41.png'       4       0   0.737600   \n",
              "26        b'/content/dataset_2/test/wavy/44.png'       4       3   0.406469   \n",
              "27        b'/content/dataset_2/test/wavy/45.png'       4       0   0.579498   \n",
              "28        b'/content/dataset_2/test/wavy/57.png'       4       0   0.410501   \n",
              "29         b'/content/dataset_2/test/wavy/9.png'       4       4   0.317249   \n",
              "\n",
              "    y_true_classname y_pred_classname  pred_correct  water (kg/min)  \\\n",
              "0            annular          annular          True              20   \n",
              "1            annular          annular          True              20   \n",
              "2            annular          annular          True              20   \n",
              "3            annular          annular          True              15   \n",
              "4            annular          annular          True              15   \n",
              "5            annular          annular          True               0   \n",
              "6            annular          annular          True              25   \n",
              "7               plug             plug          True               0   \n",
              "8               slug             slug          True              40   \n",
              "9               slug             slug          True              60   \n",
              "10        stratified       stratified          True              20   \n",
              "11        stratified       stratified          True               0   \n",
              "12        stratified       stratified          True              10   \n",
              "13        stratified       stratified          True              10   \n",
              "14        stratified       stratified          True               5   \n",
              "15        stratified       stratified          True               5   \n",
              "16        stratified       stratified          True              15   \n",
              "17        stratified       stratified          True               0   \n",
              "18        stratified       stratified          True               0   \n",
              "19              wavy          annular         False               0   \n",
              "20              wavy             plug         False               0   \n",
              "21              wavy          annular         False               0   \n",
              "22              wavy          annular         False               0   \n",
              "23              wavy          annular         False              10   \n",
              "24              wavy             wavy          True               5   \n",
              "25              wavy          annular         False               5   \n",
              "26              wavy       stratified         False              10   \n",
              "27              wavy          annular         False              10   \n",
              "28              wavy          annular         False               0   \n",
              "29              wavy             wavy          True              15   \n",
              "\n",
              "    oil (kg /min)  air (kg/min)  PT131 [mbar]  PDT120 [mbar]  PDT121 [mbar]  \n",
              "0              60           0.4      49.43530       23.16120       12.41920  \n",
              "1              20           0.5      19.62260        9.87799        5.70991  \n",
              "2              20           1.5      30.28990       11.68000        7.43477  \n",
              "3              15           1.5      22.76580        9.45925        6.07616  \n",
              "4               5           2.0      24.60420       10.22680        6.39396  \n",
              "5               5           4.0      53.37110       21.03130       12.02970  \n",
              "6               0           2.0      35.21786       16.21857       10.32126  \n",
              "7              25           0.1       7.34950        3.60246        2.53466  \n",
              "8              40           0.1      21.07120       11.29780        6.84837  \n",
              "9              20           0.1      21.10600       10.97790        6.67627  \n",
              "10             20           0.0       5.56928        2.68258        1.87754  \n",
              "11             15           0.1       3.83515        1.44372        1.30836  \n",
              "12              0           0.1       3.59716        1.16524        1.17631  \n",
              "13              0           0.4       4.55229        1.40772        1.36378  \n",
              "14              0           0.1       3.51840        1.03529        1.12138  \n",
              "15              0           1.0       6.73206        2.21330        1.89045  \n",
              "16              5           0.1       3.75834        1.35513        1.26415  \n",
              "17              9           0.4       4.46912        1.35781        1.31273  \n",
              "18              5           0.1       3.51748        1.17608        1.03170  \n",
              "19             40           0.6      28.90110       18.88840        8.28304  \n",
              "20             15           0.4       7.73201        2.98960        2.47499  \n",
              "21             15           1.0      10.56050        4.79807        3.25845  \n",
              "22             15           3.0      56.20410       23.00380       13.33240  \n",
              "23             20           2.0      36.52970       13.41800        8.49295  \n",
              "24             15           0.4       8.83876        3.82518        2.78786  \n",
              "25             15           2.0      27.05600       10.50150        6.76944  \n",
              "26              0           1.0       7.84272        2.83123        2.28387  \n",
              "27              0           4.0      65.29280       28.96300       16.36270  \n",
              "28              5           1.0       7.00202        2.50404        1.98118  \n",
              "29              0           0.4       5.59453        1.98155        1.73018  "
            ],
            "text/html": [
              "\n",
              "  <div id=\"df-9933abf5-ebc8-4a7a-a296-a35c317dab18\">\n",
              "    <div class=\"colab-df-container\">\n",
              "      <div>\n",
              "<style scoped>\n",
              "    .dataframe tbody tr th:only-of-type {\n",
              "        vertical-align: middle;\n",
              "    }\n",
              "\n",
              "    .dataframe tbody tr th {\n",
              "        vertical-align: top;\n",
              "    }\n",
              "\n",
              "    .dataframe thead th {\n",
              "        text-align: right;\n",
              "    }\n",
              "</style>\n",
              "<table border=\"1\" class=\"dataframe\">\n",
              "  <thead>\n",
              "    <tr style=\"text-align: right;\">\n",
              "      <th></th>\n",
              "      <th>img_path</th>\n",
              "      <th>y_true</th>\n",
              "      <th>y_pred</th>\n",
              "      <th>pred_conf</th>\n",
              "      <th>y_true_classname</th>\n",
              "      <th>y_pred_classname</th>\n",
              "      <th>pred_correct</th>\n",
              "      <th>water (kg/min)</th>\n",
              "      <th>oil (kg /min)</th>\n",
              "      <th>air (kg/min)</th>\n",
              "      <th>PT131 [mbar]</th>\n",
              "      <th>PDT120 [mbar]</th>\n",
              "      <th>PDT121 [mbar]</th>\n",
              "    </tr>\n",
              "  </thead>\n",
              "  <tbody>\n",
              "    <tr>\n",
              "      <th>0</th>\n",
              "      <td>b'/content/dataset_2/test/annular/17.png'</td>\n",
              "      <td>0</td>\n",
              "      <td>0</td>\n",
              "      <td>0.550971</td>\n",
              "      <td>annular</td>\n",
              "      <td>annular</td>\n",
              "      <td>True</td>\n",
              "      <td>20</td>\n",
              "      <td>60</td>\n",
              "      <td>0.4</td>\n",
              "      <td>49.43530</td>\n",
              "      <td>23.16120</td>\n",
              "      <td>12.41920</td>\n",
              "    </tr>\n",
              "    <tr>\n",
              "      <th>1</th>\n",
              "      <td>b'/content/dataset_2/test/annular/20.png'</td>\n",
              "      <td>0</td>\n",
              "      <td>0</td>\n",
              "      <td>0.420688</td>\n",
              "      <td>annular</td>\n",
              "      <td>annular</td>\n",
              "      <td>True</td>\n",
              "      <td>20</td>\n",
              "      <td>20</td>\n",
              "      <td>0.5</td>\n",
              "      <td>19.62260</td>\n",
              "      <td>9.87799</td>\n",
              "      <td>5.70991</td>\n",
              "    </tr>\n",
              "    <tr>\n",
              "      <th>2</th>\n",
              "      <td>b'/content/dataset_2/test/annular/21.png'</td>\n",
              "      <td>0</td>\n",
              "      <td>0</td>\n",
              "      <td>0.778730</td>\n",
              "      <td>annular</td>\n",
              "      <td>annular</td>\n",
              "      <td>True</td>\n",
              "      <td>20</td>\n",
              "      <td>20</td>\n",
              "      <td>1.5</td>\n",
              "      <td>30.28990</td>\n",
              "      <td>11.68000</td>\n",
              "      <td>7.43477</td>\n",
              "    </tr>\n",
              "    <tr>\n",
              "      <th>3</th>\n",
              "      <td>b'/content/dataset_2/test/annular/22.png'</td>\n",
              "      <td>0</td>\n",
              "      <td>0</td>\n",
              "      <td>0.775306</td>\n",
              "      <td>annular</td>\n",
              "      <td>annular</td>\n",
              "      <td>True</td>\n",
              "      <td>15</td>\n",
              "      <td>15</td>\n",
              "      <td>1.5</td>\n",
              "      <td>22.76580</td>\n",
              "      <td>9.45925</td>\n",
              "      <td>6.07616</td>\n",
              "    </tr>\n",
              "    <tr>\n",
              "      <th>4</th>\n",
              "      <td>b'/content/dataset_2/test/annular/51.png'</td>\n",
              "      <td>0</td>\n",
              "      <td>0</td>\n",
              "      <td>0.751149</td>\n",
              "      <td>annular</td>\n",
              "      <td>annular</td>\n",
              "      <td>True</td>\n",
              "      <td>15</td>\n",
              "      <td>5</td>\n",
              "      <td>2.0</td>\n",
              "      <td>24.60420</td>\n",
              "      <td>10.22680</td>\n",
              "      <td>6.39396</td>\n",
              "    </tr>\n",
              "    <tr>\n",
              "      <th>5</th>\n",
              "      <td>b'/content/dataset_2/test/annular/56.png'</td>\n",
              "      <td>0</td>\n",
              "      <td>0</td>\n",
              "      <td>0.487887</td>\n",
              "      <td>annular</td>\n",
              "      <td>annular</td>\n",
              "      <td>True</td>\n",
              "      <td>0</td>\n",
              "      <td>5</td>\n",
              "      <td>4.0</td>\n",
              "      <td>53.37110</td>\n",
              "      <td>21.03130</td>\n",
              "      <td>12.02970</td>\n",
              "    </tr>\n",
              "    <tr>\n",
              "      <th>6</th>\n",
              "      <td>b'/content/dataset_2/test/annular/7.png'</td>\n",
              "      <td>0</td>\n",
              "      <td>0</td>\n",
              "      <td>0.477331</td>\n",
              "      <td>annular</td>\n",
              "      <td>annular</td>\n",
              "      <td>True</td>\n",
              "      <td>25</td>\n",
              "      <td>0</td>\n",
              "      <td>2.0</td>\n",
              "      <td>35.21786</td>\n",
              "      <td>16.21857</td>\n",
              "      <td>10.32126</td>\n",
              "    </tr>\n",
              "    <tr>\n",
              "      <th>7</th>\n",
              "      <td>b'/content/dataset_2/test/plug/29b.png'</td>\n",
              "      <td>1</td>\n",
              "      <td>1</td>\n",
              "      <td>0.810812</td>\n",
              "      <td>plug</td>\n",
              "      <td>plug</td>\n",
              "      <td>True</td>\n",
              "      <td>0</td>\n",
              "      <td>25</td>\n",
              "      <td>0.1</td>\n",
              "      <td>7.34950</td>\n",
              "      <td>3.60246</td>\n",
              "      <td>2.53466</td>\n",
              "    </tr>\n",
              "    <tr>\n",
              "      <th>8</th>\n",
              "      <td>b'/content/dataset_2/test/slug/14.png'</td>\n",
              "      <td>2</td>\n",
              "      <td>2</td>\n",
              "      <td>0.611295</td>\n",
              "      <td>slug</td>\n",
              "      <td>slug</td>\n",
              "      <td>True</td>\n",
              "      <td>40</td>\n",
              "      <td>40</td>\n",
              "      <td>0.1</td>\n",
              "      <td>21.07120</td>\n",
              "      <td>11.29780</td>\n",
              "      <td>6.84837</td>\n",
              "    </tr>\n",
              "    <tr>\n",
              "      <th>9</th>\n",
              "      <td>b'/content/dataset_2/test/slug/15.png'</td>\n",
              "      <td>2</td>\n",
              "      <td>2</td>\n",
              "      <td>0.449713</td>\n",
              "      <td>slug</td>\n",
              "      <td>slug</td>\n",
              "      <td>True</td>\n",
              "      <td>60</td>\n",
              "      <td>20</td>\n",
              "      <td>0.1</td>\n",
              "      <td>21.10600</td>\n",
              "      <td>10.97790</td>\n",
              "      <td>6.67627</td>\n",
              "    </tr>\n",
              "    <tr>\n",
              "      <th>10</th>\n",
              "      <td>b'/content/dataset_2/test/stratified/12.png'</td>\n",
              "      <td>3</td>\n",
              "      <td>3</td>\n",
              "      <td>0.453887</td>\n",
              "      <td>stratified</td>\n",
              "      <td>stratified</td>\n",
              "      <td>True</td>\n",
              "      <td>20</td>\n",
              "      <td>20</td>\n",
              "      <td>0.0</td>\n",
              "      <td>5.56928</td>\n",
              "      <td>2.68258</td>\n",
              "      <td>1.87754</td>\n",
              "    </tr>\n",
              "    <tr>\n",
              "      <th>11</th>\n",
              "      <td>b'/content/dataset_2/test/stratified/32.png'</td>\n",
              "      <td>3</td>\n",
              "      <td>3</td>\n",
              "      <td>0.782452</td>\n",
              "      <td>stratified</td>\n",
              "      <td>stratified</td>\n",
              "      <td>True</td>\n",
              "      <td>0</td>\n",
              "      <td>15</td>\n",
              "      <td>0.1</td>\n",
              "      <td>3.83515</td>\n",
              "      <td>1.44372</td>\n",
              "      <td>1.30836</td>\n",
              "    </tr>\n",
              "    <tr>\n",
              "      <th>12</th>\n",
              "      <td>b'/content/dataset_2/test/stratified/42.png'</td>\n",
              "      <td>3</td>\n",
              "      <td>3</td>\n",
              "      <td>0.924525</td>\n",
              "      <td>stratified</td>\n",
              "      <td>stratified</td>\n",
              "      <td>True</td>\n",
              "      <td>10</td>\n",
              "      <td>0</td>\n",
              "      <td>0.1</td>\n",
              "      <td>3.59716</td>\n",
              "      <td>1.16524</td>\n",
              "      <td>1.17631</td>\n",
              "    </tr>\n",
              "    <tr>\n",
              "      <th>13</th>\n",
              "      <td>b'/content/dataset_2/test/stratified/43.png'</td>\n",
              "      <td>3</td>\n",
              "      <td>3</td>\n",
              "      <td>0.413284</td>\n",
              "      <td>stratified</td>\n",
              "      <td>stratified</td>\n",
              "      <td>True</td>\n",
              "      <td>10</td>\n",
              "      <td>0</td>\n",
              "      <td>0.4</td>\n",
              "      <td>4.55229</td>\n",
              "      <td>1.40772</td>\n",
              "      <td>1.36378</td>\n",
              "    </tr>\n",
              "    <tr>\n",
              "      <th>14</th>\n",
              "      <td>b'/content/dataset_2/test/stratified/46.png'</td>\n",
              "      <td>3</td>\n",
              "      <td>3</td>\n",
              "      <td>0.725110</td>\n",
              "      <td>stratified</td>\n",
              "      <td>stratified</td>\n",
              "      <td>True</td>\n",
              "      <td>5</td>\n",
              "      <td>0</td>\n",
              "      <td>0.1</td>\n",
              "      <td>3.51840</td>\n",
              "      <td>1.03529</td>\n",
              "      <td>1.12138</td>\n",
              "    </tr>\n",
              "    <tr>\n",
              "      <th>15</th>\n",
              "      <td>b'/content/dataset_2/test/stratified/47.png'</td>\n",
              "      <td>3</td>\n",
              "      <td>3</td>\n",
              "      <td>0.406563</td>\n",
              "      <td>stratified</td>\n",
              "      <td>stratified</td>\n",
              "      <td>True</td>\n",
              "      <td>5</td>\n",
              "      <td>0</td>\n",
              "      <td>1.0</td>\n",
              "      <td>6.73206</td>\n",
              "      <td>2.21330</td>\n",
              "      <td>1.89045</td>\n",
              "    </tr>\n",
              "    <tr>\n",
              "      <th>16</th>\n",
              "      <td>b'/content/dataset_2/test/stratified/49.png'</td>\n",
              "      <td>3</td>\n",
              "      <td>3</td>\n",
              "      <td>0.894173</td>\n",
              "      <td>stratified</td>\n",
              "      <td>stratified</td>\n",
              "      <td>True</td>\n",
              "      <td>15</td>\n",
              "      <td>5</td>\n",
              "      <td>0.1</td>\n",
              "      <td>3.75834</td>\n",
              "      <td>1.35513</td>\n",
              "      <td>1.26415</td>\n",
              "    </tr>\n",
              "    <tr>\n",
              "      <th>17</th>\n",
              "      <td>b'/content/dataset_2/test/stratified/53.png'</td>\n",
              "      <td>3</td>\n",
              "      <td>3</td>\n",
              "      <td>0.608424</td>\n",
              "      <td>stratified</td>\n",
              "      <td>stratified</td>\n",
              "      <td>True</td>\n",
              "      <td>0</td>\n",
              "      <td>9</td>\n",
              "      <td>0.4</td>\n",
              "      <td>4.46912</td>\n",
              "      <td>1.35781</td>\n",
              "      <td>1.31273</td>\n",
              "    </tr>\n",
              "    <tr>\n",
              "      <th>18</th>\n",
              "      <td>b'/content/dataset_2/test/stratified/58.png'</td>\n",
              "      <td>3</td>\n",
              "      <td>3</td>\n",
              "      <td>0.791145</td>\n",
              "      <td>stratified</td>\n",
              "      <td>stratified</td>\n",
              "      <td>True</td>\n",
              "      <td>0</td>\n",
              "      <td>5</td>\n",
              "      <td>0.1</td>\n",
              "      <td>3.51748</td>\n",
              "      <td>1.17608</td>\n",
              "      <td>1.03170</td>\n",
              "    </tr>\n",
              "    <tr>\n",
              "      <th>19</th>\n",
              "      <td>b'/content/dataset_2/test/wavy/28.png'</td>\n",
              "      <td>4</td>\n",
              "      <td>0</td>\n",
              "      <td>0.593058</td>\n",
              "      <td>wavy</td>\n",
              "      <td>annular</td>\n",
              "      <td>False</td>\n",
              "      <td>0</td>\n",
              "      <td>40</td>\n",
              "      <td>0.6</td>\n",
              "      <td>28.90110</td>\n",
              "      <td>18.88840</td>\n",
              "      <td>8.28304</td>\n",
              "    </tr>\n",
              "    <tr>\n",
              "      <th>20</th>\n",
              "      <td>b'/content/dataset_2/test/wavy/33.png'</td>\n",
              "      <td>4</td>\n",
              "      <td>1</td>\n",
              "      <td>0.278254</td>\n",
              "      <td>wavy</td>\n",
              "      <td>plug</td>\n",
              "      <td>False</td>\n",
              "      <td>0</td>\n",
              "      <td>15</td>\n",
              "      <td>0.4</td>\n",
              "      <td>7.73201</td>\n",
              "      <td>2.98960</td>\n",
              "      <td>2.47499</td>\n",
              "    </tr>\n",
              "    <tr>\n",
              "      <th>21</th>\n",
              "      <td>b'/content/dataset_2/test/wavy/34.png'</td>\n",
              "      <td>4</td>\n",
              "      <td>0</td>\n",
              "      <td>0.603496</td>\n",
              "      <td>wavy</td>\n",
              "      <td>annular</td>\n",
              "      <td>False</td>\n",
              "      <td>0</td>\n",
              "      <td>15</td>\n",
              "      <td>1.0</td>\n",
              "      <td>10.56050</td>\n",
              "      <td>4.79807</td>\n",
              "      <td>3.25845</td>\n",
              "    </tr>\n",
              "    <tr>\n",
              "      <th>22</th>\n",
              "      <td>b'/content/dataset_2/test/wavy/35.png'</td>\n",
              "      <td>4</td>\n",
              "      <td>0</td>\n",
              "      <td>0.604229</td>\n",
              "      <td>wavy</td>\n",
              "      <td>annular</td>\n",
              "      <td>False</td>\n",
              "      <td>0</td>\n",
              "      <td>15</td>\n",
              "      <td>3.0</td>\n",
              "      <td>56.20410</td>\n",
              "      <td>23.00380</td>\n",
              "      <td>13.33240</td>\n",
              "    </tr>\n",
              "    <tr>\n",
              "      <th>23</th>\n",
              "      <td>b'/content/dataset_2/test/wavy/38.png'</td>\n",
              "      <td>4</td>\n",
              "      <td>0</td>\n",
              "      <td>0.826979</td>\n",
              "      <td>wavy</td>\n",
              "      <td>annular</td>\n",
              "      <td>False</td>\n",
              "      <td>10</td>\n",
              "      <td>20</td>\n",
              "      <td>2.0</td>\n",
              "      <td>36.52970</td>\n",
              "      <td>13.41800</td>\n",
              "      <td>8.49295</td>\n",
              "    </tr>\n",
              "    <tr>\n",
              "      <th>24</th>\n",
              "      <td>b'/content/dataset_2/test/wavy/40.png'</td>\n",
              "      <td>4</td>\n",
              "      <td>4</td>\n",
              "      <td>0.307420</td>\n",
              "      <td>wavy</td>\n",
              "      <td>wavy</td>\n",
              "      <td>True</td>\n",
              "      <td>5</td>\n",
              "      <td>15</td>\n",
              "      <td>0.4</td>\n",
              "      <td>8.83876</td>\n",
              "      <td>3.82518</td>\n",
              "      <td>2.78786</td>\n",
              "    </tr>\n",
              "    <tr>\n",
              "      <th>25</th>\n",
              "      <td>b'/content/dataset_2/test/wavy/41.png'</td>\n",
              "      <td>4</td>\n",
              "      <td>0</td>\n",
              "      <td>0.737600</td>\n",
              "      <td>wavy</td>\n",
              "      <td>annular</td>\n",
              "      <td>False</td>\n",
              "      <td>5</td>\n",
              "      <td>15</td>\n",
              "      <td>2.0</td>\n",
              "      <td>27.05600</td>\n",
              "      <td>10.50150</td>\n",
              "      <td>6.76944</td>\n",
              "    </tr>\n",
              "    <tr>\n",
              "      <th>26</th>\n",
              "      <td>b'/content/dataset_2/test/wavy/44.png'</td>\n",
              "      <td>4</td>\n",
              "      <td>3</td>\n",
              "      <td>0.406469</td>\n",
              "      <td>wavy</td>\n",
              "      <td>stratified</td>\n",
              "      <td>False</td>\n",
              "      <td>10</td>\n",
              "      <td>0</td>\n",
              "      <td>1.0</td>\n",
              "      <td>7.84272</td>\n",
              "      <td>2.83123</td>\n",
              "      <td>2.28387</td>\n",
              "    </tr>\n",
              "    <tr>\n",
              "      <th>27</th>\n",
              "      <td>b'/content/dataset_2/test/wavy/45.png'</td>\n",
              "      <td>4</td>\n",
              "      <td>0</td>\n",
              "      <td>0.579498</td>\n",
              "      <td>wavy</td>\n",
              "      <td>annular</td>\n",
              "      <td>False</td>\n",
              "      <td>10</td>\n",
              "      <td>0</td>\n",
              "      <td>4.0</td>\n",
              "      <td>65.29280</td>\n",
              "      <td>28.96300</td>\n",
              "      <td>16.36270</td>\n",
              "    </tr>\n",
              "    <tr>\n",
              "      <th>28</th>\n",
              "      <td>b'/content/dataset_2/test/wavy/57.png'</td>\n",
              "      <td>4</td>\n",
              "      <td>0</td>\n",
              "      <td>0.410501</td>\n",
              "      <td>wavy</td>\n",
              "      <td>annular</td>\n",
              "      <td>False</td>\n",
              "      <td>0</td>\n",
              "      <td>5</td>\n",
              "      <td>1.0</td>\n",
              "      <td>7.00202</td>\n",
              "      <td>2.50404</td>\n",
              "      <td>1.98118</td>\n",
              "    </tr>\n",
              "    <tr>\n",
              "      <th>29</th>\n",
              "      <td>b'/content/dataset_2/test/wavy/9.png'</td>\n",
              "      <td>4</td>\n",
              "      <td>4</td>\n",
              "      <td>0.317249</td>\n",
              "      <td>wavy</td>\n",
              "      <td>wavy</td>\n",
              "      <td>True</td>\n",
              "      <td>15</td>\n",
              "      <td>0</td>\n",
              "      <td>0.4</td>\n",
              "      <td>5.59453</td>\n",
              "      <td>1.98155</td>\n",
              "      <td>1.73018</td>\n",
              "    </tr>\n",
              "  </tbody>\n",
              "</table>\n",
              "</div>\n",
              "      <button class=\"colab-df-convert\" onclick=\"convertToInteractive('df-9933abf5-ebc8-4a7a-a296-a35c317dab18')\"\n",
              "              title=\"Convert this dataframe to an interactive table.\"\n",
              "              style=\"display:none;\">\n",
              "        \n",
              "  <svg xmlns=\"http://www.w3.org/2000/svg\" height=\"24px\"viewBox=\"0 0 24 24\"\n",
              "       width=\"24px\">\n",
              "    <path d=\"M0 0h24v24H0V0z\" fill=\"none\"/>\n",
              "    <path d=\"M18.56 5.44l.94 2.06.94-2.06 2.06-.94-2.06-.94-.94-2.06-.94 2.06-2.06.94zm-11 1L8.5 8.5l.94-2.06 2.06-.94-2.06-.94L8.5 2.5l-.94 2.06-2.06.94zm10 10l.94 2.06.94-2.06 2.06-.94-2.06-.94-.94-2.06-.94 2.06-2.06.94z\"/><path d=\"M17.41 7.96l-1.37-1.37c-.4-.4-.92-.59-1.43-.59-.52 0-1.04.2-1.43.59L10.3 9.45l-7.72 7.72c-.78.78-.78 2.05 0 2.83L4 21.41c.39.39.9.59 1.41.59.51 0 1.02-.2 1.41-.59l7.78-7.78 2.81-2.81c.8-.78.8-2.07 0-2.86zM5.41 20L4 18.59l7.72-7.72 1.47 1.35L5.41 20z\"/>\n",
              "  </svg>\n",
              "      </button>\n",
              "      \n",
              "  <style>\n",
              "    .colab-df-container {\n",
              "      display:flex;\n",
              "      flex-wrap:wrap;\n",
              "      gap: 12px;\n",
              "    }\n",
              "\n",
              "    .colab-df-convert {\n",
              "      background-color: #E8F0FE;\n",
              "      border: none;\n",
              "      border-radius: 50%;\n",
              "      cursor: pointer;\n",
              "      display: none;\n",
              "      fill: #1967D2;\n",
              "      height: 32px;\n",
              "      padding: 0 0 0 0;\n",
              "      width: 32px;\n",
              "    }\n",
              "\n",
              "    .colab-df-convert:hover {\n",
              "      background-color: #E2EBFA;\n",
              "      box-shadow: 0px 1px 2px rgba(60, 64, 67, 0.3), 0px 1px 3px 1px rgba(60, 64, 67, 0.15);\n",
              "      fill: #174EA6;\n",
              "    }\n",
              "\n",
              "    [theme=dark] .colab-df-convert {\n",
              "      background-color: #3B4455;\n",
              "      fill: #D2E3FC;\n",
              "    }\n",
              "\n",
              "    [theme=dark] .colab-df-convert:hover {\n",
              "      background-color: #434B5C;\n",
              "      box-shadow: 0px 1px 3px 1px rgba(0, 0, 0, 0.15);\n",
              "      filter: drop-shadow(0px 1px 2px rgba(0, 0, 0, 0.3));\n",
              "      fill: #FFFFFF;\n",
              "    }\n",
              "  </style>\n",
              "\n",
              "      <script>\n",
              "        const buttonEl =\n",
              "          document.querySelector('#df-9933abf5-ebc8-4a7a-a296-a35c317dab18 button.colab-df-convert');\n",
              "        buttonEl.style.display =\n",
              "          google.colab.kernel.accessAllowed ? 'block' : 'none';\n",
              "\n",
              "        async function convertToInteractive(key) {\n",
              "          const element = document.querySelector('#df-9933abf5-ebc8-4a7a-a296-a35c317dab18');\n",
              "          const dataTable =\n",
              "            await google.colab.kernel.invokeFunction('convertToInteractive',\n",
              "                                                     [key], {});\n",
              "          if (!dataTable) return;\n",
              "\n",
              "          const docLinkHtml = 'Like what you see? Visit the ' +\n",
              "            '<a target=\"_blank\" href=https://colab.research.google.com/notebooks/data_table.ipynb>data table notebook</a>'\n",
              "            + ' to learn more about interactive tables.';\n",
              "          element.innerHTML = '';\n",
              "          dataTable['output_type'] = 'display_data';\n",
              "          await google.colab.output.renderOutput(dataTable, element);\n",
              "          const docLink = document.createElement('div');\n",
              "          docLink.innerHTML = docLinkHtml;\n",
              "          element.appendChild(docLink);\n",
              "        }\n",
              "      </script>\n",
              "    </div>\n",
              "  </div>\n",
              "  "
            ]
          },
          "metadata": {},
          "execution_count": 57
        }
      ]
    },
    {
      "cell_type": "code",
      "source": [
        "df.isnull().sum()"
      ],
      "metadata": {
        "colab": {
          "base_uri": "https://localhost:8080/"
        },
        "id": "39R5oQbixCMy",
        "outputId": "d88a0c60-a1d1-47fb-e305-f7b1df33c647"
      },
      "execution_count": null,
      "outputs": [
        {
          "output_type": "execute_result",
          "data": {
            "text/plain": [
              "img_path             0\n",
              "y_true               0\n",
              "y_pred               0\n",
              "pred_conf            0\n",
              " y_true_classname    0\n",
              "y_pred_classname     0\n",
              "pred_correct         0\n",
              "water (kg/min)       0\n",
              "oil (kg /min)        0\n",
              "air (kg/min)         0\n",
              "PT131 [mbar]         0\n",
              "PDT120 [mbar]        0\n",
              "PDT121 [mbar]        0\n",
              "dtype: int64"
            ]
          },
          "metadata": {},
          "execution_count": 58
        }
      ]
    },
    {
      "cell_type": "code",
      "source": [
        "df.describe()"
      ],
      "metadata": {
        "colab": {
          "base_uri": "https://localhost:8080/",
          "height": 300
        },
        "id": "k1kDx7m3y7Wo",
        "outputId": "3430bd52-0f8c-4946-e954-fb260beb4514"
      },
      "execution_count": null,
      "outputs": [
        {
          "output_type": "execute_result",
          "data": {
            "text/plain": [
              "          y_true     y_pred  pred_conf  water (kg/min)  oil (kg /min)  \\\n",
              "count  30.000000  30.000000  30.000000       30.000000      30.000000   \n",
              "mean    2.533333   1.466667   0.592607       11.166667      13.466667   \n",
              "std     1.591645   1.525266   0.185475       13.370279      14.099971   \n",
              "min     0.000000   0.000000   0.278254        0.000000       0.000000   \n",
              "25%     1.250000   0.000000   0.427944        0.000000       1.250000   \n",
              "50%     3.000000   1.000000   0.598277       10.000000      15.000000   \n",
              "75%     4.000000   3.000000   0.769267       15.000000      20.000000   \n",
              "max     4.000000   4.000000   0.924525       60.000000      60.000000   \n",
              "\n",
              "       air (kg/min)  PT131 [mbar]  PDT120 [mbar]  PDT121 [mbar]  \n",
              "count     30.000000     30.000000      30.000000      30.000000  \n",
              "mean       1.010000     19.531233       8.502484       5.218257  \n",
              "std        1.122605     17.962405       8.021114       4.309386  \n",
              "min        0.000000      3.517480       1.035290       1.031700  \n",
              "25%        0.100000      5.575592       2.039487       1.767020  \n",
              "50%        0.450000      9.699630       4.311625       3.023155  \n",
              "75%        1.500000     28.439825      11.584450       7.288170  \n",
              "max        4.000000     65.292800      28.963000      16.362700  "
            ],
            "text/html": [
              "\n",
              "  <div id=\"df-fcf2eb0b-1985-46e9-81b8-d09dd0278774\">\n",
              "    <div class=\"colab-df-container\">\n",
              "      <div>\n",
              "<style scoped>\n",
              "    .dataframe tbody tr th:only-of-type {\n",
              "        vertical-align: middle;\n",
              "    }\n",
              "\n",
              "    .dataframe tbody tr th {\n",
              "        vertical-align: top;\n",
              "    }\n",
              "\n",
              "    .dataframe thead th {\n",
              "        text-align: right;\n",
              "    }\n",
              "</style>\n",
              "<table border=\"1\" class=\"dataframe\">\n",
              "  <thead>\n",
              "    <tr style=\"text-align: right;\">\n",
              "      <th></th>\n",
              "      <th>y_true</th>\n",
              "      <th>y_pred</th>\n",
              "      <th>pred_conf</th>\n",
              "      <th>water (kg/min)</th>\n",
              "      <th>oil (kg /min)</th>\n",
              "      <th>air (kg/min)</th>\n",
              "      <th>PT131 [mbar]</th>\n",
              "      <th>PDT120 [mbar]</th>\n",
              "      <th>PDT121 [mbar]</th>\n",
              "    </tr>\n",
              "  </thead>\n",
              "  <tbody>\n",
              "    <tr>\n",
              "      <th>count</th>\n",
              "      <td>30.000000</td>\n",
              "      <td>30.000000</td>\n",
              "      <td>30.000000</td>\n",
              "      <td>30.000000</td>\n",
              "      <td>30.000000</td>\n",
              "      <td>30.000000</td>\n",
              "      <td>30.000000</td>\n",
              "      <td>30.000000</td>\n",
              "      <td>30.000000</td>\n",
              "    </tr>\n",
              "    <tr>\n",
              "      <th>mean</th>\n",
              "      <td>2.533333</td>\n",
              "      <td>1.466667</td>\n",
              "      <td>0.592607</td>\n",
              "      <td>11.166667</td>\n",
              "      <td>13.466667</td>\n",
              "      <td>1.010000</td>\n",
              "      <td>19.531233</td>\n",
              "      <td>8.502484</td>\n",
              "      <td>5.218257</td>\n",
              "    </tr>\n",
              "    <tr>\n",
              "      <th>std</th>\n",
              "      <td>1.591645</td>\n",
              "      <td>1.525266</td>\n",
              "      <td>0.185475</td>\n",
              "      <td>13.370279</td>\n",
              "      <td>14.099971</td>\n",
              "      <td>1.122605</td>\n",
              "      <td>17.962405</td>\n",
              "      <td>8.021114</td>\n",
              "      <td>4.309386</td>\n",
              "    </tr>\n",
              "    <tr>\n",
              "      <th>min</th>\n",
              "      <td>0.000000</td>\n",
              "      <td>0.000000</td>\n",
              "      <td>0.278254</td>\n",
              "      <td>0.000000</td>\n",
              "      <td>0.000000</td>\n",
              "      <td>0.000000</td>\n",
              "      <td>3.517480</td>\n",
              "      <td>1.035290</td>\n",
              "      <td>1.031700</td>\n",
              "    </tr>\n",
              "    <tr>\n",
              "      <th>25%</th>\n",
              "      <td>1.250000</td>\n",
              "      <td>0.000000</td>\n",
              "      <td>0.427944</td>\n",
              "      <td>0.000000</td>\n",
              "      <td>1.250000</td>\n",
              "      <td>0.100000</td>\n",
              "      <td>5.575592</td>\n",
              "      <td>2.039487</td>\n",
              "      <td>1.767020</td>\n",
              "    </tr>\n",
              "    <tr>\n",
              "      <th>50%</th>\n",
              "      <td>3.000000</td>\n",
              "      <td>1.000000</td>\n",
              "      <td>0.598277</td>\n",
              "      <td>10.000000</td>\n",
              "      <td>15.000000</td>\n",
              "      <td>0.450000</td>\n",
              "      <td>9.699630</td>\n",
              "      <td>4.311625</td>\n",
              "      <td>3.023155</td>\n",
              "    </tr>\n",
              "    <tr>\n",
              "      <th>75%</th>\n",
              "      <td>4.000000</td>\n",
              "      <td>3.000000</td>\n",
              "      <td>0.769267</td>\n",
              "      <td>15.000000</td>\n",
              "      <td>20.000000</td>\n",
              "      <td>1.500000</td>\n",
              "      <td>28.439825</td>\n",
              "      <td>11.584450</td>\n",
              "      <td>7.288170</td>\n",
              "    </tr>\n",
              "    <tr>\n",
              "      <th>max</th>\n",
              "      <td>4.000000</td>\n",
              "      <td>4.000000</td>\n",
              "      <td>0.924525</td>\n",
              "      <td>60.000000</td>\n",
              "      <td>60.000000</td>\n",
              "      <td>4.000000</td>\n",
              "      <td>65.292800</td>\n",
              "      <td>28.963000</td>\n",
              "      <td>16.362700</td>\n",
              "    </tr>\n",
              "  </tbody>\n",
              "</table>\n",
              "</div>\n",
              "      <button class=\"colab-df-convert\" onclick=\"convertToInteractive('df-fcf2eb0b-1985-46e9-81b8-d09dd0278774')\"\n",
              "              title=\"Convert this dataframe to an interactive table.\"\n",
              "              style=\"display:none;\">\n",
              "        \n",
              "  <svg xmlns=\"http://www.w3.org/2000/svg\" height=\"24px\"viewBox=\"0 0 24 24\"\n",
              "       width=\"24px\">\n",
              "    <path d=\"M0 0h24v24H0V0z\" fill=\"none\"/>\n",
              "    <path d=\"M18.56 5.44l.94 2.06.94-2.06 2.06-.94-2.06-.94-.94-2.06-.94 2.06-2.06.94zm-11 1L8.5 8.5l.94-2.06 2.06-.94-2.06-.94L8.5 2.5l-.94 2.06-2.06.94zm10 10l.94 2.06.94-2.06 2.06-.94-2.06-.94-.94-2.06-.94 2.06-2.06.94z\"/><path d=\"M17.41 7.96l-1.37-1.37c-.4-.4-.92-.59-1.43-.59-.52 0-1.04.2-1.43.59L10.3 9.45l-7.72 7.72c-.78.78-.78 2.05 0 2.83L4 21.41c.39.39.9.59 1.41.59.51 0 1.02-.2 1.41-.59l7.78-7.78 2.81-2.81c.8-.78.8-2.07 0-2.86zM5.41 20L4 18.59l7.72-7.72 1.47 1.35L5.41 20z\"/>\n",
              "  </svg>\n",
              "      </button>\n",
              "      \n",
              "  <style>\n",
              "    .colab-df-container {\n",
              "      display:flex;\n",
              "      flex-wrap:wrap;\n",
              "      gap: 12px;\n",
              "    }\n",
              "\n",
              "    .colab-df-convert {\n",
              "      background-color: #E8F0FE;\n",
              "      border: none;\n",
              "      border-radius: 50%;\n",
              "      cursor: pointer;\n",
              "      display: none;\n",
              "      fill: #1967D2;\n",
              "      height: 32px;\n",
              "      padding: 0 0 0 0;\n",
              "      width: 32px;\n",
              "    }\n",
              "\n",
              "    .colab-df-convert:hover {\n",
              "      background-color: #E2EBFA;\n",
              "      box-shadow: 0px 1px 2px rgba(60, 64, 67, 0.3), 0px 1px 3px 1px rgba(60, 64, 67, 0.15);\n",
              "      fill: #174EA6;\n",
              "    }\n",
              "\n",
              "    [theme=dark] .colab-df-convert {\n",
              "      background-color: #3B4455;\n",
              "      fill: #D2E3FC;\n",
              "    }\n",
              "\n",
              "    [theme=dark] .colab-df-convert:hover {\n",
              "      background-color: #434B5C;\n",
              "      box-shadow: 0px 1px 3px 1px rgba(0, 0, 0, 0.15);\n",
              "      filter: drop-shadow(0px 1px 2px rgba(0, 0, 0, 0.3));\n",
              "      fill: #FFFFFF;\n",
              "    }\n",
              "  </style>\n",
              "\n",
              "      <script>\n",
              "        const buttonEl =\n",
              "          document.querySelector('#df-fcf2eb0b-1985-46e9-81b8-d09dd0278774 button.colab-df-convert');\n",
              "        buttonEl.style.display =\n",
              "          google.colab.kernel.accessAllowed ? 'block' : 'none';\n",
              "\n",
              "        async function convertToInteractive(key) {\n",
              "          const element = document.querySelector('#df-fcf2eb0b-1985-46e9-81b8-d09dd0278774');\n",
              "          const dataTable =\n",
              "            await google.colab.kernel.invokeFunction('convertToInteractive',\n",
              "                                                     [key], {});\n",
              "          if (!dataTable) return;\n",
              "\n",
              "          const docLinkHtml = 'Like what you see? Visit the ' +\n",
              "            '<a target=\"_blank\" href=https://colab.research.google.com/notebooks/data_table.ipynb>data table notebook</a>'\n",
              "            + ' to learn more about interactive tables.';\n",
              "          element.innerHTML = '';\n",
              "          dataTable['output_type'] = 'display_data';\n",
              "          await google.colab.output.renderOutput(dataTable, element);\n",
              "          const docLink = document.createElement('div');\n",
              "          docLink.innerHTML = docLinkHtml;\n",
              "          element.appendChild(docLink);\n",
              "        }\n",
              "      </script>\n",
              "    </div>\n",
              "  </div>\n",
              "  "
            ]
          },
          "metadata": {},
          "execution_count": 59
        }
      ]
    },
    {
      "cell_type": "code",
      "source": [],
      "metadata": {
        "id": "WWin7E8Ny_FU"
      },
      "execution_count": null,
      "outputs": []
    }
  ]
}