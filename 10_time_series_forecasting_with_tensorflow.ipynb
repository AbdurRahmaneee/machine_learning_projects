{
  "nbformat": 4,
  "nbformat_minor": 0,
  "metadata": {
    "colab": {
      "provenance": [],
      "authorship_tag": "ABX9TyPZVB23PYvoor/TGXeJD+i/",
      "include_colab_link": true
    },
    "kernelspec": {
      "name": "python3",
      "display_name": "Python 3"
    },
    "language_info": {
      "name": "python"
    },
    "accelerator": "GPU",
    "gpuClass": "standard"
  },
  "cells": [
    {
      "cell_type": "markdown",
      "metadata": {
        "id": "view-in-github",
        "colab_type": "text"
      },
      "source": [
        "<a href=\"https://colab.research.google.com/github/AbdurRahmaneee/machine_learning_projects/blob/main/10_time_series_forecasting_with_tensorflow.ipynb\" target=\"_parent\"><img src=\"https://colab.research.google.com/assets/colab-badge.svg\" alt=\"Open In Colab\"/></a>"
      ]
    },
    {
      "cell_type": "markdown",
      "source": [
        "# Time series forecasting fundemantals with Tensorflow + Milestone Project 3: BitPredict💰📈\n",
        "\n",
        "⚠ **Note:** This is not financial advice.\n",
        "\n",
        "Let's write some Tensorflow code to predict the price of Bitcoin."
      ],
      "metadata": {
        "id": "ZLxh-wIyu9Sd"
      }
    },
    {
      "cell_type": "markdown",
      "source": [
        "## Get data\n",
        "\n",
        "We're going to be using the historical price data of Bitcoin to try and predict the future price of Bitcoin, we downloaded the data from here"
      ],
      "metadata": {
        "id": "uVmQJkCjveq5"
      }
    },
    {
      "cell_type": "code",
      "source": [
        "!wget https://raw.githubusercontent.com/mrdbourke/tensorflow-deep-learning/main/extras/BTC_USD_2013-10-01_2021-05-18-CoinDesk.csv"
      ],
      "metadata": {
        "colab": {
          "base_uri": "https://localhost:8080/"
        },
        "id": "SnUsfmaKwJEW",
        "outputId": "62ae7c11-6cbf-46b7-9439-6b486710c135"
      },
      "execution_count": null,
      "outputs": [
        {
          "output_type": "stream",
          "name": "stdout",
          "text": [
            "--2022-11-09 16:45:31--  https://raw.githubusercontent.com/mrdbourke/tensorflow-deep-learning/main/extras/BTC_USD_2013-10-01_2021-05-18-CoinDesk.csv\n",
            "Resolving raw.githubusercontent.com (raw.githubusercontent.com)... 185.199.108.133, 185.199.111.133, 185.199.109.133, ...\n",
            "Connecting to raw.githubusercontent.com (raw.githubusercontent.com)|185.199.108.133|:443... connected.\n",
            "HTTP request sent, awaiting response... 200 OK\n",
            "Length: 178509 (174K) [text/plain]\n",
            "Saving to: ‘BTC_USD_2013-10-01_2021-05-18-CoinDesk.csv’\n",
            "\n",
            "BTC_USD_2013-10-01_ 100%[===================>] 174.33K  --.-KB/s    in 0.003s  \n",
            "\n",
            "2022-11-09 16:45:32 (62.4 MB/s) - ‘BTC_USD_2013-10-01_2021-05-18-CoinDesk.csv’ saved [178509/178509]\n",
            "\n"
          ]
        }
      ]
    },
    {
      "cell_type": "markdown",
      "source": [
        "## Importing time series with pandas"
      ],
      "metadata": {
        "id": "Omw7fG5Nw2v2"
      }
    },
    {
      "cell_type": "code",
      "source": [
        "# Import wiht pandas\n",
        "import pandas as pd\n",
        "# Let's read in out Bitcoin data and parse the dates\n",
        "df = pd.read_csv(\"/content/BTC_USD_2013-10-01_2021-05-18-CoinDesk.csv\",\n",
        "                 parse_dates=[\"Date\"],\n",
        "                 index_col=[\"Date\"]) # parse the date column and tell pandas column 1 is a datetime\n",
        "df.head()\n"
      ],
      "metadata": {
        "colab": {
          "base_uri": "https://localhost:8080/",
          "height": 385
        },
        "id": "T8tENEK3xc9L",
        "outputId": "e468fec6-b02e-49aa-8cd7-eccd6406c42f"
      },
      "execution_count": null,
      "outputs": [
        {
          "output_type": "execute_result",
          "data": {
            "text/plain": [
              "           Currency  Closing Price (USD)  24h Open (USD)  24h High (USD)  \\\n",
              "Date                                                                       \n",
              "2013-10-01      BTC            123.65499       124.30466       124.75166   \n",
              "2013-10-02      BTC            125.45500       123.65499       125.75850   \n",
              "2013-10-03      BTC            108.58483       125.45500       125.66566   \n",
              "2013-10-04      BTC            118.67466       108.58483       118.67500   \n",
              "2013-10-05      BTC            121.33866       118.67466       121.93633   \n",
              "\n",
              "            24h Low (USD)  \n",
              "Date                       \n",
              "2013-10-01      122.56349  \n",
              "2013-10-02      123.63383  \n",
              "2013-10-03       83.32833  \n",
              "2013-10-04      107.05816  \n",
              "2013-10-05      118.00566  "
            ],
            "text/html": [
              "\n",
              "  <div id=\"df-3b4ebd4a-a763-4368-9bf7-e6a4d704cc14\">\n",
              "    <div class=\"colab-df-container\">\n",
              "      <div>\n",
              "<style scoped>\n",
              "    .dataframe tbody tr th:only-of-type {\n",
              "        vertical-align: middle;\n",
              "    }\n",
              "\n",
              "    .dataframe tbody tr th {\n",
              "        vertical-align: top;\n",
              "    }\n",
              "\n",
              "    .dataframe thead th {\n",
              "        text-align: right;\n",
              "    }\n",
              "</style>\n",
              "<table border=\"1\" class=\"dataframe\">\n",
              "  <thead>\n",
              "    <tr style=\"text-align: right;\">\n",
              "      <th></th>\n",
              "      <th>Currency</th>\n",
              "      <th>Closing Price (USD)</th>\n",
              "      <th>24h Open (USD)</th>\n",
              "      <th>24h High (USD)</th>\n",
              "      <th>24h Low (USD)</th>\n",
              "    </tr>\n",
              "    <tr>\n",
              "      <th>Date</th>\n",
              "      <th></th>\n",
              "      <th></th>\n",
              "      <th></th>\n",
              "      <th></th>\n",
              "      <th></th>\n",
              "    </tr>\n",
              "  </thead>\n",
              "  <tbody>\n",
              "    <tr>\n",
              "      <th>2013-10-01</th>\n",
              "      <td>BTC</td>\n",
              "      <td>123.65499</td>\n",
              "      <td>124.30466</td>\n",
              "      <td>124.75166</td>\n",
              "      <td>122.56349</td>\n",
              "    </tr>\n",
              "    <tr>\n",
              "      <th>2013-10-02</th>\n",
              "      <td>BTC</td>\n",
              "      <td>125.45500</td>\n",
              "      <td>123.65499</td>\n",
              "      <td>125.75850</td>\n",
              "      <td>123.63383</td>\n",
              "    </tr>\n",
              "    <tr>\n",
              "      <th>2013-10-03</th>\n",
              "      <td>BTC</td>\n",
              "      <td>108.58483</td>\n",
              "      <td>125.45500</td>\n",
              "      <td>125.66566</td>\n",
              "      <td>83.32833</td>\n",
              "    </tr>\n",
              "    <tr>\n",
              "      <th>2013-10-04</th>\n",
              "      <td>BTC</td>\n",
              "      <td>118.67466</td>\n",
              "      <td>108.58483</td>\n",
              "      <td>118.67500</td>\n",
              "      <td>107.05816</td>\n",
              "    </tr>\n",
              "    <tr>\n",
              "      <th>2013-10-05</th>\n",
              "      <td>BTC</td>\n",
              "      <td>121.33866</td>\n",
              "      <td>118.67466</td>\n",
              "      <td>121.93633</td>\n",
              "      <td>118.00566</td>\n",
              "    </tr>\n",
              "  </tbody>\n",
              "</table>\n",
              "</div>\n",
              "      <button class=\"colab-df-convert\" onclick=\"convertToInteractive('df-3b4ebd4a-a763-4368-9bf7-e6a4d704cc14')\"\n",
              "              title=\"Convert this dataframe to an interactive table.\"\n",
              "              style=\"display:none;\">\n",
              "        \n",
              "  <svg xmlns=\"http://www.w3.org/2000/svg\" height=\"24px\"viewBox=\"0 0 24 24\"\n",
              "       width=\"24px\">\n",
              "    <path d=\"M0 0h24v24H0V0z\" fill=\"none\"/>\n",
              "    <path d=\"M18.56 5.44l.94 2.06.94-2.06 2.06-.94-2.06-.94-.94-2.06-.94 2.06-2.06.94zm-11 1L8.5 8.5l.94-2.06 2.06-.94-2.06-.94L8.5 2.5l-.94 2.06-2.06.94zm10 10l.94 2.06.94-2.06 2.06-.94-2.06-.94-.94-2.06-.94 2.06-2.06.94z\"/><path d=\"M17.41 7.96l-1.37-1.37c-.4-.4-.92-.59-1.43-.59-.52 0-1.04.2-1.43.59L10.3 9.45l-7.72 7.72c-.78.78-.78 2.05 0 2.83L4 21.41c.39.39.9.59 1.41.59.51 0 1.02-.2 1.41-.59l7.78-7.78 2.81-2.81c.8-.78.8-2.07 0-2.86zM5.41 20L4 18.59l7.72-7.72 1.47 1.35L5.41 20z\"/>\n",
              "  </svg>\n",
              "      </button>\n",
              "      \n",
              "  <style>\n",
              "    .colab-df-container {\n",
              "      display:flex;\n",
              "      flex-wrap:wrap;\n",
              "      gap: 12px;\n",
              "    }\n",
              "\n",
              "    .colab-df-convert {\n",
              "      background-color: #E8F0FE;\n",
              "      border: none;\n",
              "      border-radius: 50%;\n",
              "      cursor: pointer;\n",
              "      display: none;\n",
              "      fill: #1967D2;\n",
              "      height: 32px;\n",
              "      padding: 0 0 0 0;\n",
              "      width: 32px;\n",
              "    }\n",
              "\n",
              "    .colab-df-convert:hover {\n",
              "      background-color: #E2EBFA;\n",
              "      box-shadow: 0px 1px 2px rgba(60, 64, 67, 0.3), 0px 1px 3px 1px rgba(60, 64, 67, 0.15);\n",
              "      fill: #174EA6;\n",
              "    }\n",
              "\n",
              "    [theme=dark] .colab-df-convert {\n",
              "      background-color: #3B4455;\n",
              "      fill: #D2E3FC;\n",
              "    }\n",
              "\n",
              "    [theme=dark] .colab-df-convert:hover {\n",
              "      background-color: #434B5C;\n",
              "      box-shadow: 0px 1px 3px 1px rgba(0, 0, 0, 0.15);\n",
              "      filter: drop-shadow(0px 1px 2px rgba(0, 0, 0, 0.3));\n",
              "      fill: #FFFFFF;\n",
              "    }\n",
              "  </style>\n",
              "\n",
              "      <script>\n",
              "        const buttonEl =\n",
              "          document.querySelector('#df-3b4ebd4a-a763-4368-9bf7-e6a4d704cc14 button.colab-df-convert');\n",
              "        buttonEl.style.display =\n",
              "          google.colab.kernel.accessAllowed ? 'block' : 'none';\n",
              "\n",
              "        async function convertToInteractive(key) {\n",
              "          const element = document.querySelector('#df-3b4ebd4a-a763-4368-9bf7-e6a4d704cc14');\n",
              "          const dataTable =\n",
              "            await google.colab.kernel.invokeFunction('convertToInteractive',\n",
              "                                                     [key], {});\n",
              "          if (!dataTable) return;\n",
              "\n",
              "          const docLinkHtml = 'Like what you see? Visit the ' +\n",
              "            '<a target=\"_blank\" href=https://colab.research.google.com/notebooks/data_table.ipynb>data table notebook</a>'\n",
              "            + ' to learn more about interactive tables.';\n",
              "          element.innerHTML = '';\n",
              "          dataTable['output_type'] = 'display_data';\n",
              "          await google.colab.output.renderOutput(dataTable, element);\n",
              "          const docLink = document.createElement('div');\n",
              "          docLink.innerHTML = docLinkHtml;\n",
              "          element.appendChild(docLink);\n",
              "        }\n",
              "      </script>\n",
              "    </div>\n",
              "  </div>\n",
              "  "
            ]
          },
          "metadata": {},
          "execution_count": 2
        }
      ]
    },
    {
      "cell_type": "code",
      "source": [
        "df.tail()"
      ],
      "metadata": {
        "colab": {
          "base_uri": "https://localhost:8080/",
          "height": 385
        },
        "id": "PiBB8hRb3yki",
        "outputId": "da6c5967-672b-46c2-86d7-a1ac488d0c1a"
      },
      "execution_count": null,
      "outputs": [
        {
          "output_type": "execute_result",
          "data": {
            "text/plain": [
              "           Currency  Closing Price (USD)  24h Open (USD)  24h High (USD)  \\\n",
              "Date                                                                       \n",
              "2021-05-14      BTC         49764.132082    49596.778891    51448.798576   \n",
              "2021-05-15      BTC         50032.693137    49717.354353    51578.312545   \n",
              "2021-05-16      BTC         47885.625255    49926.035067    50690.802950   \n",
              "2021-05-17      BTC         45604.615754    46805.537852    49670.414174   \n",
              "2021-05-18      BTC         43144.471291    46439.336570    46622.853437   \n",
              "\n",
              "            24h Low (USD)  \n",
              "Date                       \n",
              "2021-05-14   46294.720180  \n",
              "2021-05-15   48944.346536  \n",
              "2021-05-16   47005.102292  \n",
              "2021-05-17   43868.638969  \n",
              "2021-05-18   42102.346430  "
            ],
            "text/html": [
              "\n",
              "  <div id=\"df-685531e2-07c7-4af4-a814-407b7da8d5ec\">\n",
              "    <div class=\"colab-df-container\">\n",
              "      <div>\n",
              "<style scoped>\n",
              "    .dataframe tbody tr th:only-of-type {\n",
              "        vertical-align: middle;\n",
              "    }\n",
              "\n",
              "    .dataframe tbody tr th {\n",
              "        vertical-align: top;\n",
              "    }\n",
              "\n",
              "    .dataframe thead th {\n",
              "        text-align: right;\n",
              "    }\n",
              "</style>\n",
              "<table border=\"1\" class=\"dataframe\">\n",
              "  <thead>\n",
              "    <tr style=\"text-align: right;\">\n",
              "      <th></th>\n",
              "      <th>Currency</th>\n",
              "      <th>Closing Price (USD)</th>\n",
              "      <th>24h Open (USD)</th>\n",
              "      <th>24h High (USD)</th>\n",
              "      <th>24h Low (USD)</th>\n",
              "    </tr>\n",
              "    <tr>\n",
              "      <th>Date</th>\n",
              "      <th></th>\n",
              "      <th></th>\n",
              "      <th></th>\n",
              "      <th></th>\n",
              "      <th></th>\n",
              "    </tr>\n",
              "  </thead>\n",
              "  <tbody>\n",
              "    <tr>\n",
              "      <th>2021-05-14</th>\n",
              "      <td>BTC</td>\n",
              "      <td>49764.132082</td>\n",
              "      <td>49596.778891</td>\n",
              "      <td>51448.798576</td>\n",
              "      <td>46294.720180</td>\n",
              "    </tr>\n",
              "    <tr>\n",
              "      <th>2021-05-15</th>\n",
              "      <td>BTC</td>\n",
              "      <td>50032.693137</td>\n",
              "      <td>49717.354353</td>\n",
              "      <td>51578.312545</td>\n",
              "      <td>48944.346536</td>\n",
              "    </tr>\n",
              "    <tr>\n",
              "      <th>2021-05-16</th>\n",
              "      <td>BTC</td>\n",
              "      <td>47885.625255</td>\n",
              "      <td>49926.035067</td>\n",
              "      <td>50690.802950</td>\n",
              "      <td>47005.102292</td>\n",
              "    </tr>\n",
              "    <tr>\n",
              "      <th>2021-05-17</th>\n",
              "      <td>BTC</td>\n",
              "      <td>45604.615754</td>\n",
              "      <td>46805.537852</td>\n",
              "      <td>49670.414174</td>\n",
              "      <td>43868.638969</td>\n",
              "    </tr>\n",
              "    <tr>\n",
              "      <th>2021-05-18</th>\n",
              "      <td>BTC</td>\n",
              "      <td>43144.471291</td>\n",
              "      <td>46439.336570</td>\n",
              "      <td>46622.853437</td>\n",
              "      <td>42102.346430</td>\n",
              "    </tr>\n",
              "  </tbody>\n",
              "</table>\n",
              "</div>\n",
              "      <button class=\"colab-df-convert\" onclick=\"convertToInteractive('df-685531e2-07c7-4af4-a814-407b7da8d5ec')\"\n",
              "              title=\"Convert this dataframe to an interactive table.\"\n",
              "              style=\"display:none;\">\n",
              "        \n",
              "  <svg xmlns=\"http://www.w3.org/2000/svg\" height=\"24px\"viewBox=\"0 0 24 24\"\n",
              "       width=\"24px\">\n",
              "    <path d=\"M0 0h24v24H0V0z\" fill=\"none\"/>\n",
              "    <path d=\"M18.56 5.44l.94 2.06.94-2.06 2.06-.94-2.06-.94-.94-2.06-.94 2.06-2.06.94zm-11 1L8.5 8.5l.94-2.06 2.06-.94-2.06-.94L8.5 2.5l-.94 2.06-2.06.94zm10 10l.94 2.06.94-2.06 2.06-.94-2.06-.94-.94-2.06-.94 2.06-2.06.94z\"/><path d=\"M17.41 7.96l-1.37-1.37c-.4-.4-.92-.59-1.43-.59-.52 0-1.04.2-1.43.59L10.3 9.45l-7.72 7.72c-.78.78-.78 2.05 0 2.83L4 21.41c.39.39.9.59 1.41.59.51 0 1.02-.2 1.41-.59l7.78-7.78 2.81-2.81c.8-.78.8-2.07 0-2.86zM5.41 20L4 18.59l7.72-7.72 1.47 1.35L5.41 20z\"/>\n",
              "  </svg>\n",
              "      </button>\n",
              "      \n",
              "  <style>\n",
              "    .colab-df-container {\n",
              "      display:flex;\n",
              "      flex-wrap:wrap;\n",
              "      gap: 12px;\n",
              "    }\n",
              "\n",
              "    .colab-df-convert {\n",
              "      background-color: #E8F0FE;\n",
              "      border: none;\n",
              "      border-radius: 50%;\n",
              "      cursor: pointer;\n",
              "      display: none;\n",
              "      fill: #1967D2;\n",
              "      height: 32px;\n",
              "      padding: 0 0 0 0;\n",
              "      width: 32px;\n",
              "    }\n",
              "\n",
              "    .colab-df-convert:hover {\n",
              "      background-color: #E2EBFA;\n",
              "      box-shadow: 0px 1px 2px rgba(60, 64, 67, 0.3), 0px 1px 3px 1px rgba(60, 64, 67, 0.15);\n",
              "      fill: #174EA6;\n",
              "    }\n",
              "\n",
              "    [theme=dark] .colab-df-convert {\n",
              "      background-color: #3B4455;\n",
              "      fill: #D2E3FC;\n",
              "    }\n",
              "\n",
              "    [theme=dark] .colab-df-convert:hover {\n",
              "      background-color: #434B5C;\n",
              "      box-shadow: 0px 1px 3px 1px rgba(0, 0, 0, 0.15);\n",
              "      filter: drop-shadow(0px 1px 2px rgba(0, 0, 0, 0.3));\n",
              "      fill: #FFFFFF;\n",
              "    }\n",
              "  </style>\n",
              "\n",
              "      <script>\n",
              "        const buttonEl =\n",
              "          document.querySelector('#df-685531e2-07c7-4af4-a814-407b7da8d5ec button.colab-df-convert');\n",
              "        buttonEl.style.display =\n",
              "          google.colab.kernel.accessAllowed ? 'block' : 'none';\n",
              "\n",
              "        async function convertToInteractive(key) {\n",
              "          const element = document.querySelector('#df-685531e2-07c7-4af4-a814-407b7da8d5ec');\n",
              "          const dataTable =\n",
              "            await google.colab.kernel.invokeFunction('convertToInteractive',\n",
              "                                                     [key], {});\n",
              "          if (!dataTable) return;\n",
              "\n",
              "          const docLinkHtml = 'Like what you see? Visit the ' +\n",
              "            '<a target=\"_blank\" href=https://colab.research.google.com/notebooks/data_table.ipynb>data table notebook</a>'\n",
              "            + ' to learn more about interactive tables.';\n",
              "          element.innerHTML = '';\n",
              "          dataTable['output_type'] = 'display_data';\n",
              "          await google.colab.output.renderOutput(dataTable, element);\n",
              "          const docLink = document.createElement('div');\n",
              "          docLink.innerHTML = docLinkHtml;\n",
              "          element.appendChild(docLink);\n",
              "        }\n",
              "      </script>\n",
              "    </div>\n",
              "  </div>\n",
              "  "
            ]
          },
          "metadata": {},
          "execution_count": 3
        }
      ]
    },
    {
      "cell_type": "code",
      "source": [
        "df.info()"
      ],
      "metadata": {
        "colab": {
          "base_uri": "https://localhost:8080/"
        },
        "id": "rv3NZFB43fI3",
        "outputId": "0e9ecaee-f34a-4814-c946-521cd88cd24c"
      },
      "execution_count": null,
      "outputs": [
        {
          "output_type": "stream",
          "name": "stdout",
          "text": [
            "<class 'pandas.core.frame.DataFrame'>\n",
            "DatetimeIndex: 2787 entries, 2013-10-01 to 2021-05-18\n",
            "Data columns (total 5 columns):\n",
            " #   Column               Non-Null Count  Dtype  \n",
            "---  ------               --------------  -----  \n",
            " 0   Currency             2787 non-null   object \n",
            " 1   Closing Price (USD)  2787 non-null   float64\n",
            " 2   24h Open (USD)       2787 non-null   float64\n",
            " 3   24h High (USD)       2787 non-null   float64\n",
            " 4   24h Low (USD)        2787 non-null   float64\n",
            "dtypes: float64(4), object(1)\n",
            "memory usage: 130.6+ KB\n"
          ]
        }
      ]
    },
    {
      "cell_type": "code",
      "source": [
        "# How many samples do we have?\n",
        "len(df)"
      ],
      "metadata": {
        "colab": {
          "base_uri": "https://localhost:8080/"
        },
        "id": "sSKX6csj3nsF",
        "outputId": "a1b2a316-3731-47da-a93a-6a0ad40c9eef"
      },
      "execution_count": null,
      "outputs": [
        {
          "output_type": "execute_result",
          "data": {
            "text/plain": [
              "2787"
            ]
          },
          "metadata": {},
          "execution_count": 5
        }
      ]
    },
    {
      "cell_type": "code",
      "source": [
        " 8*365"
      ],
      "metadata": {
        "colab": {
          "base_uri": "https://localhost:8080/"
        },
        "id": "nI_WP4TC33-n",
        "outputId": "dc1f3c9c-21a2-4edc-e96a-06ec2be658bc"
      },
      "execution_count": null,
      "outputs": [
        {
          "output_type": "execute_result",
          "data": {
            "text/plain": [
              "2920"
            ]
          },
          "metadata": {},
          "execution_count": 6
        }
      ]
    },
    {
      "cell_type": "markdown",
      "source": [
        "We've collected the historical price of Bitcoin for the past 8 years but there's 2787 samples.\n",
        "\n",
        "Typically deep learning models usually like lots and lots and lots of samples (where lots and lots can be thousands to tens of thousands to millions).\n",
        "\n",
        "A smaller number of samples is something you'll often run into with time series data problems.\n",
        "\n",
        "> 🔑**Note:** The **seasonality** of a time series dataset is referred as the number of samples per year. So for our Bitcoin data, it has a seasonality of daily or value of 365 because we collect one sample per day meaning we'll get 365 samples per year."
      ],
      "metadata": {
        "id": "PHrz8flh4I5z"
      }
    },
    {
      "cell_type": "code",
      "source": [
        "# Only want closing price for each day\n",
        "bitcoin_prices = pd.DataFrame(df['Closing Price (USD)']).rename(columns={\"Closing Price (USD)\": \"Price\"})\n",
        "bitcoin_prices.head()"
      ],
      "metadata": {
        "id": "uTTuLIXg51uA",
        "colab": {
          "base_uri": "https://localhost:8080/",
          "height": 237
        },
        "outputId": "15087714-a654-45d9-e480-6232b0e48d6e"
      },
      "execution_count": null,
      "outputs": [
        {
          "output_type": "execute_result",
          "data": {
            "text/plain": [
              "                Price\n",
              "Date                 \n",
              "2013-10-01  123.65499\n",
              "2013-10-02  125.45500\n",
              "2013-10-03  108.58483\n",
              "2013-10-04  118.67466\n",
              "2013-10-05  121.33866"
            ],
            "text/html": [
              "\n",
              "  <div id=\"df-a1302168-42a4-42b4-89b1-71d4c1e48ef9\">\n",
              "    <div class=\"colab-df-container\">\n",
              "      <div>\n",
              "<style scoped>\n",
              "    .dataframe tbody tr th:only-of-type {\n",
              "        vertical-align: middle;\n",
              "    }\n",
              "\n",
              "    .dataframe tbody tr th {\n",
              "        vertical-align: top;\n",
              "    }\n",
              "\n",
              "    .dataframe thead th {\n",
              "        text-align: right;\n",
              "    }\n",
              "</style>\n",
              "<table border=\"1\" class=\"dataframe\">\n",
              "  <thead>\n",
              "    <tr style=\"text-align: right;\">\n",
              "      <th></th>\n",
              "      <th>Price</th>\n",
              "    </tr>\n",
              "    <tr>\n",
              "      <th>Date</th>\n",
              "      <th></th>\n",
              "    </tr>\n",
              "  </thead>\n",
              "  <tbody>\n",
              "    <tr>\n",
              "      <th>2013-10-01</th>\n",
              "      <td>123.65499</td>\n",
              "    </tr>\n",
              "    <tr>\n",
              "      <th>2013-10-02</th>\n",
              "      <td>125.45500</td>\n",
              "    </tr>\n",
              "    <tr>\n",
              "      <th>2013-10-03</th>\n",
              "      <td>108.58483</td>\n",
              "    </tr>\n",
              "    <tr>\n",
              "      <th>2013-10-04</th>\n",
              "      <td>118.67466</td>\n",
              "    </tr>\n",
              "    <tr>\n",
              "      <th>2013-10-05</th>\n",
              "      <td>121.33866</td>\n",
              "    </tr>\n",
              "  </tbody>\n",
              "</table>\n",
              "</div>\n",
              "      <button class=\"colab-df-convert\" onclick=\"convertToInteractive('df-a1302168-42a4-42b4-89b1-71d4c1e48ef9')\"\n",
              "              title=\"Convert this dataframe to an interactive table.\"\n",
              "              style=\"display:none;\">\n",
              "        \n",
              "  <svg xmlns=\"http://www.w3.org/2000/svg\" height=\"24px\"viewBox=\"0 0 24 24\"\n",
              "       width=\"24px\">\n",
              "    <path d=\"M0 0h24v24H0V0z\" fill=\"none\"/>\n",
              "    <path d=\"M18.56 5.44l.94 2.06.94-2.06 2.06-.94-2.06-.94-.94-2.06-.94 2.06-2.06.94zm-11 1L8.5 8.5l.94-2.06 2.06-.94-2.06-.94L8.5 2.5l-.94 2.06-2.06.94zm10 10l.94 2.06.94-2.06 2.06-.94-2.06-.94-.94-2.06-.94 2.06-2.06.94z\"/><path d=\"M17.41 7.96l-1.37-1.37c-.4-.4-.92-.59-1.43-.59-.52 0-1.04.2-1.43.59L10.3 9.45l-7.72 7.72c-.78.78-.78 2.05 0 2.83L4 21.41c.39.39.9.59 1.41.59.51 0 1.02-.2 1.41-.59l7.78-7.78 2.81-2.81c.8-.78.8-2.07 0-2.86zM5.41 20L4 18.59l7.72-7.72 1.47 1.35L5.41 20z\"/>\n",
              "  </svg>\n",
              "      </button>\n",
              "      \n",
              "  <style>\n",
              "    .colab-df-container {\n",
              "      display:flex;\n",
              "      flex-wrap:wrap;\n",
              "      gap: 12px;\n",
              "    }\n",
              "\n",
              "    .colab-df-convert {\n",
              "      background-color: #E8F0FE;\n",
              "      border: none;\n",
              "      border-radius: 50%;\n",
              "      cursor: pointer;\n",
              "      display: none;\n",
              "      fill: #1967D2;\n",
              "      height: 32px;\n",
              "      padding: 0 0 0 0;\n",
              "      width: 32px;\n",
              "    }\n",
              "\n",
              "    .colab-df-convert:hover {\n",
              "      background-color: #E2EBFA;\n",
              "      box-shadow: 0px 1px 2px rgba(60, 64, 67, 0.3), 0px 1px 3px 1px rgba(60, 64, 67, 0.15);\n",
              "      fill: #174EA6;\n",
              "    }\n",
              "\n",
              "    [theme=dark] .colab-df-convert {\n",
              "      background-color: #3B4455;\n",
              "      fill: #D2E3FC;\n",
              "    }\n",
              "\n",
              "    [theme=dark] .colab-df-convert:hover {\n",
              "      background-color: #434B5C;\n",
              "      box-shadow: 0px 1px 3px 1px rgba(0, 0, 0, 0.15);\n",
              "      filter: drop-shadow(0px 1px 2px rgba(0, 0, 0, 0.3));\n",
              "      fill: #FFFFFF;\n",
              "    }\n",
              "  </style>\n",
              "\n",
              "      <script>\n",
              "        const buttonEl =\n",
              "          document.querySelector('#df-a1302168-42a4-42b4-89b1-71d4c1e48ef9 button.colab-df-convert');\n",
              "        buttonEl.style.display =\n",
              "          google.colab.kernel.accessAllowed ? 'block' : 'none';\n",
              "\n",
              "        async function convertToInteractive(key) {\n",
              "          const element = document.querySelector('#df-a1302168-42a4-42b4-89b1-71d4c1e48ef9');\n",
              "          const dataTable =\n",
              "            await google.colab.kernel.invokeFunction('convertToInteractive',\n",
              "                                                     [key], {});\n",
              "          if (!dataTable) return;\n",
              "\n",
              "          const docLinkHtml = 'Like what you see? Visit the ' +\n",
              "            '<a target=\"_blank\" href=https://colab.research.google.com/notebooks/data_table.ipynb>data table notebook</a>'\n",
              "            + ' to learn more about interactive tables.';\n",
              "          element.innerHTML = '';\n",
              "          dataTable['output_type'] = 'display_data';\n",
              "          await google.colab.output.renderOutput(dataTable, element);\n",
              "          const docLink = document.createElement('div');\n",
              "          docLink.innerHTML = docLinkHtml;\n",
              "          element.appendChild(docLink);\n",
              "        }\n",
              "      </script>\n",
              "    </div>\n",
              "  </div>\n",
              "  "
            ]
          },
          "metadata": {},
          "execution_count": 7
        }
      ]
    },
    {
      "cell_type": "code",
      "source": [
        "import matplotlib.pyplot as plt\n",
        "bitcoin_prices.plot(figsize=(10, 7))\n",
        "plt.ylabel(\"BTC Price\")\n",
        "plt.title(\"Price of Bitcoin from 1 Oct 2013 to 18 May 2021\", fontsize=16)\n",
        "plt.legend(fontsize=14)"
      ],
      "metadata": {
        "colab": {
          "base_uri": "https://localhost:8080/",
          "height": 477
        },
        "id": "GaYaTzlUzXub",
        "outputId": "4fb02fb8-446b-48bf-877b-6a8e0d537404"
      },
      "execution_count": null,
      "outputs": [
        {
          "output_type": "execute_result",
          "data": {
            "text/plain": [
              "<matplotlib.legend.Legend at 0x7f6d973c5ed0>"
            ]
          },
          "metadata": {},
          "execution_count": 8
        },
        {
          "output_type": "display_data",
          "data": {
            "text/plain": [
              "<Figure size 720x504 with 1 Axes>"
            ],
            "image/png": "[encoded data removed]"
          },
          "metadata": {
            "needs_background": "light"
          }
        }
      ]
    },
    {
      "cell_type": "markdown",
      "source": [
        "# Importing time series data with Python's CSV module"
      ],
      "metadata": {
        "id": "VISJXm9czjE0"
      }
    },
    {
      "cell_type": "code",
      "source": [
        "# Importing and formating historical data with python\n",
        "import csv\n",
        "from datetime import datetime\n",
        "timesteps = []\n",
        "btc_price = []\n",
        "with open(\"/content/BTC_USD_2013-10-01_2021-05-18-CoinDesk.csv\", \"r\") as f:\n",
        "  csv_reader = csv.reader(f, delimiter=\",\")\n",
        "  next(csv_reader) # skip first line (this gets rid of the column titles)\n",
        "  for line in csv_reader:\n",
        "    timesteps.append(datetime.strptime(line[1], \"%Y-%m-%d\")) # get the dates as dates (not string)\n",
        "    btc_price.append(float(line[2])) # get the closing price as float\n",
        "\n",
        "# View first 10 of each\n",
        "timesteps[:10], btc_price[:10]"
      ],
      "metadata": {
        "colab": {
          "base_uri": "https://localhost:8080/"
        },
        "id": "pvzEr7kF1MD0",
        "outputId": "f24ca5d6-1039-490c-b646-b4174764650e"
      },
      "execution_count": null,
      "outputs": [
        {
          "output_type": "execute_result",
          "data": {
            "text/plain": [
              "([datetime.datetime(2013, 10, 1, 0, 0),\n",
              "  datetime.datetime(2013, 10, 2, 0, 0),\n",
              "  datetime.datetime(2013, 10, 3, 0, 0),\n",
              "  datetime.datetime(2013, 10, 4, 0, 0),\n",
              "  datetime.datetime(2013, 10, 5, 0, 0),\n",
              "  datetime.datetime(2013, 10, 6, 0, 0),\n",
              "  datetime.datetime(2013, 10, 7, 0, 0),\n",
              "  datetime.datetime(2013, 10, 8, 0, 0),\n",
              "  datetime.datetime(2013, 10, 9, 0, 0),\n",
              "  datetime.datetime(2013, 10, 10, 0, 0)],\n",
              " [123.65499,\n",
              "  125.455,\n",
              "  108.58483,\n",
              "  118.67466,\n",
              "  121.33866,\n",
              "  120.65533,\n",
              "  121.795,\n",
              "  123.033,\n",
              "  124.049,\n",
              "  125.96116])"
            ]
          },
          "metadata": {},
          "execution_count": 9
        }
      ]
    },
    {
      "cell_type": "code",
      "source": [
        "# Plot from CSV\n",
        "import matplotlib.pyplot as plt\n",
        "# import numpy as np\n",
        "plt.figure(figsize=(10, 7))\n",
        "plt.plot(timesteps, btc_price)\n",
        "plt.ylabel(\"BTC Price\")\n",
        "plt.title(\"Price of Bitcoin from 1 Oct 2013 to 18 May 2021\", fontsize=16)\n",
        "plt.xlabel(\"Date\")"
      ],
      "metadata": {
        "colab": {
          "base_uri": "https://localhost:8080/",
          "height": 477
        },
        "id": "f0LZR1i167RZ",
        "outputId": "778d6b57-0586-4b64-e0e7-93d4ddd5b31a"
      },
      "execution_count": null,
      "outputs": [
        {
          "output_type": "execute_result",
          "data": {
            "text/plain": [
              "Text(0.5, 0, 'Date')"
            ]
          },
          "metadata": {},
          "execution_count": 10
        },
        {
          "output_type": "display_data",
          "data": {
            "text/plain": [
              "<Figure size 720x504 with 1 Axes>"
            ],
            "image/png": "[encoded data removed]"
          },
          "metadata": {
            "needs_background": "light"
          }
        }
      ]
    },
    {
      "cell_type": "markdown",
      "source": [
        "## Format data 1: Create train and test sets kof our time series data"
      ],
      "metadata": {
        "id": "-mEWLjyJ82pR"
      }
    },
    {
      "cell_type": "markdown",
      "source": [
        "### Creating train and test sets with time series data (the wrong way)"
      ],
      "metadata": {
        "id": "y3wSmmV4JSpR"
      }
    },
    {
      "cell_type": "code",
      "source": [
        "bitcoin_prices[:5]"
      ],
      "metadata": {
        "colab": {
          "base_uri": "https://localhost:8080/",
          "height": 237
        },
        "id": "ZN6fDZU0JsBK",
        "outputId": "63e9bd9f-4538-4a7c-bbf3-867c89e6dbc6"
      },
      "execution_count": null,
      "outputs": [
        {
          "output_type": "execute_result",
          "data": {
            "text/plain": [
              "                Price\n",
              "Date                 \n",
              "2013-10-01  123.65499\n",
              "2013-10-02  125.45500\n",
              "2013-10-03  108.58483\n",
              "2013-10-04  118.67466\n",
              "2013-10-05  121.33866"
            ],
            "text/html": [
              "\n",
              "  <div id=\"df-93fe4caf-a62b-45d9-adf0-f818c8b0c724\">\n",
              "    <div class=\"colab-df-container\">\n",
              "      <div>\n",
              "<style scoped>\n",
              "    .dataframe tbody tr th:only-of-type {\n",
              "        vertical-align: middle;\n",
              "    }\n",
              "\n",
              "    .dataframe tbody tr th {\n",
              "        vertical-align: top;\n",
              "    }\n",
              "\n",
              "    .dataframe thead th {\n",
              "        text-align: right;\n",
              "    }\n",
              "</style>\n",
              "<table border=\"1\" class=\"dataframe\">\n",
              "  <thead>\n",
              "    <tr style=\"text-align: right;\">\n",
              "      <th></th>\n",
              "      <th>Price</th>\n",
              "    </tr>\n",
              "    <tr>\n",
              "      <th>Date</th>\n",
              "      <th></th>\n",
              "    </tr>\n",
              "  </thead>\n",
              "  <tbody>\n",
              "    <tr>\n",
              "      <th>2013-10-01</th>\n",
              "      <td>123.65499</td>\n",
              "    </tr>\n",
              "    <tr>\n",
              "      <th>2013-10-02</th>\n",
              "      <td>125.45500</td>\n",
              "    </tr>\n",
              "    <tr>\n",
              "      <th>2013-10-03</th>\n",
              "      <td>108.58483</td>\n",
              "    </tr>\n",
              "    <tr>\n",
              "      <th>2013-10-04</th>\n",
              "      <td>118.67466</td>\n",
              "    </tr>\n",
              "    <tr>\n",
              "      <th>2013-10-05</th>\n",
              "      <td>121.33866</td>\n",
              "    </tr>\n",
              "  </tbody>\n",
              "</table>\n",
              "</div>\n",
              "      <button class=\"colab-df-convert\" onclick=\"convertToInteractive('df-93fe4caf-a62b-45d9-adf0-f818c8b0c724')\"\n",
              "              title=\"Convert this dataframe to an interactive table.\"\n",
              "              style=\"display:none;\">\n",
              "        \n",
              "  <svg xmlns=\"http://www.w3.org/2000/svg\" height=\"24px\"viewBox=\"0 0 24 24\"\n",
              "       width=\"24px\">\n",
              "    <path d=\"M0 0h24v24H0V0z\" fill=\"none\"/>\n",
              "    <path d=\"M18.56 5.44l.94 2.06.94-2.06 2.06-.94-2.06-.94-.94-2.06-.94 2.06-2.06.94zm-11 1L8.5 8.5l.94-2.06 2.06-.94-2.06-.94L8.5 2.5l-.94 2.06-2.06.94zm10 10l.94 2.06.94-2.06 2.06-.94-2.06-.94-.94-2.06-.94 2.06-2.06.94z\"/><path d=\"M17.41 7.96l-1.37-1.37c-.4-.4-.92-.59-1.43-.59-.52 0-1.04.2-1.43.59L10.3 9.45l-7.72 7.72c-.78.78-.78 2.05 0 2.83L4 21.41c.39.39.9.59 1.41.59.51 0 1.02-.2 1.41-.59l7.78-7.78 2.81-2.81c.8-.78.8-2.07 0-2.86zM5.41 20L4 18.59l7.72-7.72 1.47 1.35L5.41 20z\"/>\n",
              "  </svg>\n",
              "      </button>\n",
              "      \n",
              "  <style>\n",
              "    .colab-df-container {\n",
              "      display:flex;\n",
              "      flex-wrap:wrap;\n",
              "      gap: 12px;\n",
              "    }\n",
              "\n",
              "    .colab-df-convert {\n",
              "      background-color: #E8F0FE;\n",
              "      border: none;\n",
              "      border-radius: 50%;\n",
              "      cursor: pointer;\n",
              "      display: none;\n",
              "      fill: #1967D2;\n",
              "      height: 32px;\n",
              "      padding: 0 0 0 0;\n",
              "      width: 32px;\n",
              "    }\n",
              "\n",
              "    .colab-df-convert:hover {\n",
              "      background-color: #E2EBFA;\n",
              "      box-shadow: 0px 1px 2px rgba(60, 64, 67, 0.3), 0px 1px 3px 1px rgba(60, 64, 67, 0.15);\n",
              "      fill: #174EA6;\n",
              "    }\n",
              "\n",
              "    [theme=dark] .colab-df-convert {\n",
              "      background-color: #3B4455;\n",
              "      fill: #D2E3FC;\n",
              "    }\n",
              "\n",
              "    [theme=dark] .colab-df-convert:hover {\n",
              "      background-color: #434B5C;\n",
              "      box-shadow: 0px 1px 3px 1px rgba(0, 0, 0, 0.15);\n",
              "      filter: drop-shadow(0px 1px 2px rgba(0, 0, 0, 0.3));\n",
              "      fill: #FFFFFF;\n",
              "    }\n",
              "  </style>\n",
              "\n",
              "      <script>\n",
              "        const buttonEl =\n",
              "          document.querySelector('#df-93fe4caf-a62b-45d9-adf0-f818c8b0c724 button.colab-df-convert');\n",
              "        buttonEl.style.display =\n",
              "          google.colab.kernel.accessAllowed ? 'block' : 'none';\n",
              "\n",
              "        async function convertToInteractive(key) {\n",
              "          const element = document.querySelector('#df-93fe4caf-a62b-45d9-adf0-f818c8b0c724');\n",
              "          const dataTable =\n",
              "            await google.colab.kernel.invokeFunction('convertToInteractive',\n",
              "                                                     [key], {});\n",
              "          if (!dataTable) return;\n",
              "\n",
              "          const docLinkHtml = 'Like what you see? Visit the ' +\n",
              "            '<a target=\"_blank\" href=https://colab.research.google.com/notebooks/data_table.ipynb>data table notebook</a>'\n",
              "            + ' to learn more about interactive tables.';\n",
              "          element.innerHTML = '';\n",
              "          dataTable['output_type'] = 'display_data';\n",
              "          await google.colab.output.renderOutput(dataTable, element);\n",
              "          const docLink = document.createElement('div');\n",
              "          docLink.innerHTML = docLinkHtml;\n",
              "          element.appendChild(docLink);\n",
              "        }\n",
              "      </script>\n",
              "    </div>\n",
              "  </div>\n",
              "  "
            ]
          },
          "metadata": {},
          "execution_count": 11
        }
      ]
    },
    {
      "cell_type": "code",
      "source": [
        "# Get bitcoin data array\n",
        "timesteps = bitcoin_prices.index.to_numpy()\n",
        "prices = bitcoin_prices[\"Price\"].to_numpy()\n",
        "timesteps[:10], prices[:10]"
      ],
      "metadata": {
        "colab": {
          "base_uri": "https://localhost:8080/"
        },
        "id": "FPFcOay8JhvA",
        "outputId": "750a531f-0207-451a-e6c3-b3046fa6368c"
      },
      "execution_count": null,
      "outputs": [
        {
          "output_type": "execute_result",
          "data": {
            "text/plain": [
              "(array(['2013-10-01T00:00:00.000000000', '2013-10-02T00:00:00.000000000',\n",
              "        '2013-10-03T00:00:00.000000000', '2013-10-04T00:00:00.000000000',\n",
              "        '2013-10-05T00:00:00.000000000', '2013-10-06T00:00:00.000000000',\n",
              "        '2013-10-07T00:00:00.000000000', '2013-10-08T00:00:00.000000000',\n",
              "        '2013-10-09T00:00:00.000000000', '2013-10-10T00:00:00.000000000'],\n",
              "       dtype='datetime64[ns]'),\n",
              " array([123.65499, 125.455  , 108.58483, 118.67466, 121.33866, 120.65533,\n",
              "        121.795  , 123.033  , 124.049  , 125.96116]))"
            ]
          },
          "metadata": {},
          "execution_count": 12
        }
      ]
    },
    {
      "cell_type": "code",
      "source": [
        "# Wrong way to make train/test sets for time series data\n",
        "from sklearn.model_selection import train_test_split\n",
        "\n",
        "X_train, X_test, y_train, y_test = train_test_split(timesteps, # dates\n",
        "                                                    prices, # BTC prices\n",
        "                                                    test_size=0.2,\n",
        "                                                    random_state=42)\n",
        "X_train.shape, X_test.shape, y_train.shape, y_test.shape"
      ],
      "metadata": {
        "colab": {
          "base_uri": "https://localhost:8080/"
        },
        "id": "E5XkOZH2KCzu",
        "outputId": "e5544bea-8adf-4953-bb4b-8ca78bef204f"
      },
      "execution_count": null,
      "outputs": [
        {
          "output_type": "execute_result",
          "data": {
            "text/plain": [
              "((2229,), (558,), (2229,), (558,))"
            ]
          },
          "metadata": {},
          "execution_count": 13
        }
      ]
    },
    {
      "cell_type": "code",
      "source": [
        "# Let's plot wrong train and test splits\n",
        "plt.figure(figsize=(10, 7))\n",
        "plt.scatter(X_train, y_train, s=5, label=\"Train data\")\n",
        "plt.scatter(X_test, y_test, s=5, label=\"Test data\")\n",
        "plt.xlabel(\"Date\")\n",
        "plt.ylabel(\"BTC Price\")\n",
        "plt.legend(fontsize=14)\n",
        "plt.show()"
      ],
      "metadata": {
        "colab": {
          "base_uri": "https://localhost:8080/",
          "height": 442
        },
        "id": "KV9WdB9WLle6",
        "outputId": "e6dd369b-c5bf-4892-e7b0-046220ddf433"
      },
      "execution_count": null,
      "outputs": [
        {
          "output_type": "display_data",
          "data": {
            "text/plain": [
              "<Figure size 720x504 with 1 Axes>"
            ],
            "image/png": "[encoded data removed]"
          },
          "metadata": {
            "needs_background": "light"
          }
        }
      ]
    },
    {
      "cell_type": "markdown",
      "source": [
        "### Create train & test sets for time series (the right way)"
      ],
      "metadata": {
        "id": "kBfZhLruMUBd"
      }
    },
    {
      "cell_type": "code",
      "source": [
        "# Create train and test splits the right way for time series data\n",
        "split_size = int(0.8 * len(prices)) # 80% train, 20% test - you can change these values as needed, e.g. 90/10, 95/5\n",
        "\n",
        "# Create train data splits (everything before the split)\n",
        "X_train, y_train = timesteps[:split_size], prices[:split_size]\n",
        "\n",
        "# Create test data splits (everything beyond the split)\n",
        "X_test, y_test = timesteps[split_size:], prices[split_size:]\n",
        "\n",
        "len(X_train), len(X_test), len(y_train), len(y_test)"
      ],
      "metadata": {
        "colab": {
          "base_uri": "https://localhost:8080/"
        },
        "id": "fyclRNH6NLRk",
        "outputId": "76370b80-8cea-4f65-e202-fff68738835c"
      },
      "execution_count": null,
      "outputs": [
        {
          "output_type": "execute_result",
          "data": {
            "text/plain": [
              "(2229, 558, 2229, 558)"
            ]
          },
          "metadata": {},
          "execution_count": 15
        }
      ]
    },
    {
      "cell_type": "code",
      "source": [
        " # Plot correctly made splits\n",
        "plt.figure(figsize=(10, 7))\n",
        "plt.scatter(X_train, y_train, s=5, label=\"Train data\")\n",
        "plt.scatter(X_test, y_test, s=5, label=\"Test data\")\n",
        "plt.xlabel(\"Date\")\n",
        "plt.ylabel(\"BTC Price\")\n",
        "plt.legend(fontsize=14)\n",
        "plt.show()"
      ],
      "metadata": {
        "colab": {
          "base_uri": "https://localhost:8080/",
          "height": 442
        },
        "id": "3QsXrSSmQRqL",
        "outputId": "f5d898fc-1122-4eda-d1b4-6915b32b48f8"
      },
      "execution_count": null,
      "outputs": [
        {
          "output_type": "display_data",
          "data": {
            "text/plain": [
              "<Figure size 720x504 with 1 Axes>"
            ],
            "image/png": "[encoded data removed]"
          },
          "metadata": {
            "needs_background": "light"
          }
        }
      ]
    },
    {
      "cell_type": "markdown",
      "source": [
        "## Create a plotting function\n",
        "\n",
        "Typing plotting code is tedious, let's functionize it."
      ],
      "metadata": {
        "id": "GmkqOTw9RdXs"
      }
    },
    {
      "cell_type": "code",
      "source": [
        "# Create a function to plot time series data\n",
        "def plot_time_series(timesteps, values, format=\".\", start=0, end=None, label=None):\n",
        "  \"\"\"\n",
        "  Plots timesteps (a series of points in time) against values (a series of values across timesteps).\n",
        "\n",
        "  Parameters \n",
        "  timesteps : array of timestep values\n",
        "  values : array of values across time\n",
        "  format : style of plot, default \".\"\n",
        "  start : where to start the plot (setting a value will index from start of timesteps & values)\n",
        "  end : where to end the plot (similar to start but for the end)\n",
        "  label : label to show on plot about values, defailt None\n",
        "  \"\"\"\n",
        "  # Plot the series\n",
        "  # plt.figure(figsize=(10, 7))\n",
        "  plt.plot(timesteps[start:end], values[start:end], format, label=label)\n",
        "  plt.xlabel(\"Time\")\n",
        "  plt.ylabel(\"BTC Price\")\n",
        "  if label:\n",
        "    plt.legend(fontsize=14) # make label bigger\n",
        "  plt.grid(True)"
      ],
      "metadata": {
        "id": "wUQ5I7j9RnMG"
      },
      "execution_count": null,
      "outputs": []
    },
    {
      "cell_type": "code",
      "source": [
        "# Test our plotting function\n",
        "plt.figure(figsize=(10, 7))\n",
        "plot_time_series(timesteps=X_train, values=y_train, label=\"Train data\")\n",
        "plot_time_series(timesteps=X_test, values=y_test, label=\"Test data\")"
      ],
      "metadata": {
        "colab": {
          "base_uri": "https://localhost:8080/",
          "height": 442
        },
        "id": "PDAAlimdq5wH",
        "outputId": "e1a9b470-d833-42b9-db06-5e2153f7141b"
      },
      "execution_count": null,
      "outputs": [
        {
          "output_type": "display_data",
          "data": {
            "text/plain": [
              "<Figure size 720x504 with 1 Axes>"
            ],
            "image/png": "[encoded data removed]"
          },
          "metadata": {
            "needs_background": "light"
          }
        }
      ]
    },
    {
      "cell_type": "markdown",
      "source": [
        "## Modelling Experiments\n",
        "\n",
        "We've got some Bitcoin historical data, to model it. let's run a series of modelling experiments and see which performs best.\n",
        "\n",
        "Term to be familier with:\n",
        "* **Horizon** = number of timesteps into the future we're going to predict\n",
        "* **Window size** = number of timesteps we're going to be using to predict **horizon**"
      ],
      "metadata": {
        "id": "-uzH7bAPrmBA"
      }
    },
    {
      "cell_type": "markdown",
      "source": [
        "## Model 0: Naive forecast (baseline)\n",
        "\n",
        "The forumula looks like this:\n",
        "\n",
        "$$\\hat{y}_{t} = y_{t-1}$$\n",
        "\n",
        "In English:\n",
        "> The prediction at timestep t (y-hat) is equal to the value at timestep t-1 (previous timestep) - this is for horizon of 1."
      ],
      "metadata": {
        "id": "vhhTrQB6uoK7"
      }
    },
    {
      "cell_type": "code",
      "source": [
        "y_test[:10]"
      ],
      "metadata": {
        "colab": {
          "base_uri": "https://localhost:8080/"
        },
        "id": "Eq9g41RS1g-j",
        "outputId": "1431d9fa-f260-46d1-bb85-ed988dbdfc18"
      },
      "execution_count": null,
      "outputs": [
        {
          "output_type": "execute_result",
          "data": {
            "text/plain": [
              "array([9226.48582088, 8794.35864452, 8798.04205463, 9081.18687849,\n",
              "       8711.53433917, 8760.89271814, 8749.52059102, 8656.97092235,\n",
              "       8500.64355816, 8469.2608989 ])"
            ]
          },
          "metadata": {},
          "execution_count": 19
        }
      ]
    },
    {
      "cell_type": "code",
      "source": [
        "# Create a naive forecast\n",
        "naive_forecast = y_test[:-1]\n",
        "\n",
        "naive_forecast[:10], naive_forecast[-10:]"
      ],
      "metadata": {
        "colab": {
          "base_uri": "https://localhost:8080/"
        },
        "id": "0esk8fqVzSeU",
        "outputId": "89c15c2b-c5c3-41fe-e881-e7d77de31cfd"
      },
      "execution_count": null,
      "outputs": [
        {
          "output_type": "execute_result",
          "data": {
            "text/plain": [
              "(array([9226.48582088, 8794.35864452, 8798.04205463, 9081.18687849,\n",
              "        8711.53433917, 8760.89271814, 8749.52059102, 8656.97092235,\n",
              "        8500.64355816, 8469.2608989 ]),\n",
              " array([57107.12067189, 58788.20967893, 58102.19142623, 55715.54665129,\n",
              "        56573.5554719 , 52147.82118698, 49764.1320816 , 50032.69313676,\n",
              "        47885.62525472, 45604.61575361]))"
            ]
          },
          "metadata": {},
          "execution_count": 20
        }
      ]
    },
    {
      "cell_type": "code",
      "source": [
        "y_test[-10:]"
      ],
      "metadata": {
        "colab": {
          "base_uri": "https://localhost:8080/"
        },
        "id": "_NaJIeH21wHz",
        "outputId": "bf1283e2-27bb-44b0-b975-8210c7d02dbc"
      },
      "execution_count": null,
      "outputs": [
        {
          "output_type": "execute_result",
          "data": {
            "text/plain": [
              "array([58788.20967893, 58102.19142623, 55715.54665129, 56573.5554719 ,\n",
              "       52147.82118698, 49764.1320816 , 50032.69313676, 47885.62525472,\n",
              "       45604.61575361, 43144.47129086])"
            ]
          },
          "metadata": {},
          "execution_count": 21
        }
      ]
    },
    {
      "cell_type": "code",
      "source": [
        "# Plot naive forecast\n",
        "plt.figure(figsize=(10, 7))\n",
        "# plot_time_series(timesteps=X_train, values=y_train, label=\"Train data\")\n",
        "plot_time_series(timesteps=X_test, values=y_test, start=350, format=\"-\", label=\"Test data\")\n",
        "plot_time_series(timesteps=X_test[1:], values=naive_forecast, start=350, format=\"-\", label=\"Navie forecast\")"
      ],
      "metadata": {
        "colab": {
          "base_uri": "https://localhost:8080/",
          "height": 442
        },
        "id": "kf5bGJZ5146w",
        "outputId": "d9e8179b-602c-4d81-8e9b-2af0aafa1d0f"
      },
      "execution_count": null,
      "outputs": [
        {
          "output_type": "display_data",
          "data": {
            "text/plain": [
              "<Figure size 720x504 with 1 Axes>"
            ],
            "image/png": "[encoded data removed]"
          },
          "metadata": {
            "needs_background": "light"
          }
        }
      ]
    },
    {
      "cell_type": "markdown",
      "source": [
        "## Evaluating a time series model\n",
        "\n",
        "Let's look into some evaluating metrics for time series forecasting.\n",
        "\n",
        "What are we doing?\n",
        "\n",
        "We're predictiong a number, so that means we have a form of a regression problem.\n",
        "\n",
        "Because we're working on a regresssion problem, we'll need some regression-like metrics.\n",
        "\n",
        "A few common regression metrics (which can also be used for time series forecasting):\n",
        "* MAE - mean absolute error\n",
        "* MSE - mean squared error\n",
        "* RMSE - root mean square error\n",
        "* MAPE/sMAPE - (symmetrics) mean absolute percentage error\n",
        "* MASE - mean absolute scaled error\n",
        "\n",
        "For all of the above metrics, **Lower is better**, for example,, an MAE of 0 that is better than MAE of 100\n",
        "\n",
        "The main thing we're evaluating here is: **how do our model's forecasts (y_pred)  compare against the actual (y_true or ground truth values)?**"
      ],
      "metadata": {
        "id": "3zJNeM6U23O5"
      }
    },
    {
      "cell_type": "code",
      "source": [
        "import tensorflow as tf"
      ],
      "metadata": {
        "id": "1H6SutmxFaUM"
      },
      "execution_count": null,
      "outputs": []
    },
    {
      "cell_type": "code",
      "source": [
        "# MASE implmentation\n",
        "def mean_absolute_scaled_error(y_true, y_pred):\n",
        "  \"\"\"\n",
        "  Implement MASE (assuming no seasonality of data).\n",
        "  \"\"\"\n",
        "  mae = tf.reduce_mean(tf.abs(y_true-y_pred))\n",
        "\n",
        "  # Find MAE of naive forecast (no seasonality)\n",
        "  mae_naive_no_season = tf.reduce_mean(tf.abs(y_true[1:] - y_true[:-1])) # our seeasonality is 1 day (hence the shift kof 1)\n",
        "\n",
        "  return mae/ mae_naive_no_season\n"
      ],
      "metadata": {
        "id": "6xmj05Ahahnw"
      },
      "execution_count": null,
      "outputs": []
    },
    {
      "cell_type": "code",
      "source": [
        "mean_absolute_scaled_error(y_true=y_test[1:], y_pred=naive_forecast).numpy()"
      ],
      "metadata": {
        "colab": {
          "base_uri": "https://localhost:8080/"
        },
        "id": "dGx6JZjWrZin",
        "outputId": "13aa88a7-39ee-4bba-ddbd-6becee9d70a9"
      },
      "execution_count": null,
      "outputs": [
        {
          "output_type": "execute_result",
          "data": {
            "text/plain": [
              "0.9995699939182624"
            ]
          },
          "metadata": {},
          "execution_count": 25
        }
      ]
    },
    {
      "cell_type": "code",
      "source": [
        "# Create a function to take in model predictions and truth values and return evalution metrics\n",
        "def evaluate_preds(y_true, y_pred):\n",
        "  # Make sure float32 datatype (for metric calculation)\n",
        "  y_true = tf.cast(y_true, dtype=tf.float32)\n",
        "  y_pred = tf.cast(y_pred, dtype=tf.float32)\n",
        "\n",
        "  # Calculate various evalute metrics\n",
        "  mae = tf.keras.metrics.mean_absolute_error(y_true, y_pred)\n",
        "  mse = tf.keras.metrics.mean_squared_error(y_true, y_pred)\n",
        "  rmse = tf.sqrt(mse)\n",
        "  mape = tf.keras.metrics.mean_absolute_percentage_error(y_true, y_pred)\n",
        "  mase = mean_absolute_scaled_error(y_true, y_pred)\n",
        "\n",
        "  return {\"mae\": mae.numpy(),\n",
        "          \"mse\": mse.numpy(),\n",
        "          \"rmse\": rmse.numpy(),\n",
        "          \"mape\": mape.numpy(),\n",
        "          \"mase\": mase.numpy()}"
      ],
      "metadata": {
        "id": "-FOw2abQrnIb"
      },
      "execution_count": null,
      "outputs": []
    },
    {
      "cell_type": "markdown",
      "source": [
        "evalution function ready.. let's see if it works"
      ],
      "metadata": {
        "id": "7YV7fNF6wYPX"
      }
    },
    {
      "cell_type": "code",
      "source": [
        "naive_results = evaluate_preds(y_true=y_test[1:],\n",
        "                              y_pred=naive_forecast)\n",
        "naive_results"
      ],
      "metadata": {
        "colab": {
          "base_uri": "https://localhost:8080/"
        },
        "id": "DW0J5rHewXVv",
        "outputId": "b2b90db0-9fe3-4542-aef8-7200f3d6e900"
      },
      "execution_count": null,
      "outputs": [
        {
          "output_type": "execute_result",
          "data": {
            "text/plain": [
              "{'mae': 567.9802,\n",
              " 'mse': 1147547.0,\n",
              " 'rmse': 1071.2362,\n",
              " 'mape': 2.516525,\n",
              " 'mase': 0.99957}"
            ]
          },
          "metadata": {},
          "execution_count": 27
        }
      ]
    },
    {
      "cell_type": "code",
      "source": [],
      "metadata": {
        "id": "iIjRP21p0CSN"
      },
      "execution_count": null,
      "outputs": []
    },
    {
      "cell_type": "markdown",
      "source": [
        "## For Data part 2: Windowing our dataset\n",
        "Why do we window?\n",
        "\n",
        "We window out time series dataset to turn our data into a supervised learning problem.\n",
        "\n",
        "```\n",
        "\n",
        "Windowing for one week\n",
        "[0,1,2,3,4,5,6] -> [7]\n",
        "[1,2,3,4,5,6,7] -> [8]\n",
        "[2,3,4,5,6,7,8] -> [9]\n"
      ],
      "metadata": {
        "id": "HKgkXkJNLLRo"
      }
    },
    {
      "cell_type": "markdown",
      "source": [
        "[[window_1],\n",
        " [window_2],\n",
        " [window_3]]..."
      ],
      "metadata": {
        "id": "srowGqBfVXqQ"
      }
    },
    {
      "cell_type": "code",
      "source": [
        "len(y_train)"
      ],
      "metadata": {
        "colab": {
          "base_uri": "https://localhost:8080/"
        },
        "id": "_7lFLKsjLlGX",
        "outputId": "831120ca-e673-4c2b-a20b-e31a546bc6eb"
      },
      "execution_count": null,
      "outputs": [
        {
          "output_type": "execute_result",
          "data": {
            "text/plain": [
              "2229"
            ]
          },
          "metadata": {},
          "execution_count": 28
        }
      ]
    },
    {
      "cell_type": "code",
      "source": [
        "# What we want to do with our Bitcoin data\n",
        "print(f\"we want to use: {btc_price[:7]} to predict this: {btc_price[7]}\")"
      ],
      "metadata": {
        "colab": {
          "base_uri": "https://localhost:8080/"
        },
        "id": "-HU80iiVO0zJ",
        "outputId": "505650ca-a4c9-4f1e-b1d9-8f613240d6e0"
      },
      "execution_count": null,
      "outputs": [
        {
          "output_type": "stream",
          "name": "stdout",
          "text": [
            "we want to use: [123.65499, 125.455, 108.58483, 118.67466, 121.33866, 120.65533, 121.795] to predict this: 123.033\n"
          ]
        }
      ]
    },
    {
      "cell_type": "code",
      "source": [
        "# Let's setup global varibles for window and horizon size\n",
        "HORIZON = 1 # PREDICT next 1 day\n",
        "WINDOW_SIZE = 7 # use the past week of Bitcoindata to make the prediction"
      ],
      "metadata": {
        "id": "DOt6NRKuO8_k"
      },
      "execution_count": null,
      "outputs": []
    },
    {
      "cell_type": "code",
      "source": [
        "# create fucntion to label windowed data\n",
        "def get_labelled_windows(x, horizon=HORIZON):\n",
        "  \"\"\"\n",
        "  Creates labels for windowed dataset.\n",
        "  e.g. if horizon=1\n",
        "  Input: [0, 1, 2, 3, 4, 5, 6, 7] -> Output: ([0, 1, 2, 3, 4, 5, 6], [7])\n",
        "  \"\"\"\n",
        "  return x[:, :-horizon], x[:, -horizon:]"
      ],
      "metadata": {
        "id": "lICPIB4jP8f4"
      },
      "execution_count": null,
      "outputs": []
    },
    {
      "cell_type": "code",
      "source": [
        "# Test our the window labelling fucntion\n",
        "test_window, test_label = get_labelled_windows(tf.expand_dims(tf.range(8), axis=0))\n",
        "print(f\"Window: {tf.squeeze(test_window).numpy()} -> Label: {tf.squeeze(test_label).numpy()}\")"
      ],
      "metadata": {
        "colab": {
          "base_uri": "https://localhost:8080/"
        },
        "id": "Hp0ZnyBLV6V5",
        "outputId": "d3ec2cb5-4190-4392-fc42-0fb6e8f699e7"
      },
      "execution_count": null,
      "outputs": [
        {
          "output_type": "stream",
          "name": "stdout",
          "text": [
            "Window: [0 1 2 3 4 5 6] -> Label: 7\n"
          ]
        }
      ]
    },
    {
      "cell_type": "code",
      "source": [
        " tf.expand_dims(tf.range(8), axis=0)"
      ],
      "metadata": {
        "colab": {
          "base_uri": "https://localhost:8080/"
        },
        "id": "6_YiQxhVWRTW",
        "outputId": "07a9d9a2-da49-40b3-cdc9-d228dc4b0e3c"
      },
      "execution_count": null,
      "outputs": [
        {
          "output_type": "execute_result",
          "data": {
            "text/plain": [
              "<tf.Tensor: shape=(1, 8), dtype=int32, numpy=array([[0, 1, 2, 3, 4, 5, 6, 7]], dtype=int32)>"
            ]
          },
          "metadata": {},
          "execution_count": 33
        }
      ]
    },
    {
      "cell_type": "markdown",
      "source": [
        "We've got a way  to label our windowed data\n",
        "\n",
        "However, this only works on a small sccale.\n",
        "\n",
        "We need a way to do the above across our entire time series\n",
        "\n",
        "We could do this with Python for loops, however, for large time series, that'd be quite slow.\n",
        "\n",
        "To speed things up, we'll leverage Numpy's array indexing. https://www.w3schools.com/python/numpy/numpy_array_indexing.asp\n",
        "\n",
        "Our function will:\n",
        "1. Create a window step of specific window size (e.g. [0, 1, 2, 3, 4, 5, 6]\n",
        "2. Use Numpy indexing to create a 2D array of multiple window steps, for example:\n",
        "```\n",
        "[[0, 1, 2, 3, 4, 5, 6],\n",
        "[1, 2, 3, 4, 5, 6, 7],\n",
        "[2, 3, 4, 5, 6, 7, 8]]\n",
        "```\n",
        "3. Uses the 2D array of multiple window steps (from 2.) to index on a target series (e.g. the historical price of Bitcoin)\n",
        "4. Use our `get_labelled_window()` function we created above to turn the window steps into windows with a specified horizon"
      ],
      "metadata": {
        "id": "zsKp2E__exNB"
      }
    },
    {
      "cell_type": "code",
      "source": [
        "import numpy as np\n",
        "# Create function to view Numpy arrays as windows\n",
        "def make_windows(x, window_size=WINDOW_SIZE, horizon=HORIZON):\n",
        "  \"\"\"\n",
        "  Turns a 1D array in to 2D array of sequential labelled windows of window_size with horizon size labels.\n",
        "  \"\"\"\n",
        "  # 1. Create a window specific window_size (add the horizon on the end for labelling later)\n",
        "  window_step = np.expand_dims(np.arange(window_size+horizon), axis=0)\n",
        "\n",
        "  # 2. Create a 2D array of multiple window steps (minus 1 to account for 0 indexing)\n",
        "  window_indexes = window_step + np.expand_dims(np.arange(len(x)-(window_size+horizon-1)), axis=0).T # Create 2D array of window of size window_size\n",
        "  \n",
        "  # print(f\"Window indexes:\\n {window_indexes, window_indexes.shape}\")\n",
        "\n",
        "  # 3. Index on the target array (a time series) with 2D array of multiple window steps\n",
        "  windowed_array = x[window_indexes]\n",
        "  #print(windowed_array)\n",
        "\n",
        "  # 4. Get the labelled windows\n",
        "  windows, labels = get_labelled_windows(windowed_array, horizon=horizon)\n",
        "  return windows, labels"
      ],
      "metadata": {
        "id": "yfHbaoGEXt4c"
      },
      "execution_count": null,
      "outputs": []
    },
    {
      "cell_type": "code",
      "source": [
        "full_windows, full_labels = make_windows(prices, window_size=WINDOW_SIZE, horizon=HORIZON)\n",
        "len(full_windows), len(full_labels)"
      ],
      "metadata": {
        "colab": {
          "base_uri": "https://localhost:8080/"
        },
        "id": "7vIpjBDUgKXv",
        "outputId": "687c74b0-10d7-4ccd-b86b-d368fa7c3758"
      },
      "execution_count": null,
      "outputs": [
        {
          "output_type": "execute_result",
          "data": {
            "text/plain": [
              "(2780, 2780)"
            ]
          },
          "metadata": {},
          "execution_count": 35
        }
      ]
    },
    {
      "cell_type": "code",
      "source": [
        "# View the first 3 window/labels\n",
        "for i in range(3):\n",
        "  print(f\"Window: {full_windows[i]} -> Label: {full_labels[i]}\")"
      ],
      "metadata": {
        "colab": {
          "base_uri": "https://localhost:8080/"
        },
        "id": "r1_oIJ5e4zI8",
        "outputId": "6854abfe-1733-4528-efa1-32637eee17fa"
      },
      "execution_count": null,
      "outputs": [
        {
          "output_type": "stream",
          "name": "stdout",
          "text": [
            "Window: [123.65499 125.455   108.58483 118.67466 121.33866 120.65533 121.795  ] -> Label: [123.033]\n",
            "Window: [125.455   108.58483 118.67466 121.33866 120.65533 121.795   123.033  ] -> Label: [124.049]\n",
            "Window: [108.58483 118.67466 121.33866 120.65533 121.795   123.033   124.049  ] -> Label: [125.96116]\n"
          ]
        }
      ]
    },
    {
      "cell_type": "code",
      "source": [
        "# view the last 3 window/labels\n",
        "for i in range(3):\n",
        "  print(f\"Window: {full_windows[i-3]} -> Label: {full_labels[i-3]}\")"
      ],
      "metadata": {
        "colab": {
          "base_uri": "https://localhost:8080/"
        },
        "id": "TmPFJW9p6_rn",
        "outputId": "ae3da895-ecc2-4e44-c41d-586228152855"
      },
      "execution_count": null,
      "outputs": [
        {
          "output_type": "stream",
          "name": "stdout",
          "text": [
            "Window: [58788.20967893 58102.19142623 55715.54665129 56573.5554719\n",
            " 52147.82118698 49764.1320816  50032.69313676] -> Label: [47885.62525472]\n",
            "Window: [58102.19142623 55715.54665129 56573.5554719  52147.82118698\n",
            " 49764.1320816  50032.69313676 47885.62525472] -> Label: [45604.61575361]\n",
            "Window: [55715.54665129 56573.5554719  52147.82118698 49764.1320816\n",
            " 50032.69313676 47885.62525472 45604.61575361] -> Label: [43144.47129086]\n"
          ]
        }
      ]
    },
    {
      "cell_type": "markdown",
      "source": [
        "> 🔑 **Note:** There is a function which does similar to the above in tf.keras.preprocessing, an extension could be to try and replicate what we've done using the premade function. https://www.tensorflow.org/api_docs/python/tf/keras/utils/timeseries_dataset_from_array"
      ],
      "metadata": {
        "id": "55SyHSyx8SSd"
      }
    },
    {
      "cell_type": "code",
      "source": [
        "prices[-1]"
      ],
      "metadata": {
        "colab": {
          "base_uri": "https://localhost:8080/"
        },
        "id": "BkehAlDT3o0i",
        "outputId": "30b2d0a7-fbc6-4d08-e213-3b986388136c"
      },
      "execution_count": null,
      "outputs": [
        {
          "output_type": "execute_result",
          "data": {
            "text/plain": [
              "43144.4712908603"
            ]
          },
          "metadata": {},
          "execution_count": 38
        }
      ]
    },
    {
      "cell_type": "code",
      "source": [
        "len(prices)"
      ],
      "metadata": {
        "colab": {
          "base_uri": "https://localhost:8080/"
        },
        "id": "Pt78WbT0ufcW",
        "outputId": "9743cd1f-f032-4331-f5b5-8de96c9cfe7b"
      },
      "execution_count": null,
      "outputs": [
        {
          "output_type": "execute_result",
          "data": {
            "text/plain": [
              "2787"
            ]
          },
          "metadata": {},
          "execution_count": 39
        }
      ]
    },
    {
      "cell_type": "code",
      "source": [
        "window_step = np.expand_dims(np.arange(7+1), axis=0)\n",
        "window_step"
      ],
      "metadata": {
        "colab": {
          "base_uri": "https://localhost:8080/"
        },
        "id": "s6YLALR80gKf",
        "outputId": "2a45a3e6-2376-4459-9abc-7d9c0b9f8100"
      },
      "execution_count": null,
      "outputs": [
        {
          "output_type": "execute_result",
          "data": {
            "text/plain": [
              "array([[0, 1, 2, 3, 4, 5, 6, 7]])"
            ]
          },
          "metadata": {},
          "execution_count": 40
        }
      ]
    },
    {
      "cell_type": "code",
      "source": [
        "np.expand_dims(np.arange(len(prices)-(7+1-1)), axis=0)"
      ],
      "metadata": {
        "colab": {
          "base_uri": "https://localhost:8080/"
        },
        "id": "OUxLcZiC1T0X",
        "outputId": "01e4a680-c673-445a-9803-68bc6a09017d"
      },
      "execution_count": null,
      "outputs": [
        {
          "output_type": "execute_result",
          "data": {
            "text/plain": [
              "array([[   0,    1,    2, ..., 2777, 2778, 2779]])"
            ]
          },
          "metadata": {},
          "execution_count": 41
        }
      ]
    },
    {
      "cell_type": "code",
      "source": [
        "window_step + np.expand_dims(np.arange(len(prices)-(7+1-1)), axis=0).T"
      ],
      "metadata": {
        "colab": {
          "base_uri": "https://localhost:8080/"
        },
        "id": "-3UwFgLZzTN2",
        "outputId": "9fdfa995-3b9b-4dfb-dca1-ae363725e291"
      },
      "execution_count": null,
      "outputs": [
        {
          "output_type": "execute_result",
          "data": {
            "text/plain": [
              "array([[   0,    1,    2, ...,    5,    6,    7],\n",
              "       [   1,    2,    3, ...,    6,    7,    8],\n",
              "       [   2,    3,    4, ...,    7,    8,    9],\n",
              "       ...,\n",
              "       [2777, 2778, 2779, ..., 2782, 2783, 2784],\n",
              "       [2778, 2779, 2780, ..., 2783, 2784, 2785],\n",
              "       [2779, 2780, 2781, ..., 2784, 2785, 2786]])"
            ]
          },
          "metadata": {},
          "execution_count": 42
        }
      ]
    },
    {
      "cell_type": "code",
      "source": [
        "2787-2779\n"
      ],
      "metadata": {
        "colab": {
          "base_uri": "https://localhost:8080/"
        },
        "id": "cOTfqZbJz7SK",
        "outputId": "46ac9eca-8bd1-4d48-9232-c9a2c02921ee"
      },
      "execution_count": null,
      "outputs": [
        {
          "output_type": "execute_result",
          "data": {
            "text/plain": [
              "8"
            ]
          },
          "metadata": {},
          "execution_count": 43
        }
      ]
    },
    {
      "cell_type": "code",
      "source": [
        "window_step + 10"
      ],
      "metadata": {
        "colab": {
          "base_uri": "https://localhost:8080/"
        },
        "id": "ryFodFGP0RRl",
        "outputId": "636f7fcf-8a3d-4bb3-b097-6eb0a3ecf19c"
      },
      "execution_count": null,
      "outputs": [
        {
          "output_type": "execute_result",
          "data": {
            "text/plain": [
              "array([[10, 11, 12, 13, 14, 15, 16, 17]])"
            ]
          },
          "metadata": {},
          "execution_count": 44
        }
      ]
    },
    {
      "cell_type": "markdown",
      "source": [
        "## Turning windows into training and test sets"
      ],
      "metadata": {
        "id": "x0yx6Qe005Sh"
      }
    },
    {
      "cell_type": "code",
      "source": [
        "full_windows[:5], full_labels[:5]"
      ],
      "metadata": {
        "colab": {
          "base_uri": "https://localhost:8080/"
        },
        "id": "I2fsF_L6Mgh9",
        "outputId": "23822a0b-d4d8-4b4c-eb5a-f00e51d0c79d"
      },
      "execution_count": null,
      "outputs": [
        {
          "output_type": "execute_result",
          "data": {
            "text/plain": [
              "(array([[123.65499, 125.455  , 108.58483, 118.67466, 121.33866, 120.65533,\n",
              "         121.795  ],\n",
              "        [125.455  , 108.58483, 118.67466, 121.33866, 120.65533, 121.795  ,\n",
              "         123.033  ],\n",
              "        [108.58483, 118.67466, 121.33866, 120.65533, 121.795  , 123.033  ,\n",
              "         124.049  ],\n",
              "        [118.67466, 121.33866, 120.65533, 121.795  , 123.033  , 124.049  ,\n",
              "         125.96116],\n",
              "        [121.33866, 120.65533, 121.795  , 123.033  , 124.049  , 125.96116,\n",
              "         125.27966]]), array([[123.033  ],\n",
              "        [124.049  ],\n",
              "        [125.96116],\n",
              "        [125.27966],\n",
              "        [125.9275 ]]))"
            ]
          },
          "metadata": {},
          "execution_count": 45
        }
      ]
    },
    {
      "cell_type": "code",
      "source": [
        "# Make the train/test splits\n",
        "def make_train_test_splits(windows, labels, test_split=0.2):\n",
        "  \"\"\"\n",
        "  Splits matching pairs of windows and labels into  train and test splits.\n",
        "  \"\"\"\n",
        "  split_size = int(len(windows) * (1-test_split)) # this will default to 80% train/20% test\n",
        "  train_windows = windows[:split_size]\n",
        "  train_labels = labels[:split_size]\n",
        "  test_windows = windows[split_size:]\n",
        "  test_labels = labels[split_size:]\n",
        "  return train_windows, test_windows, train_labels, test_labels"
      ],
      "metadata": {
        "id": "6CVt7JLuL8hJ"
      },
      "execution_count": null,
      "outputs": []
    },
    {
      "cell_type": "code",
      "source": [
        "# Create trian and test windows \n",
        "train_windows, test_windows, train_labels, test_labels = make_train_test_splits(full_windows, full_labels)\n",
        "len(train_windows), len(test_windows), len(train_windows), len(train_labels), len(test_labels)"
      ],
      "metadata": {
        "colab": {
          "base_uri": "https://localhost:8080/"
        },
        "id": "DbtbgNd9Q8vJ",
        "outputId": "d5bd861b-c8a3-447e-e769-4687c47be440"
      },
      "execution_count": null,
      "outputs": [
        {
          "output_type": "execute_result",
          "data": {
            "text/plain": [
              "(2224, 556, 2224, 2224, 556)"
            ]
          },
          "metadata": {},
          "execution_count": 47
        }
      ]
    },
    {
      "cell_type": "code",
      "source": [
        "train_windows[:5], train_labels[:5]"
      ],
      "metadata": {
        "colab": {
          "base_uri": "https://localhost:8080/"
        },
        "id": "3mBxAv0AToYn",
        "outputId": "64fd6b49-e73c-4f0e-d1c3-5999b78fa6e7"
      },
      "execution_count": null,
      "outputs": [
        {
          "output_type": "execute_result",
          "data": {
            "text/plain": [
              "(array([[123.65499, 125.455  , 108.58483, 118.67466, 121.33866, 120.65533,\n",
              "         121.795  ],\n",
              "        [125.455  , 108.58483, 118.67466, 121.33866, 120.65533, 121.795  ,\n",
              "         123.033  ],\n",
              "        [108.58483, 118.67466, 121.33866, 120.65533, 121.795  , 123.033  ,\n",
              "         124.049  ],\n",
              "        [118.67466, 121.33866, 120.65533, 121.795  , 123.033  , 124.049  ,\n",
              "         125.96116],\n",
              "        [121.33866, 120.65533, 121.795  , 123.033  , 124.049  , 125.96116,\n",
              "         125.27966]]), array([[123.033  ],\n",
              "        [124.049  ],\n",
              "        [125.96116],\n",
              "        [125.27966],\n",
              "        [125.9275 ]]))"
            ]
          },
          "metadata": {},
          "execution_count": 48
        }
      ]
    },
    {
      "cell_type": "code",
      "source": [
        "test_windows[:5], test_windows[:5]"
      ],
      "metadata": {
        "colab": {
          "base_uri": "https://localhost:8080/"
        },
        "id": "OdLY829ZT0py",
        "outputId": "82d14518-3168-45cc-f56f-0b25e4a072da"
      },
      "execution_count": null,
      "outputs": [
        {
          "output_type": "execute_result",
          "data": {
            "text/plain": [
              "(array([[9290.89660239, 9202.41545055, 9369.62808116, 9326.59962378,\n",
              "         9335.75240233, 9226.48582088, 8794.35864452],\n",
              "        [9202.41545055, 9369.62808116, 9326.59962378, 9335.75240233,\n",
              "         9226.48582088, 8794.35864452, 8798.04205463],\n",
              "        [9369.62808116, 9326.59962378, 9335.75240233, 9226.48582088,\n",
              "         8794.35864452, 8798.04205463, 9081.18687849],\n",
              "        [9326.59962378, 9335.75240233, 9226.48582088, 8794.35864452,\n",
              "         8798.04205463, 9081.18687849, 8711.53433917],\n",
              "        [9335.75240233, 9226.48582088, 8794.35864452, 8798.04205463,\n",
              "         9081.18687849, 8711.53433917, 8760.89271814]]),\n",
              " array([[9290.89660239, 9202.41545055, 9369.62808116, 9326.59962378,\n",
              "         9335.75240233, 9226.48582088, 8794.35864452],\n",
              "        [9202.41545055, 9369.62808116, 9326.59962378, 9335.75240233,\n",
              "         9226.48582088, 8794.35864452, 8798.04205463],\n",
              "        [9369.62808116, 9326.59962378, 9335.75240233, 9226.48582088,\n",
              "         8794.35864452, 8798.04205463, 9081.18687849],\n",
              "        [9326.59962378, 9335.75240233, 9226.48582088, 8794.35864452,\n",
              "         8798.04205463, 9081.18687849, 8711.53433917],\n",
              "        [9335.75240233, 9226.48582088, 8794.35864452, 8798.04205463,\n",
              "         9081.18687849, 8711.53433917, 8760.89271814]]))"
            ]
          },
          "metadata": {},
          "execution_count": 49
        }
      ]
    },
    {
      "cell_type": "code",
      "source": [
        "np.squeeze(train_labels[:5]).shape"
      ],
      "metadata": {
        "colab": {
          "base_uri": "https://localhost:8080/"
        },
        "id": "ShMfKd1kUf6Z",
        "outputId": "becb227e-6f38-46ee-bacd-1e5e0135d627"
      },
      "execution_count": null,
      "outputs": [
        {
          "output_type": "execute_result",
          "data": {
            "text/plain": [
              "(5,)"
            ]
          },
          "metadata": {},
          "execution_count": 50
        }
      ]
    },
    {
      "cell_type": "code",
      "source": [
        "# Check to see if train labels are the same (before and after window splits)\n",
        "np.array_equal(np.squeeze(train_labels[:-HORIZON-1]), y_train[WINDOW_SIZE:])"
      ],
      "metadata": {
        "colab": {
          "base_uri": "https://localhost:8080/"
        },
        "id": "yn3d1FnCT-Rc",
        "outputId": "bc217deb-ec05-442b-ab80-b6b256fa6225"
      },
      "execution_count": null,
      "outputs": [
        {
          "output_type": "execute_result",
          "data": {
            "text/plain": [
              "True"
            ]
          },
          "metadata": {},
          "execution_count": 51
        }
      ]
    },
    {
      "cell_type": "code",
      "source": [
        "train_labels"
      ],
      "metadata": {
        "colab": {
          "base_uri": "https://localhost:8080/"
        },
        "id": "XncWcalHYE6m",
        "outputId": "a5d19bd6-f25b-47ac-86c3-c5a91a2288d1"
      },
      "execution_count": null,
      "outputs": [
        {
          "output_type": "execute_result",
          "data": {
            "text/plain": [
              "array([[ 123.033     ],\n",
              "       [ 124.049     ],\n",
              "       [ 125.96116   ],\n",
              "       ...,\n",
              "       [9335.75240233],\n",
              "       [9226.48582088],\n",
              "       [8794.35864452]])"
            ]
          },
          "metadata": {},
          "execution_count": 52
        }
      ]
    },
    {
      "cell_type": "code",
      "source": [
        "y_train[WINDOW_SIZE:]"
      ],
      "metadata": {
        "colab": {
          "base_uri": "https://localhost:8080/"
        },
        "id": "q9tXJKiQYLHZ",
        "outputId": "c9736c54-bf3a-41c2-f0f9-5d4c593e442b"
      },
      "execution_count": null,
      "outputs": [
        {
          "output_type": "execute_result",
          "data": {
            "text/plain": [
              "array([ 123.033     ,  124.049     ,  125.96116   , ..., 9369.62808116,\n",
              "       9326.59962378, 9335.75240233])"
            ]
          },
          "metadata": {},
          "execution_count": 53
        }
      ]
    },
    {
      "cell_type": "markdown",
      "source": [
        " ## Make a modelling checkpoint\n",
        "\n",
        " Because our model's prerofmraance wil fluctualte from experiment we are going to make a checkpoint to compare apples to apples\n",
        "\n",
        " More specifically we want to compare each of our model's best perforomacne against the other model's best perfomarcne\n",
        "\n",
        " for example, if out model perfomrs the best on epoch 55 (but we're training for 100 epochs), we want to load and evaluate the saved on epoch 25"
      ],
      "metadata": {
        "id": "YcgbY8_8YZxM"
      }
    },
    {
      "cell_type": "code",
      "source": [
        "import os\n",
        "\n",
        "# Create a fucntion to implement a ModelCheckpoint callback with a specific filename\n",
        "def create_model_checkpoint(model_name, save_path=\"model_experiment\"):\n",
        "  return tf.keras.callbacks.ModelCheckpoint(filepath=os.path.join(save_path, model_name),\n",
        "                                            monitor=\"val_loss\",\n",
        "                                            verbose=2, # only output a limited amount of text,\n",
        "                                            save_best_only=True)"
      ],
      "metadata": {
        "id": "FolcEmVodSea"
      },
      "execution_count": null,
      "outputs": []
    },
    {
      "cell_type": "markdown",
      "source": [
        "## Model 1: Dense model (window = 7, horizon = 1)\n",
        "\n",
        "Out first deep model is going to be a simple dense model:\n",
        "* A simple dense layer with 128 hidden units and ReLU\n",
        "* An output layer with linear activation (no acitivation)\n",
        "* Adam optimizer and MAE loss function\n",
        "* Batch size of 128 ( previously we've used 32)\n",
        "* 100 epochs \n",
        "\n",
        "Why these values?\n",
        "\n",
        "picked from experimentations.\n",
        "\n",
        "* **Hyperparameters** = values machine leraning practitioner (me) can adjust themselves\n",
        "* **parameter** = values a model learns on its own "
      ],
      "metadata": {
        "id": "aFG0ISkmptuA"
      }
    },
    {
      "cell_type": "code",
      "source": [
        "import tensorflow as tf\n",
        "from tensorflow.keras import layers\n",
        "\n",
        "# Set random seed for as reproductible results as possible\n",
        "tf.random.set_seed(42)\n",
        "\n",
        "# 1. Construct Model\n",
        "model_1 = tf.keras.Sequential([\n",
        "    layers.Dense(128, activation=\"relu\"),\n",
        "    layers.Dense(HORIZON, activation=\"linear\") # linear activatioin is the same as having no acitvation\n",
        "], name=\"model_1_dense\") # name our model so we can save it\n",
        "\n",
        "# compile model\n",
        "model_1.compile(loss=\"mae\",\n",
        "                optimizer=tf.keras.optimizers.Adam(),\n",
        "                metrics=[\"mae\", \"mse\"])\n",
        "\n",
        "# Fit the model\n",
        "model_1.fit(x=train_windows,\n",
        "            y=train_labels,\n",
        "            epochs=100,\n",
        "            verbose=1,\n",
        "            batch_size=128,\n",
        "            validation_data=(test_windows, test_labels),\n",
        "            callbacks=[create_model_checkpoint(model_name=model_1.name)])\n",
        "\n"
      ],
      "metadata": {
        "colab": {
          "base_uri": "https://localhost:8080/"
        },
        "id": "GclaWfb5q5Nq",
        "outputId": "ac85473c-748d-4f17-8ba5-3d061ab70812"
      },
      "execution_count": null,
      "outputs": [
        {
          "output_type": "stream",
          "name": "stdout",
          "text": [
            "Epoch 1/100\n",
            "11/18 [=================>............] - ETA: 0s - loss: 1014.9537 - mae: 1014.9537 - mse: 3358914.2500 \n",
            "Epoch 1: val_loss improved from inf to 2279.65283, saving model to model_experiment/model_1_dense\n",
            "18/18 [==============================] - 4s 61ms/step - loss: 780.3455 - mae: 780.3455 - mse: 2312725.7500 - val_loss: 2279.6528 - val_mae: 2279.6528 - val_mse: 12772731.0000\n",
            "Epoch 2/100\n",
            " 1/18 [>.............................] - ETA: 0s - loss: 348.8859 - mae: 348.8859 - mse: 600802.6250\n",
            "Epoch 2: val_loss improved from 2279.65283 to 1005.99933, saving model to model_experiment/model_1_dense\n",
            "18/18 [==============================] - 1s 46ms/step - loss: 247.6756 - mae: 247.6756 - mse: 285481.1875 - val_loss: 1005.9993 - val_mae: 1005.9993 - val_mse: 3441833.2500\n",
            "Epoch 3/100\n",
            " 1/18 [>.............................] - ETA: 0s - loss: 134.4855 - mae: 134.4855 - mse: 70765.6953\n",
            "Epoch 3: val_loss improved from 1005.99933 to 923.28619, saving model to model_experiment/model_1_dense\n",
            "18/18 [==============================] - 1s 42ms/step - loss: 188.4116 - mae: 188.4116 - mse: 171891.6094 - val_loss: 923.2862 - val_mae: 923.2861 - val_mse: 2868220.7500\n",
            "Epoch 4/100\n",
            " 1/18 [>.............................] - ETA: 0s - loss: 211.3724 - mae: 211.3724 - mse: 238018.8906\n",
            "Epoch 4: val_loss improved from 923.28619 to 900.58722, saving model to model_experiment/model_1_dense\n",
            "18/18 [==============================] - 1s 74ms/step - loss: 169.4340 - mae: 169.4340 - mse: 151700.5781 - val_loss: 900.5872 - val_mae: 900.5872 - val_mse: 2683715.5000\n",
            "Epoch 5/100\n",
            " 1/18 [>.............................] - ETA: 0s - loss: 155.7325 - mae: 155.7325 - mse: 88124.5312\n",
            "Epoch 5: val_loss improved from 900.58722 to 895.22369, saving model to model_experiment/model_1_dense\n",
            "18/18 [==============================] - 1s 43ms/step - loss: 165.0894 - mae: 165.0894 - mse: 145490.7812 - val_loss: 895.2237 - val_mae: 895.2237 - val_mse: 2564574.5000\n",
            "Epoch 6/100\n",
            " 1/18 [>.............................] - ETA: 0s - loss: 117.3681 - mae: 117.3681 - mse: 55147.0820\n",
            "Epoch 6: val_loss improved from 895.22369 to 855.19843, saving model to model_experiment/model_1_dense\n",
            "18/18 [==============================] - 1s 41ms/step - loss: 158.5210 - mae: 158.5210 - mse: 133817.7344 - val_loss: 855.1984 - val_mae: 855.1984 - val_mse: 2481873.2500\n",
            "Epoch 7/100\n",
            "15/18 [========================>.....] - ETA: 0s - loss: 155.5176 - mae: 155.5176 - mse: 130523.4297\n",
            "Epoch 7: val_loss improved from 855.19843 to 840.91656, saving model to model_experiment/model_1_dense\n",
            "18/18 [==============================] - 1s 38ms/step - loss: 151.3566 - mae: 151.3566 - mse: 123446.9766 - val_loss: 840.9166 - val_mae: 840.9166 - val_mse: 2276451.5000\n",
            "Epoch 8/100\n",
            " 1/18 [>.............................] - ETA: 0s - loss: 121.1138 - mae: 121.1138 - mse: 57999.1211\n",
            "Epoch 8: val_loss improved from 840.91656 to 803.59558, saving model to model_experiment/model_1_dense\n",
            "18/18 [==============================] - 1s 55ms/step - loss: 145.2560 - mae: 145.2560 - mse: 117694.5000 - val_loss: 803.5956 - val_mae: 803.5956 - val_mse: 2140573.5000\n",
            "Epoch 9/100\n",
            "17/18 [===========================>..] - ETA: 0s - loss: 144.6505 - mae: 144.6505 - mse: 116260.0781\n",
            "Epoch 9: val_loss improved from 803.59558 to 799.54541, saving model to model_experiment/model_1_dense\n",
            "18/18 [==============================] - 1s 51ms/step - loss: 144.3546 - mae: 144.3546 - mse: 115269.3047 - val_loss: 799.5454 - val_mae: 799.5454 - val_mse: 2049207.7500\n",
            "Epoch 10/100\n",
            " 9/18 [==============>...............] - ETA: 0s - loss: 137.5413 - mae: 137.5413 - mse: 102931.7109\n",
            "Epoch 10: val_loss improved from 799.54541 to 763.50104, saving model to model_experiment/model_1_dense\n",
            "18/18 [==============================] - 1s 49ms/step - loss: 141.2943 - mae: 141.2943 - mse: 112394.5938 - val_loss: 763.5010 - val_mae: 763.5010 - val_mse: 1933140.7500\n",
            "Epoch 11/100\n",
            "18/18 [==============================] - ETA: 0s - loss: 135.6595 - mae: 135.6595 - mse: 104118.2344\n",
            "Epoch 11: val_loss did not improve from 763.50104\n",
            "18/18 [==============================] - 0s 10ms/step - loss: 135.6595 - mae: 135.6595 - mse: 104118.2344 - val_loss: 771.3356 - val_mae: 771.3356 - val_mse: 1885849.7500\n",
            "Epoch 12/100\n",
            " 1/18 [>.............................] - ETA: 0s - loss: 127.6624 - mae: 127.6624 - mse: 78393.5000\n",
            "Epoch 12: val_loss did not improve from 763.50104\n",
            "18/18 [==============================] - 0s 4ms/step - loss: 134.1700 - mae: 134.1700 - mse: 101780.8672 - val_loss: 782.8079 - val_mae: 782.8079 - val_mse: 1881727.1250\n",
            "Epoch 13/100\n",
            " 1/18 [>.............................] - ETA: 0s - loss: 108.9795 - mae: 108.9795 - mse: 72218.0078\n",
            "Epoch 13: val_loss did not improve from 763.50104\n",
            "18/18 [==============================] - 0s 4ms/step - loss: 134.6015 - mae: 134.6015 - mse: 102345.2266 - val_loss: 784.4449 - val_mae: 784.4449 - val_mse: 1860996.1250\n",
            "Epoch 14/100\n",
            " 1/18 [>.............................] - ETA: 0s - loss: 136.5593 - mae: 136.5593 - mse: 78599.7188\n",
            "Epoch 14: val_loss improved from 763.50104 to 751.32336, saving model to model_experiment/model_1_dense\n",
            "18/18 [==============================] - 1s 55ms/step - loss: 130.6127 - mae: 130.6127 - mse: 96225.1328 - val_loss: 751.3234 - val_mae: 751.3233 - val_mse: 1749609.0000\n",
            "Epoch 15/100\n",
            " 1/18 [>.............................] - ETA: 0s - loss: 131.5350 - mae: 131.5350 - mse: 65715.5938\n",
            "Epoch 15: val_loss improved from 751.32336 to 696.57556, saving model to model_experiment/model_1_dense\n",
            "18/18 [==============================] - 1s 45ms/step - loss: 128.8347 - mae: 128.8347 - mse: 94306.9922 - val_loss: 696.5756 - val_mae: 696.5756 - val_mse: 1606352.3750\n",
            "Epoch 16/100\n",
            " 9/18 [==============>...............] - ETA: 0s - loss: 121.0520 - mae: 121.0520 - mse: 80571.9062\n",
            "Epoch 16: val_loss did not improve from 696.57556\n",
            "18/18 [==============================] - 0s 10ms/step - loss: 124.7739 - mae: 124.7739 - mse: 90394.9375 - val_loss: 702.4698 - val_mae: 702.4698 - val_mse: 1592416.2500\n",
            "Epoch 17/100\n",
            "15/18 [========================>.....] - ETA: 0s - loss: 120.6528 - mae: 120.6528 - mse: 83391.5391\n",
            "Epoch 17: val_loss did not improve from 696.57556\n",
            "18/18 [==============================] - 0s 8ms/step - loss: 123.4474 - mae: 123.4474 - mse: 89247.7031 - val_loss: 704.9239 - val_mae: 704.9239 - val_mse: 1580782.7500\n",
            "Epoch 18/100\n",
            "13/18 [====================>.........] - ETA: 0s - loss: 128.4065 - mae: 128.4065 - mse: 95061.4922\n",
            "Epoch 18: val_loss improved from 696.57556 to 667.97235, saving model to model_experiment/model_1_dense\n",
            "18/18 [==============================] - 1s 45ms/step - loss: 122.2105 - mae: 122.2105 - mse: 87607.5938 - val_loss: 667.9724 - val_mae: 667.9724 - val_mse: 1498881.8750\n",
            "Epoch 19/100\n",
            "15/18 [========================>.....] - ETA: 0s - loss: 120.6493 - mae: 120.6493 - mse: 87664.5469\n",
            "Epoch 19: val_loss did not improve from 667.97235\n",
            "18/18 [==============================] - 0s 8ms/step - loss: 121.7263 - mae: 121.7263 - mse: 86632.2422 - val_loss: 718.8796 - val_mae: 718.8796 - val_mse: 1589299.3750\n",
            "Epoch 20/100\n",
            "18/18 [==============================] - ETA: 0s - loss: 119.2420 - mae: 119.2420 - mse: 84334.3203 \n",
            "Epoch 20: val_loss improved from 667.97235 to 657.06659, saving model to model_experiment/model_1_dense\n",
            "18/18 [==============================] - 1s 46ms/step - loss: 119.2420 - mae: 119.2420 - mse: 84334.3203 - val_loss: 657.0666 - val_mae: 657.0666 - val_mse: 1447501.1250\n",
            "Epoch 21/100\n",
            " 1/18 [>.............................] - ETA: 0s - loss: 129.2764 - mae: 129.2764 - mse: 78635.7812\n",
            "Epoch 21: val_loss improved from 657.06659 to 637.03326, saving model to model_experiment/model_1_dense\n",
            "18/18 [==============================] - 1s 48ms/step - loss: 121.2275 - mae: 121.2275 - mse: 85743.3828 - val_loss: 637.0333 - val_mae: 637.0333 - val_mse: 1401774.2500\n",
            "Epoch 22/100\n",
            " 1/18 [>.............................] - ETA: 0s - loss: 164.5248 - mae: 164.5248 - mse: 155615.2031\n",
            "Epoch 22: val_loss did not improve from 637.03326\n",
            "18/18 [==============================] - 0s 5ms/step - loss: 119.9544 - mae: 119.9544 - mse: 84050.1094 - val_loss: 671.2488 - val_mae: 671.2488 - val_mse: 1447895.7500\n",
            "Epoch 23/100\n",
            "15/18 [========================>.....] - ETA: 0s - loss: 123.1020 - mae: 123.1020 - mse: 81349.2891\n",
            "Epoch 23: val_loss improved from 637.03326 to 633.35919, saving model to model_experiment/model_1_dense\n",
            "18/18 [==============================] - 1s 38ms/step - loss: 121.9248 - mae: 121.9248 - mse: 83746.1250 - val_loss: 633.3592 - val_mae: 633.3592 - val_mse: 1367377.8750\n",
            "Epoch 24/100\n",
            " 1/18 [>.............................] - ETA: 0s - loss: 124.4803 - mae: 124.4803 - mse: 83062.6094\n",
            "Epoch 24: val_loss improved from 633.35919 to 624.48517, saving model to model_experiment/model_1_dense\n",
            "18/18 [==============================] - 1s 35ms/step - loss: 116.3665 - mae: 116.3665 - mse: 81446.6562 - val_loss: 624.4852 - val_mae: 624.4852 - val_mse: 1348960.6250\n",
            "Epoch 25/100\n",
            "13/18 [====================>.........] - ETA: 0s - loss: 117.7777 - mae: 117.7777 - mse: 80317.2578\n",
            "Epoch 25: val_loss improved from 624.48517 to 619.75702, saving model to model_experiment/model_1_dense\n",
            "18/18 [==============================] - 1s 39ms/step - loss: 114.6816 - mae: 114.6816 - mse: 78912.8359 - val_loss: 619.7570 - val_mae: 619.7570 - val_mse: 1351089.7500\n",
            "Epoch 26/100\n",
            " 1/18 [>.............................] - ETA: 0s - loss: 110.2667 - mae: 110.2667 - mse: 60073.7539\n",
            "Epoch 26: val_loss improved from 619.75702 to 615.63635, saving model to model_experiment/model_1_dense\n",
            "18/18 [==============================] - 1s 36ms/step - loss: 116.4455 - mae: 116.4455 - mse: 79365.5938 - val_loss: 615.6364 - val_mae: 615.6364 - val_mse: 1321514.3750\n",
            "Epoch 27/100\n",
            " 1/18 [>.............................] - ETA: 0s - loss: 159.8718 - mae: 159.8718 - mse: 126691.5078\n",
            "Epoch 27: val_loss did not improve from 615.63635\n",
            "18/18 [==============================] - 0s 5ms/step - loss: 116.5868 - mae: 116.5868 - mse: 78672.9062 - val_loss: 615.9629 - val_mae: 615.9629 - val_mse: 1313077.5000\n",
            "Epoch 28/100\n",
            "12/18 [===================>..........] - ETA: 0s - loss: 114.3223 - mae: 114.3223 - mse: 76418.4531\n",
            "Epoch 28: val_loss improved from 615.63635 to 608.09210, saving model to model_experiment/model_1_dense\n",
            "18/18 [==============================] - 1s 55ms/step - loss: 113.4691 - mae: 113.4691 - mse: 77440.0938 - val_loss: 608.0921 - val_mae: 608.0921 - val_mse: 1309775.3750\n",
            "Epoch 29/100\n",
            "17/18 [===========================>..] - ETA: 0s - loss: 111.6494 - mae: 111.6494 - mse: 75422.5234 \n",
            "Epoch 29: val_loss did not improve from 608.09210\n",
            "18/18 [==============================] - 0s 7ms/step - loss: 113.7598 - mae: 113.7598 - mse: 78506.9531 - val_loss: 621.9305 - val_mae: 621.9305 - val_mse: 1313324.6250\n",
            "Epoch 30/100\n",
            "13/18 [====================>.........] - ETA: 0s - loss: 115.8822 - mae: 115.8822 - mse: 77868.5000\n",
            "Epoch 30: val_loss improved from 608.09210 to 604.40564, saving model to model_experiment/model_1_dense\n",
            "18/18 [==============================] - 1s 59ms/step - loss: 116.8613 - mae: 116.8613 - mse: 79236.4609 - val_loss: 604.4056 - val_mae: 604.4056 - val_mse: 1283408.0000\n",
            "Epoch 31/100\n",
            " 1/18 [>.............................] - ETA: 0s - loss: 115.9620 - mae: 115.9620 - mse: 60410.6172\n",
            "Epoch 31: val_loss did not improve from 604.40564\n",
            "18/18 [==============================] - 0s 4ms/step - loss: 111.9375 - mae: 111.9375 - mse: 74849.0703 - val_loss: 609.3882 - val_mae: 609.3882 - val_mse: 1284506.2500\n",
            "Epoch 32/100\n",
            " 1/18 [>.............................] - ETA: 0s - loss: 107.0553 - mae: 107.0553 - mse: 70567.9375\n",
            "Epoch 32: val_loss improved from 604.40564 to 603.05878, saving model to model_experiment/model_1_dense\n",
            "18/18 [==============================] - 1s 49ms/step - loss: 112.4175 - mae: 112.4175 - mse: 77178.5859 - val_loss: 603.0588 - val_mae: 603.0588 - val_mse: 1273059.5000\n",
            "Epoch 33/100\n",
            " 1/18 [>.............................] - ETA: 0s - loss: 141.3404 - mae: 141.3404 - mse: 138415.3125\n",
            "Epoch 33: val_loss did not improve from 603.05878\n",
            "18/18 [==============================] - 0s 4ms/step - loss: 112.6697 - mae: 112.6697 - mse: 75787.9766 - val_loss: 645.6973 - val_mae: 645.6973 - val_mse: 1353255.7500\n",
            "Epoch 34/100\n",
            "11/18 [=================>............] - ETA: 0s - loss: 115.9953 - mae: 115.9953 - mse: 87376.9844 \n",
            "Epoch 34: val_loss did not improve from 603.05878\n",
            "18/18 [==============================] - 0s 11ms/step - loss: 111.9867 - mae: 111.9867 - mse: 77245.7266 - val_loss: 604.7634 - val_mae: 604.7634 - val_mse: 1289360.3750\n",
            "Epoch 35/100\n",
            "10/18 [===============>..............] - ETA: 0s - loss: 109.7781 - mae: 109.7781 - mse: 71546.9219\n",
            "Epoch 35: val_loss improved from 603.05878 to 593.46484, saving model to model_experiment/model_1_dense\n",
            "18/18 [==============================] - 1s 64ms/step - loss: 110.9451 - mae: 110.9451 - mse: 75301.7812 - val_loss: 593.4648 - val_mae: 593.4648 - val_mse: 1250491.3750\n",
            "Epoch 36/100\n",
            " 9/18 [==============>...............] - ETA: 0s - loss: 109.0555 - mae: 109.0555 - mse: 74910.0859 \n",
            "Epoch 36: val_loss did not improve from 593.46484\n",
            "18/18 [==============================] - 0s 9ms/step - loss: 114.4816 - mae: 114.4816 - mse: 76138.5391 - val_loss: 608.0074 - val_mae: 608.0074 - val_mse: 1269272.3750\n",
            "Epoch 37/100\n",
            "14/18 [======================>.......] - ETA: 0s - loss: 111.9136 - mae: 111.9136 - mse: 75541.6641 \n",
            "Epoch 37: val_loss did not improve from 593.46484\n",
            "18/18 [==============================] - 0s 7ms/step - loss: 110.2016 - mae: 110.2016 - mse: 74635.3047 - val_loss: 597.2308 - val_mae: 597.2308 - val_mse: 1248474.0000\n",
            "Epoch 38/100\n",
            "12/18 [===================>..........] - ETA: 0s - loss: 111.4914 - mae: 111.4914 - mse: 76320.8438\n",
            "Epoch 38: val_loss did not improve from 593.46484\n",
            "18/18 [==============================] - 0s 9ms/step - loss: 112.2372 - mae: 112.2372 - mse: 75821.6953 - val_loss: 637.9798 - val_mae: 637.9798 - val_mse: 1366130.8750\n",
            "Epoch 39/100\n",
            "14/18 [======================>.......] - ETA: 0s - loss: 117.7033 - mae: 117.7033 - mse: 81882.5547 \n",
            "Epoch 39: val_loss improved from 593.46484 to 587.46796, saving model to model_experiment/model_1_dense\n",
            "18/18 [==============================] - 1s 59ms/step - loss: 115.1289 - mae: 115.1289 - mse: 76339.6797 - val_loss: 587.4680 - val_mae: 587.4680 - val_mse: 1233512.3750\n",
            "Epoch 40/100\n",
            "11/18 [=================>............] - ETA: 0s - loss: 108.5438 - mae: 108.5438 - mse: 74257.3672\n",
            "Epoch 40: val_loss did not improve from 587.46796\n",
            "18/18 [==============================] - 0s 11ms/step - loss: 110.0854 - mae: 110.0854 - mse: 73528.4766 - val_loss: 592.7117 - val_mae: 592.7117 - val_mse: 1251474.6250\n",
            "Epoch 41/100\n",
            "15/18 [========================>.....] - ETA: 0s - loss: 113.9715 - mae: 113.9715 - mse: 79143.6641\n",
            "Epoch 41: val_loss did not improve from 587.46796\n",
            "18/18 [==============================] - 0s 7ms/step - loss: 110.6344 - mae: 110.6344 - mse: 73528.7891 - val_loss: 593.8997 - val_mae: 593.8997 - val_mse: 1253678.5000\n",
            "Epoch 42/100\n",
            "13/18 [====================>.........] - ETA: 0s - loss: 111.4428 - mae: 111.4428 - mse: 74078.3359\n",
            "Epoch 42: val_loss did not improve from 587.46796\n",
            "18/18 [==============================] - 0s 7ms/step - loss: 113.5762 - mae: 113.5762 - mse: 77076.7031 - val_loss: 636.3674 - val_mae: 636.3674 - val_mse: 1317283.5000\n",
            "Epoch 43/100\n",
            "11/18 [=================>............] - ETA: 0s - loss: 108.5944 - mae: 108.5944 - mse: 61754.8594\n",
            "Epoch 43: val_loss did not improve from 587.46796\n",
            "18/18 [==============================] - 0s 9ms/step - loss: 116.2285 - mae: 116.2285 - mse: 74712.2031 - val_loss: 662.9263 - val_mae: 662.9263 - val_mse: 1419201.7500\n",
            "Epoch 44/100\n",
            "10/18 [===============>..............] - ETA: 0s - loss: 119.0848 - mae: 119.0848 - mse: 75141.2656\n",
            "Epoch 44: val_loss did not improve from 587.46796\n",
            "18/18 [==============================] - 0s 10ms/step - loss: 120.0192 - mae: 120.0192 - mse: 80971.8750 - val_loss: 635.6360 - val_mae: 635.6360 - val_mse: 1345999.3750\n",
            "Epoch 45/100\n",
            "11/18 [=================>............] - ETA: 0s - loss: 111.6605 - mae: 111.6605 - mse: 74731.3672\n",
            "Epoch 45: val_loss did not improve from 587.46796\n",
            "18/18 [==============================] - 0s 9ms/step - loss: 110.9675 - mae: 110.9675 - mse: 74941.2891 - val_loss: 601.9926 - val_mae: 601.9926 - val_mse: 1244816.7500\n",
            "Epoch 46/100\n",
            "11/18 [=================>............] - ETA: 0s - loss: 116.8599 - mae: 116.8599 - mse: 86957.5312\n",
            "Epoch 46: val_loss did not improve from 587.46796\n",
            "18/18 [==============================] - 0s 10ms/step - loss: 111.6012 - mae: 111.6012 - mse: 74565.6016 - val_loss: 593.3531 - val_mae: 593.3531 - val_mse: 1248764.3750\n",
            "Epoch 47/100\n",
            "14/18 [======================>.......] - ETA: 0s - loss: 103.9410 - mae: 103.9410 - mse: 71153.1562\n",
            "Epoch 47: val_loss did not improve from 587.46796\n",
            "18/18 [==============================] - 0s 8ms/step - loss: 109.6161 - mae: 109.6161 - mse: 74190.7109 - val_loss: 637.0011 - val_mae: 637.0011 - val_mse: 1314970.2500\n",
            "Epoch 48/100\n",
            "10/18 [===============>..............] - ETA: 0s - loss: 108.7417 - mae: 108.7417 - mse: 78436.6016\n",
            "Epoch 48: val_loss did not improve from 587.46796\n",
            "18/18 [==============================] - 0s 8ms/step - loss: 109.1368 - mae: 109.1368 - mse: 72792.5547 - val_loss: 598.4197 - val_mae: 598.4197 - val_mse: 1234610.1250\n",
            "Epoch 49/100\n",
            "10/18 [===============>..............] - ETA: 0s - loss: 122.4893 - mae: 122.4893 - mse: 92548.1406 \n",
            "Epoch 49: val_loss improved from 587.46796 to 579.70416, saving model to model_experiment/model_1_dense\n",
            "18/18 [==============================] - 1s 53ms/step - loss: 112.4355 - mae: 112.4355 - mse: 73980.3359 - val_loss: 579.7042 - val_mae: 579.7042 - val_mse: 1208301.8750\n",
            "Epoch 50/100\n",
            " 8/18 [============>.................] - ETA: 0s - loss: 109.0041 - mae: 109.0041 - mse: 68100.4531 \n",
            "Epoch 50: val_loss did not improve from 579.70416\n",
            "18/18 [==============================] - 0s 9ms/step - loss: 110.2108 - mae: 110.2108 - mse: 72939.7109 - val_loss: 639.2327 - val_mae: 639.2327 - val_mse: 1347994.1250\n",
            "Epoch 51/100\n",
            "12/18 [===================>..........] - ETA: 0s - loss: 109.2711 - mae: 109.2711 - mse: 72571.1641\n",
            "Epoch 51: val_loss did not improve from 579.70416\n",
            "18/18 [==============================] - 0s 11ms/step - loss: 111.0958 - mae: 111.0958 - mse: 73281.9062 - val_loss: 597.3571 - val_mae: 597.3571 - val_mse: 1229791.1250\n",
            "Epoch 52/100\n",
            "16/18 [=========================>....] - ETA: 0s - loss: 112.8022 - mae: 112.8022 - mse: 77892.4375\n",
            "Epoch 52: val_loss did not improve from 579.70416\n",
            "18/18 [==============================] - 0s 12ms/step - loss: 110.7351 - mae: 110.7351 - mse: 74529.6328 - val_loss: 580.7227 - val_mae: 580.7227 - val_mse: 1215477.1250\n",
            "Epoch 53/100\n",
            " 1/18 [>.............................] - ETA: 0s - loss: 60.2786 - mae: 60.2786 - mse: 21993.6973\n",
            "Epoch 53: val_loss did not improve from 579.70416\n",
            "18/18 [==============================] - 0s 4ms/step - loss: 111.1785 - mae: 111.1785 - mse: 74149.4766 - val_loss: 648.3586 - val_mae: 648.3586 - val_mse: 1336951.1250\n",
            "Epoch 54/100\n",
            "16/18 [=========================>....] - ETA: 0s - loss: 115.2954 - mae: 115.2954 - mse: 77956.2656\n",
            "Epoch 54: val_loss did not improve from 579.70416\n",
            "18/18 [==============================] - 0s 11ms/step - loss: 114.0831 - mae: 114.0831 - mse: 74815.0781 - val_loss: 593.2006 - val_mae: 593.2006 - val_mse: 1220661.2500\n",
            "Epoch 55/100\n",
            " 1/18 [>.............................] - ETA: 0s - loss: 128.6373 - mae: 128.6373 - mse: 100887.1641\n",
            "Epoch 55: val_loss improved from 579.70416 to 579.50665, saving model to model_experiment/model_1_dense\n",
            "18/18 [==============================] - 1s 33ms/step - loss: 110.4910 - mae: 110.4910 - mse: 74711.2500 - val_loss: 579.5067 - val_mae: 579.5067 - val_mse: 1211580.3750\n",
            "Epoch 56/100\n",
            "17/18 [===========================>..] - ETA: 0s - loss: 107.7977 - mae: 107.7977 - mse: 72202.6641 \n",
            "Epoch 56: val_loss did not improve from 579.50665\n",
            "18/18 [==============================] - 0s 9ms/step - loss: 108.0488 - mae: 108.0488 - mse: 71844.1562 - val_loss: 807.3853 - val_mae: 807.3853 - val_mse: 1859292.5000\n",
            "Epoch 57/100\n",
            "14/18 [======================>.......] - ETA: 0s - loss: 124.8104 - mae: 124.8104 - mse: 87761.6094\n",
            "Epoch 57: val_loss did not improve from 579.50665\n",
            "18/18 [==============================] - 0s 6ms/step - loss: 125.0614 - mae: 125.0614 - mse: 84025.2812 - val_loss: 674.1658 - val_mae: 674.1658 - val_mse: 1437686.8750\n",
            "Epoch 58/100\n",
            " 1/18 [>.............................] - ETA: 0s - loss: 97.9082 - mae: 97.9082 - mse: 35019.4531\n",
            "Epoch 58: val_loss did not improve from 579.50665\n",
            "18/18 [==============================] - 0s 4ms/step - loss: 115.4340 - mae: 115.4340 - mse: 73710.7422 - val_loss: 582.2697 - val_mae: 582.2697 - val_mse: 1202679.3750\n",
            "Epoch 59/100\n",
            "18/18 [==============================] - ETA: 0s - loss: 110.0881 - mae: 110.0881 - mse: 72845.1172\n",
            "Epoch 59: val_loss did not improve from 579.50665\n",
            "18/18 [==============================] - 0s 6ms/step - loss: 110.0881 - mae: 110.0881 - mse: 72845.1172 - val_loss: 606.7640 - val_mae: 606.7640 - val_mse: 1267544.0000\n",
            "Epoch 60/100\n",
            "11/18 [=================>............] - ETA: 0s - loss: 110.4758 - mae: 110.4758 - mse: 73663.8281\n",
            "Epoch 60: val_loss did not improve from 579.50665\n",
            "18/18 [==============================] - 0s 9ms/step - loss: 108.7156 - mae: 108.7156 - mse: 72675.7734 - val_loss: 602.3099 - val_mae: 602.3099 - val_mse: 1234690.0000\n",
            "Epoch 61/100\n",
            " 1/18 [>.............................] - ETA: 0s - loss: 133.4817 - mae: 133.4817 - mse: 95984.3438\n",
            "Epoch 61: val_loss improved from 579.50665 to 573.99896, saving model to model_experiment/model_1_dense\n",
            "18/18 [==============================] - 1s 37ms/step - loss: 108.1525 - mae: 108.1525 - mse: 72252.1250 - val_loss: 573.9990 - val_mae: 573.9990 - val_mse: 1189583.5000\n",
            "Epoch 62/100\n",
            " 1/18 [>.............................] - ETA: 0s - loss: 69.3669 - mae: 69.3669 - mse: 31540.6992\n",
            "Epoch 62: val_loss did not improve from 573.99896\n",
            "18/18 [==============================] - 0s 8ms/step - loss: 107.3726 - mae: 107.3726 - mse: 70822.7891 - val_loss: 581.7015 - val_mae: 581.7015 - val_mse: 1214006.6250\n",
            "Epoch 63/100\n",
            "12/18 [===================>..........] - ETA: 0s - loss: 113.6617 - mae: 113.6617 - mse: 81549.9531\n",
            "Epoch 63: val_loss did not improve from 573.99896\n",
            "18/18 [==============================] - 0s 7ms/step - loss: 110.7667 - mae: 110.7667 - mse: 73178.4453 - val_loss: 637.5243 - val_mae: 637.5243 - val_mse: 1311201.6250\n",
            "Epoch 64/100\n",
            " 1/18 [>.............................] - ETA: 0s - loss: 91.8437 - mae: 91.8437 - mse: 35175.5312\n",
            "Epoch 64: val_loss did not improve from 573.99896\n",
            "18/18 [==============================] - 0s 4ms/step - loss: 110.1539 - mae: 110.1539 - mse: 72588.2188 - val_loss: 586.6598 - val_mae: 586.6598 - val_mse: 1207116.3750\n",
            "Epoch 65/100\n",
            " 1/18 [>.............................] - ETA: 0s - loss: 127.0230 - mae: 127.0230 - mse: 159981.6875\n",
            "Epoch 65: val_loss improved from 573.99896 to 573.56183, saving model to model_experiment/model_1_dense\n",
            "18/18 [==============================] - 1s 55ms/step - loss: 108.2325 - mae: 108.2325 - mse: 71962.0859 - val_loss: 573.5618 - val_mae: 573.5618 - val_mse: 1188986.2500\n",
            "Epoch 66/100\n",
            "14/18 [======================>.......] - ETA: 0s - loss: 107.4139 - mae: 107.4139 - mse: 66383.5781\n",
            "Epoch 66: val_loss improved from 573.56183 to 572.22058, saving model to model_experiment/model_1_dense\n",
            "18/18 [==============================] - 1s 50ms/step - loss: 108.6825 - mae: 108.6825 - mse: 71026.3516 - val_loss: 572.2206 - val_mae: 572.2206 - val_mse: 1187818.3750\n",
            "Epoch 67/100\n",
            "13/18 [====================>.........] - ETA: 0s - loss: 104.8563 - mae: 104.8563 - mse: 66142.0938\n",
            "Epoch 67: val_loss did not improve from 572.22058\n",
            "18/18 [==============================] - 0s 7ms/step - loss: 106.6371 - mae: 106.6371 - mse: 70166.2578 - val_loss: 646.6359 - val_mae: 646.6359 - val_mse: 1356393.0000\n",
            "Epoch 68/100\n",
            "14/18 [======================>.......] - ETA: 0s - loss: 112.9554 - mae: 112.9554 - mse: 66688.9844\n",
            "Epoch 68: val_loss did not improve from 572.22058\n",
            "18/18 [==============================] - 0s 7ms/step - loss: 114.1603 - mae: 114.1603 - mse: 71297.3203 - val_loss: 681.8572 - val_mae: 681.8572 - val_mse: 1455430.5000\n",
            "Epoch 69/100\n",
            "16/18 [=========================>....] - ETA: 0s - loss: 120.2098 - mae: 120.2098 - mse: 74509.5391\n",
            "Epoch 69: val_loss did not improve from 572.22058\n",
            "18/18 [==============================] - 0s 7ms/step - loss: 124.5514 - mae: 124.5514 - mse: 81238.9609 - val_loss: 655.9892 - val_mae: 655.9892 - val_mse: 1383324.6250\n",
            "Epoch 70/100\n",
            "11/18 [=================>............] - ETA: 0s - loss: 127.7570 - mae: 127.7570 - mse: 86625.6562 \n",
            "Epoch 70: val_loss did not improve from 572.22058\n",
            "18/18 [==============================] - 0s 8ms/step - loss: 125.0234 - mae: 125.0234 - mse: 83058.2109 - val_loss: 601.0039 - val_mae: 601.0039 - val_mse: 1256963.6250\n",
            "Epoch 71/100\n",
            "15/18 [========================>.....] - ETA: 0s - loss: 109.0794 - mae: 109.0794 - mse: 69510.1016\n",
            "Epoch 71: val_loss did not improve from 572.22058\n",
            "18/18 [==============================] - 0s 7ms/step - loss: 110.3652 - mae: 110.3652 - mse: 71691.4922 - val_loss: 595.3957 - val_mae: 595.3957 - val_mse: 1222771.6250\n",
            "Epoch 72/100\n",
            "15/18 [========================>.....] - ETA: 0s - loss: 106.4645 - mae: 106.4645 - mse: 71313.6250\n",
            "Epoch 72: val_loss did not improve from 572.22058\n",
            "18/18 [==============================] - 0s 9ms/step - loss: 107.9285 - mae: 107.9285 - mse: 71745.5312 - val_loss: 573.7084 - val_mae: 573.7084 - val_mse: 1192818.5000\n",
            "Epoch 73/100\n",
            "13/18 [====================>.........] - ETA: 0s - loss: 109.2067 - mae: 109.2067 - mse: 72275.7109 \n",
            "Epoch 73: val_loss did not improve from 572.22058\n",
            "18/18 [==============================] - 0s 8ms/step - loss: 109.5085 - mae: 109.5085 - mse: 71691.1484 - val_loss: 580.4183 - val_mae: 580.4183 - val_mse: 1211317.6250\n",
            "Epoch 74/100\n",
            "11/18 [=================>............] - ETA: 0s - loss: 109.0199 - mae: 109.0199 - mse: 71026.1094 \n",
            "Epoch 74: val_loss did not improve from 572.22058\n",
            "18/18 [==============================] - 0s 8ms/step - loss: 108.7380 - mae: 108.7380 - mse: 72051.1094 - val_loss: 576.1216 - val_mae: 576.1216 - val_mse: 1199670.7500\n",
            "Epoch 75/100\n",
            "15/18 [========================>.....] - ETA: 0s - loss: 108.6209 - mae: 108.6209 - mse: 72225.5781\n",
            "Epoch 75: val_loss did not improve from 572.22058\n",
            "18/18 [==============================] - 0s 7ms/step - loss: 107.9404 - mae: 107.9404 - mse: 71043.1328 - val_loss: 591.1470 - val_mae: 591.1470 - val_mse: 1211107.6250\n",
            "Epoch 76/100\n",
            "12/18 [===================>..........] - ETA: 0s - loss: 110.4134 - mae: 110.4134 - mse: 73427.2266\n",
            "Epoch 76: val_loss did not improve from 572.22058\n",
            "18/18 [==============================] - 0s 8ms/step - loss: 109.4232 - mae: 109.4232 - mse: 72295.0312 - val_loss: 597.8611 - val_mae: 597.8611 - val_mse: 1243936.2500\n",
            "Epoch 77/100\n",
            "13/18 [====================>.........] - ETA: 0s - loss: 109.7977 - mae: 109.7977 - mse: 71929.3203\n",
            "Epoch 77: val_loss improved from 572.22058 to 571.93005, saving model to model_experiment/model_1_dense\n",
            "18/18 [==============================] - 1s 62ms/step - loss: 107.5879 - mae: 107.5879 - mse: 70333.8359 - val_loss: 571.9301 - val_mae: 571.9301 - val_mse: 1186830.0000\n",
            "Epoch 78/100\n",
            "12/18 [===================>..........] - ETA: 0s - loss: 104.6521 - mae: 104.6521 - mse: 63291.4688\n",
            "Epoch 78: val_loss did not improve from 571.93005\n",
            "18/18 [==============================] - 0s 9ms/step - loss: 108.1598 - mae: 108.1598 - mse: 70200.0781 - val_loss: 575.2387 - val_mae: 575.2387 - val_mse: 1195318.0000\n",
            "Epoch 79/100\n",
            "15/18 [========================>.....] - ETA: 0s - loss: 107.1964 - mae: 107.1964 - mse: 71581.2500\n",
            "Epoch 79: val_loss did not improve from 571.93005\n",
            "18/18 [==============================] - 0s 10ms/step - loss: 107.9175 - mae: 107.9175 - mse: 72451.5859 - val_loss: 617.3083 - val_mae: 617.3083 - val_mse: 1285512.3750\n",
            "Epoch 80/100\n",
            "10/18 [===============>..............] - ETA: 0s - loss: 110.8157 - mae: 110.8157 - mse: 80932.3672 \n",
            "Epoch 80: val_loss did not improve from 571.93005\n",
            "18/18 [==============================] - 0s 10ms/step - loss: 108.9510 - mae: 108.9510 - mse: 72158.7812 - val_loss: 583.4841 - val_mae: 583.4841 - val_mse: 1194356.7500\n",
            "Epoch 81/100\n",
            "14/18 [======================>.......] - ETA: 0s - loss: 105.1163 - mae: 105.1163 - mse: 69766.4531\n",
            "Epoch 81: val_loss improved from 571.93005 to 570.08026, saving model to model_experiment/model_1_dense\n",
            "18/18 [==============================] - 1s 50ms/step - loss: 106.0505 - mae: 106.0505 - mse: 69690.9219 - val_loss: 570.0803 - val_mae: 570.0803 - val_mse: 1177237.8750\n",
            "Epoch 82/100\n",
            "15/18 [========================>.....] - ETA: 0s - loss: 116.5847 - mae: 116.5847 - mse: 76785.0938 \n",
            "Epoch 82: val_loss did not improve from 570.08026\n",
            "18/18 [==============================] - 0s 9ms/step - loss: 115.6827 - mae: 115.6827 - mse: 76903.4922 - val_loss: 575.7388 - val_mae: 575.7388 - val_mse: 1194662.6250\n",
            "Epoch 83/100\n",
            "10/18 [===============>..............] - ETA: 0s - loss: 111.2417 - mae: 111.2417 - mse: 71857.6719\n",
            "Epoch 83: val_loss did not improve from 570.08026\n",
            "18/18 [==============================] - 0s 6ms/step - loss: 110.9379 - mae: 110.9379 - mse: 72968.3047 - val_loss: 659.6579 - val_mae: 659.6579 - val_mse: 1388829.8750\n",
            "Epoch 84/100\n",
            " 1/18 [>.............................] - ETA: 0s - loss: 118.6967 - mae: 118.6967 - mse: 84383.4609\n",
            "Epoch 84: val_loss did not improve from 570.08026\n",
            "18/18 [==============================] - 0s 5ms/step - loss: 111.4836 - mae: 111.4836 - mse: 73017.9453 - val_loss: 570.1957 - val_mae: 570.1957 - val_mse: 1177492.2500\n",
            "Epoch 85/100\n",
            " 1/18 [>.............................] - ETA: 0s - loss: 86.2925 - mae: 86.2925 - mse: 40371.9844\n",
            "Epoch 85: val_loss did not improve from 570.08026\n",
            "18/18 [==============================] - 0s 4ms/step - loss: 107.5949 - mae: 107.5949 - mse: 70728.2266 - val_loss: 601.5939 - val_mae: 601.5939 - val_mse: 1228450.7500\n",
            "Epoch 86/100\n",
            "16/18 [=========================>....] - ETA: 0s - loss: 107.9257 - mae: 107.9257 - mse: 67848.1328\n",
            "Epoch 86: val_loss did not improve from 570.08026\n",
            "18/18 [==============================] - 0s 5ms/step - loss: 108.9425 - mae: 108.9425 - mse: 70066.7422 - val_loss: 592.8101 - val_mae: 592.8101 - val_mse: 1209680.7500\n",
            "Epoch 87/100\n",
            " 1/18 [>.............................] - ETA: 0s - loss: 123.1898 - mae: 123.1898 - mse: 82202.8438\n",
            "Epoch 87: val_loss did not improve from 570.08026\n",
            "18/18 [==============================] - 0s 4ms/step - loss: 105.7717 - mae: 105.7717 - mse: 68382.3516 - val_loss: 603.6174 - val_mae: 603.6174 - val_mse: 1252409.5000\n",
            "Epoch 88/100\n",
            " 1/18 [>.............................] - ETA: 0s - loss: 135.4518 - mae: 135.4518 - mse: 130713.5312\n",
            "Epoch 88: val_loss improved from 570.08026 to 569.04999, saving model to model_experiment/model_1_dense\n",
            "18/18 [==============================] - 0s 27ms/step - loss: 107.9217 - mae: 107.9217 - mse: 71668.0469 - val_loss: 569.0500 - val_mae: 569.0500 - val_mse: 1174588.3750\n",
            "Epoch 89/100\n",
            " 1/18 [>.............................] - ETA: 0s - loss: 101.8746 - mae: 101.8746 - mse: 57186.1758\n",
            "Epoch 89: val_loss improved from 569.04999 to 568.95105, saving model to model_experiment/model_1_dense\n",
            "18/18 [==============================] - 0s 28ms/step - loss: 106.0344 - mae: 106.0344 - mse: 68979.1484 - val_loss: 568.9510 - val_mae: 568.9510 - val_mse: 1171743.5000\n",
            "Epoch 90/100\n",
            " 1/18 [>.............................] - ETA: 0s - loss: 120.9952 - mae: 120.9952 - mse: 72744.2734\n",
            "Epoch 90: val_loss did not improve from 568.95105\n",
            "18/18 [==============================] - 0s 4ms/step - loss: 105.4977 - mae: 105.4977 - mse: 67516.5000 - val_loss: 581.7677 - val_mae: 581.7677 - val_mse: 1190160.5000\n",
            "Epoch 91/100\n",
            " 1/18 [>.............................] - ETA: 0s - loss: 87.3622 - mae: 87.3622 - mse: 29233.6289\n",
            "Epoch 91: val_loss did not improve from 568.95105\n",
            "18/18 [==============================] - 0s 4ms/step - loss: 108.8468 - mae: 108.8468 - mse: 71112.3281 - val_loss: 573.6025 - val_mae: 573.6025 - val_mse: 1185216.0000\n",
            "Epoch 92/100\n",
            " 1/18 [>.............................] - ETA: 0s - loss: 82.6727 - mae: 82.6727 - mse: 37258.5156\n",
            "Epoch 92: val_loss did not improve from 568.95105\n",
            "18/18 [==============================] - 0s 4ms/step - loss: 110.8884 - mae: 110.8884 - mse: 73287.8125 - val_loss: 576.8243 - val_mae: 576.8243 - val_mse: 1181628.3750\n",
            "Epoch 93/100\n",
            " 1/18 [>.............................] - ETA: 0s - loss: 109.3831 - mae: 109.3831 - mse: 66677.4297\n",
            "Epoch 93: val_loss did not improve from 568.95105\n",
            "18/18 [==============================] - 0s 4ms/step - loss: 113.8781 - mae: 113.8781 - mse: 75236.4375 - val_loss: 608.3022 - val_mae: 608.3022 - val_mse: 1264206.1250\n",
            "Epoch 94/100\n",
            " 1/18 [>.............................] - ETA: 0s - loss: 142.0602 - mae: 142.0602 - mse: 166430.9688\n",
            "Epoch 94: val_loss did not improve from 568.95105\n",
            "18/18 [==============================] - 0s 4ms/step - loss: 110.5763 - mae: 110.5763 - mse: 72590.8672 - val_loss: 601.6042 - val_mae: 601.6042 - val_mse: 1229105.1250\n",
            "Epoch 95/100\n",
            " 1/18 [>.............................] - ETA: 0s - loss: 138.1684 - mae: 138.1684 - mse: 114929.1094\n",
            "Epoch 95: val_loss did not improve from 568.95105\n",
            "18/18 [==============================] - 0s 4ms/step - loss: 106.5906 - mae: 106.5906 - mse: 68612.3281 - val_loss: 570.3651 - val_mae: 570.3651 - val_mse: 1175759.6250\n",
            "Epoch 96/100\n",
            "18/18 [==============================] - ETA: 0s - loss: 116.9515 - mae: 116.9515 - mse: 75082.1172\n",
            "Epoch 96: val_loss did not improve from 568.95105\n",
            "18/18 [==============================] - 0s 6ms/step - loss: 116.9515 - mae: 116.9515 - mse: 75082.1172 - val_loss: 615.2584 - val_mae: 615.2584 - val_mse: 1277124.3750\n",
            "Epoch 97/100\n",
            " 1/18 [>.............................] - ETA: 0s - loss: 105.1827 - mae: 105.1827 - mse: 100992.2578\n",
            "Epoch 97: val_loss did not improve from 568.95105\n",
            "18/18 [==============================] - 0s 4ms/step - loss: 108.0739 - mae: 108.0739 - mse: 71321.4219 - val_loss: 580.3076 - val_mae: 580.3076 - val_mse: 1202622.3750\n",
            "Epoch 98/100\n",
            " 1/18 [>.............................] - ETA: 0s - loss: 116.5520 - mae: 116.5520 - mse: 63901.2773\n",
            "Epoch 98: val_loss did not improve from 568.95105\n",
            "18/18 [==============================] - 0s 5ms/step - loss: 108.7102 - mae: 108.7102 - mse: 70248.0625 - val_loss: 586.6510 - val_mae: 586.6510 - val_mse: 1200831.2500\n",
            "Epoch 99/100\n",
            " 1/18 [>.............................] - ETA: 0s - loss: 151.3422 - mae: 151.3422 - mse: 126930.2344\n",
            "Epoch 99: val_loss did not improve from 568.95105\n",
            "18/18 [==============================] - 0s 4ms/step - loss: 109.0488 - mae: 109.0488 - mse: 70913.1562 - val_loss: 570.0628 - val_mae: 570.0628 - val_mse: 1177064.5000\n",
            "Epoch 100/100\n",
            "16/18 [=========================>....] - ETA: 0s - loss: 109.3461 - mae: 109.3461 - mse: 72063.2656\n",
            "Epoch 100: val_loss did not improve from 568.95105\n",
            "18/18 [==============================] - 0s 6ms/step - loss: 106.1845 - mae: 106.1845 - mse: 68681.7344 - val_loss: 585.9758 - val_mae: 585.9758 - val_mse: 1197802.1250\n"
          ]
        },
        {
          "output_type": "execute_result",
          "data": {
            "text/plain": [
              "<keras.callbacks.History at 0x7f6d20567710>"
            ]
          },
          "metadata": {},
          "execution_count": 55
        }
      ]
    },
    {
      "cell_type": "code",
      "source": [
        "naive_results"
      ],
      "metadata": {
        "colab": {
          "base_uri": "https://localhost:8080/"
        },
        "id": "TjbQYcJ-w_dm",
        "outputId": "1b0987cd-82bc-4771-b268-f5d5f2b7b668"
      },
      "execution_count": null,
      "outputs": [
        {
          "output_type": "execute_result",
          "data": {
            "text/plain": [
              "{'mae': 567.9802,\n",
              " 'mse': 1147547.0,\n",
              " 'rmse': 1071.2362,\n",
              " 'mape': 2.516525,\n",
              " 'mase': 0.99957}"
            ]
          },
          "metadata": {},
          "execution_count": 56
        }
      ]
    },
    {
      "cell_type": "code",
      "source": [
        "# Evalute model on test data\n",
        "model_1.evaluate(test_windows, test_labels)"
      ],
      "metadata": {
        "colab": {
          "base_uri": "https://localhost:8080/"
        },
        "id": "_Z-W6ysSxQFf",
        "outputId": "97897ec1-54e5-4649-a166-20f935b95aa2"
      },
      "execution_count": null,
      "outputs": [
        {
          "output_type": "stream",
          "name": "stdout",
          "text": [
            "18/18 [==============================] - 0s 3ms/step - loss: 585.9758 - mae: 585.9758 - mse: 1197802.1250\n"
          ]
        },
        {
          "output_type": "execute_result",
          "data": {
            "text/plain": [
              "[585.9757690429688, 585.9757690429688, 1197802.125]"
            ]
          },
          "metadata": {},
          "execution_count": 57
        }
      ]
    },
    {
      "cell_type": "code",
      "source": [
        "# Laod in saved best model best performing model_1 and evaluate it on test data\n",
        "model_1 = tf.keras.models.load_model(\"model_experiment/model_1_dense\")\n",
        "model_1.evaluate(test_windows, test_labels)"
      ],
      "metadata": {
        "colab": {
          "base_uri": "https://localhost:8080/"
        },
        "id": "bsHzBjmfy2I8",
        "outputId": "188a0dd7-1775-4eba-cf07-e85461d767c0"
      },
      "execution_count": null,
      "outputs": [
        {
          "output_type": "stream",
          "name": "stdout",
          "text": [
            "18/18 [==============================] - 0s 2ms/step - loss: 568.9510 - mae: 568.9510 - mse: 1171743.6250\n"
          ]
        },
        {
          "output_type": "execute_result",
          "data": {
            "text/plain": [
              "[568.9510498046875, 568.9510498046875, 1171743.625]"
            ]
          },
          "metadata": {},
          "execution_count": 58
        }
      ]
    },
    {
      "cell_type": "code",
      "source": [
        "naive_results"
      ],
      "metadata": {
        "colab": {
          "base_uri": "https://localhost:8080/"
        },
        "id": "SMPNc_bnz4t7",
        "outputId": "109009fa-577d-494c-994f-2d126b7aff74"
      },
      "execution_count": null,
      "outputs": [
        {
          "output_type": "execute_result",
          "data": {
            "text/plain": [
              "{'mae': 567.9802,\n",
              " 'mse': 1147547.0,\n",
              " 'rmse': 1071.2362,\n",
              " 'mape': 2.516525,\n",
              " 'mase': 0.99957}"
            ]
          },
          "metadata": {},
          "execution_count": 59
        }
      ]
    },
    {
      "cell_type": "markdown",
      "source": [
        "## Making forecast with a model (on the test dataset)\n",
        "\n",
        "To make \"forecast\" on the test dataset (note: these won't be actual forecasts, they're only psuedo forecasts because actual forecasts are into the future), let's write a  function to:\n",
        "\n",
        "1. Take in a train model\n",
        "2. Takes in some input data (same kind of data the model was trained on)\n",
        "3. Passes the input data to the model's predict() method\n",
        "4. Returns the preidctions"
      ],
      "metadata": {
        "id": "BxolK7j50DAi"
      }
    },
    {
      "cell_type": "code",
      "source": [
        "def make_preds(model, input_data):\n",
        "  \"\"\"\n",
        "  Usese model to make predictions input_data\n",
        "  \"\"\"\n",
        "  forecast = model.predict(input_data)\n",
        "  return tf.squeeze(forecast) # resturn 1D array of predcitions"
      ],
      "metadata": {
        "id": "E_o-NHS1162N"
      },
      "execution_count": null,
      "outputs": []
    },
    {
      "cell_type": "code",
      "source": [
        "# Make predictions using model_1 on the test dataset using and view results\n",
        "model_1_preds = make_preds(model_1, test_windows)\n",
        "len(model_1_preds), model_1_preds[:10]"
      ],
      "metadata": {
        "colab": {
          "base_uri": "https://localhost:8080/"
        },
        "id": "0BgKk1i22NfY",
        "outputId": "ca8d4692-f2a7-4334-db83-95d969baaa78"
      },
      "execution_count": null,
      "outputs": [
        {
          "output_type": "stream",
          "name": "stdout",
          "text": [
            "18/18 [==============================] - 0s 2ms/step\n"
          ]
        },
        {
          "output_type": "execute_result",
          "data": {
            "text/plain": [
              "(556, <tf.Tensor: shape=(10,), dtype=float32, numpy=\n",
              " array([8861.71 , 8769.887, 9015.711, 8795.519, 8723.811, 8730.111,\n",
              "        8691.952, 8502.054, 8460.961, 8516.548], dtype=float32)>)"
            ]
          },
          "metadata": {},
          "execution_count": 61
        }
      ]
    },
    {
      "cell_type": "code",
      "source": [
        "test_labels.shape"
      ],
      "metadata": {
        "colab": {
          "base_uri": "https://localhost:8080/"
        },
        "id": "n1EXyD044WgO",
        "outputId": "9c286518-26f9-468e-d30d-753bebb443a8"
      },
      "execution_count": null,
      "outputs": [
        {
          "output_type": "execute_result",
          "data": {
            "text/plain": [
              "(556, 1)"
            ]
          },
          "metadata": {},
          "execution_count": 62
        }
      ]
    },
    {
      "cell_type": "code",
      "source": [
        "tf.squeeze(test_labels).shape, model_1_preds.shape"
      ],
      "metadata": {
        "colab": {
          "base_uri": "https://localhost:8080/"
        },
        "id": "IWTVReiI3x01",
        "outputId": "1f9c50a5-4a50-4023-9714-db070df9ae1a"
      },
      "execution_count": null,
      "outputs": [
        {
          "output_type": "execute_result",
          "data": {
            "text/plain": [
              "(TensorShape([556]), TensorShape([556]))"
            ]
          },
          "metadata": {},
          "execution_count": 63
        }
      ]
    },
    {
      "cell_type": "code",
      "source": [
        "# Evaluate preds\n",
        "model_1_results = evaluate_preds(y_true=tf.squeeze(test_labels),\n",
        "                                 y_pred=model_1_preds)\n",
        "model_1_results"
      ],
      "metadata": {
        "colab": {
          "base_uri": "https://localhost:8080/"
        },
        "id": "F_dWy7WC2n-7",
        "outputId": "c8cc61ea-69aa-4d61-831c-57fa960b411e"
      },
      "execution_count": null,
      "outputs": [
        {
          "output_type": "execute_result",
          "data": {
            "text/plain": [
              "{'mae': 568.9511,\n",
              " 'mse': 1171743.8,\n",
              " 'rmse': 1082.4711,\n",
              " 'mape': 2.5448983,\n",
              " 'mase': 0.99948955}"
            ]
          },
          "metadata": {},
          "execution_count": 64
        }
      ]
    },
    {
      "cell_type": "code",
      "source": [
        " # Let's plol our model  1 predictions\n",
        " offset = 450\n",
        " plt.figure(figsize=(10, 7))\n",
        " # account for the test_window offset and index inoto test_laebls to ensure correct ploting\n",
        " plot_time_series(timesteps=X_test[-len(test_windows):],\n",
        "                   values=test_labels[:, 0], \n",
        "                   start=offset, \n",
        "                   label=\"Test Data\")\n",
        " plot_time_series(timesteps=X_test[-len(test_windows):],\n",
        "                  values=model_1_preds,\n",
        "                  start=offset,\n",
        "                  format=\"-\",\n",
        "                  label=\"model_1_pred\")"
      ],
      "metadata": {
        "colab": {
          "base_uri": "https://localhost:8080/",
          "height": 446
        },
        "id": "ZuE9UzdU2ylm",
        "outputId": "69cfbf2c-c370-4c2a-eae4-e60d1eaea337"
      },
      "execution_count": null,
      "outputs": [
        {
          "output_type": "display_data",
          "data": {
            "text/plain": [
              "<Figure size 720x504 with 1 Axes>"
            ],
            "image/png": "[encoded data removed]"
          },
          "metadata": {
            "needs_background": "light"
          }
        }
      ]
    },
    {
      "cell_type": "markdown",
      "source": [
        "# trying to jump from vidoe 26 to cov1d video 33"
      ],
      "metadata": {
        "id": "87_zmoMr--Hk"
      }
    },
    {
      "cell_type": "markdown",
      "source": [
        "## Model 4: Conv1D\n"
      ],
      "metadata": {
        "id": "cyMEV2tuBLUj"
      }
    },
    {
      "cell_type": "code",
      "source": [
        "HORIZON = 1 # predict next day of Bitcoin prices\n",
        "WINDOW_SIZE = 7 # USE previous week worth data"
      ],
      "metadata": {
        "id": "WrpYSPEAB-kT"
      },
      "execution_count": null,
      "outputs": []
    },
    {
      "cell_type": "code",
      "source": [
        "# Create windowed data\n",
        "full_windows, full_labels = make_windows(prices, window_size=WINDOW_SIZE, horizon=HORIZON)\n",
        "len(full_windows), len(full_labels)"
      ],
      "metadata": {
        "colab": {
          "base_uri": "https://localhost:8080/"
        },
        "id": "Gl1wuV3VCLke",
        "outputId": "20ee2794-b64d-41ec-9a78-1cee002a0bc0"
      },
      "execution_count": null,
      "outputs": [
        {
          "output_type": "execute_result",
          "data": {
            "text/plain": [
              "(2780, 2780)"
            ]
          },
          "metadata": {},
          "execution_count": 67
        }
      ]
    },
    {
      "cell_type": "code",
      "source": [
        "# create train/test sets\n",
        "train_windows, test_windows, train_labels, test_labels = make_train_test_splits(full_windows, full_labels)\n",
        "len(train_windows), len(train_labels), len(test_windows), len(test_labels)"
      ],
      "metadata": {
        "colab": {
          "base_uri": "https://localhost:8080/"
        },
        "id": "yfXiiYV4D_WZ",
        "outputId": "534b4491-7532-4f96-ecea-8e417c3e05c7"
      },
      "execution_count": null,
      "outputs": [
        {
          "output_type": "execute_result",
          "data": {
            "text/plain": [
              "(2224, 2224, 556, 556)"
            ]
          },
          "metadata": {},
          "execution_count": 68
        }
      ]
    },
    {
      "cell_type": "markdown",
      "source": [
        "We need an input shape of: \"(batch_size, timesteps, input_dim)..\n",
        "However out data inn't in that shape yet..."
      ],
      "metadata": {
        "id": "8ko-jDaFFqKK"
      }
    },
    {
      "cell_type": "code",
      "source": [
        "# Check data input shape\n",
        "train_windows[0].shape #returns (WINDOW_SIZE, )"
      ],
      "metadata": {
        "colab": {
          "base_uri": "https://localhost:8080/"
        },
        "id": "Y4uTHRI1Iboq",
        "outputId": "18afc622-6347-44f5-ee92-663905cefcc1"
      },
      "execution_count": null,
      "outputs": [
        {
          "output_type": "execute_result",
          "data": {
            "text/plain": [
              "(7,)"
            ]
          },
          "metadata": {},
          "execution_count": 69
        }
      ]
    },
    {
      "cell_type": "code",
      "source": [
        "# bEFORE we pass our data to the conv1D layer, we have to reshape it in order to make sure it works\n",
        "x = tf.constant(train_windows[0])\n",
        "x"
      ],
      "metadata": {
        "colab": {
          "base_uri": "https://localhost:8080/"
        },
        "id": "H3biobheImmw",
        "outputId": "848eda0b-4c98-45aa-ba31-c797cc525bd8"
      },
      "execution_count": null,
      "outputs": [
        {
          "output_type": "execute_result",
          "data": {
            "text/plain": [
              "<tf.Tensor: shape=(7,), dtype=float64, numpy=\n",
              "array([123.65499, 125.455  , 108.58483, 118.67466, 121.33866, 120.65533,\n",
              "       121.795  ])>"
            ]
          },
          "metadata": {},
          "execution_count": 70
        }
      ]
    },
    {
      "cell_type": "code",
      "source": [
        "expand_dims_layer = layers.Lambda(lambda x: tf.expand_dims(x, axis=1)) # add an extra dimension for `input_dim`"
      ],
      "metadata": {
        "id": "Kc17y4TlJEgm"
      },
      "execution_count": null,
      "outputs": []
    },
    {
      "cell_type": "code",
      "source": [
        "# Test out our lambda layer\n",
        "print(f\"original shaep: {x.shape}\") # WINDOW_SIZE\n",
        "print(f\"Expand shape: {expand_dims_layer(x).shape}\") # output = \n",
        "print(f\"Original values with expanded shape:\\n {expand_dims_layer(x)}\")"
      ],
      "metadata": {
        "colab": {
          "base_uri": "https://localhost:8080/"
        },
        "id": "tLHGT4E0N1lK",
        "outputId": "f611dda4-38fd-40b2-ce5b-aeb76c14d169"
      },
      "execution_count": null,
      "outputs": [
        {
          "output_type": "stream",
          "name": "stdout",
          "text": [
            "original shaep: (7,)\n",
            "Expand shape: (7, 1)\n",
            "Original values with expanded shape:\n",
            " [[123.65499]\n",
            " [125.455  ]\n",
            " [108.58483]\n",
            " [118.67466]\n",
            " [121.33866]\n",
            " [120.65533]\n",
            " [121.795  ]]\n"
          ]
        }
      ]
    },
    {
      "cell_type": "code",
      "source": [
        "x.numpy()"
      ],
      "metadata": {
        "colab": {
          "base_uri": "https://localhost:8080/"
        },
        "id": "BXu8tSwAOz0f",
        "outputId": "7ae02527-fb7b-42ed-a1dc-30fbdaa0a894"
      },
      "execution_count": null,
      "outputs": [
        {
          "output_type": "execute_result",
          "data": {
            "text/plain": [
              "array([123.65499, 125.455  , 108.58483, 118.67466, 121.33866, 120.65533,\n",
              "       121.795  ])"
            ]
          },
          "metadata": {},
          "execution_count": 73
        }
      ]
    },
    {
      "cell_type": "code",
      "source": [
        "tf.random.set_seed(42)\n",
        "\n",
        "# Create a Conv1D\n",
        "model_4 = tf.keras.Sequential([\n",
        "    layers.Lambda(lambda x: tf.expand_dims(x, axis=1)),\n",
        "    layers.Conv1D(filters=128, kernel_size=7, strides=1, padding=\"causal\", activation=\"relu\"),\n",
        "    layers.Dense(HORIZON)\n",
        "], name=\"model_4_conv1D\")\n",
        "\n",
        "# Compile model\n",
        "model_4.compile(loss=\"mae\",\n",
        "                optimizer=tf.keras.optimizers.Adam())\n",
        "# Fit\n",
        "model_4.fit(train_windows,\n",
        "            train_labels,\n",
        "            batch_size=128,\n",
        "            epochs=100,\n",
        "            verbose=0,\n",
        "            validation_data=(test_windows, test_labels),\n",
        "            callbacks=[create_model_checkpoint(model_name=model_4.name)])"
      ],
      "metadata": {
        "id": "W2Hh4ljcPODV",
        "colab": {
          "base_uri": "https://localhost:8080/"
        },
        "outputId": "acec0a44-3b7a-4217-ede2-875f56c8b499"
      },
      "execution_count": null,
      "outputs": [
        {
          "output_type": "stream",
          "name": "stdout",
          "text": [
            "\n",
            "Epoch 1: val_loss improved from inf to 1494.06836, saving model to model_experiment/model_4_conv1D\n"
          ]
        },
        {
          "output_type": "stream",
          "name": "stderr",
          "text": [
            "WARNING:absl:Found untraced functions such as _jit_compiled_convolution_op while saving (showing 1 of 1). These functions will not be directly callable after loading.\n"
          ]
        },
        {
          "output_type": "stream",
          "name": "stdout",
          "text": [
            "\n",
            "Epoch 2: val_loss did not improve from 1494.06836\n",
            "\n",
            "Epoch 3: val_loss improved from 1494.06836 to 1228.28271, saving model to model_experiment/model_4_conv1D\n"
          ]
        },
        {
          "output_type": "stream",
          "name": "stderr",
          "text": [
            "WARNING:absl:Found untraced functions such as _jit_compiled_convolution_op while saving (showing 1 of 1). These functions will not be directly callable after loading.\n"
          ]
        },
        {
          "output_type": "stream",
          "name": "stdout",
          "text": [
            "\n",
            "Epoch 4: val_loss improved from 1228.28271 to 1095.65808, saving model to model_experiment/model_4_conv1D\n"
          ]
        },
        {
          "output_type": "stream",
          "name": "stderr",
          "text": [
            "WARNING:absl:Found untraced functions such as _jit_compiled_convolution_op while saving (showing 1 of 1). These functions will not be directly callable after loading.\n"
          ]
        },
        {
          "output_type": "stream",
          "name": "stdout",
          "text": [
            "\n",
            "Epoch 5: val_loss improved from 1095.65808 to 1087.99902, saving model to model_experiment/model_4_conv1D\n"
          ]
        },
        {
          "output_type": "stream",
          "name": "stderr",
          "text": [
            "WARNING:absl:Found untraced functions such as _jit_compiled_convolution_op while saving (showing 1 of 1). These functions will not be directly callable after loading.\n"
          ]
        },
        {
          "output_type": "stream",
          "name": "stdout",
          "text": [
            "\n",
            "Epoch 6: val_loss improved from 1087.99902 to 1075.75452, saving model to model_experiment/model_4_conv1D\n"
          ]
        },
        {
          "output_type": "stream",
          "name": "stderr",
          "text": [
            "WARNING:absl:Found untraced functions such as _jit_compiled_convolution_op while saving (showing 1 of 1). These functions will not be directly callable after loading.\n"
          ]
        },
        {
          "output_type": "stream",
          "name": "stdout",
          "text": [
            "\n",
            "Epoch 7: val_loss improved from 1075.75452 to 1050.46008, saving model to model_experiment/model_4_conv1D\n"
          ]
        },
        {
          "output_type": "stream",
          "name": "stderr",
          "text": [
            "WARNING:absl:Found untraced functions such as _jit_compiled_convolution_op while saving (showing 1 of 1). These functions will not be directly callable after loading.\n"
          ]
        },
        {
          "output_type": "stream",
          "name": "stdout",
          "text": [
            "\n",
            "Epoch 8: val_loss did not improve from 1050.46008\n",
            "\n",
            "Epoch 9: val_loss did not improve from 1050.46008\n",
            "\n",
            "Epoch 10: val_loss improved from 1050.46008 to 1007.32935, saving model to model_experiment/model_4_conv1D\n"
          ]
        },
        {
          "output_type": "stream",
          "name": "stderr",
          "text": [
            "WARNING:absl:Found untraced functions such as _jit_compiled_convolution_op while saving (showing 1 of 1). These functions will not be directly callable after loading.\n"
          ]
        },
        {
          "output_type": "stream",
          "name": "stdout",
          "text": [
            "\n",
            "Epoch 11: val_loss improved from 1007.32935 to 986.46344, saving model to model_experiment/model_4_conv1D\n"
          ]
        },
        {
          "output_type": "stream",
          "name": "stderr",
          "text": [
            "WARNING:absl:Found untraced functions such as _jit_compiled_convolution_op while saving (showing 1 of 1). These functions will not be directly callable after loading.\n"
          ]
        },
        {
          "output_type": "stream",
          "name": "stdout",
          "text": [
            "\n",
            "Epoch 12: val_loss did not improve from 986.46344\n",
            "\n",
            "Epoch 13: val_loss did not improve from 986.46344\n",
            "\n",
            "Epoch 14: val_loss improved from 986.46344 to 957.65875, saving model to model_experiment/model_4_conv1D\n"
          ]
        },
        {
          "output_type": "stream",
          "name": "stderr",
          "text": [
            "WARNING:absl:Found untraced functions such as _jit_compiled_convolution_op while saving (showing 1 of 1). These functions will not be directly callable after loading.\n"
          ]
        },
        {
          "output_type": "stream",
          "name": "stdout",
          "text": [
            "\n",
            "Epoch 15: val_loss improved from 957.65875 to 951.08667, saving model to model_experiment/model_4_conv1D\n"
          ]
        },
        {
          "output_type": "stream",
          "name": "stderr",
          "text": [
            "WARNING:absl:Found untraced functions such as _jit_compiled_convolution_op while saving (showing 1 of 1). These functions will not be directly callable after loading.\n"
          ]
        },
        {
          "output_type": "stream",
          "name": "stdout",
          "text": [
            "\n",
            "Epoch 16: val_loss improved from 951.08667 to 910.61798, saving model to model_experiment/model_4_conv1D\n"
          ]
        },
        {
          "output_type": "stream",
          "name": "stderr",
          "text": [
            "WARNING:absl:Found untraced functions such as _jit_compiled_convolution_op while saving (showing 1 of 1). These functions will not be directly callable after loading.\n"
          ]
        },
        {
          "output_type": "stream",
          "name": "stdout",
          "text": [
            "\n",
            "Epoch 17: val_loss did not improve from 910.61798\n",
            "\n",
            "Epoch 18: val_loss did not improve from 910.61798\n",
            "\n",
            "Epoch 19: val_loss improved from 910.61798 to 865.16364, saving model to model_experiment/model_4_conv1D\n"
          ]
        },
        {
          "output_type": "stream",
          "name": "stderr",
          "text": [
            "WARNING:absl:Found untraced functions such as _jit_compiled_convolution_op while saving (showing 1 of 1). These functions will not be directly callable after loading.\n"
          ]
        },
        {
          "output_type": "stream",
          "name": "stdout",
          "text": [
            "\n",
            "Epoch 20: val_loss improved from 865.16364 to 851.02844, saving model to model_experiment/model_4_conv1D\n"
          ]
        },
        {
          "output_type": "stream",
          "name": "stderr",
          "text": [
            "WARNING:absl:Found untraced functions such as _jit_compiled_convolution_op while saving (showing 1 of 1). These functions will not be directly callable after loading.\n"
          ]
        },
        {
          "output_type": "stream",
          "name": "stdout",
          "text": [
            "\n",
            "Epoch 21: val_loss improved from 851.02844 to 823.75818, saving model to model_experiment/model_4_conv1D\n"
          ]
        },
        {
          "output_type": "stream",
          "name": "stderr",
          "text": [
            "WARNING:absl:Found untraced functions such as _jit_compiled_convolution_op while saving (showing 1 of 1). These functions will not be directly callable after loading.\n"
          ]
        },
        {
          "output_type": "stream",
          "name": "stdout",
          "text": [
            "\n",
            "Epoch 22: val_loss improved from 823.75818 to 817.55017, saving model to model_experiment/model_4_conv1D\n"
          ]
        },
        {
          "output_type": "stream",
          "name": "stderr",
          "text": [
            "WARNING:absl:Found untraced functions such as _jit_compiled_convolution_op while saving (showing 1 of 1). These functions will not be directly callable after loading.\n"
          ]
        },
        {
          "output_type": "stream",
          "name": "stdout",
          "text": [
            "\n",
            "Epoch 23: val_loss improved from 817.55017 to 815.21924, saving model to model_experiment/model_4_conv1D\n"
          ]
        },
        {
          "output_type": "stream",
          "name": "stderr",
          "text": [
            "WARNING:absl:Found untraced functions such as _jit_compiled_convolution_op while saving (showing 1 of 1). These functions will not be directly callable after loading.\n"
          ]
        },
        {
          "output_type": "stream",
          "name": "stdout",
          "text": [
            "\n",
            "Epoch 24: val_loss improved from 815.21924 to 811.66492, saving model to model_experiment/model_4_conv1D\n"
          ]
        },
        {
          "output_type": "stream",
          "name": "stderr",
          "text": [
            "WARNING:absl:Found untraced functions such as _jit_compiled_convolution_op while saving (showing 1 of 1). These functions will not be directly callable after loading.\n"
          ]
        },
        {
          "output_type": "stream",
          "name": "stdout",
          "text": [
            "\n",
            "Epoch 25: val_loss improved from 811.66492 to 773.26520, saving model to model_experiment/model_4_conv1D\n"
          ]
        },
        {
          "output_type": "stream",
          "name": "stderr",
          "text": [
            "WARNING:absl:Found untraced functions such as _jit_compiled_convolution_op while saving (showing 1 of 1). These functions will not be directly callable after loading.\n"
          ]
        },
        {
          "output_type": "stream",
          "name": "stdout",
          "text": [
            "\n",
            "Epoch 26: val_loss improved from 773.26520 to 747.64264, saving model to model_experiment/model_4_conv1D\n"
          ]
        },
        {
          "output_type": "stream",
          "name": "stderr",
          "text": [
            "WARNING:absl:Found untraced functions such as _jit_compiled_convolution_op while saving (showing 1 of 1). These functions will not be directly callable after loading.\n"
          ]
        },
        {
          "output_type": "stream",
          "name": "stdout",
          "text": [
            "\n",
            "Epoch 27: val_loss improved from 747.64264 to 736.69550, saving model to model_experiment/model_4_conv1D\n"
          ]
        },
        {
          "output_type": "stream",
          "name": "stderr",
          "text": [
            "WARNING:absl:Found untraced functions such as _jit_compiled_convolution_op while saving (showing 1 of 1). These functions will not be directly callable after loading.\n"
          ]
        },
        {
          "output_type": "stream",
          "name": "stdout",
          "text": [
            "\n",
            "Epoch 28: val_loss improved from 736.69550 to 729.32172, saving model to model_experiment/model_4_conv1D\n"
          ]
        },
        {
          "output_type": "stream",
          "name": "stderr",
          "text": [
            "WARNING:absl:Found untraced functions such as _jit_compiled_convolution_op while saving (showing 1 of 1). These functions will not be directly callable after loading.\n"
          ]
        },
        {
          "output_type": "stream",
          "name": "stdout",
          "text": [
            "\n",
            "Epoch 29: val_loss improved from 729.32172 to 715.57379, saving model to model_experiment/model_4_conv1D\n"
          ]
        },
        {
          "output_type": "stream",
          "name": "stderr",
          "text": [
            "WARNING:absl:Found untraced functions such as _jit_compiled_convolution_op while saving (showing 1 of 1). These functions will not be directly callable after loading.\n"
          ]
        },
        {
          "output_type": "stream",
          "name": "stdout",
          "text": [
            "\n",
            "Epoch 30: val_loss did not improve from 715.57379\n",
            "\n",
            "Epoch 31: val_loss did not improve from 715.57379\n",
            "\n",
            "Epoch 32: val_loss improved from 715.57379 to 699.73419, saving model to model_experiment/model_4_conv1D\n"
          ]
        },
        {
          "output_type": "stream",
          "name": "stderr",
          "text": [
            "WARNING:absl:Found untraced functions such as _jit_compiled_convolution_op while saving (showing 1 of 1). These functions will not be directly callable after loading.\n"
          ]
        },
        {
          "output_type": "stream",
          "name": "stdout",
          "text": [
            "\n",
            "Epoch 33: val_loss did not improve from 699.73419\n",
            "\n",
            "Epoch 34: val_loss improved from 699.73419 to 687.41351, saving model to model_experiment/model_4_conv1D\n"
          ]
        },
        {
          "output_type": "stream",
          "name": "stderr",
          "text": [
            "WARNING:absl:Found untraced functions such as _jit_compiled_convolution_op while saving (showing 1 of 1). These functions will not be directly callable after loading.\n"
          ]
        },
        {
          "output_type": "stream",
          "name": "stdout",
          "text": [
            "\n",
            "Epoch 35: val_loss improved from 687.41351 to 679.92358, saving model to model_experiment/model_4_conv1D\n"
          ]
        },
        {
          "output_type": "stream",
          "name": "stderr",
          "text": [
            "WARNING:absl:Found untraced functions such as _jit_compiled_convolution_op while saving (showing 1 of 1). These functions will not be directly callable after loading.\n"
          ]
        },
        {
          "output_type": "stream",
          "name": "stdout",
          "text": [
            "\n",
            "Epoch 36: val_loss did not improve from 679.92358\n",
            "\n",
            "Epoch 37: val_loss improved from 679.92358 to 657.95911, saving model to model_experiment/model_4_conv1D\n"
          ]
        },
        {
          "output_type": "stream",
          "name": "stderr",
          "text": [
            "WARNING:absl:Found untraced functions such as _jit_compiled_convolution_op while saving (showing 1 of 1). These functions will not be directly callable after loading.\n"
          ]
        },
        {
          "output_type": "stream",
          "name": "stdout",
          "text": [
            "\n",
            "Epoch 38: val_loss improved from 657.95911 to 653.30328, saving model to model_experiment/model_4_conv1D\n"
          ]
        },
        {
          "output_type": "stream",
          "name": "stderr",
          "text": [
            "WARNING:absl:Found untraced functions such as _jit_compiled_convolution_op while saving (showing 1 of 1). These functions will not be directly callable after loading.\n"
          ]
        },
        {
          "output_type": "stream",
          "name": "stdout",
          "text": [
            "\n",
            "Epoch 39: val_loss did not improve from 653.30328\n",
            "\n",
            "Epoch 40: val_loss improved from 653.30328 to 649.88092, saving model to model_experiment/model_4_conv1D\n"
          ]
        },
        {
          "output_type": "stream",
          "name": "stderr",
          "text": [
            "WARNING:absl:Found untraced functions such as _jit_compiled_convolution_op while saving (showing 1 of 1). These functions will not be directly callable after loading.\n"
          ]
        },
        {
          "output_type": "stream",
          "name": "stdout",
          "text": [
            "\n",
            "Epoch 41: val_loss improved from 649.88092 to 635.91492, saving model to model_experiment/model_4_conv1D\n"
          ]
        },
        {
          "output_type": "stream",
          "name": "stderr",
          "text": [
            "WARNING:absl:Found untraced functions such as _jit_compiled_convolution_op while saving (showing 1 of 1). These functions will not be directly callable after loading.\n"
          ]
        },
        {
          "output_type": "stream",
          "name": "stdout",
          "text": [
            "\n",
            "Epoch 42: val_loss improved from 635.91492 to 633.31470, saving model to model_experiment/model_4_conv1D\n"
          ]
        },
        {
          "output_type": "stream",
          "name": "stderr",
          "text": [
            "WARNING:absl:Found untraced functions such as _jit_compiled_convolution_op while saving (showing 1 of 1). These functions will not be directly callable after loading.\n"
          ]
        },
        {
          "output_type": "stream",
          "name": "stdout",
          "text": [
            "\n",
            "Epoch 43: val_loss did not improve from 633.31470\n",
            "\n",
            "Epoch 44: val_loss improved from 633.31470 to 625.14905, saving model to model_experiment/model_4_conv1D\n"
          ]
        },
        {
          "output_type": "stream",
          "name": "stderr",
          "text": [
            "WARNING:absl:Found untraced functions such as _jit_compiled_convolution_op while saving (showing 1 of 1). These functions will not be directly callable after loading.\n"
          ]
        },
        {
          "output_type": "stream",
          "name": "stdout",
          "text": [
            "\n",
            "Epoch 45: val_loss did not improve from 625.14905\n",
            "\n",
            "Epoch 46: val_loss improved from 625.14905 to 618.13776, saving model to model_experiment/model_4_conv1D\n"
          ]
        },
        {
          "output_type": "stream",
          "name": "stderr",
          "text": [
            "WARNING:absl:Found untraced functions such as _jit_compiled_convolution_op while saving (showing 1 of 1). These functions will not be directly callable after loading.\n"
          ]
        },
        {
          "output_type": "stream",
          "name": "stdout",
          "text": [
            "\n",
            "Epoch 47: val_loss did not improve from 618.13776\n",
            "\n",
            "Epoch 48: val_loss did not improve from 618.13776\n",
            "\n",
            "Epoch 49: val_loss did not improve from 618.13776\n",
            "\n",
            "Epoch 50: val_loss did not improve from 618.13776\n",
            "\n",
            "Epoch 51: val_loss did not improve from 618.13776\n",
            "\n",
            "Epoch 52: val_loss improved from 618.13776 to 609.05701, saving model to model_experiment/model_4_conv1D\n"
          ]
        },
        {
          "output_type": "stream",
          "name": "stderr",
          "text": [
            "WARNING:absl:Found untraced functions such as _jit_compiled_convolution_op while saving (showing 1 of 1). These functions will not be directly callable after loading.\n"
          ]
        },
        {
          "output_type": "stream",
          "name": "stdout",
          "text": [
            "\n",
            "Epoch 53: val_loss did not improve from 609.05701\n",
            "\n",
            "Epoch 54: val_loss did not improve from 609.05701\n",
            "\n",
            "Epoch 55: val_loss did not improve from 609.05701\n",
            "\n",
            "Epoch 56: val_loss did not improve from 609.05701\n",
            "\n",
            "Epoch 57: val_loss did not improve from 609.05701\n",
            "\n",
            "Epoch 58: val_loss did not improve from 609.05701\n",
            "\n",
            "Epoch 59: val_loss improved from 609.05701 to 597.47778, saving model to model_experiment/model_4_conv1D\n"
          ]
        },
        {
          "output_type": "stream",
          "name": "stderr",
          "text": [
            "WARNING:absl:Found untraced functions such as _jit_compiled_convolution_op while saving (showing 1 of 1). These functions will not be directly callable after loading.\n"
          ]
        },
        {
          "output_type": "stream",
          "name": "stdout",
          "text": [
            "\n",
            "Epoch 60: val_loss did not improve from 597.47778\n",
            "\n",
            "Epoch 61: val_loss did not improve from 597.47778\n",
            "\n",
            "Epoch 62: val_loss did not improve from 597.47778\n",
            "\n",
            "Epoch 63: val_loss improved from 597.47778 to 596.51587, saving model to model_experiment/model_4_conv1D\n"
          ]
        },
        {
          "output_type": "stream",
          "name": "stderr",
          "text": [
            "WARNING:absl:Found untraced functions such as _jit_compiled_convolution_op while saving (showing 1 of 1). These functions will not be directly callable after loading.\n"
          ]
        },
        {
          "output_type": "stream",
          "name": "stdout",
          "text": [
            "\n",
            "Epoch 64: val_loss did not improve from 596.51587\n",
            "\n",
            "Epoch 65: val_loss improved from 596.51587 to 591.53571, saving model to model_experiment/model_4_conv1D\n"
          ]
        },
        {
          "output_type": "stream",
          "name": "stderr",
          "text": [
            "WARNING:absl:Found untraced functions such as _jit_compiled_convolution_op while saving (showing 1 of 1). These functions will not be directly callable after loading.\n"
          ]
        },
        {
          "output_type": "stream",
          "name": "stdout",
          "text": [
            "\n",
            "Epoch 66: val_loss improved from 591.53571 to 588.06128, saving model to model_experiment/model_4_conv1D\n"
          ]
        },
        {
          "output_type": "stream",
          "name": "stderr",
          "text": [
            "WARNING:absl:Found untraced functions such as _jit_compiled_convolution_op while saving (showing 1 of 1). These functions will not be directly callable after loading.\n"
          ]
        },
        {
          "output_type": "stream",
          "name": "stdout",
          "text": [
            "\n",
            "Epoch 67: val_loss did not improve from 588.06128\n",
            "\n",
            "Epoch 68: val_loss did not improve from 588.06128\n",
            "\n",
            "Epoch 69: val_loss did not improve from 588.06128\n",
            "\n",
            "Epoch 70: val_loss improved from 588.06128 to 582.77020, saving model to model_experiment/model_4_conv1D\n"
          ]
        },
        {
          "output_type": "stream",
          "name": "stderr",
          "text": [
            "WARNING:absl:Found untraced functions such as _jit_compiled_convolution_op while saving (showing 1 of 1). These functions will not be directly callable after loading.\n"
          ]
        },
        {
          "output_type": "stream",
          "name": "stdout",
          "text": [
            "\n",
            "Epoch 71: val_loss did not improve from 582.77020\n",
            "\n",
            "Epoch 72: val_loss improved from 582.77020 to 581.56598, saving model to model_experiment/model_4_conv1D\n"
          ]
        },
        {
          "output_type": "stream",
          "name": "stderr",
          "text": [
            "WARNING:absl:Found untraced functions such as _jit_compiled_convolution_op while saving (showing 1 of 1). These functions will not be directly callable after loading.\n"
          ]
        },
        {
          "output_type": "stream",
          "name": "stdout",
          "text": [
            "\n",
            "Epoch 73: val_loss did not improve from 581.56598\n",
            "\n",
            "Epoch 74: val_loss did not improve from 581.56598\n",
            "\n",
            "Epoch 75: val_loss did not improve from 581.56598\n",
            "\n",
            "Epoch 76: val_loss did not improve from 581.56598\n",
            "\n",
            "Epoch 77: val_loss improved from 581.56598 to 581.24304, saving model to model_experiment/model_4_conv1D\n"
          ]
        },
        {
          "output_type": "stream",
          "name": "stderr",
          "text": [
            "WARNING:absl:Found untraced functions such as _jit_compiled_convolution_op while saving (showing 1 of 1). These functions will not be directly callable after loading.\n"
          ]
        },
        {
          "output_type": "stream",
          "name": "stdout",
          "text": [
            "\n",
            "Epoch 78: val_loss improved from 581.24304 to 578.78662, saving model to model_experiment/model_4_conv1D\n"
          ]
        },
        {
          "output_type": "stream",
          "name": "stderr",
          "text": [
            "WARNING:absl:Found untraced functions such as _jit_compiled_convolution_op while saving (showing 1 of 1). These functions will not be directly callable after loading.\n"
          ]
        },
        {
          "output_type": "stream",
          "name": "stdout",
          "text": [
            "\n",
            "Epoch 79: val_loss did not improve from 578.78662\n",
            "\n",
            "Epoch 80: val_loss did not improve from 578.78662\n",
            "\n",
            "Epoch 81: val_loss improved from 578.78662 to 575.33197, saving model to model_experiment/model_4_conv1D\n"
          ]
        },
        {
          "output_type": "stream",
          "name": "stderr",
          "text": [
            "WARNING:absl:Found untraced functions such as _jit_compiled_convolution_op while saving (showing 1 of 1). These functions will not be directly callable after loading.\n"
          ]
        },
        {
          "output_type": "stream",
          "name": "stdout",
          "text": [
            "\n",
            "Epoch 82: val_loss did not improve from 575.33197\n",
            "\n",
            "Epoch 83: val_loss did not improve from 575.33197\n",
            "\n",
            "Epoch 84: val_loss did not improve from 575.33197\n",
            "\n",
            "Epoch 85: val_loss did not improve from 575.33197\n",
            "\n",
            "Epoch 86: val_loss did not improve from 575.33197\n",
            "\n",
            "Epoch 87: val_loss improved from 575.33197 to 573.08057, saving model to model_experiment/model_4_conv1D\n"
          ]
        },
        {
          "output_type": "stream",
          "name": "stderr",
          "text": [
            "WARNING:absl:Found untraced functions such as _jit_compiled_convolution_op while saving (showing 1 of 1). These functions will not be directly callable after loading.\n"
          ]
        },
        {
          "output_type": "stream",
          "name": "stdout",
          "text": [
            "\n",
            "Epoch 88: val_loss did not improve from 573.08057\n",
            "\n",
            "Epoch 89: val_loss did not improve from 573.08057\n",
            "\n",
            "Epoch 90: val_loss did not improve from 573.08057\n",
            "\n",
            "Epoch 91: val_loss did not improve from 573.08057\n",
            "\n",
            "Epoch 92: val_loss did not improve from 573.08057\n",
            "\n",
            "Epoch 93: val_loss did not improve from 573.08057\n",
            "\n",
            "Epoch 94: val_loss did not improve from 573.08057\n",
            "\n",
            "Epoch 95: val_loss improved from 573.08057 to 572.31378, saving model to model_experiment/model_4_conv1D\n"
          ]
        },
        {
          "output_type": "stream",
          "name": "stderr",
          "text": [
            "WARNING:absl:Found untraced functions such as _jit_compiled_convolution_op while saving (showing 1 of 1). These functions will not be directly callable after loading.\n"
          ]
        },
        {
          "output_type": "stream",
          "name": "stdout",
          "text": [
            "\n",
            "Epoch 96: val_loss did not improve from 572.31378\n",
            "\n",
            "Epoch 97: val_loss did not improve from 572.31378\n",
            "\n",
            "Epoch 98: val_loss did not improve from 572.31378\n",
            "\n",
            "Epoch 99: val_loss improved from 572.31378 to 570.73877, saving model to model_experiment/model_4_conv1D\n"
          ]
        },
        {
          "output_type": "stream",
          "name": "stderr",
          "text": [
            "WARNING:absl:Found untraced functions such as _jit_compiled_convolution_op while saving (showing 1 of 1). These functions will not be directly callable after loading.\n"
          ]
        },
        {
          "output_type": "stream",
          "name": "stdout",
          "text": [
            "\n",
            "Epoch 100: val_loss did not improve from 570.73877\n"
          ]
        },
        {
          "output_type": "execute_result",
          "data": {
            "text/plain": [
              "<keras.callbacks.History at 0x7f6ccc48e550>"
            ]
          },
          "metadata": {},
          "execution_count": 74
        }
      ]
    },
    {
      "cell_type": "code",
      "source": [
        "model_4.summary()"
      ],
      "metadata": {
        "colab": {
          "base_uri": "https://localhost:8080/"
        },
        "id": "0rylNFd0nM_s",
        "outputId": "caafa05b-3247-4939-8e6d-dd680c2aebf5"
      },
      "execution_count": null,
      "outputs": [
        {
          "output_type": "stream",
          "name": "stdout",
          "text": [
            "Model: \"model_4_conv1D\"\n",
            "_________________________________________________________________\n",
            " Layer (type)                Output Shape              Param #   \n",
            "=================================================================\n",
            " lambda_1 (Lambda)           (None, 1, 7)              0         \n",
            "                                                                 \n",
            " conv1d (Conv1D)             (None, 1, 128)            6400      \n",
            "                                                                 \n",
            " dense_2 (Dense)             (None, 1, 1)              129       \n",
            "                                                                 \n",
            "=================================================================\n",
            "Total params: 6,529\n",
            "Trainable params: 6,529\n",
            "Non-trainable params: 0\n",
            "_________________________________________________________________\n"
          ]
        }
      ]
    },
    {
      "cell_type": "code",
      "source": [
        "# Evaluate model\n",
        "model_4.evaluate(test_windows, test_labels)"
      ],
      "metadata": {
        "colab": {
          "base_uri": "https://localhost:8080/"
        },
        "id": "CCNzpOPknhpi",
        "outputId": "f18a945f-7782-4a36-97cb-6d255c566bc0"
      },
      "execution_count": null,
      "outputs": [
        {
          "output_type": "stream",
          "name": "stdout",
          "text": [
            "18/18 [==============================] - 0s 4ms/step - loss: 615.6102\n"
          ]
        },
        {
          "output_type": "execute_result",
          "data": {
            "text/plain": [
              "615.6101684570312"
            ]
          },
          "metadata": {},
          "execution_count": 76
        }
      ]
    },
    {
      "cell_type": "code",
      "source": [
        "# Load back in best performing Cov1D\n",
        "model_4 = tf.keras.models.load_model(\"/content/model_experiment/model_4_conv1D\")\n",
        "model_4.evaluate(test_windows, test_labels)"
      ],
      "metadata": {
        "colab": {
          "base_uri": "https://localhost:8080/"
        },
        "id": "i0cJDpYXrq00",
        "outputId": "1b8c65ea-0b76-400e-878d-e161c0fddafb"
      },
      "execution_count": null,
      "outputs": [
        {
          "output_type": "stream",
          "name": "stdout",
          "text": [
            "18/18 [==============================] - 0s 2ms/step - loss: 570.7388\n"
          ]
        },
        {
          "output_type": "execute_result",
          "data": {
            "text/plain": [
              "570.73876953125"
            ]
          },
          "metadata": {},
          "execution_count": 77
        }
      ]
    },
    {
      "cell_type": "code",
      "source": [
        "# Make predictions\n",
        "model_4_preds = make_preds(model_4, test_windows)\n",
        "model_4_preds[:10]"
      ],
      "metadata": {
        "colab": {
          "base_uri": "https://localhost:8080/"
        },
        "id": "zpcEkiI0sF3q",
        "outputId": "864b2c75-41d5-4903-bec6-ae6f7f99f296"
      },
      "execution_count": null,
      "outputs": [
        {
          "output_type": "stream",
          "name": "stdout",
          "text": [
            "18/18 [==============================] - 0s 2ms/step\n"
          ]
        },
        {
          "output_type": "execute_result",
          "data": {
            "text/plain": [
              "<tf.Tensor: shape=(10,), dtype=float32, numpy=\n",
              "array([8893.429, 8788.89 , 9020.29 , 8796.402, 8743.089, 8764.085,\n",
              "       8680.323, 8538.849, 8475.116, 8526.651], dtype=float32)>"
            ]
          },
          "metadata": {},
          "execution_count": 78
        }
      ]
    },
    {
      "cell_type": "code",
      "source": [
        "# Evalute predictions\n",
        "model_4_results = evaluate_preds(y_true=tf.squeeze(test_labels),\n",
        "                                 y_pred=model_4_preds)\n",
        "model_4_results"
      ],
      "metadata": {
        "colab": {
          "base_uri": "https://localhost:8080/"
        },
        "id": "86TkoEhysk2d",
        "outputId": "23fc399f-b7fe-47eb-c5b9-561482d68fb3"
      },
      "execution_count": null,
      "outputs": [
        {
          "output_type": "execute_result",
          "data": {
            "text/plain": [
              "{'mae': 570.7388,\n",
              " 'mse': 1183499.9,\n",
              " 'rmse': 1087.8878,\n",
              " 'mape': 2.5461204,\n",
              " 'mase': 1.00263}"
            ]
          },
          "metadata": {},
          "execution_count": 79
        }
      ]
    },
    {
      "cell_type": "code",
      "source": [
        "model_1_results"
      ],
      "metadata": {
        "colab": {
          "base_uri": "https://localhost:8080/"
        },
        "id": "_vVMpYhUs9I8",
        "outputId": "152cac8d-e5f1-40a4-8ccb-5d749bda8845"
      },
      "execution_count": null,
      "outputs": [
        {
          "output_type": "execute_result",
          "data": {
            "text/plain": [
              "{'mae': 568.9511,\n",
              " 'mse': 1171743.8,\n",
              " 'rmse': 1082.4711,\n",
              " 'mape': 2.5448983,\n",
              " 'mase': 0.99948955}"
            ]
          },
          "metadata": {},
          "execution_count": 80
        }
      ]
    },
    {
      "cell_type": "markdown",
      "source": [
        "## Model 5: RNN (LSTM)\n",
        "\n",
        "Let's build an RNN model for our time series data\n",
        "\n",
        "we use the same data as before"
      ],
      "metadata": {
        "id": "SZ7orYSCtCc-"
      }
    },
    {
      "cell_type": "code",
      "source": [
        "train_windows.shape"
      ],
      "metadata": {
        "colab": {
          "base_uri": "https://localhost:8080/"
        },
        "id": "Li6snEbUx-qK",
        "outputId": "c34653d9-6c6b-45ab-f3ad-2f60b79437fe"
      },
      "execution_count": null,
      "outputs": [
        {
          "output_type": "execute_result",
          "data": {
            "text/plain": [
              "(2224, 7)"
            ]
          },
          "metadata": {},
          "execution_count": 81
        }
      ]
    },
    {
      "cell_type": "code",
      "source": [
        "tf.random.set_seed(42)\n",
        "\n",
        "# Lets build an LSTM model with the Functional API\n",
        "inputs = layers.Input(shape=(WINDOW_SIZE))\n",
        "x = layers.Lambda(lambda x: tf.expand_dims(x, axis=1))(inputs)\n",
        "# x = layers.LSTM(128, return_sequences=True)(x)\n",
        "x = layers.LSTM(128, activation=\"relu\")(x)\n",
        "# x = layers.Dense(32, activation=\"relu\")(x)\n",
        "output = layers.Dense(HORIZON)(x)\n",
        "model_5 = tf.keras.Model(inputs=inputs, outputs=output, name=\"model_5_LSTM\")\n",
        "\n",
        "# Compile\n",
        "model_5.compile(loss=\"mae\",\n",
        "                optimizer=tf.keras.optimizers.Adam())\n",
        "\n",
        "# Fit\n",
        "model_5.fit(train_windows,\n",
        "            train_labels,\n",
        "            epochs=100,\n",
        "            verbose=1,\n",
        "            batch_size=128,\n",
        "            validation_data=(test_windows, test_labels),\n",
        "            callbacks=[create_model_checkpoint(model_name=model_5.name)])"
      ],
      "metadata": {
        "colab": {
          "base_uri": "https://localhost:8080/"
        },
        "id": "TJnyRhd-vYCL",
        "outputId": "2b7e203a-439b-44a3-e504-15667736bd47"
      },
      "execution_count": null,
      "outputs": [
        {
          "output_type": "stream",
          "name": "stderr",
          "text": [
            "WARNING:tensorflow:Layer lstm will not use cuDNN kernels since it doesn't meet the criteria. It will use a generic GPU kernel as fallback when running on GPU.\n"
          ]
        },
        {
          "output_type": "stream",
          "name": "stdout",
          "text": [
            "Epoch 1/100\n",
            "12/18 [===================>..........] - ETA: 0s - loss: 2534.5144 \n",
            "Epoch 1: val_loss improved from inf to 9222.65234, saving model to model_experiment/model_5_LSTM\n",
            "18/18 [==============================] - 3s 113ms/step - loss: 2323.6082 - val_loss: 9222.6523\n",
            "Epoch 2/100\n",
            "11/18 [=================>............] - ETA: 0s - loss: 947.0196 \n",
            "Epoch 2: val_loss improved from 9222.65234 to 1486.05554, saving model to model_experiment/model_5_LSTM\n",
            "18/18 [==============================] - 2s 114ms/step - loss: 695.4739 - val_loss: 1486.0555\n",
            "Epoch 3/100\n",
            "11/18 [=================>............] - ETA: 0s - loss: 270.4985\n",
            "Epoch 3: val_loss improved from 1486.05554 to 1298.90845, saving model to model_experiment/model_5_LSTM\n",
            "18/18 [==============================] - 2s 104ms/step - loss: 237.3967 - val_loss: 1298.9084\n",
            "Epoch 4/100\n",
            "12/18 [===================>..........] - ETA: 0s - loss: 192.6114\n",
            "Epoch 4: val_loss improved from 1298.90845 to 966.64313, saving model to model_experiment/model_5_LSTM\n",
            "18/18 [==============================] - 2s 105ms/step - loss: 181.9180 - val_loss: 966.6431\n",
            "Epoch 5/100\n",
            "12/18 [===================>..........] - ETA: 0s - loss: 181.0809\n",
            "Epoch 5: val_loss did not improve from 966.64313\n",
            "18/18 [==============================] - 0s 7ms/step - loss: 173.4022 - val_loss: 970.9295\n",
            "Epoch 6/100\n",
            "12/18 [===================>..........] - ETA: 0s - loss: 170.0374\n",
            "Epoch 6: val_loss improved from 966.64313 to 941.47461, saving model to model_experiment/model_5_LSTM\n",
            "18/18 [==============================] - 2s 137ms/step - loss: 173.5414 - val_loss: 941.4746\n",
            "Epoch 7/100\n",
            "10/18 [===============>..............] - ETA: 0s - loss: 186.3920\n",
            "Epoch 7: val_loss improved from 941.47461 to 898.52148, saving model to model_experiment/model_5_LSTM\n",
            "18/18 [==============================] - 2s 121ms/step - loss: 170.3566 - val_loss: 898.5215\n",
            "Epoch 8/100\n",
            "12/18 [===================>..........] - ETA: 0s - loss: 154.5701\n",
            "Epoch 8: val_loss did not improve from 898.52148\n",
            "18/18 [==============================] - 0s 7ms/step - loss: 157.6712 - val_loss: 914.8642\n",
            "Epoch 9/100\n",
            "11/18 [=================>............] - ETA: 0s - loss: 160.6317\n",
            "Epoch 9: val_loss did not improve from 898.52148\n",
            "18/18 [==============================] - 0s 7ms/step - loss: 166.5143 - val_loss: 1079.0776\n",
            "Epoch 10/100\n",
            "13/18 [====================>.........] - ETA: 0s - loss: 160.3262\n",
            "Epoch 10: val_loss improved from 898.52148 to 877.16901, saving model to model_experiment/model_5_LSTM\n",
            "18/18 [==============================] - 2s 102ms/step - loss: 162.3369 - val_loss: 877.1690\n",
            "Epoch 11/100\n",
            "12/18 [===================>..........] - ETA: 0s - loss: 166.7023\n",
            "Epoch 11: val_loss did not improve from 877.16901\n",
            "18/18 [==============================] - 0s 7ms/step - loss: 163.0841 - val_loss: 924.1126\n",
            "Epoch 12/100\n",
            "12/18 [===================>..........] - ETA: 0s - loss: 166.9173\n",
            "Epoch 12: val_loss did not improve from 877.16901\n",
            "18/18 [==============================] - 0s 6ms/step - loss: 168.5598 - val_loss: 941.6025\n",
            "Epoch 13/100\n",
            "13/18 [====================>.........] - ETA: 0s - loss: 163.7783\n",
            "Epoch 13: val_loss did not improve from 877.16901\n",
            "18/18 [==============================] - 0s 6ms/step - loss: 166.4726 - val_loss: 934.8436\n",
            "Epoch 14/100\n",
            "11/18 [=================>............] - ETA: 0s - loss: 155.9096\n",
            "Epoch 14: val_loss did not improve from 877.16901\n",
            "18/18 [==============================] - 0s 7ms/step - loss: 163.9537 - val_loss: 920.2160\n",
            "Epoch 15/100\n",
            "10/18 [===============>..............] - ETA: 0s - loss: 155.2971\n",
            "Epoch 15: val_loss improved from 877.16901 to 856.26526, saving model to model_experiment/model_5_LSTM\n",
            "18/18 [==============================] - 2s 141ms/step - loss: 152.9470 - val_loss: 856.2653\n",
            "Epoch 16/100\n",
            "12/18 [===================>..........] - ETA: 0s - loss: 146.9421\n",
            "Epoch 16: val_loss did not improve from 856.26526\n",
            "18/18 [==============================] - 0s 6ms/step - loss: 147.4420 - val_loss: 898.9914\n",
            "Epoch 17/100\n",
            "13/18 [====================>.........] - ETA: 0s - loss: 151.3799\n",
            "Epoch 17: val_loss did not improve from 856.26526\n",
            "18/18 [==============================] - 0s 12ms/step - loss: 151.0533 - val_loss: 943.1418\n",
            "Epoch 18/100\n",
            "13/18 [====================>.........] - ETA: 0s - loss: 168.0218\n",
            "Epoch 18: val_loss did not improve from 856.26526\n",
            "18/18 [==============================] - 0s 6ms/step - loss: 157.8232 - val_loss: 924.0046\n",
            "Epoch 19/100\n",
            "12/18 [===================>..........] - ETA: 0s - loss: 162.2393\n",
            "Epoch 19: val_loss did not improve from 856.26526\n",
            "18/18 [==============================] - 0s 6ms/step - loss: 155.9198 - val_loss: 911.4753\n",
            "Epoch 20/100\n",
            "15/18 [========================>.....] - ETA: 0s - loss: 157.2541\n",
            "Epoch 20: val_loss did not improve from 856.26526\n",
            "18/18 [==============================] - 0s 11ms/step - loss: 155.6456 - val_loss: 862.6680\n",
            "Epoch 21/100\n",
            "16/18 [=========================>....] - ETA: 0s - loss: 152.0746\n",
            "Epoch 21: val_loss did not improve from 856.26526\n",
            "18/18 [==============================] - 0s 9ms/step - loss: 153.1514 - val_loss: 862.5831\n",
            "Epoch 22/100\n",
            "11/18 [=================>............] - ETA: 0s - loss: 162.7447\n",
            "Epoch 22: val_loss did not improve from 856.26526\n",
            "18/18 [==============================] - 0s 7ms/step - loss: 151.4883 - val_loss: 863.8172\n",
            "Epoch 23/100\n",
            "15/18 [========================>.....] - ETA: 0s - loss: 150.8422\n",
            "Epoch 23: val_loss did not improve from 856.26526\n",
            "18/18 [==============================] - 0s 10ms/step - loss: 150.7770 - val_loss: 886.8356\n",
            "Epoch 24/100\n",
            "12/18 [===================>..........] - ETA: 0s - loss: 147.4110\n",
            "Epoch 24: val_loss did not improve from 856.26526\n",
            "18/18 [==============================] - 0s 6ms/step - loss: 148.6539 - val_loss: 861.3270\n",
            "Epoch 25/100\n",
            "12/18 [===================>..........] - ETA: 0s - loss: 153.1163\n",
            "Epoch 25: val_loss improved from 856.26526 to 845.27820, saving model to model_experiment/model_5_LSTM\n",
            "18/18 [==============================] - 3s 179ms/step - loss: 146.8467 - val_loss: 845.2782\n",
            "Epoch 26/100\n",
            "14/18 [======================>.......] - ETA: 0s - loss: 146.8086\n",
            "Epoch 26: val_loss improved from 845.27820 to 818.68073, saving model to model_experiment/model_5_LSTM\n",
            "18/18 [==============================] - 3s 157ms/step - loss: 145.9843 - val_loss: 818.6807\n",
            "Epoch 27/100\n",
            "10/18 [===============>..............] - ETA: 0s - loss: 149.1223\n",
            "Epoch 27: val_loss improved from 818.68073 to 804.32788, saving model to model_experiment/model_5_LSTM\n",
            "18/18 [==============================] - 2s 123ms/step - loss: 144.4289 - val_loss: 804.3279\n",
            "Epoch 28/100\n",
            "12/18 [===================>..........] - ETA: 0s - loss: 142.2844\n",
            "Epoch 28: val_loss improved from 804.32788 to 789.08588, saving model to model_experiment/model_5_LSTM\n",
            "18/18 [==============================] - 2s 103ms/step - loss: 142.4610 - val_loss: 789.0859\n",
            "Epoch 29/100\n",
            "13/18 [====================>.........] - ETA: 0s - loss: 145.2791\n",
            "Epoch 29: val_loss did not improve from 789.08588\n",
            "18/18 [==============================] - 0s 6ms/step - loss: 141.8739 - val_loss: 806.6758\n",
            "Epoch 30/100\n",
            "13/18 [====================>.........] - ETA: 0s - loss: 138.9936\n",
            "Epoch 30: val_loss did not improve from 789.08588\n",
            "18/18 [==============================] - 0s 6ms/step - loss: 142.0521 - val_loss: 794.8836\n",
            "Epoch 31/100\n",
            "11/18 [=================>............] - ETA: 0s - loss: 138.5929\n",
            "Epoch 31: val_loss improved from 789.08588 to 773.28125, saving model to model_experiment/model_5_LSTM\n",
            "18/18 [==============================] - 2s 100ms/step - loss: 138.4690 - val_loss: 773.2812\n",
            "Epoch 32/100\n",
            "12/18 [===================>..........] - ETA: 0s - loss: 139.7511\n",
            "Epoch 32: val_loss improved from 773.28125 to 772.26245, saving model to model_experiment/model_5_LSTM\n",
            "18/18 [==============================] - 2s 117ms/step - loss: 137.1986 - val_loss: 772.2625\n",
            "Epoch 33/100\n",
            "10/18 [===============>..............] - ETA: 0s - loss: 139.7187\n",
            "Epoch 33: val_loss did not improve from 772.26245\n",
            "18/18 [==============================] - 0s 7ms/step - loss: 135.9342 - val_loss: 786.4805\n",
            "Epoch 34/100\n",
            "12/18 [===================>..........] - ETA: 0s - loss: 142.0684\n",
            "Epoch 34: val_loss improved from 772.26245 to 744.45062, saving model to model_experiment/model_5_LSTM\n",
            "18/18 [==============================] - 2s 101ms/step - loss: 136.1931 - val_loss: 744.4506\n",
            "Epoch 35/100\n",
            "12/18 [===================>..........] - ETA: 0s - loss: 134.0819\n",
            "Epoch 35: val_loss did not improve from 744.45062\n",
            "18/18 [==============================] - 0s 6ms/step - loss: 133.4513 - val_loss: 756.2970\n",
            "Epoch 36/100\n",
            "12/18 [===================>..........] - ETA: 0s - loss: 132.2655\n",
            "Epoch 36: val_loss improved from 744.45062 to 735.17291, saving model to model_experiment/model_5_LSTM\n",
            "18/18 [==============================] - 2s 143ms/step - loss: 134.0992 - val_loss: 735.1729\n",
            "Epoch 37/100\n",
            "13/18 [====================>.........] - ETA: 0s - loss: 132.4531\n",
            "Epoch 37: val_loss did not improve from 735.17291\n",
            "18/18 [==============================] - 0s 6ms/step - loss: 130.6932 - val_loss: 745.9099\n",
            "Epoch 38/100\n",
            "15/18 [========================>.....] - ETA: 0s - loss: 130.9566\n",
            "Epoch 38: val_loss improved from 735.17291 to 717.24976, saving model to model_experiment/model_5_LSTM\n",
            "18/18 [==============================] - 2s 136ms/step - loss: 129.2891 - val_loss: 717.2498\n",
            "Epoch 39/100\n",
            "17/18 [===========================>..] - ETA: 0s - loss: 128.4642\n",
            "Epoch 39: val_loss did not improve from 717.24976\n",
            "18/18 [==============================] - 0s 13ms/step - loss: 129.6088 - val_loss: 719.0665\n",
            "Epoch 40/100\n",
            "16/18 [=========================>....] - ETA: 0s - loss: 130.1585\n",
            "Epoch 40: val_loss did not improve from 717.24976\n",
            "18/18 [==============================] - 0s 14ms/step - loss: 129.6111 - val_loss: 732.0632\n",
            "Epoch 41/100\n",
            "15/18 [========================>.....] - ETA: 0s - loss: 131.4351\n",
            "Epoch 41: val_loss improved from 717.24976 to 702.93536, saving model to model_experiment/model_5_LSTM\n",
            "18/18 [==============================] - 3s 162ms/step - loss: 127.1393 - val_loss: 702.9354\n",
            "Epoch 42/100\n",
            "12/18 [===================>..........] - ETA: 0s - loss: 124.3230\n",
            "Epoch 42: val_loss improved from 702.93536 to 700.87018, saving model to model_experiment/model_5_LSTM\n",
            "18/18 [==============================] - 2s 130ms/step - loss: 125.6113 - val_loss: 700.8702\n",
            "Epoch 43/100\n",
            "12/18 [===================>..........] - ETA: 0s - loss: 121.8617\n",
            "Epoch 43: val_loss did not improve from 700.87018\n",
            "18/18 [==============================] - 0s 7ms/step - loss: 125.9959 - val_loss: 704.3682\n",
            "Epoch 44/100\n",
            "12/18 [===================>..........] - ETA: 0s - loss: 124.8729\n",
            "Epoch 44: val_loss improved from 700.87018 to 698.77655, saving model to model_experiment/model_5_LSTM\n",
            "18/18 [==============================] - 2s 134ms/step - loss: 125.2241 - val_loss: 698.7766\n",
            "Epoch 45/100\n",
            "13/18 [====================>.........] - ETA: 0s - loss: 119.6254\n",
            "Epoch 45: val_loss improved from 698.77655 to 683.05902, saving model to model_experiment/model_5_LSTM\n",
            "18/18 [==============================] - 3s 156ms/step - loss: 122.5007 - val_loss: 683.0590\n",
            "Epoch 46/100\n",
            "13/18 [====================>.........] - ETA: 0s - loss: 128.0216\n",
            "Epoch 46: val_loss improved from 683.05902 to 679.18726, saving model to model_experiment/model_5_LSTM\n",
            "18/18 [==============================] - 2s 118ms/step - loss: 124.4726 - val_loss: 679.1873\n",
            "Epoch 47/100\n",
            "12/18 [===================>..........] - ETA: 0s - loss: 111.8551\n",
            "Epoch 47: val_loss did not improve from 679.18726\n",
            "18/18 [==============================] - 0s 7ms/step - loss: 122.1862 - val_loss: 705.4241\n",
            "Epoch 48/100\n",
            "13/18 [====================>.........] - ETA: 0s - loss: 120.5907\n",
            "Epoch 48: val_loss improved from 679.18726 to 677.07837, saving model to model_experiment/model_5_LSTM\n",
            "18/18 [==============================] - 2s 102ms/step - loss: 122.0458 - val_loss: 677.0784\n",
            "Epoch 49/100\n",
            "12/18 [===================>..........] - ETA: 0s - loss: 126.2884\n",
            "Epoch 49: val_loss improved from 677.07837 to 674.68481, saving model to model_experiment/model_5_LSTM\n",
            "18/18 [==============================] - 2s 102ms/step - loss: 121.1548 - val_loss: 674.6848\n",
            "Epoch 50/100\n",
            "13/18 [====================>.........] - ETA: 0s - loss: 118.8378\n",
            "Epoch 50: val_loss did not improve from 674.68481\n",
            "18/18 [==============================] - 0s 7ms/step - loss: 122.8890 - val_loss: 691.4816\n",
            "Epoch 51/100\n",
            "13/18 [====================>.........] - ETA: 0s - loss: 122.5265\n",
            "Epoch 51: val_loss did not improve from 674.68481\n",
            "18/18 [==============================] - 0s 6ms/step - loss: 122.2994 - val_loss: 737.3929\n",
            "Epoch 52/100\n",
            "12/18 [===================>..........] - ETA: 0s - loss: 129.3352\n",
            "Epoch 52: val_loss improved from 674.68481 to 657.23651, saving model to model_experiment/model_5_LSTM\n",
            "18/18 [==============================] - 2s 101ms/step - loss: 121.2944 - val_loss: 657.2365\n",
            "Epoch 53/100\n",
            "12/18 [===================>..........] - ETA: 0s - loss: 116.8399\n",
            "Epoch 53: val_loss improved from 657.23651 to 652.79700, saving model to model_experiment/model_5_LSTM\n",
            "18/18 [==============================] - 2s 101ms/step - loss: 119.7668 - val_loss: 652.7970\n",
            "Epoch 54/100\n",
            "13/18 [====================>.........] - ETA: 0s - loss: 117.3906\n",
            "Epoch 54: val_loss did not improve from 652.79700\n",
            "18/18 [==============================] - 0s 6ms/step - loss: 120.1222 - val_loss: 654.4439\n",
            "Epoch 55/100\n",
            "12/18 [===================>..........] - ETA: 0s - loss: 125.5305\n",
            "Epoch 55: val_loss improved from 652.79700 to 647.28308, saving model to model_experiment/model_5_LSTM\n",
            "18/18 [==============================] - 2s 121ms/step - loss: 119.2566 - val_loss: 647.2831\n",
            "Epoch 56/100\n",
            "13/18 [====================>.........] - ETA: 0s - loss: 122.5145\n",
            "Epoch 56: val_loss improved from 647.28308 to 643.78082, saving model to model_experiment/model_5_LSTM\n",
            "18/18 [==============================] - 2s 102ms/step - loss: 120.0544 - val_loss: 643.7808\n",
            "Epoch 57/100\n",
            "12/18 [===================>..........] - ETA: 0s - loss: 127.4654\n",
            "Epoch 57: val_loss did not improve from 643.78082\n",
            "18/18 [==============================] - 0s 6ms/step - loss: 123.1243 - val_loss: 671.1797\n",
            "Epoch 58/100\n",
            "12/18 [===================>..........] - ETA: 0s - loss: 118.0024\n",
            "Epoch 58: val_loss improved from 643.78082 to 640.26562, saving model to model_experiment/model_5_LSTM\n",
            "18/18 [==============================] - 2s 102ms/step - loss: 118.4059 - val_loss: 640.2656\n",
            "Epoch 59/100\n",
            "12/18 [===================>..........] - ETA: 0s - loss: 114.1296\n",
            "Epoch 59: val_loss did not improve from 640.26562\n",
            "18/18 [==============================] - 0s 7ms/step - loss: 117.7119 - val_loss: 645.3837\n",
            "Epoch 60/100\n",
            "12/18 [===================>..........] - ETA: 0s - loss: 117.1983\n",
            "Epoch 60: val_loss improved from 640.26562 to 638.74292, saving model to model_experiment/model_5_LSTM\n",
            "18/18 [==============================] - 2s 101ms/step - loss: 118.5346 - val_loss: 638.7429\n",
            "Epoch 61/100\n",
            "12/18 [===================>..........] - ETA: 0s - loss: 114.9757\n",
            "Epoch 61: val_loss did not improve from 638.74292\n",
            "18/18 [==============================] - 0s 6ms/step - loss: 118.3129 - val_loss: 689.4144\n",
            "Epoch 62/100\n",
            "12/18 [===================>..........] - ETA: 0s - loss: 119.0023\n",
            "Epoch 62: val_loss did not improve from 638.74292\n",
            "18/18 [==============================] - 0s 7ms/step - loss: 121.4350 - val_loss: 748.5565\n",
            "Epoch 63/100\n",
            "12/18 [===================>..........] - ETA: 0s - loss: 129.1389\n",
            "Epoch 63: val_loss did not improve from 638.74292\n",
            "18/18 [==============================] - 0s 6ms/step - loss: 123.1006 - val_loss: 651.8298\n",
            "Epoch 64/100\n",
            "13/18 [====================>.........] - ETA: 0s - loss: 118.6291\n",
            "Epoch 64: val_loss did not improve from 638.74292\n",
            "18/18 [==============================] - 0s 7ms/step - loss: 115.9679 - val_loss: 672.9166\n",
            "Epoch 65/100\n",
            "12/18 [===================>..........] - ETA: 0s - loss: 120.4224\n",
            "Epoch 65: val_loss improved from 638.74292 to 631.75378, saving model to model_experiment/model_5_LSTM\n",
            "18/18 [==============================] - 2s 121ms/step - loss: 118.8341 - val_loss: 631.7538\n",
            "Epoch 66/100\n",
            "11/18 [=================>............] - ETA: 0s - loss: 113.1311\n",
            "Epoch 66: val_loss did not improve from 631.75378\n",
            "18/18 [==============================] - 0s 7ms/step - loss: 116.2212 - val_loss: 634.5445\n",
            "Epoch 67/100\n",
            "12/18 [===================>..........] - ETA: 0s - loss: 113.0850\n",
            "Epoch 67: val_loss improved from 631.75378 to 623.89325, saving model to model_experiment/model_5_LSTM\n",
            "18/18 [==============================] - 2s 103ms/step - loss: 116.1580 - val_loss: 623.8932\n",
            "Epoch 68/100\n",
            "12/18 [===================>..........] - ETA: 0s - loss: 113.8998\n",
            "Epoch 68: val_loss did not improve from 623.89325\n",
            "18/18 [==============================] - 0s 7ms/step - loss: 115.5543 - val_loss: 635.4929\n",
            "Epoch 69/100\n",
            "13/18 [====================>.........] - ETA: 0s - loss: 118.9329\n",
            "Epoch 69: val_loss did not improve from 623.89325\n",
            "18/18 [==============================] - 0s 8ms/step - loss: 120.5866 - val_loss: 626.3387\n",
            "Epoch 70/100\n",
            "12/18 [===================>..........] - ETA: 0s - loss: 111.8156\n",
            "Epoch 70: val_loss improved from 623.89325 to 619.31812, saving model to model_experiment/model_5_LSTM\n",
            "18/18 [==============================] - 2s 100ms/step - loss: 114.9188 - val_loss: 619.3181\n",
            "Epoch 71/100\n",
            "13/18 [====================>.........] - ETA: 0s - loss: 112.4557\n",
            "Epoch 71: val_loss did not improve from 619.31812\n",
            "18/18 [==============================] - 0s 6ms/step - loss: 114.8998 - val_loss: 650.9373\n",
            "Epoch 72/100\n",
            "12/18 [===================>..........] - ETA: 0s - loss: 117.2926\n",
            "Epoch 72: val_loss did not improve from 619.31812\n",
            "18/18 [==============================] - 0s 6ms/step - loss: 118.2033 - val_loss: 630.5287\n",
            "Epoch 73/100\n",
            "13/18 [====================>.........] - ETA: 0s - loss: 115.3408\n",
            "Epoch 73: val_loss did not improve from 619.31812\n",
            "18/18 [==============================] - 0s 7ms/step - loss: 115.3612 - val_loss: 623.0369\n",
            "Epoch 74/100\n",
            "12/18 [===================>..........] - ETA: 0s - loss: 115.1397\n",
            "Epoch 74: val_loss did not improve from 619.31812\n",
            "18/18 [==============================] - 0s 7ms/step - loss: 115.0345 - val_loss: 623.0776\n",
            "Epoch 75/100\n",
            "12/18 [===================>..........] - ETA: 0s - loss: 114.3798\n",
            "Epoch 75: val_loss did not improve from 619.31812\n",
            "18/18 [==============================] - 0s 6ms/step - loss: 115.2057 - val_loss: 640.5281\n",
            "Epoch 76/100\n",
            "11/18 [=================>............] - ETA: 0s - loss: 114.5117\n",
            "Epoch 76: val_loss improved from 619.31812 to 614.40625, saving model to model_experiment/model_5_LSTM\n",
            "18/18 [==============================] - 2s 101ms/step - loss: 114.1402 - val_loss: 614.4062\n",
            "Epoch 77/100\n",
            "12/18 [===================>..........] - ETA: 0s - loss: 119.9785\n",
            "Epoch 77: val_loss did not improve from 614.40625\n",
            "18/18 [==============================] - 0s 6ms/step - loss: 115.5973 - val_loss: 689.8776\n",
            "Epoch 78/100\n",
            "12/18 [===================>..........] - ETA: 0s - loss: 113.9123\n",
            "Epoch 78: val_loss did not improve from 614.40625\n",
            "18/18 [==============================] - 0s 7ms/step - loss: 117.2611 - val_loss: 645.2790\n",
            "Epoch 79/100\n",
            "12/18 [===================>..........] - ETA: 0s - loss: 112.1790\n",
            "Epoch 79: val_loss improved from 614.40625 to 608.71588, saving model to model_experiment/model_5_LSTM\n",
            "18/18 [==============================] - 2s 120ms/step - loss: 114.1995 - val_loss: 608.7159\n",
            "Epoch 80/100\n",
            "13/18 [====================>.........] - ETA: 0s - loss: 118.0044\n",
            "Epoch 80: val_loss did not improve from 608.71588\n",
            "18/18 [==============================] - 0s 7ms/step - loss: 112.7125 - val_loss: 614.9222\n",
            "Epoch 81/100\n",
            "12/18 [===================>..........] - ETA: 0s - loss: 114.3095\n",
            "Epoch 81: val_loss did not improve from 608.71588\n",
            "18/18 [==============================] - 0s 7ms/step - loss: 113.3684 - val_loss: 634.8466\n",
            "Epoch 82/100\n",
            "10/18 [===============>..............] - ETA: 0s - loss: 123.8416\n",
            "Epoch 82: val_loss improved from 608.71588 to 607.85095, saving model to model_experiment/model_5_LSTM\n",
            "18/18 [==============================] - 2s 102ms/step - loss: 115.9701 - val_loss: 607.8510\n",
            "Epoch 83/100\n",
            "12/18 [===================>..........] - ETA: 0s - loss: 112.0280\n",
            "Epoch 83: val_loss did not improve from 607.85095\n",
            "18/18 [==============================] - 0s 7ms/step - loss: 113.3599 - val_loss: 628.8181\n",
            "Epoch 84/100\n",
            "13/18 [====================>.........] - ETA: 0s - loss: 109.9148\n",
            "Epoch 84: val_loss did not improve from 607.85095\n",
            "18/18 [==============================] - 0s 6ms/step - loss: 114.4113 - val_loss: 628.5579\n",
            "Epoch 85/100\n",
            "12/18 [===================>..........] - ETA: 0s - loss: 110.2638\n",
            "Epoch 85: val_loss did not improve from 607.85095\n",
            "18/18 [==============================] - 0s 8ms/step - loss: 114.8363 - val_loss: 634.7715\n",
            "Epoch 86/100\n",
            "12/18 [===================>..........] - ETA: 0s - loss: 110.6726\n",
            "Epoch 86: val_loss did not improve from 607.85095\n",
            "18/18 [==============================] - 0s 6ms/step - loss: 115.5462 - val_loss: 613.5223\n",
            "Epoch 87/100\n",
            "12/18 [===================>..........] - ETA: 0s - loss: 115.3621\n",
            "Epoch 87: val_loss improved from 607.85095 to 604.76031, saving model to model_experiment/model_5_LSTM\n",
            "18/18 [==============================] - 2s 100ms/step - loss: 112.5059 - val_loss: 604.7603\n",
            "Epoch 88/100\n",
            "12/18 [===================>..........] - ETA: 0s - loss: 115.3784\n",
            "Epoch 88: val_loss improved from 604.76031 to 601.57477, saving model to model_experiment/model_5_LSTM\n",
            "18/18 [==============================] - 2s 107ms/step - loss: 111.7706 - val_loss: 601.5748\n",
            "Epoch 89/100\n",
            "12/18 [===================>..........] - ETA: 0s - loss: 105.8298\n",
            "Epoch 89: val_loss did not improve from 601.57477\n",
            "18/18 [==============================] - 0s 6ms/step - loss: 111.8470 - val_loss: 624.0131\n",
            "Epoch 90/100\n",
            "12/18 [===================>..........] - ETA: 0s - loss: 112.1441\n",
            "Epoch 90: val_loss did not improve from 601.57477\n",
            "18/18 [==============================] - 0s 7ms/step - loss: 115.6354 - val_loss: 662.9452\n",
            "Epoch 91/100\n",
            "12/18 [===================>..........] - ETA: 0s - loss: 115.8986\n",
            "Epoch 91: val_loss did not improve from 601.57477\n",
            "18/18 [==============================] - 0s 8ms/step - loss: 116.1836 - val_loss: 636.0310\n",
            "Epoch 92/100\n",
            "12/18 [===================>..........] - ETA: 0s - loss: 113.9588\n",
            "Epoch 92: val_loss did not improve from 601.57477\n",
            "18/18 [==============================] - 0s 6ms/step - loss: 113.1700 - val_loss: 606.0366\n",
            "Epoch 93/100\n",
            "11/18 [=================>............] - ETA: 0s - loss: 113.7486\n",
            "Epoch 93: val_loss improved from 601.57477 to 599.83191, saving model to model_experiment/model_5_LSTM\n",
            "18/18 [==============================] - 2s 119ms/step - loss: 112.4748 - val_loss: 599.8319\n",
            "Epoch 94/100\n",
            "12/18 [===================>..........] - ETA: 0s - loss: 110.4666\n",
            "Epoch 94: val_loss did not improve from 599.83191\n",
            "18/18 [==============================] - 0s 7ms/step - loss: 111.2637 - val_loss: 601.3256\n",
            "Epoch 95/100\n",
            "11/18 [=================>............] - ETA: 0s - loss: 106.7242\n",
            "Epoch 95: val_loss improved from 599.83191 to 597.14850, saving model to model_experiment/model_5_LSTM\n",
            "18/18 [==============================] - 2s 104ms/step - loss: 111.0185 - val_loss: 597.1485\n",
            "Epoch 96/100\n",
            "12/18 [===================>..........] - ETA: 0s - loss: 110.7838\n",
            "Epoch 96: val_loss did not improve from 597.14850\n",
            "18/18 [==============================] - 0s 6ms/step - loss: 112.3787 - val_loss: 601.1596\n",
            "Epoch 97/100\n",
            "12/18 [===================>..........] - ETA: 0s - loss: 111.3753\n",
            "Epoch 97: val_loss did not improve from 597.14850\n",
            "18/18 [==============================] - 0s 6ms/step - loss: 111.4700 - val_loss: 626.1573\n",
            "Epoch 98/100\n",
            "12/18 [===================>..........] - ETA: 0s - loss: 113.9167\n",
            "Epoch 98: val_loss did not improve from 597.14850\n",
            "18/18 [==============================] - 0s 6ms/step - loss: 111.7326 - val_loss: 601.0142\n",
            "Epoch 99/100\n",
            " 9/18 [==============>...............] - ETA: 0s - loss: 110.0399\n",
            "Epoch 99: val_loss improved from 597.14850 to 594.60297, saving model to model_experiment/model_5_LSTM\n",
            "18/18 [==============================] - 2s 102ms/step - loss: 110.7480 - val_loss: 594.6030\n",
            "Epoch 100/100\n",
            "11/18 [=================>............] - ETA: 0s - loss: 119.8816\n",
            "Epoch 100: val_loss did not improve from 594.60297\n",
            "18/18 [==============================] - 0s 7ms/step - loss: 111.9943 - val_loss: 595.9847\n"
          ]
        },
        {
          "output_type": "execute_result",
          "data": {
            "text/plain": [
              "<keras.callbacks.History at 0x7f6ccc6a1190>"
            ]
          },
          "metadata": {},
          "execution_count": 82
        }
      ]
    },
    {
      "cell_type": "code",
      "source": [
        "# Load in best version of model 5 and evaluate on the test data\n",
        "model_5 = tf.keras.models.load_model(\"/content/model_experiment/model_5_LSTM\")\n",
        "model_5.evaluate(test_windows, test_labels)"
      ],
      "metadata": {
        "colab": {
          "base_uri": "https://localhost:8080/"
        },
        "id": "zg1Kmu6e6i27",
        "outputId": "9276701d-897a-4e6a-8796-e11849254d0d"
      },
      "execution_count": null,
      "outputs": [
        {
          "output_type": "stream",
          "name": "stderr",
          "text": [
            "WARNING:tensorflow:Layer lstm will not use cuDNN kernels since it doesn't meet the criteria. It will use a generic GPU kernel as fallback when running on GPU.\n"
          ]
        },
        {
          "output_type": "stream",
          "name": "stdout",
          "text": [
            "18/18 [==============================] - 0s 2ms/step - loss: 594.6030\n"
          ]
        },
        {
          "output_type": "execute_result",
          "data": {
            "text/plain": [
              "594.6029663085938"
            ]
          },
          "metadata": {},
          "execution_count": 83
        }
      ]
    },
    {
      "cell_type": "code",
      "source": [
        "# Make predictions with out LSTM model\n",
        "model_5_preds = make_preds(model_5, test_windows)\n",
        "model_5_preds[:5]"
      ],
      "metadata": {
        "colab": {
          "base_uri": "https://localhost:8080/"
        },
        "id": "mbW3iA8_AI4B",
        "outputId": "4d2d935c-ecd9-4340-99af-197dc9ed86f3"
      },
      "execution_count": null,
      "outputs": [
        {
          "output_type": "stream",
          "name": "stdout",
          "text": [
            "18/18 [==============================] - 0s 2ms/step\n"
          ]
        },
        {
          "output_type": "execute_result",
          "data": {
            "text/plain": [
              "<tf.Tensor: shape=(5,), dtype=float32, numpy=array([8978.46 , 8810.951, 8997.779, 8836.308, 8731.047], dtype=float32)>"
            ]
          },
          "metadata": {},
          "execution_count": 84
        }
      ]
    },
    {
      "cell_type": "code",
      "source": [
        "# Evalaute model 5 predictions\n",
        "model_5_results = evaluate_preds(y_true=tf.squeeze(test_labels),\n",
        "                                 y_pred=model_5_preds)\n",
        "model_5_results"
      ],
      "metadata": {
        "colab": {
          "base_uri": "https://localhost:8080/"
        },
        "id": "9k_lS71pAhCh",
        "outputId": "9efcd24a-0a76-4ae2-9c03-4d6c5afe43ac"
      },
      "execution_count": null,
      "outputs": [
        {
          "output_type": "execute_result",
          "data": {
            "text/plain": [
              "{'mae': 594.60297,\n",
              " 'mse': 1267231.9,\n",
              " 'rmse': 1125.7139,\n",
              " 'mape': 2.6717565,\n",
              " 'mase': 1.0445527}"
            ]
          },
          "metadata": {},
          "execution_count": 85
        }
      ]
    },
    {
      "cell_type": "code",
      "source": [
        "model_1_results"
      ],
      "metadata": {
        "colab": {
          "base_uri": "https://localhost:8080/"
        },
        "id": "V8rDsbpwA1nQ",
        "outputId": "14f77a2b-6b8a-49c3-a486-3f8d765154b1"
      },
      "execution_count": null,
      "outputs": [
        {
          "output_type": "execute_result",
          "data": {
            "text/plain": [
              "{'mae': 568.9511,\n",
              " 'mse': 1171743.8,\n",
              " 'rmse': 1082.4711,\n",
              " 'mape': 2.5448983,\n",
              " 'mase': 0.99948955}"
            ]
          },
          "metadata": {},
          "execution_count": 86
        }
      ]
    },
    {
      "cell_type": "markdown",
      "source": [
        "# Make a multivariate time series dataset\n",
        "\n",
        "Before we add feature to our time series, what is a feature we can use?\n",
        "\n",
        "One feature we could add is whether or not Abdur tweeted on that day...\n",
        "\n",
        "* day 1 - 0 \n",
        "* day 2 - 1 \n",
        "* day 3 - 0\n",
        "\n",
        "What's a better feature to use?\n",
        "\n",
        "How about the bitcoin halving event"
      ],
      "metadata": {
        "id": "qTqmDkWjA8kS"
      }
    },
    {
      "cell_type": "code",
      "source": [
        "# Let't make a multivariate time series\n",
        "bitcoin_prices.head()"
      ],
      "metadata": {
        "id": "BPyDJb-PDDbb",
        "colab": {
          "base_uri": "https://localhost:8080/",
          "height": 237
        },
        "outputId": "f4ffb927-990e-4e14-bd03-11537203d68b"
      },
      "execution_count": null,
      "outputs": [
        {
          "output_type": "execute_result",
          "data": {
            "text/plain": [
              "                Price\n",
              "Date                 \n",
              "2013-10-01  123.65499\n",
              "2013-10-02  125.45500\n",
              "2013-10-03  108.58483\n",
              "2013-10-04  118.67466\n",
              "2013-10-05  121.33866"
            ],
            "text/html": [
              "\n",
              "  <div id=\"df-4e56fef3-5303-4d98-a86c-d81769f51724\">\n",
              "    <div class=\"colab-df-container\">\n",
              "      <div>\n",
              "<style scoped>\n",
              "    .dataframe tbody tr th:only-of-type {\n",
              "        vertical-align: middle;\n",
              "    }\n",
              "\n",
              "    .dataframe tbody tr th {\n",
              "        vertical-align: top;\n",
              "    }\n",
              "\n",
              "    .dataframe thead th {\n",
              "        text-align: right;\n",
              "    }\n",
              "</style>\n",
              "<table border=\"1\" class=\"dataframe\">\n",
              "  <thead>\n",
              "    <tr style=\"text-align: right;\">\n",
              "      <th></th>\n",
              "      <th>Price</th>\n",
              "    </tr>\n",
              "    <tr>\n",
              "      <th>Date</th>\n",
              "      <th></th>\n",
              "    </tr>\n",
              "  </thead>\n",
              "  <tbody>\n",
              "    <tr>\n",
              "      <th>2013-10-01</th>\n",
              "      <td>123.65499</td>\n",
              "    </tr>\n",
              "    <tr>\n",
              "      <th>2013-10-02</th>\n",
              "      <td>125.45500</td>\n",
              "    </tr>\n",
              "    <tr>\n",
              "      <th>2013-10-03</th>\n",
              "      <td>108.58483</td>\n",
              "    </tr>\n",
              "    <tr>\n",
              "      <th>2013-10-04</th>\n",
              "      <td>118.67466</td>\n",
              "    </tr>\n",
              "    <tr>\n",
              "      <th>2013-10-05</th>\n",
              "      <td>121.33866</td>\n",
              "    </tr>\n",
              "  </tbody>\n",
              "</table>\n",
              "</div>\n",
              "      <button class=\"colab-df-convert\" onclick=\"convertToInteractive('df-4e56fef3-5303-4d98-a86c-d81769f51724')\"\n",
              "              title=\"Convert this dataframe to an interactive table.\"\n",
              "              style=\"display:none;\">\n",
              "        \n",
              "  <svg xmlns=\"http://www.w3.org/2000/svg\" height=\"24px\"viewBox=\"0 0 24 24\"\n",
              "       width=\"24px\">\n",
              "    <path d=\"M0 0h24v24H0V0z\" fill=\"none\"/>\n",
              "    <path d=\"M18.56 5.44l.94 2.06.94-2.06 2.06-.94-2.06-.94-.94-2.06-.94 2.06-2.06.94zm-11 1L8.5 8.5l.94-2.06 2.06-.94-2.06-.94L8.5 2.5l-.94 2.06-2.06.94zm10 10l.94 2.06.94-2.06 2.06-.94-2.06-.94-.94-2.06-.94 2.06-2.06.94z\"/><path d=\"M17.41 7.96l-1.37-1.37c-.4-.4-.92-.59-1.43-.59-.52 0-1.04.2-1.43.59L10.3 9.45l-7.72 7.72c-.78.78-.78 2.05 0 2.83L4 21.41c.39.39.9.59 1.41.59.51 0 1.02-.2 1.41-.59l7.78-7.78 2.81-2.81c.8-.78.8-2.07 0-2.86zM5.41 20L4 18.59l7.72-7.72 1.47 1.35L5.41 20z\"/>\n",
              "  </svg>\n",
              "      </button>\n",
              "      \n",
              "  <style>\n",
              "    .colab-df-container {\n",
              "      display:flex;\n",
              "      flex-wrap:wrap;\n",
              "      gap: 12px;\n",
              "    }\n",
              "\n",
              "    .colab-df-convert {\n",
              "      background-color: #E8F0FE;\n",
              "      border: none;\n",
              "      border-radius: 50%;\n",
              "      cursor: pointer;\n",
              "      display: none;\n",
              "      fill: #1967D2;\n",
              "      height: 32px;\n",
              "      padding: 0 0 0 0;\n",
              "      width: 32px;\n",
              "    }\n",
              "\n",
              "    .colab-df-convert:hover {\n",
              "      background-color: #E2EBFA;\n",
              "      box-shadow: 0px 1px 2px rgba(60, 64, 67, 0.3), 0px 1px 3px 1px rgba(60, 64, 67, 0.15);\n",
              "      fill: #174EA6;\n",
              "    }\n",
              "\n",
              "    [theme=dark] .colab-df-convert {\n",
              "      background-color: #3B4455;\n",
              "      fill: #D2E3FC;\n",
              "    }\n",
              "\n",
              "    [theme=dark] .colab-df-convert:hover {\n",
              "      background-color: #434B5C;\n",
              "      box-shadow: 0px 1px 3px 1px rgba(0, 0, 0, 0.15);\n",
              "      filter: drop-shadow(0px 1px 2px rgba(0, 0, 0, 0.3));\n",
              "      fill: #FFFFFF;\n",
              "    }\n",
              "  </style>\n",
              "\n",
              "      <script>\n",
              "        const buttonEl =\n",
              "          document.querySelector('#df-4e56fef3-5303-4d98-a86c-d81769f51724 button.colab-df-convert');\n",
              "        buttonEl.style.display =\n",
              "          google.colab.kernel.accessAllowed ? 'block' : 'none';\n",
              "\n",
              "        async function convertToInteractive(key) {\n",
              "          const element = document.querySelector('#df-4e56fef3-5303-4d98-a86c-d81769f51724');\n",
              "          const dataTable =\n",
              "            await google.colab.kernel.invokeFunction('convertToInteractive',\n",
              "                                                     [key], {});\n",
              "          if (!dataTable) return;\n",
              "\n",
              "          const docLinkHtml = 'Like what you see? Visit the ' +\n",
              "            '<a target=\"_blank\" href=https://colab.research.google.com/notebooks/data_table.ipynb>data table notebook</a>'\n",
              "            + ' to learn more about interactive tables.';\n",
              "          element.innerHTML = '';\n",
              "          dataTable['output_type'] = 'display_data';\n",
              "          await google.colab.output.renderOutput(dataTable, element);\n",
              "          const docLink = document.createElement('div');\n",
              "          docLink.innerHTML = docLinkHtml;\n",
              "          element.appendChild(docLink);\n",
              "        }\n",
              "      </script>\n",
              "    </div>\n",
              "  </div>\n",
              "  "
            ]
          },
          "metadata": {},
          "execution_count": 87
        }
      ]
    },
    {
      "cell_type": "code",
      "source": [
        "# Let's add the bitcoin halving events to our datasets\n",
        "block_reward_1 = 50 # January 2009 - this block reward isn't in our dataset ()"
      ],
      "metadata": {
        "id": "lcSYPxTcbysw"
      },
      "execution_count": null,
      "outputs": []
    },
    {
      "cell_type": "markdown",
      "source": [
        "36 4:17"
      ],
      "metadata": {
        "id": "wP21chNOcabr"
      }
    },
    {
      "cell_type": "code",
      "source": [],
      "metadata": {
        "id": "KE_3A8VCcdtx"
      },
      "execution_count": null,
      "outputs": []
    }
  ]
}